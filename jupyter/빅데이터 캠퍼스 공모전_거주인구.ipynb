{
 "cells": [
  {
   "cell_type": "markdown",
   "metadata": {},
   "source": [
    "# 지진해일대피소 현황 분석 및 개선 방안 제시"
   ]
  },
  {
   "cell_type": "code",
   "execution_count": 80,
   "metadata": {
    "scrolled": true
   },
   "outputs": [],
   "source": [
    "import pandas as pd \n",
    "import folium \n",
    "import matplotlib\n",
    "import matplotlib.pyplot as plt\n",
    "import pylab\n",
    "import numpy as np\n",
    "\n",
    "#설치 안된거는 설치해주세요"
   ]
  },
  {
   "cell_type": "code",
   "execution_count": 81,
   "metadata": {},
   "outputs": [
    {
     "data": {
      "text/plain": [
       "['AppleGothic']"
      ]
     },
     "execution_count": 81,
     "metadata": {},
     "output_type": "execute_result"
    }
   ],
   "source": [
    "# 파이그래프에서 한국어 나오게 하는 코드 \n",
    "\n",
    "import matplotlib.font_manager as fm\n",
    "\n",
    "for font in fm.fontManager.ttflist:\n",
    "    if font.name in ['AppleGothic', 'Malgun Gothic']:\n",
    "        plt.rcParams['font.family'] = font.name\n",
    "        break\n",
    "\n",
    "plt.rcParams['font.family']"
   ]
  },
  {
   "cell_type": "markdown",
   "metadata": {},
   "source": [
    "# 선택한  데이터 \n",
    "- 전국지진해일대피소표준데이터\n",
    "    - 통합, 광명시 \n",
    "- KOSIS 행정구역(시군구)별 인구 통계 데이터 "
   ]
  },
  {
   "cell_type": "markdown",
   "metadata": {},
   "source": [
    "# EDA"
   ]
  },
  {
   "cell_type": "markdown",
   "metadata": {},
   "source": [
    "## 서울특별시, 인천광역시, 경기도 데이터만 추출\n",
    "### 특이사항\n",
    "- 소재지도로명주소와 소재지지번주소 둘 중 하나만 기입되어 도로명 주소 결측치는 소재지지번주소 컬럼에서 가져옴\n",
    "- 경기도 광명시 데이터가 몇일 전에 올라와서 따로 다운받아 전국 통합본에 합침\n",
    "\n",
    "### 과정\n",
    "1. 주소를 string type으로 변환\n",
    "2. 띄어쓰기를 기준으로 첫번째 덩어리 ('서울특별시', '인천광역시', '경기도' 등등)만 'area' 컬럼으로 저장 \n",
    "3. area가 '서울특별시', '인천광역시', '경기도'인건만 새로운 테이블(shelter_GG)로 저장 "
   ]
  },
  {
   "cell_type": "code",
   "execution_count": 82,
   "metadata": {},
   "outputs": [
    {
     "ename": "FileNotFoundError",
     "evalue": "[Errno 2] File b'\\xed\\x86\\xb5\\xed\\x95\\xa9\\xeb\\xb3\\xb8(1015\\xea\\xb8\\xb0\\xec\\xa4\\x80).csv' does not exist: b'\\xed\\x86\\xb5\\xed\\x95\\xa9\\xeb\\xb3\\xb8(1015\\xea\\xb8\\xb0\\xec\\xa4\\x80).csv'",
     "output_type": "error",
     "traceback": [
      "\u001b[0;31m---------------------------------------------------------------------------\u001b[0m",
      "\u001b[0;31mFileNotFoundError\u001b[0m                         Traceback (most recent call last)",
      "\u001b[0;32m<ipython-input-82-835569049121>\u001b[0m in \u001b[0;36m<module>\u001b[0;34m\u001b[0m\n\u001b[0;32m----> 1\u001b[0;31m \u001b[0mshelter_original\u001b[0m \u001b[0;34m=\u001b[0m \u001b[0mpd\u001b[0m\u001b[0;34m.\u001b[0m\u001b[0mread_csv\u001b[0m\u001b[0;34m(\u001b[0m\u001b[0;34m'통합본(1015기준).csv'\u001b[0m\u001b[0;34m)\u001b[0m\u001b[0;34m\u001b[0m\u001b[0;34m\u001b[0m\u001b[0m\n\u001b[0m",
      "\u001b[0;32m/usr/local/lib/python3.7/site-packages/pandas/io/parsers.py\u001b[0m in \u001b[0;36mparser_f\u001b[0;34m(filepath_or_buffer, sep, delimiter, header, names, index_col, usecols, squeeze, prefix, mangle_dupe_cols, dtype, engine, converters, true_values, false_values, skipinitialspace, skiprows, skipfooter, nrows, na_values, keep_default_na, na_filter, verbose, skip_blank_lines, parse_dates, infer_datetime_format, keep_date_col, date_parser, dayfirst, cache_dates, iterator, chunksize, compression, thousands, decimal, lineterminator, quotechar, quoting, doublequote, escapechar, comment, encoding, dialect, error_bad_lines, warn_bad_lines, delim_whitespace, low_memory, memory_map, float_precision)\u001b[0m\n\u001b[1;32m    683\u001b[0m         )\n\u001b[1;32m    684\u001b[0m \u001b[0;34m\u001b[0m\u001b[0m\n\u001b[0;32m--> 685\u001b[0;31m         \u001b[0;32mreturn\u001b[0m \u001b[0m_read\u001b[0m\u001b[0;34m(\u001b[0m\u001b[0mfilepath_or_buffer\u001b[0m\u001b[0;34m,\u001b[0m \u001b[0mkwds\u001b[0m\u001b[0;34m)\u001b[0m\u001b[0;34m\u001b[0m\u001b[0;34m\u001b[0m\u001b[0m\n\u001b[0m\u001b[1;32m    686\u001b[0m \u001b[0;34m\u001b[0m\u001b[0m\n\u001b[1;32m    687\u001b[0m     \u001b[0mparser_f\u001b[0m\u001b[0;34m.\u001b[0m\u001b[0m__name__\u001b[0m \u001b[0;34m=\u001b[0m \u001b[0mname\u001b[0m\u001b[0;34m\u001b[0m\u001b[0;34m\u001b[0m\u001b[0m\n",
      "\u001b[0;32m/usr/local/lib/python3.7/site-packages/pandas/io/parsers.py\u001b[0m in \u001b[0;36m_read\u001b[0;34m(filepath_or_buffer, kwds)\u001b[0m\n\u001b[1;32m    455\u001b[0m \u001b[0;34m\u001b[0m\u001b[0m\n\u001b[1;32m    456\u001b[0m     \u001b[0;31m# Create the parser.\u001b[0m\u001b[0;34m\u001b[0m\u001b[0;34m\u001b[0m\u001b[0;34m\u001b[0m\u001b[0m\n\u001b[0;32m--> 457\u001b[0;31m     \u001b[0mparser\u001b[0m \u001b[0;34m=\u001b[0m \u001b[0mTextFileReader\u001b[0m\u001b[0;34m(\u001b[0m\u001b[0mfp_or_buf\u001b[0m\u001b[0;34m,\u001b[0m \u001b[0;34m**\u001b[0m\u001b[0mkwds\u001b[0m\u001b[0;34m)\u001b[0m\u001b[0;34m\u001b[0m\u001b[0;34m\u001b[0m\u001b[0m\n\u001b[0m\u001b[1;32m    458\u001b[0m \u001b[0;34m\u001b[0m\u001b[0m\n\u001b[1;32m    459\u001b[0m     \u001b[0;32mif\u001b[0m \u001b[0mchunksize\u001b[0m \u001b[0;32mor\u001b[0m \u001b[0miterator\u001b[0m\u001b[0;34m:\u001b[0m\u001b[0;34m\u001b[0m\u001b[0;34m\u001b[0m\u001b[0m\n",
      "\u001b[0;32m/usr/local/lib/python3.7/site-packages/pandas/io/parsers.py\u001b[0m in \u001b[0;36m__init__\u001b[0;34m(self, f, engine, **kwds)\u001b[0m\n\u001b[1;32m    893\u001b[0m             \u001b[0mself\u001b[0m\u001b[0;34m.\u001b[0m\u001b[0moptions\u001b[0m\u001b[0;34m[\u001b[0m\u001b[0;34m\"has_index_names\"\u001b[0m\u001b[0;34m]\u001b[0m \u001b[0;34m=\u001b[0m \u001b[0mkwds\u001b[0m\u001b[0;34m[\u001b[0m\u001b[0;34m\"has_index_names\"\u001b[0m\u001b[0;34m]\u001b[0m\u001b[0;34m\u001b[0m\u001b[0;34m\u001b[0m\u001b[0m\n\u001b[1;32m    894\u001b[0m \u001b[0;34m\u001b[0m\u001b[0m\n\u001b[0;32m--> 895\u001b[0;31m         \u001b[0mself\u001b[0m\u001b[0;34m.\u001b[0m\u001b[0m_make_engine\u001b[0m\u001b[0;34m(\u001b[0m\u001b[0mself\u001b[0m\u001b[0;34m.\u001b[0m\u001b[0mengine\u001b[0m\u001b[0;34m)\u001b[0m\u001b[0;34m\u001b[0m\u001b[0;34m\u001b[0m\u001b[0m\n\u001b[0m\u001b[1;32m    896\u001b[0m \u001b[0;34m\u001b[0m\u001b[0m\n\u001b[1;32m    897\u001b[0m     \u001b[0;32mdef\u001b[0m \u001b[0mclose\u001b[0m\u001b[0;34m(\u001b[0m\u001b[0mself\u001b[0m\u001b[0;34m)\u001b[0m\u001b[0;34m:\u001b[0m\u001b[0;34m\u001b[0m\u001b[0;34m\u001b[0m\u001b[0m\n",
      "\u001b[0;32m/usr/local/lib/python3.7/site-packages/pandas/io/parsers.py\u001b[0m in \u001b[0;36m_make_engine\u001b[0;34m(self, engine)\u001b[0m\n\u001b[1;32m   1133\u001b[0m     \u001b[0;32mdef\u001b[0m \u001b[0m_make_engine\u001b[0m\u001b[0;34m(\u001b[0m\u001b[0mself\u001b[0m\u001b[0;34m,\u001b[0m \u001b[0mengine\u001b[0m\u001b[0;34m=\u001b[0m\u001b[0;34m\"c\"\u001b[0m\u001b[0;34m)\u001b[0m\u001b[0;34m:\u001b[0m\u001b[0;34m\u001b[0m\u001b[0;34m\u001b[0m\u001b[0m\n\u001b[1;32m   1134\u001b[0m         \u001b[0;32mif\u001b[0m \u001b[0mengine\u001b[0m \u001b[0;34m==\u001b[0m \u001b[0;34m\"c\"\u001b[0m\u001b[0;34m:\u001b[0m\u001b[0;34m\u001b[0m\u001b[0;34m\u001b[0m\u001b[0m\n\u001b[0;32m-> 1135\u001b[0;31m             \u001b[0mself\u001b[0m\u001b[0;34m.\u001b[0m\u001b[0m_engine\u001b[0m \u001b[0;34m=\u001b[0m \u001b[0mCParserWrapper\u001b[0m\u001b[0;34m(\u001b[0m\u001b[0mself\u001b[0m\u001b[0;34m.\u001b[0m\u001b[0mf\u001b[0m\u001b[0;34m,\u001b[0m \u001b[0;34m**\u001b[0m\u001b[0mself\u001b[0m\u001b[0;34m.\u001b[0m\u001b[0moptions\u001b[0m\u001b[0;34m)\u001b[0m\u001b[0;34m\u001b[0m\u001b[0;34m\u001b[0m\u001b[0m\n\u001b[0m\u001b[1;32m   1136\u001b[0m         \u001b[0;32melse\u001b[0m\u001b[0;34m:\u001b[0m\u001b[0;34m\u001b[0m\u001b[0;34m\u001b[0m\u001b[0m\n\u001b[1;32m   1137\u001b[0m             \u001b[0;32mif\u001b[0m \u001b[0mengine\u001b[0m \u001b[0;34m==\u001b[0m \u001b[0;34m\"python\"\u001b[0m\u001b[0;34m:\u001b[0m\u001b[0;34m\u001b[0m\u001b[0;34m\u001b[0m\u001b[0m\n",
      "\u001b[0;32m/usr/local/lib/python3.7/site-packages/pandas/io/parsers.py\u001b[0m in \u001b[0;36m__init__\u001b[0;34m(self, src, **kwds)\u001b[0m\n\u001b[1;32m   1904\u001b[0m         \u001b[0mkwds\u001b[0m\u001b[0;34m[\u001b[0m\u001b[0;34m\"usecols\"\u001b[0m\u001b[0;34m]\u001b[0m \u001b[0;34m=\u001b[0m \u001b[0mself\u001b[0m\u001b[0;34m.\u001b[0m\u001b[0musecols\u001b[0m\u001b[0;34m\u001b[0m\u001b[0;34m\u001b[0m\u001b[0m\n\u001b[1;32m   1905\u001b[0m \u001b[0;34m\u001b[0m\u001b[0m\n\u001b[0;32m-> 1906\u001b[0;31m         \u001b[0mself\u001b[0m\u001b[0;34m.\u001b[0m\u001b[0m_reader\u001b[0m \u001b[0;34m=\u001b[0m \u001b[0mparsers\u001b[0m\u001b[0;34m.\u001b[0m\u001b[0mTextReader\u001b[0m\u001b[0;34m(\u001b[0m\u001b[0msrc\u001b[0m\u001b[0;34m,\u001b[0m \u001b[0;34m**\u001b[0m\u001b[0mkwds\u001b[0m\u001b[0;34m)\u001b[0m\u001b[0;34m\u001b[0m\u001b[0;34m\u001b[0m\u001b[0m\n\u001b[0m\u001b[1;32m   1907\u001b[0m         \u001b[0mself\u001b[0m\u001b[0;34m.\u001b[0m\u001b[0munnamed_cols\u001b[0m \u001b[0;34m=\u001b[0m \u001b[0mself\u001b[0m\u001b[0;34m.\u001b[0m\u001b[0m_reader\u001b[0m\u001b[0;34m.\u001b[0m\u001b[0munnamed_cols\u001b[0m\u001b[0;34m\u001b[0m\u001b[0;34m\u001b[0m\u001b[0m\n\u001b[1;32m   1908\u001b[0m \u001b[0;34m\u001b[0m\u001b[0m\n",
      "\u001b[0;32mpandas/_libs/parsers.pyx\u001b[0m in \u001b[0;36mpandas._libs.parsers.TextReader.__cinit__\u001b[0;34m()\u001b[0m\n",
      "\u001b[0;32mpandas/_libs/parsers.pyx\u001b[0m in \u001b[0;36mpandas._libs.parsers.TextReader._setup_parser_source\u001b[0;34m()\u001b[0m\n",
      "\u001b[0;31mFileNotFoundError\u001b[0m: [Errno 2] File b'\\xed\\x86\\xb5\\xed\\x95\\xa9\\xeb\\xb3\\xb8(1015\\xea\\xb8\\xb0\\xec\\xa4\\x80).csv' does not exist: b'\\xed\\x86\\xb5\\xed\\x95\\xa9\\xeb\\xb3\\xb8(1015\\xea\\xb8\\xb0\\xec\\xa4\\x80).csv'"
     ]
    }
   ],
   "source": [
    "shelter_original = pd.read_csv('통합본(1015기준).csv')"
   ]
  },
  {
   "cell_type": "code",
   "execution_count": null,
   "metadata": {},
   "outputs": [],
   "source": [
    "len(shelter_original)"
   ]
  },
  {
   "cell_type": "code",
   "execution_count": null,
   "metadata": {},
   "outputs": [],
   "source": [
    "shelter_original.columns"
   ]
  },
  {
   "cell_type": "code",
   "execution_count": null,
   "metadata": {},
   "outputs": [],
   "source": [
    "out = pd.read_csv('서울특별시 지진해일대피소 정보_20180806.csv', encoding = 'CP949')"
   ]
  },
  {
   "cell_type": "code",
   "execution_count": null,
   "metadata": {},
   "outputs": [],
   "source": [
    "addition = out[(out['관리기관명'] == '용산구')|(out['관리기관명'] == '성동구')|(out['관리기관명'] == '도봉구')|(out['관리기관명'] == '마포구')|(out['관리기관명'] == '구로구')|(out['관리기관명'] == '강동구')|(out['관리기관명'] == '강북구')]"
   ]
  },
  {
   "cell_type": "code",
   "execution_count": null,
   "metadata": {},
   "outputs": [],
   "source": [
    "addition.지진해일대피소유형.unique()"
   ]
  },
  {
   "cell_type": "code",
   "execution_count": null,
   "metadata": {},
   "outputs": [],
   "source": [
    "shelter_original.지진해일대피소유형.unique()"
   ]
  },
  {
   "cell_type": "code",
   "execution_count": null,
   "metadata": {},
   "outputs": [],
   "source": [
    "addition['area'] = '서울특별시'"
   ]
  },
  {
   "cell_type": "code",
   "execution_count": null,
   "metadata": {},
   "outputs": [],
   "source": [
    "addition['area']"
   ]
  },
  {
   "cell_type": "code",
   "execution_count": null,
   "metadata": {},
   "outputs": [],
   "source": [
    "len(addition)"
   ]
  },
  {
   "cell_type": "code",
   "execution_count": null,
   "metadata": {},
   "outputs": [],
   "source": [
    "addition.isnull().sum()"
   ]
  },
  {
   "cell_type": "code",
   "execution_count": null,
   "metadata": {},
   "outputs": [],
   "source": [
    "addition['제공기관명'] = '서울특별시' + ' ' + addition.관리기관명"
   ]
  },
  {
   "cell_type": "code",
   "execution_count": null,
   "metadata": {},
   "outputs": [],
   "source": [
    "addition = addition.reset_index(drop= True)"
   ]
  },
  {
   "cell_type": "markdown",
   "metadata": {},
   "source": [
    "최대수용인원수가 이상하게 기입된게 있어서 비슷한 수용가능면적을 가진 대피소의 최대수용인원수 평균내 결측치 해결"
   ]
  },
  {
   "cell_type": "code",
   "execution_count": null,
   "metadata": {
    "scrolled": false
   },
   "outputs": [],
   "source": [
    "addition.iloc[220, 9] = shelter_original[(shelter_original['수용가능면적'] < 7000)&(shelter_original['수용가능면적'] >= 6000)]['최대수용인원수'].mean()"
   ]
  },
  {
   "cell_type": "code",
   "execution_count": null,
   "metadata": {},
   "outputs": [],
   "source": [
    "addition.iloc[81, 9] = shelter_original[(shelter_original['수용가능면적'] < 3000)&(shelter_original['수용가능면적'] >= 2000)]['최대수용인원수'].mean()"
   ]
  },
  {
   "cell_type": "code",
   "execution_count": null,
   "metadata": {},
   "outputs": [],
   "source": [
    "addition.iloc[259, 9] = shelter_original[(shelter_original['수용가능면적'] < 13000)&(shelter_original['수용가능면적'] >= 12000)]['최대수용인원수'].mean()"
   ]
  },
  {
   "cell_type": "code",
   "execution_count": null,
   "metadata": {},
   "outputs": [],
   "source": [
    "addition.iloc[287, 9] = shelter_original[(shelter_original['수용가능면적'] < 3000)&(shelter_original['수용가능면적'] >= 2000)]['최대수용인원수'].mean()"
   ]
  },
  {
   "cell_type": "code",
   "execution_count": null,
   "metadata": {},
   "outputs": [],
   "source": [
    "addition['최대수용인원수'] = addition['최대수용인원수'].astype(float)"
   ]
  },
  {
   "cell_type": "code",
   "execution_count": null,
   "metadata": {
    "scrolled": false
   },
   "outputs": [],
   "source": [
    "# len(shelter)"
   ]
  },
  {
   "cell_type": "code",
   "execution_count": null,
   "metadata": {},
   "outputs": [],
   "source": [
    "# kwangmyung = pd.read_csv('경기도_광명시_지진해일대피소_20190909.csv', encoding = \"CP949\")"
   ]
  },
  {
   "cell_type": "code",
   "execution_count": null,
   "metadata": {},
   "outputs": [],
   "source": [
    "# len(kwangmyung)"
   ]
  },
  {
   "cell_type": "code",
   "execution_count": null,
   "metadata": {},
   "outputs": [],
   "source": [
    "# pd.DataFrame(kwangmyung.isnull().sum())"
   ]
  },
  {
   "cell_type": "code",
   "execution_count": null,
   "metadata": {},
   "outputs": [],
   "source": [
    "# kwangmyung['제공기관명'] = '경기도 광명시'"
   ]
  },
  {
   "cell_type": "code",
   "execution_count": null,
   "metadata": {},
   "outputs": [],
   "source": [
    "# dongdaemoon = pd.read_csv('dongdaemoon.csv') # 동대문구 위도, 경도 결측치 채워서 만든 csv"
   ]
  },
  {
   "cell_type": "code",
   "execution_count": null,
   "metadata": {},
   "outputs": [],
   "source": [
    "# dongdaemoon = pd.read_csv('서울특별시_동대문구_지진해일대피소_20190930.csv', encoding = \"CP949\")"
   ]
  },
  {
   "cell_type": "code",
   "execution_count": null,
   "metadata": {
    "scrolled": true
   },
   "outputs": [],
   "source": [
    "# pd.DataFrame(dongdaemoon.isnull().sum())"
   ]
  },
  {
   "cell_type": "code",
   "execution_count": null,
   "metadata": {},
   "outputs": [],
   "source": [
    "# dongdaemoon['제공기관명'] = '서울특별시 동대문구'"
   ]
  },
  {
   "cell_type": "code",
   "execution_count": null,
   "metadata": {},
   "outputs": [],
   "source": [
    "# from geocoder import geocode"
   ]
  },
  {
   "cell_type": "code",
   "execution_count": null,
   "metadata": {},
   "outputs": [],
   "source": [
    "# lats = []\n",
    "# lngs = []\n",
    "\n",
    "# for i, index in enumerate(dongdaemoon.index):\n",
    "#     print(i + 1, '-', index)\n",
    "#     lat, lng = geocode(dongdaemoon['소재지도로명주소'][index])\n",
    "#     lats.append(lat)\n",
    "#     lngs.append(lng)\n",
    "\n",
    "# dongdaemoon = dongdaemoon.assign(위도=lats, 경도=lngs)\n",
    "\n",
    "# dongdaemoon.head()"
   ]
  },
  {
   "cell_type": "code",
   "execution_count": null,
   "metadata": {
    "scrolled": false
   },
   "outputs": [],
   "source": [
    "# dongdaemoon.loc[0, 6:8] = ['37.5760811', '127.0289663']"
   ]
  },
  {
   "cell_type": "code",
   "execution_count": null,
   "metadata": {},
   "outputs": [],
   "source": [
    "# dongdaemoon.loc[20, 6:8] = ['37.574318', '127.0422342']"
   ]
  },
  {
   "cell_type": "code",
   "execution_count": null,
   "metadata": {},
   "outputs": [],
   "source": [
    "# dongdaemoon.to_csv('dongdaemoon.csv')"
   ]
  },
  {
   "cell_type": "code",
   "execution_count": null,
   "metadata": {},
   "outputs": [],
   "source": [
    "# sungbuk = pd.read_csv('서울특별시_성북구_지진해일대피소_20190612.csv', encoding = \"CP949\")"
   ]
  },
  {
   "cell_type": "code",
   "execution_count": null,
   "metadata": {
    "scrolled": true
   },
   "outputs": [],
   "source": [
    "# pd.DataFrame(sungbuk.isnull().sum())"
   ]
  },
  {
   "cell_type": "code",
   "execution_count": null,
   "metadata": {},
   "outputs": [],
   "source": [
    "# sungbuk['제공기관명'] = '서울특별시 성북구'"
   ]
  },
  {
   "cell_type": "code",
   "execution_count": null,
   "metadata": {},
   "outputs": [],
   "source": [
    "# shelter = pd.concat([shelter, kwangmyung, dongdaemoon, sungbuk], ignore_index = True, sort = False)"
   ]
  },
  {
   "cell_type": "code",
   "execution_count": null,
   "metadata": {},
   "outputs": [],
   "source": [
    "# shelter.to_csv('통합본(1015기준).csv') "
   ]
  },
  {
   "cell_type": "code",
   "execution_count": null,
   "metadata": {},
   "outputs": [],
   "source": [
    "shelter_original_seoul = shelter_original[shelter_original['area'] == '서울특별시']"
   ]
  },
  {
   "cell_type": "code",
   "execution_count": null,
   "metadata": {},
   "outputs": [],
   "source": [
    "shelter = pd.concat([shelter_original_seoul, addition], ignore_index = True, sort = False)"
   ]
  },
  {
   "cell_type": "code",
   "execution_count": null,
   "metadata": {
    "scrolled": true
   },
   "outputs": [],
   "source": [
    "len(shelter)"
   ]
  },
  {
   "cell_type": "code",
   "execution_count": null,
   "metadata": {
    "scrolled": true
   },
   "outputs": [],
   "source": [
    "shelter.columns"
   ]
  },
  {
   "cell_type": "markdown",
   "metadata": {},
   "source": [
    "# 위도 경도 결측치 채우기 \n",
    " \n",
    "1. 위도, 경도 결측치인 행만 빼서 하나의 테이블(nulls)로 저장 \n",
    "    - 정해진 API이용횟수 때문\n",
    "2. KAKAO API와 LOCATIONIQ API 활용해서 위도 경도 찾음 \n",
    "3. 두 API로도 안나온 주소지는 손수 찾아서 채움 \n",
    "4. 본래 통합본에 결측치 테이블(nulls) LEFT JOIN해서 최종 테이블(shelter_G)로 저장\n",
    "5. 위도, 경도 결측치 남은 것 없는지 확인"
   ]
  },
  {
   "cell_type": "code",
   "execution_count": null,
   "metadata": {},
   "outputs": [],
   "source": [
    "shelter.isnull().sum()"
   ]
  },
  {
   "cell_type": "code",
   "execution_count": null,
   "metadata": {},
   "outputs": [],
   "source": [
    "shelter.head()"
   ]
  },
  {
   "cell_type": "code",
   "execution_count": null,
   "metadata": {},
   "outputs": [],
   "source": [
    "shelter.area.unique()"
   ]
  },
  {
   "cell_type": "code",
   "execution_count": null,
   "metadata": {},
   "outputs": [],
   "source": [
    "seoul = shelter[shelter['area']=='서울특별시']"
   ]
  },
  {
   "cell_type": "code",
   "execution_count": null,
   "metadata": {},
   "outputs": [],
   "source": [
    "seoul.area.unique()"
   ]
  },
  {
   "cell_type": "code",
   "execution_count": null,
   "metadata": {},
   "outputs": [],
   "source": [
    "len(seoul)"
   ]
  },
  {
   "cell_type": "code",
   "execution_count": null,
   "metadata": {},
   "outputs": [],
   "source": [
    "# 컬럼별 null값 찾기\n",
    "data = seoul.isnull().sum()\n",
    "pd.DataFrame(data)"
   ]
  },
  {
   "cell_type": "code",
   "execution_count": null,
   "metadata": {},
   "outputs": [],
   "source": [
    "# nulls = shelter_GG[shelter_GG['위도'].isnull()]"
   ]
  },
  {
   "cell_type": "code",
   "execution_count": null,
   "metadata": {},
   "outputs": [],
   "source": [
    "# d= {'a': '백제고분로39길'}\n",
    "# test = pd.DataFrame(list(d.items()), columns=['alphabet', 'address'])\n",
    "# test"
   ]
  },
  {
   "cell_type": "code",
   "execution_count": null,
   "metadata": {},
   "outputs": [],
   "source": [
    "# test.index"
   ]
  },
  {
   "cell_type": "code",
   "execution_count": null,
   "metadata": {
    "scrolled": true
   },
   "outputs": [],
   "source": [
    "# from geocoder import geocode"
   ]
  },
  {
   "cell_type": "code",
   "execution_count": null,
   "metadata": {},
   "outputs": [],
   "source": [
    "# from geocoder import geocode\n",
    "\n",
    "# full_ad = []\n",
    "\n",
    "# for i, index in enumerate(test.index):\n",
    "#     print(i + 1, '-', index)\n",
    "#     address_name = geocode(test['address'][index])\n",
    "#     full_ad.append(address_name)\n",
    "    \n",
    "# test = test.assign(full=full_ad)"
   ]
  },
  {
   "cell_type": "code",
   "execution_count": null,
   "metadata": {
    "scrolled": true
   },
   "outputs": [],
   "source": [
    "# lats = []\n",
    "# lngs = []\n",
    "\n",
    "# for i, index in enumerate(nulls.index):\n",
    "#     print(i + 1, '-', index)\n",
    "#     lat, lng = geocode(nulls['소재지도로명주소'][index])\n",
    "#     lats.append(lat)\n",
    "#     lngs.append(lng)\n",
    "\n",
    "# nulls = nulls.assign(lat=lats, lng=lngs)\n",
    "\n",
    "# nulls.head()\n",
    "\n"
   ]
  },
  {
   "cell_type": "code",
   "execution_count": null,
   "metadata": {},
   "outputs": [],
   "source": [
    "# nulls.to_csv('nulls.csv')"
   ]
  },
  {
   "cell_type": "code",
   "execution_count": null,
   "metadata": {},
   "outputs": [],
   "source": [
    "# import os\n",
    "# import requests"
   ]
  },
  {
   "cell_type": "code",
   "execution_count": null,
   "metadata": {},
   "outputs": [],
   "source": [
    "# LOCATIONIQ_TOKEN = os.environ['LOCATIONIQ_TOKEN']"
   ]
  },
  {
   "cell_type": "code",
   "execution_count": null,
   "metadata": {},
   "outputs": [],
   "source": [
    "# def gc(address):\n",
    "#     url = 'https://us1.locationiq.com/v1/search.php'\n",
    "#     payload = {\n",
    "#         'key': LOCATIONIQ_TOKEN,\n",
    "#         'q': address,\n",
    "#         'format': 'json'\n",
    "#     }\n",
    "#     response = requests.get(url, params=payload)\n",
    "#     results = response.json()\n",
    "#     if 'error' in results:\n",
    "#         return None, None\n",
    "#     coordinates = results[0]\n",
    "#     return coordinates['lat'], coordinates['lon']"
   ]
  },
  {
   "cell_type": "code",
   "execution_count": null,
   "metadata": {},
   "outputs": [],
   "source": [
    "# lats = []\n",
    "# lngs = []\n",
    "\n",
    "# for i, index in enumerate(nulls.index):\n",
    "#     print(i + 1, '-', index)\n",
    "#     lat, lng = gc(nulls['소재지도로명주소'][index])\n",
    "#     lats.append(lat or 0)\n",
    "#     lngs.append(lng or 0)\n",
    "\n",
    "# nulls = nulls.assign(위=lats, 경=lngs)\n",
    "\n",
    "# nulls.head()"
   ]
  },
  {
   "cell_type": "code",
   "execution_count": null,
   "metadata": {},
   "outputs": [],
   "source": [
    "nulls = pd.read_csv('nulls.csv')"
   ]
  },
  {
   "cell_type": "code",
   "execution_count": null,
   "metadata": {},
   "outputs": [],
   "source": [
    "nulls.head()"
   ]
  },
  {
   "cell_type": "code",
   "execution_count": null,
   "metadata": {},
   "outputs": [],
   "source": [
    "seoul = seoul.merge(nulls, how='left', on='지진해일대피소명')"
   ]
  },
  {
   "cell_type": "code",
   "execution_count": null,
   "metadata": {},
   "outputs": [],
   "source": [
    "len(seoul) #merge 잘 됐는지 확인 완료"
   ]
  },
  {
   "cell_type": "code",
   "execution_count": null,
   "metadata": {},
   "outputs": [],
   "source": [
    " #nulls 테이블에 있던 위도 경도 shelter_GG 테이블 위도 경도로 옮기기\n",
    "seoul['위도'] = seoul['위도'].fillna(seoul['위'])"
   ]
  },
  {
   "cell_type": "code",
   "execution_count": null,
   "metadata": {},
   "outputs": [],
   "source": [
    "seoul['경도'] = seoul['경도'].fillna(seoul['경'])"
   ]
  },
  {
   "cell_type": "code",
   "execution_count": null,
   "metadata": {},
   "outputs": [],
   "source": [
    "pd.DataFrame(seoul.isnull().sum()) #위도, 경도 결측치 다 채운 것 확인완료 "
   ]
  },
  {
   "cell_type": "markdown",
   "metadata": {},
   "source": [
    "# 분석 시작"
   ]
  },
  {
   "cell_type": "markdown",
   "metadata": {},
   "source": [
    "## 1. 지진해일대피소유형 분석\n",
    "- 옥외대피소 vs 실내대피소"
   ]
  },
  {
   "cell_type": "markdown",
   "metadata": {},
   "source": [
    "옥외대피소만 있는 데이터는 빼고 만든 그래프 "
   ]
  },
  {
   "cell_type": "code",
   "execution_count": null,
   "metadata": {
    "scrolled": false
   },
   "outputs": [],
   "source": [
    "shelter_original_seoul['지진해일대피소유형'].value_counts()"
   ]
  },
  {
   "cell_type": "code",
   "execution_count": 83,
   "metadata": {
    "scrolled": false
   },
   "outputs": [
    {
     "data": {
      "text/plain": [
       "Text(0, 0.5, '')"
      ]
     },
     "execution_count": 83,
     "metadata": {},
     "output_type": "execute_result"
    },
    {
     "data": {
      "image/png": "[encoded data removed]",
      "text/plain": [
       "<Figure size 360x360 with 1 Axes>"
      ]
     },
     "metadata": {},
     "output_type": "display_data"
    }
   ],
   "source": [
    "labels=['옥외대피소', '실내대피소']\n",
    "shelter_original_seoul['지진해일대피소유형'].value_counts().plot.pie(labels = labels\n",
    "                    ,colors= ['#98DBC6', '#FFCCBB']\n",
    "                    ,startangle = 60\n",
    "                    ,shadow = True\n",
    "                    ,autopct = '%1.1f%%'\n",
    "                    ,explode = (0,0.1) \n",
    "                    ,figsize=(5, 5)\n",
    "                    ,fontsize = 15)\n",
    "plt.title('서울 지진해일대피소구분', fontsize=20)\n",
    "pylab.ylabel('')"
   ]
  },
  {
   "cell_type": "markdown",
   "metadata": {},
   "source": [
    "옥외대피소만 있는 데이터 넣고 돌린 그래프"
   ]
  },
  {
   "cell_type": "code",
   "execution_count": 84,
   "metadata": {},
   "outputs": [
    {
     "data": {
      "text/plain": [
       "옥외대피소    1503\n",
       "실내대피소     338\n",
       "Name: 지진해일대피소유형, dtype: int64"
      ]
     },
     "execution_count": 84,
     "metadata": {},
     "output_type": "execute_result"
    }
   ],
   "source": [
    "shelter['지진해일대피소유형'].value_counts()"
   ]
  },
  {
   "cell_type": "code",
   "execution_count": 85,
   "metadata": {},
   "outputs": [
    {
     "data": {
      "text/plain": [
       "Text(0, 0.5, '')"
      ]
     },
     "execution_count": 85,
     "metadata": {},
     "output_type": "execute_result"
    },
    {
     "data": {
      "image/png": "[encoded data removed]",
      "text/plain": [
       "<Figure size 360x360 with 1 Axes>"
      ]
     },
     "metadata": {},
     "output_type": "display_data"
    }
   ],
   "source": [
    "labels=['옥외대피소', '실내대피소']\n",
    "shelter['지진해일대피소유형'].value_counts().plot.pie(labels = labels\n",
    "                    ,colors= ['#98DBC6', '#FFCCBB']\n",
    "                    ,startangle = 60\n",
    "                    ,shadow = True\n",
    "                    ,autopct = '%1.1f%%'\n",
    "                    ,explode = (0,0.1) \n",
    "                    ,figsize=(5, 5)\n",
    "                    ,fontsize = 15)\n",
    "plt.title('서울 지진해일대피소구분', fontsize=20)\n",
    "pylab.ylabel('')"
   ]
  },
  {
   "cell_type": "markdown",
   "metadata": {},
   "source": [
    "## 2. 내진설계 분석\n",
    "- 실내 대피소 중 내질설계가 되어있는 대피소는 얼마나 될까?\n"
   ]
  },
  {
   "cell_type": "code",
   "execution_count": 86,
   "metadata": {},
   "outputs": [],
   "source": [
    "for_seismic = seoul[seoul['지진해일대피소유형']=='실내대피소']\n",
    "\n",
    "# 실내 대피소만 내진설계가 가능하기 때문에 실내 대피소만 "
   ]
  },
  {
   "cell_type": "code",
   "execution_count": 87,
   "metadata": {},
   "outputs": [
    {
     "name": "stdout",
     "output_type": "stream",
     "text": [
      "서울 내진설계 비율 = 89.05325443786982 %\n"
     ]
    }
   ],
   "source": [
    "seismic_design = len(for_seismic[for_seismic['내진적용여부']=='적용'])/len(for_seismic)*100\n",
    "print('서울 내진설계 비율 =', seismic_design, '%')"
   ]
  },
  {
   "cell_type": "code",
   "execution_count": 88,
   "metadata": {
    "scrolled": true
   },
   "outputs": [
    {
     "data": {
      "text/plain": [
       "Text(0, 0.5, '')"
      ]
     },
     "execution_count": 88,
     "metadata": {},
     "output_type": "execute_result"
    },
    {
     "data": {
      "image/png": "[encoded data removed]",
      "text/plain": [
       "<Figure size 360x360 with 1 Axes>"
      ]
     },
     "metadata": {},
     "output_type": "display_data"
    }
   ],
   "source": [
    "labels=['적용', '미적용']   #항상 파이그래프 보면서 label순서 제대로 설정했는지 확인 \n",
    "for_seismic['내진적용여부'].value_counts().plot.pie(labels = labels\n",
    "                    ,colors= ['#98DBC6', '#FFCCBB'] #색깔 지정 (색깔 코드 인터넷 검색)\n",
    "                    ,startangle = 60                #시작 각도 설정\n",
    "                    ,shadow = True                  #그림자 생성\n",
    "                    ,autopct = '%1.1f%%'            # 퍼센테이지 소숫점 설정\n",
    "                    ,explode = (0,0.1)              # 한 파트 톡 튀어 나오게 만들기 (꼭 파트의 수와 동일해야함 안그럼 오류 EG)4개로 구분되면 (0, 0, 0, 0.1)로 기재)\n",
    "                    ,figsize=(5, 5)                 # 그래프 사이즈 설정 \n",
    "                    ,fontsize = 15)                 # 글씨 크기 설정\n",
    "plt.title('서울 실내 지진해일대피소 내진적용여부', fontsize=20)   #제목명, 제목 사이즈 설정\n",
    "pylab.ylabel('')    # y축 설명 없애기 "
   ]
  },
  {
   "cell_type": "markdown",
   "metadata": {},
   "source": [
    "![](bk3)"
   ]
  },
  {
   "cell_type": "markdown",
   "metadata": {},
   "source": [
    "### 배경지식 \n",
    "- 실외대피소: 지진 또는 해일이 발생할 경우 실외대피소에서 집합 후 안내 방송에 따라 다같이 이동하기 위한 용도\n",
    "- 실내대피소: 집합 또는 이재민 수용을 위한 임시주거시설로 이용"
   ]
  },
  {
   "cell_type": "markdown",
   "metadata": {},
   "source": [
    "![](bk3.png)"
   ]
  },
  {
   "cell_type": "code",
   "execution_count": 89,
   "metadata": {
    "scrolled": true
   },
   "outputs": [
    {
     "data": {
      "text/plain": [
       "Text(0, 0.5, '')"
      ]
     },
     "execution_count": 89,
     "metadata": {},
     "output_type": "execute_result"
    },
    {
     "data": {
      "image/png": "[encoded data removed]",
      "text/plain": [
       "<Figure size 360x360 with 1 Axes>"
      ]
     },
     "metadata": {},
     "output_type": "display_data"
    }
   ],
   "source": [
    "labels=['적용', '미적용']\n",
    "for_seismic[(for_seismic['지진해일대피소유형구분']=='학교')|(['지진해일대피소유형구분']=='체육관')]['내진적용여부'].value_counts().plot.pie(labels = labels\n",
    "                    ,colors= ['#98DBC6', '#FFCCBB'] #색깔 지정 (색깔 코드 인터넷 검색)\n",
    "                    ,startangle = 60                #시작 각도 설정\n",
    "                    ,shadow = True                  #그림자 생성\n",
    "                    ,autopct = '%1.1f%%'            # 퍼센테이지 소숫점 설정\n",
    "                    ,explode = (0,0.1)              # 한 파트 톡 튀어 나오게 만들기 (꼭 파트의 수와 동일해야함 안그럼 오류 EG)4개로 구분되면 (0, 0, 0, 0.1)로 기재)\n",
    "                    ,figsize=(5, 5)                 # 그래프 사이즈 설정 \n",
    "                    ,fontsize = 15)                 # 글씨 크기 설정\n",
    "plt.title('학교, 체육관 지진해일대피소 내진적용여부', fontsize=20)   #제목명, 제목 사이즈 설정\n",
    "pylab.ylabel('')    # y축 설명 없애기 "
   ]
  },
  {
   "cell_type": "markdown",
   "metadata": {},
   "source": [
    "## 2. 지진해일 대피소 구분 분석\n",
    "- 지진해일대피소 vs 지진대피소"
   ]
  },
  {
   "cell_type": "code",
   "execution_count": 90,
   "metadata": {},
   "outputs": [
    {
     "data": {
      "text/plain": [
       "지진대피소      1808\n",
       "지진해일대피소      33\n",
       "Name: 지진해일대피소구분, dtype: int64"
      ]
     },
     "execution_count": 90,
     "metadata": {},
     "output_type": "execute_result"
    }
   ],
   "source": [
    "seoul['지진해일대피소구분'].value_counts()"
   ]
  },
  {
   "cell_type": "code",
   "execution_count": 91,
   "metadata": {
    "scrolled": true
   },
   "outputs": [
    {
     "data": {
      "text/plain": [
       "Text(0, 0.5, '')"
      ]
     },
     "execution_count": 91,
     "metadata": {},
     "output_type": "execute_result"
    },
    {
     "data": {
      "image/png": "[encoded data removed]",
      "text/plain": [
       "<Figure size 360x360 with 1 Axes>"
      ]
     },
     "metadata": {},
     "output_type": "display_data"
    }
   ],
   "source": [
    "labels=['지진대피소', '지진해일대피소']\n",
    "seoul['지진해일대피소구분'].value_counts().plot.pie(labels = labels\n",
    "                    ,colors= ['#98DBC6', '#FFCCBB']\n",
    "                    ,startangle = 60\n",
    "                    ,shadow = True\n",
    "                    ,autopct = '%1.1f%%'\n",
    "                    ,explode = (0,0.1) \n",
    "                    ,figsize=(5, 5)\n",
    "                    ,fontsize = 15)\n",
    "plt.title('서울 지진해일대피소구분', fontsize=20)\n",
    "pylab.ylabel('')"
   ]
  },
  {
   "cell_type": "markdown",
   "metadata": {},
   "source": [
    "## 4. 지진해일대피소유형구분 분석"
   ]
  },
  {
   "cell_type": "code",
   "execution_count": 92,
   "metadata": {},
   "outputs": [
    {
     "data": {
      "text/plain": [
       "학교     616\n",
       "운동장    586\n",
       "공원     507\n",
       "기타     121\n",
       "체육관     11\n",
       "Name: 지진해일대피소유형구분, dtype: int64"
      ]
     },
     "execution_count": 92,
     "metadata": {},
     "output_type": "execute_result"
    }
   ],
   "source": [
    "seoul['지진해일대피소유형구분'].value_counts()"
   ]
  },
  {
   "cell_type": "code",
   "execution_count": 93,
   "metadata": {
    "scrolled": false
   },
   "outputs": [
    {
     "data": {
      "text/plain": [
       "Text(0, 0.5, '')"
      ]
     },
     "execution_count": 93,
     "metadata": {},
     "output_type": "execute_result"
    },
    {
     "data": {
      "image/png": "[encoded data removed]",
      "text/plain": [
       "<Figure size 360x360 with 1 Axes>"
      ]
     },
     "metadata": {},
     "output_type": "display_data"
    }
   ],
   "source": [
    "labels=['학교', '운동장', '공원', '기타', '체육관']\n",
    "seoul['지진해일대피소유형구분'].value_counts().plot.pie(labels = labels\n",
    "                    ,colors= ['#98DBC6','#5BC8AC','#E6D72A','#F18D9E', '#FFCCBB']\n",
    "                    ,startangle = 60\n",
    "                    ,shadow = True\n",
    "                    ,autopct = '%1.1f%%'\n",
    "                    ,explode = (0.1,0,0,0,0) \n",
    "                    ,figsize=(5, 5)\n",
    "                    ,fontsize = 15)\n",
    "plt.title('서울 지진해일대피소유형구분', fontsize=20)\n",
    "pylab.ylabel('')"
   ]
  },
  {
   "cell_type": "markdown",
   "metadata": {},
   "source": [
    "## 5. 지진해일대피소운영상태 분석"
   ]
  },
  {
   "cell_type": "code",
   "execution_count": 94,
   "metadata": {},
   "outputs": [
    {
     "data": {
      "text/plain": [
       "Y    1732\n",
       "N     109\n",
       "Name: 지진해일대피소운영상태, dtype: int64"
      ]
     },
     "execution_count": 94,
     "metadata": {},
     "output_type": "execute_result"
    }
   ],
   "source": [
    "seoul['지진해일대피소운영상태'].value_counts()"
   ]
  },
  {
   "cell_type": "code",
   "execution_count": 95,
   "metadata": {
    "scrolled": true
   },
   "outputs": [
    {
     "data": {
      "text/plain": [
       "Text(0, 0.5, '')"
      ]
     },
     "execution_count": 95,
     "metadata": {},
     "output_type": "execute_result"
    },
    {
     "data": {
      "image/png": "[encoded data removed]",
      "text/plain": [
       "<Figure size 360x360 with 1 Axes>"
      ]
     },
     "metadata": {},
     "output_type": "display_data"
    }
   ],
   "source": [
    "labels=['운영중', '비운영중']\n",
    "seoul['지진해일대피소운영상태'].value_counts().plot.pie(labels = labels\n",
    "                    ,colors= ['#98DBC6', '#FFCCBB']\n",
    "                    ,startangle = 60\n",
    "                    ,shadow = True\n",
    "                    ,autopct = '%1.1f%%'\n",
    "                    ,explode = (0.1,0) \n",
    "                    ,figsize=(5, 5)\n",
    "                    ,fontsize = 15)\n",
    "plt.title('서울 지진해일대피소운영상태', fontsize=20)\n",
    "pylab.ylabel('')"
   ]
  },
  {
   "cell_type": "markdown",
   "metadata": {},
   "source": [
    "## 7. 지역별 대피소 지도 만들기 \n",
    "- 처음에는 전국 데이터를 한번에 찍어보려 했으나 데이터가 너무 많아 지도가 뜨지 않음 \n",
    "- 8도로 나누어 시도 -> 서울, 인천, 경기 3곳 모두 데이터 양이 많아 지도 안뜸 \n",
    "    - 데이터 양의 문제가 아니였음\n",
    "    - 타일 옵션인 Mapbox Bright가 더이상 지원되지 않아서 생겼던 문제"
   ]
  },
  {
   "cell_type": "markdown",
   "metadata": {},
   "source": [
    "### 경도, 위도 입력 잘못되어 있는 곳 \n",
    "- 계양교통공원 \n",
    "- 서울용곡중학교 (실내, 실외)\n",
    "- 대방공원 "
   ]
  },
  {
   "cell_type": "markdown",
   "metadata": {},
   "source": [
    "## 경도, 위도 잘못 입력된 곳 정보 수정"
   ]
  },
  {
   "cell_type": "code",
   "execution_count": 96,
   "metadata": {},
   "outputs": [
    {
     "data": {
      "text/html": [
       "<div>\n",
       "<style scoped>\n",
       "    .dataframe tbody tr th:only-of-type {\n",
       "        vertical-align: middle;\n",
       "    }\n",
       "\n",
       "    .dataframe tbody tr th {\n",
       "        vertical-align: top;\n",
       "    }\n",
       "\n",
       "    .dataframe thead th {\n",
       "        text-align: right;\n",
       "    }\n",
       "</style>\n",
       "<table border=\"1\" class=\"dataframe\">\n",
       "  <thead>\n",
       "    <tr style=\"text-align: right;\">\n",
       "      <th></th>\n",
       "      <th>Unnamed: 0</th>\n",
       "      <th>지진해일대피소명</th>\n",
       "      <th>지진해일대피소구분</th>\n",
       "      <th>지진해일대피소유형</th>\n",
       "      <th>지진해일대피소유형구분</th>\n",
       "      <th>소재지도로명주소</th>\n",
       "      <th>소재지지번주소</th>\n",
       "      <th>위도</th>\n",
       "      <th>경도</th>\n",
       "      <th>수용가능면적</th>\n",
       "      <th>...</th>\n",
       "      <th>관리기관명</th>\n",
       "      <th>관리기관전화번호</th>\n",
       "      <th>데이터기준일자</th>\n",
       "      <th>제공기관코드</th>\n",
       "      <th>제공기관명</th>\n",
       "      <th>Unnamed: 29</th>\n",
       "      <th>Unnamed: 0.1</th>\n",
       "      <th>area</th>\n",
       "      <th>위</th>\n",
       "      <th>경</th>\n",
       "    </tr>\n",
       "  </thead>\n",
       "  <tbody>\n",
       "    <tr>\n",
       "      <th>114</th>\n",
       "      <td>915.0</td>\n",
       "      <td>대방공원</td>\n",
       "      <td>지진대피소</td>\n",
       "      <td>옥외대피소</td>\n",
       "      <td>공원</td>\n",
       "      <td>서울특별시 동작구 대방동23-176</td>\n",
       "      <td>NaN</td>\n",
       "      <td>37.5102</td>\n",
       "      <td>128.929</td>\n",
       "      <td>10656</td>\n",
       "      <td>...</td>\n",
       "      <td>동작구청 안전재난담당관</td>\n",
       "      <td>02-820-9201</td>\n",
       "      <td>2019-07-04</td>\n",
       "      <td>3190000.0</td>\n",
       "      <td>서울특별시 동작구</td>\n",
       "      <td>NaN</td>\n",
       "      <td>NaN</td>\n",
       "      <td>서울특별시</td>\n",
       "      <td>NaN</td>\n",
       "      <td>NaN</td>\n",
       "    </tr>\n",
       "  </tbody>\n",
       "</table>\n",
       "<p>1 rows × 35 columns</p>\n",
       "</div>"
      ],
      "text/plain": [
       "     Unnamed: 0 지진해일대피소명 지진해일대피소구분 지진해일대피소유형 지진해일대피소유형구분             소재지도로명주소  \\\n",
       "114       915.0     대방공원     지진대피소     옥외대피소          공원  서울특별시 동작구 대방동23-176   \n",
       "\n",
       "    소재지지번주소       위도       경도 수용가능면적  ...         관리기관명     관리기관전화번호  \\\n",
       "114     NaN  37.5102  128.929  10656  ...  동작구청 안전재난담당관  02-820-9201   \n",
       "\n",
       "        데이터기준일자     제공기관코드      제공기관명  Unnamed: 29  Unnamed: 0.1   area   위  \\\n",
       "114  2019-07-04  3190000.0  서울특별시 동작구          NaN           NaN  서울특별시 NaN   \n",
       "\n",
       "      경  \n",
       "114 NaN  \n",
       "\n",
       "[1 rows x 35 columns]"
      ]
     },
     "execution_count": 96,
     "metadata": {},
     "output_type": "execute_result"
    }
   ],
   "source": [
    "seoul[seoul['지진해일대피소명'] == '대방공원']"
   ]
  },
  {
   "cell_type": "code",
   "execution_count": 97,
   "metadata": {},
   "outputs": [],
   "source": [
    "# 서울용곡중학교 정보 수정\n",
    "seoul.iloc[765, 6] = 37.5660646\n",
    "seoul.iloc[765, 7] = 127.0866867\n",
    "\n",
    "seoul.iloc[777, 6] = 37.5660646\n",
    "seoul.iloc[777, 7] = 127.0866867"
   ]
  },
  {
   "cell_type": "code",
   "execution_count": 98,
   "metadata": {},
   "outputs": [],
   "source": [
    "# 대방공원 정보 수정 \n",
    "seoul.iloc[114, 6] = 37.5100726\n",
    "seoul.iloc[114, 7] = 126.9264025"
   ]
  },
  {
   "cell_type": "markdown",
   "metadata": {},
   "source": [
    "## 서울 지도"
   ]
  },
  {
   "cell_type": "code",
   "execution_count": 99,
   "metadata": {},
   "outputs": [],
   "source": [
    "map = folium.Map(location=[37.5650172, 126.849465], zoom_start = 10)\n",
    "fg = folium.FeatureGroup(name = '서울지진해일대피소')\n",
    "for lat, lon, name in zip(seoul['위도'], seoul['경도'], seoul['지진해일대피소명']):\n",
    "    fg.add_child(folium.Marker(location=[lat, lon], popup=(folium.Popup(name)), icon=folium.Icon(icon = 'star', color= 'blue', icon_color = 'white')))\n",
    "map.add_child(fg) \n",
    "map.save(outfile='빅데이터 캠퍼스 서울.html')"
   ]
  },
  {
   "cell_type": "markdown",
   "metadata": {},
   "source": [
    "## 8. 지역별 인구수 대비 최대수용가능 인원수 비교"
   ]
  },
  {
   "cell_type": "markdown",
   "metadata": {},
   "source": [
    "- 서울, 인천: 구 단위\n",
    "- 경기도: 시 단위 \n",
    "- (인구 통계가 위와 같은 단위로 분리되어있기 때문)"
   ]
  },
  {
   "cell_type": "markdown",
   "metadata": {},
   "source": [
    "### 과정\n",
    "1. KOSIS에서 서울, 인천, 경기도 인구 통계 불러옴 \n",
    "\n",
    "2. 서울특별시, 인천광역시, 경기도 행 제거 (각 구 또는 시 인구 수의 합)\n",
    "\n",
    "3. 서울 중구, 인천 중구 합쳐지는 문제 발생 \n",
    "    - 인구 통계 테이블을 각 지역별로 분리하여 따로 저장 \n",
    "    - 구 또는 시 이름 앞 '서울특별시', '인천광역시', '경기도' 붙여줌 \n",
    "    - 다시 하나의 테이블로 합침\n",
    "\n",
    "4. 인구 통계 테이블의 지역명과 대피소 테이블의 '제공기관명'과 분류가 동일해 '제공기관명'을 기준으로 LEFT JOIN \n",
    "    - 인구 통계 테이블에는 있지만 대피소 테이블에는 없는 지역 (=대피소 데이터가 없는 지역) 찾음 \n",
    "    - 공공데이터 포털에 데이터 요청 \n",
    "    - 국민재난안전포털에서 데이터 긁어옴\n",
    "\n",
    "5. 제공기관명(지역명)으로 groupby한 후, 최대수용인원수를 sum 해서 지역별 최대수용인원수 컬럼 생성 \n",
    "\n",
    "6. '지역 인구수 - 지역 최대수용인원수'를 'diff'컬럼에 저장 \n",
    "\n",
    "7. diff가 마이너스면 '불충분', 플러스면 '충분'으로 지정\n"
   ]
  },
  {
   "cell_type": "markdown",
   "metadata": {},
   "source": [
    "### 데이터 없는 지역 \n",
    "- 서울특별시 용산구 (곧 받을 예정)\n",
    "- 서울특별시 성동구\n",
    "- 서울특별시 동대문구 (O)\n",
    "- 서울특별시 성북구(O)\n",
    "- 서울특별시 도봉구\n",
    "- 서울특별시 마포구\n",
    "- 서울특별시 구로구\n",
    "- 서울특별시 강동구\n",
    "- 서울특별시 강북구\n",
    "- 경기도 용인시\n",
    "- 경기도 안양시\n",
    "- 경기도 연천군"
   ]
  },
  {
   "cell_type": "code",
   "execution_count": 100,
   "metadata": {},
   "outputs": [
    {
     "ename": "FileNotFoundError",
     "evalue": "[Errno 2] File b'population.csv' does not exist: b'population.csv'",
     "output_type": "error",
     "traceback": [
      "\u001b[0;31m---------------------------------------------------------------------------\u001b[0m",
      "\u001b[0;31mFileNotFoundError\u001b[0m                         Traceback (most recent call last)",
      "\u001b[0;32m<ipython-input-100-185fb92c1b12>\u001b[0m in \u001b[0;36m<module>\u001b[0;34m\u001b[0m\n\u001b[0;32m----> 1\u001b[0;31m \u001b[0mppl\u001b[0m \u001b[0;34m=\u001b[0m \u001b[0mpd\u001b[0m\u001b[0;34m.\u001b[0m\u001b[0mread_csv\u001b[0m\u001b[0;34m(\u001b[0m\u001b[0;34m'population.csv'\u001b[0m\u001b[0;34m,\u001b[0m \u001b[0mencoding\u001b[0m \u001b[0;34m=\u001b[0m \u001b[0;34m\"CP949\"\u001b[0m\u001b[0;34m)\u001b[0m\u001b[0;34m\u001b[0m\u001b[0;34m\u001b[0m\u001b[0m\n\u001b[0m\u001b[1;32m      2\u001b[0m \u001b[0;34m\u001b[0m\u001b[0m\n\u001b[1;32m      3\u001b[0m \u001b[0;31m# http://kosis.kr/statHtml/statHtml.do?orgId=101&tblId=DT_1B040A3\u001b[0m\u001b[0;34m\u001b[0m\u001b[0;34m\u001b[0m\u001b[0;34m\u001b[0m\u001b[0m\n",
      "\u001b[0;32m/usr/local/lib/python3.7/site-packages/pandas/io/parsers.py\u001b[0m in \u001b[0;36mparser_f\u001b[0;34m(filepath_or_buffer, sep, delimiter, header, names, index_col, usecols, squeeze, prefix, mangle_dupe_cols, dtype, engine, converters, true_values, false_values, skipinitialspace, skiprows, skipfooter, nrows, na_values, keep_default_na, na_filter, verbose, skip_blank_lines, parse_dates, infer_datetime_format, keep_date_col, date_parser, dayfirst, cache_dates, iterator, chunksize, compression, thousands, decimal, lineterminator, quotechar, quoting, doublequote, escapechar, comment, encoding, dialect, error_bad_lines, warn_bad_lines, delim_whitespace, low_memory, memory_map, float_precision)\u001b[0m\n\u001b[1;32m    683\u001b[0m         )\n\u001b[1;32m    684\u001b[0m \u001b[0;34m\u001b[0m\u001b[0m\n\u001b[0;32m--> 685\u001b[0;31m         \u001b[0;32mreturn\u001b[0m \u001b[0m_read\u001b[0m\u001b[0;34m(\u001b[0m\u001b[0mfilepath_or_buffer\u001b[0m\u001b[0;34m,\u001b[0m \u001b[0mkwds\u001b[0m\u001b[0;34m)\u001b[0m\u001b[0;34m\u001b[0m\u001b[0;34m\u001b[0m\u001b[0m\n\u001b[0m\u001b[1;32m    686\u001b[0m \u001b[0;34m\u001b[0m\u001b[0m\n\u001b[1;32m    687\u001b[0m     \u001b[0mparser_f\u001b[0m\u001b[0;34m.\u001b[0m\u001b[0m__name__\u001b[0m \u001b[0;34m=\u001b[0m \u001b[0mname\u001b[0m\u001b[0;34m\u001b[0m\u001b[0;34m\u001b[0m\u001b[0m\n",
      "\u001b[0;32m/usr/local/lib/python3.7/site-packages/pandas/io/parsers.py\u001b[0m in \u001b[0;36m_read\u001b[0;34m(filepath_or_buffer, kwds)\u001b[0m\n\u001b[1;32m    455\u001b[0m \u001b[0;34m\u001b[0m\u001b[0m\n\u001b[1;32m    456\u001b[0m     \u001b[0;31m# Create the parser.\u001b[0m\u001b[0;34m\u001b[0m\u001b[0;34m\u001b[0m\u001b[0;34m\u001b[0m\u001b[0m\n\u001b[0;32m--> 457\u001b[0;31m     \u001b[0mparser\u001b[0m \u001b[0;34m=\u001b[0m \u001b[0mTextFileReader\u001b[0m\u001b[0;34m(\u001b[0m\u001b[0mfp_or_buf\u001b[0m\u001b[0;34m,\u001b[0m \u001b[0;34m**\u001b[0m\u001b[0mkwds\u001b[0m\u001b[0;34m)\u001b[0m\u001b[0;34m\u001b[0m\u001b[0;34m\u001b[0m\u001b[0m\n\u001b[0m\u001b[1;32m    458\u001b[0m \u001b[0;34m\u001b[0m\u001b[0m\n\u001b[1;32m    459\u001b[0m     \u001b[0;32mif\u001b[0m \u001b[0mchunksize\u001b[0m \u001b[0;32mor\u001b[0m \u001b[0miterator\u001b[0m\u001b[0;34m:\u001b[0m\u001b[0;34m\u001b[0m\u001b[0;34m\u001b[0m\u001b[0m\n",
      "\u001b[0;32m/usr/local/lib/python3.7/site-packages/pandas/io/parsers.py\u001b[0m in \u001b[0;36m__init__\u001b[0;34m(self, f, engine, **kwds)\u001b[0m\n\u001b[1;32m    893\u001b[0m             \u001b[0mself\u001b[0m\u001b[0;34m.\u001b[0m\u001b[0moptions\u001b[0m\u001b[0;34m[\u001b[0m\u001b[0;34m\"has_index_names\"\u001b[0m\u001b[0;34m]\u001b[0m \u001b[0;34m=\u001b[0m \u001b[0mkwds\u001b[0m\u001b[0;34m[\u001b[0m\u001b[0;34m\"has_index_names\"\u001b[0m\u001b[0;34m]\u001b[0m\u001b[0;34m\u001b[0m\u001b[0;34m\u001b[0m\u001b[0m\n\u001b[1;32m    894\u001b[0m \u001b[0;34m\u001b[0m\u001b[0m\n\u001b[0;32m--> 895\u001b[0;31m         \u001b[0mself\u001b[0m\u001b[0;34m.\u001b[0m\u001b[0m_make_engine\u001b[0m\u001b[0;34m(\u001b[0m\u001b[0mself\u001b[0m\u001b[0;34m.\u001b[0m\u001b[0mengine\u001b[0m\u001b[0;34m)\u001b[0m\u001b[0;34m\u001b[0m\u001b[0;34m\u001b[0m\u001b[0m\n\u001b[0m\u001b[1;32m    896\u001b[0m \u001b[0;34m\u001b[0m\u001b[0m\n\u001b[1;32m    897\u001b[0m     \u001b[0;32mdef\u001b[0m \u001b[0mclose\u001b[0m\u001b[0;34m(\u001b[0m\u001b[0mself\u001b[0m\u001b[0;34m)\u001b[0m\u001b[0;34m:\u001b[0m\u001b[0;34m\u001b[0m\u001b[0;34m\u001b[0m\u001b[0m\n",
      "\u001b[0;32m/usr/local/lib/python3.7/site-packages/pandas/io/parsers.py\u001b[0m in \u001b[0;36m_make_engine\u001b[0;34m(self, engine)\u001b[0m\n\u001b[1;32m   1133\u001b[0m     \u001b[0;32mdef\u001b[0m \u001b[0m_make_engine\u001b[0m\u001b[0;34m(\u001b[0m\u001b[0mself\u001b[0m\u001b[0;34m,\u001b[0m \u001b[0mengine\u001b[0m\u001b[0;34m=\u001b[0m\u001b[0;34m\"c\"\u001b[0m\u001b[0;34m)\u001b[0m\u001b[0;34m:\u001b[0m\u001b[0;34m\u001b[0m\u001b[0;34m\u001b[0m\u001b[0m\n\u001b[1;32m   1134\u001b[0m         \u001b[0;32mif\u001b[0m \u001b[0mengine\u001b[0m \u001b[0;34m==\u001b[0m \u001b[0;34m\"c\"\u001b[0m\u001b[0;34m:\u001b[0m\u001b[0;34m\u001b[0m\u001b[0;34m\u001b[0m\u001b[0m\n\u001b[0;32m-> 1135\u001b[0;31m             \u001b[0mself\u001b[0m\u001b[0;34m.\u001b[0m\u001b[0m_engine\u001b[0m \u001b[0;34m=\u001b[0m \u001b[0mCParserWrapper\u001b[0m\u001b[0;34m(\u001b[0m\u001b[0mself\u001b[0m\u001b[0;34m.\u001b[0m\u001b[0mf\u001b[0m\u001b[0;34m,\u001b[0m \u001b[0;34m**\u001b[0m\u001b[0mself\u001b[0m\u001b[0;34m.\u001b[0m\u001b[0moptions\u001b[0m\u001b[0;34m)\u001b[0m\u001b[0;34m\u001b[0m\u001b[0;34m\u001b[0m\u001b[0m\n\u001b[0m\u001b[1;32m   1136\u001b[0m         \u001b[0;32melse\u001b[0m\u001b[0;34m:\u001b[0m\u001b[0;34m\u001b[0m\u001b[0;34m\u001b[0m\u001b[0m\n\u001b[1;32m   1137\u001b[0m             \u001b[0;32mif\u001b[0m \u001b[0mengine\u001b[0m \u001b[0;34m==\u001b[0m \u001b[0;34m\"python\"\u001b[0m\u001b[0;34m:\u001b[0m\u001b[0;34m\u001b[0m\u001b[0;34m\u001b[0m\u001b[0m\n",
      "\u001b[0;32m/usr/local/lib/python3.7/site-packages/pandas/io/parsers.py\u001b[0m in \u001b[0;36m__init__\u001b[0;34m(self, src, **kwds)\u001b[0m\n\u001b[1;32m   1904\u001b[0m         \u001b[0mkwds\u001b[0m\u001b[0;34m[\u001b[0m\u001b[0;34m\"usecols\"\u001b[0m\u001b[0;34m]\u001b[0m \u001b[0;34m=\u001b[0m \u001b[0mself\u001b[0m\u001b[0;34m.\u001b[0m\u001b[0musecols\u001b[0m\u001b[0;34m\u001b[0m\u001b[0;34m\u001b[0m\u001b[0m\n\u001b[1;32m   1905\u001b[0m \u001b[0;34m\u001b[0m\u001b[0m\n\u001b[0;32m-> 1906\u001b[0;31m         \u001b[0mself\u001b[0m\u001b[0;34m.\u001b[0m\u001b[0m_reader\u001b[0m \u001b[0;34m=\u001b[0m \u001b[0mparsers\u001b[0m\u001b[0;34m.\u001b[0m\u001b[0mTextReader\u001b[0m\u001b[0;34m(\u001b[0m\u001b[0msrc\u001b[0m\u001b[0;34m,\u001b[0m \u001b[0;34m**\u001b[0m\u001b[0mkwds\u001b[0m\u001b[0;34m)\u001b[0m\u001b[0;34m\u001b[0m\u001b[0;34m\u001b[0m\u001b[0m\n\u001b[0m\u001b[1;32m   1907\u001b[0m         \u001b[0mself\u001b[0m\u001b[0;34m.\u001b[0m\u001b[0munnamed_cols\u001b[0m \u001b[0;34m=\u001b[0m \u001b[0mself\u001b[0m\u001b[0;34m.\u001b[0m\u001b[0m_reader\u001b[0m\u001b[0;34m.\u001b[0m\u001b[0munnamed_cols\u001b[0m\u001b[0;34m\u001b[0m\u001b[0;34m\u001b[0m\u001b[0m\n\u001b[1;32m   1908\u001b[0m \u001b[0;34m\u001b[0m\u001b[0m\n",
      "\u001b[0;32mpandas/_libs/parsers.pyx\u001b[0m in \u001b[0;36mpandas._libs.parsers.TextReader.__cinit__\u001b[0;34m()\u001b[0m\n",
      "\u001b[0;32mpandas/_libs/parsers.pyx\u001b[0m in \u001b[0;36mpandas._libs.parsers.TextReader._setup_parser_source\u001b[0;34m()\u001b[0m\n",
      "\u001b[0;31mFileNotFoundError\u001b[0m: [Errno 2] File b'population.csv' does not exist: b'population.csv'"
     ]
    }
   ],
   "source": [
    "ppl = pd.read_csv('population.csv', encoding = \"CP949\")\n",
    "\n",
    "# http://kosis.kr/statHtml/statHtml.do?orgId=101&tblId=DT_1B040A3"
   ]
  },
  {
   "cell_type": "code",
   "execution_count": null,
   "metadata": {},
   "outputs": [],
   "source": [
    "ppl.head()"
   ]
  },
  {
   "cell_type": "code",
   "execution_count": null,
   "metadata": {},
   "outputs": [],
   "source": [
    "len(ppl)"
   ]
  },
  {
   "cell_type": "code",
   "execution_count": null,
   "metadata": {},
   "outputs": [],
   "source": [
    "ppl = ppl.loc[:26, :]"
   ]
  },
  {
   "cell_type": "code",
   "execution_count": null,
   "metadata": {},
   "outputs": [],
   "source": [
    "ppl.tail()"
   ]
  },
  {
   "cell_type": "code",
   "execution_count": null,
   "metadata": {},
   "outputs": [],
   "source": [
    "ppl[(ppl['행정구역(시군구)별']=='행정구역(시군구)별')|(ppl['행정구역(시군구)별']=='서울특별시')]"
   ]
  },
  {
   "cell_type": "code",
   "execution_count": null,
   "metadata": {},
   "outputs": [],
   "source": [
    "ppl = ppl.drop([ppl.index[0], ppl.index[1]])"
   ]
  },
  {
   "cell_type": "code",
   "execution_count": null,
   "metadata": {},
   "outputs": [],
   "source": [
    "ppl"
   ]
  },
  {
   "cell_type": "code",
   "execution_count": null,
   "metadata": {},
   "outputs": [],
   "source": [
    "# 분석 쉽도로 컬럼명 변경 \n",
    "ppl = ppl.rename(columns={'행정구역(시군구)별': 'sigungu', '2019. 09': 'nop'}) #nop: number of people"
   ]
  },
  {
   "cell_type": "code",
   "execution_count": null,
   "metadata": {},
   "outputs": [],
   "source": [
    "# 서울 구 이름 앞에 서울특별시 붙여넣기\n",
    "ppl['sigungu'] = '서울특별시' + ' ' + ppl.sigungu.str[0:] #future warning 무시 -> 해결방법을 찾아야하지만....ㅎ "
   ]
  },
  {
   "cell_type": "code",
   "execution_count": null,
   "metadata": {},
   "outputs": [],
   "source": [
    "ppl"
   ]
  },
  {
   "cell_type": "code",
   "execution_count": null,
   "metadata": {},
   "outputs": [],
   "source": [
    "# 제공기관명이 시이름 + 구이름 으로 되어 있어서 이 컬럼을 기준으로 join 할 예정\n",
    "seoul.제공기관명.unique()"
   ]
  },
  {
   "cell_type": "code",
   "execution_count": null,
   "metadata": {},
   "outputs": [],
   "source": [
    "seoul.최대수용인원수 = seoul.최대수용인원수.astype(float)"
   ]
  },
  {
   "cell_type": "code",
   "execution_count": null,
   "metadata": {},
   "outputs": [],
   "source": [
    "# 인구테이블과 join하기 위해 필요한 두개 컬럼만 shelter_ppl이라는 테이블로 저장\n",
    "shelter_ppl = seoul[['최대수용인원수', '제공기관명']]"
   ]
  },
  {
   "cell_type": "code",
   "execution_count": null,
   "metadata": {},
   "outputs": [],
   "source": [
    "# 제공기관명으로 groupby해서 그 지역 내 모든 대피소 최대수용인원수 더하기\n",
    "shelter_capacity_temp= pd.DataFrame(shelter_ppl.groupby('제공기관명')['최대수용인원수'].sum())"
   ]
  },
  {
   "cell_type": "code",
   "execution_count": null,
   "metadata": {},
   "outputs": [],
   "source": [
    "shelter_capacity_temp"
   ]
  },
  {
   "cell_type": "code",
   "execution_count": null,
   "metadata": {
    "scrolled": true
   },
   "outputs": [],
   "source": [
    "find_missing_area = ppl.merge(shelter_capacity_temp, how='left', left_on=['sigungu'], right_on=['제공기관명'])"
   ]
  },
  {
   "cell_type": "code",
   "execution_count": null,
   "metadata": {},
   "outputs": [],
   "source": [
    "find_missing_area[find_missing_area['최대수용인원수'].isnull()] #뭐죠? 왜죠? 왜 없죠?"
   ]
  },
  {
   "cell_type": "code",
   "execution_count": null,
   "metadata": {},
   "outputs": [],
   "source": [
    "# join 하기\n",
    "shelter_capacity = shelter_capacity_temp.merge(ppl, how='left', left_on=['제공기관명'], right_on=['sigungu'])"
   ]
  },
  {
   "cell_type": "code",
   "execution_count": null,
   "metadata": {},
   "outputs": [],
   "source": [
    "shelter_capacity"
   ]
  },
  {
   "cell_type": "code",
   "execution_count": null,
   "metadata": {},
   "outputs": [],
   "source": [
    "shelter_capacity.columns"
   ]
  },
  {
   "cell_type": "code",
   "execution_count": null,
   "metadata": {},
   "outputs": [],
   "source": [
    "shelter_capacity.sample(10)"
   ]
  },
  {
   "cell_type": "code",
   "execution_count": null,
   "metadata": {},
   "outputs": [],
   "source": [
    "# 분석 용이하게 하기 위해 컬럼명 변경 \n",
    "shelter_capacity.rename(columns={'최대수용인원수':'max'}, inplace=True)"
   ]
  },
  {
   "cell_type": "code",
   "execution_count": null,
   "metadata": {},
   "outputs": [],
   "source": [
    "len(shelter_capacity)"
   ]
  },
  {
   "cell_type": "code",
   "execution_count": null,
   "metadata": {},
   "outputs": [],
   "source": [
    "# max 컬럼이 float64이기때문에 정확한 비교를 위해 타입 변경\n",
    "shelter_capacity['nop'] = shelter_capacity['nop'].astype('float64')"
   ]
  },
  {
   "cell_type": "code",
   "execution_count": null,
   "metadata": {},
   "outputs": [],
   "source": [
    "shelter_capacity['max'] = shelter_capacity['max'].astype('float64')"
   ]
  },
  {
   "cell_type": "code",
   "execution_count": null,
   "metadata": {},
   "outputs": [],
   "source": [
    "shelter_capacity[shelter_capacity['nop']>shelter_capacity['max']]"
   ]
  },
  {
   "cell_type": "code",
   "execution_count": null,
   "metadata": {},
   "outputs": [],
   "source": [
    "# 두 컬럼의 차를 diff 컬럼에 저장\n",
    "shelter_capacity['diff'] = shelter_capacity['max']-shelter_capacity['nop']"
   ]
  },
  {
   "cell_type": "code",
   "execution_count": null,
   "metadata": {},
   "outputs": [],
   "source": [
    "shelter_capacity['diff'].max()"
   ]
  },
  {
   "cell_type": "code",
   "execution_count": null,
   "metadata": {},
   "outputs": [],
   "source": [
    "shelter_capacity['diff'].min()"
   ]
  },
  {
   "cell_type": "code",
   "execution_count": null,
   "metadata": {},
   "outputs": [],
   "source": [
    "# 값이 마이너스면 불충분, 플러스면 충분으로 지정\n",
    "shelter_capacity['capacity'] = shelter_capacity['diff'].apply(lambda x: '불충분' if x<0 else '충분' )"
   ]
  },
  {
   "cell_type": "code",
   "execution_count": null,
   "metadata": {},
   "outputs": [],
   "source": [
    "len(shelter_capacity[shelter_capacity['nop']>shelter_capacity['max']])"
   ]
  },
  {
   "cell_type": "code",
   "execution_count": null,
   "metadata": {
    "scrolled": true
   },
   "outputs": [],
   "source": [
    "shelter_capacity.sort_values('nop', ascending = False).head(5)"
   ]
  },
  {
   "cell_type": "code",
   "execution_count": null,
   "metadata": {},
   "outputs": [],
   "source": [
    "shelter_capacity.sort_values('nop').head(5)"
   ]
  },
  {
   "cell_type": "code",
   "execution_count": null,
   "metadata": {},
   "outputs": [],
   "source": [
    "shelter_capacity.sort_values('max', ascending = False).head(5)"
   ]
  },
  {
   "cell_type": "code",
   "execution_count": null,
   "metadata": {},
   "outputs": [],
   "source": [
    "shelter_capacity.sort_values('max').head(5)"
   ]
  },
  {
   "cell_type": "code",
   "execution_count": null,
   "metadata": {
    "scrolled": false
   },
   "outputs": [],
   "source": [
    "line_chart1 = plt.plot(shelter_capacity['nop'])\n",
    "line_chart2 = plt.plot(shelter_capacity['max'])\n",
    "plt.title('인구수 대비 지역내 대피소 최대수용인원')\n",
    "plt.xlabel('시군')\n",
    "plt.ylabel('인구수')\n",
    "plt.legend(['지역인구수', '최대수용인원수'], loc = 1)\n",
    "plt.show()"
   ]
  },
  {
   "cell_type": "code",
   "execution_count": null,
   "metadata": {},
   "outputs": [],
   "source": [
    "shelter_capacity['capacity'].value_counts()"
   ]
  },
  {
   "cell_type": "code",
   "execution_count": null,
   "metadata": {},
   "outputs": [],
   "source": [
    "labels=['불충분', '충분']\n",
    "shelter_capacity['capacity'].value_counts().plot.pie(labels = labels\n",
    "                    ,colors= ['#98DBC6', '#FFCCBB']\n",
    "                    ,startangle = 60\n",
    "                    ,shadow = True\n",
    "                    ,autopct = '%1.1f%%'\n",
    "                    ,explode = (0.1,0) \n",
    "                    ,figsize=(5, 5)\n",
    "                    ,fontsize = 15)\n",
    "plt.title('인구수 대비 지역내 대피소 최대수용인원', fontsize=20)\n",
    "pylab.ylabel('')"
   ]
  },
  {
   "cell_type": "markdown",
   "metadata": {},
   "source": [
    "## 트러블 슈팅 \n",
    "- 지진해일대피소 데이터가 없는 시, 구가 있다 \t\n",
    "    - 공공데이터 포털에 요청 \n",
    "    - 국민재난안전포탈에서 끌어옴 \n",
    "- 인천 중구, 서울 중구, 경기도 광주, 광주광역시와 같이 지역명 혼동 \n",
    "    - 구 이름 앞에 시 이름을 붙여 구분 후 분석\n",
    "- API로 위도 경도 결측치 채우기 \n",
    "    - KAKAO, LacationIQ 둘다 해도 안나오는 데이터 있음 \t\n",
    "        - 노가다로 채움 \n",
    "- 서울, 인천, 경기 각 지역 대피소 수가 많아서 지도가 안돌아감\n",
    "    - 방법이 필요\n",
    "- 세종시 데이터에는 중복 데이터가 있음\n",
    "    - 중복 데이터 확인 후 제거 \n",
    "    - 중복 이유 문의 예정 \n",
    "- 주소를 검색해봤는데 밭이 나온다 \n",
    "    - 미해결"
   ]
  },
  {
   "cell_type": "markdown",
   "metadata": {},
   "source": [
    "### 역할분배\n",
    "- 지역별로 나누어 분석중 \n"
   ]
  },
  {
   "cell_type": "markdown",
   "metadata": {},
   "source": [
    "### 앞으로 더 해볼 것 (hopes & dreams)\n",
    "- 대피소에서 더 나아가 '행정안전부_이재민임시주거시설정보'데이터를 분석하여 실내대피소와 임시주거시설 비교\n",
    "- 인구수 대비 최대수용인원 부족하면 색깔이 진하게 히트맵으로 시각화하여 문제가 심각한 지역 찾기\n",
    "- 지진 데이터를 보며 지진이 자주 일어나는 지역을 찾아보고 집중 분석 \n",
    "- 지진대피소와 지진해일대피소의 구분 등 더 많은 배경지식 조사\n",
    "- 구 또는 시 단위가 아닌 동 단위로 인구 수 대비 최대수용가능 인원수 분석 \n",
    "- 개선 방안 모색 \n",
    "     - 대피소 불충분 지역에 대피소를 증축한다면 위치 최적화 (입지 분석) -- 현실가능성....?\n",
    "     - 현재 위치 기반 최단거리 대피소 추천 \n",
    "     - 재난 위치에 따른 대피소 추천 \n",
    "- 10월 18일 마감인 '서울특별시 빅데이터 캠퍼스 공모전' 준비 "
   ]
  },
  {
   "cell_type": "markdown",
   "metadata": {},
   "source": [
    "### 동기 & 선미님께 받고 싶은 도움 \n",
    "- 데이터가 많아서 지도가 안돌아가는데 어떡하나요? \n",
    "- 최적 위치 선정을 하고 싶은데 도움이 될만한 강의 또는 글이 있을까요?\n",
    "- 데이터가 없는 지역 데이터 요청했는데 이유도 안말해주고 거절당했어요....안전처에서 재난소 위치는 가져올수 있지만 데이터가 많이 부족한데 이거 어떻게 하면 좋을까요?\n",
    "- 주소가 잘못된 데이터는 빼는게 좋을까요?\n",
    "- 피드백 주세요~~"
   ]
  },
  {
   "cell_type": "code",
   "execution_count": 101,
   "metadata": {},
   "outputs": [
    {
     "name": "stderr",
     "output_type": "stream",
     "text": [
      "/usr/local/lib/python3.7/site-packages/folium/folium.py:415: FutureWarning: The choropleth  method has been deprecated. Instead use the new Choropleth class, which has the same arguments. See the example notebook 'GeoJSON_and_choropleth' for how to do this.\n",
      "  FutureWarning\n"
     ]
    },
    {
     "data": {
      "text/html": [
       "<div style=\"width:100%;\"><div style=\"position:relative;width:100%;height:0;padding-bottom:60%;\"><iframe src=\"data:text/html;charset=utf-8;base64,PCFET0NUWVBFIGh0bWw+CjxoZWFkPiAgICAKICAgIDxtZXRhIGh0dHAtZXF1aXY9ImNvbnRlbnQtdHlwZSIgY29udGVudD0idGV4dC9odG1sOyBjaGFyc2V0PVVURi04IiAvPgogICAgCiAgICAgICAgPHNjcmlwdD4KICAgICAgICAgICAgTF9OT19UT1VDSCA9IGZhbHNlOwogICAgICAgICAgICBMX0RJU0FCTEVfM0QgPSBmYWxzZTsKICAgICAgICA8L3NjcmlwdD4KICAgIAogICAgPHNjcmlwdCBzcmM9Imh0dHBzOi8vY2RuLmpzZGVsaXZyLm5ldC9ucG0vbGVhZmxldEAxLjUuMS9kaXN0L2xlYWZsZXQuanMiPjwvc2NyaXB0PgogICAgPHNjcmlwdCBzcmM9Imh0dHBzOi8vY29kZS5qcXVlcnkuY29tL2pxdWVyeS0xLjEyLjQubWluLmpzIj48L3NjcmlwdD4KICAgIDxzY3JpcHQgc3JjPSJodHRwczovL21heGNkbi5ib290c3RyYXBjZG4uY29tL2Jvb3RzdHJhcC8zLjIuMC9qcy9ib290c3RyYXAubWluLmpzIj48L3NjcmlwdD4KICAgIDxzY3JpcHQgc3JjPSJodHRwczovL2NkbmpzLmNsb3VkZmxhcmUuY29tL2FqYXgvbGlicy9MZWFmbGV0LmF3ZXNvbWUtbWFya2Vycy8yLjAuMi9sZWFmbGV0LmF3ZXNvbWUtbWFya2Vycy5qcyI+PC9zY3JpcHQ+CiAgICA8bGluayByZWw9InN0eWxlc2hlZXQiIGhyZWY9Imh0dHBzOi8vY2RuLmpzZGVsaXZyLm5ldC9ucG0vbGVhZmxldEAxLjUuMS9kaXN0L2xlYWZsZXQuY3NzIi8+CiAgICA8bGluayByZWw9InN0eWxlc2hlZXQiIGhyZWY9Imh0dHBzOi8vbWF4Y2RuLmJvb3RzdHJhcGNkbi5jb20vYm9vdHN0cmFwLzMuMi4wL2Nzcy9ib290c3RyYXAubWluLmNzcyIvPgogICAgPGxpbmsgcmVsPSJzdHlsZXNoZWV0IiBocmVmPSJodHRwczovL21heGNkbi5ib290c3RyYXBjZG4uY29tL2Jvb3RzdHJhcC8zLjIuMC9jc3MvYm9vdHN0cmFwLXRoZW1lLm1pbi5jc3MiLz4KICAgIDxsaW5rIHJlbD0ic3R5bGVzaGVldCIgaHJlZj0iaHR0cHM6Ly9tYXhjZG4uYm9vdHN0cmFwY2RuLmNvbS9mb250LWF3ZXNvbWUvNC42LjMvY3NzL2ZvbnQtYXdlc29tZS5taW4uY3NzIi8+CiAgICA8bGluayByZWw9InN0eWxlc2hlZXQiIGhyZWY9Imh0dHBzOi8vY2RuanMuY2xvdWRmbGFyZS5jb20vYWpheC9saWJzL0xlYWZsZXQuYXdlc29tZS1tYXJrZXJzLzIuMC4yL2xlYWZsZXQuYXdlc29tZS1tYXJrZXJzLmNzcyIvPgogICAgPGxpbmsgcmVsPSJzdHlsZXNoZWV0IiBocmVmPSJodHRwczovL3Jhd2Nkbi5naXRoYWNrLmNvbS9weXRob24tdmlzdWFsaXphdGlvbi9mb2xpdW0vbWFzdGVyL2ZvbGl1bS90ZW1wbGF0ZXMvbGVhZmxldC5hd2Vzb21lLnJvdGF0ZS5jc3MiLz4KICAgIDxzdHlsZT5odG1sLCBib2R5IHt3aWR0aDogMTAwJTtoZWlnaHQ6IDEwMCU7bWFyZ2luOiAwO3BhZGRpbmc6IDA7fTwvc3R5bGU+CiAgICA8c3R5bGU+I21hcCB7cG9zaXRpb246YWJzb2x1dGU7dG9wOjA7Ym90dG9tOjA7cmlnaHQ6MDtsZWZ0OjA7fTwvc3R5bGU+CiAgICAKICAgICAgICAgICAgPG1ldGEgbmFtZT0idmlld3BvcnQiIGNvbnRlbnQ9IndpZHRoPWRldmljZS13aWR0aCwKICAgICAgICAgICAgICAgIGluaXRpYWwtc2NhbGU9MS4wLCBtYXhpbXVtLXNjYWxlPTEuMCwgdXNlci1zY2FsYWJsZT1ubyIgLz4KICAgICAgICAgICAgPHN0eWxlPgogICAgICAgICAgICAgICAgI21hcF8zNGJhODkzMzYyMzM0ZTJjOTAxMGFiNjVhZjlmNDZmMCB7CiAgICAgICAgICAgICAgICAgICAgcG9zaXRpb246IHJlbGF0aXZlOwogICAgICAgICAgICAgICAgICAgIHdpZHRoOiAxMDAuMCU7CiAgICAgICAgICAgICAgICAgICAgaGVpZ2h0OiAxMDAuMCU7CiAgICAgICAgICAgICAgICAgICAgbGVmdDogMC4wJTsKICAgICAgICAgICAgICAgICAgICB0b3A6IDAuMCU7CiAgICAgICAgICAgICAgICB9CiAgICAgICAgICAgIDwvc3R5bGU+CiAgICAgICAgCiAgICA8c2NyaXB0IHNyYz0iaHR0cHM6Ly9jZG5qcy5jbG91ZGZsYXJlLmNvbS9hamF4L2xpYnMvZDMvMy41LjUvZDMubWluLmpzIj48L3NjcmlwdD4KPC9oZWFkPgo8Ym9keT4gICAgCiAgICAKICAgICAgICAgICAgPGRpdiBjbGFzcz0iZm9saXVtLW1hcCIgaWQ9Im1hcF8zNGJhODkzMzYyMzM0ZTJjOTAxMGFiNjVhZjlmNDZmMCIgPjwvZGl2PgogICAgICAgIAo8L2JvZHk+CjxzY3JpcHQ+ICAgIAogICAgCiAgICAgICAgICAgIHZhciBtYXBfMzRiYTg5MzM2MjMzNGUyYzkwMTBhYjY1YWY5ZjQ2ZjAgPSBMLm1hcCgKICAgICAgICAgICAgICAgICJtYXBfMzRiYTg5MzM2MjMzNGUyYzkwMTBhYjY1YWY5ZjQ2ZjAiLAogICAgICAgICAgICAgICAgewogICAgICAgICAgICAgICAgICAgIGNlbnRlcjogWzM3LjU1MDIsIDEyNi45ODJdLAogICAgICAgICAgICAgICAgICAgIGNyczogTC5DUlMuRVBTRzM4NTcsCiAgICAgICAgICAgICAgICAgICAgem9vbTogMTEsCiAgICAgICAgICAgICAgICAgICAgem9vbUNvbnRyb2w6IHRydWUsCiAgICAgICAgICAgICAgICAgICAgcHJlZmVyQ2FudmFzOiBmYWxzZSwKICAgICAgICAgICAgICAgIH0KICAgICAgICAgICAgKTsKCiAgICAgICAgICAgIAoKICAgICAgICAKICAgIAogICAgICAgICAgICB2YXIgdGlsZV9sYXllcl9lYWNjMDA5M2Q5Y2Y0ZWRlYjk3MzM3ZDIyOTg3MDZiNSA9IEwudGlsZUxheWVyKAogICAgICAgICAgICAgICAgImh0dHBzOi8vc3RhbWVuLXRpbGVzLXtzfS5hLnNzbC5mYXN0bHkubmV0L3RvbmVyL3t6fS97eH0ve3l9LnBuZyIsCiAgICAgICAgICAgICAgICB7ImF0dHJpYnV0aW9uIjogIk1hcCB0aWxlcyBieSBcdTAwM2NhIGhyZWY9XCJodHRwOi8vc3RhbWVuLmNvbVwiXHUwMDNlU3RhbWVuIERlc2lnblx1MDAzYy9hXHUwMDNlLCB1bmRlciBcdTAwM2NhIGhyZWY9XCJodHRwOi8vY3JlYXRpdmVjb21tb25zLm9yZy9saWNlbnNlcy9ieS8zLjBcIlx1MDAzZUNDIEJZIDMuMFx1MDAzYy9hXHUwMDNlLiBEYXRhIGJ5IFx1MDAyNmNvcHk7IFx1MDAzY2EgaHJlZj1cImh0dHA6Ly9vcGVuc3RyZWV0bWFwLm9yZ1wiXHUwMDNlT3BlblN0cmVldE1hcFx1MDAzYy9hXHUwMDNlLCB1bmRlciBcdTAwM2NhIGhyZWY9XCJodHRwOi8vd3d3Lm9wZW5zdHJlZXRtYXAub3JnL2NvcHlyaWdodFwiXHUwMDNlT0RiTFx1MDAzYy9hXHUwMDNlLiIsICJkZXRlY3RSZXRpbmEiOiBmYWxzZSwgIm1heE5hdGl2ZVpvb20iOiAxOCwgIm1heFpvb20iOiAxOCwgIm1pblpvb20iOiAwLCAibm9XcmFwIjogZmFsc2UsICJvcGFjaXR5IjogMSwgInN1YmRvbWFpbnMiOiAiYWJjIiwgInRtcyI6IGZhbHNlfQogICAgICAgICAgICApLmFkZFRvKG1hcF8zNGJhODkzMzYyMzM0ZTJjOTAxMGFiNjVhZjlmNDZmMCk7CiAgICAgICAgCiAgICAKICAgICAgICAgICAgdmFyIGNob3JvcGxldGhfZjkyNTdlY2JlMmE0NDRmYWI5ZDFiOWRlMGRlNzgwZjAgPSBMLmZlYXR1cmVHcm91cCgKICAgICAgICAgICAgICAgIHt9CiAgICAgICAgICAgICkuYWRkVG8obWFwXzM0YmE4OTMzNjIzMzRlMmM5MDEwYWI2NWFmOWY0NmYwKTsKICAgICAgICAKICAgIAogICAgICAgIGZ1bmN0aW9uIGdlb19qc29uXzkwZGUwN2JkZjlmYTRmMTM5ZDcxNmRiNTExZDljZjM1X3N0eWxlcihmZWF0dXJlKSB7CiAgICAgICAgICAgIHN3aXRjaChmZWF0dXJlLmlkKSB7CiAgICAgICAgICAgICAgICBjYXNlICJcdWMxYTFcdWQzMGNcdWFkNmMiOiBjYXNlICJcdWMxMWNcdWNkMDhcdWFkNmMiOiBjYXNlICJcdWFkMDBcdWM1NDVcdWFkNmMiOiBjYXNlICJcdWM1OTFcdWNjOWNcdWFkNmMiOiBjYXNlICJcdWM3NDBcdWQzYzlcdWFkNmMiOiBjYXNlICJcdWM5MTFcdWI3OTFcdWFkNmMiOiBjYXNlICJcdWFkMTFcdWM5YzRcdWFkNmMiOiAKICAgICAgICAgICAgICAgICAgICByZXR1cm4geyJjb2xvciI6ICJibGFjayIsICJmaWxsQ29sb3IiOiAiI2YwM2IyMCIsICJmaWxsT3BhY2l0eSI6IDAuNiwgIm9wYWNpdHkiOiAxLCAid2VpZ2h0IjogMX07CiAgICAgICAgICAgICAgICBjYXNlICJcdWIzZDlcdWM3OTFcdWFkNmMiOiBjYXNlICJcdWMxMWNcdWIzMDBcdWJiMzhcdWFkNmMiOiBjYXNlICJcdWM2YTlcdWMwYjBcdWFkNmMiOiBjYXNlICJcdWM5MTFcdWFkNmMiOiAKICAgICAgICAgICAgICAgICAgICByZXR1cm4geyJjb2xvciI6ICJibGFjayIsICJmaWxsQ29sb3IiOiAiI2ZlYjI0YyIsICJmaWxsT3BhY2l0eSI6IDAuNiwgIm9wYWNpdHkiOiAxLCAid2VpZ2h0IjogMX07CiAgICAgICAgICAgICAgICBjYXNlICJcdWM2MDFcdWI0ZjFcdWQzZWNcdWFkNmMiOiBjYXNlICJcdWI5YzhcdWQzZWNcdWFkNmMiOiAKICAgICAgICAgICAgICAgICAgICByZXR1cm4geyJjb2xvciI6ICJibGFjayIsICJmaWxsQ29sb3IiOiAiI2ZmZmZiMiIsICJmaWxsT3BhY2l0eSI6IDAuNiwgIm9wYWNpdHkiOiAxLCAid2VpZ2h0IjogMX07CiAgICAgICAgICAgICAgICBjYXNlICJcdWFjMTVcdWMxMWNcdWFkNmMiOiAKICAgICAgICAgICAgICAgICAgICByZXR1cm4geyJjb2xvciI6ICJibGFjayIsICJmaWxsQ29sb3IiOiAiI2JkMDAyNiIsICJmaWxsT3BhY2l0eSI6IDAuNiwgIm9wYWNpdHkiOiAxLCAid2VpZ2h0IjogMX07CiAgICAgICAgICAgICAgICBjYXNlICJcdWMxMzFcdWIzZDlcdWFkNmMiOiBjYXNlICJcdWM4ODVcdWI4NWNcdWFkNmMiOiAKICAgICAgICAgICAgICAgICAgICByZXR1cm4geyJjb2xvciI6ICJibGFjayIsICJmaWxsQ29sb3IiOiAiI2ZlZDk3NiIsICJmaWxsT3BhY2l0eSI6IDAuNiwgIm9wYWNpdHkiOiAxLCAid2VpZ2h0IjogMX07CiAgICAgICAgICAgICAgICBkZWZhdWx0OgogICAgICAgICAgICAgICAgICAgIHJldHVybiB7ImNvbG9yIjogImJsYWNrIiwgImZpbGxDb2xvciI6ICIjZmQ4ZDNjIiwgImZpbGxPcGFjaXR5IjogMC42LCAib3BhY2l0eSI6IDEsICJ3ZWlnaHQiOiAxfTsKICAgICAgICAgICAgfQogICAgICAgIH0KICAgICAgICBmdW5jdGlvbiBnZW9fanNvbl85MGRlMDdiZGY5ZmE0ZjEzOWQ3MTZkYjUxMWQ5Y2YzNV9vbkVhY2hGZWF0dXJlKGZlYXR1cmUsIGxheWVyKSB7CiAgICAgICAgICAgIGxheWVyLm9uKHsKICAgICAgICAgICAgICAgIGNsaWNrOiBmdW5jdGlvbihlKSB7CiAgICAgICAgICAgICAgICAgICAgbWFwXzM0YmE4OTMzNjIzMzRlMmM5MDEwYWI2NWFmOWY0NmYwLmZpdEJvdW5kcyhlLnRhcmdldC5nZXRCb3VuZHMoKSk7CiAgICAgICAgICAgICAgICB9CiAgICAgICAgICAgIH0pOwogICAgICAgIH07CiAgICAgICAgdmFyIGdlb19qc29uXzkwZGUwN2JkZjlmYTRmMTM5ZDcxNmRiNTExZDljZjM1ID0gTC5nZW9Kc29uKG51bGwsIHsKICAgICAgICAgICAgICAgIG9uRWFjaEZlYXR1cmU6IGdlb19qc29uXzkwZGUwN2JkZjlmYTRmMTM5ZDcxNmRiNTExZDljZjM1X29uRWFjaEZlYXR1cmUsCiAgICAgICAgICAgIAogICAgICAgICAgICAgICAgc3R5bGU6IGdlb19qc29uXzkwZGUwN2JkZjlmYTRmMTM5ZDcxNmRiNTExZDljZjM1X3N0eWxlciwKICAgICAgICB9KS5hZGRUbyhjaG9yb3BsZXRoX2Y5MjU3ZWNiZTJhNDQ0ZmFiOWQxYjlkZTBkZTc4MGYwKTsKICAgICAgICAgICAgZ2VvX2pzb25fOTBkZTA3YmRmOWZhNGYxMzlkNzE2ZGI1MTFkOWNmMzUuYWRkRGF0YSh7ImZlYXR1cmVzIjogW3siZ2VvbWV0cnkiOiB7ImNvb3JkaW5hdGVzIjogW1tbMTI3LjExNTE5NTg0OTgxNjA2LCAzNy41NTc1MzMxODA3MDQ5MTVdLCBbMTI3LjE2NjgzMTg0MzY2MTI5LCAzNy41NzY3MjQ4NzM4ODYyN10sIFsxMjcuMTg0MDg3OTIzMzAxNTIsIDM3LjU1ODE0MjgwMzY5NTc1XSwgWzEyNy4xNjUzMDk4NDMwNzQ0NywgMzcuNTQyMjE4NTEyNTg2OTNdLCBbMTI3LjE0NjcyODA2ODIzNTAyLCAzNy41MTQxNTY4MDY4MDI5MV0sIFsxMjcuMTIxMjMxNjU3MTk2MTUsIDM3LjUyNTI4MjcwMDg5XSwgWzEyNy4xMTE2NzY0MjAzNjA4LCAzNy41NDA2Njk5NTUzMjQ5NjVdLCBbMTI3LjExNTE5NTg0OTgxNjA2LCAzNy41NTc1MzMxODA3MDQ5MTVdXV0sICJ0eXBlIjogIlBvbHlnb24ifSwgImlkIjogIlx1YWMxNVx1YjNkOVx1YWQ2YyIsICJwcm9wZXJ0aWVzIjogeyJiYXNlX3llYXIiOiAiMjAxMyIsICJjb2RlIjogIjExMjUwIiwgIm5hbWUiOiAiXHVhYzE1XHViM2Q5XHVhZDZjIiwgIm5hbWVfZW5nIjogIkdhbmdkb25nLWd1In0sICJ0eXBlIjogIkZlYXR1cmUifSwgeyJnZW9tZXRyeSI6IHsiY29vcmRpbmF0ZXMiOiBbW1sxMjcuMDY5MDY5ODEzMDM3MiwgMzcuNTIyMjc5NDIzNTA1MDI2XSwgWzEyNy4xMDA4NzUxOTc5MTk2MiwgMzcuNTI0ODQxMjIwMTY3MDU1XSwgWzEyNy4xMTE2NzY0MjAzNjA4LCAzNy41NDA2Njk5NTUzMjQ5NjVdLCBbMTI3LjEyMTIzMTY1NzE5NjE1LCAzNy41MjUyODI3MDA4OV0sIFsxMjcuMTQ2NzI4MDY4MjM1MDIsIDM3LjUxNDE1NjgwNjgwMjkxXSwgWzEyNy4xNjM0OTQ0MjE1NzY1LCAzNy40OTc0NDU0MDYwOTc0ODRdLCBbMTI3LjE0MjA2MDU4NDEzMjc0LCAzNy40NzA4OTgxOTA5ODUwMV0sIFsxMjcuMTI0NDA1NzEwODA4OTMsIDM3LjQ2MjQwNDQ1NTg3MDQ4XSwgWzEyNy4xMTExNzA4NTIwMTIzOCwgMzcuNDg1NzA4MzgxNTEyNDQ1XSwgWzEyNy4wNzE5MTQ2MDAwNzI0LCAzNy41MDIyNDAxMzU4NzY2OV0sIFsxMjcuMDY5MDY5ODEzMDM3MiwgMzcuNTIyMjc5NDIzNTA1MDI2XV1dLCAidHlwZSI6ICJQb2x5Z29uIn0sICJpZCI6ICJcdWMxYTFcdWQzMGNcdWFkNmMiLCAicHJvcGVydGllcyI6IHsiYmFzZV95ZWFyIjogIjIwMTMiLCAiY29kZSI6ICIxMTI0MCIsICJuYW1lIjogIlx1YzFhMVx1ZDMwY1x1YWQ2YyIsICJuYW1lX2VuZyI6ICJTb25ncGEtZ3UifSwgInR5cGUiOiAiRmVhdHVyZSJ9LCB7Imdlb21ldHJ5IjogeyJjb29yZGluYXRlcyI6IFtbWzEyNy4wNTg2NzM1OTI4ODM5OCwgMzcuNTI2Mjk5NzQ5MjI1NjhdLCBbMTI3LjA2OTA2OTgxMzAzNzIsIDM3LjUyMjI3OTQyMzUwNTAyNl0sIFsxMjcuMDcxOTE0NjAwMDcyNCwgMzcuNTAyMjQwMTM1ODc2NjldLCBbMTI3LjExMTE3MDg1MjAxMjM4LCAzNy40ODU3MDgzODE1MTI0NDVdLCBbMTI3LjEyNDQwNTcxMDgwODkzLCAzNy40NjI0MDQ0NTU4NzA0OF0sIFsxMjcuMDk4NDI3NTkzMTg3NTEsIDM3LjQ1ODYyMjUzODU3NDYxXSwgWzEyNy4wODY0MDQ0MDU3ODE1NiwgMzcuNDcyNjk3OTM1MTg0NjU1XSwgWzEyNy4wNTU5MTcwNDgxOTA0LCAzNy40NjU5MjI4OTE0MDc3XSwgWzEyNy4wMzYyMTkxNTA5ODc5OCwgMzcuNDgxNzU4MDI0Mjc2MDNdLCBbMTI3LjAxMzk3MTE5NjY3NTEzLCAzNy41MjUwMzk4ODI4OTY2OV0sIFsxMjcuMDIzMDI4MzE4OTA1NTksIDM3LjUzMjMxODk5NTgyNjYzXSwgWzEyNy4wNTg2NzM1OTI4ODM5OCwgMzcuNTI2Mjk5NzQ5MjI1NjhdXV0sICJ0eXBlIjogIlBvbHlnb24ifSwgImlkIjogIlx1YWMxNVx1YjBhOFx1YWQ2YyIsICJwcm9wZXJ0aWVzIjogeyJiYXNlX3llYXIiOiAiMjAxMyIsICJjb2RlIjogIjExMjMwIiwgIm5hbWUiOiAiXHVhYzE1XHViMGE4XHVhZDZjIiwgIm5hbWVfZW5nIjogIkdhbmduYW0tZ3UifSwgInR5cGUiOiAiRmVhdHVyZSJ9LCB7Imdlb21ldHJ5IjogeyJjb29yZGluYXRlcyI6IFtbWzEyNy4wMTM5NzExOTY2NzUxMywgMzcuNTI1MDM5ODgyODk2NjldLCBbMTI3LjAzNjIxOTE1MDk4Nzk4LCAzNy40ODE3NTgwMjQyNzYwM10sIFsxMjcuMDU1OTE3MDQ4MTkwNCwgMzcuNDY1OTIyODkxNDA3N10sIFsxMjcuMDg2NDA0NDA1NzgxNTYsIDM3LjQ3MjY5NzkzNTE4NDY1NV0sIFsxMjcuMDk4NDI3NTkzMTg3NTEsIDM3LjQ1ODYyMjUzODU3NDYxXSwgWzEyNy4wOTA0NjkyODU2NTk1MSwgMzcuNDQyOTY4MjYxMTQxODVdLCBbMTI3LjA2Nzc4MTA3NjA1NDMzLCAzNy40MjYxOTc0MjQwNTczMTRdLCBbMTI3LjA0OTU3MjMyOTg3MTQyLCAzNy40MjgwNTgzNjg0NTY5NF0sIFsxMjcuMDM4ODE3ODI1OTc5MjIsIDM3LjQ1MzgyMDM5ODUxNzE1XSwgWzEyNi45OTA3MjA3MzE5NTQ2MiwgMzcuNDU1MzI2MTQzMzEwMDI1XSwgWzEyNi45ODM2NzY2ODI5MTgwMiwgMzcuNDczODU2NDkyNjkyMDg2XSwgWzEyNi45ODIyMzgwNzkxNjA4MSwgMzcuNTA5MzE0OTY2NzcwMzI2XSwgWzEyNy4wMTM5NzExOTY2NzUxMywgMzcuNTI1MDM5ODgyODk2NjldXV0sICJ0eXBlIjogIlBvbHlnb24ifSwgImlkIjogIlx1YzExY1x1Y2QwOFx1YWQ2YyIsICJwcm9wZXJ0aWVzIjogeyJiYXNlX3llYXIiOiAiMjAxMyIsICJjb2RlIjogIjExMjIwIiwgIm5hbWUiOiAiXHVjMTFjXHVjZDA4XHVhZDZjIiwgIm5hbWVfZW5nIjogIlNlb2Noby1ndSJ9LCAidHlwZSI6ICJGZWF0dXJlIn0sIHsiZ2VvbWV0cnkiOiB7ImNvb3JkaW5hdGVzIjogW1tbMTI2Ljk4MzY3NjY4MjkxODAyLCAzNy40NzM4NTY0OTI2OTIwODZdLCBbMTI2Ljk5MDcyMDczMTk1NDYyLCAzNy40NTUzMjYxNDMzMTAwMjVdLCBbMTI2Ljk2NTIwNDM5MDg1MTQzLCAzNy40MzgyNDk3ODQwMDYyNDZdLCBbMTI2Ljk1MDAwMDAxMDEwMTgyLCAzNy40MzYxMzQ1MTE2NTcxOV0sIFsxMjYuOTMwODQ0MDgwNTY1MjUsIDM3LjQ0NzM4MjkyODMzMzk5NF0sIFsxMjYuOTE2NzcyODE0NjYwMSwgMzcuNDU0OTA1NjY0MjM3ODldLCBbMTI2LjkwMTU2MDk0MTI5ODk1LCAzNy40Nzc1Mzg0Mjc4OTkwMV0sIFsxMjYuOTA1MzE5NzU4MDE4MTIsIDM3LjQ4MjE4MDg3NTc1NDI5XSwgWzEyNi45NDkyMjY2MTM4OTUwOCwgMzcuNDkxMjU0Mzc0OTU2NDldLCBbMTI2Ljk3MjU4OTE4NTA2NjIsIDM3LjQ3MjU2MTM2MzI3ODEyNV0sIFsxMjYuOTgzNjc2NjgyOTE4MDIsIDM3LjQ3Mzg1NjQ5MjY5MjA4Nl1dXSwgInR5cGUiOiAiUG9seWdvbiJ9LCAiaWQiOiAiXHVhZDAwXHVjNTQ1XHVhZDZjIiwgInByb3BlcnRpZXMiOiB7ImJhc2VfeWVhciI6ICIyMDEzIiwgImNvZGUiOiAiMTEyMTAiLCAibmFtZSI6ICJcdWFkMDBcdWM1NDVcdWFkNmMiLCAibmFtZV9lbmciOiAiR3dhbmFrLWd1In0sICJ0eXBlIjogIkZlYXR1cmUifSwgeyJnZW9tZXRyeSI6IHsiY29vcmRpbmF0ZXMiOiBbW1sxMjYuOTgyMjM4MDc5MTYwODEsIDM3LjUwOTMxNDk2Njc3MDMyNl0sIFsxMjYuOTgzNjc2NjgyOTE4MDIsIDM3LjQ3Mzg1NjQ5MjY5MjA4Nl0sIFsxMjYuOTcyNTg5MTg1MDY2MiwgMzcuNDcyNTYxMzYzMjc4MTI1XSwgWzEyNi45NDkyMjY2MTM4OTUwOCwgMzcuNDkxMjU0Mzc0OTU2NDldLCBbMTI2LjkwNTMxOTc1ODAxODEyLCAzNy40ODIxODA4NzU3NTQyOV0sIFsxMjYuOTIxNzc4OTMxNzQ4MjUsIDM3LjQ5NDg4OTg3NzQxNTE3Nl0sIFsxMjYuOTI4MTA2Mjg4MjgyNzksIDM3LjUxMzI5NTk1NzMyMDE1XSwgWzEyNi45NTI0OTk5MDI5ODE1OSwgMzcuNTE3MjI1MDA3NDE4MTNdLCBbMTI2Ljk4MjIzODA3OTE2MDgxLCAzNy41MDkzMTQ5NjY3NzAzMjZdXV0sICJ0eXBlIjogIlBvbHlnb24ifSwgImlkIjogIlx1YjNkOVx1Yzc5MVx1YWQ2YyIsICJwcm9wZXJ0aWVzIjogeyJiYXNlX3llYXIiOiAiMjAxMyIsICJjb2RlIjogIjExMjAwIiwgIm5hbWUiOiAiXHViM2Q5XHVjNzkxXHVhZDZjIiwgIm5hbWVfZW5nIjogIkRvbmdqYWstZ3UifSwgInR5cGUiOiAiRmVhdHVyZSJ9LCB7Imdlb21ldHJ5IjogeyJjb29yZGluYXRlcyI6IFtbWzEyNi44OTE4NDY2Mzg2Mjc2NCwgMzcuNTQ3MzczOTc0OTk3MTE0XSwgWzEyNi45NDU2NjczMzA4MzIxMiwgMzcuNTI2NjE3NTQyNDUzMzY2XSwgWzEyNi45NTI0OTk5MDI5ODE1OSwgMzcuNTE3MjI1MDA3NDE4MTNdLCBbMTI2LjkyODEwNjI4ODI4Mjc5LCAzNy41MTMyOTU5NTczMjAxNV0sIFsxMjYuOTIxNzc4OTMxNzQ4MjUsIDM3LjQ5NDg4OTg3NzQxNTE3Nl0sIFsxMjYuOTA1MzE5NzU4MDE4MTIsIDM3LjQ4MjE4MDg3NTc1NDI5XSwgWzEyNi44OTU5NDc3Njc4MjQ4NSwgMzcuNTA0Njc1MjgxMzA5MTc2XSwgWzEyNi44ODE1NjQwMjM1Mzg2MiwgMzcuNTEzOTcwMDM0NzY1Njg0XSwgWzEyNi44ODgyNTc1Nzg2MDA5OSwgMzcuNTQwNzk3MzM2MzAyMzJdLCBbMTI2Ljg5MTg0NjYzODYyNzY0LCAzNy41NDczNzM5NzQ5OTcxMTRdXV0sICJ0eXBlIjogIlBvbHlnb24ifSwgImlkIjogIlx1YzYwMVx1YjRmMVx1ZDNlY1x1YWQ2YyIsICJwcm9wZXJ0aWVzIjogeyJiYXNlX3llYXIiOiAiMjAxMyIsICJjb2RlIjogIjExMTkwIiwgIm5hbWUiOiAiXHVjNjAxXHViNGYxXHVkM2VjXHVhZDZjIiwgIm5hbWVfZW5nIjogIlllb25nZGV1bmdwby1ndSJ9LCAidHlwZSI6ICJGZWF0dXJlIn0sIHsiZ2VvbWV0cnkiOiB7ImNvb3JkaW5hdGVzIjogW1tbMTI2LjkwMTU2MDk0MTI5ODk1LCAzNy40Nzc1Mzg0Mjc4OTkwMV0sIFsxMjYuOTE2NzcyODE0NjYwMSwgMzcuNDU0OTA1NjY0MjM3ODldLCBbMTI2LjkzMDg0NDA4MDU2NTI1LCAzNy40NDczODI5MjgzMzM5OTRdLCBbMTI2LjkwMjU4MzE3MTE2OTcsIDM3LjQzNDU0OTM2NjM0OTEyNF0sIFsxMjYuODc2ODMyNzE1MDI0MjgsIDM3LjQ4MjU3NjU5MTYwNzMwNV0sIFsxMjYuOTAxNTYwOTQxMjk4OTUsIDM3LjQ3NzUzODQyNzg5OTAxXV1dLCAidHlwZSI6ICJQb2x5Z29uIn0sICJpZCI6ICJcdWFlMDhcdWNjOWNcdWFkNmMiLCAicHJvcGVydGllcyI6IHsiYmFzZV95ZWFyIjogIjIwMTMiLCAiY29kZSI6ICIxMTE4MCIsICJuYW1lIjogIlx1YWUwOFx1Y2M5Y1x1YWQ2YyIsICJuYW1lX2VuZyI6ICJHZXVtY2hlb24tZ3UifSwgInR5cGUiOiAiRmVhdHVyZSJ9LCB7Imdlb21ldHJ5IjogeyJjb29yZGluYXRlcyI6IFtbWzEyNi44MjY4ODA4MTUxNzMxNCwgMzcuNTA1NDg5NzIyMzI4OTZdLCBbMTI2Ljg4MTU2NDAyMzUzODYyLCAzNy41MTM5NzAwMzQ3NjU2ODRdLCBbMTI2Ljg5NTk0Nzc2NzgyNDg1LCAzNy41MDQ2NzUyODEzMDkxNzZdLCBbMTI2LjkwNTMxOTc1ODAxODEyLCAzNy40ODIxODA4NzU3NTQyOV0sIFsxMjYuOTAxNTYwOTQxMjk4OTUsIDM3LjQ3NzUzODQyNzg5OTAxXSwgWzEyNi44NzY4MzI3MTUwMjQyOCwgMzcuNDgyNTc2NTkxNjA3MzA1XSwgWzEyNi44NDc2MjY3NjA1NDk1MywgMzcuNDcxNDY3MjM5MzYzMjNdLCBbMTI2LjgzNTQ5NDg1MDc2MTk2LCAzNy40NzQwOTgyMzY5NzUwOTVdLCBbMTI2LjgyMjY0Nzk2NzkxMzQ4LCAzNy40ODc4NDc2NDkyMTQ3XSwgWzEyNi44MjUwNDczNjMzMTQwNiwgMzcuNTAzMDI2MTI2NDA0NDNdLCBbMTI2LjgyNjg4MDgxNTE3MzE0LCAzNy41MDU0ODk3MjIzMjg5Nl1dXSwgInR5cGUiOiAiUG9seWdvbiJ9LCAiaWQiOiAiXHVhZDZjXHViODVjXHVhZDZjIiwgInByb3BlcnRpZXMiOiB7ImJhc2VfeWVhciI6ICIyMDEzIiwgImNvZGUiOiAiMTExNzAiLCAibmFtZSI6ICJcdWFkNmNcdWI4NWNcdWFkNmMiLCAibmFtZV9lbmciOiAiR3Vyby1ndSJ9LCAidHlwZSI6ICJGZWF0dXJlIn0sIHsiZ2VvbWV0cnkiOiB7ImNvb3JkaW5hdGVzIjogW1tbMTI2Ljc5NTc1NzY4NTUyOTA3LCAzNy41Nzg4MTA4NzYzMzIwMl0sIFsxMjYuODA3MDIxMTUwMjM1OTcsIDM3LjYwMTIzMDAxMDEzMjI4XSwgWzEyNi44MjI1MTQzODQ3NzEwNSwgMzcuNTg4MDQzMDgxMDA4Ml0sIFsxMjYuODU5ODQxOTkzOTk2NjcsIDM3LjU3MTg0Nzg1NTI5Mjc0NV0sIFsxMjYuODkxODQ2NjM4NjI3NjQsIDM3LjU0NzM3Mzk3NDk5NzExNF0sIFsxMjYuODg4MjU3NTc4NjAwOTksIDM3LjU0MDc5NzMzNjMwMjMyXSwgWzEyNi44NjYzNzQ2NDMyMTIzOCwgMzcuNTQ4NTkxOTEwOTQ4MjNdLCBbMTI2Ljg2NjEwMDczNDc2Mzk1LCAzNy41MjY5OTk2NDE0NDY2OV0sIFsxMjYuODQyNTcyOTE5NDMxNTMsIDM3LjUyMzczNzA3ODA1NTk2XSwgWzEyNi44MjQyMzMxNDI2NzIyLCAzNy41Mzc4ODA3ODc1MzI0OF0sIFsxMjYuNzczMjQ0MTc3MTc3MDMsIDM3LjU0NTkxMjM0NTA1NTRdLCBbMTI2Ljc2OTc5MTgwNTc5MzUyLCAzNy41NTEzOTE4MzAwODgwOV0sIFsxMjYuNzk1NzU3Njg1NTI5MDcsIDM3LjU3ODgxMDg3NjMzMjAyXV1dLCAidHlwZSI6ICJQb2x5Z29uIn0sICJpZCI6ICJcdWFjMTVcdWMxMWNcdWFkNmMiLCAicHJvcGVydGllcyI6IHsiYmFzZV95ZWFyIjogIjIwMTMiLCAiY29kZSI6ICIxMTE2MCIsICJuYW1lIjogIlx1YWMxNVx1YzExY1x1YWQ2YyIsICJuYW1lX2VuZyI6ICJHYW5nc2VvLWd1In0sICJ0eXBlIjogIkZlYXR1cmUifSwgeyJnZW9tZXRyeSI6IHsiY29vcmRpbmF0ZXMiOiBbW1sxMjYuODI0MjMzMTQyNjcyMiwgMzcuNTM3ODgwNzg3NTMyNDhdLCBbMTI2Ljg0MjU3MjkxOTQzMTUzLCAzNy41MjM3MzcwNzgwNTU5Nl0sIFsxMjYuODY2MTAwNzM0NzYzOTUsIDM3LjUyNjk5OTY0MTQ0NjY5XSwgWzEyNi44NjYzNzQ2NDMyMTIzOCwgMzcuNTQ4NTkxOTEwOTQ4MjNdLCBbMTI2Ljg4ODI1NzU3ODYwMDk5LCAzNy41NDA3OTczMzYzMDIzMl0sIFsxMjYuODgxNTY0MDIzNTM4NjIsIDM3LjUxMzk3MDAzNDc2NTY4NF0sIFsxMjYuODI2ODgwODE1MTczMTQsIDM3LjUwNTQ4OTcyMjMyODk2XSwgWzEyNi44MjQyMzMxNDI2NzIyLCAzNy41Mzc4ODA3ODc1MzI0OF1dXSwgInR5cGUiOiAiUG9seWdvbiJ9LCAiaWQiOiAiXHVjNTkxXHVjYzljXHVhZDZjIiwgInByb3BlcnRpZXMiOiB7ImJhc2VfeWVhciI6ICIyMDEzIiwgImNvZGUiOiAiMTExNTAiLCAibmFtZSI6ICJcdWM1OTFcdWNjOWNcdWFkNmMiLCAibmFtZV9lbmciOiAiWWFuZ2NoZW9uLWd1In0sICJ0eXBlIjogIkZlYXR1cmUifSwgeyJnZW9tZXRyeSI6IHsiY29vcmRpbmF0ZXMiOiBbW1sxMjYuOTA1MjIwNjU4MzEwNTMsIDM3LjU3NDA5NzAwNTIyNTc0XSwgWzEyNi45Mzg5ODE2MTc5ODk3MywgMzcuNTUyMzEwMDAzNzI4MTI0XSwgWzEyNi45NjM1ODIyNjcxMDgxMiwgMzcuNTU2MDU2MzU0NzUxNTRdLCBbMTI2Ljk2NDQ4NTcwNTUzMDU1LCAzNy41NDg3MDU2OTIwMjE2MzVdLCBbMTI2Ljk0NTY2NzMzMDgzMjEyLCAzNy41MjY2MTc1NDI0NTMzNjZdLCBbMTI2Ljg5MTg0NjYzODYyNzY0LCAzNy41NDczNzM5NzQ5OTcxMTRdLCBbMTI2Ljg1OTg0MTk5Mzk5NjY3LCAzNy41NzE4NDc4NTUyOTI3NDVdLCBbMTI2Ljg4NDMzMjg0NzczMjg4LCAzNy41ODgxNDMzMjI4ODA1MjZdLCBbMTI2LjkwNTIyMDY1ODMxMDUzLCAzNy41NzQwOTcwMDUyMjU3NF1dXSwgInR5cGUiOiAiUG9seWdvbiJ9LCAiaWQiOiAiXHViOWM4XHVkM2VjXHVhZDZjIiwgInByb3BlcnRpZXMiOiB7ImJhc2VfeWVhciI6ICIyMDEzIiwgImNvZGUiOiAiMTExNDAiLCAibmFtZSI6ICJcdWI5YzhcdWQzZWNcdWFkNmMiLCAibmFtZV9lbmciOiAiTWFwby1ndSJ9LCAidHlwZSI6ICJGZWF0dXJlIn0sIHsiZ2VvbWV0cnkiOiB7ImNvb3JkaW5hdGVzIjogW1tbMTI2Ljk1MjQ3NTIwMzA1NzIsIDM3LjYwNTA4NjkyNzM3MDQ1XSwgWzEyNi45NTU2NTQyNTg0NjQ2MywgMzcuNTc2MDgwNzkwODgxNDU2XSwgWzEyNi45Njg3MzYzMzI3OTA3NSwgMzcuNTYzMTM2MDQ2OTA4MjddLCBbMTI2Ljk2MzU4MjI2NzEwODEyLCAzNy41NTYwNTYzNTQ3NTE1NF0sIFsxMjYuOTM4OTgxNjE3OTg5NzMsIDM3LjU1MjMxMDAwMzcyODEyNF0sIFsxMjYuOTA1MjIwNjU4MzEwNTMsIDM3LjU3NDA5NzAwNTIyNTc0XSwgWzEyNi45NTI0NzUyMDMwNTcyLCAzNy42MDUwODY5MjczNzA0NV1dXSwgInR5cGUiOiAiUG9seWdvbiJ9LCAiaWQiOiAiXHVjMTFjXHViMzAwXHViYjM4XHVhZDZjIiwgInByb3BlcnRpZXMiOiB7ImJhc2VfeWVhciI6ICIyMDEzIiwgImNvZGUiOiAiMTExMzAiLCAibmFtZSI6ICJcdWMxMWNcdWIzMDBcdWJiMzhcdWFkNmMiLCAibmFtZV9lbmciOiAiU2VvZGFlbXVuLWd1In0sICJ0eXBlIjogIkZlYXR1cmUifSwgeyJnZW9tZXRyeSI6IHsiY29vcmRpbmF0ZXMiOiBbW1sxMjYuOTczODg2NDEyODcwMiwgMzcuNjI5NDk2MzQ3ODY4ODhdLCBbMTI2Ljk1NDI3MDE3MDA2MTI5LCAzNy42MjIwMzM0MzEzMzk0MjVdLCBbMTI2Ljk1MjQ3NTIwMzA1NzIsIDM3LjYwNTA4NjkyNzM3MDQ1XSwgWzEyNi45MDUyMjA2NTgzMTA1MywgMzcuNTc0MDk3MDA1MjI1NzRdLCBbMTI2Ljg4NDMzMjg0NzczMjg4LCAzNy41ODgxNDMzMjI4ODA1MjZdLCBbMTI2LjkwMzk2NjgxMDAzNTk1LCAzNy41OTIyNzQwMzQxOTk0Ml0sIFsxMjYuOTAzMDMwNjYxNzc2NjgsIDM3LjYwOTk3NzkxMTQwMTM0NF0sIFsxMjYuOTE0NTU0ODE0Mjk2NDgsIDM3LjY0MTUwMDUwOTk2OTM1XSwgWzEyNi45NTY0NzM3OTczODcsIDM3LjY1MjQ4MDczNzMzOTQ0NV0sIFsxMjYuOTczODg2NDEyODcwMiwgMzcuNjI5NDk2MzQ3ODY4ODhdXV0sICJ0eXBlIjogIlBvbHlnb24ifSwgImlkIjogIlx1Yzc0MFx1ZDNjOVx1YWQ2YyIsICJwcm9wZXJ0aWVzIjogeyJiYXNlX3llYXIiOiAiMjAxMyIsICJjb2RlIjogIjExMTIwIiwgIm5hbWUiOiAiXHVjNzQwXHVkM2M5XHVhZDZjIiwgIm5hbWVfZW5nIjogIkV1bnB5ZW9uZy1ndSJ9LCAidHlwZSI6ICJGZWF0dXJlIn0sIHsiZ2VvbWV0cnkiOiB7ImNvb3JkaW5hdGVzIjogW1tbMTI3LjA4Mzg3NTI3MDMxOTUsIDM3LjY5MzU5NTM0MjAyMDM0XSwgWzEyNy4wOTcwNjM5MTMwOTY5NSwgMzcuNjg2MzgzNzE5MzcyMjk0XSwgWzEyNy4wOTQ0MDc2NjI5ODcxNywgMzcuNjQ3MTM0OTA0NzMwNDVdLCBbMTI3LjExMzI2Nzk1ODU1MTk5LCAzNy42Mzk2MjI5MDUzMTU5MjVdLCBbMTI3LjEwNzgyMjc3Njg4MTI5LCAzNy42MTgwNDI0NDI0MTA2OV0sIFsxMjcuMDczNTEyNDM4MjUyNzgsIDM3LjYxMjgzNjYwMzQyMzEzXSwgWzEyNy4wNTIwOTM3MzU2ODYxOSwgMzcuNjIxNjQwNjU0ODc3ODJdLCBbMTI3LjA0MzU4ODAwODk1NjA5LCAzNy42Mjg0ODkzMTI5ODcxNV0sIFsxMjcuMDU4MDAwNzUyMjAwOTEsIDM3LjY0MzE4MjYzODc4Mjc2XSwgWzEyNy4wNTI4ODQ3OTcxMDQ4NSwgMzcuNjg0MjM4NTcwODQzNDddLCBbMTI3LjA4Mzg3NTI3MDMxOTUsIDM3LjY5MzU5NTM0MjAyMDM0XV1dLCAidHlwZSI6ICJQb2x5Z29uIn0sICJpZCI6ICJcdWIxNzhcdWM2ZDBcdWFkNmMiLCAicHJvcGVydGllcyI6IHsiYmFzZV95ZWFyIjogIjIwMTMiLCAiY29kZSI6ICIxMTExMCIsICJuYW1lIjogIlx1YjE3OFx1YzZkMFx1YWQ2YyIsICJuYW1lX2VuZyI6ICJOb3dvbi1ndSJ9LCAidHlwZSI6ICJGZWF0dXJlIn0sIHsiZ2VvbWV0cnkiOiB7ImNvb3JkaW5hdGVzIjogW1tbMTI3LjA1Mjg4NDc5NzEwNDg1LCAzNy42ODQyMzg1NzA4NDM0N10sIFsxMjcuMDU4MDAwNzUyMjAwOTEsIDM3LjY0MzE4MjYzODc4Mjc2XSwgWzEyNy4wNDM1ODgwMDg5NTYwOSwgMzcuNjI4NDg5MzEyOTg3MTVdLCBbMTI3LjAxNDY1OTM1ODkyNDY2LCAzNy42NDk0MzY4NzQ5NjgxMl0sIFsxMjcuMDIwNjIxMTYxNDEzODksIDM3LjY2NzE3MzU3NTk3MTIwNV0sIFsxMjcuMDEwMzk2NjYwNDIwNzEsIDM3LjY4MTg5NDU4OTYwMzU5NF0sIFsxMjcuMDE3OTUwOTkyMDM0MzIsIDM3LjY5ODI0NDEyNzc1NjYyXSwgWzEyNy4wNTI4ODQ3OTcxMDQ4NSwgMzcuNjg0MjM4NTcwODQzNDddXV0sICJ0eXBlIjogIlBvbHlnb24ifSwgImlkIjogIlx1YjNjNFx1YmQwOVx1YWQ2YyIsICJwcm9wZXJ0aWVzIjogeyJiYXNlX3llYXIiOiAiMjAxMyIsICJjb2RlIjogIjExMTAwIiwgIm5hbWUiOiAiXHViM2M0XHViZDA5XHVhZDZjIiwgIm5hbWVfZW5nIjogIkRvYm9uZy1ndSJ9LCAidHlwZSI6ICJGZWF0dXJlIn0sIHsiZ2VvbWV0cnkiOiB7ImNvb3JkaW5hdGVzIjogW1tbMTI2Ljk5MzgzOTAzNDI0LCAzNy42NzY2ODE3NjExOTkwODVdLCBbMTI3LjAxMDM5NjY2MDQyMDcxLCAzNy42ODE4OTQ1ODk2MDM1OTRdLCBbMTI3LjAyMDYyMTE2MTQxMzg5LCAzNy42NjcxNzM1NzU5NzEyMDVdLCBbMTI3LjAxNDY1OTM1ODkyNDY2LCAzNy42NDk0MzY4NzQ5NjgxMl0sIFsxMjcuMDQzNTg4MDA4OTU2MDksIDM3LjYyODQ4OTMxMjk4NzE1XSwgWzEyNy4wNTIwOTM3MzU2ODYxOSwgMzcuNjIxNjQwNjU0ODc3ODJdLCBbMTI3LjAzODkyNDAwOTkyMzAxLCAzNy42MDk3MTU2MTEwMjM4MTZdLCBbMTI3LjAxMjgxNTQ3NDk1MjMsIDM3LjYxMzY1MjI0MzQ3MDI1Nl0sIFsxMjYuOTg2NzI3MDU1MTM4NjksIDM3LjYzMzc3NjQxMjg4MTk2XSwgWzEyNi45ODE3NDUyNjc2NTUxLCAzNy42NTIwOTc2OTM4Nzc3Nl0sIFsxMjYuOTkzODM5MDM0MjQsIDM3LjY3NjY4MTc2MTE5OTA4NV1dXSwgInR5cGUiOiAiUG9seWdvbiJ9LCAiaWQiOiAiXHVhYzE1XHViZDgxXHVhZDZjIiwgInByb3BlcnRpZXMiOiB7ImJhc2VfeWVhciI6ICIyMDEzIiwgImNvZGUiOiAiMTEwOTAiLCAibmFtZSI6ICJcdWFjMTVcdWJkODFcdWFkNmMiLCAibmFtZV9lbmciOiAiR2FuZ2J1ay1ndSJ9LCAidHlwZSI6ICJGZWF0dXJlIn0sIHsiZ2VvbWV0cnkiOiB7ImNvb3JkaW5hdGVzIjogW1tbMTI2Ljk3NzE3NTQwNjQxNiwgMzcuNjI4NTk3MTU0MDAzODhdLCBbMTI2Ljk4NjcyNzA1NTEzODY5LCAzNy42MzM3NzY0MTI4ODE5Nl0sIFsxMjcuMDEyODE1NDc0OTUyMywgMzcuNjEzNjUyMjQzNDcwMjU2XSwgWzEyNy4wMzg5MjQwMDk5MjMwMSwgMzcuNjA5NzE1NjExMDIzODE2XSwgWzEyNy4wNTIwOTM3MzU2ODYxOSwgMzcuNjIxNjQwNjU0ODc3ODJdLCBbMTI3LjA3MzUxMjQzODI1Mjc4LCAzNy42MTI4MzY2MDM0MjMxM10sIFsxMjcuMDczODI3MDcwOTkyMjcsIDM3LjYwNDAxOTI4OTg2NDE5XSwgWzEyNy4wNDI3MDUyMjIwOTQsIDM3LjU5MjM5NDM3NTkzMzkxXSwgWzEyNy4wMjUyNzI1NDUyODAwMywgMzcuNTc1MjQ2MTYyNDUyNDldLCBbMTI2Ljk5MzQ4MjkzMzU4MzE0LCAzNy41ODg1NjU0NTcyMTYxNTZdLCBbMTI2Ljk4ODc5ODY1OTkyMzg0LCAzNy42MTE4OTI3MzE5NzU2XSwgWzEyNi45NzcxNzU0MDY0MTYsIDM3LjYyODU5NzE1NDAwMzg4XV1dLCAidHlwZSI6ICJQb2x5Z29uIn0sICJpZCI6ICJcdWMxMzFcdWJkODFcdWFkNmMiLCAicHJvcGVydGllcyI6IHsiYmFzZV95ZWFyIjogIjIwMTMiLCAiY29kZSI6ICIxMTA4MCIsICJuYW1lIjogIlx1YzEzMVx1YmQ4MVx1YWQ2YyIsICJuYW1lX2VuZyI6ICJTZW9uZ2J1ay1ndSJ9LCAidHlwZSI6ICJGZWF0dXJlIn0sIHsiZ2VvbWV0cnkiOiB7ImNvb3JkaW5hdGVzIjogW1tbMTI3LjA3MzUxMjQzODI1Mjc4LCAzNy42MTI4MzY2MDM0MjMxM10sIFsxMjcuMTA3ODIyNzc2ODgxMjksIDM3LjYxODA0MjQ0MjQxMDY5XSwgWzEyNy4xMjAxMjQ2MDIwMTE0LCAzNy42MDE3ODQ1NzU5ODE4OF0sIFsxMjcuMTAzMDQxNzQyNDkyMTQsIDM3LjU3MDc2MzQyMjkwOTU1XSwgWzEyNy4wODA2ODU0MTI4MDQwMywgMzcuNTY5MDY0MjU1MTkwMTddLCBbMTI3LjA3MzgyNzA3MDk5MjI3LCAzNy42MDQwMTkyODk4NjQxOV0sIFsxMjcuMDczNTEyNDM4MjUyNzgsIDM3LjYxMjgzNjYwMzQyMzEzXV1dLCAidHlwZSI6ICJQb2x5Z29uIn0sICJpZCI6ICJcdWM5MTFcdWI3OTFcdWFkNmMiLCAicHJvcGVydGllcyI6IHsiYmFzZV95ZWFyIjogIjIwMTMiLCAiY29kZSI6ICIxMTA3MCIsICJuYW1lIjogIlx1YzkxMVx1Yjc5MVx1YWQ2YyIsICJuYW1lX2VuZyI6ICJKdW5nbmFuZy1ndSJ9LCAidHlwZSI6ICJGZWF0dXJlIn0sIHsiZ2VvbWV0cnkiOiB7ImNvb3JkaW5hdGVzIjogW1tbMTI3LjAyNTI3MjU0NTI4MDAzLCAzNy41NzUyNDYxNjI0NTI0OV0sIFsxMjcuMDQyNzA1MjIyMDk0LCAzNy41OTIzOTQzNzU5MzM5MV0sIFsxMjcuMDczODI3MDcwOTkyMjcsIDM3LjYwNDAxOTI4OTg2NDE5XSwgWzEyNy4wODA2ODU0MTI4MDQwMywgMzcuNTY5MDY0MjU1MTkwMTddLCBbMTI3LjA3NDIxMDUzMDI0MzYyLCAzNy41NTcyNDc2OTcxMjA4NV0sIFsxMjcuMDUwMDU2MDEwODE1NjcsIDM3LjU2NzU3NzYxMjU5MDg0Nl0sIFsxMjcuMDI1NDcyNjYzNDk5NzYsIDM3LjU2ODk0MzU1MjIzNzczNF0sIFsxMjcuMDI1MjcyNTQ1MjgwMDMsIDM3LjU3NTI0NjE2MjQ1MjQ5XV1dLCAidHlwZSI6ICJQb2x5Z29uIn0sICJpZCI6ICJcdWIzZDlcdWIzMDBcdWJiMzhcdWFkNmMiLCAicHJvcGVydGllcyI6IHsiYmFzZV95ZWFyIjogIjIwMTMiLCAiY29kZSI6ICIxMTA2MCIsICJuYW1lIjogIlx1YjNkOVx1YjMwMFx1YmIzOFx1YWQ2YyIsICJuYW1lX2VuZyI6ICJEb25nZGFlbXVuLWd1In0sICJ0eXBlIjogIkZlYXR1cmUifSwgeyJnZW9tZXRyeSI6IHsiY29vcmRpbmF0ZXMiOiBbW1sxMjcuMDgwNjg1NDEyODA0MDMsIDM3LjU2OTA2NDI1NTE5MDE3XSwgWzEyNy4xMDMwNDE3NDI0OTIxNCwgMzcuNTcwNzYzNDIyOTA5NTVdLCBbMTI3LjExNTE5NTg0OTgxNjA2LCAzNy41NTc1MzMxODA3MDQ5MTVdLCBbMTI3LjExMTY3NjQyMDM2MDgsIDM3LjU0MDY2OTk1NTMyNDk2NV0sIFsxMjcuMTAwODc1MTk3OTE5NjIsIDM3LjUyNDg0MTIyMDE2NzA1NV0sIFsxMjcuMDY5MDY5ODEzMDM3MiwgMzcuNTIyMjc5NDIzNTA1MDI2XSwgWzEyNy4wNTg2NzM1OTI4ODM5OCwgMzcuNTI2Mjk5NzQ5MjI1NjhdLCBbMTI3LjA3NDIxMDUzMDI0MzYyLCAzNy41NTcyNDc2OTcxMjA4NV0sIFsxMjcuMDgwNjg1NDEyODA0MDMsIDM3LjU2OTA2NDI1NTE5MDE3XV1dLCAidHlwZSI6ICJQb2x5Z29uIn0sICJpZCI6ICJcdWFkMTFcdWM5YzRcdWFkNmMiLCAicHJvcGVydGllcyI6IHsiYmFzZV95ZWFyIjogIjIwMTMiLCAiY29kZSI6ICIxMTA1MCIsICJuYW1lIjogIlx1YWQxMVx1YzljNFx1YWQ2YyIsICJuYW1lX2VuZyI6ICJHd2FuZ2ppbi1ndSJ9LCAidHlwZSI6ICJGZWF0dXJlIn0sIHsiZ2VvbWV0cnkiOiB7ImNvb3JkaW5hdGVzIjogW1tbMTI3LjAyNTQ3MjY2MzQ5OTc2LCAzNy41Njg5NDM1NTIyMzc3MzRdLCBbMTI3LjA1MDA1NjAxMDgxNTY3LCAzNy41Njc1Nzc2MTI1OTA4NDZdLCBbMTI3LjA3NDIxMDUzMDI0MzYyLCAzNy41NTcyNDc2OTcxMjA4NV0sIFsxMjcuMDU4NjczNTkyODgzOTgsIDM3LjUyNjI5OTc0OTIyNTY4XSwgWzEyNy4wMjMwMjgzMTg5MDU1OSwgMzcuNTMyMzE4OTk1ODI2NjNdLCBbMTI3LjAxMDcwODk0MTc3NDgyLCAzNy41NDExODA0ODk2NDc2Ml0sIFsxMjcuMDI1NDcyNjYzNDk5NzYsIDM3LjU2ODk0MzU1MjIzNzczNF1dXSwgInR5cGUiOiAiUG9seWdvbiJ9LCAiaWQiOiAiXHVjMTMxXHViM2Q5XHVhZDZjIiwgInByb3BlcnRpZXMiOiB7ImJhc2VfeWVhciI6ICIyMDEzIiwgImNvZGUiOiAiMTEwNDAiLCAibmFtZSI6ICJcdWMxMzFcdWIzZDlcdWFkNmMiLCAibmFtZV9lbmciOiAiU2Vvbmdkb25nLWd1In0sICJ0eXBlIjogIkZlYXR1cmUifSwgeyJnZW9tZXRyeSI6IHsiY29vcmRpbmF0ZXMiOiBbW1sxMjcuMDEwNzA4OTQxNzc0ODIsIDM3LjU0MTE4MDQ4OTY0NzYyXSwgWzEyNy4wMjMwMjgzMTg5MDU1OSwgMzcuNTMyMzE4OTk1ODI2NjNdLCBbMTI3LjAxMzk3MTE5NjY3NTEzLCAzNy41MjUwMzk4ODI4OTY2OV0sIFsxMjYuOTgyMjM4MDc5MTYwODEsIDM3LjUwOTMxNDk2Njc3MDMyNl0sIFsxMjYuOTUyNDk5OTAyOTgxNTksIDM3LjUxNzIyNTAwNzQxODEzXSwgWzEyNi45NDU2NjczMzA4MzIxMiwgMzcuNTI2NjE3NTQyNDUzMzY2XSwgWzEyNi45NjQ0ODU3MDU1MzA1NSwgMzcuNTQ4NzA1NjkyMDIxNjM1XSwgWzEyNi45ODc1Mjk5NjkwMzMyOCwgMzcuNTUwOTQ4MTg4MDcxMzldLCBbMTI3LjAxMDcwODk0MTc3NDgyLCAzNy41NDExODA0ODk2NDc2Ml1dXSwgInR5cGUiOiAiUG9seWdvbiJ9LCAiaWQiOiAiXHVjNmE5XHVjMGIwXHVhZDZjIiwgInByb3BlcnRpZXMiOiB7ImJhc2VfeWVhciI6ICIyMDEzIiwgImNvZGUiOiAiMTEwMzAiLCAibmFtZSI6ICJcdWM2YTlcdWMwYjBcdWFkNmMiLCAibmFtZV9lbmciOiAiWW9uZ3Nhbi1ndSJ9LCAidHlwZSI6ICJGZWF0dXJlIn0sIHsiZ2VvbWV0cnkiOiB7ImNvb3JkaW5hdGVzIjogW1tbMTI3LjAyNTQ3MjY2MzQ5OTc2LCAzNy41Njg5NDM1NTIyMzc3MzRdLCBbMTI3LjAxMDcwODk0MTc3NDgyLCAzNy41NDExODA0ODk2NDc2Ml0sIFsxMjYuOTg3NTI5OTY5MDMzMjgsIDM3LjU1MDk0ODE4ODA3MTM5XSwgWzEyNi45NjQ0ODU3MDU1MzA1NSwgMzcuNTQ4NzA1NjkyMDIxNjM1XSwgWzEyNi45NjM1ODIyNjcxMDgxMiwgMzcuNTU2MDU2MzU0NzUxNTRdLCBbMTI2Ljk2ODczNjMzMjc5MDc1LCAzNy41NjMxMzYwNDY5MDgyN10sIFsxMjcuMDI1NDcyNjYzNDk5NzYsIDM3LjU2ODk0MzU1MjIzNzczNF1dXSwgInR5cGUiOiAiUG9seWdvbiJ9LCAiaWQiOiAiXHVjOTExXHVhZDZjIiwgInByb3BlcnRpZXMiOiB7ImJhc2VfeWVhciI6ICIyMDEzIiwgImNvZGUiOiAiMTEwMjAiLCAibmFtZSI6ICJcdWM5MTFcdWFkNmMiLCAibmFtZV9lbmciOiAiSnVuZy1ndSJ9LCAidHlwZSI6ICJGZWF0dXJlIn0sIHsiZ2VvbWV0cnkiOiB7ImNvb3JkaW5hdGVzIjogW1tbMTI2Ljk3Mzg4NjQxMjg3MDIsIDM3LjYyOTQ5NjM0Nzg2ODg4XSwgWzEyNi45NzcxNzU0MDY0MTYsIDM3LjYyODU5NzE1NDAwMzg4XSwgWzEyNi45ODg3OTg2NTk5MjM4NCwgMzcuNjExODkyNzMxOTc1Nl0sIFsxMjYuOTkzNDgyOTMzNTgzMTQsIDM3LjU4ODU2NTQ1NzIxNjE1Nl0sIFsxMjcuMDI1MjcyNTQ1MjgwMDMsIDM3LjU3NTI0NjE2MjQ1MjQ5XSwgWzEyNy4wMjU0NzI2NjM0OTk3NiwgMzcuNTY4OTQzNTUyMjM3NzM0XSwgWzEyNi45Njg3MzYzMzI3OTA3NSwgMzcuNTYzMTM2MDQ2OTA4MjddLCBbMTI2Ljk1NTY1NDI1ODQ2NDYzLCAzNy41NzYwODA3OTA4ODE0NTZdLCBbMTI2Ljk1MjQ3NTIwMzA1NzIsIDM3LjYwNTA4NjkyNzM3MDQ1XSwgWzEyNi45NTQyNzAxNzAwNjEyOSwgMzcuNjIyMDMzNDMxMzM5NDI1XSwgWzEyNi45NzM4ODY0MTI4NzAyLCAzNy42Mjk0OTYzNDc4Njg4OF1dXSwgInR5cGUiOiAiUG9seWdvbiJ9LCAiaWQiOiAiXHVjODg1XHViODVjXHVhZDZjIiwgInByb3BlcnRpZXMiOiB7ImJhc2VfeWVhciI6ICIyMDEzIiwgImNvZGUiOiAiMTEwMTAiLCAibmFtZSI6ICJcdWM4ODVcdWI4NWNcdWFkNmMiLCAibmFtZV9lbmciOiAiSm9uZ25vLWd1In0sICJ0eXBlIjogIkZlYXR1cmUifV0sICJ0eXBlIjogIkZlYXR1cmVDb2xsZWN0aW9uIn0pOwogICAgICAgIAogICAgCiAgICB2YXIgY29sb3JfbWFwXzhhMzJjNzBlNWUzZjQzNDhiZDkyYTkyNGIwNDNhMDA1ID0ge307CgogICAgCiAgICBjb2xvcl9tYXBfOGEzMmM3MGU1ZTNmNDM0OGJkOTJhOTI0YjA0M2EwMDUuY29sb3IgPSBkMy5zY2FsZS50aHJlc2hvbGQoKQogICAgICAgICAgICAgIC5kb21haW4oWy0yNjEzMjQuMCwgLTI1OTc3Ny43NDk0OTg5OTgsIC0yNTgyMzEuNDk4OTk3OTk1OTgsIC0yNTY2ODUuMjQ4NDk2OTk0LCAtMjU1MTM4Ljk5Nzk5NTk5MiwgLTI1MzU5Mi43NDc0OTQ5ODk5OCwgLTI1MjA0Ni40OTY5OTM5ODc5NywgLTI1MDUwMC4yNDY0OTI5ODU5OSwgLTI0ODk1My45OTU5OTE5ODM5NywgLTI0NzQwNy43NDU0OTA5ODE5NiwgLTI0NTg2MS40OTQ5ODk5Nzk5NSwgLTI0NDMxNS4yNDQ0ODg5Nzc5NCwgLTI0Mjc2OC45OTM5ODc5NzU5NiwgLTI0MTIyMi43NDM0ODY5NzM5NSwgLTIzOTY3Ni40OTI5ODU5NzE5NCwgLTIzODEzMC4yNDI0ODQ5Njk5MywgLTIzNjU4My45OTE5ODM5Njc5NSwgLTIzNTAzNy43NDE0ODI5NjU5NCwgLTIzMzQ5MS40OTA5ODE5NjM5MywgLTIzMTk0NS4yNDA0ODA5NjE5MiwgLTIzMDM5OC45ODk5Nzk5NTk5LCAtMjI4ODUyLjczOTQ3ODk1NzkzLCAtMjI3MzA2LjQ4ODk3Nzk1NTkyLCAtMjI1NzYwLjIzODQ3Njk1MzksIC0yMjQyMTMuOTg3OTc1OTUxOSwgLTIyMjY2Ny43Mzc0NzQ5NDk5LCAtMjIxMTIxLjQ4Njk3Mzk0NzksIC0yMTk1NzUuMjM2NDcyOTQ1OSwgLTIxODAyOC45ODU5NzE5NDM4OCwgLTIxNjQ4Mi43MzU0NzA5NDE4NywgLTIxNDkzNi40ODQ5Njk5Mzk4NiwgLTIxMzM5MC4yMzQ0Njg5Mzc4OCwgLTIxMTg0My45ODM5Njc5MzU4NywgLTIxMDI5Ny43MzM0NjY5MzM4NiwgLTIwODc1MS40ODI5NjU5MzE4OCwgLTIwNzIwNS4yMzI0NjQ5Mjk4NywgLTIwNTY1OC45ODE5NjM5Mjc4NiwgLTIwNDExMi43MzE0NjI5MjU4NSwgLTIwMjU2Ni40ODA5NjE5MjM4NCwgLTIwMTAyMC4yMzA0NjA5MjE4MywgLTE5OTQ3My45Nzk5NTk5MTk4NCwgLTE5NzkyNy43Mjk0NTg5MTc4MywgLTE5NjM4MS40Nzg5NTc5MTU4MiwgLTE5NDgzNS4yMjg0NTY5MTM4NCwgLTE5MzI4OC45Nzc5NTU5MTE4MywgLTE5MTc0Mi43Mjc0NTQ5MDk4MiwgLTE5MDE5Ni40NzY5NTM5MDc4LCAtMTg4NjUwLjIyNjQ1MjkwNTgsIC0xODcxMDMuOTc1OTUxOTAzOCwgLTE4NTU1Ny43MjU0NTA5MDE4LCAtMTg0MDExLjQ3NDk0OTg5OTgsIC0xODI0NjUuMjI0NDQ4ODk3OCwgLTE4MDkxOC45NzM5NDc4OTU4LCAtMTc5MzcyLjcyMzQ0Njg5MzgsIC0xNzc4MjYuNDcyOTQ1ODkxOCwgLTE3NjI4MC4yMjI0NDQ4ODk3OCwgLTE3NDczMy45NzE5NDM4ODc3NywgLTE3MzE4Ny43MjE0NDI4ODU3NiwgLTE3MTY0MS40NzA5NDE4ODM3NywgLTE3MDA5NS4yMjA0NDA4ODE3NiwgLTE2ODU0OC45Njk5Mzk4Nzk3NSwgLTE2NzAwMi43MTk0Mzg4Nzc3NywgLTE2NTQ1Ni40Njg5Mzc4NzU3NiwgLTE2MzkxMC4yMTg0MzY4NzM3NSwgLTE2MjM2My45Njc5MzU4NzE3NCwgLTE2MDgxNy43MTc0MzQ4Njk3MywgLTE1OTI3MS40NjY5MzM4Njc3MiwgLTE1NzcyNS4yMTY0MzI4NjU3NCwgLTE1NjE3OC45NjU5MzE4NjM3MywgLTE1NDYzMi43MTU0MzA4NjE3MiwgLTE1MzA4Ni40NjQ5Mjk4NTk3NCwgLTE1MTU0MC4yMTQ0Mjg4NTc3MywgLTE0OTk5My45NjM5Mjc4NTU3MiwgLTE0ODQ0Ny43MTM0MjY4NTM3LCAtMTQ2OTAxLjQ2MjkyNTg1MTcsIC0xNDUzNTUuMjEyNDI0ODQ5NjgsIC0xNDM4MDguOTYxOTIzODQ3NywgLTE0MjI2Mi43MTE0MjI4NDU3LCAtMTQwNzE2LjQ2MDkyMTg0MzY4LCAtMTM5MTcwLjIxMDQyMDg0MTcsIC0xMzc2MjMuOTU5OTE5ODM5NywgLTEzNjA3Ny43MDk0MTg4Mzc2OCwgLTEzNDUzMS40NTg5MTc4MzU2NywgLTEzMjk4NS4yMDg0MTY4MzM2NiwgLTEzMTQzOC45NTc5MTU4MzE2NSwgLTEyOTg5Mi43MDc0MTQ4Mjk2NywgLTEyODM0Ni40NTY5MTM4Mjc2NiwgLTEyNjgwMC4yMDY0MTI4MjU2NSwgLTEyNTI1My45NTU5MTE4MjM2NCwgLTEyMzcwNy43MDU0MTA4MjE2NSwgLTEyMjE2MS40NTQ5MDk4MTk2NCwgLTEyMDYxNS4yMDQ0MDg4MTc2MywgLTExOTA2OC45NTM5MDc4MTU2MiwgLTExNzUyMi43MDM0MDY4MTM2NCwgLTExNTk3Ni40NTI5MDU4MTE2MywgLTExNDQzMC4yMDI0MDQ4MDk2MiwgLTExMjg4My45NTE5MDM4MDc2MSwgLTExMTMzNy43MDE0MDI4MDU2LCAtMTA5NzkxLjQ1MDkwMTgwMzYyLCAtMTA4MjQ1LjIwMDQwMDgwMTYxLCAtMTA2Njk4Ljk0OTg5OTc5OTYsIC0xMDUxNTIuNjk5Mzk4Nzk3NTksIC0xMDM2MDYuNDQ4ODk3Nzk1NTgsIC0xMDIwNjAuMTk4Mzk2NzkzNiwgLTEwMDUxMy45NDc4OTU3OTE1OSwgLTk4OTY3LjY5NzM5NDc4OTU3LCAtOTc0MjEuNDQ2ODkzNzg3NTYsIC05NTg3NS4xOTYzOTI3ODU1OCwgLTk0MzI4Ljk0NTg5MTc4MzU3LCAtOTI3ODIuNjk1MzkwNzgxNTYsIC05MTIzNi40NDQ4ODk3Nzk1NSwgLTg5NjkwLjE5NDM4ODc3NzU0LCAtODgxNDMuOTQzODg3Nzc1NTYsIC04NjU5Ny42OTMzODY3NzM1NSwgLTg1MDUxLjQ0Mjg4NTc3MTU0LCAtODM1MDUuMTkyMzg0NzY5NTMsIC04MTk1OC45NDE4ODM3Njc1NSwgLTgwNDEyLjY5MTM4Mjc2NTU0LCAtNzg4NjYuNDQwODgxNzYzNTMsIC03NzMyMC4xOTAzODA3NjE1MiwgLTc1NzczLjkzOTg3OTc1OTUsIC03NDIyNy42ODkzNzg3NTc1MiwgLTcyNjgxLjQzODg3Nzc1NTUxLCAtNzExMzUuMTg4Mzc2NzUzNSwgLTY5NTg4LjkzNzg3NTc1MTUsIC02ODA0Mi42ODczNzQ3NDk1MSwgLTY2NDk2LjQzNjg3Mzc0NzUsIC02NDk1MC4xODYzNzI3NDU0OSwgLTYzNDAzLjkzNTg3MTc0MzQ4LCAtNjE4NTcuNjg1MzcwNzQxNDcsIC02MDMxMS40MzQ4Njk3Mzk0OSwgLTU4NzY1LjE4NDM2ODczNzQ4LCAtNTcyMTguOTMzODY3NzM1NDcsIC01NTY3Mi42ODMzNjY3MzM0NiwgLTU0MTI2LjQzMjg2NTczMTQ3NiwgLTUyNTgwLjE4MjM2NDcyOTQ2NiwgLTUxMDMzLjkzMTg2MzcyNzQ1NSwgLTQ5NDg3LjY4MTM2MjcyNTQ0NSwgLTQ3OTQxLjQzMDg2MTcyMzQzNSwgLTQ2Mzk1LjE4MDM2MDcyMTQ1LCAtNDQ4NDguOTI5ODU5NzE5NDQsIC00MzMwMi42NzkzNTg3MTc0MywgLTQxNzU2LjQyODg1NzcxNTQyLCAtNDAyMTAuMTc4MzU2NzEzNDQsIC0zODY2My45Mjc4NTU3MTE0MywgLTM3MTE3LjY3NzM1NDcwOTQyLCAtMzU1NzEuNDI2ODUzNzA3NDEsIC0zNDAyNS4xNzYzNTI3MDU0LCAtMzI0NzguOTI1ODUxNzAzNDE4LCAtMzA5MzIuNjc1MzUwNzAxNDA3LCAtMjkzODYuNDI0ODQ5Njk5Mzk3LCAtMjc4NDAuMTc0MzQ4Njk3Mzg2LCAtMjYyOTMuOTIzODQ3Njk1NDA1LCAtMjQ3NDcuNjczMzQ2NjkzMzk1LCAtMjMyMDEuNDIyODQ1NjkxMzg0LCAtMjE2NTUuMTcyMzQ0Njg5Mzc0LCAtMjAxMDguOTIxODQzNjg3MzYzLCAtMTg1NjIuNjcxMzQyNjg1MzgyLCAtMTcwMTYuNDIwODQxNjgzMzcsIC0xNTQ3MC4xNzAzNDA2ODEzNjEsIC0xMzkyMy45MTk4Mzk2NzkzNSwgLTEyMzc3LjY2OTMzODY3NzM0LCAtMTA4MzEuNDE4ODM3Njc1MzYsIC05Mjg1LjE2ODMzNjY3MzM0OSwgLTc3MzguOTE3ODM1NjcxMzM4LCAtNjE5Mi42NjczMzQ2NjkzMjgsIC00NjQ2LjQxNjgzMzY2NzM0NjUsIC0zMTAwLjE2NjMzMjY2NTMzNiwgLTE1NTMuOTE1ODMxNjYzMzI1NywgLTcuNjY1MzMwNjYxMzE1MjM4LCAxNTM4LjU4NTE3MDM0MDY2NiwgMzA4NC44MzU2NzEzNDI2NzY1LCA0NjMxLjA4NjE3MjM0NDY4NywgNjE3Ny4zMzY2NzMzNDY2OTcsIDc3MjMuNTg3MTc0MzQ4NzA4LCA5MjY5LjgzNzY3NTM1MDcxOCwgMTA4MTYuMDg4MTc2MzUyNzI5LCAxMjM2Mi4zMzg2NzczNTQ2OCwgMTM5MDguNTg5MTc4MzU2NjkxLCAxNTQ1NC44Mzk2NzkzNTg3MDIsIDE3MDAxLjA5MDE4MDM2MDcxMiwgMTg1NDcuMzQwNjgxMzYyNzIzLCAyMDA5My41OTExODIzNjQ3MzMsIDIxNjM5Ljg0MTY4MzM2Njc0MywgMjMxODYuMDkyMTg0MzY4NzU0LCAyNDczMi4zNDI2ODUzNzA3NjQsIDI2Mjc4LjU5MzE4NjM3MjcxNiwgMjc4MjQuODQzNjg3Mzc0NzI3LCAyOTM3MS4wOTQxODgzNzY3MzcsIDMwOTE3LjM0NDY4OTM3ODc0OCwgMzI0NjMuNTk1MTkwMzgwNzU4LCAzNDAwOS44NDU2OTEzODI3NywgMzU1NTYuMDk2MTkyMzg0NzgsIDM3MTAyLjM0NjY5MzM4Njc5LCAzODY0OC41OTcxOTQzODg4LCA0MDE5NC44NDc2OTUzOTA4MSwgNDE3NDEuMDk4MTk2MzkyNzYsIDQzMjg3LjM0ODY5NzM5NDc3LCA0NDgzMy41OTkxOTgzOTY3OCwgNDYzNzkuODQ5Njk5Mzk4Nzk0LCA0NzkyNi4xMDAyMDA0MDA4MDQsIDQ5NDcyLjM1MDcwMTQwMjgxNSwgNTEwMTguNjAxMjAyNDA0ODI1LCA1MjU2NC44NTE3MDM0MDY4MzUsIDU0MTExLjEwMjIwNDQwODg0NiwgNTU2NTcuMzUyNzA1NDEwOCwgNTcyMDMuNjAzMjA2NDEyODEsIDU4NzQ5Ljg1MzcwNzQxNDgyLCA2MDI5Ni4xMDQyMDg0MTY4MywgNjE4NDIuMzU0NzA5NDE4ODQsIDYzMzg4LjYwNTIxMDQyMDg1LCA2NDkzNC44NTU3MTE0MjI4NiwgNjY0ODEuMTA2MjEyNDI0ODcsIDY4MDI3LjM1NjcxMzQyNjg4LCA2OTU3My42MDcyMTQ0Mjg4MywgNzExMTkuODU3NzE1NDMwODQsIDcyNjY2LjEwODIxNjQzMjg1LCA3NDIxMi4zNTg3MTc0MzQ4NiwgNzU3NTguNjA5MjE4NDM2ODgsIDc3MzA0Ljg1OTcxOTQzODg5LCA3ODg1MS4xMTAyMjA0NDA5LCA4MDM5Ny4zNjA3MjE0NDI5LCA4MTk0My42MTEyMjI0NDQ5MiwgODM0ODkuODYxNzIzNDQ2ODcsIDg1MDM2LjExMjIyNDQ0ODg4LCA4NjU4Mi4zNjI3MjU0NTA4OSwgODgxMjguNjEzMjI2NDUyOSwgODk2NzQuODYzNzI3NDU0OTEsIDkxMjIxLjExNDIyODQ1NjkyLCA5Mjc2Ny4zNjQ3Mjk0NTg5MywgOTQzMTMuNjE1MjMwNDYwOTQsIDk1ODU5Ljg2NTczMTQ2Mjk1LCA5NzQwNi4xMTYyMzI0NjQ5LCA5ODk1Mi4zNjY3MzM0NjY5MiwgMTAwNDk4LjYxNzIzNDQ2ODkzLCAxMDIwNDQuODY3NzM1NDcwOTQsIDEwMzU5MS4xMTgyMzY0NzI5NSwgMTA1MTM3LjM2ODczNzQ3NDk2LCAxMDY2ODMuNjE5MjM4NDc2OTcsIDEwODIyOS44Njk3Mzk0Nzg5OCwgMTA5Nzc2LjEyMDI0MDQ4MDk5LCAxMTEzMjIuMzcwNzQxNDgyOTQsIDExMjg2OC42MjEyNDI0ODQ5NSwgMTE0NDE0Ljg3MTc0MzQ4Njk2LCAxMTU5NjEuMTIyMjQ0NDg4OTcsIDExNzUwNy4zNzI3NDU0OTA5OCwgMTE5MDUzLjYyMzI0NjQ5Mjk5LCAxMjA1OTkuODczNzQ3NDk1LCAxMjIxNDYuMTI0MjQ4NDk3MDEsIDEyMzY5Mi4zNzQ3NDk0OTkwMiwgMTI1MjM4LjYyNTI1MDUwMDk4LCAxMjY3ODQuODc1NzUxNTAyOTksIDEyODMzMS4xMjYyNTI1MDUsIDEyOTg3Ny4zNzY3NTM1MDcwMSwgMTMxNDIzLjYyNzI1NDUwOTAyLCAxMzI5NjkuODc3NzU1NTExMDMsIDEzNDUxNi4xMjgyNTY1MTMwNCwgMTM2MDYyLjM3ODc1NzUxNTA1LCAxMzc2MDguNjI5MjU4NTE3MDYsIDEzOTE1NC44Nzk3NTk1MTksIDE0MDcwMS4xMzAyNjA1MjEwMiwgMTQyMjQ3LjM4MDc2MTUyMzAzLCAxNDM3OTMuNjMxMjYyNTI1MDQsIDE0NTMzOS44ODE3NjM1MjcwNSwgMTQ2ODg2LjEzMjI2NDUyOTA2LCAxNDg0MzIuMzgyNzY1NTMxMDcsIDE0OTk3OC42MzMyNjY1MzMwOCwgMTUxNTI0Ljg4Mzc2NzUzNTEsIDE1MzA3MS4xMzQyNjg1MzcwNSwgMTU0NjE3LjM4NDc2OTUzOTA2LCAxNTYxNjMuNjM1MjcwNTQxMDcsIDE1NzcwOS44ODU3NzE1NDMwOCwgMTU5MjU2LjEzNjI3MjU0NTEsIDE2MDgwMi4zODY3NzM1NDcxLCAxNjIzNDguNjM3Mjc0NTQ5MSwgMTYzODk0Ljg4Nzc3NTU1MTEyLCAxNjU0NDEuMTM4Mjc2NTUzMTMsIDE2Njk4Ny4zODg3Nzc1NTUwOCwgMTY4NTMzLjYzOTI3ODU1NzEsIDE3MDA3OS44ODk3Nzk1NTkxLCAxNzE2MjYuMTQwMjgwNTYxMSwgMTczMTcyLjM5MDc4MTU2MzEyLCAxNzQ3MTguNjQxMjgyNTY1MTQsIDE3NjI2NC44OTE3ODM1NjcxNSwgMTc3ODExLjE0MjI4NDU2OTE2LCAxNzkzNTcuMzkyNzg1NTcxMTcsIDE4MDkwMy42NDMyODY1NzMxMiwgMTgyNDQ5Ljg5Mzc4NzU3NTEzLCAxODM5OTYuMTQ0Mjg4NTc3MTQsIDE4NTU0Mi4zOTQ3ODk1NzkxNSwgMTg3MDg4LjY0NTI5MDU4MTE2LCAxODg2MzQuODk1NzkxNTgzMTcsIDE5MDE4MS4xNDYyOTI1ODUxOCwgMTkxNzI3LjM5Njc5MzU4NzIsIDE5MzI3My42NDcyOTQ1ODkyLCAxOTQ4MTkuODk3Nzk1NTkxMTUsIDE5NjM2Ni4xNDgyOTY1OTMxNiwgMTk3OTEyLjM5ODc5NzU5NTE3LCAxOTk0NTguNjQ5Mjk4NTk3MTksIDIwMTAwNC44OTk3OTk1OTkyLCAyMDI1NTEuMTUwMzAwNjAxMiwgMjA0MDk3LjQwMDgwMTYwMzIyLCAyMDU2NDMuNjUxMzAyNjA1MjMsIDIwNzE4OS45MDE4MDM2MDcyNCwgMjA4NzM2LjE1MjMwNDYwOTIsIDIxMDI4Mi40MDI4MDU2MTEyLCAyMTE4MjguNjUzMzA2NjEzMiwgMjEzMzc0LjkwMzgwNzYxNTIyLCAyMTQ5MjEuMTU0MzA4NjE3MjMsIDIxNjQ2Ny40MDQ4MDk2MTkyNCwgMjE4MDEzLjY1NTMxMDYyMTI1LCAyMTk1NTkuOTA1ODExNjIzMjYsIDIyMTEwNi4xNTYzMTI2MjUyNywgMjIyNjUyLjQwNjgxMzYyNzI4LCAyMjQxOTguNjU3MzE0NjI5MjQsIDIyNTc0NC45MDc4MTU2MzEyNSwgMjI3MjkxLjE1ODMxNjYzMzI2LCAyMjg4MzcuNDA4ODE3NjM1MjcsIDIzMDM4My42NTkzMTg2MzcyOCwgMjMxOTI5LjkwOTgxOTYzOTMsIDIzMzQ3Ni4xNjAzMjA2NDEzLCAyMzUwMjIuNDEwODIxNjQzMywgMjM2NTY4LjY2MTMyMjY0NTMyLCAyMzgxMTQuOTExODIzNjQ3MjcsIDIzOTY2MS4xNjIzMjQ2NDkyOCwgMjQxMjA3LjQxMjgyNTY1MTMsIDI0Mjc1My42NjMzMjY2NTMzLCAyNDQyOTkuOTEzODI3NjU1MywgMjQ1ODQ2LjE2NDMyODY1NzMyLCAyNDczOTIuNDE0ODI5NjU5MzMsIDI0ODkzOC42NjUzMzA2NjEzNCwgMjUwNDg0LjkxNTgzMTY2MzM1LCAyNTIwMzEuMTY2MzMyNjY1MywgMjUzNTc3LjQxNjgzMzY2NzMyLCAyNTUxMjMuNjY3MzM0NjY5MzMsIDI1NjY2OS45MTc4MzU2NzEzNCwgMjU4MjE2LjE2ODMzNjY3MzM1LCAyNTk3NjIuNDE4ODM3Njc1MzYsIDI2MTMwOC42NjkzMzg2NzczNywgMjYyODU0LjkxOTgzOTY3OTQsIDI2NDQwMS4xNzAzNDA2ODEzMywgMjY1OTQ3LjQyMDg0MTY4MzQsIDI2NzQ5My42NzEzNDI2ODUzNSwgMjY5MDM5LjkyMTg0MzY4NzQsIDI3MDU4Ni4xNzIzNDQ2ODk0LCAyNzIxMzIuNDIyODQ1NjkxMywgMjczNjc4LjY3MzM0NjY5MzQsIDI3NTIyNC45MjM4NDc2OTUzNSwgMjc2NzcxLjE3NDM0ODY5NzQsIDI3ODMxNy40MjQ4NDk2OTkzNywgMjc5ODYzLjY3NTM1MDcwMTQ0LCAyODE0MDkuOTI1ODUxNzAzNCwgMjgyOTU2LjE3NjM1MjcwNTQ2LCAyODQ1MDIuNDI2ODUzNzA3NCwgMjg2MDQ4LjY3NzM1NDcwOTM2LCAyODc1OTQuOTI3ODU1NzExNDMsIDI4OTE0MS4xNzgzNTY3MTM0LCAyOTA2ODcuNDI4ODU3NzE1NDUsIDI5MjIzMy42NzkzNTg3MTc0LCAyOTM3NzkuOTI5ODU5NzE5NSwgMjk1MzI2LjE4MDM2MDcyMTQsIDI5Njg3Mi40MzA4NjE3MjM1LCAyOTg0MTguNjgxMzYyNzI1NDUsIDI5OTk2NC45MzE4NjM3Mjc0LCAzMDE1MTEuMTgyMzY0NzI5NDcsIDMwMzA1Ny40MzI4NjU3MzE0LCAzMDQ2MDMuNjgzMzY2NzMzNSwgMzA2MTQ5LjkzMzg2NzczNTQ0LCAzMDc2OTYuMTg0MzY4NzM3NSwgMzA5MjQyLjQzNDg2OTczOTQ2LCAzMTA3ODguNjg1MzcwNzQxNSwgMzEyMzM0LjkzNTg3MTc0MzUsIDMxMzg4MS4xODYzNzI3NDU0MywgMzE1NDI3LjQzNjg3Mzc0NzUsIDMxNjk3My42ODczNzQ3NDk0NSwgMzE4NTE5LjkzNzg3NTc1MTUsIDMyMDA2Ni4xODgzNzY3NTM1LCAzMjE2MTIuNDM4ODc3NzU1NTQsIDMyMzE1OC42ODkzNzg3NTc1LCAzMjQ3MDQuOTM5ODc5NzU5NTYsIDMyNjI1MS4xOTAzODA3NjE1LCAzMjc3OTcuNDQwODgxNzYzNiwgMzI5MzQzLjY5MTM4Mjc2NTU0LCAzMzA4ODkuOTQxODgzNzY3NSwgMzMyNDM2LjE5MjM4NDc2OTU2LCAzMzM5ODIuNDQyODg1NzcxNSwgMzM1NTI4LjY5MzM4Njc3MzYsIDMzNzA3NC45NDM4ODc3NzU1MywgMzM4NjIxLjE5NDM4ODc3NzYsIDM0MDE2Ny40NDQ4ODk3Nzk1NSwgMzQxNzEzLjY5NTM5MDc4MTYsIDM0MzI1OS45NDU4OTE3ODM2LCAzNDQ4MDYuMTk2MzkyNzg1NSwgMzQ2MzUyLjQ0Njg5Mzc4NzYsIDM0Nzg5OC42OTczOTQ3ODk1NSwgMzQ5NDQ0Ljk0Nzg5NTc5MTYsIDM1MDk5MS4xOTgzOTY3OTM1NywgMzUyNTM3LjQ0ODg5Nzc5NTY0LCAzNTQwODMuNjk5Mzk4Nzk3NiwgMzU1NjI5Ljk0OTg5OTc5OTY2LCAzNTcxNzYuMjAwNDAwODAxNiwgMzU4NzIyLjQ1MDkwMTgwMzU2LCAzNjAyNjguNzAxNDAyODA1NjMsIDM2MTgxNC45NTE5MDM4MDc2LCAzNjMzNjEuMjAyNDA0ODA5NjUsIDM2NDkwNy40NTI5MDU4MTE2LCAzNjY0NTMuNzAzNDA2ODEzNjcsIDM2Nzk5OS45NTM5MDc4MTU2LCAzNjk1NDYuMjA0NDA4ODE3NywgMzcxMDkyLjQ1NDkwOTgxOTY0LCAzNzI2MzguNzA1NDEwODIxNiwgMzc0MTg0Ljk1NTkxMTgyMzY2LCAzNzU3MzEuMjA2NDEyODI1NiwgMzc3Mjc3LjQ1NjkxMzgyNzcsIDM3ODgyMy43MDc0MTQ4Mjk2NCwgMzgwMzY5Ljk1NzkxNTgzMTcsIDM4MTkxNi4yMDg0MTY4MzM2NiwgMzgzNDYyLjQ1ODkxNzgzNTcsIDM4NTAwOC43MDk0MTg4Mzc3LCAzODY1NTQuOTU5OTE5ODM5NjMsIDM4ODEwMS4yMTA0MjA4NDE3LCAzODk2NDcuNDYwOTIxODQzNjUsIDM5MTE5My43MTE0MjI4NDU3LCAzOTI3MzkuOTYxOTIzODQ3NywgMzk0Mjg2LjIxMjQyNDg0OTc0LCAzOTU4MzIuNDYyOTI1ODUxNywgMzk3Mzc4LjcxMzQyNjg1Mzc2LCAzOTg5MjQuOTYzOTI3ODU1NywgNDAwNDcxLjIxNDQyODg1NzY3LCA0MDIwMTcuNDY0OTI5ODU5NzQsIDQwMzU2My43MTU0MzA4NjE3LCA0MDUxMDkuOTY1OTMxODYzNzYsIDQwNjY1Ni4yMTY0MzI4NjU3LCA0MDgyMDIuNDY2OTMzODY3OCwgNDA5NzQ4LjcxNzQzNDg2OTczLCA0MTEyOTQuOTY3OTM1ODcxOCwgNDEyODQxLjIxODQzNjg3Mzc1LCA0MTQzODcuNDY4OTM3ODc1NywgNDE1OTMzLjcxOTQzODg3NzgsIDQxNzQ3OS45Njk5Mzk4Nzk3LCA0MTkwMjYuMjIwNDQwODgxOCwgNDIwNTcyLjQ3MDk0MTg4Mzc0LCA0MjIxMTguNzIxNDQyODg1OCwgNDIzNjY0Ljk3MTk0Mzg4Nzc3LCA0MjUyMTEuMjIyNDQ0ODg5ODMsIDQyNjc1Ny40NzI5NDU4OTE4LCA0MjgzMDMuNzIzNDQ2ODkzNzQsIDQyOTg0OS45NzM5NDc4OTU4LCA0MzEzOTYuMjI0NDQ4ODk3NzYsIDQzMjk0Mi40NzQ5NDk4OTk4LCA0MzQ0ODguNzI1NDUwOTAxOCwgNDM2MDM0Ljk3NTk1MTkwMzg1LCA0Mzc1ODEuMjI2NDUyOTA1OCwgNDM5MTI3LjQ3Njk1MzkwNzg3LCA0NDA2NzMuNzI3NDU0OTA5OCwgNDQyMjE5Ljk3Nzk1NTkxMTgsIDQ0Mzc2Ni4yMjg0NTY5MTM4NCwgNDQ1MzEyLjQ3ODk1NzkxNTgsIDQ0Njg1OC43Mjk0NTg5MTc4NiwgNDQ4NDA0Ljk3OTk1OTkxOTgsIDQ0OTk1MS4yMzA0NjA5MjE5LCA0NTE0OTcuNDgwOTYxOTIzODQsIDQ1MzA0My43MzE0NjI5MjU5LCA0NTQ1ODkuOTgxOTYzOTI3ODYsIDQ1NjEzNi4yMzI0NjQ5Mjk4LCA0NTc2ODIuNDgyOTY1OTMxOSwgNDU5MjI4LjczMzQ2NjkzMzgzLCA0NjA3NzQuOTgzOTY3OTM1OSwgNDYyMzIxLjIzNDQ2ODkzNzg1LCA0NjM4NjcuNDg0OTY5OTM5OSwgNDY1NDEzLjczNTQ3MDk0MTksIDQ2Njk1OS45ODU5NzE5NDM5NCwgNDY4NTA2LjIzNjQ3Mjk0NTksIDQ3MDA1Mi40ODY5NzM5NDc4NSwgNDcxNTk4LjczNzQ3NDk0OTksIDQ3MzE0NC45ODc5NzU5NTE4NywgNDc0NjkxLjIzODQ3Njk1MzkzLCA0NzYyMzcuNDg4OTc3OTU1OSwgNDc3NzgzLjczOTQ3ODk1Nzk2LCA0NzkzMjkuOTg5OTc5OTU5OSwgNDgwODc2LjI0MDQ4MDk2MiwgNDgyNDIyLjQ5MDk4MTk2MzksIDQ4Mzk2OC43NDE0ODI5NjU5LCA0ODU1MTQuOTkxOTgzOTY3OTUsIDQ4NzA2MS4yNDI0ODQ5Njk5LCA0ODg2MDcuNDkyOTg1OTcxOTcsIDQ5MDE1My43NDM0ODY5NzM5LCA0OTE2OTkuOTkzOTg3OTc2LCA0OTMyNDYuMjQ0NDg4OTc3OTQsIDQ5NDc5Mi40OTQ5ODk5OCwgNDk2MzM4Ljc0NTQ5MDk4MTk2LCA0OTc4ODQuOTk1OTkxOTgzOSwgNDk5NDMxLjI0NjQ5Mjk4NiwgNTAwOTc3LjQ5Njk5Mzk4Nzk0LCA1MDI1MjMuNzQ3NDk0OTksIDUwNDA2OS45OTc5OTU5OTE5NiwgNTA1NjE2LjI0ODQ5Njk5NCwgNTA3MTYyLjQ5ODk5Nzk5NiwgNTA4NzA4Ljc0OTQ5ODk5ODA1LCA1MTAyNTUuMF0pCiAgICAgICAgICAgICAgLnJhbmdlKFsnI2ZmZmZiMicsICcjZmZmZmIyJywgJyNmZmZmYjInLCAnI2ZmZmZiMicsICcjZmZmZmIyJywgJyNmZmZmYjInLCAnI2ZmZmZiMicsICcjZmZmZmIyJywgJyNmZmZmYjInLCAnI2ZmZmZiMicsICcjZmZmZmIyJywgJyNmZmZmYjInLCAnI2ZmZmZiMicsICcjZmZmZmIyJywgJyNmZmZmYjInLCAnI2ZmZmZiMicsICcjZmZmZmIyJywgJyNmZmZmYjInLCAnI2ZmZmZiMicsICcjZmZmZmIyJywgJyNmZmZmYjInLCAnI2ZmZmZiMicsICcjZmZmZmIyJywgJyNmZmZmYjInLCAnI2ZmZmZiMicsICcjZmZmZmIyJywgJyNmZmZmYjInLCAnI2ZmZmZiMicsICcjZmZmZmIyJywgJyNmZmZmYjInLCAnI2ZmZmZiMicsICcjZmZmZmIyJywgJyNmZmZmYjInLCAnI2ZmZmZiMicsICcjZmZmZmIyJywgJyNmZmZmYjInLCAnI2ZmZmZiMicsICcjZmZmZmIyJywgJyNmZmZmYjInLCAnI2ZmZmZiMicsICcjZmZmZmIyJywgJyNmZmZmYjInLCAnI2ZmZmZiMicsICcjZmZmZmIyJywgJyNmZmZmYjInLCAnI2ZmZmZiMicsICcjZmZmZmIyJywgJyNmZmZmYjInLCAnI2ZmZmZiMicsICcjZmZmZmIyJywgJyNmZmZmYjInLCAnI2ZmZmZiMicsICcjZmZmZmIyJywgJyNmZmZmYjInLCAnI2ZmZmZiMicsICcjZmZmZmIyJywgJyNmZmZmYjInLCAnI2ZmZmZiMicsICcjZmZmZmIyJywgJyNmZmZmYjInLCAnI2ZmZmZiMicsICcjZmZmZmIyJywgJyNmZmZmYjInLCAnI2ZmZmZiMicsICcjZmZmZmIyJywgJyNmZmZmYjInLCAnI2ZmZmZiMicsICcjZmZmZmIyJywgJyNmZmZmYjInLCAnI2ZmZmZiMicsICcjZmZmZmIyJywgJyNmZmZmYjInLCAnI2ZmZmZiMicsICcjZmZmZmIyJywgJyNmZmZmYjInLCAnI2ZmZmZiMicsICcjZmZmZmIyJywgJyNmZmZmYjInLCAnI2ZmZmZiMicsICcjZmZmZmIyJywgJyNmZmZmYjInLCAnI2ZmZmZiMicsICcjZmZmZmIyJywgJyNmZmZmYjInLCAnI2ZlZDk3NicsICcjZmVkOTc2JywgJyNmZWQ5NzYnLCAnI2ZlZDk3NicsICcjZmVkOTc2JywgJyNmZWQ5NzYnLCAnI2ZlZDk3NicsICcjZmVkOTc2JywgJyNmZWQ5NzYnLCAnI2ZlZDk3NicsICcjZmVkOTc2JywgJyNmZWQ5NzYnLCAnI2ZlZDk3NicsICcjZmVkOTc2JywgJyNmZWQ5NzYnLCAnI2ZlZDk3NicsICcjZmVkOTc2JywgJyNmZWQ5NzYnLCAnI2ZlZDk3NicsICcjZmVkOTc2JywgJyNmZWQ5NzYnLCAnI2ZlZDk3NicsICcjZmVkOTc2JywgJyNmZWQ5NzYnLCAnI2ZlZDk3NicsICcjZmVkOTc2JywgJyNmZWQ5NzYnLCAnI2ZlZDk3NicsICcjZmVkOTc2JywgJyNmZWQ5NzYnLCAnI2ZlZDk3NicsICcjZmVkOTc2JywgJyNmZWQ5NzYnLCAnI2ZlZDk3NicsICcjZmVkOTc2JywgJyNmZWQ5NzYnLCAnI2ZlZDk3NicsICcjZmVkOTc2JywgJyNmZWQ5NzYnLCAnI2ZlZDk3NicsICcjZmVkOTc2JywgJyNmZWQ5NzYnLCAnI2ZlZDk3NicsICcjZmVkOTc2JywgJyNmZWQ5NzYnLCAnI2ZlZDk3NicsICcjZmVkOTc2JywgJyNmZWQ5NzYnLCAnI2ZlZDk3NicsICcjZmVkOTc2JywgJyNmZWQ5NzYnLCAnI2ZlZDk3NicsICcjZmVkOTc2JywgJyNmZWQ5NzYnLCAnI2ZlZDk3NicsICcjZmVkOTc2JywgJyNmZWQ5NzYnLCAnI2ZlZDk3NicsICcjZmVkOTc2JywgJyNmZWQ5NzYnLCAnI2ZlZDk3NicsICcjZmVkOTc2JywgJyNmZWQ5NzYnLCAnI2ZlZDk3NicsICcjZmVkOTc2JywgJyNmZWQ5NzYnLCAnI2ZlZDk3NicsICcjZmVkOTc2JywgJyNmZWQ5NzYnLCAnI2ZlZDk3NicsICcjZmVkOTc2JywgJyNmZWQ5NzYnLCAnI2ZlZDk3NicsICcjZmVkOTc2JywgJyNmZWQ5NzYnLCAnI2ZlZDk3NicsICcjZmVkOTc2JywgJyNmZWQ5NzYnLCAnI2ZlZDk3NicsICcjZmVkOTc2JywgJyNmZWQ5NzYnLCAnI2ZlZDk3NicsICcjZmVkOTc2JywgJyNmZWIyNGMnLCAnI2ZlYjI0YycsICcjZmViMjRjJywgJyNmZWIyNGMnLCAnI2ZlYjI0YycsICcjZmViMjRjJywgJyNmZWIyNGMnLCAnI2ZlYjI0YycsICcjZmViMjRjJywgJyNmZWIyNGMnLCAnI2ZlYjI0YycsICcjZmViMjRjJywgJyNmZWIyNGMnLCAnI2ZlYjI0YycsICcjZmViMjRjJywgJyNmZWIyNGMnLCAnI2ZlYjI0YycsICcjZmViMjRjJywgJyNmZWIyNGMnLCAnI2ZlYjI0YycsICcjZmViMjRjJywgJyNmZWIyNGMnLCAnI2ZlYjI0YycsICcjZmViMjRjJywgJyNmZWIyNGMnLCAnI2ZlYjI0YycsICcjZmViMjRjJywgJyNmZWIyNGMnLCAnI2ZlYjI0YycsICcjZmViMjRjJywgJyNmZWIyNGMnLCAnI2ZlYjI0YycsICcjZmViMjRjJywgJyNmZWIyNGMnLCAnI2ZlYjI0YycsICcjZmViMjRjJywgJyNmZWIyNGMnLCAnI2ZlYjI0YycsICcjZmViMjRjJywgJyNmZWIyNGMnLCAnI2ZlYjI0YycsICcjZmViMjRjJywgJyNmZWIyNGMnLCAnI2ZlYjI0YycsICcjZmViMjRjJywgJyNmZWIyNGMnLCAnI2ZlYjI0YycsICcjZmViMjRjJywgJyNmZWIyNGMnLCAnI2ZlYjI0YycsICcjZmViMjRjJywgJyNmZWIyNGMnLCAnI2ZlYjI0YycsICcjZmViMjRjJywgJyNmZWIyNGMnLCAnI2ZlYjI0YycsICcjZmViMjRjJywgJyNmZWIyNGMnLCAnI2ZlYjI0YycsICcjZmViMjRjJywgJyNmZWIyNGMnLCAnI2ZlYjI0YycsICcjZmViMjRjJywgJyNmZWIyNGMnLCAnI2ZlYjI0YycsICcjZmViMjRjJywgJyNmZWIyNGMnLCAnI2ZlYjI0YycsICcjZmViMjRjJywgJyNmZWIyNGMnLCAnI2ZlYjI0YycsICcjZmViMjRjJywgJyNmZWIyNGMnLCAnI2ZlYjI0YycsICcjZmViMjRjJywgJyNmZWIyNGMnLCAnI2ZlYjI0YycsICcjZmViMjRjJywgJyNmZWIyNGMnLCAnI2ZlYjI0YycsICcjZmViMjRjJywgJyNmZWIyNGMnLCAnI2ZlYjI0YycsICcjZmQ4ZDNjJywgJyNmZDhkM2MnLCAnI2ZkOGQzYycsICcjZmQ4ZDNjJywgJyNmZDhkM2MnLCAnI2ZkOGQzYycsICcjZmQ4ZDNjJywgJyNmZDhkM2MnLCAnI2ZkOGQzYycsICcjZmQ4ZDNjJywgJyNmZDhkM2MnLCAnI2ZkOGQzYycsICcjZmQ4ZDNjJywgJyNmZDhkM2MnLCAnI2ZkOGQzYycsICcjZmQ4ZDNjJywgJyNmZDhkM2MnLCAnI2ZkOGQzYycsICcjZmQ4ZDNjJywgJyNmZDhkM2MnLCAnI2ZkOGQzYycsICcjZmQ4ZDNjJywgJyNmZDhkM2MnLCAnI2ZkOGQzYycsICcjZmQ4ZDNjJywgJyNmZDhkM2MnLCAnI2ZkOGQzYycsICcjZmQ4ZDNjJywgJyNmZDhkM2MnLCAnI2ZkOGQzYycsICcjZmQ4ZDNjJywgJyNmZDhkM2MnLCAnI2ZkOGQzYycsICcjZmQ4ZDNjJywgJyNmZDhkM2MnLCAnI2ZkOGQzYycsICcjZmQ4ZDNjJywgJyNmZDhkM2MnLCAnI2ZkOGQzYycsICcjZmQ4ZDNjJywgJyNmZDhkM2MnLCAnI2ZkOGQzYycsICcjZmQ4ZDNjJywgJyNmZDhkM2MnLCAnI2ZkOGQzYycsICcjZmQ4ZDNjJywgJyNmZDhkM2MnLCAnI2ZkOGQzYycsICcjZmQ4ZDNjJywgJyNmZDhkM2MnLCAnI2ZkOGQzYycsICcjZmQ4ZDNjJywgJyNmZDhkM2MnLCAnI2ZkOGQzYycsICcjZmQ4ZDNjJywgJyNmZDhkM2MnLCAnI2ZkOGQzYycsICcjZmQ4ZDNjJywgJyNmZDhkM2MnLCAnI2ZkOGQzYycsICcjZmQ4ZDNjJywgJyNmZDhkM2MnLCAnI2ZkOGQzYycsICcjZmQ4ZDNjJywgJyNmZDhkM2MnLCAnI2ZkOGQzYycsICcjZmQ4ZDNjJywgJyNmZDhkM2MnLCAnI2ZkOGQzYycsICcjZmQ4ZDNjJywgJyNmZDhkM2MnLCAnI2ZkOGQzYycsICcjZmQ4ZDNjJywgJyNmZDhkM2MnLCAnI2ZkOGQzYycsICcjZmQ4ZDNjJywgJyNmZDhkM2MnLCAnI2ZkOGQzYycsICcjZmQ4ZDNjJywgJyNmZDhkM2MnLCAnI2ZkOGQzYycsICcjZmQ4ZDNjJywgJyNmZDhkM2MnLCAnI2YwM2IyMCcsICcjZjAzYjIwJywgJyNmMDNiMjAnLCAnI2YwM2IyMCcsICcjZjAzYjIwJywgJyNmMDNiMjAnLCAnI2YwM2IyMCcsICcjZjAzYjIwJywgJyNmMDNiMjAnLCAnI2YwM2IyMCcsICcjZjAzYjIwJywgJyNmMDNiMjAnLCAnI2YwM2IyMCcsICcjZjAzYjIwJywgJyNmMDNiMjAnLCAnI2YwM2IyMCcsICcjZjAzYjIwJywgJyNmMDNiMjAnLCAnI2YwM2IyMCcsICcjZjAzYjIwJywgJyNmMDNiMjAnLCAnI2YwM2IyMCcsICcjZjAzYjIwJywgJyNmMDNiMjAnLCAnI2YwM2IyMCcsICcjZjAzYjIwJywgJyNmMDNiMjAnLCAnI2YwM2IyMCcsICcjZjAzYjIwJywgJyNmMDNiMjAnLCAnI2YwM2IyMCcsICcjZjAzYjIwJywgJyNmMDNiMjAnLCAnI2YwM2IyMCcsICcjZjAzYjIwJywgJyNmMDNiMjAnLCAnI2YwM2IyMCcsICcjZjAzYjIwJywgJyNmMDNiMjAnLCAnI2YwM2IyMCcsICcjZjAzYjIwJywgJyNmMDNiMjAnLCAnI2YwM2IyMCcsICcjZjAzYjIwJywgJyNmMDNiMjAnLCAnI2YwM2IyMCcsICcjZjAzYjIwJywgJyNmMDNiMjAnLCAnI2YwM2IyMCcsICcjZjAzYjIwJywgJyNmMDNiMjAnLCAnI2YwM2IyMCcsICcjZjAzYjIwJywgJyNmMDNiMjAnLCAnI2YwM2IyMCcsICcjZjAzYjIwJywgJyNmMDNiMjAnLCAnI2YwM2IyMCcsICcjZjAzYjIwJywgJyNmMDNiMjAnLCAnI2YwM2IyMCcsICcjZjAzYjIwJywgJyNmMDNiMjAnLCAnI2YwM2IyMCcsICcjZjAzYjIwJywgJyNmMDNiMjAnLCAnI2YwM2IyMCcsICcjZjAzYjIwJywgJyNmMDNiMjAnLCAnI2YwM2IyMCcsICcjZjAzYjIwJywgJyNmMDNiMjAnLCAnI2YwM2IyMCcsICcjZjAzYjIwJywgJyNmMDNiMjAnLCAnI2YwM2IyMCcsICcjZjAzYjIwJywgJyNmMDNiMjAnLCAnI2YwM2IyMCcsICcjZjAzYjIwJywgJyNmMDNiMjAnLCAnI2YwM2IyMCcsICcjZjAzYjIwJywgJyNiZDAwMjYnLCAnI2JkMDAyNicsICcjYmQwMDI2JywgJyNiZDAwMjYnLCAnI2JkMDAyNicsICcjYmQwMDI2JywgJyNiZDAwMjYnLCAnI2JkMDAyNicsICcjYmQwMDI2JywgJyNiZDAwMjYnLCAnI2JkMDAyNicsICcjYmQwMDI2JywgJyNiZDAwMjYnLCAnI2JkMDAyNicsICcjYmQwMDI2JywgJyNiZDAwMjYnLCAnI2JkMDAyNicsICcjYmQwMDI2JywgJyNiZDAwMjYnLCAnI2JkMDAyNicsICcjYmQwMDI2JywgJyNiZDAwMjYnLCAnI2JkMDAyNicsICcjYmQwMDI2JywgJyNiZDAwMjYnLCAnI2JkMDAyNicsICcjYmQwMDI2JywgJyNiZDAwMjYnLCAnI2JkMDAyNicsICcjYmQwMDI2JywgJyNiZDAwMjYnLCAnI2JkMDAyNicsICcjYmQwMDI2JywgJyNiZDAwMjYnLCAnI2JkMDAyNicsICcjYmQwMDI2JywgJyNiZDAwMjYnLCAnI2JkMDAyNicsICcjYmQwMDI2JywgJyNiZDAwMjYnLCAnI2JkMDAyNicsICcjYmQwMDI2JywgJyNiZDAwMjYnLCAnI2JkMDAyNicsICcjYmQwMDI2JywgJyNiZDAwMjYnLCAnI2JkMDAyNicsICcjYmQwMDI2JywgJyNiZDAwMjYnLCAnI2JkMDAyNicsICcjYmQwMDI2JywgJyNiZDAwMjYnLCAnI2JkMDAyNicsICcjYmQwMDI2JywgJyNiZDAwMjYnLCAnI2JkMDAyNicsICcjYmQwMDI2JywgJyNiZDAwMjYnLCAnI2JkMDAyNicsICcjYmQwMDI2JywgJyNiZDAwMjYnLCAnI2JkMDAyNicsICcjYmQwMDI2JywgJyNiZDAwMjYnLCAnI2JkMDAyNicsICcjYmQwMDI2JywgJyNiZDAwMjYnLCAnI2JkMDAyNicsICcjYmQwMDI2JywgJyNiZDAwMjYnLCAnI2JkMDAyNicsICcjYmQwMDI2JywgJyNiZDAwMjYnLCAnI2JkMDAyNicsICcjYmQwMDI2JywgJyNiZDAwMjYnLCAnI2JkMDAyNicsICcjYmQwMDI2JywgJyNiZDAwMjYnLCAnI2JkMDAyNicsICcjYmQwMDI2JywgJyNiZDAwMjYnLCAnI2JkMDAyNicsICcjYmQwMDI2J10pOwogICAgCgogICAgY29sb3JfbWFwXzhhMzJjNzBlNWUzZjQzNDhiZDkyYTkyNGIwNDNhMDA1LnggPSBkMy5zY2FsZS5saW5lYXIoKQogICAgICAgICAgICAgIC5kb21haW4oWy0yNjEzMjQuMCwgNTEwMjU1LjBdKQogICAgICAgICAgICAgIC5yYW5nZShbMCwgNDAwXSk7CgogICAgY29sb3JfbWFwXzhhMzJjNzBlNWUzZjQzNDhiZDkyYTkyNGIwNDNhMDA1LmxlZ2VuZCA9IEwuY29udHJvbCh7cG9zaXRpb246ICd0b3ByaWdodCd9KTsKICAgIGNvbG9yX21hcF84YTMyYzcwZTVlM2Y0MzQ4YmQ5MmE5MjRiMDQzYTAwNS5sZWdlbmQub25BZGQgPSBmdW5jdGlvbiAobWFwKSB7dmFyIGRpdiA9IEwuRG9tVXRpbC5jcmVhdGUoJ2RpdicsICdsZWdlbmQnKTsgcmV0dXJuIGRpdn07CiAgICBjb2xvcl9tYXBfOGEzMmM3MGU1ZTNmNDM0OGJkOTJhOTI0YjA0M2EwMDUubGVnZW5kLmFkZFRvKG1hcF8zNGJhODkzMzYyMzM0ZTJjOTAxMGFiNjVhZjlmNDZmMCk7CgogICAgY29sb3JfbWFwXzhhMzJjNzBlNWUzZjQzNDhiZDkyYTkyNGIwNDNhMDA1LnhBeGlzID0gZDMuc3ZnLmF4aXMoKQogICAgICAgIC5zY2FsZShjb2xvcl9tYXBfOGEzMmM3MGU1ZTNmNDM0OGJkOTJhOTI0YjA0M2EwMDUueCkKICAgICAgICAub3JpZW50KCJ0b3AiKQogICAgICAgIC50aWNrU2l6ZSgxKQogICAgICAgIC50aWNrVmFsdWVzKFstMjYxMzI0LjAsIC0xMzI3MjcuNSwgLTQxMzEuMCwgMTI0NDY1LjUsIDI1MzA2Mi4wLCAzODE2NTguNSwgNTEwMjU1LjBdKTsKCiAgICBjb2xvcl9tYXBfOGEzMmM3MGU1ZTNmNDM0OGJkOTJhOTI0YjA0M2EwMDUuc3ZnID0gZDMuc2VsZWN0KCIubGVnZW5kLmxlYWZsZXQtY29udHJvbCIpLmFwcGVuZCgic3ZnIikKICAgICAgICAuYXR0cigiaWQiLCAnbGVnZW5kJykKICAgICAgICAuYXR0cigid2lkdGgiLCA0NTApCiAgICAgICAgLmF0dHIoImhlaWdodCIsIDQwKTsKCiAgICBjb2xvcl9tYXBfOGEzMmM3MGU1ZTNmNDM0OGJkOTJhOTI0YjA0M2EwMDUuZyA9IGNvbG9yX21hcF84YTMyYzcwZTVlM2Y0MzQ4YmQ5MmE5MjRiMDQzYTAwNS5zdmcuYXBwZW5kKCJnIikKICAgICAgICAuYXR0cigiY2xhc3MiLCAia2V5IikKICAgICAgICAuYXR0cigidHJhbnNmb3JtIiwgInRyYW5zbGF0ZSgyNSwxNikiKTsKCiAgICBjb2xvcl9tYXBfOGEzMmM3MGU1ZTNmNDM0OGJkOTJhOTI0YjA0M2EwMDUuZy5zZWxlY3RBbGwoInJlY3QiKQogICAgICAgIC5kYXRhKGNvbG9yX21hcF84YTMyYzcwZTVlM2Y0MzQ4YmQ5MmE5MjRiMDQzYTAwNS5jb2xvci5yYW5nZSgpLm1hcChmdW5jdGlvbihkLCBpKSB7CiAgICAgICAgICByZXR1cm4gewogICAgICAgICAgICB4MDogaSA/IGNvbG9yX21hcF84YTMyYzcwZTVlM2Y0MzQ4YmQ5MmE5MjRiMDQzYTAwNS54KGNvbG9yX21hcF84YTMyYzcwZTVlM2Y0MzQ4YmQ5MmE5MjRiMDQzYTAwNS5jb2xvci5kb21haW4oKVtpIC0gMV0pIDogY29sb3JfbWFwXzhhMzJjNzBlNWUzZjQzNDhiZDkyYTkyNGIwNDNhMDA1LngucmFuZ2UoKVswXSwKICAgICAgICAgICAgeDE6IGkgPCBjb2xvcl9tYXBfOGEzMmM3MGU1ZTNmNDM0OGJkOTJhOTI0YjA0M2EwMDUuY29sb3IuZG9tYWluKCkubGVuZ3RoID8gY29sb3JfbWFwXzhhMzJjNzBlNWUzZjQzNDhiZDkyYTkyNGIwNDNhMDA1LngoY29sb3JfbWFwXzhhMzJjNzBlNWUzZjQzNDhiZDkyYTkyNGIwNDNhMDA1LmNvbG9yLmRvbWFpbigpW2ldKSA6IGNvbG9yX21hcF84YTMyYzcwZTVlM2Y0MzQ4YmQ5MmE5MjRiMDQzYTAwNS54LnJhbmdlKClbMV0sCiAgICAgICAgICAgIHo6IGQKICAgICAgICAgIH07CiAgICAgICAgfSkpCiAgICAgIC5lbnRlcigpLmFwcGVuZCgicmVjdCIpCiAgICAgICAgLmF0dHIoImhlaWdodCIsIDEwKQogICAgICAgIC5hdHRyKCJ4IiwgZnVuY3Rpb24oZCkgeyByZXR1cm4gZC54MDsgfSkKICAgICAgICAuYXR0cigid2lkdGgiLCBmdW5jdGlvbihkKSB7IHJldHVybiBkLngxIC0gZC54MDsgfSkKICAgICAgICAuc3R5bGUoImZpbGwiLCBmdW5jdGlvbihkKSB7IHJldHVybiBkLno7IH0pOwoKICAgIGNvbG9yX21hcF84YTMyYzcwZTVlM2Y0MzQ4YmQ5MmE5MjRiMDQzYTAwNS5nLmNhbGwoY29sb3JfbWFwXzhhMzJjNzBlNWUzZjQzNDhiZDkyYTkyNGIwNDNhMDA1LnhBeGlzKS5hcHBlbmQoInRleHQiKQogICAgICAgIC5hdHRyKCJjbGFzcyIsICJjYXB0aW9uIikKICAgICAgICAuYXR0cigieSIsIDIxKQogICAgICAgIC50ZXh0KCcnKTsKPC9zY3JpcHQ+\" style=\"position:absolute;width:100%;height:100%;left:0;top:0;border:none !important;\" allowfullscreen webkitallowfullscreen mozallowfullscreen></iframe></div></div>"
      ],
      "text/plain": [
       "<folium.folium.Map at 0x114ecf510>"
      ]
     },
     "execution_count": 101,
     "metadata": {},
     "output_type": "execute_result"
    }
   ],
   "source": [
    "shelter_capacity['gu']=shelter_capacity['sigungu'].str.split(' ').str[1]\n",
    "shelter_capacity['diff_map'] = shelter_capacity['nop']-shelter_capacity['max']\n",
    "\n",
    "\n",
    "import json\n",
    "import matplotlib.pyplot as plt\n",
    "\n",
    "geo_path = 'skorea_municipalities_geo_simple.json'\n",
    "geo_str = json.load(open(geo_path, encoding='utf-8'))\n",
    "\n",
    "# 서울시의 중심의 위도와 경도 정보를 먼저 입력하고 경계선을 그리자.\n",
    "\n",
    "map = folium.Map(location=[37.5502, 126.982], zoom_start=11,\n",
    "                tiles='stamentoner')\n",
    "map.choropleth(geo_data=geo_str,\n",
    "              data=shelter_capacity, #내가 원하는 데이터를 넣어주세요 \n",
    "              columns=['gu', 'diff_map'], #앞에는 인덱스, 뒤에는 data에 있는 정보를 그대로 넣어주세요 \n",
    "              fill_color='YlOrRd',\n",
    "              key_on='feature.properties.name')\n",
    "map\n",
    "# map.save('구 단위 인구 대비 최대수용인원수 시각화.html')"
   ]
  },
  {
   "cell_type": "code",
   "execution_count": null,
   "metadata": {},
   "outputs": [],
   "source": [
    "# table = pd.read_csv('상권배후지-추정유동인구(2019년).csv', encoding = \"CP949\")"
   ]
  },
  {
   "cell_type": "markdown",
   "metadata": {},
   "source": [
    "## 지진 대피소 위치"
   ]
  },
  {
   "cell_type": "code",
   "execution_count": null,
   "metadata": {},
   "outputs": [],
   "source": [
    "seoul.shape"
   ]
  },
  {
   "cell_type": "code",
   "execution_count": null,
   "metadata": {},
   "outputs": [],
   "source": [
    "# null값이 있으면 folium을 사용할 수 없어서 null값을 0으로 바꿔주기\n",
    "seoul['위도'] = seoul['위도'].replace(np.nan, 0, regex = True)\n",
    "seoul['경도'] = seoul['경도'].replace(np.nan, 0, regex = True)"
   ]
  },
  {
   "cell_type": "code",
   "execution_count": null,
   "metadata": {},
   "outputs": [],
   "source": [
    "# 데이터의 크기를 줄이기 위해 위도, 경도 칼럼만 추출\n",
    "coordinates = seoul[['위도', '경도']]"
   ]
  },
  {
   "cell_type": "code",
   "execution_count": null,
   "metadata": {},
   "outputs": [],
   "source": [
    "coordinates.head()"
   ]
  },
  {
   "cell_type": "code",
   "execution_count": null,
   "metadata": {},
   "outputs": [],
   "source": [
    "# null값 확인\n",
    "coordinates.isnull().sum()"
   ]
  },
  {
   "cell_type": "markdown",
   "metadata": {},
   "source": [
    "### 대피소 위치"
   ]
  },
  {
   "cell_type": "code",
   "execution_count": null,
   "metadata": {},
   "outputs": [],
   "source": [
    "from folium import Map"
   ]
  },
  {
   "cell_type": "code",
   "execution_count": null,
   "metadata": {},
   "outputs": [],
   "source": [
    "# 지도 준비\n",
    "\n",
    "map = Map(location=[37.55, 127], zoom_start=11)\n",
    "\n",
    "# 지도에 위치 표시\n",
    "\n",
    "for lat, lng in coordinates.values:\n",
    "    marker = folium.Circle(\n",
    "        location=[lat, lng],\n",
    "        radius=100,\n",
    "        weight=1,\n",
    "#         fill_color='#F00',\n",
    "        fill_opacity=0.3,\n",
    "    )\n",
    "    marker.add_to(map)\n",
    "\n",
    "map"
   ]
  },
  {
   "cell_type": "markdown",
   "metadata": {},
   "source": [
    "### 30분 이내 도착 수용가능 범위"
   ]
  },
  {
   "cell_type": "code",
   "execution_count": null,
   "metadata": {},
   "outputs": [],
   "source": [
    "# 지도 준비\n",
    "\n",
    "map = Map(location=[37.55, 127], zoom_start=11)\n",
    "\n",
    "# 지도에 위치 표시\n",
    "\n",
    "for lat, lng in coordinates.values:\n",
    "    marker = folium.Circle(\n",
    "        location=[lat, lng],\n",
    "        radius=2_250,\n",
    "        weight=1,\n",
    "        opacity=0.1,\n",
    "        color = 'rgb(0, 0, 255)',\n",
    "        fill_color='rgb(0, 0, 255)',\n",
    "        fill_opacity=0.01,\n",
    "    )\n",
    "    marker.add_to(map)\n",
    "\n",
    "map"
   ]
  },
  {
   "cell_type": "markdown",
   "metadata": {},
   "source": [
    "## 10분 이내 도착 수용가능 범위"
   ]
  },
  {
   "cell_type": "code",
   "execution_count": null,
   "metadata": {},
   "outputs": [],
   "source": [
    "# 지도 준비\n",
    "\n",
    "map = Map(location=[37.55, 127], zoom_start=11)\n",
    "\n",
    "# 지도에 위치 표시\n",
    "\n",
    "for lat, lng in coordinates.values:\n",
    "    marker = folium.Circle(\n",
    "        location=[lat, lng],\n",
    "        radius=750,\n",
    "        weight=1,\n",
    "        opacity=0.1,\n",
    "        color = 'rgb(0, 0, 255)',\n",
    "        fill_color='rgb(0, 0, 255)',\n",
    "        fill_opacity=0.1,\n",
    "    )\n",
    "    marker.add_to(map)\n",
    "\n",
    "map"
   ]
  },
  {
   "cell_type": "markdown",
   "metadata": {},
   "source": [
    "## 인구대비 수용인원이 많은 대피소는 더 많은 사람에게 추천할 수 있지 않을까?\n",
    "#### 필요한 데이터\n",
    "1. 인구 수 데이터\n",
    " - 거주인구\n",
    " - 유동인구\n",
    " - 둘 중 어느 데이터로 할 것인가? 둘 다 사용?\n",
    "2. 서울시 지진 대피소 데이터\n",
    "\n",
    "#### 방법\n",
    "1. 인구대비 수용인원이 많은 지역을 찾는다.\n",
    " - 한솔님 분석해주신 거주인구 최대 수용인원 이용\n",
    " - 예은님께 유동인구 데이터를 받아서 한솔님 코드에 적용\n",
    "2. 수용인원 '충분' 단계 기준을 정한다. (4단계)\n",
    " - 1(매우충분), 2(충분), 3(부족), 4(매우부족)\n",
    "3. '충분' 단계의 대피소 알림 기준을 어디까지 확대할지 정한다.\n",
    " - 750m(10분이내) ~ 2250m(30분이내)에서 거리를 설정?\n",
    " - 30분 이상 걸리는 거리도 추가로 설정?"
   ]
  },
  {
   "cell_type": "code",
   "execution_count": null,
   "metadata": {},
   "outputs": [],
   "source": [
    "shelter_capacity['diff'].max()"
   ]
  },
  {
   "cell_type": "code",
   "execution_count": null,
   "metadata": {},
   "outputs": [],
   "source": [
    "shelter_capacity['diff'].min()"
   ]
  },
  {
   "cell_type": "code",
   "execution_count": null,
   "metadata": {},
   "outputs": [],
   "source": [
    "# 불충분, 충분으로 나눴던 capacity를 4단계로 세분화"
   ]
  },
  {
   "cell_type": "code",
   "execution_count": null,
   "metadata": {},
   "outputs": [],
   "source": [
    "seoul_level = seoul.merge(shelter_capacity, how='left', left_on=['제공기관명'], right_on=['sigungu'])"
   ]
  },
  {
   "cell_type": "code",
   "execution_count": null,
   "metadata": {},
   "outputs": [],
   "source": [
    "# 1(매우충분) : diff >= 100000\n",
    "# 2(충분) : 0 <= diff < 100000\n",
    "# 3(부족) : -300000 <= diff < 0\n",
    "# 4(매우부족) : diff < -300000\n",
    "seoul_level['level'] = seoul_level['diff'].apply(lambda x:'1' if x>= 100000 else \n",
    "                                                           ('2' if x>=0 else\n",
    "                                                            ('3' if x>=-300000 else '4')))"
   ]
  },
  {
   "cell_type": "code",
   "execution_count": null,
   "metadata": {},
   "outputs": [],
   "source": [
    "shelter_1 = seoul_level[seoul_level['level'] == '1']\n",
    "shelter_2 = seoul_level[seoul_level['level'] == '2']\n",
    "shelter_3 = seoul_level[seoul_level['level'] == '3']\n",
    "shelter_4 = seoul_level[seoul_level['level'] == '4']"
   ]
  },
  {
   "cell_type": "code",
   "execution_count": null,
   "metadata": {},
   "outputs": [],
   "source": [
    "coordinates_1 = shelter_1[['위도', '경도']]\n",
    "coordinates_2 = shelter_2[['위도', '경도']]\n",
    "coordinates_3 = shelter_3[['위도', '경도']]\n",
    "coordinates_4 = shelter_4[['위도', '경도']]"
   ]
  },
  {
   "cell_type": "markdown",
   "metadata": {},
   "source": [
    "### 750 ~ 2250m 내에서 범위를 수정한다고 가정했을때"
   ]
  },
  {
   "cell_type": "markdown",
   "metadata": {},
   "source": [
    "level 1 : 2250m  \n",
    "level 2 : 1750m  \n",
    "level 3 : 1250m  \n",
    "level 4 : 750m"
   ]
  },
  {
   "cell_type": "code",
   "execution_count": null,
   "metadata": {},
   "outputs": [],
   "source": [
    "# 지도 준비\n",
    "\n",
    "map = Map(location=[37.55, 127], zoom_start=11)\n",
    "\n",
    "# 지도에 위치 표시\n",
    "\n",
    "for lat, lng in coordinates_1.values:\n",
    "    marker = folium.Circle(\n",
    "        location=[lat, lng],\n",
    "        radius=2_250,\n",
    "        weight=1,\n",
    "        opacity=0.1,\n",
    "        color = 'rgb(0, 0, 0)',\n",
    "        fill_color='rgb(255, 128, 114)',\n",
    "        fill_opacity=0.1,\n",
    "    )\n",
    "    marker.add_to(map)\n",
    "    \n",
    "for lat, lng in coordinates_2.values:\n",
    "    marker = folium.Circle(\n",
    "        location=[lat, lng],\n",
    "        radius=1_750,\n",
    "        weight=1,\n",
    "        opacity=0.1,\n",
    "        color = 'rgb(0, 0, 0)',\n",
    "        fill_color='rgb(240, 230, 140)',\n",
    "        fill_opacity=0.1,\n",
    "    )\n",
    "    marker.add_to(map)\n",
    "    \n",
    "for lat, lng in coordinates_3.values:\n",
    "    marker = folium.Circle(\n",
    "        location=[lat, lng],\n",
    "        radius=1_250,\n",
    "        weight=1,\n",
    "        opacity=0.1,\n",
    "        color = 'rgb(0, 0, 0)',\n",
    "        fill_color='rgb(132, 178, 170)',\n",
    "        fill_opacity=0.1,\n",
    "    )\n",
    "    marker.add_to(map)\n",
    "    \n",
    "for lat, lng in coordinates_4.values:\n",
    "    marker = folium.Circle(\n",
    "        location=[lat, lng],\n",
    "        radius=750,\n",
    "        weight=1,\n",
    "        opacity=0.1,\n",
    "        color = 'rgb(0, 0, 0)',\n",
    "        fill_color='rgb(135, 206, 250)',\n",
    "        fill_opacity=0.1,\n",
    "    )\n",
    "    marker.add_to(map)\n",
    "\n",
    "map"
   ]
  },
  {
   "cell_type": "code",
   "execution_count": null,
   "metadata": {},
   "outputs": [],
   "source": []
  }
 ],
 "metadata": {
  "kernelspec": {
   "display_name": "Python 3",
   "language": "python",
   "name": "python3"
  },
  "language_info": {
   "codemirror_mode": {
    "name": "ipython",
    "version": 3
   },
   "file_extension": ".py",
   "mimetype": "text/x-python",
   "name": "python",
   "nbconvert_exporter": "python",
   "pygments_lexer": "ipython3",
   "version": "3.7.4"
  }
 },
 "nbformat": 4,
 "nbformat_minor": 2
}
