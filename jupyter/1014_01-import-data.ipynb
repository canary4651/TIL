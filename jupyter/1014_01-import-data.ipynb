{
 "cells": [
  {
   "cell_type": "markdown",
   "metadata": {},
   "source": [
    "# 유기동물 정보 가져와서 DB에 넣기\n",
    "\n",
    "동물보호관리시스템 유기동물 조회 서비스:\n",
    "<https://www.data.go.kr/dataset/15001096/openapi.do>"
   ]
  },
  {
   "cell_type": "markdown",
   "metadata": {},
   "source": [
    "공공데이터포털 API를 사용하기 위해 환경변수를 설정합니다.\n",
    "\n",
    "반드시 Key, Token 등의 내용을 바꿔서 입력해 주세요.\n",
    "\n",
    "```bash\n",
    "# Mac, Linux 또는 Windows Git Bash 등에선 다음과 같이 export를 사용하시면 됩니다.\n",
    "export ANIMAL_API_KEY=abcdefghijklm%2FvSfZeu4FoGpl2eGP%2FzlR5eGh%2F9M8jbOv4HPFZI%2BM7ckZstS8OzkMKHNBkpAtdZX6T8VoRl4Q%3D%3D\n",
    "# Windows 기본 환경에선 다음과 같이 set을 사용하세요.\n",
    "set ANIMAL_API_KEY=abcdefghijklm%2FvSfZeu4FoGpl2eGP%2FzlR5eGh%2F9M8jbOv4HPFZI%2BM7ckZstS8OzkMKHNBkpAtdZX6T8VoRl4Q%3D%3D\n",
    "\n",
    "# Jupyter Notebook 실행\n",
    "jupyter notebook\n",
    "```"
   ]
  },
  {
   "cell_type": "markdown",
   "metadata": {},
   "source": [
    "환경 변수에서 API 키를 가져옵니다."
   ]
  },
  {
   "cell_type": "code",
   "execution_count": 3,
   "metadata": {},
   "outputs": [],
   "source": [
    "# 환경 변수에서 API 키 가져오기\n",
    "\n",
    "import os\n",
    "from urllib.parse import unquote\n",
    "\n",
    "API_KEY = unquote(os.environ['ANIMAL_API_KEY'])"
   ]
  },
  {
   "cell_type": "markdown",
   "metadata": {},
   "source": [
    "## 라이브러리 사용"
   ]
  },
  {
   "cell_type": "code",
   "execution_count": 4,
   "metadata": {},
   "outputs": [
    {
     "data": {
      "text/plain": [
       "'2.22.0'"
      ]
     },
     "execution_count": 4,
     "metadata": {},
     "output_type": "execute_result"
    }
   ],
   "source": [
    "# requests 사용\n",
    "\n",
    "import requests\n",
    "\n",
    "requests.__version__"
   ]
  },
  {
   "cell_type": "code",
   "execution_count": 5,
   "metadata": {},
   "outputs": [
    {
     "data": {
      "text/plain": [
       "'2.6.0'"
      ]
     },
     "execution_count": 5,
     "metadata": {},
     "output_type": "execute_result"
    }
   ],
   "source": [
    "# sqlite3 사용\n",
    "\n",
    "import sqlite3\n",
    "\n",
    "sqlite3.version"
   ]
  },
  {
   "cell_type": "markdown",
   "metadata": {},
   "source": [
    "## 동물보호관리시스템 유기동물 조회 서비스 API 사용\n",
    "\n",
    "DB에 꽉 채워넣읍시다."
   ]
  },
  {
   "cell_type": "code",
   "execution_count": 7,
   "metadata": {
    "scrolled": false
   },
   "outputs": [
    {
     "name": "stdout",
     "output_type": "stream",
     "text": [
      "<Response [200]>\n"
     ]
    }
   ],
   "source": [
    "# 동물보호관리시스템 유기동물 조회 서비스 API\n",
    "\n",
    "# 물음표(?) 앞부분\n",
    "url = 'http://openapi.animal.go.kr/openapi/service/rest/abandonmentPublicSrvc/abandonmentPublic'\n",
    "\n",
    "# 물음표(?) 뒷부분\n",
    "payload = {\n",
    "    'serviceKey': API_KEY,\n",
    "    'bgnde': '20190801',\n",
    "    'endde': '20191031',\n",
    "    'numOfRows': 100_000,\n",
    "}\n",
    "\n",
    "# API 호출\n",
    "response = requests.get(url, params=payload)\n",
    "\n",
    "print(response)"
   ]
  },
  {
   "cell_type": "code",
   "execution_count": 8,
   "metadata": {
    "scrolled": true
   },
   "outputs": [
    {
     "data": {
      "text/plain": [
       "24044252"
      ]
     },
     "execution_count": 8,
     "metadata": {},
     "output_type": "execute_result"
    }
   ],
   "source": [
    "# Response의 Text 길이를 확인합니다.\n",
    "# 만약 이 값이 너무 작다면 오류가 발생했는지 확인해 보세요.\n",
    "\n",
    "len(response.text) #23808539"
   ]
  },
  {
   "cell_type": "code",
   "execution_count": 9,
   "metadata": {
    "scrolled": true
   },
   "outputs": [
    {
     "data": {
      "text/plain": [
       "<Element 'response' at 0x10c8333b0>"
      ]
     },
     "execution_count": 9,
     "metadata": {},
     "output_type": "execute_result"
    }
   ],
   "source": [
    "# XML 데이터 파싱\n",
    "\n",
    "import xml.etree.ElementTree as ET\n",
    "\n",
    "root = ET.fromstring(response.text)\n",
    "\n",
    "root"
   ]
  },
  {
   "cell_type": "code",
   "execution_count": 10,
   "metadata": {},
   "outputs": [
    {
     "data": {
      "text/plain": [
       "['age',\n",
       " 'careAddr',\n",
       " 'careNm',\n",
       " 'careTel',\n",
       " 'chargeNm',\n",
       " 'colorCd',\n",
       " 'desertionNo',\n",
       " 'filename',\n",
       " 'happenDt',\n",
       " 'happenPlace',\n",
       " 'kindCd',\n",
       " 'neuterYn',\n",
       " 'noticeEdt',\n",
       " 'noticeNo',\n",
       " 'noticeSdt',\n",
       " 'officetel',\n",
       " 'orgNm',\n",
       " 'popfile',\n",
       " 'processState',\n",
       " 'sexCd',\n",
       " 'specialMark',\n",
       " 'weight']"
      ]
     },
     "execution_count": 10,
     "metadata": {},
     "output_type": "execute_result"
    }
   ],
   "source": [
    "# 컬럼 목록 얻기\n",
    "\n",
    "item = next(root.iter('item'))\n",
    "\n",
    "columns = []\n",
    "\n",
    "for child in item:\n",
    "    columns.append(child.tag)\n",
    "\n",
    "columns"
   ]
  },
  {
   "cell_type": "markdown",
   "metadata": {},
   "source": [
    "## 사용할 컬럼 선택\n",
    "\n",
    "어떤 컬럼을 사용할지 선택해서 테이블을 만듭시다.\n",
    "\n",
    "저는 `age`, `colorCd`, `happenDt`, `kindCd`, `orgNm`, `sexCd`, `weight`만 사용하겠습니다."
   ]
  },
  {
   "cell_type": "code",
   "execution_count": 11,
   "metadata": {},
   "outputs": [],
   "source": [
    "columns = ['age', 'colorCd', 'happenDt', 'kindCd', 'orgNm', 'sexCd', 'weight']"
   ]
  },
  {
   "cell_type": "markdown",
   "metadata": {},
   "source": [
    "## Identifier (고유 식별자)\n",
    "\n",
    "각 동물 데이터에 대한 Identifier를 만들면 개별적으로 관리하기 좋습니다.\n",
    "\n",
    "학급에서 학생들에게 번호를 지정하면 같은 이름을 가진 학생을 구분하기도 좋고, 훨씬 쉽고 빠르게 데이터에 접근할 수 있습니다.\n",
    "\n",
    "“아샬”이란 학생의 국어 점수를 찾으려면 꽤 어려울 수 있지만,\n",
    "(학생 정보가 번호 순서대로 써있다는 전제로) 32번 학생의 국어 점수는 비교적 쉽게 찾을 수 있죠.\n",
    "\n",
    "SQLite는 `PRIMARY_KEY`와 `AUTOINCREMENT`를 통해 Identifier를 제공합니다.\n",
    "\n",
    "- [CREATE TABLE](https://www.sqlite.org/lang_createtable.html)\n",
    "- [SQLite Primary Key](https://www.sqlitetutorial.net/sqlite-primary-key/)\n",
    "- [SQLite AUTOINCREMENT](https://www.sqlitetutorial.net/sqlite-autoincrement/)"
   ]
  },
  {
   "cell_type": "markdown",
   "metadata": {},
   "source": [
    "## DB 접속"
   ]
  },
  {
   "cell_type": "code",
   "execution_count": 12,
   "metadata": {},
   "outputs": [],
   "source": [
    "# 파일로 기록되는 데이터베이스에 연결/접속\n",
    "\n",
    "connection = sqlite3.connect('test.db')"
   ]
  },
  {
   "cell_type": "code",
   "execution_count": 13,
   "metadata": {},
   "outputs": [],
   "source": [
    "# 커서 얻기\n",
    "\n",
    "cursor = connection.cursor()"
   ]
  },
  {
   "cell_type": "markdown",
   "metadata": {},
   "source": [
    "## 테이블 생성"
   ]
  },
  {
   "cell_type": "code",
   "execution_count": 14,
   "metadata": {
    "scrolled": true
   },
   "outputs": [
    {
     "data": {
      "text/plain": [
       "<sqlite3.Cursor at 0x11f2fe2d0>"
      ]
     },
     "execution_count": 14,
     "metadata": {},
     "output_type": "execute_result"
    }
   ],
   "source": [
    "sql = '''\n",
    "CREATE TABLE animals (\n",
    "    id INTEGER PRIMARY KEY AUTOINCREMENT,\n",
    "    age TEXT,\n",
    "    colorCd TEXT,\n",
    "    happenDt TEXT,\n",
    "    kindCd TEXT,\n",
    "    orgNm TEXT,\n",
    "    sexCd TEXT,\n",
    "    weight TEXT\n",
    ")\n",
    "'''\n",
    "\n",
    "# id 내가 추가한거 INTEGER 정수 PRIMARY KEY AUTOINCREMENT -> id는 프라이머리 키임 (auto - 자동으로 잡아줌) \n",
    "# 그냥 맨처음에 무조건 쓴다고 생각하기 \n",
    "# ! 근데 중복값이 싫어서 어떻게 제거하냐고 물어봤음 -> 아샬님 답변 : 생각해보니까 테이블에 이미 지정 아이디 값이 있네요!!! 그걸 쓰시면 됩니다. \n",
    "# -> id d\n",
    "# 아샬님이 코드 추가해주신다고 하니까 그거 보고 다시 하자 \n",
    "\n",
    "\n",
    "cursor.execute(sql)"
   ]
  },
  {
   "cell_type": "markdown",
   "metadata": {},
   "source": [
    "## XML 파싱"
   ]
  },
  {
   "cell_type": "code",
   "execution_count": 15,
   "metadata": {
    "scrolled": false
   },
   "outputs": [],
   "source": [
    "# XML 데이터를 rows에 담기\n",
    "\n",
    "# rows 준비\n",
    "rows = []\n",
    "\n",
    "for item in root.iter('item'):\n",
    "    # row 준비\n",
    "    row = {}\n",
    "\n",
    "    # 원하는 컬럼만 얻습니다.\n",
    "    for column in columns:\n",
    "        row[column] = item.find(column).text\n",
    "\n",
    "    # rows에 추가\n",
    "    rows.append(row)"
   ]
  },
  {
   "cell_type": "code",
   "execution_count": 16,
   "metadata": {},
   "outputs": [
    {
     "data": {
      "text/plain": [
       "30629"
      ]
     },
     "execution_count": 16,
     "metadata": {},
     "output_type": "execute_result"
    }
   ],
   "source": [
    "# rows 갯수 확인\n",
    "\n",
    "len(rows) #30330 -> 30556"
   ]
  },
  {
   "cell_type": "code",
   "execution_count": 17,
   "metadata": {},
   "outputs": [
    {
     "data": {
      "text/plain": [
       "{'age': '2016(년생)',\n",
       " 'colorCd': '흰갈',\n",
       " 'happenDt': '20191014',\n",
       " 'kindCd': '[개] 믹스견',\n",
       " 'orgNm': '경상남도 의령군',\n",
       " 'sexCd': 'F',\n",
       " 'weight': '5(Kg)'}"
      ]
     },
     "execution_count": 17,
     "metadata": {},
     "output_type": "execute_result"
    }
   ],
   "source": [
    "# 데이터 확인\n",
    "\n",
    "rows[0]"
   ]
  },
  {
   "cell_type": "markdown",
   "metadata": {},
   "source": [
    "## DB에 데이터 넣기\n",
    "\n",
    "Identifier로 쓰이는 `id`를 제외한 나머지 값을 `INSERT`해야 합니다.\n",
    "\n",
    "`INSERT INTO [테이블 이름] ([필드 목록]) VALUES ([값 목록])`\n",
    "\n",
    "필드 목록을 만들기 위해 우리는 `join`을 사용할 겁니다.\n",
    "\n",
    "- [str.join](https://github.com/ahastudio/til/blob/master/python/str-join.md)\n",
    "- [SQLite Python: Inserting Data](https://www.sqlitetutorial.net/sqlite-python/insert/)"
   ]
  },
  {
   "cell_type": "code",
   "execution_count": 18,
   "metadata": {},
   "outputs": [
    {
     "data": {
      "text/plain": [
       "'age, colorCd, happenDt, kindCd, orgNm, sexCd, weight'"
      ]
     },
     "execution_count": 18,
     "metadata": {},
     "output_type": "execute_result"
    }
   ],
   "source": [
    "# 데이터의 키를 모아서 쉼표로 이어줍니다.\n",
    "\n",
    "', '.join(rows[0].keys())"
   ]
  },
  {
   "cell_type": "code",
   "execution_count": 19,
   "metadata": {},
   "outputs": [
    {
     "name": "stdout",
     "output_type": "stream",
     "text": [
      "INSERT INTO animals (age, colorCd, happenDt, kindCd, orgNm, sexCd, weight) VALUES (?, ?, ?, ?, ?, ?, ?)\n"
     ]
    }
   ],
   "source": [
    "# 필드 목록에 fields란 이름을 붙입니다.\n",
    "\n",
    "fields = ', '.join(rows[0].keys()) # 엄청 많이 쓰이는 패턴 (기억하기)\n",
    "\n",
    "# f-string을 사용하면 중괄호({}) 안에 변수 등을 넣어서 아주 간단히 SQL을 만들 수 있습니다.\n",
    "\n",
    "sql = f'INSERT INTO animals ({fields}) VALUES (?, ?, ?, ?, ?, ?, ?)' #해당 하는 값들을 넣어줄 거라고 폼을 잡아줌 \n",
    "\n",
    "print(sql)"
   ]
  },
  {
   "cell_type": "code",
   "execution_count": 20,
   "metadata": {},
   "outputs": [],
   "source": [
    "# 테이블에 데이터 넣기\n",
    "\n",
    "for row in rows:\n",
    "    fields = ', '.join(row.keys())\n",
    "    sql = f'INSERT INTO animals ({fields}) VALUES (?, ?, ?, ?, ?, ?, ?)'\n",
    "    cursor.execute(sql, list(row.values()))\n",
    "\n",
    "connection.commit() # 커밋으로 저장해주기 "
   ]
  },
  {
   "cell_type": "markdown",
   "metadata": {},
   "source": [
    "## DB에 데이터가 잘 들어갔는지 간단히 확인"
   ]
  },
  {
   "cell_type": "code",
   "execution_count": 21,
   "metadata": {
    "scrolled": false
   },
   "outputs": [],
   "source": [
    "# 테이블에서 데이터 얻기\n",
    "# 중복값을 얻으면 안되니까..!!! 한번만 하고 # 처리 하장\n",
    "# 근데 중복값이 생겼을 때? ! rm 파일명.db 하고 다시 저장하는 방법 ㅎ_ㅎ \n",
    "\n",
    "cursor.execute('SELECT * FROM animals')\n",
    "\n",
    "rows = cursor.fetchall()"
   ]
  },
  {
   "cell_type": "code",
   "execution_count": 22,
   "metadata": {},
   "outputs": [
    {
     "name": "stdout",
     "output_type": "stream",
     "text": [
      "30629\n"
     ]
    }
   ],
   "source": [
    "# 전부 출력하면 무서울테니 갯수만 확인합니다.\n",
    "\n",
    "print(len(rows))\n"
   ]
  },
  {
   "cell_type": "code",
   "execution_count": 23,
   "metadata": {},
   "outputs": [
    {
     "name": "stdout",
     "output_type": "stream",
     "text": [
      "(1, '2016(년생)', '흰갈', '20191014', '[개] 믹스견', '경상남도 의령군', 'F', '5(Kg)')\n"
     ]
    }
   ],
   "source": [
    "# 데이터 하나만 확인합니다.\n",
    "\n",
    "print(rows[0])"
   ]
  },
  {
   "cell_type": "code",
   "execution_count": 24,
   "metadata": {},
   "outputs": [
    {
     "name": "stdout",
     "output_type": "stream",
     "text": [
      "(101, '2014(년생)', '흰색', '20191013', '[개] 믹스견', '전라남도 곡성군', 'M', '20(Kg)')\n"
     ]
    }
   ],
   "source": [
    "print(rows[100])"
   ]
  },
  {
   "cell_type": "markdown",
   "metadata": {},
   "source": [
    "## DB 사용 종료\n",
    "\n",
    "DB를 사용 후엔 `close`를 하는 게 좋습니다."
   ]
  },
  {
   "cell_type": "code",
   "execution_count": 25,
   "metadata": {},
   "outputs": [],
   "source": [
    "connection.close() # 클로즈 한 이유에는 실행이 안됌 "
   ]
  },
  {
   "cell_type": "code",
   "execution_count": null,
   "metadata": {},
   "outputs": [],
   "source": []
  }
 ],
 "metadata": {
  "kernelspec": {
   "display_name": "Python 3",
   "language": "python",
   "name": "python3"
  },
  "language_info": {
   "codemirror_mode": {
    "name": "ipython",
    "version": 3
   },
   "file_extension": ".py",
   "mimetype": "text/x-python",
   "name": "python",
   "nbconvert_exporter": "python",
   "pygments_lexer": "ipython3",
   "version": "3.7.4"
  }
 },
 "nbformat": 4,
 "nbformat_minor": 2
}
