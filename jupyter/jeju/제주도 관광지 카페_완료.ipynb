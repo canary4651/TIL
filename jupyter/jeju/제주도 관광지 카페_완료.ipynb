{
 "cells": [
  {
   "cell_type": "code",
   "execution_count": 1,
   "metadata": {},
   "outputs": [],
   "source": [
    "import pandas as pd\n",
    "tour_place_df = pd.read_csv('tour_place.csv')\n",
    "cafe_df = pd.read_csv('cafe_final.csv')"
   ]
  },
  {
   "cell_type": "code",
   "execution_count": 2,
   "metadata": {},
   "outputs": [
    {
     "data": {
      "text/plain": [
       "<bound method NDFrame.head of       Unnamed: 0            name                     address   latitude  \\\n",
       "0              0  (주)제주해양레저 투명카약  제주특별자치도 제주시 애월읍 애월리 2490-1  33.462353   \n",
       "1              1     1100고지(휴게소)      제주특별자치도 서귀포시 색달동 산 1-3  33.339912   \n",
       "2              2        1100고지습지      제주특별자치도 서귀포시 색달동 산 1-2  33.357500   \n",
       "3              3          1112도로      제주특별자치도 제주시 봉개동 산 78-1  33.439373   \n",
       "4              4        4·3해원방사탑     제주특별자치도 제주시 일도2동 837-20  33.505470   \n",
       "...          ...             ...                         ...        ...   \n",
       "1098        1098             효명사   제주특별자치도 서귀포시 남원읍 하례리 산 45  33.342037   \n",
       "1099        1099            후포해변     제주특별자치도 제주시 추자면 대서리 267  33.962368   \n",
       "1100        1100              휴림  제주특별자치도 제주시 애월읍 광령리 2873-6  33.370172   \n",
       "1101        1101      휴애리 자연생활공원   제주특별자치도 서귀포시 남원읍 신례리 2081  33.308540   \n",
       "1102        1102      힐링카약파크비체올린           제주시 한경면 판포리 725번지  33.359010   \n",
       "\n",
       "       longitude  \n",
       "0     126.310490  \n",
       "1     126.436820  \n",
       "2     126.462920  \n",
       "3     126.628450  \n",
       "4     126.534510  \n",
       "...          ...  \n",
       "1098  126.588421  \n",
       "1099  126.289403  \n",
       "1100  126.481970  \n",
       "1101  126.634480  \n",
       "1102  126.211840  \n",
       "\n",
       "[1103 rows x 5 columns]>"
      ]
     },
     "execution_count": 2,
     "metadata": {},
     "output_type": "execute_result"
    }
   ],
   "source": [
    "tour_place_df.head"
   ]
  },
  {
   "cell_type": "code",
   "execution_count": 3,
   "metadata": {},
   "outputs": [
    {
     "data": {
      "text/html": [
       "<div>\n",
       "<style scoped>\n",
       "    .dataframe tbody tr th:only-of-type {\n",
       "        vertical-align: middle;\n",
       "    }\n",
       "\n",
       "    .dataframe tbody tr th {\n",
       "        vertical-align: top;\n",
       "    }\n",
       "\n",
       "    .dataframe thead th {\n",
       "        text-align: right;\n",
       "    }\n",
       "</style>\n",
       "<table border=\"1\" class=\"dataframe\">\n",
       "  <thead>\n",
       "    <tr style=\"text-align: right;\">\n",
       "      <th></th>\n",
       "      <th>Unnamed: 0</th>\n",
       "      <th>final_address</th>\n",
       "      <th>addrbunho</th>\n",
       "      <th>address</th>\n",
       "      <th>cafe</th>\n",
       "      <th>cafe_id</th>\n",
       "      <th>image_url</th>\n",
       "      <th>franchise</th>\n",
       "      <th>si</th>\n",
       "      <th>town</th>\n",
       "      <th>ri</th>\n",
       "      <th>lat</th>\n",
       "      <th>lng</th>\n",
       "    </tr>\n",
       "  </thead>\n",
       "  <tbody>\n",
       "    <tr>\n",
       "      <th>0</th>\n",
       "      <td>0</td>\n",
       "      <td>제주특별자치도 서귀포시 서귀동 294-24</td>\n",
       "      <td>294-24</td>\n",
       "      <td>제주특별자치도 서귀포시 서귀동</td>\n",
       "      <td>여정다방</td>\n",
       "      <td>11877497</td>\n",
       "      <td>NaN</td>\n",
       "      <td>0.0</td>\n",
       "      <td>서귀포시</td>\n",
       "      <td>서귀포시</td>\n",
       "      <td>서귀동</td>\n",
       "      <td>33.248312</td>\n",
       "      <td>126.561575</td>\n",
       "    </tr>\n",
       "    <tr>\n",
       "      <th>1</th>\n",
       "      <td>1</td>\n",
       "      <td>제주특별자치도 제주시 외도일동 475-8</td>\n",
       "      <td>475-8</td>\n",
       "      <td>제주특별자치도 제주시 외도일동</td>\n",
       "      <td>아장아장 베이비카페</td>\n",
       "      <td>1263620627</td>\n",
       "      <td>http://t1.daumcdn.net/place/83909D95B967478D80...</td>\n",
       "      <td>0.0</td>\n",
       "      <td>제주시</td>\n",
       "      <td>제주시</td>\n",
       "      <td>외도일동</td>\n",
       "      <td>33.489895</td>\n",
       "      <td>126.430688</td>\n",
       "    </tr>\n",
       "    <tr>\n",
       "      <th>2</th>\n",
       "      <td>2</td>\n",
       "      <td>제주특별자치도 서귀포시 대정읍 보성리 175-6</td>\n",
       "      <td>175-6</td>\n",
       "      <td>제주특별자치도 서귀포시 대정읍 보성리</td>\n",
       "      <td>소소희</td>\n",
       "      <td>368243275</td>\n",
       "      <td>http://t1.daumcdn.net/place/8395E365EA5B4F04BB...</td>\n",
       "      <td>0.0</td>\n",
       "      <td>서귀포시</td>\n",
       "      <td>대정읍</td>\n",
       "      <td>보성리</td>\n",
       "      <td>33.274976</td>\n",
       "      <td>126.278127</td>\n",
       "    </tr>\n",
       "    <tr>\n",
       "      <th>3</th>\n",
       "      <td>3</td>\n",
       "      <td>제주특별자치도 제주시 건입동 1325</td>\n",
       "      <td>1325</td>\n",
       "      <td>제주특별자치도 제주시 건입동</td>\n",
       "      <td>항구다방</td>\n",
       "      <td>1571310600</td>\n",
       "      <td>NaN</td>\n",
       "      <td>0.0</td>\n",
       "      <td>제주시</td>\n",
       "      <td>제주시</td>\n",
       "      <td>건입동</td>\n",
       "      <td>33.516313</td>\n",
       "      <td>126.528937</td>\n",
       "    </tr>\n",
       "    <tr>\n",
       "      <th>4</th>\n",
       "      <td>4</td>\n",
       "      <td>제주특별자치도 서귀포시 성산읍 삼달리 437-5</td>\n",
       "      <td>437-5</td>\n",
       "      <td>제주특별자치도 서귀포시 성산읍 삼달리</td>\n",
       "      <td>두모악무인찻집</td>\n",
       "      <td>13571332</td>\n",
       "      <td>http://t1.daumcdn.net/place/2535E720C72A4A5B9D...</td>\n",
       "      <td>0.0</td>\n",
       "      <td>서귀포시</td>\n",
       "      <td>성산읍</td>\n",
       "      <td>삼달리</td>\n",
       "      <td>33.371935</td>\n",
       "      <td>126.854377</td>\n",
       "    </tr>\n",
       "  </tbody>\n",
       "</table>\n",
       "</div>"
      ],
      "text/plain": [
       "   Unnamed: 0               final_address addrbunho               address  \\\n",
       "0           0     제주특별자치도 서귀포시 서귀동 294-24    294-24      제주특별자치도 서귀포시 서귀동   \n",
       "1           1      제주특별자치도 제주시 외도일동 475-8     475-8      제주특별자치도 제주시 외도일동   \n",
       "2           2  제주특별자치도 서귀포시 대정읍 보성리 175-6     175-6  제주특별자치도 서귀포시 대정읍 보성리   \n",
       "3           3        제주특별자치도 제주시 건입동 1325      1325       제주특별자치도 제주시 건입동   \n",
       "4           4  제주특별자치도 서귀포시 성산읍 삼달리 437-5     437-5  제주특별자치도 서귀포시 성산읍 삼달리   \n",
       "\n",
       "         cafe     cafe_id                                          image_url  \\\n",
       "0        여정다방    11877497                                                NaN   \n",
       "1  아장아장 베이비카페  1263620627  http://t1.daumcdn.net/place/83909D95B967478D80...   \n",
       "2         소소희   368243275  http://t1.daumcdn.net/place/8395E365EA5B4F04BB...   \n",
       "3        항구다방  1571310600                                                NaN   \n",
       "4     두모악무인찻집    13571332  http://t1.daumcdn.net/place/2535E720C72A4A5B9D...   \n",
       "\n",
       "   franchise    si  town    ri        lat         lng  \n",
       "0        0.0  서귀포시  서귀포시   서귀동  33.248312  126.561575  \n",
       "1        0.0   제주시   제주시  외도일동  33.489895  126.430688  \n",
       "2        0.0  서귀포시   대정읍   보성리  33.274976  126.278127  \n",
       "3        0.0   제주시   제주시   건입동  33.516313  126.528937  \n",
       "4        0.0  서귀포시   성산읍   삼달리  33.371935  126.854377  "
      ]
     },
     "execution_count": 3,
     "metadata": {},
     "output_type": "execute_result"
    }
   ],
   "source": [
    "cafe_df.head()"
   ]
  },
  {
   "cell_type": "code",
   "execution_count": 4,
   "metadata": {},
   "outputs": [],
   "source": [
    "import geopy.distance"
   ]
  },
  {
   "cell_type": "code",
   "execution_count": 5,
   "metadata": {},
   "outputs": [
    {
     "name": "stderr",
     "output_type": "stream",
     "text": [
      "/usr/local/lib/python3.7/site-packages/ipykernel_launcher.py:4: DeprecationWarning: Vincenty is deprecated and is going to be removed in geopy 2.0. Use `geopy.distance.geodesic` (or the default `geopy.distance.distance`) instead, which is more accurate and always converges.\n",
      "  after removing the cwd from sys.path.\n"
     ]
    },
    {
     "data": {
      "text/plain": [
       "33312.562679878065"
      ]
     },
     "execution_count": 5,
     "metadata": {},
     "output_type": "execute_result"
    }
   ],
   "source": [
    "def distance_cafe_place(place, cafe):\n",
    "    place_pos = place[['latitude', 'longitude']].values\n",
    "    cafe_pos = cafe[['lat', 'lng']].values\n",
    "    return geopy.distance.vincenty(place_pos, cafe_pos).m\n",
    "\n",
    "distance_cafe_place(tour_place_df.iloc[0], cafe_df.iloc[0])"
   ]
  },
  {
   "cell_type": "code",
   "execution_count": 6,
   "metadata": {},
   "outputs": [
    {
     "data": {
      "text/plain": [
       "(1102, 5)"
      ]
     },
     "execution_count": 6,
     "metadata": {},
     "output_type": "execute_result"
    }
   ],
   "source": [
    "place_df = tour_place_df[~tour_place_df.latitude.isna()]\n",
    "place_df.shape"
   ]
  },
  {
   "cell_type": "code",
   "execution_count": 7,
   "metadata": {},
   "outputs": [
    {
     "data": {
      "text/plain": [
       "((3405, 13), (3379, 13))"
      ]
     },
     "execution_count": 7,
     "metadata": {},
     "output_type": "execute_result"
    }
   ],
   "source": [
    "existed_cafe_df = cafe_df[~cafe_df['lat'].isna()]\n",
    "cafe_df.shape, existed_cafe_df.shape"
   ]
  },
  {
   "cell_type": "code",
   "execution_count": 8,
   "metadata": {},
   "outputs": [
    {
     "name": "stderr",
     "output_type": "stream",
     "text": [
      "/usr/local/lib/python3.7/site-packages/ipykernel_launcher.py:4: DeprecationWarning: Vincenty is deprecated and is going to be removed in geopy 2.0. Use `geopy.distance.geodesic` (or the default `geopy.distance.distance`) instead, which is more accurate and always converges.\n",
      "  after removing the cwd from sys.path.\n"
     ]
    },
    {
     "data": {
      "text/plain": [
       "33312.562679878065"
      ]
     },
     "execution_count": 8,
     "metadata": {},
     "output_type": "execute_result"
    }
   ],
   "source": [
    "distance_cafe_place(place_df.iloc[0], existed_cafe_df.iloc[0])"
   ]
  },
  {
   "cell_type": "code",
   "execution_count": 9,
   "metadata": {},
   "outputs": [
    {
     "name": "stderr",
     "output_type": "stream",
     "text": [
      "/usr/local/lib/python3.7/site-packages/ipykernel_launcher.py:4: DeprecationWarning: Vincenty is deprecated and is going to be removed in geopy 2.0. Use `geopy.distance.geodesic` (or the default `geopy.distance.distance`) instead, which is more accurate and always converges.\n",
      "  after removing the cwd from sys.path.\n"
     ]
    },
    {
     "data": {
      "text/html": [
       "<div>\n",
       "<style scoped>\n",
       "    .dataframe tbody tr th:only-of-type {\n",
       "        vertical-align: middle;\n",
       "    }\n",
       "\n",
       "    .dataframe tbody tr th {\n",
       "        vertical-align: top;\n",
       "    }\n",
       "\n",
       "    .dataframe thead th {\n",
       "        text-align: right;\n",
       "    }\n",
       "</style>\n",
       "<table border=\"1\" class=\"dataframe\">\n",
       "  <thead>\n",
       "    <tr style=\"text-align: right;\">\n",
       "      <th></th>\n",
       "      <th>Unnamed: 0</th>\n",
       "      <th>final_address</th>\n",
       "      <th>addrbunho</th>\n",
       "      <th>address</th>\n",
       "      <th>cafe</th>\n",
       "      <th>cafe_id</th>\n",
       "      <th>image_url</th>\n",
       "      <th>franchise</th>\n",
       "      <th>si</th>\n",
       "      <th>town</th>\n",
       "      <th>ri</th>\n",
       "      <th>lat</th>\n",
       "      <th>lng</th>\n",
       "      <th>distance</th>\n",
       "    </tr>\n",
       "  </thead>\n",
       "  <tbody>\n",
       "    <tr>\n",
       "      <th>0</th>\n",
       "      <td>0</td>\n",
       "      <td>제주특별자치도 서귀포시 서귀동 294-24</td>\n",
       "      <td>294-24</td>\n",
       "      <td>제주특별자치도 서귀포시 서귀동</td>\n",
       "      <td>여정다방</td>\n",
       "      <td>11877497</td>\n",
       "      <td>NaN</td>\n",
       "      <td>0.0</td>\n",
       "      <td>서귀포시</td>\n",
       "      <td>서귀포시</td>\n",
       "      <td>서귀동</td>\n",
       "      <td>33.248312</td>\n",
       "      <td>126.561575</td>\n",
       "      <td>33312.56268</td>\n",
       "    </tr>\n",
       "  </tbody>\n",
       "</table>\n",
       "</div>"
      ],
      "text/plain": [
       "   Unnamed: 0            final_address addrbunho           address  cafe  \\\n",
       "0           0  제주특별자치도 서귀포시 서귀동 294-24    294-24  제주특별자치도 서귀포시 서귀동  여정다방   \n",
       "\n",
       "    cafe_id image_url  franchise    si  town   ri        lat         lng  \\\n",
       "0  11877497       NaN        0.0  서귀포시  서귀포시  서귀동  33.248312  126.561575   \n",
       "\n",
       "      distance  \n",
       "0  33312.56268  "
      ]
     },
     "execution_count": 9,
     "metadata": {},
     "output_type": "execute_result"
    }
   ],
   "source": [
    "def distance_cafe_places(place, existed_cafe_df):\n",
    "    return [distance_cafe_place(place, existed_cafe_df.iloc[i]) for i in range(existed_cafe_df.shape[0])]\n",
    "place  = place_df.iloc[0]\n",
    "distanced_cafe = existed_cafe_df.assign(distance=distance_cafe_places(place, existed_cafe_df))\n",
    "distanced_cafe.head(1)"
   ]
  },
  {
   "cell_type": "code",
   "execution_count": 89,
   "metadata": {},
   "outputs": [
    {
     "data": {
      "text/plain": [
       "(1102, 5)"
      ]
     },
     "execution_count": 89,
     "metadata": {},
     "output_type": "execute_result"
    }
   ],
   "source": [
    "# 여기서 각자 맡은 것만\n",
    "# place_df[0:181]\n",
    "# place_df[180:361]\n",
    "# place_df[360:541]\n",
    "# place_df[540:721]\n",
    "# place_df[720:900]\n",
    "# place_df[901:1106]"
   ]
  },
  {
   "cell_type": "code",
   "execution_count": 90,
   "metadata": {},
   "outputs": [
    {
     "data": {
      "text/html": [
       "<div>\n",
       "<style scoped>\n",
       "    .dataframe tbody tr th:only-of-type {\n",
       "        vertical-align: middle;\n",
       "    }\n",
       "\n",
       "    .dataframe tbody tr th {\n",
       "        vertical-align: top;\n",
       "    }\n",
       "\n",
       "    .dataframe thead th {\n",
       "        text-align: right;\n",
       "    }\n",
       "</style>\n",
       "<table border=\"1\" class=\"dataframe\">\n",
       "  <thead>\n",
       "    <tr style=\"text-align: right;\">\n",
       "      <th></th>\n",
       "      <th>Unnamed: 0</th>\n",
       "      <th>name</th>\n",
       "      <th>address</th>\n",
       "      <th>latitude</th>\n",
       "      <th>longitude</th>\n",
       "    </tr>\n",
       "  </thead>\n",
       "  <tbody>\n",
       "    <tr>\n",
       "      <td>0</td>\n",
       "      <td>0</td>\n",
       "      <td>(주)제주해양레저 투명카약</td>\n",
       "      <td>제주특별자치도 제주시 애월읍 애월리 2490-1</td>\n",
       "      <td>33.462353</td>\n",
       "      <td>126.31049</td>\n",
       "    </tr>\n",
       "    <tr>\n",
       "      <td>1</td>\n",
       "      <td>1</td>\n",
       "      <td>1100고지(휴게소)</td>\n",
       "      <td>제주특별자치도 서귀포시 색달동 산 1-3</td>\n",
       "      <td>33.339912</td>\n",
       "      <td>126.43682</td>\n",
       "    </tr>\n",
       "    <tr>\n",
       "      <td>2</td>\n",
       "      <td>2</td>\n",
       "      <td>1100고지습지</td>\n",
       "      <td>제주특별자치도 서귀포시 색달동 산 1-2</td>\n",
       "      <td>33.357500</td>\n",
       "      <td>126.46292</td>\n",
       "    </tr>\n",
       "    <tr>\n",
       "      <td>3</td>\n",
       "      <td>3</td>\n",
       "      <td>1112도로</td>\n",
       "      <td>제주특별자치도 제주시 봉개동 산 78-1</td>\n",
       "      <td>33.439373</td>\n",
       "      <td>126.62845</td>\n",
       "    </tr>\n",
       "    <tr>\n",
       "      <td>4</td>\n",
       "      <td>4</td>\n",
       "      <td>4·3해원방사탑</td>\n",
       "      <td>제주특별자치도 제주시 일도2동 837-20</td>\n",
       "      <td>33.505470</td>\n",
       "      <td>126.53451</td>\n",
       "    </tr>\n",
       "  </tbody>\n",
       "</table>\n",
       "</div>"
      ],
      "text/plain": [
       "   Unnamed: 0            name                     address   latitude  \\\n",
       "0           0  (주)제주해양레저 투명카약  제주특별자치도 제주시 애월읍 애월리 2490-1  33.462353   \n",
       "1           1     1100고지(휴게소)      제주특별자치도 서귀포시 색달동 산 1-3  33.339912   \n",
       "2           2        1100고지습지      제주특별자치도 서귀포시 색달동 산 1-2  33.357500   \n",
       "3           3          1112도로      제주특별자치도 제주시 봉개동 산 78-1  33.439373   \n",
       "4           4        4·3해원방사탑     제주특별자치도 제주시 일도2동 837-20  33.505470   \n",
       "\n",
       "   longitude  \n",
       "0  126.31049  \n",
       "1  126.43682  \n",
       "2  126.46292  \n",
       "3  126.62845  \n",
       "4  126.53451  "
      ]
     },
     "execution_count": 90,
     "metadata": {},
     "output_type": "execute_result"
    }
   ],
   "source": [
    "place_df.head()"
   ]
  },
  {
   "cell_type": "code",
   "execution_count": 11,
   "metadata": {},
   "outputs": [
    {
     "name": "stdout",
     "output_type": "stream",
     "text": [
      "181 대정향교\n"
     ]
    },
    {
     "name": "stderr",
     "output_type": "stream",
     "text": [
      "/usr/local/lib/python3.7/site-packages/ipykernel_launcher.py:4: DeprecationWarning: Vincenty is deprecated and is going to be removed in geopy 2.0. Use `geopy.distance.geodesic` (or the default `geopy.distance.distance`) instead, which is more accurate and always converges.\n",
      "  after removing the cwd from sys.path.\n"
     ]
    },
    {
     "name": "stdout",
     "output_type": "stream",
     "text": [
      "182 대정현역사자료전시관\n",
      "183 대천이오름\n",
      "184 대평포구\n",
      "185 대포포구\n",
      "186 대한민국최남단기념비/ 마라도 기념비\n",
      "187 더 플래닛 (THE PLANET)\n",
      "188 더데오름(가가악)\n",
      "189 더럭초등학교(구, 더럭분교)\n",
      "190 더마카트\n",
      "191 더마파크\n",
      "192 덕천리 팔자 좋아 길\n",
      "193 도너리오름(돌오름,돝내린오름,골체오름)\n",
      "194 도두동 무지개 해안도로\n",
      "195 도두봉\n",
      "196 도두항\n",
      "197 도두해안도로\n",
      "198 도령모루\n",
      "199 도리미오름\n",
      "200 도순다원\n",
      "201 독자봉\n",
      "202 돈내코\n",
      "203 돈내코유원지\n",
      "204 돈대산\n",
      "205 돈대산산림휴양산책로\n",
      "206 돈두미오름(돈도름,돈대미)\n",
      "207 돌고래하우스(캠핑장)\n",
      "208 돌미오름\n",
      "209 돔박이오름 (동박악)\n",
      "210 돔배오름\n",
      "211 돔베낭골\n",
      "212 돔베낭길\n",
      "213 동거문이오름\n",
      "214 동검은이오름(거미오름)\n",
      "215 동계 정온 유허비\n",
      "216 동굴의 다원 다희연\n",
      "217 동귀방파제\n",
      "218 동백동산\n",
      "219 동백마을\n",
      "220 동백포레스트\n",
      "221 동복환해장성\n",
      "222 동산농원 딸기체험장\n",
      "223 동알오름\n",
      "224 동일리포구\n",
      "225 돛오름\n",
      "226 돝오름(돗오름)\n",
      "227 두맹이골목\n",
      "228 두산봉(말미오름)\n",
      "229 둔지봉\n",
      "230 뒤굽은이 (뒤꾸부니, 뒤곱은이)\n",
      "231 뒤굽은이오름\n",
      "232 드라마월드\n",
      "233 들렁모루 산책길\n",
      "234 들레오름 (月坪峰, 月來岳, 月下岳)\n",
      "235 들리오름 (들위오름)\n",
      "236 등머을레져\n",
      "237 디스커버제주\n",
      "238 따라비오름\n",
      "239 라신동\n",
      "240 라온골프클럽\n",
      "241 라온승마클럽\n",
      "242 라이트 아트 페스타\n",
      "243 레더한\n",
      "244 렛츠런파크\n",
      "245 렛츠런팜 양귀비꽃\n",
      "246 렛츠런팜제주\n",
      "247 로로 요가\n",
      "248 로봇스퀘어\n",
      "249 마라도(마라해양도립공원)\n",
      "250 마라도관광쉼터\n",
      "251 마라도기원정사\n",
      "252 마라도등대\n",
      "253 마라도성당\n",
      "254 마라도잠수함\n",
      "255 마린파크\n",
      "256 마방목지\n",
      "257 마복이오름\n",
      "258 마오름(한경)\n",
      "259 막숙\n",
      "260 만벵듸 공동장지\n",
      "261 만장굴\n",
      "262 말찻\n",
      "263 맛있는 철학자(태반의땅제주)\n",
      "264 망장포\n",
      "265 매오름\n",
      "266 맬튼개 갯담\n",
      "267 머체오름 (마체오름)\n",
      "268 머체왓숲길 영농조합법인\n",
      "269 메이즈랜드\n",
      "270 명월성지\n",
      "271 명월팽나무군락\n",
      "272 모구리 야영장\n",
      "273 모구리오름\n",
      "274 모라이\n",
      "275 모슬봉 (모슬개오름)\n",
      "276 모슬포항\n",
      "277 모지오름\n",
      "278 모진이몽돌해변\n",
      "279 목시물굴\n",
      "280 묘산봉 (괴살메)\n",
      "281 무등이왓터\n",
      "282 무릉곶자왈\n",
      "283 무릉도원마을\n",
      "284 무수천\n",
      "285 무악(개오름,킄오름,무오름)\n",
      "286 묵리마을\n",
      "287 묵리처녀당\n",
      "288 묵리해안쉼터\n",
      "289 묵리해안포구\n",
      "290 문도지오름 (문돗지)\n",
      "291 문서프\n",
      "292 문석이오름\n",
      "293 문섬(서귀포해양도립공원)\n",
      "294 문화공간 양\n",
      "295 문화빳데리 충전소\n",
      "296 문화예술마을 저지리 농어촌체험마을\n",
      "297 물메 (물미, 수산봉)\n",
      "298 물영아리오름\n",
      "299 물찻오름\n",
      "300 미악산 (턥오름, 쌀오름, 솔오름)\n",
      "301 미요캔들\n",
      "302 미천굴\n",
      "303 민속자연사박물관\n",
      "304 민속해안로\n",
      "305 민오름(구좌읍)\n",
      "306 민오름(봉개동)\n",
      "307 민오름(오라동)\n",
      "308 민오름(조천읍)\n",
      "309 믿거나말거나박물관 제주\n",
      "310 바구스서핑스쿨\n",
      "311 바늘오름\n",
      "312 바당미술관\n",
      "313 바람모루\n",
      "314 바이나흐튼 크리스마스 박물관\n",
      "315 박물관은 살아있다\n",
      "316 박성내\n",
      "317 박수기정\n",
      "318 발이오름\n",
      "319 발자국화석공원\n",
      "320 밝은오름\n",
      "321 밝은오름 (명월오름)\n",
      "322 밝은오름 (벌근오름)\n",
      "323 밧돌오름\n",
      "324 밧세미 (밭생이)\n",
      "325 방림원\n",
      "326 방선문\n",
      "327 방일리공원\n",
      "328 방일봉 (방일이동산)\n",
      "329 방주교회\n",
      "330 방주오름 (방지오름, 방제오름)\n",
      "331 배령연대\n",
      "332 백년초농장박물관\n",
      "333 백록담\n",
      "334 백약이오름\n",
      "335 백제사\n",
      "336 백제사 템플스테이\n",
      "337 백조일손지묘(백조일손지지)\n",
      "338 밸런싱 요가\n",
      "339 번개과학체험관\n",
      "340 번개레이싱\n",
      "341 번널오름 (벌판악)\n",
      "342 범섬\n",
      "343 법정사\n",
      "344 법정악(법정이)\n",
      "345 법화사\n",
      "346 법화사지\n",
      "347 법환포구\n",
      "348 베릿네오름\n",
      "349 벨리타(제주베이스캠프)\n",
      "350 별내린전망대\n",
      "351 별도봉\n",
      "352 별도연대\n",
      "353 별도포구\n",
      "354 별방진\n",
      "355 병곳오름 (벵곳오름, 안좌오름)\n",
      "356 병악현무암지대\n",
      "357 보롬왓\n",
      "358 보롬이 오름\n",
      "359 보롬이(하논, 화구구)\n",
      "360 보목포구\n"
     ]
    }
   ],
   "source": [
    "recommended_places = []\n",
    "\n",
    "for i in range(181,361): #1) 수정 필요 - 각자 맡은 범위로 \n",
    "    place = place_df.iloc[i]\n",
    "    print(i, place['name'])\n",
    "    distanced_place_df = existed_cafe_df.assign(distance=distance_cafe_places(place, existed_cafe_df))\n",
    "    places = distanced_place_df.sort_values(by=['distance'])[['cafe', 'distance']][:30].values\n",
    "    recommended_places.append(places)\n",
    "\n",
    "cafe_with_place = place_df[181:361].assign(places=recommended_places) #2) 수정 필요 - 각자 맡은 범위로 \n",
    "cafe_with_place.to_csv('cafe_with_place1.csv')"
   ]
  },
  {
   "cell_type": "markdown",
   "metadata": {},
   "source": [
    "# 여기까지 입니다♥"
   ]
  },
  {
   "cell_type": "code",
   "execution_count": 94,
   "metadata": {
    "scrolled": true
   },
   "outputs": [
    {
     "ename": "ValueError",
     "evalue": "Length of values does not match length of index",
     "output_type": "error",
     "traceback": [
      "\u001b[1;31m---------------------------------------------------------------------------\u001b[0m",
      "\u001b[1;31mValueError\u001b[0m                                Traceback (most recent call last)",
      "\u001b[1;32m<ipython-input-94-80cafef1c38d>\u001b[0m in \u001b[0;36m<module>\u001b[1;34m\u001b[0m\n\u001b[0;32m      9\u001b[0m         \u001b[0mrecommended_distance2\u001b[0m\u001b[1;33m.\u001b[0m\u001b[0mappend\u001b[0m\u001b[1;33m(\u001b[0m\u001b[0mdistance\u001b[0m\u001b[1;33m)\u001b[0m\u001b[1;33m\u001b[0m\u001b[1;33m\u001b[0m\u001b[0m\n\u001b[0;32m     10\u001b[0m \u001b[1;33m\u001b[0m\u001b[0m\n\u001b[1;32m---> 11\u001b[1;33m \u001b[0mcafe_with_place_df\u001b[0m\u001b[1;33m[\u001b[0m\u001b[1;34m'name'\u001b[0m\u001b[1;33m]\u001b[0m \u001b[1;33m=\u001b[0m \u001b[0mlist\u001b[0m\u001b[1;33m(\u001b[0m\u001b[0mrecommended_place2\u001b[0m\u001b[1;33m)\u001b[0m\u001b[1;33m\u001b[0m\u001b[1;33m\u001b[0m\u001b[0m\n\u001b[0m",
      "\u001b[1;32m~\\Anaconda3\\lib\\site-packages\\pandas\\core\\frame.py\u001b[0m in \u001b[0;36m__setitem__\u001b[1;34m(self, key, value)\u001b[0m\n\u001b[0;32m   3470\u001b[0m         \u001b[1;32melse\u001b[0m\u001b[1;33m:\u001b[0m\u001b[1;33m\u001b[0m\u001b[1;33m\u001b[0m\u001b[0m\n\u001b[0;32m   3471\u001b[0m             \u001b[1;31m# set column\u001b[0m\u001b[1;33m\u001b[0m\u001b[1;33m\u001b[0m\u001b[1;33m\u001b[0m\u001b[0m\n\u001b[1;32m-> 3472\u001b[1;33m             \u001b[0mself\u001b[0m\u001b[1;33m.\u001b[0m\u001b[0m_set_item\u001b[0m\u001b[1;33m(\u001b[0m\u001b[0mkey\u001b[0m\u001b[1;33m,\u001b[0m \u001b[0mvalue\u001b[0m\u001b[1;33m)\u001b[0m\u001b[1;33m\u001b[0m\u001b[1;33m\u001b[0m\u001b[0m\n\u001b[0m\u001b[0;32m   3473\u001b[0m \u001b[1;33m\u001b[0m\u001b[0m\n\u001b[0;32m   3474\u001b[0m     \u001b[1;32mdef\u001b[0m \u001b[0m_setitem_slice\u001b[0m\u001b[1;33m(\u001b[0m\u001b[0mself\u001b[0m\u001b[1;33m,\u001b[0m \u001b[0mkey\u001b[0m\u001b[1;33m,\u001b[0m \u001b[0mvalue\u001b[0m\u001b[1;33m)\u001b[0m\u001b[1;33m:\u001b[0m\u001b[1;33m\u001b[0m\u001b[1;33m\u001b[0m\u001b[0m\n",
      "\u001b[1;32m~\\Anaconda3\\lib\\site-packages\\pandas\\core\\frame.py\u001b[0m in \u001b[0;36m_set_item\u001b[1;34m(self, key, value)\u001b[0m\n\u001b[0;32m   3547\u001b[0m \u001b[1;33m\u001b[0m\u001b[0m\n\u001b[0;32m   3548\u001b[0m         \u001b[0mself\u001b[0m\u001b[1;33m.\u001b[0m\u001b[0m_ensure_valid_index\u001b[0m\u001b[1;33m(\u001b[0m\u001b[0mvalue\u001b[0m\u001b[1;33m)\u001b[0m\u001b[1;33m\u001b[0m\u001b[1;33m\u001b[0m\u001b[0m\n\u001b[1;32m-> 3549\u001b[1;33m         \u001b[0mvalue\u001b[0m \u001b[1;33m=\u001b[0m \u001b[0mself\u001b[0m\u001b[1;33m.\u001b[0m\u001b[0m_sanitize_column\u001b[0m\u001b[1;33m(\u001b[0m\u001b[0mkey\u001b[0m\u001b[1;33m,\u001b[0m \u001b[0mvalue\u001b[0m\u001b[1;33m)\u001b[0m\u001b[1;33m\u001b[0m\u001b[1;33m\u001b[0m\u001b[0m\n\u001b[0m\u001b[0;32m   3550\u001b[0m         \u001b[0mNDFrame\u001b[0m\u001b[1;33m.\u001b[0m\u001b[0m_set_item\u001b[0m\u001b[1;33m(\u001b[0m\u001b[0mself\u001b[0m\u001b[1;33m,\u001b[0m \u001b[0mkey\u001b[0m\u001b[1;33m,\u001b[0m \u001b[0mvalue\u001b[0m\u001b[1;33m)\u001b[0m\u001b[1;33m\u001b[0m\u001b[1;33m\u001b[0m\u001b[0m\n\u001b[0;32m   3551\u001b[0m \u001b[1;33m\u001b[0m\u001b[0m\n",
      "\u001b[1;32m~\\Anaconda3\\lib\\site-packages\\pandas\\core\\frame.py\u001b[0m in \u001b[0;36m_sanitize_column\u001b[1;34m(self, key, value, broadcast)\u001b[0m\n\u001b[0;32m   3732\u001b[0m \u001b[1;33m\u001b[0m\u001b[0m\n\u001b[0;32m   3733\u001b[0m             \u001b[1;31m# turn me into an ndarray\u001b[0m\u001b[1;33m\u001b[0m\u001b[1;33m\u001b[0m\u001b[1;33m\u001b[0m\u001b[0m\n\u001b[1;32m-> 3734\u001b[1;33m             \u001b[0mvalue\u001b[0m \u001b[1;33m=\u001b[0m \u001b[0msanitize_index\u001b[0m\u001b[1;33m(\u001b[0m\u001b[0mvalue\u001b[0m\u001b[1;33m,\u001b[0m \u001b[0mself\u001b[0m\u001b[1;33m.\u001b[0m\u001b[0mindex\u001b[0m\u001b[1;33m,\u001b[0m \u001b[0mcopy\u001b[0m\u001b[1;33m=\u001b[0m\u001b[1;32mFalse\u001b[0m\u001b[1;33m)\u001b[0m\u001b[1;33m\u001b[0m\u001b[1;33m\u001b[0m\u001b[0m\n\u001b[0m\u001b[0;32m   3735\u001b[0m             \u001b[1;32mif\u001b[0m \u001b[1;32mnot\u001b[0m \u001b[0misinstance\u001b[0m\u001b[1;33m(\u001b[0m\u001b[0mvalue\u001b[0m\u001b[1;33m,\u001b[0m \u001b[1;33m(\u001b[0m\u001b[0mnp\u001b[0m\u001b[1;33m.\u001b[0m\u001b[0mndarray\u001b[0m\u001b[1;33m,\u001b[0m \u001b[0mIndex\u001b[0m\u001b[1;33m)\u001b[0m\u001b[1;33m)\u001b[0m\u001b[1;33m:\u001b[0m\u001b[1;33m\u001b[0m\u001b[1;33m\u001b[0m\u001b[0m\n\u001b[0;32m   3736\u001b[0m                 \u001b[1;32mif\u001b[0m \u001b[0misinstance\u001b[0m\u001b[1;33m(\u001b[0m\u001b[0mvalue\u001b[0m\u001b[1;33m,\u001b[0m \u001b[0mlist\u001b[0m\u001b[1;33m)\u001b[0m \u001b[1;32mand\u001b[0m \u001b[0mlen\u001b[0m\u001b[1;33m(\u001b[0m\u001b[0mvalue\u001b[0m\u001b[1;33m)\u001b[0m \u001b[1;33m>\u001b[0m \u001b[1;36m0\u001b[0m\u001b[1;33m:\u001b[0m\u001b[1;33m\u001b[0m\u001b[1;33m\u001b[0m\u001b[0m\n",
      "\u001b[1;32m~\\Anaconda3\\lib\\site-packages\\pandas\\core\\internals\\construction.py\u001b[0m in \u001b[0;36msanitize_index\u001b[1;34m(data, index, copy)\u001b[0m\n\u001b[0;32m    610\u001b[0m \u001b[1;33m\u001b[0m\u001b[0m\n\u001b[0;32m    611\u001b[0m     \u001b[1;32mif\u001b[0m \u001b[0mlen\u001b[0m\u001b[1;33m(\u001b[0m\u001b[0mdata\u001b[0m\u001b[1;33m)\u001b[0m \u001b[1;33m!=\u001b[0m \u001b[0mlen\u001b[0m\u001b[1;33m(\u001b[0m\u001b[0mindex\u001b[0m\u001b[1;33m)\u001b[0m\u001b[1;33m:\u001b[0m\u001b[1;33m\u001b[0m\u001b[1;33m\u001b[0m\u001b[0m\n\u001b[1;32m--> 612\u001b[1;33m         \u001b[1;32mraise\u001b[0m \u001b[0mValueError\u001b[0m\u001b[1;33m(\u001b[0m\u001b[1;34m\"Length of values does not match length of index\"\u001b[0m\u001b[1;33m)\u001b[0m\u001b[1;33m\u001b[0m\u001b[1;33m\u001b[0m\u001b[0m\n\u001b[0m\u001b[0;32m    613\u001b[0m \u001b[1;33m\u001b[0m\u001b[0m\n\u001b[0;32m    614\u001b[0m     \u001b[1;32mif\u001b[0m \u001b[0misinstance\u001b[0m\u001b[1;33m(\u001b[0m\u001b[0mdata\u001b[0m\u001b[1;33m,\u001b[0m \u001b[0mABCIndexClass\u001b[0m\u001b[1;33m)\u001b[0m \u001b[1;32mand\u001b[0m \u001b[1;32mnot\u001b[0m \u001b[0mcopy\u001b[0m\u001b[1;33m:\u001b[0m\u001b[1;33m\u001b[0m\u001b[1;33m\u001b[0m\u001b[0m\n",
      "\u001b[1;31mValueError\u001b[0m: Length of values does not match length of index"
     ]
    }
   ],
   "source": [
    "# recommended_place2 = []\n",
    "# recommended_distance2=[]\n",
    "# place2 = []\n",
    "# for i in range(10):\n",
    "#     distance = cafe_with_place_df['places'][0][i][1]\n",
    "#     name = cafe_with_place_df['places'][0][i][0]\n",
    "#     if distance <= 1000:\n",
    "#         recommended_place2.append(name)\n",
    "#         recommended_distance2.append(distance)\n",
    "\n",
    "# cafe_with_place_df['name'] = list(recommended_place2)  "
   ]
  },
  {
   "cell_type": "code",
   "execution_count": null,
   "metadata": {},
   "outputs": [],
   "source": [
    "cafe_distance_tourplace = pd.read_csv('./cafe_distance_tourplace.csv')"
   ]
  },
  {
   "cell_type": "code",
   "execution_count": null,
   "metadata": {},
   "outputs": [],
   "source": [
    "cafe_distance_tourplace.head()"
   ]
  },
  {
   "cell_type": "code",
   "execution_count": null,
   "metadata": {},
   "outputs": [],
   "source": [
    "cafe_with_place.head()"
   ]
  },
  {
   "cell_type": "code",
   "execution_count": null,
   "metadata": {},
   "outputs": [],
   "source": [
    "cafe_with_place = pd.read_csv('cafe_with_place.csv')"
   ]
  },
  {
   "cell_type": "code",
   "execution_count": null,
   "metadata": {},
   "outputs": [],
   "source": [
    "cafe_with_place.shape"
   ]
  },
  {
   "cell_type": "code",
   "execution_count": null,
   "metadata": {},
   "outputs": [],
   "source": [
    "cafe_with_place['places'][0]"
   ]
  },
  {
   "cell_type": "code",
   "execution_count": null,
   "metadata": {
    "scrolled": true
   },
   "outputs": [],
   "source": [
    "cafe_with_place['places']"
   ]
  },
  {
   "cell_type": "code",
   "execution_count": null,
   "metadata": {},
   "outputs": [],
   "source": [
    "cafe_with_place['places']"
   ]
  },
  {
   "cell_type": "code",
   "execution_count": null,
   "metadata": {},
   "outputs": [],
   "source": [
    "cafe_with_place['places'][0][:-1].split('\\n')[9][3:][:-1].split(\"' \")"
   ]
  },
  {
   "cell_type": "code",
   "execution_count": null,
   "metadata": {
    "scrolled": true
   },
   "outputs": [],
   "source": [
    "cafe_with_place['places'][0].split('\\n')[1][3:][:-1].split(\"' \")"
   ]
  },
  {
   "cell_type": "code",
   "execution_count": null,
   "metadata": {},
   "outputs": [],
   "source": [
    "cafe"
   ]
  },
  {
   "cell_type": "code",
   "execution_count": null,
   "metadata": {},
   "outputs": [],
   "source": [
    "cafe_with_place['places'][0][:-1].split('\\n')[9][3:][:-1].split(\"' \")"
   ]
  },
  {
   "cell_type": "code",
   "execution_count": 135,
   "metadata": {
    "collapsed": true
   },
   "outputs": [
    {
     "ename": "AttributeError",
     "evalue": "'numpy.ndarray' object has no attribute 'split'",
     "output_type": "error",
     "traceback": [
      "\u001b[1;31m---------------------------------------------------------------------------\u001b[0m",
      "\u001b[1;31mAttributeError\u001b[0m                            Traceback (most recent call last)",
      "\u001b[1;32m<ipython-input-135-1aafbf5f240d>\u001b[0m in \u001b[0;36m<module>\u001b[1;34m\u001b[0m\n\u001b[0;32m      3\u001b[0m     \u001b[0mcafe\u001b[0m \u001b[1;33m=\u001b[0m \u001b[1;33m[\u001b[0m\u001b[1;33m]\u001b[0m\u001b[1;33m\u001b[0m\u001b[1;33m\u001b[0m\u001b[0m\n\u001b[0;32m      4\u001b[0m     \u001b[1;32mfor\u001b[0m \u001b[0mj\u001b[0m \u001b[1;32min\u001b[0m \u001b[0mrange\u001b[0m\u001b[1;33m(\u001b[0m\u001b[1;36m10\u001b[0m\u001b[1;33m)\u001b[0m\u001b[1;33m:\u001b[0m\u001b[1;33m\u001b[0m\u001b[1;33m\u001b[0m\u001b[0m\n\u001b[1;32m----> 5\u001b[1;33m         \u001b[0mcafe\u001b[0m\u001b[1;33m.\u001b[0m\u001b[0mappend\u001b[0m\u001b[1;33m(\u001b[0m\u001b[0mcafe_with_place\u001b[0m\u001b[1;33m[\u001b[0m\u001b[1;34m'places'\u001b[0m\u001b[1;33m]\u001b[0m\u001b[1;33m[\u001b[0m\u001b[0mi\u001b[0m\u001b[1;33m]\u001b[0m\u001b[1;33m[\u001b[0m\u001b[1;33m:\u001b[0m\u001b[1;33m-\u001b[0m\u001b[1;36m1\u001b[0m\u001b[1;33m]\u001b[0m\u001b[1;33m.\u001b[0m\u001b[0msplit\u001b[0m\u001b[1;33m(\u001b[0m\u001b[1;34m'\\n'\u001b[0m\u001b[1;33m)\u001b[0m\u001b[1;33m[\u001b[0m\u001b[0mj\u001b[0m\u001b[1;33m]\u001b[0m\u001b[1;33m[\u001b[0m\u001b[1;36m3\u001b[0m\u001b[1;33m:\u001b[0m\u001b[1;33m]\u001b[0m\u001b[1;33m[\u001b[0m\u001b[1;33m:\u001b[0m\u001b[1;33m-\u001b[0m\u001b[1;36m1\u001b[0m\u001b[1;33m]\u001b[0m\u001b[1;33m.\u001b[0m\u001b[0msplit\u001b[0m\u001b[1;33m(\u001b[0m\u001b[1;34m\"' \"\u001b[0m\u001b[1;33m)\u001b[0m\u001b[1;33m)\u001b[0m\u001b[1;33m\u001b[0m\u001b[1;33m\u001b[0m\u001b[0m\n\u001b[0m\u001b[0;32m      6\u001b[0m     \u001b[0mcafe_distance\u001b[0m\u001b[1;33m.\u001b[0m\u001b[0mappend\u001b[0m\u001b[1;33m(\u001b[0m\u001b[0mcafe\u001b[0m\u001b[1;33m)\u001b[0m\u001b[1;33m\u001b[0m\u001b[1;33m\u001b[0m\u001b[0m\n",
      "\u001b[1;31mAttributeError\u001b[0m: 'numpy.ndarray' object has no attribute 'split'"
     ]
    }
   ],
   "source": [
    "cafe_distance = []\n",
    "for i in range(len(cafe_with_place['places'])):\n",
    "    cafe = []\n",
    "    for j in range(10):\n",
    "        cafe.append(cafe_with_place['places'][i][:-1].split('\\n')[j][3:][:-1].split(\"' \"))\n",
    "    cafe_distance.append(cafe)    "
   ]
  },
  {
   "cell_type": "code",
   "execution_count": null,
   "metadata": {},
   "outputs": [],
   "source": [
    "cafe_distance"
   ]
  },
  {
   "cell_type": "code",
   "execution_count": null,
   "metadata": {},
   "outputs": [],
   "source": [
    "cafe_with_place['places'] = cafe_distance"
   ]
  },
  {
   "cell_type": "code",
   "execution_count": null,
   "metadata": {},
   "outputs": [],
   "source": [
    "cafe_with_place['places'][0]"
   ]
  },
  {
   "cell_type": "code",
   "execution_count": null,
   "metadata": {},
   "outputs": [],
   "source": [
    "name = cafe_with_place['places'][0][0]\n",
    "name"
   ]
  },
  {
   "cell_type": "code",
   "execution_count": null,
   "metadata": {},
   "outputs": [],
   "source": [
    "cafe_with_place['places'][0][9]"
   ]
  },
  {
   "cell_type": "code",
   "execution_count": 153,
   "metadata": {},
   "outputs": [],
   "source": [
    "final = []\n",
    "\n",
    "for place in range(len(cafe_with_place['places'])):\n",
    "    place_cafe = []\n",
    "    name = cafe_with_place['name'][place]\n",
    "#     print(name)\n",
    "    place_cafe.append(name)\n",
    "    cafes = []\n",
    "    for cafe in range(10):\n",
    "        cafe_distance = cafe_with_place['places'][place][cafe]\n",
    "        cafes.append(cafe_distance)\n",
    "    place_cafe.append(cafes)\n",
    "    final.append(place_cafe)"
   ]
  },
  {
   "cell_type": "code",
   "execution_count": 154,
   "metadata": {},
   "outputs": [
    {
     "data": {
      "text/plain": [
       "61.152342392299964"
      ]
     },
     "execution_count": 154,
     "metadata": {},
     "output_type": "execute_result"
    }
   ],
   "source": [
    "final[0][1][1][1]\n",
    "# final[관광지선택][카페리스트선택][카페선택][거리]"
   ]
  },
  {
   "cell_type": "code",
   "execution_count": 155,
   "metadata": {},
   "outputs": [
    {
     "data": {
      "text/plain": [
       "3"
      ]
     },
     "execution_count": 155,
     "metadata": {},
     "output_type": "execute_result"
    }
   ],
   "source": [
    "len(final)"
   ]
  },
  {
   "cell_type": "code",
   "execution_count": null,
   "metadata": {},
   "outputs": [],
   "source": []
  },
  {
   "cell_type": "code",
   "execution_count": 156,
   "metadata": {},
   "outputs": [],
   "source": [
    "under1000 = []\n",
    "for place in range(len(final)):\n",
    "    row = []\n",
    "    name = final[place][0]\n",
    "    row.append(name)\n",
    "#     print(name)\n",
    "    cafes=[]\n",
    "    for cafe in range(5):\n",
    "        if float(final[place][1][cafe][1]) < 1000:\n",
    "#             print(final[place][1][cafe][1])\n",
    "            cafes.append(final[place][1][cafe][0])\n",
    "#         print(cafes)\n",
    "    row.append(cafes)\n",
    "    under1000.append(row)"
   ]
  },
  {
   "cell_type": "code",
   "execution_count": 157,
   "metadata": {},
   "outputs": [
    {
     "data": {
      "text/plain": [
       "[['(주)제주해양레저 투명카약', ['투썸플레이스 제주애월한담점', '썬셋클리프', '어보브앤비욘드', '바바', '봄날']],\n",
       " ['1100고지(휴게소)', []],\n",
       " ['1100고지습지', []]]"
      ]
     },
     "execution_count": 157,
     "metadata": {},
     "output_type": "execute_result"
    }
   ],
   "source": [
    "under1000"
   ]
  },
  {
   "cell_type": "code",
   "execution_count": 158,
   "metadata": {},
   "outputs": [],
   "source": [
    "under1000 = pd.DataFrame(under1000, columns = ['관광지','카페'])"
   ]
  },
  {
   "cell_type": "code",
   "execution_count": 159,
   "metadata": {},
   "outputs": [
    {
     "data": {
      "text/html": [
       "<div>\n",
       "<style scoped>\n",
       "    .dataframe tbody tr th:only-of-type {\n",
       "        vertical-align: middle;\n",
       "    }\n",
       "\n",
       "    .dataframe tbody tr th {\n",
       "        vertical-align: top;\n",
       "    }\n",
       "\n",
       "    .dataframe thead th {\n",
       "        text-align: right;\n",
       "    }\n",
       "</style>\n",
       "<table border=\"1\" class=\"dataframe\">\n",
       "  <thead>\n",
       "    <tr style=\"text-align: right;\">\n",
       "      <th></th>\n",
       "      <th>관광지</th>\n",
       "      <th>카페</th>\n",
       "    </tr>\n",
       "  </thead>\n",
       "  <tbody>\n",
       "    <tr>\n",
       "      <td>0</td>\n",
       "      <td>(주)제주해양레저 투명카약</td>\n",
       "      <td>[투썸플레이스 제주애월한담점, 썬셋클리프, 어보브앤비욘드, 바바, 봄날]</td>\n",
       "    </tr>\n",
       "    <tr>\n",
       "      <td>1</td>\n",
       "      <td>1100고지(휴게소)</td>\n",
       "      <td>[]</td>\n",
       "    </tr>\n",
       "    <tr>\n",
       "      <td>2</td>\n",
       "      <td>1100고지습지</td>\n",
       "      <td>[]</td>\n",
       "    </tr>\n",
       "  </tbody>\n",
       "</table>\n",
       "</div>"
      ],
      "text/plain": [
       "              관광지                                        카페\n",
       "0  (주)제주해양레저 투명카약  [투썸플레이스 제주애월한담점, 썬셋클리프, 어보브앤비욘드, 바바, 봄날]\n",
       "1     1100고지(휴게소)                                        []\n",
       "2        1100고지습지                                        []"
      ]
     },
     "execution_count": 159,
     "metadata": {},
     "output_type": "execute_result"
    }
   ],
   "source": [
    "under1000.head()"
   ]
  },
  {
   "cell_type": "code",
   "execution_count": 160,
   "metadata": {},
   "outputs": [],
   "source": [
    "under1000.to_csv(\"under1000.csv\")"
   ]
  },
  {
   "cell_type": "code",
   "execution_count": 161,
   "metadata": {},
   "outputs": [],
   "source": [
    "under1000 = pd.read_csv(\"under1000.csv\")"
   ]
  },
  {
   "cell_type": "code",
   "execution_count": 162,
   "metadata": {},
   "outputs": [],
   "source": [
    "under1000 = under1000.drop(columns = 'Unnamed: 0', axis=1)"
   ]
  },
  {
   "cell_type": "code",
   "execution_count": 163,
   "metadata": {},
   "outputs": [],
   "source": [
    "index = under1000[under1000['카페'] == '[]'].index"
   ]
  },
  {
   "cell_type": "code",
   "execution_count": 164,
   "metadata": {},
   "outputs": [],
   "source": [
    "under1000 = under1000.drop(index = index)\n"
   ]
  },
  {
   "cell_type": "code",
   "execution_count": 165,
   "metadata": {},
   "outputs": [
    {
     "data": {
      "text/html": [
       "<div>\n",
       "<style scoped>\n",
       "    .dataframe tbody tr th:only-of-type {\n",
       "        vertical-align: middle;\n",
       "    }\n",
       "\n",
       "    .dataframe tbody tr th {\n",
       "        vertical-align: top;\n",
       "    }\n",
       "\n",
       "    .dataframe thead th {\n",
       "        text-align: right;\n",
       "    }\n",
       "</style>\n",
       "<table border=\"1\" class=\"dataframe\">\n",
       "  <thead>\n",
       "    <tr style=\"text-align: right;\">\n",
       "      <th></th>\n",
       "      <th>관광지</th>\n",
       "      <th>카페</th>\n",
       "    </tr>\n",
       "  </thead>\n",
       "  <tbody>\n",
       "    <tr>\n",
       "      <td>0</td>\n",
       "      <td>(주)제주해양레저 투명카약</td>\n",
       "      <td>['투썸플레이스 제주애월한담점', '썬셋클리프', '어보브앤비욘드', '바바', '...</td>\n",
       "    </tr>\n",
       "  </tbody>\n",
       "</table>\n",
       "</div>"
      ],
      "text/plain": [
       "              관광지                                                 카페\n",
       "0  (주)제주해양레저 투명카약  ['투썸플레이스 제주애월한담점', '썬셋클리프', '어보브앤비욘드', '바바', '..."
      ]
     },
     "execution_count": 165,
     "metadata": {},
     "output_type": "execute_result"
    }
   ],
   "source": [
    "under1000.head()"
   ]
  },
  {
   "cell_type": "code",
   "execution_count": 166,
   "metadata": {},
   "outputs": [
    {
     "data": {
      "text/html": [
       "<div>\n",
       "<style scoped>\n",
       "    .dataframe tbody tr th:only-of-type {\n",
       "        vertical-align: middle;\n",
       "    }\n",
       "\n",
       "    .dataframe tbody tr th {\n",
       "        vertical-align: top;\n",
       "    }\n",
       "\n",
       "    .dataframe thead th {\n",
       "        text-align: right;\n",
       "    }\n",
       "</style>\n",
       "<table border=\"1\" class=\"dataframe\">\n",
       "  <thead>\n",
       "    <tr style=\"text-align: right;\">\n",
       "      <th></th>\n",
       "      <th>Unnamed: 0</th>\n",
       "      <th>name</th>\n",
       "      <th>address</th>\n",
       "      <th>latitude</th>\n",
       "      <th>longitude</th>\n",
       "    </tr>\n",
       "  </thead>\n",
       "  <tbody>\n",
       "    <tr>\n",
       "      <td>0</td>\n",
       "      <td>0</td>\n",
       "      <td>(주)제주해양레저 투명카약</td>\n",
       "      <td>제주특별자치도 제주시 애월읍 애월리 2490-1</td>\n",
       "      <td>33.462353</td>\n",
       "      <td>126.31049</td>\n",
       "    </tr>\n",
       "    <tr>\n",
       "      <td>1</td>\n",
       "      <td>1</td>\n",
       "      <td>1100고지(휴게소)</td>\n",
       "      <td>제주특별자치도 서귀포시 색달동 산 1-3</td>\n",
       "      <td>33.339912</td>\n",
       "      <td>126.43682</td>\n",
       "    </tr>\n",
       "    <tr>\n",
       "      <td>2</td>\n",
       "      <td>2</td>\n",
       "      <td>1100고지습지</td>\n",
       "      <td>제주특별자치도 서귀포시 색달동 산 1-2</td>\n",
       "      <td>33.357500</td>\n",
       "      <td>126.46292</td>\n",
       "    </tr>\n",
       "    <tr>\n",
       "      <td>3</td>\n",
       "      <td>3</td>\n",
       "      <td>1112도로</td>\n",
       "      <td>제주특별자치도 제주시 봉개동 산 78-1</td>\n",
       "      <td>33.439373</td>\n",
       "      <td>126.62845</td>\n",
       "    </tr>\n",
       "    <tr>\n",
       "      <td>4</td>\n",
       "      <td>4</td>\n",
       "      <td>4·3해원방사탑</td>\n",
       "      <td>제주특별자치도 제주시 일도2동 837-20</td>\n",
       "      <td>33.505470</td>\n",
       "      <td>126.53451</td>\n",
       "    </tr>\n",
       "  </tbody>\n",
       "</table>\n",
       "</div>"
      ],
      "text/plain": [
       "   Unnamed: 0            name                     address   latitude  \\\n",
       "0           0  (주)제주해양레저 투명카약  제주특별자치도 제주시 애월읍 애월리 2490-1  33.462353   \n",
       "1           1     1100고지(휴게소)      제주특별자치도 서귀포시 색달동 산 1-3  33.339912   \n",
       "2           2        1100고지습지      제주특별자치도 서귀포시 색달동 산 1-2  33.357500   \n",
       "3           3          1112도로      제주특별자치도 제주시 봉개동 산 78-1  33.439373   \n",
       "4           4        4·3해원방사탑     제주특별자치도 제주시 일도2동 837-20  33.505470   \n",
       "\n",
       "   longitude  \n",
       "0  126.31049  \n",
       "1  126.43682  \n",
       "2  126.46292  \n",
       "3  126.62845  \n",
       "4  126.53451  "
      ]
     },
     "execution_count": 166,
     "metadata": {},
     "output_type": "execute_result"
    }
   ],
   "source": [
    "tour_place_df.head()"
   ]
  },
  {
   "cell_type": "code",
   "execution_count": 167,
   "metadata": {},
   "outputs": [
    {
     "data": {
      "text/html": [
       "<div>\n",
       "<style scoped>\n",
       "    .dataframe tbody tr th:only-of-type {\n",
       "        vertical-align: middle;\n",
       "    }\n",
       "\n",
       "    .dataframe tbody tr th {\n",
       "        vertical-align: top;\n",
       "    }\n",
       "\n",
       "    .dataframe thead th {\n",
       "        text-align: right;\n",
       "    }\n",
       "</style>\n",
       "<table border=\"1\" class=\"dataframe\">\n",
       "  <thead>\n",
       "    <tr style=\"text-align: right;\">\n",
       "      <th></th>\n",
       "      <th>관광지</th>\n",
       "      <th>카페</th>\n",
       "      <th>Unnamed: 0</th>\n",
       "      <th>name</th>\n",
       "      <th>address</th>\n",
       "      <th>latitude</th>\n",
       "      <th>longitude</th>\n",
       "    </tr>\n",
       "  </thead>\n",
       "  <tbody>\n",
       "    <tr>\n",
       "      <td>0</td>\n",
       "      <td>(주)제주해양레저 투명카약</td>\n",
       "      <td>['투썸플레이스 제주애월한담점', '썬셋클리프', '어보브앤비욘드', '바바', '...</td>\n",
       "      <td>0</td>\n",
       "      <td>(주)제주해양레저 투명카약</td>\n",
       "      <td>제주특별자치도 제주시 애월읍 애월리 2490-1</td>\n",
       "      <td>33.462353</td>\n",
       "      <td>126.31049</td>\n",
       "    </tr>\n",
       "  </tbody>\n",
       "</table>\n",
       "</div>"
      ],
      "text/plain": [
       "              관광지                                                 카페  \\\n",
       "0  (주)제주해양레저 투명카약  ['투썸플레이스 제주애월한담점', '썬셋클리프', '어보브앤비욘드', '바바', '...   \n",
       "\n",
       "   Unnamed: 0            name                     address   latitude  \\\n",
       "0           0  (주)제주해양레저 투명카약  제주특별자치도 제주시 애월읍 애월리 2490-1  33.462353   \n",
       "\n",
       "   longitude  \n",
       "0  126.31049  "
      ]
     },
     "execution_count": 167,
     "metadata": {},
     "output_type": "execute_result"
    }
   ],
   "source": [
    "uder1000_final = under1000.merge(tour_place_df, how='left', left_on=['관광지'], right_on = ['name'])\n",
    "uder1000_final.head()"
   ]
  },
  {
   "cell_type": "code",
   "execution_count": 168,
   "metadata": {},
   "outputs": [
    {
     "data": {
      "text/html": [
       "<div>\n",
       "<style scoped>\n",
       "    .dataframe tbody tr th:only-of-type {\n",
       "        vertical-align: middle;\n",
       "    }\n",
       "\n",
       "    .dataframe tbody tr th {\n",
       "        vertical-align: top;\n",
       "    }\n",
       "\n",
       "    .dataframe thead th {\n",
       "        text-align: right;\n",
       "    }\n",
       "</style>\n",
       "<table border=\"1\" class=\"dataframe\">\n",
       "  <thead>\n",
       "    <tr style=\"text-align: right;\">\n",
       "      <th></th>\n",
       "      <th>관광지</th>\n",
       "      <th>카페</th>\n",
       "      <th>address</th>\n",
       "      <th>latitude</th>\n",
       "      <th>longitude</th>\n",
       "    </tr>\n",
       "  </thead>\n",
       "  <tbody>\n",
       "    <tr>\n",
       "      <td>0</td>\n",
       "      <td>(주)제주해양레저 투명카약</td>\n",
       "      <td>['투썸플레이스 제주애월한담점', '썬셋클리프', '어보브앤비욘드', '바바', '...</td>\n",
       "      <td>제주특별자치도 제주시 애월읍 애월리 2490-1</td>\n",
       "      <td>33.462353</td>\n",
       "      <td>126.31049</td>\n",
       "    </tr>\n",
       "  </tbody>\n",
       "</table>\n",
       "</div>"
      ],
      "text/plain": [
       "              관광지                                                 카페  \\\n",
       "0  (주)제주해양레저 투명카약  ['투썸플레이스 제주애월한담점', '썬셋클리프', '어보브앤비욘드', '바바', '...   \n",
       "\n",
       "                      address   latitude  longitude  \n",
       "0  제주특별자치도 제주시 애월읍 애월리 2490-1  33.462353  126.31049  "
      ]
     },
     "execution_count": 168,
     "metadata": {},
     "output_type": "execute_result"
    }
   ],
   "source": [
    "uder1000_final.drop(columns=['Unnamed: 0','name'], axis=1)"
   ]
  },
  {
   "cell_type": "code",
   "execution_count": 169,
   "metadata": {},
   "outputs": [],
   "source": [
    "uder1000_final = uder1000_final[['관광지', 'address','latitude','longitude', '카페']]"
   ]
  },
  {
   "cell_type": "code",
   "execution_count": 170,
   "metadata": {},
   "outputs": [],
   "source": [
    "under1000.to_csv(\"cafe_with_place_v2.csv\", index=False)"
   ]
  },
  {
   "cell_type": "code",
   "execution_count": null,
   "metadata": {},
   "outputs": [],
   "source": []
  }
 ],
 "metadata": {
  "kernelspec": {
   "display_name": "Python 3",
   "language": "python",
   "name": "python3"
  },
  "language_info": {
   "codemirror_mode": {
    "name": "ipython",
    "version": 3
   },
   "file_extension": ".py",
   "mimetype": "text/x-python",
   "name": "python",
   "nbconvert_exporter": "python",
   "pygments_lexer": "ipython3",
   "version": "3.7.4"
  }
 },
 "nbformat": 4,
 "nbformat_minor": 2
}
