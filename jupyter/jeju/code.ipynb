{
 "cells": [
  {
   "cell_type": "code",
   "execution_count": 6,
   "metadata": {},
   "outputs": [
    {
     "name": "stdout",
     "output_type": "stream",
     "text": [
      "1 5\n",
      "커피 맛있어요~\n",
      "바다 바로 앞이라 뷰도 좋아요\n",
      "음악스타일은 바뀌셨나봐요 ㅋ\n",
      "\n",
      "티라미슈 존맛탱\n",
      "\n",
      "뷰는좋아요\n",
      "노래가 핵구립니다.\n",
      "뽕짝땐스음악이예요..\n",
      "(8월초)\n",
      "\n",
      "비지엠이 똥망이라는 리뷰가 많던데 의식하셨는지 뽕짝은 아니고 EDM??테크노?? 같은거 틀어주심 뷰가 깡패고 커피랑 티라미스도 맛있음 사람도 별로 없어서 한산하고 좋음\n",
      "\n",
      "친절하고 카피 맛있고 인절미빙수도 맛있었어요 \n",
      "뭐니뭐니해도 제일 좋은 건 뷰~^^\n",
      "\n"
     ]
    },
    {
     "ename": "KeyError",
     "evalue": "'points'",
     "output_type": "error",
     "traceback": [
      "\u001b[0;31m---------------------------------------------------------------------------\u001b[0m",
      "\u001b[0;31mKeyError\u001b[0m                                  Traceback (most recent call last)",
      "\u001b[0;32m<ipython-input-6-51cf20f4d62f>\u001b[0m in \u001b[0;36m<module>\u001b[0;34m\u001b[0m\n\u001b[1;32m     24\u001b[0m             \u001b[0mprint\u001b[0m\u001b[0;34m(\u001b[0m\u001b[0mcomment\u001b[0m\u001b[0;34m.\u001b[0m\u001b[0mget\u001b[0m\u001b[0;34m(\u001b[0m\u001b[0;34m'contents'\u001b[0m\u001b[0;34m,\u001b[0m \u001b[0;34m''\u001b[0m\u001b[0;34m)\u001b[0m\u001b[0;34m)\u001b[0m\u001b[0;34m\u001b[0m\u001b[0;34m\u001b[0m\u001b[0m\n\u001b[1;32m     25\u001b[0m             \u001b[0mprint\u001b[0m\u001b[0;34m(\u001b[0m\u001b[0;34m)\u001b[0m\u001b[0;34m\u001b[0m\u001b[0;34m\u001b[0m\u001b[0m\n\u001b[0;32m---> 26\u001b[0;31m         \u001b[0;32mfor\u001b[0m \u001b[0mpoints\u001b[0m \u001b[0;32min\u001b[0m \u001b[0mdata\u001b[0m\u001b[0;34m[\u001b[0m\u001b[0;34m'points'\u001b[0m\u001b[0;34m]\u001b[0m\u001b[0;34m[\u001b[0m\u001b[0;34m'list'\u001b[0m\u001b[0;34m]\u001b[0m\u001b[0;34m:\u001b[0m\u001b[0;34m\u001b[0m\u001b[0;34m\u001b[0m\u001b[0m\n\u001b[0m\u001b[1;32m     27\u001b[0m             \u001b[0mprint\u001b[0m\u001b[0;34m(\u001b[0m\u001b[0mpoint\u001b[0m\u001b[0;34m.\u001b[0m\u001b[0mget\u001b[0m\u001b[0;34m(\u001b[0m\u001b[0;34m'point'\u001b[0m\u001b[0;34m,\u001b[0m \u001b[0;34m''\u001b[0m\u001b[0;34m)\u001b[0m\u001b[0;34m)\u001b[0m\u001b[0;34m\u001b[0m\u001b[0;34m\u001b[0m\u001b[0m\n\u001b[1;32m     28\u001b[0m             \u001b[0mprint\u001b[0m\u001b[0;34m(\u001b[0m\u001b[0;34m)\u001b[0m\u001b[0;34m\u001b[0m\u001b[0;34m\u001b[0m\u001b[0m\n",
      "\u001b[0;31mKeyError\u001b[0m: 'points'"
     ]
    }
   ],
   "source": [
    "from math import ceil\n",
    "\n",
    "import requests\n",
    "from bs4 import BeautifulSoup\n",
    "\n",
    "ids = [\n",
    "    '27169387',\n",
    "    '1832440912',\n",
    "    '275236503',\n",
    "    '1927773763',\n",
    "    '2095612103',\n",
    "    '1945525281',\n",
    "    '24812797'\n",
    "]\n",
    "\n",
    "for id in ids:\n",
    "    res = requests.get(f'https://place.map.kakao.com/main/v/{id}')\n",
    "    data = res.json()\n",
    "    for page in range(1, ceil(data['comment']['allComntcnt'] / 5) + 1):\n",
    "        res = requests.get(f'https://place.map.kakao.com/commentlist/v/{id}/{page}')\n",
    "        data = res.json()\n",
    "        print(page, len(data['comment']['list']))\n",
    "        for comment in data['comment']['list']:\n",
    "            print(comment.get('contents', ''))\n",
    "            print()\n",
    "        for points in data['points']['list']:\n",
    "            print(point.get('point', ''))\n",
    "            print()"
   ]
  },
  {
   "cell_type": "code",
   "execution_count": null,
   "metadata": {},
   "outputs": [],
   "source": []
  }
 ],
 "metadata": {
  "kernelspec": {
   "display_name": "Python 3",
   "language": "python",
   "name": "python3"
  },
  "language_info": {
   "codemirror_mode": {
    "name": "ipython",
    "version": 3
   },
   "file_extension": ".py",
   "mimetype": "text/x-python",
   "name": "python",
   "nbconvert_exporter": "python",
   "pygments_lexer": "ipython3",
   "version": "3.7.4"
  }
 },
 "nbformat": 4,
 "nbformat_minor": 2
}
