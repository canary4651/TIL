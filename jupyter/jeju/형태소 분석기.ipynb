{
 "cells": [
  {
   "cell_type": "code",
   "execution_count": 2,
   "metadata": {},
   "outputs": [],
   "source": [
    "# !pip install konlpy"
   ]
  },
  {
   "cell_type": "code",
   "execution_count": 1,
   "metadata": {
    "scrolled": true
   },
   "outputs": [],
   "source": [
    "from konlpy.tag import Kkma\n",
    "from konlpy.utils import pprint"
   ]
  },
  {
   "cell_type": "code",
   "execution_count": 2,
   "metadata": {},
   "outputs": [],
   "source": [
    "kkma = Kkma()"
   ]
  },
  {
   "cell_type": "code",
   "execution_count": 3,
   "metadata": {},
   "outputs": [
    {
     "name": "stdout",
     "output_type": "stream",
     "text": [
      "['네, 안녕하세요.', '반갑습니다.']\n"
     ]
    }
   ],
   "source": [
    "pprint(kkma.sentences(u'네, 안녕하세요. 반갑습니다.'))"
   ]
  },
  {
   "cell_type": "code",
   "execution_count": 5,
   "metadata": {},
   "outputs": [
    {
     "name": "stdout",
     "output_type": "stream",
     "text": [
      "['질문이나 건의사항은 깃헙 이슈 트래커에 남겨 주세요.']\n"
     ]
    }
   ],
   "source": [
    "pprint(kkma.sentences('질문이나 건의사항은 깃헙 이슈 트래커에 남겨주세요.'))"
   ]
  },
  {
   "cell_type": "code",
   "execution_count": 6,
   "metadata": {},
   "outputs": [
    {
     "name": "stdout",
     "output_type": "stream",
     "text": [
      "['질문', '건의', '건의사항', '사항', '깃헙', '이슈', '트래커']\n"
     ]
    }
   ],
   "source": [
    "pprint(kkma.nouns(u'질문이나 건의사항은 깃헙 이슈 트래커에 남겨주세요.'))"
   ]
  },
  {
   "cell_type": "code",
   "execution_count": 7,
   "metadata": {
    "scrolled": true
   },
   "outputs": [
    {
     "name": "stdout",
     "output_type": "stream",
     "text": [
      "['안녕']\n"
     ]
    }
   ],
   "source": [
    "pprint(kkma.nouns(u'네, 안녕하세요. 반갑습니다.'))"
   ]
  },
  {
   "cell_type": "code",
   "execution_count": 8,
   "metadata": {},
   "outputs": [],
   "source": [
    "texts = '관광지라 그런지... 비싼데 맛은 그닥\\n그래도 뭐 어쩔수없이 다른 카페 자리 없으면 갈 수 밖에 없는 곳'"
   ]
  },
  {
   "cell_type": "code",
   "execution_count": 9,
   "metadata": {
    "scrolled": true
   },
   "outputs": [
    {
     "name": "stdout",
     "output_type": "stream",
     "text": [
      "['관광', '관광지라', '지라', '맛', '뭐', '수', '카페', '자리', '곳']\n"
     ]
    }
   ],
   "source": [
    "pprint(kkma.nouns(texts))"
   ]
  },
  {
   "cell_type": "code",
   "execution_count": 236,
   "metadata": {
    "scrolled": true
   },
   "outputs": [
    {
     "name": "stdout",
     "output_type": "stream",
     "text": [
      "['관광',\n",
      " '지라',\n",
      " '그렇',\n",
      " 'ㄴ지',\n",
      " '...',\n",
      " '비싸',\n",
      " 'ㄴ데',\n",
      " '맛',\n",
      " '은',\n",
      " '그닥',\n",
      " '그리하',\n",
      " '여도',\n",
      " '뭐',\n",
      " '어쩌',\n",
      " 'ㄹ',\n",
      " '수',\n",
      " '없이',\n",
      " '다른',\n",
      " '카페',\n",
      " '자리',\n",
      " '없',\n",
      " '으면',\n",
      " '갈',\n",
      " 'ㄹ',\n",
      " '수',\n",
      " '밖에',\n",
      " '없',\n",
      " '는',\n",
      " '곳']\n"
     ]
    }
   ],
   "source": [
    "pprint(kkma.morphs(texts))"
   ]
  },
  {
   "cell_type": "code",
   "execution_count": 234,
   "metadata": {},
   "outputs": [
    {
     "name": "stdout",
     "output_type": "stream",
     "text": [
      "[('관광', 'NNG'),\n",
      " ('지라', 'NNG'),\n",
      " ('그렇', 'VA'),\n",
      " ('ㄴ지', 'ECD'),\n",
      " ('...', 'SE'),\n",
      " ('비싸', 'VA'),\n",
      " ('ㄴ데', 'ECE'),\n",
      " ('맛', 'NNG'),\n",
      " ('은', 'JX'),\n",
      " ('그닥', 'MAG'),\n",
      " ('그리하', 'VV'),\n",
      " ('여도', 'ECD'),\n",
      " ('뭐', 'NP'),\n",
      " ('어쩌', 'VV'),\n",
      " ('ㄹ', 'ETD'),\n",
      " ('수', 'NNB'),\n",
      " ('없이', 'MAG'),\n",
      " ('다른', 'MDT'),\n",
      " ('카페', 'NNG'),\n",
      " ('자리', 'NNG'),\n",
      " ('없', 'VV'),\n",
      " ('으면', 'ECD'),\n",
      " ('갈', 'VV'),\n",
      " ('ㄹ', 'ETD'),\n",
      " ('수', 'NNB'),\n",
      " ('밖에', 'JX'),\n",
      " ('없', 'VA'),\n",
      " ('는', 'ETD'),\n",
      " ('곳', 'NNG')]\n"
     ]
    }
   ],
   "source": [
    "pprint(kkma.pos(texts))"
   ]
  },
  {
   "cell_type": "code",
   "execution_count": 204,
   "metadata": {},
   "outputs": [],
   "source": [
    "# word_tokens = kkma.morphs(texts)"
   ]
  },
  {
   "cell_type": "code",
   "execution_count": 205,
   "metadata": {
    "collapsed": true
   },
   "outputs": [
    {
     "data": {
      "text/plain": [
       "['관광',\n",
       " '지라',\n",
       " '그렇',\n",
       " 'ㄴ지',\n",
       " '...',\n",
       " '비싸',\n",
       " 'ㄴ데',\n",
       " '맛',\n",
       " '은',\n",
       " '그닥',\n",
       " '그리하',\n",
       " '여도',\n",
       " '뭐',\n",
       " '어쩌',\n",
       " 'ㄹ',\n",
       " '수',\n",
       " '없이',\n",
       " '다른',\n",
       " '카페',\n",
       " '자리',\n",
       " '없',\n",
       " '으면',\n",
       " '갈',\n",
       " 'ㄹ',\n",
       " '수',\n",
       " '밖에',\n",
       " '없',\n",
       " '는',\n",
       " '곳']"
      ]
     },
     "execution_count": 205,
     "metadata": {},
     "output_type": "execute_result"
    }
   ],
   "source": [
    "# word_tokens"
   ]
  },
  {
   "cell_type": "code",
   "execution_count": 223,
   "metadata": {},
   "outputs": [],
   "source": [
    "# import pandas as pd"
   ]
  },
  {
   "cell_type": "code",
   "execution_count": 224,
   "metadata": {},
   "outputs": [],
   "source": [
    "# stopwords = pd.read_csv(\"stopwords.csv\", names = ['word'], header = None)"
   ]
  },
  {
   "cell_type": "code",
   "execution_count": 225,
   "metadata": {},
   "outputs": [],
   "source": [
    "# stopwords = stopwords['word'].tolist()"
   ]
  },
  {
   "cell_type": "code",
   "execution_count": 226,
   "metadata": {},
   "outputs": [],
   "source": [
    "# result = []\n",
    "# for w in word_tokens: \n",
    "#     if w not in stopwords: \n",
    "#         result.append(w) "
   ]
  },
  {
   "cell_type": "code",
   "execution_count": 227,
   "metadata": {
    "collapsed": true
   },
   "outputs": [
    {
     "data": {
      "text/plain": [
       "['관광',\n",
       " '지라',\n",
       " '그렇',\n",
       " 'ㄴ지',\n",
       " '...',\n",
       " '비싸',\n",
       " 'ㄴ데',\n",
       " '맛',\n",
       " '은',\n",
       " '그닥',\n",
       " '그리하',\n",
       " '여도',\n",
       " '뭐',\n",
       " '어쩌',\n",
       " 'ㄹ',\n",
       " '수',\n",
       " '없이',\n",
       " '다른',\n",
       " '카페',\n",
       " '자리',\n",
       " '없',\n",
       " '으면',\n",
       " '갈',\n",
       " 'ㄹ',\n",
       " '수',\n",
       " '밖에',\n",
       " '없',\n",
       " '는',\n",
       " '곳']"
      ]
     },
     "execution_count": 227,
     "metadata": {},
     "output_type": "execute_result"
    }
   ],
   "source": [
    "# result"
   ]
  },
  {
   "cell_type": "code",
   "execution_count": null,
   "metadata": {},
   "outputs": [],
   "source": []
  }
 ],
 "metadata": {
  "kernelspec": {
   "display_name": "Python 3",
   "language": "python",
   "name": "python3"
  },
  "language_info": {
   "codemirror_mode": {
    "name": "ipython",
    "version": 3
   },
   "file_extension": ".py",
   "mimetype": "text/x-python",
   "name": "python",
   "nbconvert_exporter": "python",
   "pygments_lexer": "ipython3",
   "version": "3.7.4"
  }
 },
 "nbformat": 4,
 "nbformat_minor": 2
}
