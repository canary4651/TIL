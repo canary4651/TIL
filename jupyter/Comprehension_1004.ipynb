{
 "cells": [
  {
   "cell_type": "code",
   "execution_count": 1,
   "metadata": {},
   "outputs": [],
   "source": [
    "import pandas as pd\n",
    "import numpy as np"
   ]
  },
  {
   "cell_type": "code",
   "execution_count": null,
   "metadata": {},
   "outputs": [],
   "source": [
    "# 단어에서 모음을 제거하는 List Comprehension\n",
    "# >>> word = 'mathematics'\n",
    "\n",
    "# 결과는 이렇게 나와야 합니다.\n",
    "# 'mthmtcs'\n",
    "\n",
    "# 힌트 1. str은 iterable 합니다.\n",
    "# >>> for i in 'hi':\n",
    "# ...     print(i)\n",
    "# ... \n",
    "# h\n",
    "# i\n",
    "\n",
    "# 힌트 2. .join() 함수\n",
    "# >>> a = ''.join(['h', 'i', ' ', 'm', 'a', 't', 'e'])\n",
    "# >>> print(a)\n",
    "# 'hi mate'"
   ]
  },
  {
   "cell_type": "code",
   "execution_count": 24,
   "metadata": {},
   "outputs": [
    {
     "data": {
      "text/plain": [
       "'mthmtcs'"
      ]
     },
     "execution_count": 24,
     "metadata": {},
     "output_type": "execute_result"
    }
   ],
   "source": [
    "word = 'mathematics'\n",
    "def word_(word):\n",
    "    return ''.join([i for i in word if i not in ['a', 'e', 'i', 'o', 'u']])\n",
    "word_(word)"
   ]
  },
  {
   "cell_type": "code",
   "execution_count": null,
   "metadata": {},
   "outputs": [],
   "source": [
    "# 혜민님의 풀이 -> 왜 안될까? \n",
    "def no_vowels(x):\n",
    "    return x.replace(i,\"\")[i for i in x if i in ['a','e','i','o','u']] \n",
    "# 모음이면 아무것도 출력 안되게 만들어짐\n",
    "\n",
    "# 민주님의 풀이 : if문 추가해서, 모음이면 ---긴 스트링이 출력되고 모음이 아니면 그냥 나오는 걸 함 \n",
    "['' if i in v else i for i in x] \n",
    "# 여기서 조인으로 추가\n",
    "def no_vowels(word):\n",
    "    return ''.join(['' if x in 'aeiou' else x for x in word])"
   ]
  },
  {
   "cell_type": "code",
   "execution_count": null,
   "metadata": {},
   "outputs": [],
   "source": [
    "# 두 리스트를 하나의 dict로 합치는 Dict Comprehension. 하나는 key, 또 다른 하나는 value로 사용한다\n",
    "# >>> subjects = ['math', 'history', 'english', 'computer engineering']\n",
    "# >>> scores = [90, 80, 95, 100]\n",
    "\n",
    "# 결과는 이렇게 나와야 합니다.\n",
    "# {'math': 90, 'history': 80, 'english': 95, 'computer engineering': 100}\n",
    "\n",
    "# 힌트 1. zip() 함수\n",
    "# >>> for k in zip(subjects, scores):\n",
    "# ...     print(k)\n",
    "# ... \n",
    "# ('math', 90)\n",
    "# ('history', 80)\n",
    "# ('english', 95)\n",
    "# ('computer engineering', 100)"
   ]
  },
  {
   "cell_type": "code",
   "execution_count": 22,
   "metadata": {},
   "outputs": [
    {
     "data": {
      "text/plain": [
       "{'math': 90, 'history': 80, 'english': 95, 'computer engineering': 100}"
      ]
     },
     "execution_count": 22,
     "metadata": {},
     "output_type": "execute_result"
    }
   ],
   "source": [
    "subjects  = ['math', 'history', 'english', 'computer engineering']\n",
    "scores = [90, 80, 95, 100]\n",
    "\n",
    "def list_(subjects, scores):\n",
    "    {k:v for k,v in zip(subjects, scores)}\n",
    "    return {k:v for k,v in zip(subjects, scores)}\n",
    "\n",
    "list_(subjects, scores)"
   ]
  },
  {
   "cell_type": "code",
   "execution_count": null,
   "metadata": {},
   "outputs": [],
   "source": [
    "# 튜플 리스트를 dict 형태로 변환하는 DC\n",
    "# >>> score_tuples = [('math', 90), ('history', 80), ('english', 95), ('computer engineering', 100)]\n",
    "\n",
    "# 결과는 이렇게 나와야 합니다. \n",
    "# {'math': 90, 'history': 80, 'english': 95, 'computer engineering': 100}"
   ]
  },
  {
   "cell_type": "code",
   "execution_count": 23,
   "metadata": {},
   "outputs": [
    {
     "data": {
      "text/plain": [
       "{'math': 90, 'history': 80, 'english': 95, 'computer engineering': 100}"
      ]
     },
     "execution_count": 23,
     "metadata": {},
     "output_type": "execute_result"
    }
   ],
   "source": [
    "score_tuples = [('math', 90), ('history', 80), ('english', 95), ('computer engineering', 100)]\n",
    "def dict_(score_tuples):\n",
    "    return {k:v for k,v in score_tuples}\n",
    "dict_(score_tuples)"
   ]
  },
  {
   "cell_type": "code",
   "execution_count": null,
   "metadata": {},
   "outputs": [],
   "source": [
    "# 민주님 코드 개인적으로 간지쩐다고 생각 \n",
    "def no_vowels(word):\n",
    "    vowels = ['a', 'e', 'i', 'o', 'u']\n",
    "\n",
    "    return ''.join([x for x in word if x not in vowels])\n",
    "\n",
    "\n",
    "def all_scores(subjects, scores):\n",
    "    return {x:y for x in subjects for y in scores}\n",
    "\n",
    "\n",
    "def tuple_to_dict(array):\n",
    "    return {x[0]:x[1] for x in array}"
   ]
  },
  {
   "cell_type": "code",
   "execution_count": null,
   "metadata": {},
   "outputs": [],
   "source": []
  }
 ],
 "metadata": {
  "kernelspec": {
   "display_name": "Python 3",
   "language": "python",
   "name": "python3"
  },
  "language_info": {
   "codemirror_mode": {
    "name": "ipython",
    "version": 3
   },
   "file_extension": ".py",
   "mimetype": "text/x-python",
   "name": "python",
   "nbconvert_exporter": "python",
   "pygments_lexer": "ipython3",
   "version": "3.7.4"
  }
 },
 "nbformat": 4,
 "nbformat_minor": 2
}
