{
 "cells": [
  {
   "cell_type": "code",
   "execution_count": 1,
   "metadata": {},
   "outputs": [],
   "source": [
    "import pandas as pd\n",
    "import numpy as np\n",
    "import seaborn as sns\n",
    "import folium\n",
    "%matplotlib inline\n",
    "import os\n",
    "import requests\n",
    "# LOCATIONIQ_TOKEN = os.environ['LOCATIONIQ_TOKEN']\n"
   ]
  },
  {
   "cell_type": "code",
   "execution_count": 2,
   "metadata": {},
   "outputs": [],
   "source": [
    "import matplotlib.pyplot as plt\n",
    "from IPython.display import set_matplotlib_formats\n",
    "# Window 의 한글 폰트 설정\n",
    "# plt.rc('font',family='Malgun Gothic')\n",
    "# Mac 의 한글 폰트 설정\n",
    "plt.rc('font', family='AppleGothic') \n",
    "plt.rc('axes', unicode_minus=False)\n",
    "\n",
    "set_matplotlib_formats('retina')\n"
   ]
  },
  {
   "cell_type": "code",
   "execution_count": 3,
   "metadata": {},
   "outputs": [],
   "source": [
    "a = pd.read_csv('상권배후지-추정유동인구(2019년).csv', encoding='CP949')"
   ]
  },
  {
   "cell_type": "code",
   "execution_count": null,
   "metadata": {},
   "outputs": [],
   "source": [
    "# 행정동별 인구수 코로플레스 맵 만들기\n",
    "\n",
    "# 시계열 인구 변화 보기\n",
    "\n",
    "# 거주자 수 기준 유출입 인구 변화 보여주기\n",
    "\n",
    "# 선택한 행정동의 성별, 연령대별 인구수 그래프 추가하기\n",
    "\n",
    "# 시계열 인구수를 한 눈에 볼 수 있는 히트맵 그리기\n",
    "\n",
    "# 성별,연령 필터 만들기\n",
    "\n",
    "# 4의 인구수 그래프를 생활 인구수-거주자수 range area chart 로 표시하기\n"
   ]
  },
  {
   "cell_type": "code",
   "execution_count": 4,
   "metadata": {},
   "outputs": [
    {
     "data": {
      "text/html": [
       "<div>\n",
       "<style scoped>\n",
       "    .dataframe tbody tr th:only-of-type {\n",
       "        vertical-align: middle;\n",
       "    }\n",
       "\n",
       "    .dataframe tbody tr th {\n",
       "        vertical-align: top;\n",
       "    }\n",
       "\n",
       "    .dataframe thead th {\n",
       "        text-align: right;\n",
       "    }\n",
       "</style>\n",
       "<table border=\"1\" class=\"dataframe\">\n",
       "  <thead>\n",
       "    <tr style=\"text-align: right;\">\n",
       "      <th></th>\n",
       "      <th>stdr_yy_cd</th>\n",
       "      <th>stdr_qu_cd</th>\n",
       "      <th>trdar_se_cd</th>\n",
       "      <th>trdar_se_cd_nm</th>\n",
       "      <th>trdar_cd</th>\n",
       "      <th>trdar_cd_nm</th>\n",
       "      <th>tot_flpop_co</th>\n",
       "      <th>ml_flpop_co</th>\n",
       "      <th>fml_flpop_co</th>\n",
       "      <th>agrde_10_flpop_co</th>\n",
       "      <th>...</th>\n",
       "      <th>fag_60_above_sattm_3_flpop_co</th>\n",
       "      <th>fag_60_above_sattm_4_flpop_co</th>\n",
       "      <th>fag_60_above_sattm_5_flpop_co</th>\n",
       "      <th>fag_60_above_sattm_6_flpop_co</th>\n",
       "      <th>fag_60_above_suntm_1_flpop_co</th>\n",
       "      <th>fag_60_above_suntm_2_flpop_co</th>\n",
       "      <th>fag_60_above_suntm_3_flpop_co</th>\n",
       "      <th>fag_60_above_suntm_4_flpop_co</th>\n",
       "      <th>fag_60_above_suntm_5_flpop_co</th>\n",
       "      <th>fag_60_above_suntm_6_flpop_co</th>\n",
       "    </tr>\n",
       "  </thead>\n",
       "  <tbody>\n",
       "    <tr>\n",
       "      <th>0</th>\n",
       "      <td>2019</td>\n",
       "      <td>1</td>\n",
       "      <td>A</td>\n",
       "      <td>골목상권</td>\n",
       "      <td>1000948</td>\n",
       "      <td>백제고분로34길</td>\n",
       "      <td>891686</td>\n",
       "      <td>458778</td>\n",
       "      <td>432913</td>\n",
       "      <td>27424</td>\n",
       "      <td>...</td>\n",
       "      <td>1494</td>\n",
       "      <td>1363</td>\n",
       "      <td>1537</td>\n",
       "      <td>854</td>\n",
       "      <td>1393</td>\n",
       "      <td>1941</td>\n",
       "      <td>1944</td>\n",
       "      <td>1515</td>\n",
       "      <td>1383</td>\n",
       "      <td>668</td>\n",
       "    </tr>\n",
       "    <tr>\n",
       "      <th>1</th>\n",
       "      <td>2019</td>\n",
       "      <td>1</td>\n",
       "      <td>A</td>\n",
       "      <td>골목상권</td>\n",
       "      <td>1000949</td>\n",
       "      <td>백제고분로39길</td>\n",
       "      <td>1350290</td>\n",
       "      <td>664267</td>\n",
       "      <td>686024</td>\n",
       "      <td>60609</td>\n",
       "      <td>...</td>\n",
       "      <td>2645</td>\n",
       "      <td>2297</td>\n",
       "      <td>2477</td>\n",
       "      <td>1124</td>\n",
       "      <td>1707</td>\n",
       "      <td>2509</td>\n",
       "      <td>3710</td>\n",
       "      <td>2505</td>\n",
       "      <td>2157</td>\n",
       "      <td>883</td>\n",
       "    </tr>\n",
       "    <tr>\n",
       "      <th>2</th>\n",
       "      <td>2019</td>\n",
       "      <td>1</td>\n",
       "      <td>A</td>\n",
       "      <td>골목상권</td>\n",
       "      <td>1000950</td>\n",
       "      <td>백제고분로42길</td>\n",
       "      <td>1537065</td>\n",
       "      <td>746194</td>\n",
       "      <td>790871</td>\n",
       "      <td>107321</td>\n",
       "      <td>...</td>\n",
       "      <td>2662</td>\n",
       "      <td>2604</td>\n",
       "      <td>2928</td>\n",
       "      <td>1373</td>\n",
       "      <td>2269</td>\n",
       "      <td>2591</td>\n",
       "      <td>2612</td>\n",
       "      <td>2503</td>\n",
       "      <td>2554</td>\n",
       "      <td>1098</td>\n",
       "    </tr>\n",
       "    <tr>\n",
       "      <th>3</th>\n",
       "      <td>2019</td>\n",
       "      <td>1</td>\n",
       "      <td>A</td>\n",
       "      <td>골목상권</td>\n",
       "      <td>1000951</td>\n",
       "      <td>백제고분로45길</td>\n",
       "      <td>2034278</td>\n",
       "      <td>1011486</td>\n",
       "      <td>1022793</td>\n",
       "      <td>80721</td>\n",
       "      <td>...</td>\n",
       "      <td>3303</td>\n",
       "      <td>3096</td>\n",
       "      <td>3915</td>\n",
       "      <td>1923</td>\n",
       "      <td>3015</td>\n",
       "      <td>3072</td>\n",
       "      <td>3108</td>\n",
       "      <td>2935</td>\n",
       "      <td>3532</td>\n",
       "      <td>1630</td>\n",
       "    </tr>\n",
       "    <tr>\n",
       "      <th>4</th>\n",
       "      <td>2019</td>\n",
       "      <td>1</td>\n",
       "      <td>A</td>\n",
       "      <td>골목상권</td>\n",
       "      <td>1000952</td>\n",
       "      <td>백제고분로46길</td>\n",
       "      <td>1700466</td>\n",
       "      <td>832267</td>\n",
       "      <td>868198</td>\n",
       "      <td>109671</td>\n",
       "      <td>...</td>\n",
       "      <td>3110</td>\n",
       "      <td>3028</td>\n",
       "      <td>3634</td>\n",
       "      <td>1954</td>\n",
       "      <td>3414</td>\n",
       "      <td>3803</td>\n",
       "      <td>3472</td>\n",
       "      <td>2991</td>\n",
       "      <td>3483</td>\n",
       "      <td>1781</td>\n",
       "    </tr>\n",
       "  </tbody>\n",
       "</table>\n",
       "<p>5 rows × 532 columns</p>\n",
       "</div>"
      ],
      "text/plain": [
       "   stdr_yy_cd  stdr_qu_cd trdar_se_cd trdar_se_cd_nm  trdar_cd trdar_cd_nm  \\\n",
       "0        2019           1           A           골목상권   1000948    백제고분로34길   \n",
       "1        2019           1           A           골목상권   1000949    백제고분로39길   \n",
       "2        2019           1           A           골목상권   1000950    백제고분로42길   \n",
       "3        2019           1           A           골목상권   1000951    백제고분로45길   \n",
       "4        2019           1           A           골목상권   1000952    백제고분로46길   \n",
       "\n",
       "   tot_flpop_co  ml_flpop_co  fml_flpop_co  agrde_10_flpop_co  ...  \\\n",
       "0        891686       458778        432913              27424  ...   \n",
       "1       1350290       664267        686024              60609  ...   \n",
       "2       1537065       746194        790871             107321  ...   \n",
       "3       2034278      1011486       1022793              80721  ...   \n",
       "4       1700466       832267        868198             109671  ...   \n",
       "\n",
       "   fag_60_above_sattm_3_flpop_co  fag_60_above_sattm_4_flpop_co  \\\n",
       "0                           1494                           1363   \n",
       "1                           2645                           2297   \n",
       "2                           2662                           2604   \n",
       "3                           3303                           3096   \n",
       "4                           3110                           3028   \n",
       "\n",
       "   fag_60_above_sattm_5_flpop_co  fag_60_above_sattm_6_flpop_co  \\\n",
       "0                           1537                            854   \n",
       "1                           2477                           1124   \n",
       "2                           2928                           1373   \n",
       "3                           3915                           1923   \n",
       "4                           3634                           1954   \n",
       "\n",
       "   fag_60_above_suntm_1_flpop_co  fag_60_above_suntm_2_flpop_co  \\\n",
       "0                           1393                           1941   \n",
       "1                           1707                           2509   \n",
       "2                           2269                           2591   \n",
       "3                           3015                           3072   \n",
       "4                           3414                           3803   \n",
       "\n",
       "   fag_60_above_suntm_3_flpop_co  fag_60_above_suntm_4_flpop_co  \\\n",
       "0                           1944                           1515   \n",
       "1                           3710                           2505   \n",
       "2                           2612                           2503   \n",
       "3                           3108                           2935   \n",
       "4                           3472                           2991   \n",
       "\n",
       "   fag_60_above_suntm_5_flpop_co  fag_60_above_suntm_6_flpop_co  \n",
       "0                           1383                            668  \n",
       "1                           2157                            883  \n",
       "2                           2554                           1098  \n",
       "3                           3532                           1630  \n",
       "4                           3483                           1781  \n",
       "\n",
       "[5 rows x 532 columns]"
      ]
     },
     "execution_count": 4,
     "metadata": {},
     "output_type": "execute_result"
    }
   ],
   "source": [
    "a.head()"
   ]
  },
  {
   "cell_type": "code",
   "execution_count": 9,
   "metadata": {
    "collapsed": true
   },
   "outputs": [
    {
     "data": {
      "text/plain": [
       "(1010, 532)"
      ]
     },
     "execution_count": 9,
     "metadata": {},
     "output_type": "execute_result"
    }
   ],
   "source": [
    "a.shape"
   ]
  },
  {
   "cell_type": "code",
   "execution_count": 35,
   "metadata": {},
   "outputs": [
    {
     "data": {
      "text/plain": [
       "Index(['stdr_yy_cd', 'stdr_qu_cd', 'trdar_se_cd', 'trdar_se_cd_nm', 'trdar_cd',\n",
       "       'trdar_cd_nm', 'tot_flpop_co', 'ml_flpop_co', 'fml_flpop_co',\n",
       "       'agrde_10_flpop_co',\n",
       "       ...\n",
       "       'fag_60_above_sattm_3_flpop_co', 'fag_60_above_sattm_4_flpop_co',\n",
       "       'fag_60_above_sattm_5_flpop_co', 'fag_60_above_sattm_6_flpop_co',\n",
       "       'fag_60_above_suntm_1_flpop_co', 'fag_60_above_suntm_2_flpop_co',\n",
       "       'fag_60_above_suntm_3_flpop_co', 'fag_60_above_suntm_4_flpop_co',\n",
       "       'fag_60_above_suntm_5_flpop_co', 'fag_60_above_suntm_6_flpop_co'],\n",
       "      dtype='object', length=532)"
      ]
     },
     "execution_count": 35,
     "metadata": {},
     "output_type": "execute_result"
    }
   ],
   "source": [
    "a.columns"
   ]
  },
  {
   "cell_type": "code",
   "execution_count": 11,
   "metadata": {
    "collapsed": true
   },
   "outputs": [
    {
     "data": {
      "text/plain": [
       "stdr_yy_cd                       0\n",
       "stdr_qu_cd                       0\n",
       "trdar_se_cd                      0\n",
       "trdar_se_cd_nm                   0\n",
       "trdar_cd                         0\n",
       "                                ..\n",
       "fag_60_above_suntm_2_flpop_co    0\n",
       "fag_60_above_suntm_3_flpop_co    0\n",
       "fag_60_above_suntm_4_flpop_co    0\n",
       "fag_60_above_suntm_5_flpop_co    0\n",
       "fag_60_above_suntm_6_flpop_co    0\n",
       "Length: 532, dtype: int64"
      ]
     },
     "execution_count": 11,
     "metadata": {},
     "output_type": "execute_result"
    }
   ],
   "source": [
    "a.isnull().sum()"
   ]
  },
  {
   "cell_type": "code",
   "execution_count": 5,
   "metadata": {},
   "outputs": [],
   "source": [
    "a1 = ['trdar_cd_nm','tot_flpop_co','ml_flpop_co'\n",
    "      ,'fml_flpop_co','agrde_10_flpop_co','agrde_20_flpop_co','agrde_30_flpop_co','agrde_40_flpop_co'\n",
    "      ,'agrde_50_flpop_co','agrde_60_above_flpop_co']\n",
    "aa = a[a1]"
   ]
  },
  {
   "cell_type": "code",
   "execution_count": 46,
   "metadata": {},
   "outputs": [
    {
     "data": {
      "text/plain": [
       "array(['백제고분로34길', '백제고분로39길', '백제고분로42길', ..., '천호옛14길', '천호옛길',\n",
       "       '풍성로37가길'], dtype=object)"
      ]
     },
     "execution_count": 46,
     "metadata": {},
     "output_type": "execute_result"
    }
   ],
   "source": [
    "aa['trdar_cd_nm'].unique()"
   ]
  },
  {
   "cell_type": "code",
   "execution_count": 47,
   "metadata": {},
   "outputs": [
    {
     "data": {
      "text/plain": [
       "Index(['trdar_cd_nm', 'tot_flpop_co', 'ml_flpop_co', 'fml_flpop_co',\n",
       "       'agrde_10_flpop_co', 'agrde_20_flpop_co', 'agrde_30_flpop_co',\n",
       "       'agrde_40_flpop_co', 'agrde_50_flpop_co', 'agrde_60_above_flpop_co'],\n",
       "      dtype='object')"
      ]
     },
     "execution_count": 47,
     "metadata": {},
     "output_type": "execute_result"
    }
   ],
   "source": [
    "aa.columns"
   ]
  },
  {
   "cell_type": "code",
   "execution_count": 6,
   "metadata": {},
   "outputs": [
    {
     "data": {
      "text/plain": [
       "((1010, 10), (1010, 10))"
      ]
     },
     "execution_count": 6,
     "metadata": {},
     "output_type": "execute_result"
    }
   ],
   "source": [
    "address_df = aa[pd.notnull(aa['trdar_cd_nm'])]\n",
    "\n",
    "aa.shape, address_df.shape\n"
   ]
  },
  {
   "cell_type": "code",
   "execution_count": 12,
   "metadata": {},
   "outputs": [
    {
     "data": {
      "text/plain": [
       "300"
      ]
     },
     "execution_count": 12,
     "metadata": {},
     "output_type": "execute_result"
    }
   ],
   "source": [
    "len(aa['trdar_cd_nm'])"
   ]
  },
  {
   "cell_type": "code",
   "execution_count": 13,
   "metadata": {},
   "outputs": [
    {
     "data": {
      "text/plain": [
       "'백제고분로39길'"
      ]
     },
     "execution_count": 13,
     "metadata": {},
     "output_type": "execute_result"
    }
   ],
   "source": [
    "address_df['trdar_cd_nm'][1]"
   ]
  },
  {
   "cell_type": "code",
   "execution_count": 9,
   "metadata": {},
   "outputs": [],
   "source": [
    "from geocoder import geocode\n",
    "# key = os.environ['KAKAO_REST_API_KEY']"
   ]
  },
  {
   "cell_type": "code",
   "execution_count": 23,
   "metadata": {},
   "outputs": [
    {
     "ename": "TypeError",
     "evalue": "'NoneType' object is not subscriptable",
     "output_type": "error",
     "traceback": [
      "\u001b[0;31m---------------------------------------------------------------------------\u001b[0m",
      "\u001b[0;31mTypeError\u001b[0m                                 Traceback (most recent call last)",
      "\u001b[0;32m<ipython-input-23-c80c8abf280a>\u001b[0m in \u001b[0;36m<module>\u001b[0;34m\u001b[0m\n\u001b[1;32m     10\u001b[0m     \u001b[0;32mreturn\u001b[0m \u001b[0mfloat\u001b[0m\u001b[0;34m(\u001b[0m\u001b[0maddress\u001b[0m\u001b[0;34m[\u001b[0m\u001b[0;34m'y'\u001b[0m\u001b[0;34m]\u001b[0m\u001b[0;34m)\u001b[0m\u001b[0;34m,\u001b[0m \u001b[0mfloat\u001b[0m\u001b[0;34m(\u001b[0m\u001b[0maddress\u001b[0m\u001b[0;34m[\u001b[0m\u001b[0;34m'x'\u001b[0m\u001b[0;34m]\u001b[0m\u001b[0;34m)\u001b[0m\u001b[0;34m\u001b[0m\u001b[0;34m\u001b[0m\u001b[0m\n\u001b[1;32m     11\u001b[0m \u001b[0;34m\u001b[0m\u001b[0m\n\u001b[0;32m---> 12\u001b[0;31m \u001b[0mgeocode\u001b[0m\u001b[0;34m(\u001b[0m\u001b[0;34m'풍성로37가길'\u001b[0m\u001b[0;34m)\u001b[0m\u001b[0;34m\u001b[0m\u001b[0;34m\u001b[0m\u001b[0m\n\u001b[0m",
      "\u001b[0;32m<ipython-input-23-c80c8abf280a>\u001b[0m in \u001b[0;36mgeocode\u001b[0;34m(address)\u001b[0m\n\u001b[1;32m      8\u001b[0m         \u001b[0;32mreturn\u001b[0m \u001b[0;32mNone\u001b[0m\u001b[0;34m,\u001b[0m \u001b[0;32mNone\u001b[0m\u001b[0;34m\u001b[0m\u001b[0;34m\u001b[0m\u001b[0m\n\u001b[1;32m      9\u001b[0m     \u001b[0maddress\u001b[0m \u001b[0;34m=\u001b[0m \u001b[0mresults\u001b[0m\u001b[0;34m[\u001b[0m\u001b[0;36m0\u001b[0m\u001b[0;34m]\u001b[0m\u001b[0;34m[\u001b[0m\u001b[0;34m'address'\u001b[0m\u001b[0;34m]\u001b[0m\u001b[0;34m\u001b[0m\u001b[0;34m\u001b[0m\u001b[0m\n\u001b[0;32m---> 10\u001b[0;31m     \u001b[0;32mreturn\u001b[0m \u001b[0mfloat\u001b[0m\u001b[0;34m(\u001b[0m\u001b[0maddress\u001b[0m\u001b[0;34m[\u001b[0m\u001b[0;34m'y'\u001b[0m\u001b[0;34m]\u001b[0m\u001b[0;34m)\u001b[0m\u001b[0;34m,\u001b[0m \u001b[0mfloat\u001b[0m\u001b[0;34m(\u001b[0m\u001b[0maddress\u001b[0m\u001b[0;34m[\u001b[0m\u001b[0;34m'x'\u001b[0m\u001b[0;34m]\u001b[0m\u001b[0;34m)\u001b[0m\u001b[0;34m\u001b[0m\u001b[0;34m\u001b[0m\u001b[0m\n\u001b[0m\u001b[1;32m     11\u001b[0m \u001b[0;34m\u001b[0m\u001b[0m\n\u001b[1;32m     12\u001b[0m \u001b[0mgeocode\u001b[0m\u001b[0;34m(\u001b[0m\u001b[0;34m'풍성로37가길'\u001b[0m\u001b[0;34m)\u001b[0m\u001b[0;34m\u001b[0m\u001b[0;34m\u001b[0m\u001b[0m\n",
      "\u001b[0;31mTypeError\u001b[0m: 'NoneType' object is not subscriptable"
     ]
    }
   ],
   "source": [
    "def geocode(address):\n",
    "    url = 'https://dapi.kakao.com/v2/local/search/address.json'\n",
    "    params = {'query': address}\n",
    "    headers = {'Authorization': 'KakaoAK ' + key}\n",
    "    r = requests.get(url, params=params, headers=headers) #get: url 주소 쳐서 이동하는 것\n",
    "    results = r.json()['documents']\n",
    "    if not results:\n",
    "        return None, None\n",
    "    address = results[0]['address']\n",
    "    return float(address['y']), float(address['x'])\n",
    "\n",
    "geocode('풍성로37가길')"
   ]
  },
  {
   "cell_type": "code",
   "execution_count": 21,
   "metadata": {},
   "outputs": [
    {
     "data": {
      "text/plain": [
       "trdar_cd_nm            흑석로9길\n",
       "tot_flpop_co         7673090\n",
       "ml_flpop_co          4038509\n",
       "fml_flpop_co         3634580\n",
       "agrde_20_flpop_co    2689987\n",
       "agrde_30_flpop_co    1981529\n",
       "agrde_40_flpop_co    1578402\n",
       "agrde_50_flpop_co    1211469\n",
       "dtype: object"
      ]
     },
     "execution_count": 21,
     "metadata": {},
     "output_type": "execute_result"
    }
   ],
   "source": [
    "aa.max()"
   ]
  },
  {
   "cell_type": "code",
   "execution_count": 22,
   "metadata": {},
   "outputs": [
    {
     "data": {
      "text/html": [
       "<div>\n",
       "<style scoped>\n",
       "    .dataframe tbody tr th:only-of-type {\n",
       "        vertical-align: middle;\n",
       "    }\n",
       "\n",
       "    .dataframe tbody tr th {\n",
       "        vertical-align: top;\n",
       "    }\n",
       "\n",
       "    .dataframe thead th {\n",
       "        text-align: right;\n",
       "    }\n",
       "</style>\n",
       "<table border=\"1\" class=\"dataframe\">\n",
       "  <thead>\n",
       "    <tr style=\"text-align: right;\">\n",
       "      <th></th>\n",
       "      <th>trdar_cd_nm</th>\n",
       "      <th>tot_flpop_co</th>\n",
       "      <th>ml_flpop_co</th>\n",
       "      <th>fml_flpop_co</th>\n",
       "      <th>agrde_20_flpop_co</th>\n",
       "      <th>agrde_30_flpop_co</th>\n",
       "      <th>agrde_40_flpop_co</th>\n",
       "      <th>agrde_50_flpop_co</th>\n",
       "    </tr>\n",
       "  </thead>\n",
       "  <tbody>\n",
       "    <tr>\n",
       "      <th>488</th>\n",
       "      <td>북아현로4길</td>\n",
       "      <td>7673090</td>\n",
       "      <td>4038509</td>\n",
       "      <td>3634580</td>\n",
       "      <td>1801593</td>\n",
       "      <td>1981529</td>\n",
       "      <td>1578402</td>\n",
       "      <td>1207046</td>\n",
       "    </tr>\n",
       "  </tbody>\n",
       "</table>\n",
       "</div>"
      ],
      "text/plain": [
       "    trdar_cd_nm  tot_flpop_co  ml_flpop_co  fml_flpop_co  agrde_20_flpop_co  \\\n",
       "488      북아현로4길       7673090      4038509       3634580            1801593   \n",
       "\n",
       "     agrde_30_flpop_co  agrde_40_flpop_co  agrde_50_flpop_co  \n",
       "488            1981529            1578402            1207046  "
      ]
     },
     "execution_count": 22,
     "metadata": {},
     "output_type": "execute_result"
    }
   ],
   "source": [
    "aa[aa['tot_flpop_co'] == 7673090]"
   ]
  },
  {
   "cell_type": "code",
   "execution_count": 23,
   "metadata": {},
   "outputs": [
    {
     "data": {
      "text/html": [
       "<div>\n",
       "<style scoped>\n",
       "    .dataframe tbody tr th:only-of-type {\n",
       "        vertical-align: middle;\n",
       "    }\n",
       "\n",
       "    .dataframe tbody tr th {\n",
       "        vertical-align: top;\n",
       "    }\n",
       "\n",
       "    .dataframe thead th {\n",
       "        text-align: right;\n",
       "    }\n",
       "</style>\n",
       "<table border=\"1\" class=\"dataframe\">\n",
       "  <thead>\n",
       "    <tr style=\"text-align: right;\">\n",
       "      <th></th>\n",
       "      <th>trdar_cd_nm</th>\n",
       "      <th>tot_flpop_co</th>\n",
       "      <th>ml_flpop_co</th>\n",
       "      <th>fml_flpop_co</th>\n",
       "      <th>agrde_20_flpop_co</th>\n",
       "      <th>agrde_30_flpop_co</th>\n",
       "      <th>agrde_40_flpop_co</th>\n",
       "      <th>agrde_50_flpop_co</th>\n",
       "    </tr>\n",
       "  </thead>\n",
       "  <tbody>\n",
       "    <tr>\n",
       "      <th>488</th>\n",
       "      <td>북아현로4길</td>\n",
       "      <td>7673090</td>\n",
       "      <td>4038509</td>\n",
       "      <td>3634580</td>\n",
       "      <td>1801593</td>\n",
       "      <td>1981529</td>\n",
       "      <td>1578402</td>\n",
       "      <td>1207046</td>\n",
       "    </tr>\n",
       "  </tbody>\n",
       "</table>\n",
       "</div>"
      ],
      "text/plain": [
       "    trdar_cd_nm  tot_flpop_co  ml_flpop_co  fml_flpop_co  agrde_20_flpop_co  \\\n",
       "488      북아현로4길       7673090      4038509       3634580            1801593   \n",
       "\n",
       "     agrde_30_flpop_co  agrde_40_flpop_co  agrde_50_flpop_co  \n",
       "488            1981529            1578402            1207046  "
      ]
     },
     "execution_count": 23,
     "metadata": {},
     "output_type": "execute_result"
    }
   ],
   "source": [
    "aa[aa['ml_flpop_co'] ==4038509 ]"
   ]
  },
  {
   "cell_type": "code",
   "execution_count": 24,
   "metadata": {},
   "outputs": [
    {
     "data": {
      "text/html": [
       "<div>\n",
       "<style scoped>\n",
       "    .dataframe tbody tr th:only-of-type {\n",
       "        vertical-align: middle;\n",
       "    }\n",
       "\n",
       "    .dataframe tbody tr th {\n",
       "        vertical-align: top;\n",
       "    }\n",
       "\n",
       "    .dataframe thead th {\n",
       "        text-align: right;\n",
       "    }\n",
       "</style>\n",
       "<table border=\"1\" class=\"dataframe\">\n",
       "  <thead>\n",
       "    <tr style=\"text-align: right;\">\n",
       "      <th></th>\n",
       "      <th>trdar_cd_nm</th>\n",
       "      <th>tot_flpop_co</th>\n",
       "      <th>ml_flpop_co</th>\n",
       "      <th>fml_flpop_co</th>\n",
       "      <th>agrde_20_flpop_co</th>\n",
       "      <th>agrde_30_flpop_co</th>\n",
       "      <th>agrde_40_flpop_co</th>\n",
       "      <th>agrde_50_flpop_co</th>\n",
       "    </tr>\n",
       "  </thead>\n",
       "  <tbody>\n",
       "    <tr>\n",
       "      <th>508</th>\n",
       "      <td>대흥로21길</td>\n",
       "      <td>5303738</td>\n",
       "      <td>2346641</td>\n",
       "      <td>2957101</td>\n",
       "      <td>2689987</td>\n",
       "      <td>802295</td>\n",
       "      <td>519484</td>\n",
       "      <td>507690</td>\n",
       "    </tr>\n",
       "  </tbody>\n",
       "</table>\n",
       "</div>"
      ],
      "text/plain": [
       "    trdar_cd_nm  tot_flpop_co  ml_flpop_co  fml_flpop_co  agrde_20_flpop_co  \\\n",
       "508      대흥로21길       5303738      2346641       2957101            2689987   \n",
       "\n",
       "     agrde_30_flpop_co  agrde_40_flpop_co  agrde_50_flpop_co  \n",
       "508             802295             519484             507690  "
      ]
     },
     "execution_count": 24,
     "metadata": {},
     "output_type": "execute_result"
    }
   ],
   "source": [
    "aa[aa['agrde_20_flpop_co'] == 2689987] #마포구"
   ]
  },
  {
   "cell_type": "code",
   "execution_count": 25,
   "metadata": {},
   "outputs": [
    {
     "data": {
      "text/html": [
       "<div>\n",
       "<style scoped>\n",
       "    .dataframe tbody tr th:only-of-type {\n",
       "        vertical-align: middle;\n",
       "    }\n",
       "\n",
       "    .dataframe tbody tr th {\n",
       "        vertical-align: top;\n",
       "    }\n",
       "\n",
       "    .dataframe thead th {\n",
       "        text-align: right;\n",
       "    }\n",
       "</style>\n",
       "<table border=\"1\" class=\"dataframe\">\n",
       "  <thead>\n",
       "    <tr style=\"text-align: right;\">\n",
       "      <th></th>\n",
       "      <th>trdar_cd_nm</th>\n",
       "      <th>tot_flpop_co</th>\n",
       "      <th>ml_flpop_co</th>\n",
       "      <th>fml_flpop_co</th>\n",
       "      <th>agrde_20_flpop_co</th>\n",
       "      <th>agrde_30_flpop_co</th>\n",
       "      <th>agrde_40_flpop_co</th>\n",
       "      <th>agrde_50_flpop_co</th>\n",
       "    </tr>\n",
       "  </thead>\n",
       "  <tbody>\n",
       "    <tr>\n",
       "      <th>488</th>\n",
       "      <td>북아현로4길</td>\n",
       "      <td>7673090</td>\n",
       "      <td>4038509</td>\n",
       "      <td>3634580</td>\n",
       "      <td>1801593</td>\n",
       "      <td>1981529</td>\n",
       "      <td>1578402</td>\n",
       "      <td>1207046</td>\n",
       "    </tr>\n",
       "  </tbody>\n",
       "</table>\n",
       "</div>"
      ],
      "text/plain": [
       "    trdar_cd_nm  tot_flpop_co  ml_flpop_co  fml_flpop_co  agrde_20_flpop_co  \\\n",
       "488      북아현로4길       7673090      4038509       3634580            1801593   \n",
       "\n",
       "     agrde_30_flpop_co  agrde_40_flpop_co  agrde_50_flpop_co  \n",
       "488            1981529            1578402            1207046  "
      ]
     },
     "execution_count": 25,
     "metadata": {},
     "output_type": "execute_result"
    }
   ],
   "source": [
    "aa[aa['agrde_30_flpop_co'] == 1981529] #서대문구"
   ]
  },
  {
   "cell_type": "code",
   "execution_count": 26,
   "metadata": {},
   "outputs": [
    {
     "data": {
      "text/html": [
       "<div>\n",
       "<style scoped>\n",
       "    .dataframe tbody tr th:only-of-type {\n",
       "        vertical-align: middle;\n",
       "    }\n",
       "\n",
       "    .dataframe tbody tr th {\n",
       "        vertical-align: top;\n",
       "    }\n",
       "\n",
       "    .dataframe thead th {\n",
       "        text-align: right;\n",
       "    }\n",
       "</style>\n",
       "<table border=\"1\" class=\"dataframe\">\n",
       "  <thead>\n",
       "    <tr style=\"text-align: right;\">\n",
       "      <th></th>\n",
       "      <th>trdar_cd_nm</th>\n",
       "      <th>tot_flpop_co</th>\n",
       "      <th>ml_flpop_co</th>\n",
       "      <th>fml_flpop_co</th>\n",
       "      <th>agrde_20_flpop_co</th>\n",
       "      <th>agrde_30_flpop_co</th>\n",
       "      <th>agrde_40_flpop_co</th>\n",
       "      <th>agrde_50_flpop_co</th>\n",
       "    </tr>\n",
       "  </thead>\n",
       "  <tbody>\n",
       "    <tr>\n",
       "      <th>488</th>\n",
       "      <td>북아현로4길</td>\n",
       "      <td>7673090</td>\n",
       "      <td>4038509</td>\n",
       "      <td>3634580</td>\n",
       "      <td>1801593</td>\n",
       "      <td>1981529</td>\n",
       "      <td>1578402</td>\n",
       "      <td>1207046</td>\n",
       "    </tr>\n",
       "  </tbody>\n",
       "</table>\n",
       "</div>"
      ],
      "text/plain": [
       "    trdar_cd_nm  tot_flpop_co  ml_flpop_co  fml_flpop_co  agrde_20_flpop_co  \\\n",
       "488      북아현로4길       7673090      4038509       3634580            1801593   \n",
       "\n",
       "     agrde_30_flpop_co  agrde_40_flpop_co  agrde_50_flpop_co  \n",
       "488            1981529            1578402            1207046  "
      ]
     },
     "execution_count": 26,
     "metadata": {},
     "output_type": "execute_result"
    }
   ],
   "source": [
    "aa[aa['agrde_40_flpop_co'] == 1578402]"
   ]
  },
  {
   "cell_type": "code",
   "execution_count": 27,
   "metadata": {},
   "outputs": [
    {
     "data": {
      "text/html": [
       "<div>\n",
       "<style scoped>\n",
       "    .dataframe tbody tr th:only-of-type {\n",
       "        vertical-align: middle;\n",
       "    }\n",
       "\n",
       "    .dataframe tbody tr th {\n",
       "        vertical-align: top;\n",
       "    }\n",
       "\n",
       "    .dataframe thead th {\n",
       "        text-align: right;\n",
       "    }\n",
       "</style>\n",
       "<table border=\"1\" class=\"dataframe\">\n",
       "  <thead>\n",
       "    <tr style=\"text-align: right;\">\n",
       "      <th></th>\n",
       "      <th>trdar_cd_nm</th>\n",
       "      <th>tot_flpop_co</th>\n",
       "      <th>ml_flpop_co</th>\n",
       "      <th>fml_flpop_co</th>\n",
       "      <th>agrde_20_flpop_co</th>\n",
       "      <th>agrde_30_flpop_co</th>\n",
       "      <th>agrde_40_flpop_co</th>\n",
       "      <th>agrde_50_flpop_co</th>\n",
       "    </tr>\n",
       "  </thead>\n",
       "  <tbody>\n",
       "    <tr>\n",
       "      <th>493</th>\n",
       "      <td>신촌로37길</td>\n",
       "      <td>7591396</td>\n",
       "      <td>3958952</td>\n",
       "      <td>3632443</td>\n",
       "      <td>1768195</td>\n",
       "      <td>1951495</td>\n",
       "      <td>1555277</td>\n",
       "      <td>1211469</td>\n",
       "    </tr>\n",
       "  </tbody>\n",
       "</table>\n",
       "</div>"
      ],
      "text/plain": [
       "    trdar_cd_nm  tot_flpop_co  ml_flpop_co  fml_flpop_co  agrde_20_flpop_co  \\\n",
       "493      신촌로37길       7591396      3958952       3632443            1768195   \n",
       "\n",
       "     agrde_30_flpop_co  agrde_40_flpop_co  agrde_50_flpop_co  \n",
       "493            1951495            1555277            1211469  "
      ]
     },
     "execution_count": 27,
     "metadata": {},
     "output_type": "execute_result"
    }
   ],
   "source": [
    "aa[aa['agrde_50_flpop_co'] == 1211469]"
   ]
  },
  {
   "cell_type": "code",
   "execution_count": null,
   "metadata": {},
   "outputs": [],
   "source": []
  }
 ],
 "metadata": {
  "kernelspec": {
   "display_name": "Python 3",
   "language": "python",
   "name": "python3"
  },
  "language_info": {
   "codemirror_mode": {
    "name": "ipython",
    "version": 3
   },
   "file_extension": ".py",
   "mimetype": "text/x-python",
   "name": "python",
   "nbconvert_exporter": "python",
   "pygments_lexer": "ipython3",
   "version": "3.7.4"
  }
 },
 "nbformat": 4,
 "nbformat_minor": 2
}
