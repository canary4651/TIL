{
 "cells": [
  {
   "cell_type": "markdown",
   "metadata": {},
   "source": [
    "# Pandas apply() and lambda function in Python"
   ]
  },
  {
   "cell_type": "code",
   "execution_count": 1,
   "metadata": {},
   "outputs": [],
   "source": [
    "import pandas as pd\n",
    "\n",
    "import datetime"
   ]
  },
  {
   "cell_type": "code",
   "execution_count": 2,
   "metadata": {},
   "outputs": [],
   "source": [
    "train = pd.read_csv('./Data/Dacon/funda_train.csv')"
   ]
  },
  {
   "cell_type": "code",
   "execution_count": 4,
   "metadata": {},
   "outputs": [
    {
     "data": {
      "text/html": [
       "<div>\n",
       "<style scoped>\n",
       "    .dataframe tbody tr th:only-of-type {\n",
       "        vertical-align: middle;\n",
       "    }\n",
       "\n",
       "    .dataframe tbody tr th {\n",
       "        vertical-align: top;\n",
       "    }\n",
       "\n",
       "    .dataframe thead th {\n",
       "        text-align: right;\n",
       "    }\n",
       "</style>\n",
       "<table border=\"1\" class=\"dataframe\">\n",
       "  <thead>\n",
       "    <tr style=\"text-align: right;\">\n",
       "      <th></th>\n",
       "      <th>store_id</th>\n",
       "      <th>card_id</th>\n",
       "      <th>card_company</th>\n",
       "      <th>transacted_date</th>\n",
       "      <th>transacted_time</th>\n",
       "      <th>installment_term</th>\n",
       "      <th>region</th>\n",
       "      <th>type_of_business</th>\n",
       "      <th>amount</th>\n",
       "    </tr>\n",
       "  </thead>\n",
       "  <tbody>\n",
       "    <tr>\n",
       "      <th>3787621</th>\n",
       "      <td>1242</td>\n",
       "      <td>2679238</td>\n",
       "      <td>f</td>\n",
       "      <td>2018-08-01</td>\n",
       "      <td>12:48</td>\n",
       "      <td>0</td>\n",
       "      <td>서울 양천구</td>\n",
       "      <td>NaN</td>\n",
       "      <td>2000.0</td>\n",
       "    </tr>\n",
       "  </tbody>\n",
       "</table>\n",
       "</div>"
      ],
      "text/plain": [
       "         store_id  card_id card_company transacted_date transacted_time  \\\n",
       "3787621      1242  2679238            f      2018-08-01           12:48   \n",
       "\n",
       "         installment_term  region type_of_business  amount  \n",
       "3787621                 0  서울 양천구              NaN  2000.0  "
      ]
     },
     "execution_count": 4,
     "metadata": {},
     "output_type": "execute_result"
    }
   ],
   "source": [
    "train.sample()"
   ]
  },
  {
   "cell_type": "code",
   "execution_count": 9,
   "metadata": {},
   "outputs": [
    {
     "data": {
      "text/plain": [
       "store_id             0.000000\n",
       "card_id              0.000000\n",
       "card_company         0.000000\n",
       "transacted_date      0.000000\n",
       "transacted_time      0.000000\n",
       "installment_term     0.000000\n",
       "region              31.155812\n",
       "type_of_business    60.284311\n",
       "amount               0.000000\n",
       "dtype: float64"
      ]
     },
     "execution_count": 9,
     "metadata": {},
     "output_type": "execute_result"
    }
   ],
   "source": [
    "train.isnull().sum() * 100 / len(train)"
   ]
  },
  {
   "cell_type": "code",
   "execution_count": 13,
   "metadata": {},
   "outputs": [],
   "source": [
    "train['region'] = train['region'].fillna('시도정보없음 시군구정보없음')"
   ]
  },
  {
   "cell_type": "code",
   "execution_count": 16,
   "metadata": {},
   "outputs": [
    {
     "data": {
      "text/plain": [
       "array(['시도정보없음 시군구정보없음', '서울 종로구', '충북 충주시', '부산 동래구', '경기 평택시', '부산 동구',\n",
       "       '광주 동구', '경기 파주시', '대구 수성구', '경기 용인시', '서울 중구', '경기 안양시', '경기 수원시',\n",
       "       '경기 화성시', '서울 송파구', '서울 마포구', '부산 부산진구', '서울 용산구', '충남 금산군',\n",
       "       '서울 중랑구', '전남 목포시', '경기 안성시', '서울 영등포구', '서울 동작구', '경기 과천시',\n",
       "       '경북 경주시', '인천 계양구', '서울 강서구', '경기 성남시', '인천 남동구', '서울 광진구',\n",
       "       '서울 서대문구', '서울 은평구', '서울 강남구', '강원 강릉시', '서울 구로구', '서울 서초구',\n",
       "       '경기 시흥시', '인천 서구', '서울 양천구', '경기 부천시', '경기 광주시', '서울 금천구',\n",
       "       '서울 관악구', '인천 남구', '인천 동구', '충북 제천시', '광주 광산구', '인천 연수구', '인천 부평구',\n",
       "       '경기 의왕시', '전남 순천시', '경기 이천시', '경기 의정부시', '경기 포천시', '경기 양주시',\n",
       "       '경기 고양시', '충북 옥천군', '경기 광명시', '경기 구리시', '경기 남양주시', '경기 가평군',\n",
       "       '전남 여수시', '경기 안산시', '경기 오산시', '경기 김포시', '서울 성동구', '전북 군산시',\n",
       "       '경남 김해시', '경기 군포시', '제주 서귀포시', '서울 강북구', '제주 제주시', '부산 금정구',\n",
       "       '경북 구미시', '광주 서구', '부산 사상구', '충남 천안시', '강원 원주시', '충남 아산시',\n",
       "       '경북 포항시', '부산 강서구', '강원 횡성군', '대구 남구', '경남 양산시', '경남 창원시',\n",
       "       '강원 양구군', '경남 통영시', '충남 당진시', '부산 사하구', '강원 태백시', '서울 동대문구',\n",
       "       '충북 청주시', '대구 북구', '서울 성북구', '부산 해운대구', '경북 경산시', '서울 노원구',\n",
       "       '부산 연제구', '경기 하남시', '서울 강동구', '부산 수영구', '대전 대덕구', '부산 북구',\n",
       "       '강원 춘천시', '인천 중구', '강원 삼척시', '전북 전주시', '강원 홍천군', '강원 속초시',\n",
       "       '경기 연천군', '대전 중구', '부산 중구', '충북 단양군', '대전 서구', '울산 북구', '경남 거제시',\n",
       "       '광주 북구', '부산 서구', '대구 동구', '경기 동두천시', '충남 서산시', '경북 영주시', '부산 남구',\n",
       "       '전남 나주시', '충북 음성군', '충북 증평군', '대전 동구', '울산 남구', '충남 공주시', '충남 부여군',\n",
       "       '충남 홍성군', '충남 보령시', '울산 중구', '대전 유성구', '울산 울주군', '경북 영천시', '대구 중구',\n",
       "       '전남 무안군', '충남 서천군', '전북 익산시', '전북 김제시', '전북 정읍시', '전북 순창군',\n",
       "       '전북 남원시', '광주 남구', '전남 담양군', '전남 해남군', '전남 함평군', '전남 완도군',\n",
       "       '전남 고흥군', '경남 창녕군', '대구 달서구', '부산 영도구', '경북 김천시', '경기 양평군',\n",
       "       '충북 진천군', '세종 도움3로', '대구 서구', '경북 울진군', '경북 안동시', '전남 곡성군',\n",
       "       '대구 달성군', '경남 남해군', '경남 사천시', '부산 기장군', '경남 함안군', '울산 동구',\n",
       "       '경남 거창군', '경남 진주시', '경남 밀양시', '경북 상주시', '세종 고운서길', '충남 논산시',\n",
       "       '경북 성주군', '전남 광양시', '세종 달빛로', '세종 조치원읍', '경북 칠곡군', '강원 철원군',\n",
       "       '충남 예산군'], dtype=object)"
      ]
     },
     "execution_count": 16,
     "metadata": {},
     "output_type": "execute_result"
    }
   ],
   "source": [
    "train['region'].unique()"
   ]
  },
  {
   "cell_type": "markdown",
   "metadata": {},
   "source": [
    "# Pandas apply()"
   ]
  },
  {
   "cell_type": "code",
   "execution_count": 27,
   "metadata": {},
   "outputs": [
    {
     "data": {
      "text/plain": [
       "'서울'"
      ]
     },
     "execution_count": 27,
     "metadata": {},
     "output_type": "execute_result"
    }
   ],
   "source": [
    "# train 테이블에 region 컬럼에 들어있는 값 중 10001번째 데이터를 호출합니다.\n",
    "sample = train['region'][10000]\n",
    "\n",
    "# 텍스트 데이터를 공백을 기준으로 잘라서 리스트에 저장합니다.\n",
    "sample_split = sample.split()\n",
    "\n",
    "# 저장된 리스트에서 첫번째 원소를 가져옵니다.\n",
    "sample_split[0]"
   ]
  },
  {
   "cell_type": "code",
   "execution_count": 28,
   "metadata": {},
   "outputs": [
    {
     "data": {
      "text/plain": [
       "'서울'"
      ]
     },
     "execution_count": 28,
     "metadata": {},
     "output_type": "execute_result"
    }
   ],
   "source": [
    "# split()\n",
    "# 문자열 자료형에 대해서 더 알고 싶다면: https://wikidocs.net/13\n",
    "train['region'][10000].split()[0]"
   ]
  },
  {
   "cell_type": "code",
   "execution_count": 43,
   "metadata": {},
   "outputs": [
    {
     "data": {
      "text/plain": [
       "'서울 종로구'"
      ]
     },
     "execution_count": 43,
     "metadata": {},
     "output_type": "execute_result"
    }
   ],
   "source": [
    "# 다양한 방법으로 데이터를 호출할 수 있음. 본인이 편한 방법을 선택하면 됨.\n",
    "train['region'][10000]\n",
    "train['region'].loc[10000]\n",
    "train.loc[10000, 'region']"
   ]
  },
  {
   "cell_type": "markdown",
   "metadata": {},
   "source": [
    "## 시도 / 시군구 정보를 나누고 싶을 때"
   ]
  },
  {
   "cell_type": "code",
   "execution_count": 31,
   "metadata": {},
   "outputs": [],
   "source": [
    "def get_sido(x):\n",
    "    return x.split()[0]"
   ]
  },
  {
   "cell_type": "code",
   "execution_count": 54,
   "metadata": {},
   "outputs": [],
   "source": [
    "def get_sigungu(x):\n",
    "    return x.split()[1]"
   ]
  },
  {
   "cell_type": "code",
   "execution_count": null,
   "metadata": {},
   "outputs": [],
   "source": [
    "sido = []\n",
    "sigungu = []\n",
    "for i, v in train['region'].items():\n",
    "    a = v.split()\n",
    "    sido.append(v[0])\n",
    "    sigungu.append(v[1])"
   ]
  },
  {
   "cell_type": "code",
   "execution_count": 78,
   "metadata": {},
   "outputs": [],
   "source": [
    "sigungu = []\n",
    "for i, v in train['region'].items():\n",
    "    sigungu.append(get_sigungu(v))"
   ]
  },
  {
   "cell_type": "code",
   "execution_count": 80,
   "metadata": {},
   "outputs": [],
   "source": [
    "train['sido'] = sido\n",
    "train['sigungu'] = sigungu"
   ]
  },
  {
   "cell_type": "code",
   "execution_count": 83,
   "metadata": {},
   "outputs": [],
   "source": [
    "# train[train['sido'] == '제주']"
   ]
  },
  {
   "cell_type": "markdown",
   "metadata": {},
   "source": [
    "## apply()를 사용하면"
   ]
  },
  {
   "cell_type": "code",
   "execution_count": null,
   "metadata": {},
   "outputs": [],
   "source": [
    "for i, v in train['region'].items():\n",
    "    pass"
   ]
  },
  {
   "cell_type": "code",
   "execution_count": 34,
   "metadata": {},
   "outputs": [],
   "source": [
    "# 같은 함수를 컬럼에 일관적으로 적용해줄때 apply() 함수를 쓸 수 있다.\n",
    "train['sido'] = train['region'].apply(get_sido)"
   ]
  },
  {
   "cell_type": "markdown",
   "metadata": {},
   "source": [
    "# lambda"
   ]
  },
  {
   "cell_type": "code",
   "execution_count": 88,
   "metadata": {},
   "outputs": [],
   "source": [
    "def get_sido(x):\n",
    "    return x.split()[0]"
   ]
  },
  {
   "cell_type": "code",
   "execution_count": null,
   "metadata": {},
   "outputs": [],
   "source": [
    "get_sido = lambda x: x.split()[0]"
   ]
  },
  {
   "cell_type": "code",
   "execution_count": 35,
   "metadata": {},
   "outputs": [],
   "source": [
    "get_sigungu = lambda x: x.split()[1]"
   ]
  },
  {
   "cell_type": "code",
   "execution_count": 36,
   "metadata": {},
   "outputs": [],
   "source": [
    "train['sigungu'] = train['region'].apply(get_sigungu)"
   ]
  },
  {
   "cell_type": "markdown",
   "metadata": {},
   "source": [
    "## 더 짧게"
   ]
  },
  {
   "cell_type": "code",
   "execution_count": 89,
   "metadata": {},
   "outputs": [],
   "source": [
    "train['sigungu'] = train['region'].apply(lambda x: x.split()[1])"
   ]
  },
  {
   "cell_type": "markdown",
   "metadata": {},
   "source": [
    "# 응용"
   ]
  },
  {
   "cell_type": "code",
   "execution_count": 43,
   "metadata": {},
   "outputs": [],
   "source": [
    "train['transacted_date'] = pd.to_datetime(train['transacted_date'])"
   ]
  },
  {
   "cell_type": "markdown",
   "metadata": {},
   "source": [
    "### Q1. 컬럼 `transacted_date`를 참조하여 결제가 있었던 연도를 뽑아내 `year`라는 칼럼에 저장하세요."
   ]
  },
  {
   "cell_type": "markdown",
   "metadata": {},
   "source": [
    "### Q2. 컬럼 `transacted_date`를 참조하여 결제가 있었던 월을 뽑아내 `month`라는 칼럼에 저장하세요."
   ]
  },
  {
   "cell_type": "code",
   "execution_count": 52,
   "metadata": {},
   "outputs": [
    {
     "name": "stdout",
     "output_type": "stream",
     "text": [
      "2019\n",
      "9\n"
     ]
    }
   ],
   "source": [
    "# 힌트\n",
    "sample = datetime.datetime.strptime('2019-09-30', '%Y-%m-%d').date()\n",
    "print(sample.year)\n",
    "print(sample.month)"
   ]
  }
 ],
 "metadata": {
  "kernelspec": {
   "display_name": "Python 3",
   "language": "python",
   "name": "python3"
  },
  "language_info": {
   "codemirror_mode": {
    "name": "ipython",
    "version": 3
   },
   "file_extension": ".py",
   "mimetype": "text/x-python",
   "name": "python",
   "nbconvert_exporter": "python",
   "pygments_lexer": "ipython3",
   "version": "3.7.4"
  }
 },
 "nbformat": 4,
 "nbformat_minor": 2
}
