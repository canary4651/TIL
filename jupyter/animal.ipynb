{
 "cells": [
  {
   "cell_type": "code",
   "execution_count": 3,
   "metadata": {},
   "outputs": [
    {
     "data": {
      "text/plain": [
       "'3.1.0'"
      ]
     },
     "execution_count": 3,
     "metadata": {},
     "output_type": "execute_result"
    }
   ],
   "source": [
    "import matplotlib\n",
    "import matplotlib.pyplot as plt\n",
    "\n",
    "matplotlib.__version__"
   ]
  },
  {
   "cell_type": "code",
   "execution_count": 2,
   "metadata": {},
   "outputs": [
    {
     "data": {
      "text/plain": [
       "'0.25.0'"
      ]
     },
     "execution_count": 2,
     "metadata": {},
     "output_type": "execute_result"
    }
   ],
   "source": [
    "import pandas as pd\n",
    "\n",
    "pd.__version__"
   ]
  },
  {
   "cell_type": "code",
   "execution_count": 10,
   "metadata": {},
   "outputs": [
    {
     "data": {
      "text/plain": [
       "'0.10.0'"
      ]
     },
     "execution_count": 10,
     "metadata": {},
     "output_type": "execute_result"
    }
   ],
   "source": [
    "import folium\n",
    "from folium import Map\n",
    "from folium.plugins import HeatMap\n",
    "\n",
    "folium.__version__"
   ]
  },
  {
   "cell_type": "code",
   "execution_count": 46,
   "metadata": {},
   "outputs": [
    {
     "data": {
      "text/plain": [
       "[<Font 'Noto Nastaliq Urdu' (NotoNastaliq.ttc) normal normal 400 normal>,\n",
       " <Font 'Noto Sans CJK KR' (NotoSansCJKkr-Regular.otf) normal normal regular normal>,\n",
       " <Font 'Noto Sans Mono CJK KR' (NotoSansMonoCJKkr-Bold.otf) normal normal bold normal>,\n",
       " <Font 'Noto Sans CJK KR' (NotoSansCJKkr-DemiLight.otf) normal normal light normal>,\n",
       " <Font 'Noto Sans Mono CJK KR' (NotoSansMonoCJKkr-Regular.otf) normal normal regular normal>,\n",
       " <Font 'Noto Sans CJK KR' (NotoSansCJKkr-Bold.otf) normal normal bold normal>,\n",
       " <Font 'Noto Serif CJK KR' (NotoSerifCJKkr-Regular.otf) normal normal 400 normal>,\n",
       " <Font 'Noto Serif CJK KR' (NotoSerifCJKkr-Black.otf) normal normal black normal>,\n",
       " <Font 'Noto Sans CJK KR' (NotoSansCJKkr-Black.otf) normal normal black normal>,\n",
       " <Font 'Noto Sans CJK KR' (NotoSansCJKkr-Thin.otf) normal normal 400 normal>,\n",
       " <Font 'Noto Serif CJK KR' (NotoSerifCJKkr-SemiBold.otf) normal normal semibold normal>,\n",
       " <Font 'Noto Serif CJK KR' (NotoSerifCJKkr-ExtraLight.otf) normal normal light normal>,\n",
       " <Font 'Noto Sans CJK KR' (NotoSansCJKkr-Light.otf) normal normal light normal>,\n",
       " <Font 'Noto Serif CJK KR' (NotoSerifCJKkr-Light.otf) normal normal light normal>,\n",
       " <Font 'Noto Serif CJK KR' (NotoSerifCJKkr-Bold.otf) normal normal bold normal>,\n",
       " <Font 'Noto Serif CJK KR' (NotoSerifCJKkr-Medium.otf) normal normal medium normal>,\n",
       " <Font 'Noto Sans CJK KR' (NotoSansCJKkr-Medium.otf) normal normal medium normal>]"
      ]
     },
     "execution_count": 46,
     "metadata": {},
     "output_type": "execute_result"
    }
   ],
   "source": [
    "import matplotlib.font_manager as fm\n",
    "\n",
    "[font for font in fm.fontManager.ttflist if 'Noto' in font.name]\n"
   ]
  },
  {
   "cell_type": "code",
   "execution_count": 47,
   "metadata": {},
   "outputs": [],
   "source": [
    "plt.rcParams['font.family'] = 'Noto Sans CJK KR'"
   ]
  },
  {
   "cell_type": "markdown",
   "metadata": {},
   "source": [
    "전국동물보호센터정보표준데이터\n",
    "\n",
    "<https://www.data.go.kr/dataset/15025454/standard.do>"
   ]
  },
  {
   "cell_type": "code",
   "execution_count": 31,
   "metadata": {},
   "outputs": [
    {
     "data": {
      "text/plain": [
       "Index(['동물보호센터명', '관리기관명', '동물보호센터유형', '구조대상동물', '소재지도로명주소', '소재지지번주소', '위도',\n",
       "       '경도', '동물보호센터지정일자', '평일운영시작시각', '평일운영종료시각', '평일분양시작시각', '평일분양종료시각',\n",
       "       '주말운영시작시각', '주말운영종료시각', '주말분양시작시각', '주말분양종료시각', '휴무일', '수의사인원수',\n",
       "       '사양관리사인원수', '진료실수', '사육실수', '격리실수', '사료보관실수', '구조운반용차량보유대수', '전화번호',\n",
       "       '데이터기준일자', '제공기관코드', '제공기관명', 'Unnamed: 29'],\n",
       "      dtype='object')"
      ]
     },
     "execution_count": 31,
     "metadata": {},
     "output_type": "execute_result"
    }
   ],
   "source": [
    "df = pd.read_csv('animal.csv', encoding='euc-kr') # 공공데이터 사용하면 많이 볼 euc-kr\n",
    "\n",
    "df.columns"
   ]
  },
  {
   "cell_type": "code",
   "execution_count": 14,
   "metadata": {},
   "outputs": [
    {
     "data": {
      "text/plain": [
       "(188, 30)"
      ]
     },
     "execution_count": 14,
     "metadata": {},
     "output_type": "execute_result"
    }
   ],
   "source": [
    "df.shape"
   ]
  },
  {
   "cell_type": "code",
   "execution_count": 15,
   "metadata": {},
   "outputs": [
    {
     "data": {
      "text/html": [
       "<div>\n",
       "<style scoped>\n",
       "    .dataframe tbody tr th:only-of-type {\n",
       "        vertical-align: middle;\n",
       "    }\n",
       "\n",
       "    .dataframe tbody tr th {\n",
       "        vertical-align: top;\n",
       "    }\n",
       "\n",
       "    .dataframe thead th {\n",
       "        text-align: right;\n",
       "    }\n",
       "</style>\n",
       "<table border=\"1\" class=\"dataframe\">\n",
       "  <thead>\n",
       "    <tr style=\"text-align: right;\">\n",
       "      <th></th>\n",
       "      <th>동물보호센터명</th>\n",
       "      <th>관리기관명</th>\n",
       "      <th>동물보호센터유형</th>\n",
       "      <th>구조대상동물</th>\n",
       "      <th>소재지도로명주소</th>\n",
       "      <th>소재지지번주소</th>\n",
       "      <th>위도</th>\n",
       "      <th>경도</th>\n",
       "      <th>동물보호센터지정일자</th>\n",
       "      <th>평일운영시작시각</th>\n",
       "      <th>...</th>\n",
       "      <th>진료실수</th>\n",
       "      <th>사육실수</th>\n",
       "      <th>격리실수</th>\n",
       "      <th>사료보관실수</th>\n",
       "      <th>구조운반용차량보유대수</th>\n",
       "      <th>전화번호</th>\n",
       "      <th>데이터기준일자</th>\n",
       "      <th>제공기관코드</th>\n",
       "      <th>제공기관명</th>\n",
       "      <th>Unnamed: 29</th>\n",
       "    </tr>\n",
       "  </thead>\n",
       "  <tbody>\n",
       "    <tr>\n",
       "      <th>0</th>\n",
       "      <td>인천수의사회 유기동물보호소</td>\n",
       "      <td>인천수의사회</td>\n",
       "      <td>법인</td>\n",
       "      <td>「동물보호법」에 따른 유실·유기동물</td>\n",
       "      <td>인천광역시 계양구 다남로165번길 56(다남동)</td>\n",
       "      <td>NaN</td>\n",
       "      <td>37.566196</td>\n",
       "      <td>126.719630</td>\n",
       "      <td>2006-10-18</td>\n",
       "      <td>09:00</td>\n",
       "      <td>...</td>\n",
       "      <td>NaN</td>\n",
       "      <td>NaN</td>\n",
       "      <td>NaN</td>\n",
       "      <td>NaN</td>\n",
       "      <td>NaN</td>\n",
       "      <td>032-515-7567</td>\n",
       "      <td>2018-08-13</td>\n",
       "      <td>3520000</td>\n",
       "      <td>인천광역시 연수구</td>\n",
       "      <td>NaN</td>\n",
       "    </tr>\n",
       "    <tr>\n",
       "      <th>1</th>\n",
       "      <td>사단법인 한국동물구조관리협회</td>\n",
       "      <td>도봉구청</td>\n",
       "      <td>법인</td>\n",
       "      <td>유실·유기 및 피학대동물</td>\n",
       "      <td>경기도 양주시 남면 감악산로 63-37</td>\n",
       "      <td>NaN</td>\n",
       "      <td>37.870072</td>\n",
       "      <td>126.983225</td>\n",
       "      <td>2014-06-10</td>\n",
       "      <td>09:00</td>\n",
       "      <td>...</td>\n",
       "      <td>1.0</td>\n",
       "      <td>6.0</td>\n",
       "      <td>2.0</td>\n",
       "      <td>1.0</td>\n",
       "      <td>5.0</td>\n",
       "      <td>031-867-9119</td>\n",
       "      <td>2018-01-02</td>\n",
       "      <td>3090000</td>\n",
       "      <td>서울특별시 도봉구</td>\n",
       "      <td>NaN</td>\n",
       "    </tr>\n",
       "    <tr>\n",
       "      <th>2</th>\n",
       "      <td>수성동물병원</td>\n",
       "      <td>화성시</td>\n",
       "      <td>개인</td>\n",
       "      <td>개, 고양이</td>\n",
       "      <td>경기도 화성시 남양읍 남양성지로34</td>\n",
       "      <td>경기도 화성시 남양읍 남양리 465-3번지</td>\n",
       "      <td>37.205577</td>\n",
       "      <td>126.807191</td>\n",
       "      <td>2016-12-31</td>\n",
       "      <td>09:00</td>\n",
       "      <td>...</td>\n",
       "      <td>1.0</td>\n",
       "      <td>2.0</td>\n",
       "      <td>1.0</td>\n",
       "      <td>1.0</td>\n",
       "      <td>2.0</td>\n",
       "      <td>031-355-5883</td>\n",
       "      <td>2017-11-17</td>\n",
       "      <td>5530000</td>\n",
       "      <td>경기도 화성시</td>\n",
       "      <td>NaN</td>\n",
       "    </tr>\n",
       "    <tr>\n",
       "      <th>3</th>\n",
       "      <td>청산동물병원</td>\n",
       "      <td>화성시</td>\n",
       "      <td>개인</td>\n",
       "      <td>개, 고양이</td>\n",
       "      <td>경기도 화성시 우정읍 3.1만세로29</td>\n",
       "      <td>경기도 화성시 우정읍 조암리 348번지</td>\n",
       "      <td>37.082177</td>\n",
       "      <td>126.817192</td>\n",
       "      <td>2016-12-31</td>\n",
       "      <td>09:00</td>\n",
       "      <td>...</td>\n",
       "      <td>1.0</td>\n",
       "      <td>1.0</td>\n",
       "      <td>1.0</td>\n",
       "      <td>1.0</td>\n",
       "      <td>1.0</td>\n",
       "      <td>031-358-4358</td>\n",
       "      <td>2017-11-17</td>\n",
       "      <td>5530000</td>\n",
       "      <td>경기도 화성시</td>\n",
       "      <td>NaN</td>\n",
       "    </tr>\n",
       "    <tr>\n",
       "      <th>4</th>\n",
       "      <td>인천광역시수의사회유기동물보호소</td>\n",
       "      <td>인천시수의사회</td>\n",
       "      <td>단체</td>\n",
       "      <td>유기, 유실동물</td>\n",
       "      <td>인천광역시 계양구 다남로165번길 56(다남동)</td>\n",
       "      <td>인천광역시 계양구 다남동 35-8</td>\n",
       "      <td>37.566196</td>\n",
       "      <td>126.719630</td>\n",
       "      <td>2007-01-01</td>\n",
       "      <td>09:00</td>\n",
       "      <td>...</td>\n",
       "      <td>1.0</td>\n",
       "      <td>22.0</td>\n",
       "      <td>1.0</td>\n",
       "      <td>2.0</td>\n",
       "      <td>2.0</td>\n",
       "      <td>032-515-7567</td>\n",
       "      <td>2018-08-08</td>\n",
       "      <td>3530000</td>\n",
       "      <td>인천광역시 남동구</td>\n",
       "      <td>NaN</td>\n",
       "    </tr>\n",
       "  </tbody>\n",
       "</table>\n",
       "<p>5 rows × 30 columns</p>\n",
       "</div>"
      ],
      "text/plain": [
       "            동물보호센터명    관리기관명 동물보호센터유형               구조대상동물  \\\n",
       "0    인천수의사회 유기동물보호소   인천수의사회       법인  「동물보호법」에 따른 유실·유기동물   \n",
       "1   사단법인 한국동물구조관리협회     도봉구청       법인        유실·유기 및 피학대동물   \n",
       "2            수성동물병원      화성시       개인               개, 고양이   \n",
       "3            청산동물병원      화성시       개인               개, 고양이   \n",
       "4  인천광역시수의사회유기동물보호소  인천시수의사회       단체             유기, 유실동물   \n",
       "\n",
       "                     소재지도로명주소                  소재지지번주소         위도          경도  \\\n",
       "0  인천광역시 계양구 다남로165번길 56(다남동)                      NaN  37.566196  126.719630   \n",
       "1       경기도 양주시 남면 감악산로 63-37                      NaN  37.870072  126.983225   \n",
       "2         경기도 화성시 남양읍 남양성지로34  경기도 화성시 남양읍 남양리 465-3번지  37.205577  126.807191   \n",
       "3        경기도 화성시 우정읍 3.1만세로29    경기도 화성시 우정읍 조암리 348번지  37.082177  126.817192   \n",
       "4  인천광역시 계양구 다남로165번길 56(다남동)       인천광역시 계양구 다남동 35-8  37.566196  126.719630   \n",
       "\n",
       "   동물보호센터지정일자 평일운영시작시각  ... 진료실수  사육실수 격리실수 사료보관실수 구조운반용차량보유대수          전화번호  \\\n",
       "0  2006-10-18    09:00  ...  NaN   NaN  NaN    NaN         NaN  032-515-7567   \n",
       "1  2014-06-10    09:00  ...  1.0   6.0  2.0    1.0         5.0  031-867-9119   \n",
       "2  2016-12-31    09:00  ...  1.0   2.0  1.0    1.0         2.0  031-355-5883   \n",
       "3  2016-12-31    09:00  ...  1.0   1.0  1.0    1.0         1.0  031-358-4358   \n",
       "4  2007-01-01    09:00  ...  1.0  22.0  1.0    2.0         2.0  032-515-7567   \n",
       "\n",
       "      데이터기준일자   제공기관코드      제공기관명  Unnamed: 29  \n",
       "0  2018-08-13  3520000  인천광역시 연수구          NaN  \n",
       "1  2018-01-02  3090000  서울특별시 도봉구          NaN  \n",
       "2  2017-11-17  5530000    경기도 화성시          NaN  \n",
       "3  2017-11-17  5530000    경기도 화성시          NaN  \n",
       "4  2018-08-08  3530000  인천광역시 남동구          NaN  \n",
       "\n",
       "[5 rows x 30 columns]"
      ]
     },
     "execution_count": 15,
     "metadata": {},
     "output_type": "execute_result"
    }
   ],
   "source": [
    "df.head()"
   ]
  },
  {
   "cell_type": "code",
   "execution_count": 16,
   "metadata": {},
   "outputs": [
    {
     "data": {
      "text/plain": [
       "동물보호센터명          0\n",
       "관리기관명            0\n",
       "동물보호센터유형         0\n",
       "구조대상동물           0\n",
       "소재지도로명주소         4\n",
       "소재지지번주소         30\n",
       "위도               0\n",
       "경도               0\n",
       "동물보호센터지정일자       0\n",
       "평일운영시작시각         0\n",
       "평일운영종료시각         0\n",
       "평일분양시작시각        39\n",
       "평일분양종료시각        39\n",
       "주말운영시작시각        69\n",
       "주말운영종료시각        69\n",
       "주말분양시작시각        84\n",
       "주말분양종료시각        84\n",
       "휴무일              0\n",
       "수의사인원수           0\n",
       "사양관리사인원수         0\n",
       "진료실수            45\n",
       "사육실수            39\n",
       "격리실수            39\n",
       "사료보관실수          43\n",
       "구조운반용차량보유대수     36\n",
       "전화번호             0\n",
       "데이터기준일자          0\n",
       "제공기관코드           0\n",
       "제공기관명            0\n",
       "Unnamed: 29    188\n",
       "dtype: int64"
      ]
     },
     "execution_count": 16,
     "metadata": {},
     "output_type": "execute_result"
    }
   ],
   "source": [
    "df.isnull().sum() # 없는 값들 찾아서 제거하기 위해 칼럼을 찾는 명령어 "
   ]
  },
  {
   "cell_type": "code",
   "execution_count": 17,
   "metadata": {},
   "outputs": [
    {
     "data": {
      "text/html": [
       "<div>\n",
       "<style scoped>\n",
       "    .dataframe tbody tr th:only-of-type {\n",
       "        vertical-align: middle;\n",
       "    }\n",
       "\n",
       "    .dataframe tbody tr th {\n",
       "        vertical-align: top;\n",
       "    }\n",
       "\n",
       "    .dataframe thead th {\n",
       "        text-align: right;\n",
       "    }\n",
       "</style>\n",
       "<table border=\"1\" class=\"dataframe\">\n",
       "  <thead>\n",
       "    <tr style=\"text-align: right;\">\n",
       "      <th></th>\n",
       "      <th>동물보호센터명</th>\n",
       "      <th>관리기관명</th>\n",
       "      <th>동물보호센터유형</th>\n",
       "      <th>구조대상동물</th>\n",
       "      <th>소재지도로명주소</th>\n",
       "      <th>위도</th>\n",
       "      <th>경도</th>\n",
       "      <th>휴무일</th>\n",
       "      <th>수의사인원수</th>\n",
       "      <th>사양관리사인원수</th>\n",
       "    </tr>\n",
       "  </thead>\n",
       "  <tbody>\n",
       "    <tr>\n",
       "      <th>0</th>\n",
       "      <td>인천수의사회 유기동물보호소</td>\n",
       "      <td>인천수의사회</td>\n",
       "      <td>법인</td>\n",
       "      <td>「동물보호법」에 따른 유실·유기동물</td>\n",
       "      <td>인천광역시 계양구 다남로165번길 56(다남동)</td>\n",
       "      <td>37.566196</td>\n",
       "      <td>126.719630</td>\n",
       "      <td>연중무휴</td>\n",
       "      <td>1</td>\n",
       "      <td>3</td>\n",
       "    </tr>\n",
       "    <tr>\n",
       "      <th>1</th>\n",
       "      <td>사단법인 한국동물구조관리협회</td>\n",
       "      <td>도봉구청</td>\n",
       "      <td>법인</td>\n",
       "      <td>유실·유기 및 피학대동물</td>\n",
       "      <td>경기도 양주시 남면 감악산로 63-37</td>\n",
       "      <td>37.870072</td>\n",
       "      <td>126.983225</td>\n",
       "      <td>연중무휴</td>\n",
       "      <td>1</td>\n",
       "      <td>6</td>\n",
       "    </tr>\n",
       "    <tr>\n",
       "      <th>2</th>\n",
       "      <td>수성동물병원</td>\n",
       "      <td>화성시</td>\n",
       "      <td>개인</td>\n",
       "      <td>개, 고양이</td>\n",
       "      <td>경기도 화성시 남양읍 남양성지로34</td>\n",
       "      <td>37.205577</td>\n",
       "      <td>126.807191</td>\n",
       "      <td>일요일</td>\n",
       "      <td>1</td>\n",
       "      <td>1</td>\n",
       "    </tr>\n",
       "    <tr>\n",
       "      <th>3</th>\n",
       "      <td>청산동물병원</td>\n",
       "      <td>화성시</td>\n",
       "      <td>개인</td>\n",
       "      <td>개, 고양이</td>\n",
       "      <td>경기도 화성시 우정읍 3.1만세로29</td>\n",
       "      <td>37.082177</td>\n",
       "      <td>126.817192</td>\n",
       "      <td>일요일</td>\n",
       "      <td>1</td>\n",
       "      <td>2</td>\n",
       "    </tr>\n",
       "    <tr>\n",
       "      <th>4</th>\n",
       "      <td>인천광역시수의사회유기동물보호소</td>\n",
       "      <td>인천시수의사회</td>\n",
       "      <td>단체</td>\n",
       "      <td>유기, 유실동물</td>\n",
       "      <td>인천광역시 계양구 다남로165번길 56(다남동)</td>\n",
       "      <td>37.566196</td>\n",
       "      <td>126.719630</td>\n",
       "      <td>없음</td>\n",
       "      <td>1</td>\n",
       "      <td>3</td>\n",
       "    </tr>\n",
       "  </tbody>\n",
       "</table>\n",
       "</div>"
      ],
      "text/plain": [
       "            동물보호센터명    관리기관명 동물보호센터유형               구조대상동물  \\\n",
       "0    인천수의사회 유기동물보호소   인천수의사회       법인  「동물보호법」에 따른 유실·유기동물   \n",
       "1   사단법인 한국동물구조관리협회     도봉구청       법인        유실·유기 및 피학대동물   \n",
       "2            수성동물병원      화성시       개인               개, 고양이   \n",
       "3            청산동물병원      화성시       개인               개, 고양이   \n",
       "4  인천광역시수의사회유기동물보호소  인천시수의사회       단체             유기, 유실동물   \n",
       "\n",
       "                     소재지도로명주소         위도          경도   휴무일  수의사인원수  사양관리사인원수  \n",
       "0  인천광역시 계양구 다남로165번길 56(다남동)  37.566196  126.719630  연중무휴       1         3  \n",
       "1       경기도 양주시 남면 감악산로 63-37  37.870072  126.983225  연중무휴       1         6  \n",
       "2         경기도 화성시 남양읍 남양성지로34  37.205577  126.807191   일요일       1         1  \n",
       "3        경기도 화성시 우정읍 3.1만세로29  37.082177  126.817192   일요일       1         2  \n",
       "4  인천광역시 계양구 다남로165번길 56(다남동)  37.566196  126.719630    없음       1         3  "
      ]
     },
     "execution_count": 17,
     "metadata": {},
     "output_type": "execute_result"
    }
   ],
   "source": [
    "simple_df = df.drop(columns=[\n",
    "    '소재지지번주소', '동물보호센터지정일자',\n",
    "    '평일운영시작시각', '평일운영종료시각', '평일분양시작시각', '평일분양종료시각',\n",
    "    '주말운영시작시각', '주말운영종료시각', '주말분양시작시각', '주말분양종료시각',\n",
    "    '진료실수', '사육실수', '격리실수', '사료보관실수', '구조운반용차량보유대수', '전화번호',\n",
    "    '데이터기준일자', '제공기관코드', '제공기관명', 'Unnamed: 29'\n",
    "])\n",
    "\n",
    "simple_df.head()"
   ]
  },
  {
   "cell_type": "code",
   "execution_count": 18,
   "metadata": {
    "scrolled": false
   },
   "outputs": [
    {
     "data": {
      "text/html": [
       "<div>\n",
       "<style scoped>\n",
       "    .dataframe tbody tr th:only-of-type {\n",
       "        vertical-align: middle;\n",
       "    }\n",
       "\n",
       "    .dataframe tbody tr th {\n",
       "        vertical-align: top;\n",
       "    }\n",
       "\n",
       "    .dataframe thead th {\n",
       "        text-align: right;\n",
       "    }\n",
       "</style>\n",
       "<table border=\"1\" class=\"dataframe\">\n",
       "  <thead>\n",
       "    <tr style=\"text-align: right;\">\n",
       "      <th></th>\n",
       "      <th>동물보호센터유형</th>\n",
       "    </tr>\n",
       "  </thead>\n",
       "  <tbody>\n",
       "    <tr>\n",
       "      <th>동물병원</th>\n",
       "      <td>85</td>\n",
       "    </tr>\n",
       "    <tr>\n",
       "      <th>법인</th>\n",
       "      <td>44</td>\n",
       "    </tr>\n",
       "    <tr>\n",
       "      <th>개인</th>\n",
       "      <td>32</td>\n",
       "    </tr>\n",
       "    <tr>\n",
       "      <th>단체</th>\n",
       "      <td>27</td>\n",
       "    </tr>\n",
       "  </tbody>\n",
       "</table>\n",
       "</div>"
      ],
      "text/plain": [
       "      동물보호센터유형\n",
       "동물병원        85\n",
       "법인          44\n",
       "개인          32\n",
       "단체          27"
      ]
     },
     "execution_count": 18,
     "metadata": {},
     "output_type": "execute_result"
    }
   ],
   "source": [
    "data = simple_df['동물보호센터유형'].value_counts()\n",
    "\n",
    "pd.DataFrame(data)"
   ]
  },
  {
   "cell_type": "code",
   "execution_count": 48,
   "metadata": {},
   "outputs": [
    {
     "data": {
      "image/png": "[encoded data removed]",
      "text/plain": [
       "<Figure size 432x288 with 1 Axes>"
      ]
     },
     "metadata": {},
     "output_type": "display_data"
    }
   ],
   "source": [
    "data = simple_df['동물보호센터유형'].value_counts()\n",
    "\n",
    "data.plot.pie()\n",
    "\n",
    "plt.show()"
   ]
  },
  {
   "cell_type": "code",
   "execution_count": 20,
   "metadata": {},
   "outputs": [
    {
     "data": {
      "text/html": [
       "<div>\n",
       "<style scoped>\n",
       "    .dataframe tbody tr th:only-of-type {\n",
       "        vertical-align: middle;\n",
       "    }\n",
       "\n",
       "    .dataframe tbody tr th {\n",
       "        vertical-align: top;\n",
       "    }\n",
       "\n",
       "    .dataframe thead th {\n",
       "        text-align: right;\n",
       "    }\n",
       "</style>\n",
       "<table border=\"1\" class=\"dataframe\">\n",
       "  <thead>\n",
       "    <tr style=\"text-align: right;\">\n",
       "      <th></th>\n",
       "      <th>휴무일</th>\n",
       "    </tr>\n",
       "  </thead>\n",
       "  <tbody>\n",
       "    <tr>\n",
       "      <th>연중무휴</th>\n",
       "      <td>39</td>\n",
       "    </tr>\n",
       "    <tr>\n",
       "      <th>일요일</th>\n",
       "      <td>32</td>\n",
       "    </tr>\n",
       "    <tr>\n",
       "      <th>없음</th>\n",
       "      <td>22</td>\n",
       "    </tr>\n",
       "    <tr>\n",
       "      <th>공휴일</th>\n",
       "      <td>18</td>\n",
       "    </tr>\n",
       "    <tr>\n",
       "      <th>토요일+일요일</th>\n",
       "      <td>6</td>\n",
       "    </tr>\n",
       "    <tr>\n",
       "      <th>매주 일요일</th>\n",
       "      <td>6</td>\n",
       "    </tr>\n",
       "    <tr>\n",
       "      <th>일요일+공휴일</th>\n",
       "      <td>5</td>\n",
       "    </tr>\n",
       "    <tr>\n",
       "      <th>토요일+일요일+공휴일</th>\n",
       "      <td>4</td>\n",
       "    </tr>\n",
       "    <tr>\n",
       "      <th>주말+공휴일</th>\n",
       "      <td>4</td>\n",
       "    </tr>\n",
       "    <tr>\n",
       "      <th>주말 및 공휴일</th>\n",
       "      <td>3</td>\n",
       "    </tr>\n",
       "  </tbody>\n",
       "</table>\n",
       "</div>"
      ],
      "text/plain": [
       "             휴무일\n",
       "연중무휴          39\n",
       "일요일           32\n",
       "없음            22\n",
       "공휴일           18\n",
       "토요일+일요일        6\n",
       "매주 일요일         6\n",
       "일요일+공휴일        5\n",
       "토요일+일요일+공휴일    4\n",
       "주말+공휴일         4\n",
       "주말 및 공휴일       3"
      ]
     },
     "execution_count": 20,
     "metadata": {},
     "output_type": "execute_result"
    }
   ],
   "source": [
    "data = simple_df['휴무일'].value_counts().nlargest(10) #n개의 가장 큰 값들 찾아서 정렬해줌\n",
    " \n",
    "pd.DataFrame(data)"
   ]
  },
  {
   "cell_type": "code",
   "execution_count": 45,
   "metadata": {},
   "outputs": [
    {
     "data": {
      "image/png": "[encoded data removed]",
      "text/plain": [
       "<Figure size 432x288 with 1 Axes>"
      ]
     },
     "metadata": {},
     "output_type": "display_data"
    }
   ],
   "source": [
    "data = simple_df['휴무일'].value_counts().nlargest(10)\n",
    "\n",
    "data.plot.pie()\n",
    "\n",
    "plt.show()"
   ]
  },
  {
   "cell_type": "code",
   "execution_count": 22,
   "metadata": {},
   "outputs": [
    {
     "data": {
      "text/html": [
       "<div>\n",
       "<style scoped>\n",
       "    .dataframe tbody tr th:only-of-type {\n",
       "        vertical-align: middle;\n",
       "    }\n",
       "\n",
       "    .dataframe tbody tr th {\n",
       "        vertical-align: top;\n",
       "    }\n",
       "\n",
       "    .dataframe thead th {\n",
       "        text-align: right;\n",
       "    }\n",
       "</style>\n",
       "<table border=\"1\" class=\"dataframe\">\n",
       "  <thead>\n",
       "    <tr style=\"text-align: right;\">\n",
       "      <th></th>\n",
       "      <th>수의사인원수</th>\n",
       "    </tr>\n",
       "  </thead>\n",
       "  <tbody>\n",
       "    <tr>\n",
       "      <th>1</th>\n",
       "      <td>124</td>\n",
       "    </tr>\n",
       "    <tr>\n",
       "      <th>0</th>\n",
       "      <td>37</td>\n",
       "    </tr>\n",
       "    <tr>\n",
       "      <th>2</th>\n",
       "      <td>18</td>\n",
       "    </tr>\n",
       "    <tr>\n",
       "      <th>3</th>\n",
       "      <td>3</td>\n",
       "    </tr>\n",
       "    <tr>\n",
       "      <th>5</th>\n",
       "      <td>2</td>\n",
       "    </tr>\n",
       "    <tr>\n",
       "      <th>21</th>\n",
       "      <td>1</td>\n",
       "    </tr>\n",
       "    <tr>\n",
       "      <th>20</th>\n",
       "      <td>1</td>\n",
       "    </tr>\n",
       "    <tr>\n",
       "      <th>7</th>\n",
       "      <td>1</td>\n",
       "    </tr>\n",
       "    <tr>\n",
       "      <th>6</th>\n",
       "      <td>1</td>\n",
       "    </tr>\n",
       "  </tbody>\n",
       "</table>\n",
       "</div>"
      ],
      "text/plain": [
       "    수의사인원수\n",
       "1      124\n",
       "0       37\n",
       "2       18\n",
       "3        3\n",
       "5        2\n",
       "21       1\n",
       "20       1\n",
       "7        1\n",
       "6        1"
      ]
     },
     "execution_count": 22,
     "metadata": {},
     "output_type": "execute_result"
    }
   ],
   "source": [
    "data = simple_df['수의사인원수'].value_counts()\n",
    "\n",
    "pd.DataFrame(data)"
   ]
  },
  {
   "cell_type": "code",
   "execution_count": 23,
   "metadata": {},
   "outputs": [
    {
     "data": {
      "image/png": "[encoded data removed]",
      "text/plain": [
       "<Figure size 432x288 with 1 Axes>"
      ]
     },
     "metadata": {
      "needs_background": "light"
     },
     "output_type": "display_data"
    }
   ],
   "source": [
    "simple_df[['동물보호센터명', '수의사인원수']].plot.hist(bins=100, rwidth=10)\n",
    "\n",
    "plt.show()"
   ]
  },
  {
   "cell_type": "code",
   "execution_count": 24,
   "metadata": {},
   "outputs": [
    {
     "data": {
      "text/html": [
       "<div>\n",
       "<style scoped>\n",
       "    .dataframe tbody tr th:only-of-type {\n",
       "        vertical-align: middle;\n",
       "    }\n",
       "\n",
       "    .dataframe tbody tr th {\n",
       "        vertical-align: top;\n",
       "    }\n",
       "\n",
       "    .dataframe thead th {\n",
       "        text-align: right;\n",
       "    }\n",
       "</style>\n",
       "<table border=\"1\" class=\"dataframe\">\n",
       "  <thead>\n",
       "    <tr style=\"text-align: right;\">\n",
       "      <th></th>\n",
       "      <th>사양관리사인원수</th>\n",
       "    </tr>\n",
       "  </thead>\n",
       "  <tbody>\n",
       "    <tr>\n",
       "      <th>1</th>\n",
       "      <td>73</td>\n",
       "    </tr>\n",
       "    <tr>\n",
       "      <th>2</th>\n",
       "      <td>32</td>\n",
       "    </tr>\n",
       "    <tr>\n",
       "      <th>3</th>\n",
       "      <td>19</td>\n",
       "    </tr>\n",
       "    <tr>\n",
       "      <th>0</th>\n",
       "      <td>17</td>\n",
       "    </tr>\n",
       "    <tr>\n",
       "      <th>5</th>\n",
       "      <td>13</td>\n",
       "    </tr>\n",
       "    <tr>\n",
       "      <th>4</th>\n",
       "      <td>11</td>\n",
       "    </tr>\n",
       "    <tr>\n",
       "      <th>6</th>\n",
       "      <td>8</td>\n",
       "    </tr>\n",
       "    <tr>\n",
       "      <th>7</th>\n",
       "      <td>7</td>\n",
       "    </tr>\n",
       "    <tr>\n",
       "      <th>8</th>\n",
       "      <td>4</td>\n",
       "    </tr>\n",
       "    <tr>\n",
       "      <th>29</th>\n",
       "      <td>1</td>\n",
       "    </tr>\n",
       "    <tr>\n",
       "      <th>20</th>\n",
       "      <td>1</td>\n",
       "    </tr>\n",
       "    <tr>\n",
       "      <th>14</th>\n",
       "      <td>1</td>\n",
       "    </tr>\n",
       "    <tr>\n",
       "      <th>9</th>\n",
       "      <td>1</td>\n",
       "    </tr>\n",
       "  </tbody>\n",
       "</table>\n",
       "</div>"
      ],
      "text/plain": [
       "    사양관리사인원수\n",
       "1         73\n",
       "2         32\n",
       "3         19\n",
       "0         17\n",
       "5         13\n",
       "4         11\n",
       "6          8\n",
       "7          7\n",
       "8          4\n",
       "29         1\n",
       "20         1\n",
       "14         1\n",
       "9          1"
      ]
     },
     "execution_count": 24,
     "metadata": {},
     "output_type": "execute_result"
    }
   ],
   "source": [
    "data = simple_df['사양관리사인원수'].value_counts()\n",
    "\n",
    "pd.DataFrame(data)"
   ]
  },
  {
   "cell_type": "code",
   "execution_count": 25,
   "metadata": {},
   "outputs": [
    {
     "data": {
      "image/png": "[encoded data removed]",
      "text/plain": [
       "<Figure size 432x288 with 1 Axes>"
      ]
     },
     "metadata": {
      "needs_background": "light"
     },
     "output_type": "display_data"
    }
   ],
   "source": [
    "simple_df[['동물보호센터명', '사양관리사인원수']].plot.hist(bins=100, rwidth=10)\n",
    "\n",
    "plt.show()"
   ]
  },
  {
   "cell_type": "code",
   "execution_count": 26,
   "metadata": {},
   "outputs": [
    {
     "data": {
      "text/plain": [
       "((188, 10), (184, 10))"
      ]
     },
     "execution_count": 26,
     "metadata": {},
     "output_type": "execute_result"
    }
   ],
   "source": [
    "address_df = simple_df[simple_df['소재지도로명주소'].notnull()]\n",
    "\n",
    "simple_df.shape, address_df.shape"
   ]
  },
  {
   "cell_type": "code",
   "execution_count": 27,
   "metadata": {},
   "outputs": [
    {
     "data": {
      "text/html": [
       "<div>\n",
       "<style scoped>\n",
       "    .dataframe tbody tr th:only-of-type {\n",
       "        vertical-align: middle;\n",
       "    }\n",
       "\n",
       "    .dataframe tbody tr th {\n",
       "        vertical-align: top;\n",
       "    }\n",
       "\n",
       "    .dataframe thead th {\n",
       "        text-align: right;\n",
       "    }\n",
       "</style>\n",
       "<table border=\"1\" class=\"dataframe\">\n",
       "  <thead>\n",
       "    <tr style=\"text-align: right;\">\n",
       "      <th></th>\n",
       "      <th>동물보호센터명</th>\n",
       "      <th>관리기관명</th>\n",
       "      <th>동물보호센터유형</th>\n",
       "      <th>구조대상동물</th>\n",
       "      <th>소재지도로명주소</th>\n",
       "      <th>위도</th>\n",
       "      <th>경도</th>\n",
       "      <th>휴무일</th>\n",
       "      <th>수의사인원수</th>\n",
       "      <th>사양관리사인원수</th>\n",
       "    </tr>\n",
       "  </thead>\n",
       "  <tbody>\n",
       "    <tr>\n",
       "      <th>34</th>\n",
       "      <td>서초동물사랑센터</td>\n",
       "      <td>서초구청 지역경제과</td>\n",
       "      <td>법인</td>\n",
       "      <td>개</td>\n",
       "      <td>서울특별시 서초구  양재천로19길 22 (양재동)</td>\n",
       "      <td>37.476332</td>\n",
       "      <td>127.038124</td>\n",
       "      <td>매주월요일, 법정공휴일(일요일제외)</td>\n",
       "      <td>0</td>\n",
       "      <td>5</td>\n",
       "    </tr>\n",
       "    <tr>\n",
       "      <th>121</th>\n",
       "      <td>러브펫종합동물병원</td>\n",
       "      <td>서울특별시 관악구청</td>\n",
       "      <td>동물병원</td>\n",
       "      <td>개+고양이+기타유기동물</td>\n",
       "      <td>서울특별시 관악구 남부순환로 1451</td>\n",
       "      <td>37.481566</td>\n",
       "      <td>126.912010</td>\n",
       "      <td>연중무휴</td>\n",
       "      <td>2</td>\n",
       "      <td>5</td>\n",
       "    </tr>\n",
       "    <tr>\n",
       "      <th>173</th>\n",
       "      <td>강현림동물병원</td>\n",
       "      <td>서울특별시 양천구청</td>\n",
       "      <td>동물병원</td>\n",
       "      <td>반려동물</td>\n",
       "      <td>서울특별시 양천구 등촌로 160</td>\n",
       "      <td>37.543980</td>\n",
       "      <td>126.862417</td>\n",
       "      <td>매주일요일</td>\n",
       "      <td>1</td>\n",
       "      <td>2</td>\n",
       "    </tr>\n",
       "  </tbody>\n",
       "</table>\n",
       "</div>"
      ],
      "text/plain": [
       "       동물보호센터명       관리기관명 동물보호센터유형        구조대상동물  \\\n",
       "34    서초동물사랑센터  서초구청 지역경제과       법인             개   \n",
       "121  러브펫종합동물병원  서울특별시 관악구청     동물병원  개+고양이+기타유기동물   \n",
       "173    강현림동물병원  서울특별시 양천구청     동물병원          반려동물   \n",
       "\n",
       "                        소재지도로명주소         위도          경도                  휴무일  \\\n",
       "34   서울특별시 서초구  양재천로19길 22 (양재동)  37.476332  127.038124  매주월요일, 법정공휴일(일요일제외)   \n",
       "121         서울특별시 관악구 남부순환로 1451  37.481566  126.912010                 연중무휴   \n",
       "173            서울특별시 양천구 등촌로 160  37.543980  126.862417                매주일요일   \n",
       "\n",
       "     수의사인원수  사양관리사인원수  \n",
       "34        0         5  \n",
       "121       2         5  \n",
       "173       1         2  "
      ]
     },
     "execution_count": 27,
     "metadata": {},
     "output_type": "execute_result"
    }
   ],
   "source": [
    "address_df[address_df['소재지도로명주소'].str.contains('서울')]"
   ]
  },
  {
   "cell_type": "code",
   "execution_count": 28,
   "metadata": {
    "scrolled": false
   },
   "outputs": [
    {
     "data": {
      "text/html": [
       "<div style=\"width:100%;\"><div style=\"position:relative;width:100%;height:0;padding-bottom:60%;\"><iframe src=\"data:text/html;charset=utf-8;base64,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\" style=\"position:absolute;width:100%;height:100%;left:0;top:0;border:none !important;\" allowfullscreen webkitallowfullscreen mozallowfullscreen></iframe></div></div>"
      ],
      "text/plain": [
       "<folium.folium.Map at 0x1148a42d0>"
      ]
     },
     "execution_count": 28,
     "metadata": {},
     "output_type": "execute_result"
    }
   ],
   "source": [
    "map = Map(location=[36.5, 127.5], zoom_start=7) # 위치 잡는 법 \n",
    "#구글 맵 기준 \n",
    "data = simple_df[['위도', '경도']].groupby(['위도', '경도']).sum().reset_index().values.tolist()\n",
    "\n",
    "HeatMap(data=data, radius=20).add_to(map)\n",
    "\n",
    "for lat, lng in data:\n",
    "    marker = folium.Circle(\n",
    "        location=[lat, lng],\n",
    "        radius=500,\n",
    "        weight=1,\n",
    "        fill_color='#F00',\n",
    "        fill_opacity=0.3,\n",
    "    )\n",
    "    marker.add_to(map)\n",
    "\n",
    "map"
   ]
  },
  {
   "cell_type": "code",
   "execution_count": null,
   "metadata": {},
   "outputs": [],
   "source": []
  }
 ],
 "metadata": {
  "kernelspec": {
   "display_name": "Python 3",
   "language": "python",
   "name": "python3"
  },
  "language_info": {
   "codemirror_mode": {
    "name": "ipython",
    "version": 3
   },
   "file_extension": ".py",
   "mimetype": "text/x-python",
   "name": "python",
   "nbconvert_exporter": "python",
   "pygments_lexer": "ipython3",
   "version": "3.7.4"
  }
 },
 "nbformat": 4,
 "nbformat_minor": 2
}
