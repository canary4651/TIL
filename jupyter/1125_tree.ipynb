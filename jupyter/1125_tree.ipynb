{
 "cells": [
  {
   "cell_type": "markdown",
   "metadata": {},
   "source": [
    "# 이진 트리"
   ]
  },
  {
   "cell_type": "markdown",
   "metadata": {},
   "source": [
    "## 노드 (아무 것도 안함)"
   ]
  },
  {
   "cell_type": "code",
   "execution_count": 1,
   "metadata": {},
   "outputs": [],
   "source": [
    "class Node:\n",
    "    pass"
   ]
  },
  {
   "cell_type": "code",
   "execution_count": 2,
   "metadata": {},
   "outputs": [
    {
     "data": {
      "text/plain": [
       "<__main__.Node at 0x10b966e10>"
      ]
     },
     "execution_count": 2,
     "metadata": {},
     "output_type": "execute_result"
    }
   ],
   "source": [
    "node = Node()\n",
    "\n",
    "node"
   ]
  },
  {
   "cell_type": "markdown",
   "metadata": {},
   "source": [
    "## 값을 갖는 노드"
   ]
  },
  {
   "cell_type": "code",
   "execution_count": 3,
   "metadata": {},
   "outputs": [],
   "source": [
    "class Node:\n",
    "    def __init__(self, value):\n",
    "        self.value = value"
   ]
  },
  {
   "cell_type": "code",
   "execution_count": 4,
   "metadata": {},
   "outputs": [
    {
     "data": {
      "text/plain": [
       "<__main__.Node at 0x10b879050>"
      ]
     },
     "execution_count": 4,
     "metadata": {},
     "output_type": "execute_result"
    }
   ],
   "source": [
    "node = Node(13)\n",
    "\n",
    "node"
   ]
  },
  {
   "cell_type": "code",
   "execution_count": 5,
   "metadata": {},
   "outputs": [
    {
     "data": {
      "text/plain": [
       "13"
      ]
     },
     "execution_count": 5,
     "metadata": {},
     "output_type": "execute_result"
    }
   ],
   "source": [
    "node.value"
   ]
  },
  {
   "cell_type": "markdown",
   "metadata": {},
   "source": [
    "## 값을 보여주는 노드\n",
    "\n",
    "Jupyter Notebook에서 객체를 출력하고 싶으면 `_repr_html_` 메서드를 만들어서 쓰면 됩니다.\n",
    "\n",
    "[Integrating your objects with IPython](https://ipython.readthedocs.io/en/stable/config/integrating.html)"
   ]
  },
  {
   "cell_type": "code",
   "execution_count": 6,
   "metadata": {},
   "outputs": [],
   "source": [
    "class Node:\n",
    "    def __init__(self, value):\n",
    "        self.value = value\n",
    "\n",
    "    def _repr_html_(self):\n",
    "        return f'<b>Node</b> (value: {self.value})'"
   ]
  },
  {
   "cell_type": "code",
   "execution_count": 7,
   "metadata": {},
   "outputs": [
    {
     "data": {
      "text/html": [
       "<b>Node</b> (value: 13)"
      ],
      "text/plain": [
       "<__main__.Node at 0x10e8c25d0>"
      ]
     },
     "execution_count": 7,
     "metadata": {},
     "output_type": "execute_result"
    }
   ],
   "source": [
    "node = Node(13)\n",
    "\n",
    "node"
   ]
  },
  {
   "cell_type": "markdown",
   "metadata": {},
   "source": [
    "### HTML 만드는 코드를 재사용하기 좋게 함수로 분리"
   ]
  },
  {
   "cell_type": "code",
   "execution_count": 8,
   "metadata": {},
   "outputs": [],
   "source": [
    "def node_html(node):\n",
    "    return f'<b>Node</b> (value: {node.value})'"
   ]
  },
  {
   "cell_type": "code",
   "execution_count": 9,
   "metadata": {},
   "outputs": [],
   "source": [
    "class Node:\n",
    "    def __init__(self, value):\n",
    "        self.value = value\n",
    "\n",
    "    def _repr_html_(self):\n",
    "        return node_html(self)"
   ]
  },
  {
   "cell_type": "code",
   "execution_count": 10,
   "metadata": {},
   "outputs": [
    {
     "data": {
      "text/html": [
       "<b>Node</b> (value: 13)"
      ],
      "text/plain": [
       "<__main__.Node at 0x10e8b7910>"
      ]
     },
     "execution_count": 10,
     "metadata": {},
     "output_type": "execute_result"
    }
   ],
   "source": [
    "node = Node(13)\n",
    "\n",
    "node"
   ]
  },
  {
   "cell_type": "markdown",
   "metadata": {},
   "source": [
    "## 자녀를 가질 수 있는 노드"
   ]
  },
  {
   "cell_type": "code",
   "execution_count": 11,
   "metadata": {},
   "outputs": [],
   "source": [
    "class Node:\n",
    "    def __init__(self, value):\n",
    "        self.value = value\n",
    "        self.children = [None, None]\n",
    "\n",
    "    def _repr_html_(self):\n",
    "        return node_html(self)"
   ]
  },
  {
   "cell_type": "code",
   "execution_count": 12,
   "metadata": {},
   "outputs": [
    {
     "data": {
      "text/html": [
       "<b>Node</b> (value: 13)"
      ],
      "text/plain": [
       "<__main__.Node at 0x10e89e4d0>"
      ]
     },
     "execution_count": 12,
     "metadata": {},
     "output_type": "execute_result"
    }
   ],
   "source": [
    "node = Node(13)\n",
    "\n",
    "node"
   ]
  },
  {
   "cell_type": "markdown",
   "metadata": {},
   "source": [
    "## 자녀를 가진 노드 ⇒ 트리 만들기"
   ]
  },
  {
   "cell_type": "code",
   "execution_count": 13,
   "metadata": {},
   "outputs": [],
   "source": [
    "# 0과 1에 “방향”이란 의미 부여\n",
    "LEFT = 0\n",
    "RIGHT = 1"
   ]
  },
  {
   "cell_type": "code",
   "execution_count": 14,
   "metadata": {},
   "outputs": [
    {
     "data": {
      "text/html": [
       "<b>Node</b> (value: 13)"
      ],
      "text/plain": [
       "<__main__.Node at 0x10e8c8850>"
      ]
     },
     "execution_count": 14,
     "metadata": {},
     "output_type": "execute_result"
    }
   ],
   "source": [
    "root = Node(13)\n",
    "\n",
    "root.children[LEFT] = Node(3)\n",
    "root.children[RIGHT] = Node(23)\n",
    "\n",
    "root"
   ]
  },
  {
   "cell_type": "markdown",
   "metadata": {},
   "source": [
    "## 자녀까지 보여주기\n",
    "\n",
    "“재귀”를 사용하기 때문에 꽤 어려울 수 있습니다.\n",
    "\n",
    "[구글에서 “recursion” 찾기](https://www.google.com/search?q=recursion)\n",
    "\n",
    "[칸아카데미의 “재귀” 강의](https://ko.khanacademy.org/computing/computer-science/algorithms/recursive-algorithms/a/recursion)"
   ]
  },
  {
   "cell_type": "code",
   "execution_count": 15,
   "metadata": {},
   "outputs": [],
   "source": [
    "def node_html(node):\n",
    "    html = f'<b>Node</b> (value: {node.value})'\n",
    "    # div 태그에 padding 스타일을 적용해서 깊이를 표현합니다.\n",
    "    html += '<div style=\"padding-left:1em\">'\n",
    "    for position, child in zip('LR', node.children):\n",
    "        if child:\n",
    "            html += f'{position}: '\n",
    "            html += node_html(child) # ← 여기서 재귀합니다.\n",
    "    html += '</div>'\n",
    "    return html"
   ]
  },
  {
   "cell_type": "code",
   "execution_count": 16,
   "metadata": {},
   "outputs": [
    {
     "name": "stdout",
     "output_type": "stream",
     "text": [
      "1 4\n",
      "2 5\n",
      "3 6\n"
     ]
    }
   ],
   "source": [
    "for a, b in zip([1, 2, 3], [4, 5, 6]):\n",
    "    print(a, b)"
   ]
  },
  {
   "cell_type": "code",
   "execution_count": 17,
   "metadata": {},
   "outputs": [
    {
     "name": "stdout",
     "output_type": "stream",
     "text": [
      "L 1\n",
      "R 2\n"
     ]
    }
   ],
   "source": [
    "for a, b in zip('LR', [1, 2]):\n",
    "    print(a, b)"
   ]
  },
  {
   "cell_type": "code",
   "execution_count": 18,
   "metadata": {},
   "outputs": [
    {
     "data": {
      "text/html": [
       "<b>Node</b> (value: 13)<div style=\"padding-left:1em\">L: <b>Node</b> (value: 3)<div style=\"padding-left:1em\"></div>R: <b>Node</b> (value: 23)<div style=\"padding-left:1em\"></div></div>"
      ],
      "text/plain": [
       "<__main__.Node at 0x10e8c8850>"
      ]
     },
     "execution_count": 18,
     "metadata": {},
     "output_type": "execute_result"
    }
   ],
   "source": [
    "root"
   ]
  },
  {
   "cell_type": "code",
   "execution_count": 19,
   "metadata": {},
   "outputs": [
    {
     "data": {
      "text/html": [
       "<b>Node</b> (value: 13)<div style=\"padding-left:1em\">L: <b>Node</b> (value: 3)<div style=\"padding-left:1em\">L: <b>Node</b> (value: 1)<div style=\"padding-left:1em\"></div>R: <b>Node</b> (value: 6)<div style=\"padding-left:1em\"></div></div>R: <b>Node</b> (value: 23)<div style=\"padding-left:1em\">R: <b>Node</b> (value: 29)<div style=\"padding-left:1em\"></div></div></div>"
      ],
      "text/plain": [
       "<__main__.Node at 0x10e8c8850>"
      ]
     },
     "execution_count": 19,
     "metadata": {},
     "output_type": "execute_result"
    }
   ],
   "source": [
    "root.children[LEFT].children[LEFT] = Node(1)\n",
    "root.children[LEFT].children[RIGHT] = Node(6)\n",
    "\n",
    "root.children[RIGHT].children[RIGHT] = Node(29)\n",
    "\n",
    "root"
   ]
  },
  {
   "cell_type": "markdown",
   "metadata": {},
   "source": [
    "## 자기보다 작은 값은 왼쪽 자녀로, 크거나 같은 값은 오른 쪽 자녀로 만들기"
   ]
  },
  {
   "cell_type": "code",
   "execution_count": 20,
   "metadata": {},
   "outputs": [],
   "source": [
    "class Node:\n",
    "    def __init__(self, value):\n",
    "        self.value = value\n",
    "        self.children = [None, None]\n",
    "\n",
    "    def add(self, value):\n",
    "        child = Node(value)\n",
    "        if value < self.value:\n",
    "            self.children[LEFT] = child\n",
    "            return self.children[LEFT]\n",
    "        self.children[RIGHT] = child\n",
    "        return self.children[RIGHT]\n",
    "\n",
    "    def _repr_html_(self):\n",
    "        return node_html(self)"
   ]
  },
  {
   "cell_type": "code",
   "execution_count": 21,
   "metadata": {},
   "outputs": [
    {
     "data": {
      "text/html": [
       "<b>Node</b> (value: 13)<div style=\"padding-left:1em\">L: <b>Node</b> (value: 3)<div style=\"padding-left:1em\"></div>R: <b>Node</b> (value: 23)<div style=\"padding-left:1em\"></div></div>"
      ],
      "text/plain": [
       "<__main__.Node at 0x10e8d1c10>"
      ]
     },
     "execution_count": 21,
     "metadata": {},
     "output_type": "execute_result"
    }
   ],
   "source": [
    "root = Node(13)\n",
    "\n",
    "root.add(3)\n",
    "root.add(23)\n",
    "\n",
    "root"
   ]
  },
  {
   "cell_type": "markdown",
   "metadata": {},
   "source": [
    "### add 코드 정리"
   ]
  },
  {
   "cell_type": "code",
   "execution_count": 22,
   "metadata": {},
   "outputs": [],
   "source": [
    "class Node:\n",
    "    def __init__(self, value):\n",
    "        self.value = value\n",
    "        self.children = [None, None]\n",
    "\n",
    "    def add(self, value):\n",
    "        position = [RIGHT, LEFT][value < self.value]\n",
    "        self.children[position] = Node(value)\n",
    "        return self.children[position]\n",
    "\n",
    "    def _repr_html_(self):\n",
    "        return node_html(self)"
   ]
  },
  {
   "cell_type": "code",
   "execution_count": 23,
   "metadata": {},
   "outputs": [
    {
     "data": {
      "text/html": [
       "<b>Node</b> (value: 13)<div style=\"padding-left:1em\">L: <b>Node</b> (value: 3)<div style=\"padding-left:1em\"></div>R: <b>Node</b> (value: 23)<div style=\"padding-left:1em\"></div></div>"
      ],
      "text/plain": [
       "<__main__.Node at 0x10e8c86d0>"
      ]
     },
     "execution_count": 23,
     "metadata": {},
     "output_type": "execute_result"
    }
   ],
   "source": [
    "root = Node(13)\n",
    "\n",
    "root.add(3)\n",
    "root.add(23)\n",
    "\n",
    "root"
   ]
  },
  {
   "cell_type": "markdown",
   "metadata": {},
   "source": [
    "## 더 깊은 트리 만들기"
   ]
  },
  {
   "cell_type": "code",
   "execution_count": 24,
   "metadata": {},
   "outputs": [],
   "source": [
    "class Node:\n",
    "    def __init__(self, value):\n",
    "        self.value = value\n",
    "        self.children = [None, None]\n",
    "\n",
    "    def add(self, value):\n",
    "        position = [RIGHT, LEFT][value < self.value]\n",
    "        if self.children[position]:  # ← 만약 이미 노드가 있는 상태라면!!!!!!!!\n",
    "            child = self.children[position]\n",
    "            return child.add(value)  # ← 자녀에게 책임을 “위임”한다.\n",
    "        self.children[position] = Node(value)\n",
    "        return self.children[position]\n",
    "\n",
    "    def _repr_html_(self):\n",
    "        return node_html(self)"
   ]
  },
  {
   "cell_type": "code",
   "execution_count": 25,
   "metadata": {},
   "outputs": [
    {
     "data": {
      "text/html": [
       "<b>Node</b> (value: 13)<div style=\"padding-left:1em\">L: <b>Node</b> (value: 3)<div style=\"padding-left:1em\">L: <b>Node</b> (value: 1)<div style=\"padding-left:1em\"></div>R: <b>Node</b> (value: 8)<div style=\"padding-left:1em\"></div></div>R: <b>Node</b> (value: 23)<div style=\"padding-left:1em\">L: <b>Node</b> (value: 20)<div style=\"padding-left:1em\"></div>R: <b>Node</b> (value: 33)<div style=\"padding-left:1em\"></div></div></div>"
      ],
      "text/plain": [
       "<__main__.Node at 0x10e8c8450>"
      ]
     },
     "execution_count": 25,
     "metadata": {},
     "output_type": "execute_result"
    }
   ],
   "source": [
    "root = Node(13)\n",
    "\n",
    "root = Node(13)\n",
    "root.add(3)\n",
    "root.add(1)\n",
    "root.add(8)\n",
    "root.add(23)\n",
    "root.add(20)\n",
    "root.add(33)\n",
    "\n",
    "root"
   ]
  },
  {
   "cell_type": "markdown",
   "metadata": {},
   "source": [
    "## 값으로 노드 찾기"
   ]
  },
  {
   "cell_type": "code",
   "execution_count": 26,
   "metadata": {},
   "outputs": [],
   "source": [
    "class Node:\n",
    "    def __init__(self, value):\n",
    "        self.value = value\n",
    "        self.children = [None, None]\n",
    "\n",
    "    def add(self, value):\n",
    "        position = [RIGHT, LEFT][value < self.value]\n",
    "        if self.children[position]:\n",
    "            child = self.children[position]\n",
    "            return child.add(value)\n",
    "        self.children[position] = Node(value)\n",
    "        return self.children[position]\n",
    "\n",
    "    def find(self, value):\n",
    "        if value == self.value:\n",
    "            return self\n",
    "        position = [RIGHT, LEFT][value < self.value]\n",
    "        child = self.children[position]\n",
    "        if not child:  # ← 노드를 찾을 수 없는 경우엔 None을 돌려준다.\n",
    "            return None\n",
    "        return child.find(value)  # ← 자녀에게 책임을 “위임”한다.\n",
    "\n",
    "    def _repr_html_(self):\n",
    "        return node_html(self)"
   ]
  },
  {
   "cell_type": "code",
   "execution_count": 27,
   "metadata": {},
   "outputs": [
    {
     "data": {
      "text/html": [
       "<b>Node</b> (value: 13)<div style=\"padding-left:1em\">L: <b>Node</b> (value: 3)<div style=\"padding-left:1em\">L: <b>Node</b> (value: 1)<div style=\"padding-left:1em\"></div>R: <b>Node</b> (value: 8)<div style=\"padding-left:1em\"></div></div>R: <b>Node</b> (value: 23)<div style=\"padding-left:1em\">L: <b>Node</b> (value: 20)<div style=\"padding-left:1em\"></div>R: <b>Node</b> (value: 33)<div style=\"padding-left:1em\"></div></div></div>"
      ],
      "text/plain": [
       "<__main__.Node at 0x10e885a50>"
      ]
     },
     "execution_count": 27,
     "metadata": {},
     "output_type": "execute_result"
    }
   ],
   "source": [
    "root = Node(13)\n",
    "\n",
    "root = Node(13)\n",
    "root.add(3)\n",
    "root.add(1)\n",
    "root.add(8)\n",
    "root.add(23)\n",
    "root.add(20)\n",
    "root.add(33)\n",
    "\n",
    "root"
   ]
  },
  {
   "cell_type": "code",
   "execution_count": 28,
   "metadata": {},
   "outputs": [
    {
     "data": {
      "text/html": [
       "<b>Node</b> (value: 13)<div style=\"padding-left:1em\">L: <b>Node</b> (value: 3)<div style=\"padding-left:1em\">L: <b>Node</b> (value: 1)<div style=\"padding-left:1em\"></div>R: <b>Node</b> (value: 8)<div style=\"padding-left:1em\"></div></div>R: <b>Node</b> (value: 23)<div style=\"padding-left:1em\">L: <b>Node</b> (value: 20)<div style=\"padding-left:1em\"></div>R: <b>Node</b> (value: 33)<div style=\"padding-left:1em\"></div></div></div>"
      ],
      "text/plain": [
       "<__main__.Node at 0x10e885a50>"
      ]
     },
     "execution_count": 28,
     "metadata": {},
     "output_type": "execute_result"
    }
   ],
   "source": [
    "root.find(13)"
   ]
  },
  {
   "cell_type": "code",
   "execution_count": 29,
   "metadata": {},
   "outputs": [
    {
     "data": {
      "text/html": [
       "<b>Node</b> (value: 3)<div style=\"padding-left:1em\">L: <b>Node</b> (value: 1)<div style=\"padding-left:1em\"></div>R: <b>Node</b> (value: 8)<div style=\"padding-left:1em\"></div></div>"
      ],
      "text/plain": [
       "<__main__.Node at 0x10e885890>"
      ]
     },
     "execution_count": 29,
     "metadata": {},
     "output_type": "execute_result"
    }
   ],
   "source": [
    "root.find(3)"
   ]
  },
  {
   "cell_type": "code",
   "execution_count": 30,
   "metadata": {},
   "outputs": [
    {
     "data": {
      "text/html": [
       "<b>Node</b> (value: 23)<div style=\"padding-left:1em\">L: <b>Node</b> (value: 20)<div style=\"padding-left:1em\"></div>R: <b>Node</b> (value: 33)<div style=\"padding-left:1em\"></div></div>"
      ],
      "text/plain": [
       "<__main__.Node at 0x10e885750>"
      ]
     },
     "execution_count": 30,
     "metadata": {},
     "output_type": "execute_result"
    }
   ],
   "source": [
    "root.find(23)"
   ]
  },
  {
   "cell_type": "code",
   "execution_count": 31,
   "metadata": {},
   "outputs": [
    {
     "data": {
      "text/html": [
       "<b>Node</b> (value: 8)<div style=\"padding-left:1em\"></div>"
      ],
      "text/plain": [
       "<__main__.Node at 0x10e885b50>"
      ]
     },
     "execution_count": 31,
     "metadata": {},
     "output_type": "execute_result"
    }
   ],
   "source": [
    "root.find(8)"
   ]
  },
  {
   "cell_type": "code",
   "execution_count": 32,
   "metadata": {},
   "outputs": [
    {
     "data": {
      "text/html": [
       "<b>Node</b> (value: 20)<div style=\"padding-left:1em\"></div>"
      ],
      "text/plain": [
       "<__main__.Node at 0x10e885f10>"
      ]
     },
     "execution_count": 32,
     "metadata": {},
     "output_type": "execute_result"
    }
   ],
   "source": [
    "root.find(20)"
   ]
  },
  {
   "cell_type": "code",
   "execution_count": 33,
   "metadata": {},
   "outputs": [
    {
     "data": {
      "text/plain": [
       "'찾을 수 없음'"
      ]
     },
     "execution_count": 33,
     "metadata": {},
     "output_type": "execute_result"
    }
   ],
   "source": [
    "root.find(10) or '찾을 수 없음'"
   ]
  },
  {
   "cell_type": "code",
   "execution_count": null,
   "metadata": {},
   "outputs": [],
   "source": []
  }
 ],
 "metadata": {
  "kernelspec": {
   "display_name": "Python 3",
   "language": "python",
   "name": "python3"
  },
  "language_info": {
   "codemirror_mode": {
    "name": "ipython",
    "version": 3
   },
   "file_extension": ".py",
   "mimetype": "text/x-python",
   "name": "python",
   "nbconvert_exporter": "python",
   "pygments_lexer": "ipython3",
   "version": "3.7.4"
  }
 },
 "nbformat": 4,
 "nbformat_minor": 2
}
