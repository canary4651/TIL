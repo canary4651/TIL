{
 "cells": [
  {
   "cell_type": "markdown",
   "metadata": {},
   "source": [
    "# 지진해일대피소 현황 분석 및 개선 방안 제시"
   ]
  },
  {
   "cell_type": "code",
   "execution_count": 1,
   "metadata": {
    "scrolled": true
   },
   "outputs": [],
   "source": [
    "import pandas as pd \n",
    "import folium \n",
    "import matplotlib\n",
    "import matplotlib.pyplot as plt\n",
    "import pylab\n",
    "import numpy as np\n",
    "from folium import Map\n",
    "\n",
    "\n",
    "#설치 안된거는 설치해주세요"
   ]
  },
  {
   "cell_type": "code",
   "execution_count": 2,
   "metadata": {},
   "outputs": [
    {
     "data": {
      "text/plain": [
       "['AppleGothic']"
      ]
     },
     "execution_count": 2,
     "metadata": {},
     "output_type": "execute_result"
    }
   ],
   "source": [
    "# 파이그래프에서 한국어 나오게 하는 코드 \n",
    "\n",
    "import matplotlib.font_manager as fm\n",
    "\n",
    "for font in fm.fontManager.ttflist:\n",
    "    if font.name in ['AppleGothic', 'Malgun Gothic']:\n",
    "        plt.rcParams['font.family'] = font.name\n",
    "        break\n",
    "\n",
    "plt.rcParams['font.family']"
   ]
  },
  {
   "cell_type": "markdown",
   "metadata": {},
   "source": [
    "# 선택한  데이터 \n",
    "- 전국지진해일대피소표준데이터\n",
    "    - 통합, 광명시 \n",
    "- KOSIS 행정구역(시군구)별 인구 통계 데이터 "
   ]
  },
  {
   "cell_type": "markdown",
   "metadata": {},
   "source": [
    "# EDA"
   ]
  },
  {
   "cell_type": "markdown",
   "metadata": {},
   "source": [
    "## 서울특별시, 인천광역시, 경기도 데이터만 추출\n",
    "### 특이사항\n",
    "- 소재지도로명주소와 소재지지번주소 둘 중 하나만 기입되어 도로명 주소 결측치는 소재지지번주소 컬럼에서 가져옴\n",
    "- 경기도 광명시 데이터가 몇일 전에 올라와서 따로 다운받아 전국 통합본에 합침\n",
    "\n",
    "### 과정\n",
    "1. 주소를 string type으로 변환\n",
    "2. 띄어쓰기를 기준으로 첫번째 덩어리 ('서울특별시', '인천광역시', '경기도' 등등)만 'area' 컬럼으로 저장 \n",
    "3. area가 '서울특별시', '인천광역시', '경기도'인건만 새로운 테이블(shelter_GG)로 저장 "
   ]
  },
  {
   "cell_type": "code",
   "execution_count": 3,
   "metadata": {},
   "outputs": [],
   "source": [
    "shelter = pd.read_csv('전국지진해일대피소표준데이터.csv', encoding = \"CP949\")"
   ]
  },
  {
   "cell_type": "code",
   "execution_count": 4,
   "metadata": {
    "scrolled": false
   },
   "outputs": [
    {
     "data": {
      "text/plain": [
       "10305"
      ]
     },
     "execution_count": 4,
     "metadata": {},
     "output_type": "execute_result"
    }
   ],
   "source": [
    "len(shelter)"
   ]
  },
  {
   "cell_type": "code",
   "execution_count": 5,
   "metadata": {},
   "outputs": [
    {
     "ename": "FileNotFoundError",
     "evalue": "[Errno 2] File b'\\xea\\xb2\\xbd\\xea\\xb8\\xb0\\xeb\\x8f\\x84_\\xea\\xb4\\x91\\xeb\\xaa\\x85\\xec\\x8b\\x9c_\\xec\\xa7\\x80\\xec\\xa7\\x84\\xed\\x95\\xb4\\xec\\x9d\\xbc\\xeb\\x8c\\x80\\xed\\x94\\xbc\\xec\\x86\\x8c_20190909.csv' does not exist: b'\\xea\\xb2\\xbd\\xea\\xb8\\xb0\\xeb\\x8f\\x84_\\xea\\xb4\\x91\\xeb\\xaa\\x85\\xec\\x8b\\x9c_\\xec\\xa7\\x80\\xec\\xa7\\x84\\xed\\x95\\xb4\\xec\\x9d\\xbc\\xeb\\x8c\\x80\\xed\\x94\\xbc\\xec\\x86\\x8c_20190909.csv'",
     "output_type": "error",
     "traceback": [
      "\u001b[0;31m---------------------------------------------------------------------------\u001b[0m",
      "\u001b[0;31mFileNotFoundError\u001b[0m                         Traceback (most recent call last)",
      "\u001b[0;32m<ipython-input-5-7a7aa342507c>\u001b[0m in \u001b[0;36m<module>\u001b[0;34m\u001b[0m\n\u001b[0;32m----> 1\u001b[0;31m \u001b[0mkwangmyung\u001b[0m \u001b[0;34m=\u001b[0m \u001b[0mpd\u001b[0m\u001b[0;34m.\u001b[0m\u001b[0mread_csv\u001b[0m\u001b[0;34m(\u001b[0m\u001b[0;34m'경기도_광명시_지진해일대피소_20190909.csv'\u001b[0m\u001b[0;34m,\u001b[0m \u001b[0mencoding\u001b[0m \u001b[0;34m=\u001b[0m \u001b[0;34m\"CP949\"\u001b[0m\u001b[0;34m)\u001b[0m\u001b[0;34m\u001b[0m\u001b[0;34m\u001b[0m\u001b[0m\n\u001b[0m",
      "\u001b[0;32m/usr/local/lib/python3.7/site-packages/pandas/io/parsers.py\u001b[0m in \u001b[0;36mparser_f\u001b[0;34m(filepath_or_buffer, sep, delimiter, header, names, index_col, usecols, squeeze, prefix, mangle_dupe_cols, dtype, engine, converters, true_values, false_values, skipinitialspace, skiprows, skipfooter, nrows, na_values, keep_default_na, na_filter, verbose, skip_blank_lines, parse_dates, infer_datetime_format, keep_date_col, date_parser, dayfirst, cache_dates, iterator, chunksize, compression, thousands, decimal, lineterminator, quotechar, quoting, doublequote, escapechar, comment, encoding, dialect, error_bad_lines, warn_bad_lines, delim_whitespace, low_memory, memory_map, float_precision)\u001b[0m\n\u001b[1;32m    683\u001b[0m         )\n\u001b[1;32m    684\u001b[0m \u001b[0;34m\u001b[0m\u001b[0m\n\u001b[0;32m--> 685\u001b[0;31m         \u001b[0;32mreturn\u001b[0m \u001b[0m_read\u001b[0m\u001b[0;34m(\u001b[0m\u001b[0mfilepath_or_buffer\u001b[0m\u001b[0;34m,\u001b[0m \u001b[0mkwds\u001b[0m\u001b[0;34m)\u001b[0m\u001b[0;34m\u001b[0m\u001b[0;34m\u001b[0m\u001b[0m\n\u001b[0m\u001b[1;32m    686\u001b[0m \u001b[0;34m\u001b[0m\u001b[0m\n\u001b[1;32m    687\u001b[0m     \u001b[0mparser_f\u001b[0m\u001b[0;34m.\u001b[0m\u001b[0m__name__\u001b[0m \u001b[0;34m=\u001b[0m \u001b[0mname\u001b[0m\u001b[0;34m\u001b[0m\u001b[0;34m\u001b[0m\u001b[0m\n",
      "\u001b[0;32m/usr/local/lib/python3.7/site-packages/pandas/io/parsers.py\u001b[0m in \u001b[0;36m_read\u001b[0;34m(filepath_or_buffer, kwds)\u001b[0m\n\u001b[1;32m    455\u001b[0m \u001b[0;34m\u001b[0m\u001b[0m\n\u001b[1;32m    456\u001b[0m     \u001b[0;31m# Create the parser.\u001b[0m\u001b[0;34m\u001b[0m\u001b[0;34m\u001b[0m\u001b[0;34m\u001b[0m\u001b[0m\n\u001b[0;32m--> 457\u001b[0;31m     \u001b[0mparser\u001b[0m \u001b[0;34m=\u001b[0m \u001b[0mTextFileReader\u001b[0m\u001b[0;34m(\u001b[0m\u001b[0mfp_or_buf\u001b[0m\u001b[0;34m,\u001b[0m \u001b[0;34m**\u001b[0m\u001b[0mkwds\u001b[0m\u001b[0;34m)\u001b[0m\u001b[0;34m\u001b[0m\u001b[0;34m\u001b[0m\u001b[0m\n\u001b[0m\u001b[1;32m    458\u001b[0m \u001b[0;34m\u001b[0m\u001b[0m\n\u001b[1;32m    459\u001b[0m     \u001b[0;32mif\u001b[0m \u001b[0mchunksize\u001b[0m \u001b[0;32mor\u001b[0m \u001b[0miterator\u001b[0m\u001b[0;34m:\u001b[0m\u001b[0;34m\u001b[0m\u001b[0;34m\u001b[0m\u001b[0m\n",
      "\u001b[0;32m/usr/local/lib/python3.7/site-packages/pandas/io/parsers.py\u001b[0m in \u001b[0;36m__init__\u001b[0;34m(self, f, engine, **kwds)\u001b[0m\n\u001b[1;32m    893\u001b[0m             \u001b[0mself\u001b[0m\u001b[0;34m.\u001b[0m\u001b[0moptions\u001b[0m\u001b[0;34m[\u001b[0m\u001b[0;34m\"has_index_names\"\u001b[0m\u001b[0;34m]\u001b[0m \u001b[0;34m=\u001b[0m \u001b[0mkwds\u001b[0m\u001b[0;34m[\u001b[0m\u001b[0;34m\"has_index_names\"\u001b[0m\u001b[0;34m]\u001b[0m\u001b[0;34m\u001b[0m\u001b[0;34m\u001b[0m\u001b[0m\n\u001b[1;32m    894\u001b[0m \u001b[0;34m\u001b[0m\u001b[0m\n\u001b[0;32m--> 895\u001b[0;31m         \u001b[0mself\u001b[0m\u001b[0;34m.\u001b[0m\u001b[0m_make_engine\u001b[0m\u001b[0;34m(\u001b[0m\u001b[0mself\u001b[0m\u001b[0;34m.\u001b[0m\u001b[0mengine\u001b[0m\u001b[0;34m)\u001b[0m\u001b[0;34m\u001b[0m\u001b[0;34m\u001b[0m\u001b[0m\n\u001b[0m\u001b[1;32m    896\u001b[0m \u001b[0;34m\u001b[0m\u001b[0m\n\u001b[1;32m    897\u001b[0m     \u001b[0;32mdef\u001b[0m \u001b[0mclose\u001b[0m\u001b[0;34m(\u001b[0m\u001b[0mself\u001b[0m\u001b[0;34m)\u001b[0m\u001b[0;34m:\u001b[0m\u001b[0;34m\u001b[0m\u001b[0;34m\u001b[0m\u001b[0m\n",
      "\u001b[0;32m/usr/local/lib/python3.7/site-packages/pandas/io/parsers.py\u001b[0m in \u001b[0;36m_make_engine\u001b[0;34m(self, engine)\u001b[0m\n\u001b[1;32m   1133\u001b[0m     \u001b[0;32mdef\u001b[0m \u001b[0m_make_engine\u001b[0m\u001b[0;34m(\u001b[0m\u001b[0mself\u001b[0m\u001b[0;34m,\u001b[0m \u001b[0mengine\u001b[0m\u001b[0;34m=\u001b[0m\u001b[0;34m\"c\"\u001b[0m\u001b[0;34m)\u001b[0m\u001b[0;34m:\u001b[0m\u001b[0;34m\u001b[0m\u001b[0;34m\u001b[0m\u001b[0m\n\u001b[1;32m   1134\u001b[0m         \u001b[0;32mif\u001b[0m \u001b[0mengine\u001b[0m \u001b[0;34m==\u001b[0m \u001b[0;34m\"c\"\u001b[0m\u001b[0;34m:\u001b[0m\u001b[0;34m\u001b[0m\u001b[0;34m\u001b[0m\u001b[0m\n\u001b[0;32m-> 1135\u001b[0;31m             \u001b[0mself\u001b[0m\u001b[0;34m.\u001b[0m\u001b[0m_engine\u001b[0m \u001b[0;34m=\u001b[0m \u001b[0mCParserWrapper\u001b[0m\u001b[0;34m(\u001b[0m\u001b[0mself\u001b[0m\u001b[0;34m.\u001b[0m\u001b[0mf\u001b[0m\u001b[0;34m,\u001b[0m \u001b[0;34m**\u001b[0m\u001b[0mself\u001b[0m\u001b[0;34m.\u001b[0m\u001b[0moptions\u001b[0m\u001b[0;34m)\u001b[0m\u001b[0;34m\u001b[0m\u001b[0;34m\u001b[0m\u001b[0m\n\u001b[0m\u001b[1;32m   1136\u001b[0m         \u001b[0;32melse\u001b[0m\u001b[0;34m:\u001b[0m\u001b[0;34m\u001b[0m\u001b[0;34m\u001b[0m\u001b[0m\n\u001b[1;32m   1137\u001b[0m             \u001b[0;32mif\u001b[0m \u001b[0mengine\u001b[0m \u001b[0;34m==\u001b[0m \u001b[0;34m\"python\"\u001b[0m\u001b[0;34m:\u001b[0m\u001b[0;34m\u001b[0m\u001b[0;34m\u001b[0m\u001b[0m\n",
      "\u001b[0;32m/usr/local/lib/python3.7/site-packages/pandas/io/parsers.py\u001b[0m in \u001b[0;36m__init__\u001b[0;34m(self, src, **kwds)\u001b[0m\n\u001b[1;32m   1904\u001b[0m         \u001b[0mkwds\u001b[0m\u001b[0;34m[\u001b[0m\u001b[0;34m\"usecols\"\u001b[0m\u001b[0;34m]\u001b[0m \u001b[0;34m=\u001b[0m \u001b[0mself\u001b[0m\u001b[0;34m.\u001b[0m\u001b[0musecols\u001b[0m\u001b[0;34m\u001b[0m\u001b[0;34m\u001b[0m\u001b[0m\n\u001b[1;32m   1905\u001b[0m \u001b[0;34m\u001b[0m\u001b[0m\n\u001b[0;32m-> 1906\u001b[0;31m         \u001b[0mself\u001b[0m\u001b[0;34m.\u001b[0m\u001b[0m_reader\u001b[0m \u001b[0;34m=\u001b[0m \u001b[0mparsers\u001b[0m\u001b[0;34m.\u001b[0m\u001b[0mTextReader\u001b[0m\u001b[0;34m(\u001b[0m\u001b[0msrc\u001b[0m\u001b[0;34m,\u001b[0m \u001b[0;34m**\u001b[0m\u001b[0mkwds\u001b[0m\u001b[0;34m)\u001b[0m\u001b[0;34m\u001b[0m\u001b[0;34m\u001b[0m\u001b[0m\n\u001b[0m\u001b[1;32m   1907\u001b[0m         \u001b[0mself\u001b[0m\u001b[0;34m.\u001b[0m\u001b[0munnamed_cols\u001b[0m \u001b[0;34m=\u001b[0m \u001b[0mself\u001b[0m\u001b[0;34m.\u001b[0m\u001b[0m_reader\u001b[0m\u001b[0;34m.\u001b[0m\u001b[0munnamed_cols\u001b[0m\u001b[0;34m\u001b[0m\u001b[0;34m\u001b[0m\u001b[0m\n\u001b[1;32m   1908\u001b[0m \u001b[0;34m\u001b[0m\u001b[0m\n",
      "\u001b[0;32mpandas/_libs/parsers.pyx\u001b[0m in \u001b[0;36mpandas._libs.parsers.TextReader.__cinit__\u001b[0;34m()\u001b[0m\n",
      "\u001b[0;32mpandas/_libs/parsers.pyx\u001b[0m in \u001b[0;36mpandas._libs.parsers.TextReader._setup_parser_source\u001b[0;34m()\u001b[0m\n",
      "\u001b[0;31mFileNotFoundError\u001b[0m: [Errno 2] File b'\\xea\\xb2\\xbd\\xea\\xb8\\xb0\\xeb\\x8f\\x84_\\xea\\xb4\\x91\\xeb\\xaa\\x85\\xec\\x8b\\x9c_\\xec\\xa7\\x80\\xec\\xa7\\x84\\xed\\x95\\xb4\\xec\\x9d\\xbc\\xeb\\x8c\\x80\\xed\\x94\\xbc\\xec\\x86\\x8c_20190909.csv' does not exist: b'\\xea\\xb2\\xbd\\xea\\xb8\\xb0\\xeb\\x8f\\x84_\\xea\\xb4\\x91\\xeb\\xaa\\x85\\xec\\x8b\\x9c_\\xec\\xa7\\x80\\xec\\xa7\\x84\\xed\\x95\\xb4\\xec\\x9d\\xbc\\xeb\\x8c\\x80\\xed\\x94\\xbc\\xec\\x86\\x8c_20190909.csv'"
     ]
    }
   ],
   "source": [
    "kwangmyung = pd.read_csv('경기도_광명시_지진해일대피소_20190909.csv', encoding = \"CP949\")"
   ]
  },
  {
   "cell_type": "code",
   "execution_count": null,
   "metadata": {},
   "outputs": [],
   "source": [
    "len(kwangmyung)"
   ]
  },
  {
   "cell_type": "code",
   "execution_count": null,
   "metadata": {},
   "outputs": [],
   "source": [
    "pd.DataFrame(kwangmyung.isnull().sum())"
   ]
  },
  {
   "cell_type": "code",
   "execution_count": null,
   "metadata": {},
   "outputs": [],
   "source": [
    "kwangmyung['제공기관명'] = '경기도 광명시'"
   ]
  },
  {
   "cell_type": "code",
   "execution_count": null,
   "metadata": {},
   "outputs": [],
   "source": [
    "shelter = pd.concat([shelter, kwangmyung], ignore_index = True, sort = False)"
   ]
  },
  {
   "cell_type": "code",
   "execution_count": null,
   "metadata": {},
   "outputs": [],
   "source": [
    "len(shelter)"
   ]
  },
  {
   "cell_type": "code",
   "execution_count": null,
   "metadata": {},
   "outputs": [],
   "source": [
    "shelter.columns"
   ]
  },
  {
   "cell_type": "markdown",
   "metadata": {},
   "source": [
    "# 위도 경도 결측치 채우기 \n",
    " \n",
    "1. 위도, 경도 결측치인 행만 빼서 하나의 테이블(nulls)로 저장 \n",
    "    - 정해진 API이용횟수 때문\n",
    "2. KAKAO API와 LOCATIONIQ API 활용해서 위도 경도 찾음 \n",
    "3. 두 API로도 안나온 주소지는 손수 찾아서 채움 \n",
    "4. 본래 통합본에 결측치 테이블(nulls) LEFT JOIN해서 최종 테이블(shelter_G)로 저장\n",
    "5. 위도, 경도 결측치 남은 것 없는지 확인"
   ]
  },
  {
   "cell_type": "code",
   "execution_count": null,
   "metadata": {},
   "outputs": [],
   "source": [
    "shelter[shelter['소재지도로명주소'].isnull()]"
   ]
  },
  {
   "cell_type": "code",
   "execution_count": null,
   "metadata": {},
   "outputs": [],
   "source": [
    "len(shelter[shelter['소재지도로명주소'].isnull()])"
   ]
  },
  {
   "cell_type": "code",
   "execution_count": null,
   "metadata": {},
   "outputs": [],
   "source": [
    "len(shelter[shelter['소재지도로명주소'].isnull()&shelter['소재지지번주소'].isnull()])"
   ]
  },
  {
   "cell_type": "code",
   "execution_count": null,
   "metadata": {},
   "outputs": [],
   "source": [
    "shelter[shelter['소재지도로명주소'].isnull()].head()"
   ]
  },
  {
   "cell_type": "code",
   "execution_count": null,
   "metadata": {},
   "outputs": [],
   "source": [
    "shelter['소재지도로명주소'] = shelter['소재지도로명주소'].fillna(shelter['소재지지번주소'])"
   ]
  },
  {
   "cell_type": "code",
   "execution_count": null,
   "metadata": {},
   "outputs": [],
   "source": [
    "shelter[shelter['소재지도로명주소'].isnull()]"
   ]
  },
  {
   "cell_type": "code",
   "execution_count": null,
   "metadata": {},
   "outputs": [],
   "source": [
    "shelter['소재지도로명주소'][1103]"
   ]
  },
  {
   "cell_type": "code",
   "execution_count": null,
   "metadata": {},
   "outputs": [],
   "source": [
    "# 소재지도로명주소 string타입으로 변형 \n",
    "shelter['소재지도로명주소'] = shelter['소재지도로명주소'].astype('str')"
   ]
  },
  {
   "cell_type": "code",
   "execution_count": null,
   "metadata": {},
   "outputs": [],
   "source": [
    "# 소재지도로명 띄어쓰기 기준으로 잘라 첫번째 덩어리만 area 컬럼에 저장\n",
    "shelter['area'] = shelter['소재지도로명주소'].str.split(' ').str[0]"
   ]
  },
  {
   "cell_type": "code",
   "execution_count": null,
   "metadata": {},
   "outputs": [],
   "source": [
    "shelter.head()"
   ]
  },
  {
   "cell_type": "code",
   "execution_count": null,
   "metadata": {},
   "outputs": [],
   "source": [
    "shelter.area.unique()"
   ]
  },
  {
   "cell_type": "code",
   "execution_count": null,
   "metadata": {},
   "outputs": [],
   "source": [
    "shelter_GG = shelter[(shelter['area']=='서울특별시')|(shelter['area']=='인천광역시')|(shelter['area']=='경기도')]"
   ]
  },
  {
   "cell_type": "code",
   "execution_count": null,
   "metadata": {},
   "outputs": [],
   "source": [
    "shelter_GG.area.unique()"
   ]
  },
  {
   "cell_type": "code",
   "execution_count": null,
   "metadata": {},
   "outputs": [],
   "source": [
    "len(shelter_GG)"
   ]
  },
  {
   "cell_type": "code",
   "execution_count": null,
   "metadata": {},
   "outputs": [],
   "source": [
    "# 컬럼별 null값 찾기\n",
    "data = shelter_GG.isnull().sum()\n",
    "pd.DataFrame(data)"
   ]
  },
  {
   "cell_type": "code",
   "execution_count": null,
   "metadata": {},
   "outputs": [],
   "source": [
    "nulls = shelter_GG[shelter_GG['위도'].isnull()]"
   ]
  },
  {
   "cell_type": "code",
   "execution_count": null,
   "metadata": {
    "scrolled": false
   },
   "outputs": [],
   "source": [
    "# from geocoder import geocode"
   ]
  },
  {
   "cell_type": "code",
   "execution_count": null,
   "metadata": {
    "scrolled": true
   },
   "outputs": [],
   "source": [
    "# lats = []\n",
    "# lngs = []\n",
    "\n",
    "# for i, index in enumerate(nulls.index):\n",
    "#     print(i + 1, '-', index)\n",
    "#     lat, lng = geocode(nulls['소재지도로명주소'][index])\n",
    "#     lats.append(lat)\n",
    "#     lngs.append(lng)\n",
    "\n",
    "# nulls = nulls.assign(lat=lats, lng=lngs)\n",
    "\n",
    "# nulls.head()\n",
    "\n"
   ]
  },
  {
   "cell_type": "code",
   "execution_count": null,
   "metadata": {},
   "outputs": [],
   "source": [
    "# nulls.to_csv('nulls.csv')"
   ]
  },
  {
   "cell_type": "code",
   "execution_count": null,
   "metadata": {},
   "outputs": [],
   "source": [
    "# import os\n",
    "# import requests"
   ]
  },
  {
   "cell_type": "code",
   "execution_count": null,
   "metadata": {},
   "outputs": [],
   "source": [
    "# LOCATIONIQ_TOKEN = os.environ['LOCATIONIQ_TOKEN']"
   ]
  },
  {
   "cell_type": "code",
   "execution_count": null,
   "metadata": {},
   "outputs": [],
   "source": [
    "# def gc(address):\n",
    "#     url = 'https://us1.locationiq.com/v1/search.php'\n",
    "#     payload = {\n",
    "#         'key': LOCATIONIQ_TOKEN,\n",
    "#         'q': address,\n",
    "#         'format': 'json'\n",
    "#     }\n",
    "#     response = requests.get(url, params=payload)\n",
    "#     results = response.json()\n",
    "#     if 'error' in results:\n",
    "#         return None, None\n",
    "#     coordinates = results[0]\n",
    "#     return coordinates['lat'], coordinates['lon']"
   ]
  },
  {
   "cell_type": "code",
   "execution_count": null,
   "metadata": {},
   "outputs": [],
   "source": [
    "# lats = []\n",
    "# lngs = []\n",
    "\n",
    "# for i, index in enumerate(nulls.index):\n",
    "#     print(i + 1, '-', index)\n",
    "#     lat, lng = gc(nulls['소재지도로명주소'][index])\n",
    "#     lats.append(lat or 0)\n",
    "#     lngs.append(lng or 0)\n",
    "\n",
    "# nulls = nulls.assign(위=lats, 경=lngs)\n",
    "\n",
    "# nulls.head()"
   ]
  },
  {
   "cell_type": "code",
   "execution_count": null,
   "metadata": {},
   "outputs": [],
   "source": [
    "nulls = pd.read_csv('nulls.csv')"
   ]
  },
  {
   "cell_type": "code",
   "execution_count": null,
   "metadata": {},
   "outputs": [],
   "source": [
    "nulls.head()"
   ]
  },
  {
   "cell_type": "code",
   "execution_count": null,
   "metadata": {},
   "outputs": [],
   "source": [
    "shelter_G = shelter_GG.merge(nulls, how='left', on='지진해일대피소명')"
   ]
  },
  {
   "cell_type": "code",
   "execution_count": null,
   "metadata": {},
   "outputs": [],
   "source": [
    "len(shelter_G) #merge 잘 됐는지 확인 완료"
   ]
  },
  {
   "cell_type": "code",
   "execution_count": null,
   "metadata": {},
   "outputs": [],
   "source": [
    " #nulls 테이블에 있던 위도 경도 shelter_GG 테이블 위도 경도로 옮기기\n",
    "shelter_G['위도'] = shelter_G['위도'].fillna(shelter_G['위'])"
   ]
  },
  {
   "cell_type": "code",
   "execution_count": null,
   "metadata": {},
   "outputs": [],
   "source": [
    "shelter_G['경도'] = shelter_G['경도'].fillna(shelter_G['경'])"
   ]
  },
  {
   "cell_type": "code",
   "execution_count": null,
   "metadata": {},
   "outputs": [],
   "source": [
    "pd.DataFrame(shelter_G.isnull().sum()) #위도, 경도 결측치 다 채운 것 확인완료 "
   ]
  },
  {
   "cell_type": "markdown",
   "metadata": {},
   "source": [
    "# 분석 시작"
   ]
  },
  {
   "cell_type": "markdown",
   "metadata": {},
   "source": [
    "## 1. 지진해일대피소유형 분석\n",
    "- 옥외대피소 vs 실내대피소"
   ]
  },
  {
   "cell_type": "code",
   "execution_count": null,
   "metadata": {
    "scrolled": false
   },
   "outputs": [],
   "source": [
    "shelter_GG['지진해일대피소유형'].unique()"
   ]
  },
  {
   "cell_type": "code",
   "execution_count": null,
   "metadata": {
    "scrolled": false
   },
   "outputs": [],
   "source": [
    "labels=['옥외대피소', '실내대피소']\n",
    "shelter_GG['지진해일대피소유형'].value_counts().plot.pie(labels = labels\n",
    "                    ,colors= ['#98DBC6', '#FFCCBB']\n",
    "                    ,startangle = 60\n",
    "                    ,shadow = True\n",
    "                    ,autopct = '%1.1f%%'\n",
    "                    ,explode = (0,0.1) \n",
    "                    ,figsize=(5, 5)\n",
    "                    ,fontsize = 15)\n",
    "plt.title('경기도 지진해일대피소구분', fontsize=20)\n",
    "pylab.ylabel('')"
   ]
  },
  {
   "cell_type": "markdown",
   "metadata": {},
   "source": [
    "## 2. 내진설계 분석\n",
    "- 실내 대피소 중 내질설계가 되어있는 대피소는 얼마나 될까?\n"
   ]
  },
  {
   "cell_type": "code",
   "execution_count": null,
   "metadata": {},
   "outputs": [],
   "source": [
    "for_seismic = shelter_G[shelter_G['지진해일대피소유형']=='실내대피소']\n",
    "\n",
    "# 실내 대피소만 내진설계가 가능하기 때문에 실내 대피소만 "
   ]
  },
  {
   "cell_type": "code",
   "execution_count": null,
   "metadata": {},
   "outputs": [],
   "source": [
    "seismic_design = len(for_seismic[for_seismic['내진적용여부']=='적용'])/len(for_seismic)*100\n",
    "print('경인, 경기지역 내진설계 비율 =', seismic_design, '%')"
   ]
  },
  {
   "cell_type": "code",
   "execution_count": null,
   "metadata": {
    "scrolled": true
   },
   "outputs": [],
   "source": [
    "labels=['적용', '미적용']   #항상 파이그래프 보면서 label순서 제대로 설정했는지 확인 \n",
    "for_seismic['내진적용여부'].value_counts().plot.pie(labels = labels\n",
    "                    ,colors= ['#98DBC6', '#FFCCBB'] #색깔 지정 (색깔 코드 인터넷 검색)\n",
    "                    ,startangle = 60                #시작 각도 설정\n",
    "                    ,shadow = True                  #그림자 생성\n",
    "                    ,autopct = '%1.1f%%'            # 퍼센테이지 소숫점 설정\n",
    "                    ,explode = (0,0.1)              # 한 파트 톡 튀어 나오게 만들기 (꼭 파트의 수와 동일해야함 안그럼 오류 EG)4개로 구분되면 (0, 0, 0, 0.1)로 기재)\n",
    "                    ,figsize=(5, 5)                 # 그래프 사이즈 설정 \n",
    "                    ,fontsize = 15)                 # 글씨 크기 설정\n",
    "plt.title('경기도 실내 지진해일대피소 내진적용여부', fontsize=20)   #제목명, 제목 사이즈 설정\n",
    "pylab.ylabel('')    # y축 설명 없애기 "
   ]
  },
  {
   "cell_type": "markdown",
   "metadata": {},
   "source": [
    "![](bk3)"
   ]
  },
  {
   "cell_type": "markdown",
   "metadata": {},
   "source": [
    "### 배경지식 \n",
    "- 실외대피소: 지진 또는 해일이 발생할 경우 실외대피소에서 집합 후 안내 방송에 따라 다같이 이동하기 위한 용도\n",
    "- 실내대피소: 집합 또는 이재민 수용을 위한 임시주거시설로 이용"
   ]
  },
  {
   "cell_type": "markdown",
   "metadata": {},
   "source": [
    "![](bk3.png)"
   ]
  },
  {
   "cell_type": "code",
   "execution_count": null,
   "metadata": {
    "scrolled": true
   },
   "outputs": [],
   "source": [
    "labels=['미적용', '적용']\n",
    "shelter_G[(shelter_G['지진해일대피소유형구분']=='학교')|(['지진해일대피소유형구분']=='체육관')]['내진적용여부'].value_counts().plot.pie(labels = labels\n",
    "                    ,colors= ['#98DBC6', '#FFCCBB'] #색깔 지정 (색깔 코드 인터넷 검색)\n",
    "                    ,startangle = 60                #시작 각도 설정\n",
    "                    ,shadow = True                  #그림자 생성\n",
    "                    ,autopct = '%1.1f%%'            # 퍼센테이지 소숫점 설정\n",
    "                    ,explode = (0,0.1)              # 한 파트 톡 튀어 나오게 만들기 (꼭 파트의 수와 동일해야함 안그럼 오류 EG)4개로 구분되면 (0, 0, 0, 0.1)로 기재)\n",
    "                    ,figsize=(5, 5)                 # 그래프 사이즈 설정 \n",
    "                    ,fontsize = 15)                 # 글씨 크기 설정\n",
    "plt.title('학교, 체육관 지진해일대피소 내진적용여부', fontsize=20)   #제목명, 제목 사이즈 설정\n",
    "pylab.ylabel('')    # y축 설명 없애기 "
   ]
  },
  {
   "cell_type": "markdown",
   "metadata": {},
   "source": [
    "## 2. 지진해일 대피소 구분 분석\n",
    "- 지진해일대피소 vs 지진대피소"
   ]
  },
  {
   "cell_type": "code",
   "execution_count": null,
   "metadata": {},
   "outputs": [],
   "source": [
    "len(shelter_G[shelter_G['지진해일대피소구분']=='지진대피소'])"
   ]
  },
  {
   "cell_type": "code",
   "execution_count": null,
   "metadata": {
    "scrolled": true
   },
   "outputs": [],
   "source": [
    "labels=['지진대피소', '지진해일대피소']\n",
    "shelter_G['지진해일대피소구분'].value_counts().plot.pie(labels = labels\n",
    "                    ,colors= ['#98DBC6', '#FFCCBB']\n",
    "                    ,startangle = 60\n",
    "                    ,shadow = True\n",
    "                    ,autopct = '%1.1f%%'\n",
    "                    ,explode = (0,0.1) \n",
    "                    ,figsize=(5, 5)\n",
    "                    ,fontsize = 15)\n",
    "plt.title('경기도 지진해일대피소구분', fontsize=20)\n",
    "pylab.ylabel('')"
   ]
  },
  {
   "cell_type": "markdown",
   "metadata": {},
   "source": [
    "## 4. 지진해일대피소유형구분 분석"
   ]
  },
  {
   "cell_type": "code",
   "execution_count": null,
   "metadata": {},
   "outputs": [],
   "source": [
    "shelter_G['지진해일대피소유형구분'].unique()"
   ]
  },
  {
   "cell_type": "code",
   "execution_count": null,
   "metadata": {
    "scrolled": true
   },
   "outputs": [],
   "source": [
    "labels=['공원', '운동장', '학교', '기타', '체육관']\n",
    "shelter_G['지진해일대피소유형구분'].value_counts().plot.pie(labels = labels\n",
    "                    ,colors= ['#98DBC6','#5BC8AC','#E6D72A','#F18D9E', '#FFCCBB']\n",
    "                    ,startangle = 60\n",
    "                    ,shadow = True\n",
    "                    ,autopct = '%1.1f%%'\n",
    "                    ,explode = (0.1,0,0,0,0) \n",
    "                    ,figsize=(5, 5)\n",
    "                    ,fontsize = 15)\n",
    "plt.title('경기도 지진해일대피소유형구분', fontsize=20)\n",
    "pylab.ylabel('')"
   ]
  },
  {
   "cell_type": "markdown",
   "metadata": {},
   "source": [
    "## 5. 지진해일대피소운영상태 분석"
   ]
  },
  {
   "cell_type": "code",
   "execution_count": null,
   "metadata": {},
   "outputs": [],
   "source": [
    "shelter_G['지진해일대피소운영상태'].unique()"
   ]
  },
  {
   "cell_type": "code",
   "execution_count": null,
   "metadata": {
    "scrolled": true
   },
   "outputs": [],
   "source": [
    "labels=['운영중', '비운영중']\n",
    "shelter_G['지진해일대피소운영상태'].value_counts().plot.pie(labels = labels\n",
    "                    ,colors= ['#98DBC6', '#FFCCBB']\n",
    "                    ,startangle = 60\n",
    "                    ,shadow = True\n",
    "                    ,autopct = '%1.1f%%'\n",
    "                    ,explode = (0.1,0) \n",
    "                    ,figsize=(5, 5)\n",
    "                    ,fontsize = 15)\n",
    "plt.title('경기도 지진해일대피소운영상태', fontsize=20)\n",
    "pylab.ylabel('')"
   ]
  },
  {
   "cell_type": "markdown",
   "metadata": {},
   "source": [
    "## 6. 지역별 대피소 수"
   ]
  },
  {
   "cell_type": "code",
   "execution_count": null,
   "metadata": {},
   "outputs": [],
   "source": [
    "shelter_G['area'].unique()"
   ]
  },
  {
   "cell_type": "code",
   "execution_count": null,
   "metadata": {},
   "outputs": [],
   "source": [
    "labels=['서울특별시', '경기도', '인천광역시']\n",
    "shelter_G['area'].value_counts().plot.pie(labels = labels\n",
    "                    ,colors= ['#98DBC6','#F18D9E', '#FFCCBB']\n",
    "                    ,startangle = 60\n",
    "                    ,shadow = True\n",
    "                    ,autopct = '%1.1f%%' \n",
    "                    ,explode = (0.1,0, 0) \n",
    "                    ,figsize=(5, 5)\n",
    "                    ,fontsize = 15)\n",
    "plt.title('경기도 지진해일대피소운영상태', fontsize=20)\n",
    "pylab.ylabel('')"
   ]
  },
  {
   "cell_type": "markdown",
   "metadata": {},
   "source": [
    "## 7. 지역별 대피소 지도 만들기 (HELP)\n",
    "- 처음에는 전국 데이터를 한번에 찍어보려 했으나 데이터가 너무 많아 지도가 뜨지 않음 \n",
    "- 8도로 나누어 시도 -> 서울, 인천, 경기 3곳 모두 데이터 양이 많아 지도 안뜸 \n"
   ]
  },
  {
   "cell_type": "markdown",
   "metadata": {},
   "source": [
    "## 서울 지도"
   ]
  },
  {
   "cell_type": "code",
   "execution_count": null,
   "metadata": {},
   "outputs": [],
   "source": [
    "shelter_seoul = shelter_G[shelter_G['area']=='서울특별시']\n",
    "# map = folium.Map(location=[35.9078, 127.7669], zoom_start = 6, tiles ='Mapbox bright')\n",
    "# fg = folium.FeatureGroup(name = '서울지진해일대피소')\n",
    "# for lat, lon, name in zip(shelter_seoul['위도'], shelter_seoul['경도'], shelter_seoul['지진해일대피소명']):\n",
    "#     fg.add_child(folium.Marker(location=[lat, lon], popup=(folium.Popup(name)), icon=folium.Icon(icon = 'cloud', color= 'blue', icon_color = 'white')))\n",
    "# map.add_child(fg)\n",
    "# map.save(outfile='서울.html')"
   ]
  },
  {
   "cell_type": "markdown",
   "metadata": {},
   "source": [
    "## 인천광역시 지도"
   ]
  },
  {
   "cell_type": "code",
   "execution_count": null,
   "metadata": {},
   "outputs": [],
   "source": [
    "shelter_incheon = shelter_G[shelter_G['area']=='인천광역시']\n",
    "# map = folium.Map(location=[35.9078, 127.7669], zoom_start = 6, tiles ='Mapbox bright')\n",
    "# fg = folium.FeatureGroup(name = '인천지진해일대피소')\n",
    "# for lat, lon, name in zip(shelter_incheon['위도'], shelter_incheon['경도'], shelter_incheon['지진해일대피소명']):\n",
    "#     fg.add_child(folium.Marker(location=[lat, lon], popup=(folium.Popup(name)), icon=folium.Icon(icon = 'cloud', color= 'blue', icon_color = 'white')))\n",
    "# map.add_child(fg) \n",
    "# map.save(outfile='인천.html')"
   ]
  },
  {
   "cell_type": "markdown",
   "metadata": {},
   "source": [
    "## 경기도 지도"
   ]
  },
  {
   "cell_type": "code",
   "execution_count": null,
   "metadata": {},
   "outputs": [],
   "source": [
    "shelter_ggi = shelter_G[shelter_G['area']=='경기도']\n",
    "# map = folium.Map(location=[35.9078, 127.7669], zoom_start = 6, tiles ='Mapbox bright')\n",
    "# fg = folium.FeatureGroup(name = '경기지진해일대피소')\n",
    "# for lat, lon, name in zip(shelter_ggi['위도'], shelter_ggi['경도'], shelter_ggi['지진해일대피소명']):\n",
    "#     fg.add_child(folium.Marker(location=[lat, lon], popup=(folium.Popup(name)), icon=folium.Icon(icon = 'cloud', color= 'blue', icon_color = 'white')))\n",
    "# map.add_child(fg) \n",
    "# map.save(outfile='경기.html')"
   ]
  },
  {
   "cell_type": "markdown",
   "metadata": {},
   "source": [
    "## 8. 지역별 인구수 대비 최대수용가능 인원수 비교"
   ]
  },
  {
   "cell_type": "markdown",
   "metadata": {},
   "source": [
    "- 서울, 인천: 구 단위\n",
    "- 경기도: 시 단위 \n",
    "- (인구 통계가 위와 같은 단위로 분리되어있기 때문)"
   ]
  },
  {
   "cell_type": "markdown",
   "metadata": {},
   "source": [
    "### 과정\n",
    "1. KOSIS에서 서울, 인천, 경기도 인구 통계 불러옴 \n",
    "\n",
    "2. 서울특별시, 인천광역시, 경기도 행 제거 (각 구 또는 시 인구 수의 합)\n",
    "\n",
    "3. 서울 중구, 인천 중구 합쳐지는 문제 발생 \n",
    "    - 인구 통계 테이블을 각 지역별로 분리하여 따로 저장 \n",
    "    - 구 또는 시 이름 앞 '서울특별시', '인천광역시', '경기도' 붙여줌 \n",
    "    - 다시 하나의 테이블로 합침\n",
    "\n",
    "4. 인구 통계 테이블의 지역명과 대피소 테이블의 '제공기관명'과 분류가 동일해 '제공기관명'을 기준으로 LEFT JOIN \n",
    "    - 인구 통계 테이블에는 있지만 대피소 테이블에는 없는 지역 (=대피소 데이터가 없는 지역) 찾음 \n",
    "    - 공공데이터 포털에 데이터 요청 \n",
    "    - 국민재난안전포털에서 데이터 긁어옴\n",
    "\n",
    "5. 제공기관명(지역명)으로 groupby한 후, 최대수용인원수를 sum 해서 지역별 최대수용인원수 컬럼 생성 \n",
    "\n",
    "6. '지역 인구수 - 지역 최대수용인원수'를 'diff'컬럼에 저장 \n",
    "\n",
    "7. diff가 마이너스면 '불충분', 플러스면 '충분'으로 지정\n"
   ]
  },
  {
   "cell_type": "markdown",
   "metadata": {},
   "source": [
    "### 데이터 없는 지역 \n",
    "- 서울특별시 용산구 \n",
    "- 서울특별시 성동구\n",
    "- 서울특별시 동대문구\n",
    "- 서울특별시 성북구\n",
    "- 서울특별시 도봉구\n",
    "- 서울특별시 마포구\n",
    "- 서울특별시 구로구\n",
    "- 서울특별시 강동구\n",
    "- 경기도 용인시\n",
    "- 경기도 안양시\n",
    "- 경기도 연천군"
   ]
  },
  {
   "cell_type": "code",
   "execution_count": null,
   "metadata": {},
   "outputs": [],
   "source": [
    "ppl = pd.read_csv('population.csv', encoding = \"CP949\")\n",
    "\n",
    "# http://kosis.kr/statHtml/statHtml.do?orgId=101&tblId=DT_1B040A3"
   ]
  },
  {
   "cell_type": "code",
   "execution_count": null,
   "metadata": {},
   "outputs": [],
   "source": [
    "ppl.head()"
   ]
  },
  {
   "cell_type": "code",
   "execution_count": null,
   "metadata": {},
   "outputs": [],
   "source": [
    "len(ppl)"
   ]
  },
  {
   "cell_type": "code",
   "execution_count": null,
   "metadata": {},
   "outputs": [],
   "source": [
    "ppl[(ppl['행정구역(시군구)별']=='행정구역(시군구)별')|(ppl['행정구역(시군구)별']=='서울특별시')|(ppl['행정구역(시군구)별']=='인천광역시')|(ppl['행정구역(시군구)별']=='경기도')]"
   ]
  },
  {
   "cell_type": "code",
   "execution_count": null,
   "metadata": {},
   "outputs": [],
   "source": [
    "ppl = ppl.drop([ppl.index[0], ppl.index[1], ppl.index[27], ppl.index[38]])"
   ]
  },
  {
   "cell_type": "code",
   "execution_count": null,
   "metadata": {},
   "outputs": [],
   "source": [
    "ppl"
   ]
  },
  {
   "cell_type": "code",
   "execution_count": null,
   "metadata": {},
   "outputs": [],
   "source": [
    "# 분석 쉽도로 컬럼명 변경 \n",
    "ppl = ppl.rename(columns={'행정구역(시군구)별': 'sigungu', '2019. 09': 'nop'}) #nop: number of people"
   ]
  },
  {
   "cell_type": "code",
   "execution_count": null,
   "metadata": {},
   "outputs": [],
   "source": [
    "#.iloc으로 [25번째 열까지, 모든 컬럼] 잘라내서 '서울' 테이블로 지정 \n",
    "서울 = ppl.iloc[:25, :].copy()"
   ]
  },
  {
   "cell_type": "code",
   "execution_count": null,
   "metadata": {},
   "outputs": [],
   "source": [
    "# 서울 구 이름 앞에 서울특별시 붙여넣기\n",
    "서울['sigungu'] = '서울특별시' + ' ' + 서울.sigungu.str[0:] #future warning 무시 -> 해결방법을 찾아야하지만....ㅎ "
   ]
  },
  {
   "cell_type": "code",
   "execution_count": null,
   "metadata": {},
   "outputs": [],
   "source": [
    "서울"
   ]
  },
  {
   "cell_type": "code",
   "execution_count": null,
   "metadata": {},
   "outputs": [],
   "source": [
    "인천 = ppl.iloc[25:35, :]"
   ]
  },
  {
   "cell_type": "code",
   "execution_count": null,
   "metadata": {},
   "outputs": [],
   "source": [
    "인천['sigungu'] = '인천광역시' + ' ' + 인천.sigungu.str[0:]"
   ]
  },
  {
   "cell_type": "code",
   "execution_count": null,
   "metadata": {},
   "outputs": [],
   "source": [
    "인천"
   ]
  },
  {
   "cell_type": "code",
   "execution_count": null,
   "metadata": {},
   "outputs": [],
   "source": [
    "경기도 = ppl.iloc[35:, :]   #.drop(ppl.index[35:42]).drop(ppl.index[43:45]).drop(ppl.index[49:54]).drop(ppl.index[62:65])"
   ]
  },
  {
   "cell_type": "code",
   "execution_count": null,
   "metadata": {},
   "outputs": [],
   "source": [
    "경기도['sigungu'] = '경기도' + ' ' + 경기도.sigungu.str[0:]"
   ]
  },
  {
   "cell_type": "code",
   "execution_count": null,
   "metadata": {},
   "outputs": [],
   "source": [
    "경기도"
   ]
  },
  {
   "cell_type": "code",
   "execution_count": null,
   "metadata": {},
   "outputs": [],
   "source": [
    "# 수원 = ppl.iloc[35:39, :]\n",
    "# 수원['sigungu'] = '경기도' + ' ' + '수원시'+' ' + 수원.sigungu.str[0:]"
   ]
  },
  {
   "cell_type": "code",
   "execution_count": null,
   "metadata": {
    "scrolled": true
   },
   "outputs": [],
   "source": [
    "# 성남 = ppl.iloc[39:42, :]\n",
    "# 성남['sigungu'] = '경기도' + ' ' + '성남시'+' ' + 성남.sigungu.str[0:]"
   ]
  },
  {
   "cell_type": "code",
   "execution_count": null,
   "metadata": {
    "scrolled": true
   },
   "outputs": [],
   "source": [
    "# 안양 = ppl.iloc[43:45, :]\n",
    "# 안양['sigungu'] = '경기도' + ' ' + '안양시'+' ' + 안양.sigungu.str[0:]"
   ]
  },
  {
   "cell_type": "code",
   "execution_count": null,
   "metadata": {},
   "outputs": [],
   "source": [
    "# 안산 = ppl.iloc[49:51, :]\n",
    "# 안산['sigungu'] = '경기도' + ' ' + '안산시'+' ' + 안산.sigungu.str[0:]"
   ]
  },
  {
   "cell_type": "code",
   "execution_count": null,
   "metadata": {},
   "outputs": [],
   "source": [
    "# 고양 = ppl.iloc[51:54, :]\n",
    "# 고양['sigungu'] = '경기도' + ' ' + '고양시'+' ' + 고양.sigungu.str[0:]"
   ]
  },
  {
   "cell_type": "code",
   "execution_count": null,
   "metadata": {},
   "outputs": [],
   "source": [
    "# 용인 = ppl.iloc[62:65, :]\n",
    "# 용인['sigungu'] = '경기도' + ' ' + '용인시'+' ' + 용인.sigungu.str[0:]"
   ]
  },
  {
   "cell_type": "code",
   "execution_count": null,
   "metadata": {},
   "outputs": [],
   "source": [
    "ppl_final = pd.concat([서울, 인천, 경기도], ignore_index=True)"
   ]
  },
  {
   "cell_type": "code",
   "execution_count": null,
   "metadata": {},
   "outputs": [],
   "source": [
    "len(ppl_final)"
   ]
  },
  {
   "cell_type": "code",
   "execution_count": null,
   "metadata": {},
   "outputs": [],
   "source": [
    "# 제공기관명이 시이름 + 구이름 으로 되어 있어서 이 컬럼을 기준으로 join 할 예정\n",
    "shelter_G.제공기관명.unique()"
   ]
  },
  {
   "cell_type": "code",
   "execution_count": null,
   "metadata": {},
   "outputs": [],
   "source": [
    "# 인구테이블과 join하기 위해 필요한 두개 컬럼만 shelter_ppl이라는 테이블로 저장\n",
    "shelter_ppl = shelter_G[['최대수용인원수', '제공기관명']]"
   ]
  },
  {
   "cell_type": "code",
   "execution_count": null,
   "metadata": {},
   "outputs": [],
   "source": [
    "# 제공기관명으로 groupby해서 그 지역 내 모든 대피소 최대수용인원수 더하기\n",
    "shelter_capacity_temp= pd.DataFrame(shelter_ppl.groupby('제공기관명')['최대수용인원수'].sum())"
   ]
  },
  {
   "cell_type": "code",
   "execution_count": null,
   "metadata": {},
   "outputs": [],
   "source": [
    "shelter_capacity_temp"
   ]
  },
  {
   "cell_type": "code",
   "execution_count": null,
   "metadata": {
    "scrolled": true
   },
   "outputs": [],
   "source": [
    "find_missing_area = ppl_final.merge(shelter_capacity_temp, how='left', left_on=['sigungu'], right_on=['제공기관명'])"
   ]
  },
  {
   "cell_type": "code",
   "execution_count": null,
   "metadata": {},
   "outputs": [],
   "source": [
    "find_missing_area[find_missing_area['최대수용인원수'].isnull()] #뭐죠? 왜죠? 왜 없죠?"
   ]
  },
  {
   "cell_type": "code",
   "execution_count": null,
   "metadata": {},
   "outputs": [],
   "source": [
    "shelter_G[shelter_G['제공기관명'] == '인천광역시 남동구']"
   ]
  },
  {
   "cell_type": "code",
   "execution_count": null,
   "metadata": {},
   "outputs": [],
   "source": [
    "shelter_G[shelter_G['소재지도로명주소'].str[0:9]=='인천광역시 남동구']"
   ]
  },
  {
   "cell_type": "code",
   "execution_count": null,
   "metadata": {},
   "outputs": [],
   "source": [
    "# join 하기\n",
    "shelter_capacity = shelter_capacity_temp.merge(ppl_final, how='left', left_on=['제공기관명'], right_on=['sigungu'])"
   ]
  },
  {
   "cell_type": "code",
   "execution_count": null,
   "metadata": {},
   "outputs": [],
   "source": [
    "shelter_capacity"
   ]
  },
  {
   "cell_type": "code",
   "execution_count": null,
   "metadata": {},
   "outputs": [],
   "source": [
    "shelter_capacity.columns"
   ]
  },
  {
   "cell_type": "code",
   "execution_count": null,
   "metadata": {},
   "outputs": [],
   "source": [
    "shelter_capacity.sample(10)"
   ]
  },
  {
   "cell_type": "code",
   "execution_count": null,
   "metadata": {},
   "outputs": [],
   "source": [
    "# 분석 용이하게 하기 위해 컬럼명 변경 \n",
    "shelter_capacity.rename(columns={'최대수용인원수':'max'}, inplace=True)"
   ]
  },
  {
   "cell_type": "code",
   "execution_count": null,
   "metadata": {},
   "outputs": [],
   "source": [
    "len(shelter_capacity)"
   ]
  },
  {
   "cell_type": "code",
   "execution_count": null,
   "metadata": {},
   "outputs": [],
   "source": [
    "# max 컬럼이 float64이기때문에 정확한 비교를 위해 타입 변경\n",
    "shelter_capacity['nop'] = shelter_capacity['nop'].astype('float64')"
   ]
  },
  {
   "cell_type": "code",
   "execution_count": null,
   "metadata": {},
   "outputs": [],
   "source": [
    "shelter_capacity[shelter_capacity['nop']>shelter_capacity['max']]"
   ]
  },
  {
   "cell_type": "code",
   "execution_count": null,
   "metadata": {},
   "outputs": [],
   "source": [
    "# 두 컬럼의 차를 diff 컬럼에 저장\n",
    "shelter_capacity['diff'] = shelter_capacity['max']-shelter_capacity['nop']"
   ]
  },
  {
   "cell_type": "code",
   "execution_count": null,
   "metadata": {},
   "outputs": [],
   "source": [
    "shelter_capacity['diff'].max()"
   ]
  },
  {
   "cell_type": "code",
   "execution_count": null,
   "metadata": {},
   "outputs": [],
   "source": [
    "shelter_capacity['diff'].min()"
   ]
  },
  {
   "cell_type": "code",
   "execution_count": null,
   "metadata": {},
   "outputs": [],
   "source": [
    "shelter_capacity[shelter_capacity['diff']==shelter_capacity['diff'].max()]"
   ]
  },
  {
   "cell_type": "code",
   "execution_count": null,
   "metadata": {},
   "outputs": [],
   "source": [
    "shelter_capacity[shelter_capacity['sigungu'] =='인천광역시 중구']"
   ]
  },
  {
   "cell_type": "code",
   "execution_count": null,
   "metadata": {},
   "outputs": [],
   "source": [
    "# 값이 마이너스면 불충분, 플러스면 충분으로 지정\n",
    "shelter_capacity['capacity'] = shelter_capacity['diff'].apply(lambda x: '불충분' if x<0 else '충분' )"
   ]
  },
  {
   "cell_type": "code",
   "execution_count": null,
   "metadata": {},
   "outputs": [],
   "source": [
    "len(shelter_capacity[shelter_capacity['nop']>shelter_capacity['max']])"
   ]
  },
  {
   "cell_type": "code",
   "execution_count": null,
   "metadata": {},
   "outputs": [],
   "source": [
    "shelter_capacity[shelter_capacity['nop']==shelter_capacity['nop'].max()]"
   ]
  },
  {
   "cell_type": "code",
   "execution_count": null,
   "metadata": {
    "scrolled": true
   },
   "outputs": [],
   "source": [
    "shelter_capacity.sort_values('nop', ascending = False).head(5)"
   ]
  },
  {
   "cell_type": "code",
   "execution_count": null,
   "metadata": {},
   "outputs": [],
   "source": [
    "shelter_capacity.sort_values('max', ascending = False).head(5)"
   ]
  },
  {
   "cell_type": "code",
   "execution_count": null,
   "metadata": {
    "scrolled": true
   },
   "outputs": [],
   "source": [
    "line_chart1 = plt.plot(shelter_capacity['nop'])\n",
    "line_chart2 = plt.plot(shelter_capacity['max'])\n",
    "plt.title('인구수 대비 지역내 대피소 최대수용인원')\n",
    "plt.xlabel('시군')\n",
    "plt.ylabel('인구수')\n",
    "plt.legend(['지역인구수', '최대수용인원수'], loc = 1)\n",
    "plt.show()"
   ]
  },
  {
   "cell_type": "code",
   "execution_count": null,
   "metadata": {},
   "outputs": [],
   "source": [
    "labels=['불충분', '충분']\n",
    "shelter_capacity['capacity'].value_counts().plot.pie(labels = labels\n",
    "                    ,colors= ['#98DBC6', '#FFCCBB']\n",
    "                    ,startangle = 60\n",
    "                    ,shadow = True\n",
    "                    ,autopct = '%1.1f%%'\n",
    "                    ,explode = (0.1,0) \n",
    "                    ,figsize=(5, 5)\n",
    "                    ,fontsize = 15)\n",
    "plt.title('인구수 대비 지역내 대피소 최대수용인원', fontsize=20)\n",
    "pylab.ylabel('')"
   ]
  },
  {
   "cell_type": "markdown",
   "metadata": {},
   "source": [
    "## 트러블 슈팅 \n",
    "- 지진해일대피소 데이터가 없는 시, 구가 있다 \t\n",
    "    - 공공데이터 포털에 요청 \n",
    "    - 국민재난안전포탈에서 끌어옴 \n",
    "- 인천 중구, 서울 중구, 경기도 광주, 광주광역시와 같이 지역명 혼동 \n",
    "    - 구 이름 앞에 시 이름을 붙여 구분 후 분석\n",
    "- API로 위도 경도 결측치 채우기 \n",
    "    - KAKAO, LacationIQ 둘다 해도 안나오는 데이터 있음 \t\n",
    "        - 노가다로 채움 \n",
    "- 서울, 인천, 경기 각 지역 대피소 수가 많아서 지도가 안돌아감\n",
    "    - 방법이 필요\n",
    "- 세종시 데이터에는 중복 데이터가 있음\n",
    "    - 중복 데이터 확인 후 제거 \n",
    "    - 중복 이유 문의 예정 \n",
    "    "
   ]
  },
  {
   "cell_type": "markdown",
   "metadata": {},
   "source": [
    "### 역할분배\n",
    "- 지역별로 나누어 분석중 \n"
   ]
  },
  {
   "cell_type": "markdown",
   "metadata": {},
   "source": [
    "### 앞으로 더 해볼 것 (hopes & dreams)\n",
    "- 대피소에서 더 나아가 '행정안전부_이재민임시주거시설정보'데이터를 분석하여 실내대피소와 임시주거시설 비교\n",
    "- 인구수 대비 최대수용인원 부족하면 색깔이 진하게 히트맵으로 시각화하여 문제가 심각한 지역 찾기\n",
    "- 지진 데이터를 보며 지진이 자주 일어나는 지역을 찾아보고 집중 분석 \n",
    "- 지진대피소와 지진해일대피소의 구분 등 더 많은 배경지식 조사\n",
    "- 구 또는 시 단위가 아닌 동 단위로 인구 수 대비 최대수용가능 인원수 분석 \n",
    "- 개선 방안 모색 \n",
    "     - 대피소 불충분 지역에 대피소를 증축한다면 위치 최적화 (입지 분석)\n",
    "     - 현재 위치 기반 최단거리 대피소 추천 \n",
    "     - 재난 위치에 따른 대피소 추천 \n",
    "- 8월 18일 마감인 '서울특별시 빅데이터 캠퍼스 공모전' 준비 "
   ]
  },
  {
   "cell_type": "markdown",
   "metadata": {},
   "source": [
    "### 동기 & 선미님께 받고 싶은 도움 \n",
    "- 데이터가 많아서 지도가 안돌아가는데 어떡하나요? \n",
    "- 최적 위치 선정을 하고 싶은데 도움이 될만한 강의 또는 글이 있을까요?\n",
    "- 데이터가 없는 지역 데이터 요청했는데 이유도 안말해주고 거절당했어요....안전처에서 재난소 위치는 가져올수 있지만 데이터가 많이 부족한데 이거 어떻게 하면 좋을까요?\n",
    "- 피드백 주세요~~"
   ]
  },
  {
   "cell_type": "markdown",
   "metadata": {},
   "source": [
    "# 수민_지도수정"
   ]
  },
  {
   "cell_type": "markdown",
   "metadata": {},
   "source": [
    "### 서울"
   ]
  },
  {
   "cell_type": "code",
   "execution_count": null,
   "metadata": {
    "scrolled": true
   },
   "outputs": [],
   "source": [
    "shelter_seoul.shape"
   ]
  },
  {
   "cell_type": "code",
   "execution_count": null,
   "metadata": {},
   "outputs": [],
   "source": [
    "shelter_seoul['위도'] = shelter_seoul['위도'].replace(np.nan, 0, regex = True)\n",
    "shelter_seoul['경도'] = shelter_seoul['경도'].replace(np.nan, 0, regex = True)"
   ]
  },
  {
   "cell_type": "code",
   "execution_count": null,
   "metadata": {},
   "outputs": [],
   "source": [
    "coordinates_seoul = shelter_seoul[['위도', '경도']]\n",
    "coordinates_seoul.head()"
   ]
  },
  {
   "cell_type": "code",
   "execution_count": null,
   "metadata": {
    "scrolled": true
   },
   "outputs": [],
   "source": [
    "coordinates_seoul.isnull().sum()"
   ]
  },
  {
   "cell_type": "markdown",
   "metadata": {},
   "source": [
    "## 30분 이내 도착 수용가능 범위"
   ]
  },
  {
   "cell_type": "code",
   "execution_count": null,
   "metadata": {
    "scrolled": false
   },
   "outputs": [],
   "source": [
    "# 지도 준비\n",
    "\n",
    "map = Map(location=[37.55, 127], zoom_start=11)\n",
    "\n",
    "# 지도에 위치 표시\n",
    "\n",
    "for lat, lng in coordinates_seoul.values:\n",
    "    marker = folium.Circle(\n",
    "        location=[lat, lng],\n",
    "        radius=2_250,\n",
    "        weight=1,\n",
    "        color = 'rgb(0, 255, 0)',\n",
    "#         opacity=0.05,\n",
    "        fill_color='rgb(0, 255, 0)',\n",
    "        fill_opacity=0.05,\n",
    "    )\n",
    "    marker.add_to(map)\n",
    "map.save(outfile='서울_30분.html')\n",
    "\n",
    "map"
   ]
  },
  {
   "cell_type": "markdown",
   "metadata": {},
   "source": [
    "## 10분 이내 도착 수용가능범위"
   ]
  },
  {
   "cell_type": "code",
   "execution_count": null,
   "metadata": {},
   "outputs": [],
   "source": [
    "# 지도 준비\n",
    "\n",
    "map = Map(location=[37.55, 127], zoom_start=11)\n",
    "\n",
    "# 지도에 위치 표시\n",
    "\n",
    "for lat, lng in coordinates_seoul.values:\n",
    "    marker = folium.Circle(\n",
    "        location=[lat, lng],\n",
    "        radius=750,\n",
    "        weight=1,\n",
    "        color = 'rgb(0, 255, 0)',\n",
    "#         opacity=0.2,\n",
    "        fill_color='rgb(0, 255, 0)',\n",
    "        fill_opacity=0.2,\n",
    "    )\n",
    "    marker.add_to(map)\n",
    "map.save(outfile='서울_10분.html')\n",
    "\n",
    "map"
   ]
  },
  {
   "cell_type": "markdown",
   "metadata": {},
   "source": [
    "### 경기"
   ]
  },
  {
   "cell_type": "code",
   "execution_count": null,
   "metadata": {
    "scrolled": false
   },
   "outputs": [],
   "source": [
    "shelter_ggi.shape"
   ]
  },
  {
   "cell_type": "code",
   "execution_count": null,
   "metadata": {},
   "outputs": [],
   "source": [
    "coordinates_ggi = shelter_ggi[['위도', '경도']]"
   ]
  },
  {
   "cell_type": "code",
   "execution_count": null,
   "metadata": {},
   "outputs": [],
   "source": [
    "# 지도 준비\n",
    "\n",
    "map = Map(location=[37.5, 126.9], zoom_start=9)\n",
    "\n",
    "# 지도에 위치 표시\n",
    "\n",
    "for lat, lng in coordinates_ggi.values:\n",
    "    marker = folium.Circle(\n",
    "        location=[lat, lng],\n",
    "        radius=2_250,\n",
    "        weight=1,\n",
    "        fill_color='#F00',\n",
    "        fill_opacity=0.3,\n",
    "    )\n",
    "    marker.add_to(map)\n",
    "\n",
    "map"
   ]
  },
  {
   "cell_type": "markdown",
   "metadata": {},
   "source": [
    "### 인천"
   ]
  },
  {
   "cell_type": "code",
   "execution_count": null,
   "metadata": {
    "scrolled": false
   },
   "outputs": [],
   "source": [
    "shelter_incheon.shape"
   ]
  },
  {
   "cell_type": "code",
   "execution_count": null,
   "metadata": {},
   "outputs": [],
   "source": [
    "coordinates_incheon = shelter_incheon[['위도', '경도']]"
   ]
  },
  {
   "cell_type": "code",
   "execution_count": null,
   "metadata": {},
   "outputs": [],
   "source": [
    "# 지도 준비\n",
    "\n",
    "map = Map(location=[37.4, 126.4], zoom_start=10)\n",
    "\n",
    "# 지도에 위치 표시\n",
    "\n",
    "for lat, lng in coordinates_incheon.values:\n",
    "    marker = folium.Circle(\n",
    "        location=[lat, lng],\n",
    "        radius=1_000,\n",
    "        weight=1,\n",
    "        fill_color='#F00',\n",
    "        fill_opacity=0.3,\n",
    "    )\n",
    "    marker.add_to(map)\n",
    "\n",
    "map"
   ]
  },
  {
   "cell_type": "code",
   "execution_count": null,
   "metadata": {},
   "outputs": [],
   "source": []
  },
  {
   "cell_type": "code",
   "execution_count": null,
   "metadata": {},
   "outputs": [],
   "source": []
  }
 ],
 "metadata": {
  "kernelspec": {
   "display_name": "Python 3",
   "language": "python",
   "name": "python3"
  },
  "language_info": {
   "codemirror_mode": {
    "name": "ipython",
    "version": 3
   },
   "file_extension": ".py",
   "mimetype": "text/x-python",
   "name": "python",
   "nbconvert_exporter": "python",
   "pygments_lexer": "ipython3",
   "version": "3.7.4"
  }
 },
 "nbformat": 4,
 "nbformat_minor": 2
}
