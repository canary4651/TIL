{
 "cells": [
  {
   "cell_type": "markdown",
   "metadata": {},
   "source": [
    "# 유기동물 정보 가져와서 DB에 넣기\n",
    "\n",
    "동물보호관리시스템 유기동물 조회 서비스:\n",
    "<https://www.data.go.kr/dataset/15001096/openapi.do>"
   ]
  },
  {
   "cell_type": "markdown",
   "metadata": {},
   "source": [
    "공공데이터포털 API를 사용하기 위해 환경변수를 설정합니다.\n",
    "\n",
    "반드시 Key, Token 등의 내용을 바꿔서 입력해 주세요.\n",
    "\n",
    "```bash\n",
    "# Mac, Linux 또는 Windows Git Bash 등에선 다음과 같이 export를 사용하시면 됩니다.\n",
    "export ANIMAL_API_KEY=abcdefghijklm%2FvSfZeu4FoGpl2eGP%2FzlR5eGh%2F9M8jbOv4HPFZI%2BM7ckZstS8OzkMKHNBkpAtdZX6T8VoRl4Q%3D%3D\n",
    "# Windows 기본 환경에선 다음과 같이 set을 사용하세요.\n",
    "set ANIMAL_API_KEY=abcdefghijklm%2FvSfZeu4FoGpl2eGP%2FzlR5eGh%2F9M8jbOv4HPFZI%2BM7ckZstS8OzkMKHNBkpAtdZX6T8VoRl4Q%3D%3D\n",
    "\n",
    "# Jupyter Notebook 실행\n",
    "jupyter notebook\n",
    "```"
   ]
  },
  {
   "cell_type": "markdown",
   "metadata": {},
   "source": [
    "환경 변수에서 API 키를 가져옵니다."
   ]
  },
  {
   "cell_type": "code",
   "execution_count": 1,
   "metadata": {},
   "outputs": [],
   "source": [
    "# 환경 변수에서 API 키 가져오기\n",
    "\n",
    "import os\n",
    "from urllib.parse import unquote\n",
    "\n",
    "API_KEY = unquote(os.environ['ANIMAL_API_KEY'])"
   ]
  },
  {
   "cell_type": "markdown",
   "metadata": {},
   "source": [
    "## 라이브러리 사용"
   ]
  },
  {
   "cell_type": "code",
   "execution_count": 2,
   "metadata": {},
   "outputs": [
    {
     "data": {
      "text/plain": [
       "'2.22.0'"
      ]
     },
     "execution_count": 2,
     "metadata": {},
     "output_type": "execute_result"
    }
   ],
   "source": [
    "# requests 사용\n",
    "\n",
    "import requests\n",
    "\n",
    "requests.__version__"
   ]
  },
  {
   "cell_type": "code",
   "execution_count": 3,
   "metadata": {},
   "outputs": [
    {
     "data": {
      "text/plain": [
       "'2.6.0'"
      ]
     },
     "execution_count": 3,
     "metadata": {},
     "output_type": "execute_result"
    }
   ],
   "source": [
    "# sqlite3 사용\n",
    "\n",
    "import sqlite3\n",
    "\n",
    "sqlite3.version"
   ]
  },
  {
   "cell_type": "markdown",
   "metadata": {},
   "source": [
    "## 동물보호관리시스템 유기동물 조회 서비스 API 사용\n",
    "\n",
    "DB에 꽉 채워넣읍시다."
   ]
  },
  {
   "cell_type": "code",
   "execution_count": 4,
   "metadata": {
    "scrolled": false
   },
   "outputs": [
    {
     "name": "stdout",
     "output_type": "stream",
     "text": [
      "<Response [200]>\n"
     ]
    }
   ],
   "source": [
    "# 동물보호관리시스템 유기동물 조회 서비스 API\n",
    "\n",
    "# 물음표(?) 앞부분\n",
    "url = 'http://openapi.animal.go.kr/openapi/service/rest/abandonmentPublicSrvc/abandonmentPublic'\n",
    "\n",
    "# 물음표(?) 뒷부분\n",
    "payload = {\n",
    "    'serviceKey': API_KEY,\n",
    "    'bgnde': '20191001',\n",
    "    'endde': '20191031',\n",
    "    'numOfRows': 100,\n",
    "}\n",
    "\n",
    "# API 호출\n",
    "response = requests.get(url, params=payload)\n",
    "\n",
    "print(response)"
   ]
  },
  {
   "cell_type": "code",
   "execution_count": 10,
   "metadata": {
    "scrolled": true
   },
   "outputs": [
    {
     "data": {
      "text/plain": [
       "78282"
      ]
     },
     "execution_count": 10,
     "metadata": {},
     "output_type": "execute_result"
    }
   ],
   "source": [
    "# Response의 Text 길이를 확인합니다.\n",
    "# 만약 이 값이 너무 작다면 오류가 발생했는지 확인해 보세요.\n",
    "\n",
    "len(response.text)"
   ]
  },
  {
   "cell_type": "code",
   "execution_count": 11,
   "metadata": {
    "scrolled": true
   },
   "outputs": [
    {
     "data": {
      "text/plain": [
       "<Element 'response' at 0x110b55890>"
      ]
     },
     "execution_count": 11,
     "metadata": {},
     "output_type": "execute_result"
    }
   ],
   "source": [
    "# XML 데이터 파싱\n",
    "\n",
    "import xml.etree.ElementTree as ET\n",
    "\n",
    "root = ET.fromstring(response.text)\n",
    "\n",
    "root"
   ]
  },
  {
   "cell_type": "code",
   "execution_count": 12,
   "metadata": {},
   "outputs": [
    {
     "name": "stdout",
     "output_type": "stream",
     "text": [
      "age - 2019(년생)\n",
      "careAddr - 제주특별자치도 제주시 첨단동길 184-14 (용강동) \n",
      "careNm - 제주유기동물보호센터\n",
      "careTel - 064-710-4067\n",
      "chargeNm - 제주도임시\n",
      "colorCd - 검정\n",
      "desertionNo - 450650201906393\n",
      "filename - http://www.animal.go.kr/files/shelter/2019/10/201910231410974_s.jpg\n",
      "happenDt - 20191023\n",
      "happenPlace - 서귀포시 안덕 환순로 56번길 26-3\n",
      "kindCd - [개] 믹스견\n",
      "neuterYn - N\n",
      "noticeEdt - 20191104\n",
      "noticeNo - 제주-제주-2019-06023\n",
      "noticeSdt - 20191023\n",
      "orgNm - 제주특별자치도\n",
      "popfile - http://www.animal.go.kr/files/shelter/2019/10/201910231410974.jpg\n",
      "processState - 보호중\n",
      "sexCd - M\n",
      "specialMark - (개체관리번호 6002)생후2개월\n",
      "weight - 2(Kg)\n"
     ]
    }
   ],
   "source": [
    "# 아이템 확인\n",
    "\n",
    "item = next(root.iter('item'))\n",
    "\n",
    "for child in item:\n",
    "    print(child.tag, '-', child.text)"
   ]
  },
  {
   "cell_type": "code",
   "execution_count": 13,
   "metadata": {},
   "outputs": [
    {
     "data": {
      "text/plain": [
       "['age',\n",
       " 'careAddr',\n",
       " 'careNm',\n",
       " 'careTel',\n",
       " 'chargeNm',\n",
       " 'colorCd',\n",
       " 'desertionNo',\n",
       " 'filename',\n",
       " 'happenDt',\n",
       " 'happenPlace',\n",
       " 'kindCd',\n",
       " 'neuterYn',\n",
       " 'noticeEdt',\n",
       " 'noticeNo',\n",
       " 'noticeSdt',\n",
       " 'orgNm',\n",
       " 'popfile',\n",
       " 'processState',\n",
       " 'sexCd',\n",
       " 'specialMark',\n",
       " 'weight']"
      ]
     },
     "execution_count": 13,
     "metadata": {},
     "output_type": "execute_result"
    }
   ],
   "source": [
    "# 컬럼 목록 얻기\n",
    "\n",
    "item = next(root.iter('item'))\n",
    "\n",
    "columns = []\n",
    "\n",
    "for child in item:\n",
    "    columns.append(child.tag)\n",
    "\n",
    "columns"
   ]
  },
  {
   "cell_type": "markdown",
   "metadata": {},
   "source": [
    "## 사용할 컬럼 선택\n",
    "\n",
    "어떤 컬럼을 사용할지 선택해서 테이블을 만듭시다.\n",
    "\n",
    "저는 `age`, `colorCd`, `happenDt`, `kindCd`, `orgNm`, `sexCd`, `weight`만 사용하겠습니다."
   ]
  },
  {
   "cell_type": "code",
   "execution_count": 14,
   "metadata": {},
   "outputs": [],
   "source": [
    "columns = ['age', 'colorCd', 'happenDt', 'kindCd', 'orgNm', 'sexCd', 'weight']"
   ]
  },
  {
   "cell_type": "markdown",
   "metadata": {},
   "source": [
    "## Identifier (고유 식별자)\n",
    "\n",
    "각 동물 데이터에 대한 Identifier를 만들면 개별적으로 관리하기 좋습니다.\n",
    "\n",
    "학급에서 학생들에게 번호를 지정하면 같은 이름을 가진 학생을 구분하기도 좋고, 훨씬 쉽고 빠르게 데이터에 접근할 수 있습니다.\n",
    "\n",
    "“아샬”이란 학생의 국어 점수를 찾으려면 꽤 어려울 수 있지만,\n",
    "(학생 정보가 번호 순서대로 써있다는 전제로) 32번 학생의 국어 점수는 비교적 쉽게 찾을 수 있죠.\n",
    "\n",
    "SQLite는 `PRIMARY_KEY`와 `AUTOINCREMENT`를 통해 Identifier를 제공합니다.\n",
    "\n",
    "- [CREATE TABLE](https://www.sqlite.org/lang_createtable.html)\n",
    "- [SQLite Primary Key](https://www.sqlitetutorial.net/sqlite-primary-key/)\n",
    "- [SQLite AUTOINCREMENT](https://www.sqlitetutorial.net/sqlite-autoincrement/)"
   ]
  },
  {
   "cell_type": "markdown",
   "metadata": {},
   "source": [
    "## Hash\n",
    "\n",
    "- 해시 함수(hash function)는 임의의 길이의 데이터를 고정된 길이의 데이터로 매핑하는 함수이다. \n",
    "- 저장된 자료의 양에 상관없이 원소 하나를 저장·검색하는 데 항상 상수 시간에 가능하게 할 수 없는지 사람들은 요구하게 되었고, 이 꿈을 실현한 것이 해시 테이블이다. 해시 테이블은 자료의 저장·검색에 있어 극단적인 효율에 다다른 자료구조이다.\n",
    "\n",
    "- 해시(Hash) 테이블은 원소의 값에 의해 결정되는 자료구조이다. 즉, 저장된 자료와의 비교를 통해 자리를 찾지 않고 단 한번의 계산으로 자리를 찾는다.\n",
    "\n",
    "\n",
    "API에서 이미 Identifier를 제공하고 있다면 그걸 그대로 활용할 수 있습니다.\n",
    "\n",
    "유기동물 조회 서비스 API는 `noticeNo` 항목으로 “`ㅇㅇ-ㅇㅇ-2019-00000`” 같은 값을 제공하는데,\n",
    "이건 숫자가 아니라서 우리의 DB에 Identifier로 바로 활용할 수 없습니다.\n",
    "\n",
    "그래서 Python은 `hash` 함수를 제공합니다."
   ]
  },
  {
   "cell_type": "code",
   "execution_count": 15,
   "metadata": {},
   "outputs": [
    {
     "data": {
      "text/plain": [
       "2500220041486130993"
      ]
     },
     "execution_count": 15,
     "metadata": {},
     "output_type": "execute_result"
    }
   ],
   "source": [
    "# 문자열을 숫자로 변환\n",
    "\n",
    "hash('ㅇㅇ-ㅇㅇ-2019-00000')"
   ]
  },
  {
   "cell_type": "code",
   "execution_count": 16,
   "metadata": {},
   "outputs": [
    {
     "data": {
      "text/plain": [
       "2306157997212821217"
      ]
     },
     "execution_count": 16,
     "metadata": {},
     "output_type": "execute_result"
    }
   ],
   "source": [
    "hash('ㅇㅇ-ㅇㅇ-2019-00001')"
   ]
  },
  {
   "cell_type": "code",
   "execution_count": 17,
   "metadata": {},
   "outputs": [
    {
     "data": {
      "text/plain": [
       "-6216469757349641193"
      ]
     },
     "execution_count": 17,
     "metadata": {},
     "output_type": "execute_result"
    }
   ],
   "source": [
    "hash('ㅇㅇ-ㅇㅇ-2019-00002')"
   ]
  },
  {
   "cell_type": "code",
   "execution_count": 18,
   "metadata": {},
   "outputs": [
    {
     "data": {
      "text/plain": [
       "6216469757349641193"
      ]
     },
     "execution_count": 18,
     "metadata": {},
     "output_type": "execute_result"
    }
   ],
   "source": [
    "# abs 함수를 쓰면 절대값을 구할 수 있습니다.\n",
    "\n",
    "abs(hash('ㅇㅇ-ㅇㅇ-2019-00002'))"
   ]
  },
  {
   "cell_type": "markdown",
   "metadata": {},
   "source": [
    "## DB 접속"
   ]
  },
  {
   "cell_type": "code",
   "execution_count": 19,
   "metadata": {},
   "outputs": [],
   "source": [
    "# 파일로 기록되는 데이터베이스에 연결/접속\n",
    "\n",
    "connection = sqlite3.connect('test.db')"
   ]
  },
  {
   "cell_type": "code",
   "execution_count": 20,
   "metadata": {},
   "outputs": [],
   "source": [
    "# 커서 얻기\n",
    "\n",
    "cursor = connection.cursor()"
   ]
  },
  {
   "cell_type": "markdown",
   "metadata": {},
   "source": [
    "## 테이블 생성"
   ]
  },
  {
   "cell_type": "code",
   "execution_count": 21,
   "metadata": {
    "collapsed": true
   },
   "outputs": [
    {
     "ename": "OperationalError",
     "evalue": "table animals already exists",
     "output_type": "error",
     "traceback": [
      "\u001b[0;31m---------------------------------------------------------------------------\u001b[0m",
      "\u001b[0;31mOperationalError\u001b[0m                          Traceback (most recent call last)",
      "\u001b[0;32m<ipython-input-21-1c611953afb5>\u001b[0m in \u001b[0;36m<module>\u001b[0;34m\u001b[0m\n\u001b[1;32m     12\u001b[0m '''\n\u001b[1;32m     13\u001b[0m \u001b[0;34m\u001b[0m\u001b[0m\n\u001b[0;32m---> 14\u001b[0;31m \u001b[0mcursor\u001b[0m\u001b[0;34m.\u001b[0m\u001b[0mexecute\u001b[0m\u001b[0;34m(\u001b[0m\u001b[0msql\u001b[0m\u001b[0;34m)\u001b[0m\u001b[0;34m\u001b[0m\u001b[0;34m\u001b[0m\u001b[0m\n\u001b[0m",
      "\u001b[0;31mOperationalError\u001b[0m: table animals already exists"
     ]
    }
   ],
   "source": [
    "sql = '''\n",
    "CREATE TABLE animals (\n",
    "    id INTEGER PRIMARY KEY AUTOINCREMENT, #hash를 썼기 때문에 우리가 넣은 값이(id) 들어감 ㅎㅎ 그래서 중복 안됨 \n",
    "    age TEXT,\n",
    "    colorCd TEXT,\n",
    "    happenDt TEXT,\n",
    "    kindCd TEXT,\n",
    "    orgNm TEXT,\n",
    "    sexCd TEXT,\n",
    "    weight TEXT\n",
    ")\n",
    "'''\n",
    "# 스키마 라고 부름 (위의 sql 테이블)\n",
    "# 두번 실행하고 싶을 때? drop table animals 추가하면 되는 데, 한번 더 실행하면 덮여서 사라짐..! 정말 2번 실행해야하는 경우만 하기 \n",
    "cursor.execute(sql)"
   ]
  },
  {
   "cell_type": "markdown",
   "metadata": {},
   "source": [
    "## XML 파싱"
   ]
  },
  {
   "cell_type": "code",
   "execution_count": 22,
   "metadata": {
    "scrolled": false
   },
   "outputs": [],
   "source": [
    "# XML 데이터를 rows에 담기\n",
    "\n",
    "# rows 준비\n",
    "rows = []\n",
    "\n",
    "for item in root.iter('item'):\n",
    "    # row 준비\n",
    "    row = {}\n",
    "\n",
    "    # 중복을 방지하기 위해 noticeNo 컬럼을 숫자로 바꿔서 Identifier로 활용합니다.\n",
    "    # 문자열을 숫자로 바꿀 땐 hash 함수를 사용합니다.\n",
    "    row['id'] = abs(hash(item.find('noticeNo').text))\n",
    "\n",
    "    # 원하는 컬럼만 얻습니다.\n",
    "    for column in columns:\n",
    "        row[column] = item.find(column).text\n",
    "\n",
    "    # rows에 추가\n",
    "    rows.append(row)"
   ]
  },
  {
   "cell_type": "code",
   "execution_count": 23,
   "metadata": {},
   "outputs": [
    {
     "data": {
      "text/plain": [
       "100"
      ]
     },
     "execution_count": 23,
     "metadata": {},
     "output_type": "execute_result"
    }
   ],
   "source": [
    "# rows 갯수 확인\n",
    "\n",
    "len(rows)"
   ]
  },
  {
   "cell_type": "code",
   "execution_count": 24,
   "metadata": {},
   "outputs": [
    {
     "data": {
      "text/plain": [
       "{'id': 7397766572298055606,\n",
       " 'age': '2019(년생)',\n",
       " 'colorCd': '검정',\n",
       " 'happenDt': '20191023',\n",
       " 'kindCd': '[개] 믹스견',\n",
       " 'orgNm': '제주특별자치도',\n",
       " 'sexCd': 'M',\n",
       " 'weight': '2(Kg)'}"
      ]
     },
     "execution_count": 24,
     "metadata": {},
     "output_type": "execute_result"
    }
   ],
   "source": [
    "# 데이터 확인\n",
    "\n",
    "rows[0]"
   ]
  },
  {
   "cell_type": "markdown",
   "metadata": {},
   "source": [
    "## DB에 데이터 넣기\n",
    "\n",
    "Identifier로 쓰이는 `id`를 제외한 나머지 값을 `INSERT`해야 합니다.\n",
    "\n",
    "`INSERT INTO [테이블 이름] ([필드 목록]) VALUES ([값 목록])`\n",
    "\n",
    "필드 목록을 만들기 위해 우리는 `join`을 사용할 겁니다.\n",
    "\n",
    "- [str.join](https://github.com/ahastudio/til/blob/master/python/str-join.md)\n",
    "- [SQLite Python: Inserting Data](https://www.sqlitetutorial.net/sqlite-python/insert/)"
   ]
  },
  {
   "cell_type": "code",
   "execution_count": 25,
   "metadata": {},
   "outputs": [
    {
     "data": {
      "text/plain": [
       "'id, age, colorCd, happenDt, kindCd, orgNm, sexCd, weight'"
      ]
     },
     "execution_count": 25,
     "metadata": {},
     "output_type": "execute_result"
    }
   ],
   "source": [
    "# 데이터의 키를 모아서 쉼표로 이어줍니다.\n",
    "\n",
    "', '.join(rows[0].keys()) #rows 0번 리스트가 담고 있는 키 "
   ]
  },
  {
   "cell_type": "code",
   "execution_count": 26,
   "metadata": {},
   "outputs": [
    {
     "name": "stdout",
     "output_type": "stream",
     "text": [
      "INSERT INTO animals (id, age, colorCd, happenDt, kindCd, orgNm, sexCd, weight) VALUES (?, ?, ?, ?, ?, ?, ?, ?)\n"
     ]
    }
   ],
   "source": [
    "# 필드 목록에 fields란 이름을 붙입니다.\n",
    "\n",
    "fields = ', '.join(rows[0].keys()) #,로 조인한다 \n",
    "\n",
    "# f-string을 사용하면 중괄호({}) 안에 변수 등을 넣어서 아주 간단히 SQL을 만들 수 있습니다.\n",
    "\n",
    "sql = f'INSERT INTO animals ({fields}) VALUES (?, ?, ?, ?, ?, ?, ?, ?)'\n",
    "\n",
    "print(sql)"
   ]
  },
  {
   "cell_type": "code",
   "execution_count": 27,
   "metadata": {},
   "outputs": [],
   "source": [
    "# 테이블에 데이터 넣기\n",
    "\n",
    "# 만약 id가 중복되면 “IntegrityError: UNIQUE constraint failed: animals.id” 에러가 발생합니다.\n",
    "\n",
    "for row in rows:\n",
    "    fields = ', '.join(row.keys())\n",
    "    sql = f'INSERT INTO animals ({fields}) VALUES (?, ?, ?, ?, ?, ?, ?, ?)'\n",
    "    cursor.execute(sql, list(row.values()))\n",
    "\n",
    "connection.commit()"
   ]
  },
  {
   "cell_type": "code",
   "execution_count": 28,
   "metadata": {
    "scrolled": false
   },
   "outputs": [
    {
     "name": "stdout",
     "output_type": "stream",
     "text": [
      "중복된 데이터: {'id': 7397766572298055606, 'age': '2019(년생)', 'colorCd': '검정', 'happenDt': '20191023', 'kindCd': '[개] 믹스견', 'orgNm': '제주특별자치도', 'sexCd': 'M', 'weight': '2(Kg)'}\n",
      "중복된 데이터: {'id': 9129314992545460286, 'age': '2018(년생)', 'colorCd': '흰색,검정', 'happenDt': '20191023', 'kindCd': '[개] 보스턴 테리어', 'orgNm': '경상남도 거제시', 'sexCd': 'M', 'weight': '10(Kg)'}\n",
      "중복된 데이터: {'id': 1312205796456516392, 'age': '2017(년생)', 'colorCd': '황색 ', 'happenDt': '20191023', 'kindCd': '[개] 믹스견', 'orgNm': '경상남도 밀양시', 'sexCd': 'F', 'weight': '8(Kg)'}\n"
     ]
    }
   ],
   "source": [
    "# 중복을 피해서 테이블에 데이터 넣기\n",
    "\n",
    "for row in rows[:3]:\n",
    "    fields = ', '.join(row.keys())\n",
    "    sql = f'INSERT INTO animals ({fields}) VALUES (?, ?, ?, ?, ?, ?, ?, ?)'\n",
    "    try:\n",
    "        cursor.execute(sql, list(row.values()))\n",
    "    except sqlite3.IntegrityError:\n",
    "        print('중복된 데이터:', row)\n",
    "\n",
    "connection.commit()"
   ]
  },
  {
   "cell_type": "markdown",
   "metadata": {},
   "source": [
    "## DB에 데이터가 잘 들어갔는지 간단히 확인"
   ]
  },
  {
   "cell_type": "code",
   "execution_count": 29,
   "metadata": {
    "scrolled": false
   },
   "outputs": [],
   "source": [
    "# 테이블에서 데이터 얻기\n",
    "\n",
    "cursor.execute('SELECT * FROM animals')\n",
    "\n",
    "rows = cursor.fetchall()"
   ]
  },
  {
   "cell_type": "code",
   "execution_count": 30,
   "metadata": {},
   "outputs": [
    {
     "name": "stdout",
     "output_type": "stream",
     "text": [
      "30729\n"
     ]
    }
   ],
   "source": [
    "# 전부 출력하면 무서울테니 갯수만 확인합니다.\n",
    "\n",
    "print(len(rows))"
   ]
  },
  {
   "cell_type": "code",
   "execution_count": 32,
   "metadata": {},
   "outputs": [
    {
     "name": "stdout",
     "output_type": "stream",
     "text": [
      "(1, '2016(년생)', '흰갈', '20191014', '[개] 믹스견', '경상남도 의령군', 'F', '5(Kg)')\n"
     ]
    }
   ],
   "source": [
    "# 데이터 하나만 확인합니다.\n",
    "\n",
    "print(rows[0])"
   ]
  },
  {
   "cell_type": "markdown",
   "metadata": {},
   "source": [
    "## DB 사용 종료\n",
    "\n",
    "DB를 사용 후엔 `close`를 하는 게 좋습니다."
   ]
  },
  {
   "cell_type": "code",
   "execution_count": 33,
   "metadata": {},
   "outputs": [],
   "source": [
    "connection.close()"
   ]
  },
  {
   "cell_type": "code",
   "execution_count": null,
   "metadata": {},
   "outputs": [],
   "source": []
  }
 ],
 "metadata": {
  "kernelspec": {
   "display_name": "Python 3",
   "language": "python",
   "name": "python3"
  },
  "language_info": {
   "codemirror_mode": {
    "name": "ipython",
    "version": 3
   },
   "file_extension": ".py",
   "mimetype": "text/x-python",
   "name": "python",
   "nbconvert_exporter": "python",
   "pygments_lexer": "ipython3",
   "version": "3.7.4"
  }
 },
 "nbformat": 4,
 "nbformat_minor": 2
}
