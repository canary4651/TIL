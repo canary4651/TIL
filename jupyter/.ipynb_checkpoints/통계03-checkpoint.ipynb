{
 "cells": [
  {
   "cell_type": "markdown",
   "metadata": {},
   "source": [
    "# 추정"
   ]
  },
  {
   "cell_type": "code",
   "execution_count": 2,
   "metadata": {},
   "outputs": [],
   "source": [
    "from numpy.random import binomial"
   ]
  },
  {
   "cell_type": "code",
   "execution_count": 6,
   "metadata": {},
   "outputs": [],
   "source": [
    "data = binomial(100,0.3,50) #대체로 30근처에 많이 나옴 \n",
    "# n=100, p=.3에서 50번 데이터를 추출 "
   ]
  },
  {
   "cell_type": "code",
   "execution_count": 7,
   "metadata": {},
   "outputs": [
    {
     "data": {
      "text/plain": [
       "array([30, 28, 30, 24, 25, 26, 33, 20, 27, 26, 23, 32, 32, 24, 29, 33, 25,\n",
       "       25, 34, 33, 27, 36, 34, 30, 24, 31, 35, 24, 32, 32, 28, 25, 22, 34,\n",
       "       26, 24, 34, 30, 32, 34, 31, 25, 26, 29, 24, 29, 35, 28, 33, 32])"
      ]
     },
     "execution_count": 7,
     "metadata": {},
     "output_type": "execute_result"
    }
   ],
   "source": [
    "data"
   ]
  },
  {
   "cell_type": "code",
   "execution_count": 11,
   "metadata": {},
   "outputs": [],
   "source": [
    "import seaborn as sb"
   ]
  },
  {
   "cell_type": "code",
   "execution_count": 13,
   "metadata": {},
   "outputs": [
    {
     "data": {
      "text/plain": [
       "<matplotlib.axes._subplots.AxesSubplot at 0x117adfa10>"
      ]
     },
     "execution_count": 13,
     "metadata": {},
     "output_type": "execute_result"
    },
    {
     "data": {
      "image/png": "[encoded data removed]",
      "text/plain": [
       "<Figure size 432x288 with 1 Axes>"
      ]
     },
     "metadata": {
      "needs_background": "light"
     },
     "output_type": "display_data"
    }
   ],
   "source": [
    "sb.distplot(data)"
   ]
  },
  {
   "cell_type": "code",
   "execution_count": 14,
   "metadata": {},
   "outputs": [],
   "source": [
    "from numpy.random import normal"
   ]
  },
  {
   "cell_type": "code",
   "execution_count": 18,
   "metadata": {},
   "outputs": [],
   "source": [
    "data1 = normal(50,15, 100)"
   ]
  },
  {
   "cell_type": "code",
   "execution_count": 19,
   "metadata": {
    "collapsed": true
   },
   "outputs": [
    {
     "data": {
      "text/plain": [
       "array([56.79124047, 51.86351054, 60.40660901, 42.80509264, 51.28420831,\n",
       "       27.96043136, 30.70611949, 25.20390547, 51.41470176, 51.90743119,\n",
       "       38.44237414, 26.01362451, 57.55753768, 48.28614492, 59.59437677,\n",
       "       76.99156014, 43.30858331, 18.44015844, 60.95000307, 37.88052096,\n",
       "       60.70380369, 36.80068144, 19.45359448, 47.54476391, 58.31818206,\n",
       "       54.86934782, 58.22264037, 76.54753864, 54.0502512 , 38.81154683,\n",
       "       66.26874005, 40.14679678, 67.14446916, 82.99403084, 55.86247156,\n",
       "       28.07610706, 58.77234176, 30.23107257, 34.9953025 , 57.75917419,\n",
       "       17.33223447, 50.04291716, 37.37783094, 62.90248304, 42.51350191,\n",
       "       54.42702794, 52.07667879, 45.37244679, 34.85375489, 60.65352071,\n",
       "       52.47196824, 39.62587101, 21.57131688, 38.44469976, 41.04146142,\n",
       "       48.72318389, 46.76439799, 27.85847416, 38.22478894, 60.28022045,\n",
       "       31.21319403, 86.82371236, 40.10568853, 41.51415213, 58.06266527,\n",
       "       21.18357678, 55.47913781, 61.30221458, 39.6454743 , 58.99215148,\n",
       "       56.63084586, 40.70257065, 58.46334067, 40.98306517, 50.15117896,\n",
       "       39.67304858, 45.52849929, 49.79197881, 48.64560461, 67.35570407,\n",
       "       46.61698346, 46.87125769, 36.50637008, 41.40268289, 47.10971759,\n",
       "       61.62524801, 69.36680206, 41.93562368, 28.01019306, 47.31006179,\n",
       "       37.87511859, 35.58591589, 35.22551541, 34.46148554, 40.61274038,\n",
       "       62.86292768, 35.68423195, 33.07545222, 49.27479072, 62.40195776])"
      ]
     },
     "execution_count": 19,
     "metadata": {},
     "output_type": "execute_result"
    }
   ],
   "source": [
    "data1"
   ]
  },
  {
   "cell_type": "code",
   "execution_count": 20,
   "metadata": {},
   "outputs": [
    {
     "data": {
      "text/plain": [
       "<matplotlib.axes._subplots.AxesSubplot at 0x11c1c1310>"
      ]
     },
     "execution_count": 20,
     "metadata": {},
     "output_type": "execute_result"
    },
    {
     "data": {
      "image/png": "[encoded data removed]",
      "text/plain": [
       "<Figure size 432x288 with 1 Axes>"
      ]
     },
     "metadata": {
      "needs_background": "light"
     },
     "output_type": "display_data"
    }
   ],
   "source": [
    "sb.distplot(data1)"
   ]
  },
  {
   "cell_type": "code",
   "execution_count": 21,
   "metadata": {},
   "outputs": [],
   "source": [
    "예측 = 100"
   ]
  },
  {
   "cell_type": "code",
   "execution_count": 23,
   "metadata": {},
   "outputs": [],
   "source": [
    "import numpy as np"
   ]
  },
  {
   "cell_type": "code",
   "execution_count": 24,
   "metadata": {},
   "outputs": [
    {
     "data": {
      "text/plain": [
       "3000.52129214916"
      ]
     },
     "execution_count": 24,
     "metadata": {},
     "output_type": "execute_result"
    }
   ],
   "source": [
    "np.mean((data1 - 예측) ** 2) #data1에서 예측값을 빼서 제곱한다음 평균 구하기 mse(평균오차제곱)"
   ]
  },
  {
   "cell_type": "code",
   "execution_count": 25,
   "metadata": {},
   "outputs": [],
   "source": [
    "예측 = 20"
   ]
  },
  {
   "cell_type": "code",
   "execution_count": 26,
   "metadata": {},
   "outputs": [
    {
     "data": {
      "text/plain": [
       "926.9255335450571"
      ]
     },
     "execution_count": 26,
     "metadata": {},
     "output_type": "execute_result"
    }
   ],
   "source": [
    "np.mean((data1 - 예측) ** 2) #예측값이 내려가면 mse 값도 내려감"
   ]
  },
  {
   "cell_type": "code",
   "execution_count": 27,
   "metadata": {},
   "outputs": [
    {
     "data": {
      "text/plain": [
       "47.04002650872437"
      ]
     },
     "execution_count": 27,
     "metadata": {},
     "output_type": "execute_result"
    }
   ],
   "source": [
    "#평균으로 예측할 때 오차가 제일 작다! 통계의 특성 (평균 주번에 데이터가 몰려있으니까 )\n",
    "np.mean(data1)"
   ]
  },
  {
   "cell_type": "code",
   "execution_count": 30,
   "metadata": {},
   "outputs": [],
   "source": [
    "평균 = 47.04002650872437"
   ]
  },
  {
   "cell_type": "code",
   "execution_count": 31,
   "metadata": {},
   "outputs": [
    {
     "data": {
      "text/plain": [
       "195.76249995254133"
      ]
     },
     "execution_count": 31,
     "metadata": {},
     "output_type": "execute_result"
    }
   ],
   "source": [
    "np.mean((data1 - 평균) ** 2)"
   ]
  },
  {
   "cell_type": "markdown",
   "metadata": {},
   "source": [
    "### 정규분포에서 나온 데이터가 있을 때 모분포의 평균을 어떻게 추정하나?\n",
    "mse가 가장 작아지는 예측값을 모분포의 평균으로 추정\n",
    "- (수학적인 이유로 데이터의 평균이 mse가 가장작음)\n",
    "- (그래서 데이터의 평균이 모분포의 평균에 대한 가장 좋은 추정치가 됨)"
   ]
  },
  {
   "cell_type": "code",
   "execution_count": 116,
   "metadata": {},
   "outputs": [],
   "source": [
    "from scipy.optimize import minimize #최소화하다"
   ]
  },
  {
   "cell_type": "code",
   "execution_count": 36,
   "metadata": {},
   "outputs": [],
   "source": [
    "#경사하강법 / mse 구하는 함수 만들기 \n",
    "def mse(m):\n",
    "    return np.mean((data1-m)**2)"
   ]
  },
  {
   "cell_type": "code",
   "execution_count": 37,
   "metadata": {},
   "outputs": [
    {
     "data": {
      "text/plain": [
       "204.52394302159587"
      ]
     },
     "execution_count": 37,
     "metadata": {},
     "output_type": "execute_result"
    }
   ],
   "source": [
    "mse(50)"
   ]
  },
  {
   "cell_type": "code",
   "execution_count": 38,
   "metadata": {},
   "outputs": [
    {
     "data": {
      "text/plain": [
       "196.8441550913906"
      ]
     },
     "execution_count": 38,
     "metadata": {},
     "output_type": "execute_result"
    }
   ],
   "source": [
    "mse(46)"
   ]
  },
  {
   "cell_type": "code",
   "execution_count": 39,
   "metadata": {},
   "outputs": [
    {
     "data": {
      "text/plain": [
       "195.764102073942"
      ]
     },
     "execution_count": 39,
     "metadata": {},
     "output_type": "execute_result"
    }
   ],
   "source": [
    "mse(47)"
   ]
  },
  {
   "cell_type": "code",
   "execution_count": 40,
   "metadata": {},
   "outputs": [
    {
     "data": {
      "text/plain": [
       "926.9255335450571"
      ]
     },
     "execution_count": 40,
     "metadata": {},
     "output_type": "execute_result"
    }
   ],
   "source": [
    "mse(20)"
   ]
  },
  {
   "cell_type": "code",
   "execution_count": 41,
   "metadata": {},
   "outputs": [
    {
     "data": {
      "text/plain": [
       "3000.52129214916"
      ]
     },
     "execution_count": 41,
     "metadata": {},
     "output_type": "execute_result"
    }
   ],
   "source": [
    "mse(100)"
   ]
  },
  {
   "cell_type": "code",
   "execution_count": 42,
   "metadata": {},
   "outputs": [
    {
     "data": {
      "text/plain": [
       "      fun: 195.76249995254304\n",
       " hess_inv: array([[0.50000008]])\n",
       "      jac: array([-1.90734863e-06])\n",
       "  message: 'Optimization terminated successfully.'\n",
       "     nfev: 18\n",
       "      nit: 3\n",
       "     njev: 6\n",
       "   status: 0\n",
       "  success: True\n",
       "        x: array([47.04002522])"
      ]
     },
     "execution_count": 42,
     "metadata": {},
     "output_type": "execute_result"
    }
   ],
   "source": [
    "minimize(mse,100) # 함수, 초기값 을 해주면 함수에다가 100을 넣어봄 그리고 점점점 오차가 작아지는 값을 자동으로 찾아줌 (밑의 x_arry에 있는 값)"
   ]
  },
  {
   "cell_type": "code",
   "execution_count": 48,
   "metadata": {},
   "outputs": [],
   "source": [
    "def mae(m):\n",
    "    return np.mean(np.abs(data1-m))\n",
    "# 예측값과 데이터값을 구한 후 절대값을 낸 후 평균을 구한 거. "
   ]
  },
  {
   "cell_type": "code",
   "execution_count": 49,
   "metadata": {},
   "outputs": [
    {
     "data": {
      "text/plain": [
       "      fun: 11.346635879681468\n",
       " hess_inv: array([[55.68823709]])\n",
       "      jac: array([0.])\n",
       "  message: 'Optimization terminated successfully.'\n",
       "     nfev: 24\n",
       "      nit: 2\n",
       "     njev: 8\n",
       "   status: 0\n",
       "  success: True\n",
       "        x: array([47.01177336])"
      ]
     },
     "execution_count": 49,
     "metadata": {},
     "output_type": "execute_result"
    }
   ],
   "source": [
    "minimize(mae, 100)"
   ]
  },
  {
   "cell_type": "code",
   "execution_count": 50,
   "metadata": {},
   "outputs": [],
   "source": [
    "# 어떤 추정치를 쓰든 간 minimize 에 넣어주면 신경쓰지 않아도 값을 잘 찾아준다. 안 찾아지는 경우도 있지만 머,,, 대부분 찾아줌 \n",
    "# 이항분포 같은 경우는 mse쓰기가 좀 그럼 \n",
    "# 보통 mse(제곱)을 더 많이쓰는 데 이미지 처리에선 mae를 씀. "
   ]
  },
  {
   "cell_type": "code",
   "execution_count": 52,
   "metadata": {},
   "outputs": [],
   "source": [
    "연기력 = np.array([4,4,3,5,2])"
   ]
  },
  {
   "cell_type": "code",
   "execution_count": 53,
   "metadata": {},
   "outputs": [],
   "source": [
    "흥행 = np.array([5,4,3,5,1])"
   ]
  },
  {
   "cell_type": "code",
   "execution_count": 61,
   "metadata": {},
   "outputs": [],
   "source": [
    "def mse(param):\n",
    "    a,b = param #minimize에는 인자를 1나만 받을 수 있기 때문에 요렇게 설정해줘야함 \n",
    "    예측 = 연기력*a+b\n",
    "    return np.mean((흥행-예측)**2)\n",
    "#선형모형"
   ]
  },
  {
   "cell_type": "code",
   "execution_count": 63,
   "metadata": {},
   "outputs": [
    {
     "data": {
      "text/plain": [
       "4.4"
      ]
     },
     "execution_count": 63,
     "metadata": {},
     "output_type": "execute_result"
    }
   ],
   "source": [
    "mse([1,2])"
   ]
  },
  {
   "cell_type": "code",
   "execution_count": 64,
   "metadata": {},
   "outputs": [
    {
     "data": {
      "text/plain": [
       "      fun: 0.24615384615384853\n",
       " hess_inv: array([[ 0.48076926, -1.73076933],\n",
       "       [-1.73076933,  6.7307696 ]])\n",
       "      jac: array([ 9.31322575e-09, -1.49011612e-08])\n",
       "  message: 'Optimization terminated successfully.'\n",
       "     nfev: 24\n",
       "      nit: 4\n",
       "     njev: 6\n",
       "   status: 0\n",
       "  success: True\n",
       "        x: array([ 1.38461534, -1.38461524])"
      ]
     },
     "execution_count": 64,
     "metadata": {},
     "output_type": "execute_result"
    }
   ],
   "source": [
    "minimize(mse,[1,2])"
   ]
  },
  {
   "cell_type": "code",
   "execution_count": 65,
   "metadata": {},
   "outputs": [
    {
     "data": {
      "text/plain": [
       "0.2461538461538484"
      ]
     },
     "execution_count": 65,
     "metadata": {},
     "output_type": "execute_result"
    }
   ],
   "source": [
    "mse([ 1.38461534, -1.38461524])"
   ]
  },
  {
   "cell_type": "code",
   "execution_count": 66,
   "metadata": {},
   "outputs": [
    {
     "data": {
      "text/plain": [
       "array([4.15384612, 4.15384612, 2.76923078, 5.53846146, 1.38461544])"
      ]
     },
     "execution_count": 66,
     "metadata": {},
     "output_type": "execute_result"
    }
   ],
   "source": [
    "연기력 *  1.38461534  -1.38461524"
   ]
  },
  {
   "cell_type": "code",
   "execution_count": 67,
   "metadata": {},
   "outputs": [],
   "source": [
    "# parameter 3개 만들어보기 \n",
    "# 맛, 가성비, 선호도 (1-5점)\n",
    "# 홈런볼/콘칩/문어맥스봉/칸쵸/망고초코파이/몽쉘/엄마손/마켓오브라우니/프링글스/계피사탕\n",
    "# 맛 = [5, 3.5, 1, 4, 1, 2, 2, 5, 3, 1]\n",
    "# 가격 = [1, 3, 2, 4, 1, 2, 3, 1, 3, 5]\n",
    "# 선호도 = [5, 3, 2, 3, 1, 2, 3, 5, 3, 1]"
   ]
  },
  {
   "cell_type": "code",
   "execution_count": 70,
   "metadata": {},
   "outputs": [],
   "source": [
    "맛 = np.array([5, 3.5, 1, 4, 1, 2, 2, 5, 3, 1])"
   ]
  },
  {
   "cell_type": "code",
   "execution_count": 71,
   "metadata": {},
   "outputs": [],
   "source": [
    "가격 = np.array([1, 3, 2, 4, 1, 2, 3, 1, 3, 5])"
   ]
  },
  {
   "cell_type": "code",
   "execution_count": 72,
   "metadata": {},
   "outputs": [],
   "source": [
    "선호도 = np.array([5, 3, 2, 3, 1, 2, 3, 5, 3, 1])"
   ]
  },
  {
   "cell_type": "code",
   "execution_count": 73,
   "metadata": {},
   "outputs": [],
   "source": [
    "def mse(param):\n",
    "    a,b,c = param\n",
    "    예측 = 맛 * a + 가격*b + c\n",
    "    return np.mean((선호도-예측)**2)"
   ]
  },
  {
   "cell_type": "code",
   "execution_count": 74,
   "metadata": {},
   "outputs": [
    {
     "data": {
      "text/plain": [
       "      fun: 0.19933477946771128\n",
       " hess_inv: array([[ 0.23749681,  0.07481477, -0.8398593 ],\n",
       "       [ 0.07481477,  0.32608783, -1.02066839],\n",
       "       [-0.8398593 , -1.02066839,  5.35966909]])\n",
       "      jac: array([ 2.04890966e-06,  9.14558768e-07, -5.30853868e-07])\n",
       "  message: 'Optimization terminated successfully.'\n",
       "     nfev: 55\n",
       "      nit: 9\n",
       "     njev: 11\n",
       "   status: 0\n",
       "  success: True\n",
       "        x: array([ 0.77657364, -0.17715015,  1.10729759])"
      ]
     },
     "execution_count": 74,
     "metadata": {},
     "output_type": "execute_result"
    }
   ],
   "source": [
    "minimize(mse,[5,1,5])"
   ]
  },
  {
   "cell_type": "code",
   "execution_count": 76,
   "metadata": {},
   "outputs": [
    {
     "data": {
      "text/plain": [
       "array([11., 10.,  4., 12.,  3.,  6.,  7., 11.,  9.,  7.])"
      ]
     },
     "execution_count": 76,
     "metadata": {},
     "output_type": "execute_result"
    }
   ],
   "source": [
    "맛*2 + 가격"
   ]
  },
  {
   "cell_type": "code",
   "execution_count": 84,
   "metadata": {},
   "outputs": [],
   "source": [
    "나 = np.array([3, 5, 3, 5, 5, 2, 5, 4, 0, 5])\n",
    "남 = np.array([3, 2, 5, 5, 5, 5, 5, 4, 5, 0])\n",
    "연애 = np.array([0, 1, 4, 3, 0, 0, 5, 3, 0, 0])\n",
    "# 0 = 다신 안 만나 5 = 많은 상처/시련 등등이 있었지만 그래도 나 너 다시 만나"
   ]
  },
  {
   "cell_type": "code",
   "execution_count": 85,
   "metadata": {},
   "outputs": [],
   "source": [
    "def mse(param):\n",
    "    a,b,c = param\n",
    "    예측 = 나 * a + 남*b + c\n",
    "    return np.mean((연애-예측)**2)"
   ]
  },
  {
   "cell_type": "code",
   "execution_count": 86,
   "metadata": {},
   "outputs": [
    {
     "data": {
      "text/plain": [
       "      fun: 2.106351526965792\n",
       " hess_inv: array([[ 0.21706735,  0.07521595, -1.10058849],\n",
       "       [ 0.07521595,  0.21191551, -1.10569131],\n",
       "       [-1.10058849, -1.10569131,  8.89128319]])\n",
       "      jac: array([4.11272049e-06, 3.39746475e-06, 9.23871994e-07])\n",
       "  message: 'Optimization terminated successfully.'\n",
       "     nfev: 70\n",
       "      nit: 12\n",
       "     njev: 14\n",
       "   status: 0\n",
       "  success: True\n",
       "        x: array([ 0.60347638,  0.63986353, -3.12832993])"
      ]
     },
     "execution_count": 86,
     "metadata": {},
     "output_type": "execute_result"
    }
   ],
   "source": [
    "minimize(mse,[3,3,0])"
   ]
  },
  {
   "cell_type": "markdown",
   "metadata": {},
   "source": [
    "## 우도"
   ]
  },
  {
   "cell_type": "code",
   "execution_count": 87,
   "metadata": {},
   "outputs": [],
   "source": [
    "from scipy.stats import binom"
   ]
  },
  {
   "cell_type": "code",
   "execution_count": 90,
   "metadata": {},
   "outputs": [
    {
     "data": {
      "text/plain": [
       "0.25"
      ]
     },
     "execution_count": 90,
     "metadata": {},
     "output_type": "execute_result"
    }
   ],
   "source": [
    "binom.pmf(0,2,.5) #data, n, p #동전 두개, 확률 .5 앞면이 하나도 안나올 값"
   ]
  },
  {
   "cell_type": "code",
   "execution_count": 91,
   "metadata": {},
   "outputs": [
    {
     "data": {
      "text/plain": [
       "array([0.25, 0.5 , 0.25])"
      ]
     },
     "execution_count": 91,
     "metadata": {},
     "output_type": "execute_result"
    }
   ],
   "source": [
    "binom.pmf([0,1,2],2,.5) #p에 해당되는 값을 바꾸면 확률도 바뀜  # 0 의 우도를 계산 "
   ]
  },
  {
   "cell_type": "code",
   "execution_count": 95,
   "metadata": {},
   "outputs": [
    {
     "data": {
      "text/plain": [
       "0"
      ]
     },
     "execution_count": 95,
     "metadata": {},
     "output_type": "execute_result"
    }
   ],
   "source": [
    "binomial(2,.2) #이렇게 하면 데이터 값이 나옴. 근데 pmf 하면 확률이 나옴 "
   ]
  },
  {
   "cell_type": "code",
   "execution_count": 101,
   "metadata": {},
   "outputs": [],
   "source": [
    "data = binomial(2,.2,100)"
   ]
  },
  {
   "cell_type": "code",
   "execution_count": 102,
   "metadata": {},
   "outputs": [],
   "source": [
    "p = .5"
   ]
  },
  {
   "cell_type": "code",
   "execution_count": 109,
   "metadata": {},
   "outputs": [],
   "source": [
    "like = binom.pmf(data,2,p)"
   ]
  },
  {
   "cell_type": "code",
   "execution_count": 104,
   "metadata": {},
   "outputs": [
    {
     "data": {
      "text/plain": [
       "1"
      ]
     },
     "execution_count": 104,
     "metadata": {},
     "output_type": "execute_result"
    }
   ],
   "source": [
    "binom.rvs(2,.2) #랜덤하게 데이터 생성"
   ]
  },
  {
   "cell_type": "code",
   "execution_count": 105,
   "metadata": {},
   "outputs": [
    {
     "data": {
      "text/plain": [
       "2.4849066497880004"
      ]
     },
     "execution_count": 105,
     "metadata": {},
     "output_type": "execute_result"
    }
   ],
   "source": [
    "np.log(3) + np.log(4)"
   ]
  },
  {
   "cell_type": "code",
   "execution_count": 123,
   "metadata": {},
   "outputs": [
    {
     "data": {
      "text/plain": [
       "2.4849066497880004"
      ]
     },
     "execution_count": 123,
     "metadata": {},
     "output_type": "execute_result"
    }
   ],
   "source": [
    "np.log(12)"
   ]
  },
  {
   "cell_type": "code",
   "execution_count": 124,
   "metadata": {},
   "outputs": [
    {
     "data": {
      "text/plain": [
       "-115.06243197295093"
      ]
     },
     "execution_count": 124,
     "metadata": {},
     "output_type": "execute_result"
    }
   ],
   "source": [
    "np.sum(np.log(like)) # log 곱한값이 log 더한 값이랑 똑같음 "
   ]
  },
  {
   "cell_type": "code",
   "execution_count": 132,
   "metadata": {},
   "outputs": [
    {
     "data": {
      "text/plain": [
       "-115.06243197295092"
      ]
     },
     "execution_count": 132,
     "metadata": {},
     "output_type": "execute_result"
    }
   ],
   "source": [
    "np.log(np.product(like))"
   ]
  },
  {
   "cell_type": "code",
   "execution_count": 114,
   "metadata": {},
   "outputs": [],
   "source": [
    "def lk(p):\n",
    "    like=binom.pmf(data,2,p)\n",
    "    return -np.sum(np.log(like)) #maximize가 없기 때문에 미니마이즈를 이용하려고 -시킴. 그래프 위 아래가 뒤집히니까! 최대점, 최소점"
   ]
  },
  {
   "cell_type": "code",
   "execution_count": 121,
   "metadata": {},
   "outputs": [
    {
     "data": {
      "text/plain": [
       "      fun: 70.71169322298074\n",
       " hess_inv: <1x1 LbfgsInvHessProduct with dtype=float64>\n",
       "      jac: array([-4.26325641e-06])\n",
       "  message: b'CONVERGENCE: NORM_OF_PROJECTED_GRADIENT_<=_PGTOL'\n",
       "     nfev: 18\n",
       "      nit: 7\n",
       "   status: 0\n",
       "  success: True\n",
       "        x: array([0.17999999])"
      ]
     },
     "execution_count": 121,
     "metadata": {},
     "output_type": "execute_result"
    }
   ],
   "source": [
    "minimize(lk,.5,bounds=[(0.01,0.99)]) \n",
    "#확률이 0이면 p가 0인 경우가 생기니까 0.01-0.99로 포함 bounds는 범위로 보면 됨 여러개가 들어갈 수도 있기 때문에 [] 리스트 형태로 넣어줌\n",
    "# 실제 확률(p)우도는 0.2 인데, 추정해본 값은 0.17로 나옴. 현실에선 사실 실제 확률(우도)를 알 수 없음. "
   ]
  },
  {
   "cell_type": "code",
   "execution_count": 127,
   "metadata": {},
   "outputs": [
    {
     "data": {
      "text/plain": [
       "0.18"
      ]
     },
     "execution_count": 127,
     "metadata": {},
     "output_type": "execute_result"
    }
   ],
   "source": [
    "np.mean(data)/2 #이항 분포는 쉬운 그래프라서 굳이 위의 그래프처럼 안하고 이렇게 해도 구할 수 있음 ㅎ... "
   ]
  },
  {
   "cell_type": "markdown",
   "metadata": {},
   "source": [
    "## 로지스틱 모형"
   ]
  },
  {
   "cell_type": "code",
   "execution_count": 150,
   "metadata": {},
   "outputs": [],
   "source": [
    "아메리카노 =np.array([0,1,0,1,1,1]) #아메 선호가 1, 라떼 선호 0\n",
    "김치찌개 = np.array([5,1,3,4,5,3]) # 김치 54321 된장 "
   ]
  },
  {
   "cell_type": "code",
   "execution_count": 151,
   "metadata": {},
   "outputs": [],
   "source": [
    "from scipy.special import expit #로지스틱"
   ]
  },
  {
   "cell_type": "code",
   "execution_count": 158,
   "metadata": {},
   "outputs": [],
   "source": [
    "a=.3\n",
    "b=.2"
   ]
  },
  {
   "cell_type": "code",
   "execution_count": 156,
   "metadata": {},
   "outputs": [],
   "source": [
    "예측 = expit(a * 김치찌개 + b) #로지스틱을 쓰려고 아메와 라떼를 1,0 으로 설정한거고, 김치찌개에 대한 선호도가 아메리카노에 대한 선호도에 영향을 미치는 식. \n",
    "# 범주를 0과 1 사이로 (확률)을 만들기 위해서 expit로 찌그러뜨린거임. 로지스틱 모형은 0-1사이 범주의 확률이기 때문. \n",
    "# 식 자체는 아메리카노와 이야기가 없음. 그냥 아무 숫자나 넣어줄 수 있음. 그치만 우리가 우도로 a와 b로 조절해주면 상관이 있어짐."
   ]
  },
  {
   "cell_type": "code",
   "execution_count": 157,
   "metadata": {},
   "outputs": [
    {
     "data": {
      "text/plain": [
       "array([0.99752738, 0.88079708, 0.98201379, 0.99330715, 0.99752738,\n",
       "       0.98201379])"
      ]
     },
     "execution_count": 157,
     "metadata": {},
     "output_type": "execute_result"
    }
   ],
   "source": [
    "예측 # 아메리카노를 좋아할 확률 그니까 싫어하는 사람의 확률을 우도로 쓰려면 뒤집어야 함. \n",
    "# 첫번째 사람이 0(싫어함)을 한거인데 확률은 0.99가 나옴 이 사람은 우도를 뒤집어서 0.1이라고 생각해야함"
   ]
  },
  {
   "cell_type": "code",
   "execution_count": null,
   "metadata": {},
   "outputs": [],
   "source": [
    "# 예가 이상하다..! 다르게 생각 \n",
    "# 학생의 실력 1 - 100 -> 합격 1/0\n",
    "# 합격은 붙느냐 마느냐 밖에 없음. 그래서 로지스틱 모형을 쓰는 거임! 위에 예시였던 선형 모형은 연기력 - 흥행정도 이니까 0/1로 나누어지지 않았음 ㅎㅎ "
   ]
  },
  {
   "cell_type": "code",
   "execution_count": 182,
   "metadata": {},
   "outputs": [],
   "source": [
    "합격=np.array([0,1,0,0,1,1]) #합격은 1, 불합은 0\n",
    "실력= np.array([1,5,3,4,5,3]) #점수가 높을수록 실력이 좋음 \n",
    " # 실력이 좋으면 과연 합격률이 올라갈까? "
   ]
  },
  {
   "cell_type": "code",
   "execution_count": 183,
   "metadata": {},
   "outputs": [],
   "source": [
    "a=.3\n",
    "b=.2"
   ]
  },
  {
   "cell_type": "code",
   "execution_count": 184,
   "metadata": {},
   "outputs": [],
   "source": [
    "합격확률 = expit(a * 실력 + b)"
   ]
  },
  {
   "cell_type": "code",
   "execution_count": 185,
   "metadata": {},
   "outputs": [
    {
     "data": {
      "text/plain": [
       "array([0.62245933, 0.84553473, 0.75026011, 0.80218389, 0.84553473,\n",
       "       0.75026011])"
      ]
     },
     "execution_count": 185,
     "metadata": {},
     "output_type": "execute_result"
    }
   ],
   "source": [
    "합격확률 #1,3 번째 사람은 우도를 거꾸로 생각해야함 "
   ]
  },
  {
   "cell_type": "code",
   "execution_count": 186,
   "metadata": {},
   "outputs": [
    {
     "data": {
      "text/plain": [
       "array([-0.        , -0.16778603, -0.        , -0.        , -0.16778603,\n",
       "       -0.28733533])"
      ]
     },
     "execution_count": 186,
     "metadata": {},
     "output_type": "execute_result"
    }
   ],
   "source": [
    "합격자우도=np.log(합격확률)* 합격 # 합격자의 우도, 떨어진 사람은 0 이니까 곱하면 0됨 \n",
    "합격자우도"
   ]
  },
  {
   "cell_type": "code",
   "execution_count": 187,
   "metadata": {},
   "outputs": [
    {
     "data": {
      "text/plain": [
       "array([-0.97407698, -0.        , -1.38733533, -1.62041741, -0.        ,\n",
       "       -0.        ])"
      ]
     },
     "execution_count": 187,
     "metadata": {},
     "output_type": "execute_result"
    }
   ],
   "source": [
    "탈락자우도=np.log(1-합격확률) *(1-합격) #탈락자의 우도 (그래서 합격한 사람만 0이 됨 )\n",
    "탈락자우도"
   ]
  },
  {
   "cell_type": "code",
   "execution_count": 188,
   "metadata": {},
   "outputs": [
    {
     "data": {
      "text/plain": [
       "array([-0.97407698, -0.16778603, -1.38733533, -1.62041741, -0.16778603,\n",
       "       -0.28733533])"
      ]
     },
     "execution_count": 188,
     "metadata": {},
     "output_type": "execute_result"
    }
   ],
   "source": [
    "전체우도 = 합격자우도+탈락자우도\n",
    "전체우도"
   ]
  },
  {
   "cell_type": "code",
   "execution_count": 189,
   "metadata": {},
   "outputs": [
    {
     "data": {
      "text/plain": [
       "4.604737103101952"
      ]
     },
     "execution_count": 189,
     "metadata": {},
     "output_type": "execute_result"
    }
   ],
   "source": [
    "-np.sum(전체우도)"
   ]
  },
  {
   "cell_type": "code",
   "execution_count": 190,
   "metadata": {},
   "outputs": [],
   "source": [
    "def lk(param):\n",
    "    a,b = param\n",
    "    합격확률 =  expit(a * 실력 + b)\n",
    "    합격자우도=np.log(합격확률)* 합격\n",
    "    탈락자우도=np.log(1-합격확률) *(1-합격)\n",
    "    전체우도 = 합격자우도+탈락자우도\n",
    "    return -np.sum(전체우도)\n",
    "# 왜 전체우도를 구하는 걸까? : 사실은 우도가 궁금한게 아니라, 파라미터(a,b)의 최적값들이 궁금한거. 그래서 우도(확률)을 통해서 알아보고 있는 거다.                          "
   ]
  },
  {
   "cell_type": "code",
   "execution_count": 193,
   "metadata": {},
   "outputs": [
    {
     "data": {
      "text/plain": [
       "      fun: 2.8550135317547918\n",
       " hess_inv: array([[ 1.02533139, -3.75925819],\n",
       "       [-3.75925819, 14.84217073]])\n",
       "      jac: array([ 0.00000000e+00, -3.87430191e-07])\n",
       "  message: 'Optimization terminated successfully.'\n",
       "     nfev: 48\n",
       "      nit: 11\n",
       "     njev: 12\n",
       "   status: 0\n",
       "  success: True\n",
       "        x: array([ 1.30380132, -4.70457027])"
      ]
     },
     "execution_count": 193,
     "metadata": {},
     "output_type": "execute_result"
    }
   ],
   "source": [
    "minimize(lk,[1,0]) #초기값은 아무거나 상관없음 \n",
    "# 어떤 사람의 합격확률을 구하는 법? "
   ]
  },
  {
   "cell_type": "code",
   "execution_count": 194,
   "metadata": {},
   "outputs": [
    {
     "data": {
      "text/plain": [
       "array([0.03227144, 0.85989719, 0.31148921, 0.62495532, 0.85989719,\n",
       "       0.31148921])"
      ]
     },
     "execution_count": 194,
     "metadata": {},
     "output_type": "execute_result"
    }
   ],
   "source": [
    " expit(1.30380132*실력 -4.70457027) #이렇게 구하면 됌!"
   ]
  },
  {
   "cell_type": "code",
   "execution_count": 196,
   "metadata": {},
   "outputs": [
    {
     "data": {
      "text/plain": [
       "0.6249553238342449"
      ]
     },
     "execution_count": 196,
     "metadata": {},
     "output_type": "execute_result"
    }
   ],
   "source": [
    " expit(1.30380132*4 -4.70457027) #실력이 4일때의 합격률은 0.62"
   ]
  },
  {
   "cell_type": "code",
   "execution_count": 200,
   "metadata": {},
   "outputs": [],
   "source": [
    "#만약 mse로 한다면?\n",
    "def mse(param):\n",
    "    a,b = param\n",
    "    합격확률 = expit(a*실력 + b)\n",
    "    return np.mean((합격확률 - 합격)**2)\n",
    "\n",
    "# 돌아가긴 하는 데....값이 좀 이상^^ \n"
   ]
  },
  {
   "cell_type": "code",
   "execution_count": 201,
   "metadata": {},
   "outputs": [
    {
     "data": {
      "text/plain": [
       "      fun: 0.16364995295643134\n",
       " hess_inv: array([[ 12.63181536, -49.86185941],\n",
       "       [-49.86185941, 210.55609665]])\n",
       "      jac: array([-9.39518213e-06, -3.57255340e-06])\n",
       "  message: 'Optimization terminated successfully.'\n",
       "     nfev: 60\n",
       "      nit: 13\n",
       "     njev: 15\n",
       "   status: 0\n",
       "  success: True\n",
       "        x: array([ 1.03872501, -3.84403032])"
      ]
     },
     "execution_count": 201,
     "metadata": {},
     "output_type": "execute_result"
    }
   ],
   "source": [
    "minimize(mse,[0,0])"
   ]
  },
  {
   "cell_type": "code",
   "execution_count": 202,
   "metadata": {},
   "outputs": [
    {
     "data": {
      "text/plain": [
       "0.542397940774351"
      ]
     },
     "execution_count": 202,
     "metadata": {},
     "output_type": "execute_result"
    }
   ],
   "source": [
    "# 예시\n",
    "연령 = 17\n",
    "소득 = 100\n",
    "expit(0.01*연령 + 0.02*소득 - 2)"
   ]
  },
  {
   "cell_type": "code",
   "execution_count": 208,
   "metadata": {},
   "outputs": [],
   "source": [
    "import pandas\n",
    "df=pandas.read_csv('imports-85.data', header=None)"
   ]
  },
  {
   "cell_type": "code",
   "execution_count": 213,
   "metadata": {},
   "outputs": [],
   "source": [
    "안전등급=df[0] #첫번쨰 칼럼: 안전등급 높을 수록 위험 "
   ]
  },
  {
   "cell_type": "code",
   "execution_count": 214,
   "metadata": {},
   "outputs": [],
   "source": [
    "연비=df[24] #24번째 칼럼: 고속도로 연비"
   ]
  },
  {
   "cell_type": "code",
   "execution_count": 215,
   "metadata": {},
   "outputs": [],
   "source": [
    "#선형모형 \n",
    "예측 = a*연비 + b"
   ]
  },
  {
   "cell_type": "code",
   "execution_count": 216,
   "metadata": {},
   "outputs": [
    {
     "data": {
      "text/plain": [
       "0      8.3\n",
       "1      8.3\n",
       "2      8.0\n",
       "3      9.2\n",
       "4      6.8\n",
       "      ... \n",
       "200    8.6\n",
       "201    7.7\n",
       "202    7.1\n",
       "203    8.3\n",
       "204    7.7\n",
       "Name: 24, Length: 205, dtype: float64"
      ]
     },
     "execution_count": 216,
     "metadata": {},
     "output_type": "execute_result"
    }
   ],
   "source": [
    "예측"
   ]
  },
  {
   "cell_type": "code",
   "execution_count": 217,
   "metadata": {},
   "outputs": [],
   "source": [
    "def mse(param):\n",
    "    a,b=param\n",
    "    예측 = a*연비 + b\n",
    "    return np.mean((안전등급 - 예측)**2)"
   ]
  },
  {
   "cell_type": "code",
   "execution_count": 219,
   "metadata": {},
   "outputs": [
    {
     "data": {
      "text/plain": [
       "      fun: 1.5413761440213387\n",
       " hess_inv: array([[ 0.01059507, -0.32581132],\n",
       "       [-0.32581132, 10.51909557]])\n",
       "      jac: array([0.00000000e+00, 1.49011612e-08])\n",
       "  message: 'Optimization terminated successfully.'\n",
       "     nfev: 24\n",
       "      nit: 3\n",
       "     njev: 6\n",
       "   status: 0\n",
       "  success: True\n",
       "        x: array([0.00625781, 0.6417112 ])"
      ]
     },
     "execution_count": 219,
     "metadata": {},
     "output_type": "execute_result"
    }
   ],
   "source": [
    "minimize(mse,[0,0])"
   ]
  },
  {
   "cell_type": "code",
   "execution_count": 229,
   "metadata": {},
   "outputs": [],
   "source": [
    "from sklearn.linear_model import LinearRegression"
   ]
  },
  {
   "cell_type": "code",
   "execution_count": 230,
   "metadata": {},
   "outputs": [],
   "source": [
    "m = LinearRegression().fit(df[[24]], 안전등급)"
   ]
  },
  {
   "cell_type": "code",
   "execution_count": 231,
   "metadata": {},
   "outputs": [
    {
     "data": {
      "text/plain": [
       "array([0.00625796])"
      ]
     },
     "execution_count": 231,
     "metadata": {},
     "output_type": "execute_result"
    }
   ],
   "source": [
    "m.coef_"
   ]
  },
  {
   "cell_type": "code",
   "execution_count": null,
   "metadata": {},
   "outputs": [],
   "source": []
  }
 ],
 "metadata": {
  "kernelspec": {
   "display_name": "Python 3",
   "language": "python",
   "name": "python3"
  },
  "language_info": {
   "codemirror_mode": {
    "name": "ipython",
    "version": 3
   },
   "file_extension": ".py",
   "mimetype": "text/x-python",
   "name": "python",
   "nbconvert_exporter": "python",
   "pygments_lexer": "ipython3",
   "version": "3.7.4"
  }
 },
 "nbformat": 4,
 "nbformat_minor": 2
}
