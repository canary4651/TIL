{
 "cells": [
  {
   "cell_type": "markdown",
   "metadata": {},
   "source": [
    "# 잔차의 해석"
   ]
  },
  {
   "cell_type": "code",
   "execution_count": 1,
   "metadata": {},
   "outputs": [],
   "source": [
    "import pandas \n",
    "from statsmodels.formula.api import ols"
   ]
  },
  {
   "cell_type": "code",
   "execution_count": 3,
   "metadata": {},
   "outputs": [],
   "source": [
    "child = pandas.read_csv('child.csv')"
   ]
  },
  {
   "cell_type": "code",
   "execution_count": 4,
   "metadata": {},
   "outputs": [
    {
     "data": {
      "text/html": [
       "<div>\n",
       "<style scoped>\n",
       "    .dataframe tbody tr th:only-of-type {\n",
       "        vertical-align: middle;\n",
       "    }\n",
       "\n",
       "    .dataframe tbody tr th {\n",
       "        vertical-align: top;\n",
       "    }\n",
       "\n",
       "    .dataframe thead th {\n",
       "        text-align: right;\n",
       "    }\n",
       "</style>\n",
       "<table border=\"1\" class=\"dataframe\">\n",
       "  <thead>\n",
       "    <tr style=\"text-align: right;\">\n",
       "      <th></th>\n",
       "      <th>Aggression</th>\n",
       "      <th>Television</th>\n",
       "      <th>Computer_Games</th>\n",
       "      <th>Sibling_Aggression</th>\n",
       "      <th>Diet</th>\n",
       "      <th>Parenting_Style</th>\n",
       "    </tr>\n",
       "  </thead>\n",
       "  <tbody>\n",
       "    <tr>\n",
       "      <th>0</th>\n",
       "      <td>0.374160</td>\n",
       "      <td>0.172671</td>\n",
       "      <td>0.141907</td>\n",
       "      <td>-0.328216</td>\n",
       "      <td>-0.110303</td>\n",
       "      <td>-0.279034</td>\n",
       "    </tr>\n",
       "    <tr>\n",
       "      <th>1</th>\n",
       "      <td>0.771153</td>\n",
       "      <td>-0.032872</td>\n",
       "      <td>0.709918</td>\n",
       "      <td>0.576837</td>\n",
       "      <td>-0.022990</td>\n",
       "      <td>-1.248167</td>\n",
       "    </tr>\n",
       "    <tr>\n",
       "      <th>2</th>\n",
       "      <td>-0.097728</td>\n",
       "      <td>-0.074460</td>\n",
       "      <td>-0.390141</td>\n",
       "      <td>-0.217184</td>\n",
       "      <td>0.280301</td>\n",
       "      <td>-0.328063</td>\n",
       "    </tr>\n",
       "    <tr>\n",
       "      <th>3</th>\n",
       "      <td>0.015935</td>\n",
       "      <td>-0.004427</td>\n",
       "      <td>-0.408080</td>\n",
       "      <td>0.046223</td>\n",
       "      <td>-0.263479</td>\n",
       "      <td>-1.005119</td>\n",
       "    </tr>\n",
       "    <tr>\n",
       "      <th>4</th>\n",
       "      <td>-0.275385</td>\n",
       "      <td>-0.675239</td>\n",
       "      <td>-0.277778</td>\n",
       "      <td>-0.891045</td>\n",
       "      <td>0.226581</td>\n",
       "      <td>0.489478</td>\n",
       "    </tr>\n",
       "  </tbody>\n",
       "</table>\n",
       "</div>"
      ],
      "text/plain": [
       "   Aggression  Television  Computer_Games  Sibling_Aggression      Diet  \\\n",
       "0    0.374160    0.172671        0.141907           -0.328216 -0.110303   \n",
       "1    0.771153   -0.032872        0.709918            0.576837 -0.022990   \n",
       "2   -0.097728   -0.074460       -0.390141           -0.217184  0.280301   \n",
       "3    0.015935   -0.004427       -0.408080            0.046223 -0.263479   \n",
       "4   -0.275385   -0.675239       -0.277778           -0.891045  0.226581   \n",
       "\n",
       "   Parenting_Style  \n",
       "0        -0.279034  \n",
       "1        -1.248167  \n",
       "2        -0.328063  \n",
       "3        -1.005119  \n",
       "4         0.489478  "
      ]
     },
     "execution_count": 4,
     "metadata": {},
     "output_type": "execute_result"
    }
   ],
   "source": [
    "child.head()"
   ]
  },
  {
   "cell_type": "code",
   "execution_count": 22,
   "metadata": {},
   "outputs": [],
   "source": [
    "ols('Aggression ~ Television', child).fit().summary()"
   ]
  },
  {
   "cell_type": "markdown",
   "metadata": {},
   "source": [
    "### skew: 보면 거의 대칭이 되어있음 +면 positive skew/ negative skew면 음수\n",
    "### kurtosis(첨도) : 4 정도 -> 정규분포와 비슷 \n",
    "### 등분산성 : 1.9 정도 (적당)\n",
    "### 조건수 : 3.23 정도 (적당) "
   ]
  },
  {
   "cell_type": "markdown",
   "metadata": {},
   "source": [
    "## 다중공선성 - 조건수 "
   ]
  },
  {
   "cell_type": "code",
   "execution_count": 13,
   "metadata": {},
   "outputs": [],
   "source": [
    "child['TV2'] = child['Television'] # 똑같은 변수 임의로 생성"
   ]
  },
  {
   "cell_type": "code",
   "execution_count": null,
   "metadata": {},
   "outputs": [],
   "source": [
    "ols('Aggression ~ Television + TV2', child).fit().summary()\n",
    "# 똑같은 변수인데 독립변수로 같이 보기 "
   ]
  },
  {
   "cell_type": "markdown",
   "metadata": {},
   "source": [
    "### 위에만 보면 정상인데 밑에 vwarning 읽으면 multicolinearilty(다중공선성)\n",
    "### cond.no.(조건수) : 거의 이억을 넘어감 ㅎㅎㅎ 이상하다는 거!! "
   ]
  },
  {
   "cell_type": "code",
   "execution_count": 20,
   "metadata": {},
   "outputs": [],
   "source": [
    "import seaborn"
   ]
  },
  {
   "cell_type": "markdown",
   "metadata": {},
   "source": [
    "# 정규화"
   ]
  },
  {
   "cell_type": "code",
   "execution_count": 28,
   "metadata": {},
   "outputs": [],
   "source": [
    "from sklearn.linear_model import LinearRegression, ElasticNetCV \n",
    "# elasticnet이 있고 cv가 붙은 게 있는 데 cv가 자동으로 해줌 "
   ]
  },
  {
   "cell_type": "code",
   "execution_count": 25,
   "metadata": {},
   "outputs": [],
   "source": [
    "x = child.iloc[:,1:6] #1번열부터 6번열까지를 x\n",
    "y = child['Aggression'] #aggression 열을 y"
   ]
  },
  {
   "cell_type": "markdown",
   "metadata": {},
   "source": [
    "# 선형모형"
   ]
  },
  {
   "cell_type": "code",
   "execution_count": 29,
   "metadata": {},
   "outputs": [],
   "source": [
    "m1 = LinearRegression()"
   ]
  },
  {
   "cell_type": "code",
   "execution_count": 30,
   "metadata": {},
   "outputs": [
    {
     "data": {
      "text/plain": [
       "LinearRegression(copy_X=True, fit_intercept=True, n_jobs=None, normalize=False)"
      ]
     },
     "execution_count": 30,
     "metadata": {},
     "output_type": "execute_result"
    }
   ],
   "source": [
    "m1.fit(x,y)"
   ]
  },
  {
   "cell_type": "code",
   "execution_count": 31,
   "metadata": {},
   "outputs": [
    {
     "data": {
      "text/plain": [
       "array([ 0.03291628,  0.14216117,  0.08168417, -0.10905412,  0.0566481 ])"
      ]
     },
     "execution_count": 31,
     "metadata": {},
     "output_type": "execute_result"
    }
   ],
   "source": [
    "m1.coef_\n",
    "# 계수 추정하면 5개가 나옴 (x열의 순서대로) -> 아무 조건 없이 mse를 최소한 조건으로 추정하게 만들어 진 계수"
   ]
  },
  {
   "cell_type": "markdown",
   "metadata": {},
   "source": [
    "# 엘라스틱넷 + 교차검증\n",
    "### 계수 + mse 둘 다 최소화 해줌"
   ]
  },
  {
   "cell_type": "markdown",
   "metadata": {},
   "source": [
    "'l1_ratio' = 교안에서 a에 해당되는 부분 (왜? 라쏘(l1), 릿지(l2) 라고 함) ratio = 비율"
   ]
  },
  {
   "cell_type": "code",
   "execution_count": 35,
   "metadata": {},
   "outputs": [
    {
     "data": {
      "text/plain": [
       "array([ 0.02572348,  0.12471677,  0.0687051 , -0.08714782,  0.05652955])"
      ]
     },
     "execution_count": 35,
     "metadata": {},
     "output_type": "execute_result"
    }
   ],
   "source": [
    "m2 = ElasticNetCV(l1_ratio=[.1,.5,1], cv=3) #3-fold 교차검증 (데이터셋을 랜덤하게 3개로 나눈 후 2개로 추정한 것을 3번한다)\n",
    "# 라쏘 후보 : 10%, 50%, 100% 라는 뜻 ,, 이거 정해지면 자동으로 l2도 정해짐(10% 면 l2는 90%)\n",
    "m2.fit(x,y)\n",
    "m2.coef_"
   ]
  },
  {
   "cell_type": "code",
   "execution_count": 36,
   "metadata": {},
   "outputs": [],
   "source": [
    "# 그래서 나온 결과 해석 : 계수가 다 작은 수가 나옴 (선형모형하고 비교해서)"
   ]
  },
  {
   "cell_type": "code",
   "execution_count": 38,
   "metadata": {},
   "outputs": [
    {
     "data": {
      "text/plain": [
       "0.1"
      ]
     },
     "execution_count": 38,
     "metadata": {},
     "output_type": "execute_result"
    }
   ],
   "source": [
    "m2.l1_ratio_ #unerbar를 붙이는 건 사이킷런의 관습 (코드를 돌리고 나온 결과)\n",
    "#l1_ratio가 0.1(10%)일때 일반화가 잘된다. (과적합이 제일 적게 된다)"
   ]
  },
  {
   "cell_type": "code",
   "execution_count": 39,
   "metadata": {},
   "outputs": [
    {
     "data": {
      "text/plain": [
       "0.008882602491363027"
      ]
     },
     "execution_count": 39,
     "metadata": {},
     "output_type": "execute_result"
    }
   ],
   "source": [
    "m2.alpha_ #람다에 해당하는 부분 : 계수에다가 0.008 곱할 때 일반화가 잘된다는 뜻 "
   ]
  },
  {
   "cell_type": "markdown",
   "metadata": {},
   "source": [
    "## 예측을 잘하고 싶으면 -> 계수를 엘라스틱넷+교차검증 해서 나온 계수로 하는 게 더 좋다. "
   ]
  },
  {
   "cell_type": "markdown",
   "metadata": {},
   "source": [
    "# 더미코딩"
   ]
  },
  {
   "cell_type": "code",
   "execution_count": 43,
   "metadata": {},
   "outputs": [],
   "source": [
    "hsb = pandas.read_csv('hsb2.csv') #미국 교육 데이터 "
   ]
  },
  {
   "cell_type": "code",
   "execution_count": 44,
   "metadata": {},
   "outputs": [
    {
     "data": {
      "text/html": [
       "<div>\n",
       "<style scoped>\n",
       "    .dataframe tbody tr th:only-of-type {\n",
       "        vertical-align: middle;\n",
       "    }\n",
       "\n",
       "    .dataframe tbody tr th {\n",
       "        vertical-align: top;\n",
       "    }\n",
       "\n",
       "    .dataframe thead th {\n",
       "        text-align: right;\n",
       "    }\n",
       "</style>\n",
       "<table border=\"1\" class=\"dataframe\">\n",
       "  <thead>\n",
       "    <tr style=\"text-align: right;\">\n",
       "      <th></th>\n",
       "      <th>id</th>\n",
       "      <th>female</th>\n",
       "      <th>race</th>\n",
       "      <th>ses</th>\n",
       "      <th>schtyp</th>\n",
       "      <th>prog</th>\n",
       "      <th>read</th>\n",
       "      <th>write</th>\n",
       "      <th>math</th>\n",
       "      <th>science</th>\n",
       "      <th>socst</th>\n",
       "    </tr>\n",
       "  </thead>\n",
       "  <tbody>\n",
       "    <tr>\n",
       "      <th>0</th>\n",
       "      <td>70</td>\n",
       "      <td>0</td>\n",
       "      <td>4</td>\n",
       "      <td>1</td>\n",
       "      <td>1</td>\n",
       "      <td>1</td>\n",
       "      <td>57</td>\n",
       "      <td>52</td>\n",
       "      <td>41</td>\n",
       "      <td>47</td>\n",
       "      <td>57</td>\n",
       "    </tr>\n",
       "    <tr>\n",
       "      <th>1</th>\n",
       "      <td>121</td>\n",
       "      <td>1</td>\n",
       "      <td>4</td>\n",
       "      <td>2</td>\n",
       "      <td>1</td>\n",
       "      <td>3</td>\n",
       "      <td>68</td>\n",
       "      <td>59</td>\n",
       "      <td>53</td>\n",
       "      <td>63</td>\n",
       "      <td>61</td>\n",
       "    </tr>\n",
       "    <tr>\n",
       "      <th>2</th>\n",
       "      <td>86</td>\n",
       "      <td>0</td>\n",
       "      <td>4</td>\n",
       "      <td>3</td>\n",
       "      <td>1</td>\n",
       "      <td>1</td>\n",
       "      <td>44</td>\n",
       "      <td>33</td>\n",
       "      <td>54</td>\n",
       "      <td>58</td>\n",
       "      <td>31</td>\n",
       "    </tr>\n",
       "    <tr>\n",
       "      <th>3</th>\n",
       "      <td>141</td>\n",
       "      <td>0</td>\n",
       "      <td>4</td>\n",
       "      <td>3</td>\n",
       "      <td>1</td>\n",
       "      <td>3</td>\n",
       "      <td>63</td>\n",
       "      <td>44</td>\n",
       "      <td>47</td>\n",
       "      <td>53</td>\n",
       "      <td>56</td>\n",
       "    </tr>\n",
       "    <tr>\n",
       "      <th>4</th>\n",
       "      <td>172</td>\n",
       "      <td>0</td>\n",
       "      <td>4</td>\n",
       "      <td>2</td>\n",
       "      <td>1</td>\n",
       "      <td>2</td>\n",
       "      <td>47</td>\n",
       "      <td>52</td>\n",
       "      <td>57</td>\n",
       "      <td>53</td>\n",
       "      <td>61</td>\n",
       "    </tr>\n",
       "  </tbody>\n",
       "</table>\n",
       "</div>"
      ],
      "text/plain": [
       "    id  female  race  ses  schtyp  prog  read  write  math  science  socst\n",
       "0   70       0     4    1       1     1    57     52    41       47     57\n",
       "1  121       1     4    2       1     3    68     59    53       63     61\n",
       "2   86       0     4    3       1     1    44     33    54       58     31\n",
       "3  141       0     4    3       1     3    63     44    47       53     56\n",
       "4  172       0     4    2       1     2    47     52    57       53     61"
      ]
     },
     "execution_count": 44,
     "metadata": {},
     "output_type": "execute_result"
    }
   ],
   "source": [
    "hsb.head() #ses : socio-economic status 사회경제적 수준\n",
    "# schty : 학교 타입 #prog : 어떤 프로그램 , 그 뒤 5개는 교과목 이름 (socst : 사회)"
   ]
  },
  {
   "cell_type": "code",
   "execution_count": 45,
   "metadata": {},
   "outputs": [],
   "source": [
    "# 남자가 기준 0 아니면 여성 1 \n",
    "# race는 인종 기준으로 그냥 번호 부여 - 회기 분석에 투입할 때 더미코딩해서 넣어야함 "
   ]
  },
  {
   "cell_type": "code",
   "execution_count": 46,
   "metadata": {},
   "outputs": [
    {
     "data": {
      "text/html": [
       "<table class=\"simpletable\">\n",
       "<caption>OLS Regression Results</caption>\n",
       "<tr>\n",
       "  <th>Dep. Variable:</th>          <td>read</td>       <th>  R-squared:         </th> <td>   0.084</td>\n",
       "</tr>\n",
       "<tr>\n",
       "  <th>Model:</th>                   <td>OLS</td>       <th>  Adj. R-squared:    </th> <td>   0.070</td>\n",
       "</tr>\n",
       "<tr>\n",
       "  <th>Method:</th>             <td>Least Squares</td>  <th>  F-statistic:       </th> <td>   5.964</td>\n",
       "</tr>\n",
       "<tr>\n",
       "  <th>Date:</th>             <td>Tue, 17 Sep 2019</td> <th>  Prob (F-statistic):</th> <td>0.000654</td>\n",
       "</tr>\n",
       "<tr>\n",
       "  <th>Time:</th>                 <td>14:41:43</td>     <th>  Log-Likelihood:    </th> <td> -740.06</td>\n",
       "</tr>\n",
       "<tr>\n",
       "  <th>No. Observations:</th>      <td>   200</td>      <th>  AIC:               </th> <td>   1488.</td>\n",
       "</tr>\n",
       "<tr>\n",
       "  <th>Df Residuals:</th>          <td>   196</td>      <th>  BIC:               </th> <td>   1501.</td>\n",
       "</tr>\n",
       "<tr>\n",
       "  <th>Df Model:</th>              <td>     3</td>      <th>                     </th>     <td> </td>   \n",
       "</tr>\n",
       "<tr>\n",
       "  <th>Covariance Type:</th>      <td>nonrobust</td>    <th>                     </th>     <td> </td>   \n",
       "</tr>\n",
       "</table>\n",
       "<table class=\"simpletable\">\n",
       "<tr>\n",
       "        <td></td>          <th>coef</th>     <th>std err</th>      <th>t</th>      <th>P>|t|</th>  <th>[0.025</th>    <th>0.975]</th>  \n",
       "</tr>\n",
       "<tr>\n",
       "  <th>Intercept</th>    <td>   46.6667</td> <td>    2.019</td> <td>   23.117</td> <td> 0.000</td> <td>   42.685</td> <td>   50.648</td>\n",
       "</tr>\n",
       "<tr>\n",
       "  <th>C(race)[T.2]</th> <td>    5.2424</td> <td>    3.601</td> <td>    1.456</td> <td> 0.147</td> <td>   -1.859</td> <td>   12.344</td>\n",
       "</tr>\n",
       "<tr>\n",
       "  <th>C(race)[T.3]</th> <td>    0.1333</td> <td>    2.994</td> <td>    0.045</td> <td> 0.965</td> <td>   -5.772</td> <td>    6.038</td>\n",
       "</tr>\n",
       "<tr>\n",
       "  <th>C(race)[T.4]</th> <td>    7.2575</td> <td>    2.179</td> <td>    3.330</td> <td> 0.001</td> <td>    2.959</td> <td>   11.556</td>\n",
       "</tr>\n",
       "</table>\n",
       "<table class=\"simpletable\">\n",
       "<tr>\n",
       "  <th>Omnibus:</th>       <td> 3.544</td> <th>  Durbin-Watson:     </th> <td>   1.966</td>\n",
       "</tr>\n",
       "<tr>\n",
       "  <th>Prob(Omnibus):</th> <td> 0.170</td> <th>  Jarque-Bera (JB):  </th> <td>   2.702</td>\n",
       "</tr>\n",
       "<tr>\n",
       "  <th>Skew:</th>          <td> 0.147</td> <th>  Prob(JB):          </th> <td>   0.259</td>\n",
       "</tr>\n",
       "<tr>\n",
       "  <th>Kurtosis:</th>      <td> 2.512</td> <th>  Cond. No.          </th> <td>    8.25</td>\n",
       "</tr>\n",
       "</table><br/><br/>Warnings:<br/>[1] Standard Errors assume that the covariance matrix of the errors is correctly specified."
      ],
      "text/plain": [
       "<class 'statsmodels.iolib.summary.Summary'>\n",
       "\"\"\"\n",
       "                            OLS Regression Results                            \n",
       "==============================================================================\n",
       "Dep. Variable:                   read   R-squared:                       0.084\n",
       "Model:                            OLS   Adj. R-squared:                  0.070\n",
       "Method:                 Least Squares   F-statistic:                     5.964\n",
       "Date:                Tue, 17 Sep 2019   Prob (F-statistic):           0.000654\n",
       "Time:                        14:41:43   Log-Likelihood:                -740.06\n",
       "No. Observations:                 200   AIC:                             1488.\n",
       "Df Residuals:                     196   BIC:                             1501.\n",
       "Df Model:                           3                                         \n",
       "Covariance Type:            nonrobust                                         \n",
       "================================================================================\n",
       "                   coef    std err          t      P>|t|      [0.025      0.975]\n",
       "--------------------------------------------------------------------------------\n",
       "Intercept       46.6667      2.019     23.117      0.000      42.685      50.648\n",
       "C(race)[T.2]     5.2424      3.601      1.456      0.147      -1.859      12.344\n",
       "C(race)[T.3]     0.1333      2.994      0.045      0.965      -5.772       6.038\n",
       "C(race)[T.4]     7.2575      2.179      3.330      0.001       2.959      11.556\n",
       "==============================================================================\n",
       "Omnibus:                        3.544   Durbin-Watson:                   1.966\n",
       "Prob(Omnibus):                  0.170   Jarque-Bera (JB):                2.702\n",
       "Skew:                           0.147   Prob(JB):                        0.259\n",
       "Kurtosis:                       2.512   Cond. No.                         8.25\n",
       "==============================================================================\n",
       "\n",
       "Warnings:\n",
       "[1] Standard Errors assume that the covariance matrix of the errors is correctly specified.\n",
       "\"\"\""
      ]
     },
     "execution_count": 46,
     "metadata": {},
     "output_type": "execute_result"
    }
   ],
   "source": [
    "ols('read ~C(race)', hsb).fit().summary()\n",
    "# 더미코딩 C() 넣어주면 됨 "
   ]
  },
  {
   "cell_type": "markdown",
   "metadata": {},
   "source": [
    "### 인종이 읽기 능력의 8.4% 영향을 미친다 \n",
    "### 더미 코딩이 되서 계수가 3개가 됨 (abc순으로 정렬해서 기존을 그냥 맨 앞에 있는 걸 잡음 - 따로 정할 수도 있음 \n",
    "- 1) 데이터 값을 바꾸는 방법 : 컬럼 지정해서 바꾸기\n",
    "- 2) 더미코딩을 수동으로 해주는 방법)\n",
    "### 계수를 보면 46.6 + 6.24*인종2 + 0.13*인종3 + 7.25*인종4 (계수 합) \n",
    "- -> 1번 기준이면 다른 계수 값은 다 0 이니까 그냥 46.4\n",
    "- -> 인종 2 : 46.6 + 5.24 --> 그치만 신뢰구간이 -+ 니까 차이가 난다고 할 수 없다\n",
    "- -> 인종 3 : 46.6 + 0.13 --> 그치만 신뢰구간이 -+ 니까 차이가 난다고 할 수 없다\n",
    "- -> 인종 4 : 46.6 +7.25 --> 신뢰구간이 ++ 니까 차이가 난다 (4번인종이 1번인종보다 읽기 능력이 좋다 - 계수가 + 니까)\n"
   ]
  },
  {
   "cell_type": "markdown",
   "metadata": {},
   "source": [
    "### 주의점! 전부 인종 1번하고만 비교하기 때문에 2번과 4번은 모름 (범위가 제한적)"
   ]
  },
  {
   "cell_type": "code",
   "execution_count": 52,
   "metadata": {},
   "outputs": [],
   "source": [
    "### 2) 더미코딩을 수동으로 해주는 방법 \n",
    "race = pandas.get_dummies(hsb['race'],prefix='race')\n",
    "# prefix : 변수명 앞에 race라고 붙여라"
   ]
  },
  {
   "cell_type": "code",
   "execution_count": 62,
   "metadata": {},
   "outputs": [],
   "source": [
    "new = pandas.concat([hsb, race], axis=1) #has와 dummy를 이어붙이 (concat)"
   ]
  },
  {
   "cell_type": "code",
   "execution_count": 63,
   "metadata": {},
   "outputs": [
    {
     "data": {
      "text/html": [
       "<table class=\"simpletable\">\n",
       "<caption>OLS Regression Results</caption>\n",
       "<tr>\n",
       "  <th>Dep. Variable:</th>          <td>read</td>       <th>  R-squared:         </th> <td>   0.084</td>\n",
       "</tr>\n",
       "<tr>\n",
       "  <th>Model:</th>                   <td>OLS</td>       <th>  Adj. R-squared:    </th> <td>   0.070</td>\n",
       "</tr>\n",
       "<tr>\n",
       "  <th>Method:</th>             <td>Least Squares</td>  <th>  F-statistic:       </th> <td>   5.964</td>\n",
       "</tr>\n",
       "<tr>\n",
       "  <th>Date:</th>             <td>Tue, 17 Sep 2019</td> <th>  Prob (F-statistic):</th> <td>0.000654</td>\n",
       "</tr>\n",
       "<tr>\n",
       "  <th>Time:</th>                 <td>14:56:50</td>     <th>  Log-Likelihood:    </th> <td> -740.06</td>\n",
       "</tr>\n",
       "<tr>\n",
       "  <th>No. Observations:</th>      <td>   200</td>      <th>  AIC:               </th> <td>   1488.</td>\n",
       "</tr>\n",
       "<tr>\n",
       "  <th>Df Residuals:</th>          <td>   196</td>      <th>  BIC:               </th> <td>   1501.</td>\n",
       "</tr>\n",
       "<tr>\n",
       "  <th>Df Model:</th>              <td>     3</td>      <th>                     </th>     <td> </td>   \n",
       "</tr>\n",
       "<tr>\n",
       "  <th>Covariance Type:</th>      <td>nonrobust</td>    <th>                     </th>     <td> </td>   \n",
       "</tr>\n",
       "</table>\n",
       "<table class=\"simpletable\">\n",
       "<tr>\n",
       "      <td></td>         <th>coef</th>     <th>std err</th>      <th>t</th>      <th>P>|t|</th>  <th>[0.025</th>    <th>0.975]</th>  \n",
       "</tr>\n",
       "<tr>\n",
       "  <th>Intercept</th> <td>   53.9241</td> <td>    0.821</td> <td>   65.658</td> <td> 0.000</td> <td>   52.304</td> <td>   55.544</td>\n",
       "</tr>\n",
       "<tr>\n",
       "  <th>race_1</th>    <td>   -7.2575</td> <td>    2.179</td> <td>   -3.330</td> <td> 0.001</td> <td>  -11.556</td> <td>   -2.959</td>\n",
       "</tr>\n",
       "<tr>\n",
       "  <th>race_2</th>    <td>   -2.0150</td> <td>    3.093</td> <td>   -0.652</td> <td> 0.515</td> <td>   -8.115</td> <td>    4.085</td>\n",
       "</tr>\n",
       "<tr>\n",
       "  <th>race_3</th>    <td>   -7.1241</td> <td>    2.359</td> <td>   -3.020</td> <td> 0.003</td> <td>  -11.776</td> <td>   -2.472</td>\n",
       "</tr>\n",
       "</table>\n",
       "<table class=\"simpletable\">\n",
       "<tr>\n",
       "  <th>Omnibus:</th>       <td> 3.544</td> <th>  Durbin-Watson:     </th> <td>   1.966</td>\n",
       "</tr>\n",
       "<tr>\n",
       "  <th>Prob(Omnibus):</th> <td> 0.170</td> <th>  Jarque-Bera (JB):  </th> <td>   2.702</td>\n",
       "</tr>\n",
       "<tr>\n",
       "  <th>Skew:</th>          <td> 0.147</td> <th>  Prob(JB):          </th> <td>   0.259</td>\n",
       "</tr>\n",
       "<tr>\n",
       "  <th>Kurtosis:</th>      <td> 2.512</td> <th>  Cond. No.          </th> <td>    4.56</td>\n",
       "</tr>\n",
       "</table><br/><br/>Warnings:<br/>[1] Standard Errors assume that the covariance matrix of the errors is correctly specified."
      ],
      "text/plain": [
       "<class 'statsmodels.iolib.summary.Summary'>\n",
       "\"\"\"\n",
       "                            OLS Regression Results                            \n",
       "==============================================================================\n",
       "Dep. Variable:                   read   R-squared:                       0.084\n",
       "Model:                            OLS   Adj. R-squared:                  0.070\n",
       "Method:                 Least Squares   F-statistic:                     5.964\n",
       "Date:                Tue, 17 Sep 2019   Prob (F-statistic):           0.000654\n",
       "Time:                        14:56:50   Log-Likelihood:                -740.06\n",
       "No. Observations:                 200   AIC:                             1488.\n",
       "Df Residuals:                     196   BIC:                             1501.\n",
       "Df Model:                           3                                         \n",
       "Covariance Type:            nonrobust                                         \n",
       "==============================================================================\n",
       "                 coef    std err          t      P>|t|      [0.025      0.975]\n",
       "------------------------------------------------------------------------------\n",
       "Intercept     53.9241      0.821     65.658      0.000      52.304      55.544\n",
       "race_1        -7.2575      2.179     -3.330      0.001     -11.556      -2.959\n",
       "race_2        -2.0150      3.093     -0.652      0.515      -8.115       4.085\n",
       "race_3        -7.1241      2.359     -3.020      0.003     -11.776      -2.472\n",
       "==============================================================================\n",
       "Omnibus:                        3.544   Durbin-Watson:                   1.966\n",
       "Prob(Omnibus):                  0.170   Jarque-Bera (JB):                2.702\n",
       "Skew:                           0.147   Prob(JB):                        0.259\n",
       "Kurtosis:                       2.512   Cond. No.                         4.56\n",
       "==============================================================================\n",
       "\n",
       "Warnings:\n",
       "[1] Standard Errors assume that the covariance matrix of the errors is correctly specified.\n",
       "\"\"\""
      ]
     },
     "execution_count": 63,
     "metadata": {},
     "output_type": "execute_result"
    }
   ],
   "source": [
    "ols('read ~ race_1 + race_2 + race_3', new).fit().summary()\n",
    "# 기준으로 잡고 싶은 부분을 빼고 해야함 (지금은 race_4로 기준을 잡음)\n",
    "# 지금 race_ 뒤에붙튼 1,2,3,4 는 숫자가 아니라 칼럼에 들어있던 값이다! 만약 백인, 황인, 흑인 이렇게 있었다면 \n",
    "# race_백인, race_황인, race_흑인 이랬을 것... "
   ]
  },
  {
   "cell_type": "code",
   "execution_count": 64,
   "metadata": {},
   "outputs": [
    {
     "data": {
      "text/html": [
       "<table class=\"simpletable\">\n",
       "<caption>OLS Regression Results</caption>\n",
       "<tr>\n",
       "  <th>Dep. Variable:</th>          <td>read</td>       <th>  R-squared:         </th> <td>   0.084</td>\n",
       "</tr>\n",
       "<tr>\n",
       "  <th>Model:</th>                   <td>OLS</td>       <th>  Adj. R-squared:    </th> <td>   0.070</td>\n",
       "</tr>\n",
       "<tr>\n",
       "  <th>Method:</th>             <td>Least Squares</td>  <th>  F-statistic:       </th> <td>   5.964</td>\n",
       "</tr>\n",
       "<tr>\n",
       "  <th>Date:</th>             <td>Tue, 17 Sep 2019</td> <th>  Prob (F-statistic):</th> <td>0.000654</td>\n",
       "</tr>\n",
       "<tr>\n",
       "  <th>Time:</th>                 <td>14:56:52</td>     <th>  Log-Likelihood:    </th> <td> -740.06</td>\n",
       "</tr>\n",
       "<tr>\n",
       "  <th>No. Observations:</th>      <td>   200</td>      <th>  AIC:               </th> <td>   1488.</td>\n",
       "</tr>\n",
       "<tr>\n",
       "  <th>Df Residuals:</th>          <td>   196</td>      <th>  BIC:               </th> <td>   1501.</td>\n",
       "</tr>\n",
       "<tr>\n",
       "  <th>Df Model:</th>              <td>     3</td>      <th>                     </th>     <td> </td>   \n",
       "</tr>\n",
       "<tr>\n",
       "  <th>Covariance Type:</th>      <td>nonrobust</td>    <th>                     </th>     <td> </td>   \n",
       "</tr>\n",
       "</table>\n",
       "<table class=\"simpletable\">\n",
       "<tr>\n",
       "      <td></td>         <th>coef</th>     <th>std err</th>      <th>t</th>      <th>P>|t|</th>  <th>[0.025</th>    <th>0.975]</th>  \n",
       "</tr>\n",
       "<tr>\n",
       "  <th>Intercept</th> <td>   46.6667</td> <td>    2.019</td> <td>   23.117</td> <td> 0.000</td> <td>   42.685</td> <td>   50.648</td>\n",
       "</tr>\n",
       "<tr>\n",
       "  <th>race_2</th>    <td>    5.2424</td> <td>    3.601</td> <td>    1.456</td> <td> 0.147</td> <td>   -1.859</td> <td>   12.344</td>\n",
       "</tr>\n",
       "<tr>\n",
       "  <th>race_3</th>    <td>    0.1333</td> <td>    2.994</td> <td>    0.045</td> <td> 0.965</td> <td>   -5.772</td> <td>    6.038</td>\n",
       "</tr>\n",
       "<tr>\n",
       "  <th>race_4</th>    <td>    7.2575</td> <td>    2.179</td> <td>    3.330</td> <td> 0.001</td> <td>    2.959</td> <td>   11.556</td>\n",
       "</tr>\n",
       "</table>\n",
       "<table class=\"simpletable\">\n",
       "<tr>\n",
       "  <th>Omnibus:</th>       <td> 3.544</td> <th>  Durbin-Watson:     </th> <td>   1.966</td>\n",
       "</tr>\n",
       "<tr>\n",
       "  <th>Prob(Omnibus):</th> <td> 0.170</td> <th>  Jarque-Bera (JB):  </th> <td>   2.702</td>\n",
       "</tr>\n",
       "<tr>\n",
       "  <th>Skew:</th>          <td> 0.147</td> <th>  Prob(JB):          </th> <td>   0.259</td>\n",
       "</tr>\n",
       "<tr>\n",
       "  <th>Kurtosis:</th>      <td> 2.512</td> <th>  Cond. No.          </th> <td>    8.25</td>\n",
       "</tr>\n",
       "</table><br/><br/>Warnings:<br/>[1] Standard Errors assume that the covariance matrix of the errors is correctly specified."
      ],
      "text/plain": [
       "<class 'statsmodels.iolib.summary.Summary'>\n",
       "\"\"\"\n",
       "                            OLS Regression Results                            \n",
       "==============================================================================\n",
       "Dep. Variable:                   read   R-squared:                       0.084\n",
       "Model:                            OLS   Adj. R-squared:                  0.070\n",
       "Method:                 Least Squares   F-statistic:                     5.964\n",
       "Date:                Tue, 17 Sep 2019   Prob (F-statistic):           0.000654\n",
       "Time:                        14:56:52   Log-Likelihood:                -740.06\n",
       "No. Observations:                 200   AIC:                             1488.\n",
       "Df Residuals:                     196   BIC:                             1501.\n",
       "Df Model:                           3                                         \n",
       "Covariance Type:            nonrobust                                         \n",
       "==============================================================================\n",
       "                 coef    std err          t      P>|t|      [0.025      0.975]\n",
       "------------------------------------------------------------------------------\n",
       "Intercept     46.6667      2.019     23.117      0.000      42.685      50.648\n",
       "race_2         5.2424      3.601      1.456      0.147      -1.859      12.344\n",
       "race_3         0.1333      2.994      0.045      0.965      -5.772       6.038\n",
       "race_4         7.2575      2.179      3.330      0.001       2.959      11.556\n",
       "==============================================================================\n",
       "Omnibus:                        3.544   Durbin-Watson:                   1.966\n",
       "Prob(Omnibus):                  0.170   Jarque-Bera (JB):                2.702\n",
       "Skew:                           0.147   Prob(JB):                        0.259\n",
       "Kurtosis:                       2.512   Cond. No.                         8.25\n",
       "==============================================================================\n",
       "\n",
       "Warnings:\n",
       "[1] Standard Errors assume that the covariance matrix of the errors is correctly specified.\n",
       "\"\"\""
      ]
     },
     "execution_count": 64,
     "metadata": {},
     "output_type": "execute_result"
    }
   ],
   "source": [
    "ols('read ~ race_2 + race_3 + race_4', new).fit().summary()\n",
    "# 기준으로 잡고 싶은 부분을 빼고 해야함 (지금은 race_1로 기준을 잡음)\n",
    "# 위에 자동으로 했던 부분하고 결과값이 같아야 함! "
   ]
  },
  {
   "cell_type": "code",
   "execution_count": 65,
   "metadata": {},
   "outputs": [],
   "source": [
    "# ols('read ~ race', hsb).fit().summary() \n",
    "# 이 식이 안되는 이유! 돌리면 나오긴 하는 데 해석이 이상함...\n",
    "# 인종이 2 증가할 때마다... 읽기 능력이 1 증가한다는 게 뭔 말이야? 라는 뜻이기 때문에! "
   ]
  },
  {
   "cell_type": "markdown",
   "metadata": {},
   "source": [
    "## 1) 더미코딩 데이터 값 바꾸는 방법 (칼럼 재설정)\n",
    "## .replace로 컬럼값 바꾸기"
   ]
  },
  {
   "cell_type": "code",
   "execution_count": 71,
   "metadata": {},
   "outputs": [],
   "source": [
    "hsb['race2'] = hsb['race'].replace({1:'흑', 2:'백', 3:'황', 4:'기타'})\n",
    "# 임의로 컬럼값을 바꾼 후 해보면 가나다 순이니까 '기타' 가 기준이 된다"
   ]
  },
  {
   "cell_type": "code",
   "execution_count": 73,
   "metadata": {},
   "outputs": [
    {
     "data": {
      "text/html": [
       "<table class=\"simpletable\">\n",
       "<caption>OLS Regression Results</caption>\n",
       "<tr>\n",
       "  <th>Dep. Variable:</th>          <td>read</td>       <th>  R-squared:         </th> <td>   0.084</td>\n",
       "</tr>\n",
       "<tr>\n",
       "  <th>Model:</th>                   <td>OLS</td>       <th>  Adj. R-squared:    </th> <td>   0.070</td>\n",
       "</tr>\n",
       "<tr>\n",
       "  <th>Method:</th>             <td>Least Squares</td>  <th>  F-statistic:       </th> <td>   5.964</td>\n",
       "</tr>\n",
       "<tr>\n",
       "  <th>Date:</th>             <td>Tue, 17 Sep 2019</td> <th>  Prob (F-statistic):</th> <td>0.000654</td>\n",
       "</tr>\n",
       "<tr>\n",
       "  <th>Time:</th>                 <td>15:08:40</td>     <th>  Log-Likelihood:    </th> <td> -740.06</td>\n",
       "</tr>\n",
       "<tr>\n",
       "  <th>No. Observations:</th>      <td>   200</td>      <th>  AIC:               </th> <td>   1488.</td>\n",
       "</tr>\n",
       "<tr>\n",
       "  <th>Df Residuals:</th>          <td>   196</td>      <th>  BIC:               </th> <td>   1501.</td>\n",
       "</tr>\n",
       "<tr>\n",
       "  <th>Df Model:</th>              <td>     3</td>      <th>                     </th>     <td> </td>   \n",
       "</tr>\n",
       "<tr>\n",
       "  <th>Covariance Type:</th>      <td>nonrobust</td>    <th>                     </th>     <td> </td>   \n",
       "</tr>\n",
       "</table>\n",
       "<table class=\"simpletable\">\n",
       "<tr>\n",
       "        <td></td>           <th>coef</th>     <th>std err</th>      <th>t</th>      <th>P>|t|</th>  <th>[0.025</th>    <th>0.975]</th>  \n",
       "</tr>\n",
       "<tr>\n",
       "  <th>Intercept</th>     <td>   53.9241</td> <td>    0.821</td> <td>   65.658</td> <td> 0.000</td> <td>   52.304</td> <td>   55.544</td>\n",
       "</tr>\n",
       "<tr>\n",
       "  <th>C(race2)[T.백]</th> <td>   -2.0150</td> <td>    3.093</td> <td>   -0.652</td> <td> 0.515</td> <td>   -8.115</td> <td>    4.085</td>\n",
       "</tr>\n",
       "<tr>\n",
       "  <th>C(race2)[T.황]</th> <td>   -7.1241</td> <td>    2.359</td> <td>   -3.020</td> <td> 0.003</td> <td>  -11.776</td> <td>   -2.472</td>\n",
       "</tr>\n",
       "<tr>\n",
       "  <th>C(race2)[T.흑]</th> <td>   -7.2575</td> <td>    2.179</td> <td>   -3.330</td> <td> 0.001</td> <td>  -11.556</td> <td>   -2.959</td>\n",
       "</tr>\n",
       "</table>\n",
       "<table class=\"simpletable\">\n",
       "<tr>\n",
       "  <th>Omnibus:</th>       <td> 3.544</td> <th>  Durbin-Watson:     </th> <td>   1.966</td>\n",
       "</tr>\n",
       "<tr>\n",
       "  <th>Prob(Omnibus):</th> <td> 0.170</td> <th>  Jarque-Bera (JB):  </th> <td>   2.702</td>\n",
       "</tr>\n",
       "<tr>\n",
       "  <th>Skew:</th>          <td> 0.147</td> <th>  Prob(JB):          </th> <td>   0.259</td>\n",
       "</tr>\n",
       "<tr>\n",
       "  <th>Kurtosis:</th>      <td> 2.512</td> <th>  Cond. No.          </th> <td>    4.56</td>\n",
       "</tr>\n",
       "</table><br/><br/>Warnings:<br/>[1] Standard Errors assume that the covariance matrix of the errors is correctly specified."
      ],
      "text/plain": [
       "<class 'statsmodels.iolib.summary.Summary'>\n",
       "\"\"\"\n",
       "                            OLS Regression Results                            \n",
       "==============================================================================\n",
       "Dep. Variable:                   read   R-squared:                       0.084\n",
       "Model:                            OLS   Adj. R-squared:                  0.070\n",
       "Method:                 Least Squares   F-statistic:                     5.964\n",
       "Date:                Tue, 17 Sep 2019   Prob (F-statistic):           0.000654\n",
       "Time:                        15:08:40   Log-Likelihood:                -740.06\n",
       "No. Observations:                 200   AIC:                             1488.\n",
       "Df Residuals:                     196   BIC:                             1501.\n",
       "Df Model:                           3                                         \n",
       "Covariance Type:            nonrobust                                         \n",
       "=================================================================================\n",
       "                    coef    std err          t      P>|t|      [0.025      0.975]\n",
       "---------------------------------------------------------------------------------\n",
       "Intercept        53.9241      0.821     65.658      0.000      52.304      55.544\n",
       "C(race2)[T.백]    -2.0150      3.093     -0.652      0.515      -8.115       4.085\n",
       "C(race2)[T.황]    -7.1241      2.359     -3.020      0.003     -11.776      -2.472\n",
       "C(race2)[T.흑]    -7.2575      2.179     -3.330      0.001     -11.556      -2.959\n",
       "==============================================================================\n",
       "Omnibus:                        3.544   Durbin-Watson:                   1.966\n",
       "Prob(Omnibus):                  0.170   Jarque-Bera (JB):                2.702\n",
       "Skew:                           0.147   Prob(JB):                        0.259\n",
       "Kurtosis:                       2.512   Cond. No.                         4.56\n",
       "==============================================================================\n",
       "\n",
       "Warnings:\n",
       "[1] Standard Errors assume that the covariance matrix of the errors is correctly specified.\n",
       "\"\"\""
      ]
     },
     "execution_count": 73,
     "metadata": {},
     "output_type": "execute_result"
    }
   ],
   "source": [
    "ols('read ~ C(race2)', hsb).fit().summary()"
   ]
  },
  {
   "cell_type": "code",
   "execution_count": null,
   "metadata": {},
   "outputs": [],
   "source": [
    "# 신뢰구간이 -- 면 비교했을 때 기타 계수보다 황과 흑의 읽기 능력이 더 낮다\n",
    "# 그렇지만 백은 신뢰구간이 +- 이기 때문에 기타 계수랑 차이가 없다 "
   ]
  },
  {
   "cell_type": "code",
   "execution_count": 75,
   "metadata": {},
   "outputs": [],
   "source": [
    "hsb['race3'] = hsb['race'].replace({1:'_흑', 2:'백', 3:'황', 4:'기타'})\n",
    "# 임의로 컬럼값을 바꾼 후 해보면 가나다 순인데 특수문자가 있으니까 '_흑' 가 기준이 된다"
   ]
  },
  {
   "cell_type": "code",
   "execution_count": 76,
   "metadata": {},
   "outputs": [
    {
     "data": {
      "text/html": [
       "<table class=\"simpletable\">\n",
       "<caption>OLS Regression Results</caption>\n",
       "<tr>\n",
       "  <th>Dep. Variable:</th>          <td>read</td>       <th>  R-squared:         </th> <td>   0.084</td>\n",
       "</tr>\n",
       "<tr>\n",
       "  <th>Model:</th>                   <td>OLS</td>       <th>  Adj. R-squared:    </th> <td>   0.070</td>\n",
       "</tr>\n",
       "<tr>\n",
       "  <th>Method:</th>             <td>Least Squares</td>  <th>  F-statistic:       </th> <td>   5.964</td>\n",
       "</tr>\n",
       "<tr>\n",
       "  <th>Date:</th>             <td>Tue, 17 Sep 2019</td> <th>  Prob (F-statistic):</th> <td>0.000654</td>\n",
       "</tr>\n",
       "<tr>\n",
       "  <th>Time:</th>                 <td>15:11:03</td>     <th>  Log-Likelihood:    </th> <td> -740.06</td>\n",
       "</tr>\n",
       "<tr>\n",
       "  <th>No. Observations:</th>      <td>   200</td>      <th>  AIC:               </th> <td>   1488.</td>\n",
       "</tr>\n",
       "<tr>\n",
       "  <th>Df Residuals:</th>          <td>   196</td>      <th>  BIC:               </th> <td>   1501.</td>\n",
       "</tr>\n",
       "<tr>\n",
       "  <th>Df Model:</th>              <td>     3</td>      <th>                     </th>     <td> </td>   \n",
       "</tr>\n",
       "<tr>\n",
       "  <th>Covariance Type:</th>      <td>nonrobust</td>    <th>                     </th>     <td> </td>   \n",
       "</tr>\n",
       "</table>\n",
       "<table class=\"simpletable\">\n",
       "<tr>\n",
       "         <td></td>           <th>coef</th>     <th>std err</th>      <th>t</th>      <th>P>|t|</th>  <th>[0.025</th>    <th>0.975]</th>  \n",
       "</tr>\n",
       "<tr>\n",
       "  <th>Intercept</th>      <td>   46.6667</td> <td>    2.019</td> <td>   23.117</td> <td> 0.000</td> <td>   42.685</td> <td>   50.648</td>\n",
       "</tr>\n",
       "<tr>\n",
       "  <th>C(race3)[T.기타]</th> <td>    7.2575</td> <td>    2.179</td> <td>    3.330</td> <td> 0.001</td> <td>    2.959</td> <td>   11.556</td>\n",
       "</tr>\n",
       "<tr>\n",
       "  <th>C(race3)[T.백]</th>  <td>    5.2424</td> <td>    3.601</td> <td>    1.456</td> <td> 0.147</td> <td>   -1.859</td> <td>   12.344</td>\n",
       "</tr>\n",
       "<tr>\n",
       "  <th>C(race3)[T.황]</th>  <td>    0.1333</td> <td>    2.994</td> <td>    0.045</td> <td> 0.965</td> <td>   -5.772</td> <td>    6.038</td>\n",
       "</tr>\n",
       "</table>\n",
       "<table class=\"simpletable\">\n",
       "<tr>\n",
       "  <th>Omnibus:</th>       <td> 3.544</td> <th>  Durbin-Watson:     </th> <td>   1.966</td>\n",
       "</tr>\n",
       "<tr>\n",
       "  <th>Prob(Omnibus):</th> <td> 0.170</td> <th>  Jarque-Bera (JB):  </th> <td>   2.702</td>\n",
       "</tr>\n",
       "<tr>\n",
       "  <th>Skew:</th>          <td> 0.147</td> <th>  Prob(JB):          </th> <td>   0.259</td>\n",
       "</tr>\n",
       "<tr>\n",
       "  <th>Kurtosis:</th>      <td> 2.512</td> <th>  Cond. No.          </th> <td>    8.25</td>\n",
       "</tr>\n",
       "</table><br/><br/>Warnings:<br/>[1] Standard Errors assume that the covariance matrix of the errors is correctly specified."
      ],
      "text/plain": [
       "<class 'statsmodels.iolib.summary.Summary'>\n",
       "\"\"\"\n",
       "                            OLS Regression Results                            \n",
       "==============================================================================\n",
       "Dep. Variable:                   read   R-squared:                       0.084\n",
       "Model:                            OLS   Adj. R-squared:                  0.070\n",
       "Method:                 Least Squares   F-statistic:                     5.964\n",
       "Date:                Tue, 17 Sep 2019   Prob (F-statistic):           0.000654\n",
       "Time:                        15:11:03   Log-Likelihood:                -740.06\n",
       "No. Observations:                 200   AIC:                             1488.\n",
       "Df Residuals:                     196   BIC:                             1501.\n",
       "Df Model:                           3                                         \n",
       "Covariance Type:            nonrobust                                         \n",
       "==================================================================================\n",
       "                     coef    std err          t      P>|t|      [0.025      0.975]\n",
       "----------------------------------------------------------------------------------\n",
       "Intercept         46.6667      2.019     23.117      0.000      42.685      50.648\n",
       "C(race3)[T.기타]     7.2575      2.179      3.330      0.001       2.959      11.556\n",
       "C(race3)[T.백]      5.2424      3.601      1.456      0.147      -1.859      12.344\n",
       "C(race3)[T.황]      0.1333      2.994      0.045      0.965      -5.772       6.038\n",
       "==============================================================================\n",
       "Omnibus:                        3.544   Durbin-Watson:                   1.966\n",
       "Prob(Omnibus):                  0.170   Jarque-Bera (JB):                2.702\n",
       "Skew:                           0.147   Prob(JB):                        0.259\n",
       "Kurtosis:                       2.512   Cond. No.                         8.25\n",
       "==============================================================================\n",
       "\n",
       "Warnings:\n",
       "[1] Standard Errors assume that the covariance matrix of the errors is correctly specified.\n",
       "\"\"\""
      ]
     },
     "execution_count": 76,
     "metadata": {},
     "output_type": "execute_result"
    }
   ],
   "source": [
    "ols('read ~ C(race3)', hsb).fit().summary()"
   ]
  },
  {
   "cell_type": "code",
   "execution_count": 77,
   "metadata": {},
   "outputs": [],
   "source": [
    "# 계수 해석 \n",
    "# 기타 46.6 + 7.25 -> 신뢰구간이 ++ 여서 기타가 흑보다 읽기 능력이 있단 뜻 \n",
    "# 백 46.6 + 5.24(더 높은 계수값이 나왔지만 다른 샘플에선 달라짐) -> 신뢰구간이 -+ 딱히 차이 없음 \n",
    "# 황 46.6 + 0.13(더 낮은 계수값이 나왔지만 다른 샘플에선 달라짐)  -> 신뢰구간이 -+ 딱히 차이 없음 "
   ]
  },
  {
   "cell_type": "markdown",
   "metadata": {},
   "source": [
    "# 상호작용"
   ]
  },
  {
   "cell_type": "code",
   "execution_count": 79,
   "metadata": {},
   "outputs": [
    {
     "data": {
      "text/html": [
       "<div>\n",
       "<style scoped>\n",
       "    .dataframe tbody tr th:only-of-type {\n",
       "        vertical-align: middle;\n",
       "    }\n",
       "\n",
       "    .dataframe tbody tr th {\n",
       "        vertical-align: top;\n",
       "    }\n",
       "\n",
       "    .dataframe thead th {\n",
       "        text-align: right;\n",
       "    }\n",
       "</style>\n",
       "<table border=\"1\" class=\"dataframe\">\n",
       "  <thead>\n",
       "    <tr style=\"text-align: right;\">\n",
       "      <th></th>\n",
       "      <th>id</th>\n",
       "      <th>female</th>\n",
       "      <th>race</th>\n",
       "      <th>ses</th>\n",
       "      <th>schtyp</th>\n",
       "      <th>prog</th>\n",
       "      <th>read</th>\n",
       "      <th>write</th>\n",
       "      <th>math</th>\n",
       "      <th>science</th>\n",
       "      <th>socst</th>\n",
       "      <th>race2</th>\n",
       "      <th>race3</th>\n",
       "    </tr>\n",
       "  </thead>\n",
       "  <tbody>\n",
       "    <tr>\n",
       "      <th>0</th>\n",
       "      <td>70</td>\n",
       "      <td>0</td>\n",
       "      <td>4</td>\n",
       "      <td>1</td>\n",
       "      <td>1</td>\n",
       "      <td>1</td>\n",
       "      <td>57</td>\n",
       "      <td>52</td>\n",
       "      <td>41</td>\n",
       "      <td>47</td>\n",
       "      <td>57</td>\n",
       "      <td>기타</td>\n",
       "      <td>기타</td>\n",
       "    </tr>\n",
       "    <tr>\n",
       "      <th>1</th>\n",
       "      <td>121</td>\n",
       "      <td>1</td>\n",
       "      <td>4</td>\n",
       "      <td>2</td>\n",
       "      <td>1</td>\n",
       "      <td>3</td>\n",
       "      <td>68</td>\n",
       "      <td>59</td>\n",
       "      <td>53</td>\n",
       "      <td>63</td>\n",
       "      <td>61</td>\n",
       "      <td>기타</td>\n",
       "      <td>기타</td>\n",
       "    </tr>\n",
       "    <tr>\n",
       "      <th>2</th>\n",
       "      <td>86</td>\n",
       "      <td>0</td>\n",
       "      <td>4</td>\n",
       "      <td>3</td>\n",
       "      <td>1</td>\n",
       "      <td>1</td>\n",
       "      <td>44</td>\n",
       "      <td>33</td>\n",
       "      <td>54</td>\n",
       "      <td>58</td>\n",
       "      <td>31</td>\n",
       "      <td>기타</td>\n",
       "      <td>기타</td>\n",
       "    </tr>\n",
       "    <tr>\n",
       "      <th>3</th>\n",
       "      <td>141</td>\n",
       "      <td>0</td>\n",
       "      <td>4</td>\n",
       "      <td>3</td>\n",
       "      <td>1</td>\n",
       "      <td>3</td>\n",
       "      <td>63</td>\n",
       "      <td>44</td>\n",
       "      <td>47</td>\n",
       "      <td>53</td>\n",
       "      <td>56</td>\n",
       "      <td>기타</td>\n",
       "      <td>기타</td>\n",
       "    </tr>\n",
       "    <tr>\n",
       "      <th>4</th>\n",
       "      <td>172</td>\n",
       "      <td>0</td>\n",
       "      <td>4</td>\n",
       "      <td>2</td>\n",
       "      <td>1</td>\n",
       "      <td>2</td>\n",
       "      <td>47</td>\n",
       "      <td>52</td>\n",
       "      <td>57</td>\n",
       "      <td>53</td>\n",
       "      <td>61</td>\n",
       "      <td>기타</td>\n",
       "      <td>기타</td>\n",
       "    </tr>\n",
       "  </tbody>\n",
       "</table>\n",
       "</div>"
      ],
      "text/plain": [
       "    id  female  race  ses  schtyp  prog  read  write  math  science  socst  \\\n",
       "0   70       0     4    1       1     1    57     52    41       47     57   \n",
       "1  121       1     4    2       1     3    68     59    53       63     61   \n",
       "2   86       0     4    3       1     1    44     33    54       58     31   \n",
       "3  141       0     4    3       1     3    63     44    47       53     56   \n",
       "4  172       0     4    2       1     2    47     52    57       53     61   \n",
       "\n",
       "  race2 race3  \n",
       "0    기타    기타  \n",
       "1    기타    기타  \n",
       "2    기타    기타  \n",
       "3    기타    기타  \n",
       "4    기타    기타  "
      ]
     },
     "execution_count": 79,
     "metadata": {},
     "output_type": "execute_result"
    }
   ],
   "source": [
    "hsb.head() #사회경제적 수준이 읽기에 영향을 줄까? "
   ]
  },
  {
   "cell_type": "code",
   "execution_count": 81,
   "metadata": {},
   "outputs": [
    {
     "data": {
      "text/html": [
       "<table class=\"simpletable\">\n",
       "<caption>OLS Regression Results</caption>\n",
       "<tr>\n",
       "  <th>Dep. Variable:</th>          <td>read</td>       <th>  R-squared:         </th> <td>   0.086</td>\n",
       "</tr>\n",
       "<tr>\n",
       "  <th>Model:</th>                   <td>OLS</td>       <th>  Adj. R-squared:    </th> <td>   0.081</td>\n",
       "</tr>\n",
       "<tr>\n",
       "  <th>Method:</th>             <td>Least Squares</td>  <th>  F-statistic:       </th> <td>   18.64</td>\n",
       "</tr>\n",
       "<tr>\n",
       "  <th>Date:</th>             <td>Tue, 17 Sep 2019</td> <th>  Prob (F-statistic):</th> <td>2.49e-05</td>\n",
       "</tr>\n",
       "<tr>\n",
       "  <th>Time:</th>                 <td>15:46:40</td>     <th>  Log-Likelihood:    </th> <td> -739.80</td>\n",
       "</tr>\n",
       "<tr>\n",
       "  <th>No. Observations:</th>      <td>   200</td>      <th>  AIC:               </th> <td>   1484.</td>\n",
       "</tr>\n",
       "<tr>\n",
       "  <th>Df Residuals:</th>          <td>   198</td>      <th>  BIC:               </th> <td>   1490.</td>\n",
       "</tr>\n",
       "<tr>\n",
       "  <th>Df Model:</th>              <td>     1</td>      <th>                     </th>     <td> </td>   \n",
       "</tr>\n",
       "<tr>\n",
       "  <th>Covariance Type:</th>      <td>nonrobust</td>    <th>                     </th>     <td> </td>   \n",
       "</tr>\n",
       "</table>\n",
       "<table class=\"simpletable\">\n",
       "<tr>\n",
       "      <td></td>         <th>coef</th>     <th>std err</th>      <th>t</th>      <th>P>|t|</th>  <th>[0.025</th>    <th>0.975]</th>  \n",
       "</tr>\n",
       "<tr>\n",
       "  <th>Intercept</th> <td>   43.6972</td> <td>    2.095</td> <td>   20.858</td> <td> 0.000</td> <td>   39.566</td> <td>   47.829</td>\n",
       "</tr>\n",
       "<tr>\n",
       "  <th>ses</th>       <td>    4.1522</td> <td>    0.962</td> <td>    4.317</td> <td> 0.000</td> <td>    2.256</td> <td>    6.049</td>\n",
       "</tr>\n",
       "</table>\n",
       "<table class=\"simpletable\">\n",
       "<tr>\n",
       "  <th>Omnibus:</th>       <td> 6.283</td> <th>  Durbin-Watson:     </th> <td>   1.816</td>\n",
       "</tr>\n",
       "<tr>\n",
       "  <th>Prob(Omnibus):</th> <td> 0.043</td> <th>  Jarque-Bera (JB):  </th> <td>   3.593</td>\n",
       "</tr>\n",
       "<tr>\n",
       "  <th>Skew:</th>          <td> 0.104</td> <th>  Prob(JB):          </th> <td>   0.166</td>\n",
       "</tr>\n",
       "<tr>\n",
       "  <th>Kurtosis:</th>      <td> 2.377</td> <th>  Cond. No.          </th> <td>    7.82</td>\n",
       "</tr>\n",
       "</table><br/><br/>Warnings:<br/>[1] Standard Errors assume that the covariance matrix of the errors is correctly specified."
      ],
      "text/plain": [
       "<class 'statsmodels.iolib.summary.Summary'>\n",
       "\"\"\"\n",
       "                            OLS Regression Results                            \n",
       "==============================================================================\n",
       "Dep. Variable:                   read   R-squared:                       0.086\n",
       "Model:                            OLS   Adj. R-squared:                  0.081\n",
       "Method:                 Least Squares   F-statistic:                     18.64\n",
       "Date:                Tue, 17 Sep 2019   Prob (F-statistic):           2.49e-05\n",
       "Time:                        15:46:40   Log-Likelihood:                -739.80\n",
       "No. Observations:                 200   AIC:                             1484.\n",
       "Df Residuals:                     198   BIC:                             1490.\n",
       "Df Model:                           1                                         \n",
       "Covariance Type:            nonrobust                                         \n",
       "==============================================================================\n",
       "                 coef    std err          t      P>|t|      [0.025      0.975]\n",
       "------------------------------------------------------------------------------\n",
       "Intercept     43.6972      2.095     20.858      0.000      39.566      47.829\n",
       "ses            4.1522      0.962      4.317      0.000       2.256       6.049\n",
       "==============================================================================\n",
       "Omnibus:                        6.283   Durbin-Watson:                   1.816\n",
       "Prob(Omnibus):                  0.043   Jarque-Bera (JB):                3.593\n",
       "Skew:                           0.104   Prob(JB):                        0.166\n",
       "Kurtosis:                       2.377   Cond. No.                         7.82\n",
       "==============================================================================\n",
       "\n",
       "Warnings:\n",
       "[1] Standard Errors assume that the covariance matrix of the errors is correctly specified.\n",
       "\"\"\""
      ]
     },
     "execution_count": 81,
     "metadata": {},
     "output_type": "execute_result"
    }
   ],
   "source": [
    "ols('read ~ ses', hsb).fit().summary()"
   ]
  },
  {
   "cell_type": "code",
   "execution_count": 82,
   "metadata": {},
   "outputs": [],
   "source": [
    "# 사회경제적 수준이 올라갈 수록 읽기 능력에 영향을 준다. "
   ]
  },
  {
   "cell_type": "code",
   "execution_count": 83,
   "metadata": {},
   "outputs": [],
   "source": [
    "hsb['schtyp2'] = hsb['schtyp'] - 1\n",
    "# schtpy이 1,2 인데 0,1 데이터가 더 쉬우니까 1 빼서 만들어줌 "
   ]
  },
  {
   "cell_type": "code",
   "execution_count": 85,
   "metadata": {},
   "outputs": [
    {
     "data": {
      "text/html": [
       "<table class=\"simpletable\">\n",
       "<caption>OLS Regression Results</caption>\n",
       "<tr>\n",
       "  <th>Dep. Variable:</th>          <td>read</td>       <th>  R-squared:         </th> <td>   0.088</td>\n",
       "</tr>\n",
       "<tr>\n",
       "  <th>Model:</th>                   <td>OLS</td>       <th>  Adj. R-squared:    </th> <td>   0.079</td>\n",
       "</tr>\n",
       "<tr>\n",
       "  <th>Method:</th>             <td>Least Squares</td>  <th>  F-statistic:       </th> <td>   9.529</td>\n",
       "</tr>\n",
       "<tr>\n",
       "  <th>Date:</th>             <td>Tue, 17 Sep 2019</td> <th>  Prob (F-statistic):</th> <td>0.000112</td>\n",
       "</tr>\n",
       "<tr>\n",
       "  <th>Time:</th>                 <td>15:48:29</td>     <th>  Log-Likelihood:    </th> <td> -739.57</td>\n",
       "</tr>\n",
       "<tr>\n",
       "  <th>No. Observations:</th>      <td>   200</td>      <th>  AIC:               </th> <td>   1485.</td>\n",
       "</tr>\n",
       "<tr>\n",
       "  <th>Df Residuals:</th>          <td>   197</td>      <th>  BIC:               </th> <td>   1495.</td>\n",
       "</tr>\n",
       "<tr>\n",
       "  <th>Df Model:</th>              <td>     2</td>      <th>                     </th>     <td> </td>   \n",
       "</tr>\n",
       "<tr>\n",
       "  <th>Covariance Type:</th>      <td>nonrobust</td>    <th>                     </th>     <td> </td>   \n",
       "</tr>\n",
       "</table>\n",
       "<table class=\"simpletable\">\n",
       "<tr>\n",
       "      <td></td>         <th>coef</th>     <th>std err</th>      <th>t</th>      <th>P>|t|</th>  <th>[0.025</th>    <th>0.975]</th>  \n",
       "</tr>\n",
       "<tr>\n",
       "  <th>Intercept</th> <td>   43.6743</td> <td>    2.098</td> <td>   20.816</td> <td> 0.000</td> <td>   39.537</td> <td>   47.812</td>\n",
       "</tr>\n",
       "<tr>\n",
       "  <th>ses</th>       <td>    4.0613</td> <td>    0.972</td> <td>    4.178</td> <td> 0.000</td> <td>    2.144</td> <td>    5.979</td>\n",
       "</tr>\n",
       "<tr>\n",
       "  <th>schtyp2</th>   <td>    1.3109</td> <td>    1.916</td> <td>    0.684</td> <td> 0.495</td> <td>   -2.467</td> <td>    5.089</td>\n",
       "</tr>\n",
       "</table>\n",
       "<table class=\"simpletable\">\n",
       "<tr>\n",
       "  <th>Omnibus:</th>       <td> 6.257</td> <th>  Durbin-Watson:     </th> <td>   1.804</td>\n",
       "</tr>\n",
       "<tr>\n",
       "  <th>Prob(Omnibus):</th> <td> 0.044</td> <th>  Jarque-Bera (JB):  </th> <td>   3.633</td>\n",
       "</tr>\n",
       "<tr>\n",
       "  <th>Skew:</th>          <td> 0.115</td> <th>  Prob(JB):          </th> <td>   0.163</td>\n",
       "</tr>\n",
       "<tr>\n",
       "  <th>Kurtosis:</th>      <td> 2.381</td> <th>  Cond. No.          </th> <td>    7.85</td>\n",
       "</tr>\n",
       "</table><br/><br/>Warnings:<br/>[1] Standard Errors assume that the covariance matrix of the errors is correctly specified."
      ],
      "text/plain": [
       "<class 'statsmodels.iolib.summary.Summary'>\n",
       "\"\"\"\n",
       "                            OLS Regression Results                            \n",
       "==============================================================================\n",
       "Dep. Variable:                   read   R-squared:                       0.088\n",
       "Model:                            OLS   Adj. R-squared:                  0.079\n",
       "Method:                 Least Squares   F-statistic:                     9.529\n",
       "Date:                Tue, 17 Sep 2019   Prob (F-statistic):           0.000112\n",
       "Time:                        15:48:29   Log-Likelihood:                -739.57\n",
       "No. Observations:                 200   AIC:                             1485.\n",
       "Df Residuals:                     197   BIC:                             1495.\n",
       "Df Model:                           2                                         \n",
       "Covariance Type:            nonrobust                                         \n",
       "==============================================================================\n",
       "                 coef    std err          t      P>|t|      [0.025      0.975]\n",
       "------------------------------------------------------------------------------\n",
       "Intercept     43.6743      2.098     20.816      0.000      39.537      47.812\n",
       "ses            4.0613      0.972      4.178      0.000       2.144       5.979\n",
       "schtyp2        1.3109      1.916      0.684      0.495      -2.467       5.089\n",
       "==============================================================================\n",
       "Omnibus:                        6.257   Durbin-Watson:                   1.804\n",
       "Prob(Omnibus):                  0.044   Jarque-Bera (JB):                3.633\n",
       "Skew:                           0.115   Prob(JB):                        0.163\n",
       "Kurtosis:                       2.381   Cond. No.                         7.85\n",
       "==============================================================================\n",
       "\n",
       "Warnings:\n",
       "[1] Standard Errors assume that the covariance matrix of the errors is correctly specified.\n",
       "\"\"\""
      ]
     },
     "execution_count": 85,
     "metadata": {},
     "output_type": "execute_result"
    }
   ],
   "source": [
    "ols('read ~ ses + schtyp2', hsb).fit().summary()"
   ]
  },
  {
   "cell_type": "code",
   "execution_count": 86,
   "metadata": {},
   "outputs": [],
   "source": [
    "# 사회경제적 수준은 여전히 읽기 능력에 영향을 미치지만 스쿨타입은 신뢰구간이 -+ 니까 영향이 없다\n",
    "# 사립이냐 공립이냐는 그닥 영향이 없다는 뜻 \n",
    "# 그럼 상호작용을 어떻게 넣을까? "
   ]
  },
  {
   "cell_type": "code",
   "execution_count": 88,
   "metadata": {},
   "outputs": [
    {
     "data": {
      "text/html": [
       "<table class=\"simpletable\">\n",
       "<caption>OLS Regression Results</caption>\n",
       "<tr>\n",
       "  <th>Dep. Variable:</th>          <td>read</td>       <th>  R-squared:         </th> <td>   0.087</td>\n",
       "</tr>\n",
       "<tr>\n",
       "  <th>Model:</th>                   <td>OLS</td>       <th>  Adj. R-squared:    </th> <td>   0.078</td>\n",
       "</tr>\n",
       "<tr>\n",
       "  <th>Method:</th>             <td>Least Squares</td>  <th>  F-statistic:       </th> <td>   9.376</td>\n",
       "</tr>\n",
       "<tr>\n",
       "  <th>Date:</th>             <td>Tue, 17 Sep 2019</td> <th>  Prob (F-statistic):</th> <td>0.000129</td>\n",
       "</tr>\n",
       "<tr>\n",
       "  <th>Time:</th>                 <td>15:50:06</td>     <th>  Log-Likelihood:    </th> <td> -739.71</td>\n",
       "</tr>\n",
       "<tr>\n",
       "  <th>No. Observations:</th>      <td>   200</td>      <th>  AIC:               </th> <td>   1485.</td>\n",
       "</tr>\n",
       "<tr>\n",
       "  <th>Df Residuals:</th>          <td>   197</td>      <th>  BIC:               </th> <td>   1495.</td>\n",
       "</tr>\n",
       "<tr>\n",
       "  <th>Df Model:</th>              <td>     2</td>      <th>                     </th>     <td> </td>   \n",
       "</tr>\n",
       "<tr>\n",
       "  <th>Covariance Type:</th>      <td>nonrobust</td>    <th>                     </th>     <td> </td>   \n",
       "</tr>\n",
       "</table>\n",
       "<table class=\"simpletable\">\n",
       "<tr>\n",
       "       <td></td>          <th>coef</th>     <th>std err</th>      <th>t</th>      <th>P>|t|</th>  <th>[0.025</th>    <th>0.975]</th>  \n",
       "</tr>\n",
       "<tr>\n",
       "  <th>Intercept</th>   <td>   43.7565</td> <td>    2.104</td> <td>   20.799</td> <td> 0.000</td> <td>   39.608</td> <td>   47.905</td>\n",
       "</tr>\n",
       "<tr>\n",
       "  <th>ses</th>         <td>    4.0600</td> <td>    0.987</td> <td>    4.114</td> <td> 0.000</td> <td>    2.114</td> <td>    6.006</td>\n",
       "</tr>\n",
       "<tr>\n",
       "  <th>ses:schtyp2</th> <td>    0.3568</td> <td>    0.822</td> <td>    0.434</td> <td> 0.665</td> <td>   -1.265</td> <td>    1.979</td>\n",
       "</tr>\n",
       "</table>\n",
       "<table class=\"simpletable\">\n",
       "<tr>\n",
       "  <th>Omnibus:</th>       <td> 6.259</td> <th>  Durbin-Watson:     </th> <td>   1.810</td>\n",
       "</tr>\n",
       "<tr>\n",
       "  <th>Prob(Omnibus):</th> <td> 0.044</td> <th>  Jarque-Bera (JB):  </th> <td>   3.603</td>\n",
       "</tr>\n",
       "<tr>\n",
       "  <th>Skew:</th>          <td> 0.108</td> <th>  Prob(JB):          </th> <td>   0.165</td>\n",
       "</tr>\n",
       "<tr>\n",
       "  <th>Kurtosis:</th>      <td> 2.379</td> <th>  Cond. No.          </th> <td>    7.99</td>\n",
       "</tr>\n",
       "</table><br/><br/>Warnings:<br/>[1] Standard Errors assume that the covariance matrix of the errors is correctly specified."
      ],
      "text/plain": [
       "<class 'statsmodels.iolib.summary.Summary'>\n",
       "\"\"\"\n",
       "                            OLS Regression Results                            \n",
       "==============================================================================\n",
       "Dep. Variable:                   read   R-squared:                       0.087\n",
       "Model:                            OLS   Adj. R-squared:                  0.078\n",
       "Method:                 Least Squares   F-statistic:                     9.376\n",
       "Date:                Tue, 17 Sep 2019   Prob (F-statistic):           0.000129\n",
       "Time:                        15:50:06   Log-Likelihood:                -739.71\n",
       "No. Observations:                 200   AIC:                             1485.\n",
       "Df Residuals:                     197   BIC:                             1495.\n",
       "Df Model:                           2                                         \n",
       "Covariance Type:            nonrobust                                         \n",
       "===============================================================================\n",
       "                  coef    std err          t      P>|t|      [0.025      0.975]\n",
       "-------------------------------------------------------------------------------\n",
       "Intercept      43.7565      2.104     20.799      0.000      39.608      47.905\n",
       "ses             4.0600      0.987      4.114      0.000       2.114       6.006\n",
       "ses:schtyp2     0.3568      0.822      0.434      0.665      -1.265       1.979\n",
       "==============================================================================\n",
       "Omnibus:                        6.259   Durbin-Watson:                   1.810\n",
       "Prob(Omnibus):                  0.044   Jarque-Bera (JB):                3.603\n",
       "Skew:                           0.108   Prob(JB):                        0.165\n",
       "Kurtosis:                       2.379   Cond. No.                         7.99\n",
       "==============================================================================\n",
       "\n",
       "Warnings:\n",
       "[1] Standard Errors assume that the covariance matrix of the errors is correctly specified.\n",
       "\"\"\""
      ]
     },
     "execution_count": 88,
     "metadata": {},
     "output_type": "execute_result"
    }
   ],
   "source": [
    "ols('read ~ ses + ses:schtyp2', hsb).fit().summary()\n",
    "# ses:schtyp2 -> 상호작용 (실제로는 곱하기 한 부분)"
   ]
  },
  {
   "cell_type": "code",
   "execution_count": 89,
   "metadata": {},
   "outputs": [],
   "source": [
    "# read = (4.06 + 0.35*학교) * ses -> 학교 타입 0(공립): 4.06*ses 고, 학교 타입 1(사립) 이면 4.41*ses 라는 뜻\n",
    "# -> 학교 타입 0이 기울기가 더 완만하고, 학교 타입1이 기울기가 더 있다 (사립학교가 ses->성적에 미치는 영향이 더 크다) 라는 해석 \n",
    "# 그러나!\n",
    "# 사회경제적 수준과 상호작용한 스쿨타입은 신뢰구간이 -+ 니까 결국에는 영향이 없다\n",
    "# = 학교에 따라서 ses -> 성적에 미치는 영향(돈있는 집이 더 공부를 잘한다)은 조절할 수 없다. "
   ]
  },
  {
   "cell_type": "code",
   "execution_count": 90,
   "metadata": {},
   "outputs": [],
   "source": [
    "# ses -> read 영향을 미치는 데, \n",
    "# 학교가 -> 사이에 들어가서 영향을 미칠까를 본거! -> 근데 영향이 없다는 결과가 나옴 "
   ]
  },
  {
   "cell_type": "code",
   "execution_count": 91,
   "metadata": {},
   "outputs": [],
   "source": [
    "# 또다른 예시 \n",
    "        #권한\n",
    "        # |\n",
    "        # ∨\n",
    "# 업무량 ------- > 직무탈진  상호작용항 : 권한  (영향이 있다는 결과가 나왔음)\n",
    "# (노트필기 참고)"
   ]
  },
  {
   "cell_type": "markdown",
   "metadata": {},
   "source": [
    "### 그러면 ols('read ~ ses + chtyp2', hsb).fit().summary() -> 이거는 ses와 shtyp2가 read에 미치는 상관관계를 보는 거고\n",
    "### ols('read ~ ses + ses:schtyp2', hsb).fit().summary() -> 이거는 ses가 read에 상관관계를 보이는 데 그게 학교에 따라서 영향을 받냐"
   ]
  },
  {
   "cell_type": "code",
   "execution_count": 93,
   "metadata": {},
   "outputs": [
    {
     "data": {
      "text/html": [
       "<table class=\"simpletable\">\n",
       "<caption>OLS Regression Results</caption>\n",
       "<tr>\n",
       "  <th>Dep. Variable:</th>          <td>write</td>      <th>  R-squared:         </th> <td>   0.116</td>\n",
       "</tr>\n",
       "<tr>\n",
       "  <th>Model:</th>                   <td>OLS</td>       <th>  Adj. R-squared:    </th> <td>   0.107</td>\n",
       "</tr>\n",
       "<tr>\n",
       "  <th>Method:</th>             <td>Least Squares</td>  <th>  F-statistic:       </th> <td>   12.90</td>\n",
       "</tr>\n",
       "<tr>\n",
       "  <th>Date:</th>             <td>Tue, 17 Sep 2019</td> <th>  Prob (F-statistic):</th> <td>5.42e-06</td>\n",
       "</tr>\n",
       "<tr>\n",
       "  <th>Time:</th>                 <td>16:08:54</td>     <th>  Log-Likelihood:    </th> <td> -720.78</td>\n",
       "</tr>\n",
       "<tr>\n",
       "  <th>No. Observations:</th>      <td>   200</td>      <th>  AIC:               </th> <td>   1448.</td>\n",
       "</tr>\n",
       "<tr>\n",
       "  <th>Df Residuals:</th>          <td>   197</td>      <th>  BIC:               </th> <td>   1457.</td>\n",
       "</tr>\n",
       "<tr>\n",
       "  <th>Df Model:</th>              <td>     2</td>      <th>                     </th>     <td> </td>   \n",
       "</tr>\n",
       "<tr>\n",
       "  <th>Covariance Type:</th>      <td>nonrobust</td>    <th>                     </th>     <td> </td>   \n",
       "</tr>\n",
       "</table>\n",
       "<table class=\"simpletable\">\n",
       "<tr>\n",
       "       <td></td>         <th>coef</th>     <th>std err</th>      <th>t</th>      <th>P>|t|</th>  <th>[0.025</th>    <th>0.975]</th>  \n",
       "</tr>\n",
       "<tr>\n",
       "  <th>Intercept</th>  <td>   46.6663</td> <td>    1.914</td> <td>   24.378</td> <td> 0.000</td> <td>   42.891</td> <td>   50.441</td>\n",
       "</tr>\n",
       "<tr>\n",
       "  <th>ses</th>        <td>    1.7444</td> <td>    0.909</td> <td>    1.918</td> <td> 0.057</td> <td>   -0.049</td> <td>    3.538</td>\n",
       "</tr>\n",
       "<tr>\n",
       "  <th>female:ses</th> <td>    2.3479</td> <td>    0.583</td> <td>    4.027</td> <td> 0.000</td> <td>    1.198</td> <td>    3.498</td>\n",
       "</tr>\n",
       "</table>\n",
       "<table class=\"simpletable\">\n",
       "<tr>\n",
       "  <th>Omnibus:</th>       <td>11.857</td> <th>  Durbin-Watson:     </th> <td>   1.792</td>\n",
       "</tr>\n",
       "<tr>\n",
       "  <th>Prob(Omnibus):</th> <td> 0.003</td> <th>  Jarque-Bera (JB):  </th> <td>   7.477</td>\n",
       "</tr>\n",
       "<tr>\n",
       "  <th>Skew:</th>          <td>-0.324</td> <th>  Prob(JB):          </th> <td>  0.0238</td>\n",
       "</tr>\n",
       "<tr>\n",
       "  <th>Kurtosis:</th>      <td> 2.309</td> <th>  Cond. No.          </th> <td>    8.80</td>\n",
       "</tr>\n",
       "</table><br/><br/>Warnings:<br/>[1] Standard Errors assume that the covariance matrix of the errors is correctly specified."
      ],
      "text/plain": [
       "<class 'statsmodels.iolib.summary.Summary'>\n",
       "\"\"\"\n",
       "                            OLS Regression Results                            \n",
       "==============================================================================\n",
       "Dep. Variable:                  write   R-squared:                       0.116\n",
       "Model:                            OLS   Adj. R-squared:                  0.107\n",
       "Method:                 Least Squares   F-statistic:                     12.90\n",
       "Date:                Tue, 17 Sep 2019   Prob (F-statistic):           5.42e-06\n",
       "Time:                        16:08:54   Log-Likelihood:                -720.78\n",
       "No. Observations:                 200   AIC:                             1448.\n",
       "Df Residuals:                     197   BIC:                             1457.\n",
       "Df Model:                           2                                         \n",
       "Covariance Type:            nonrobust                                         \n",
       "==============================================================================\n",
       "                 coef    std err          t      P>|t|      [0.025      0.975]\n",
       "------------------------------------------------------------------------------\n",
       "Intercept     46.6663      1.914     24.378      0.000      42.891      50.441\n",
       "ses            1.7444      0.909      1.918      0.057      -0.049       3.538\n",
       "female:ses     2.3479      0.583      4.027      0.000       1.198       3.498\n",
       "==============================================================================\n",
       "Omnibus:                       11.857   Durbin-Watson:                   1.792\n",
       "Prob(Omnibus):                  0.003   Jarque-Bera (JB):                7.477\n",
       "Skew:                          -0.324   Prob(JB):                       0.0238\n",
       "Kurtosis:                       2.309   Cond. No.                         8.80\n",
       "==============================================================================\n",
       "\n",
       "Warnings:\n",
       "[1] Standard Errors assume that the covariance matrix of the errors is correctly specified.\n",
       "\"\"\""
      ]
     },
     "execution_count": 93,
     "metadata": {},
     "output_type": "execute_result"
    }
   ],
   "source": [
    "# 또다른 예시 : ses를 성별로 - write에 영향\n",
    "ols('write ~ ses + female:ses', hsb).fit().summary()"
   ]
  },
  {
   "cell_type": "code",
   "execution_count": 94,
   "metadata": {},
   "outputs": [],
   "source": [
    "# write = ses + ses:female\n",
    "# write = (1.7+2.3female)ses\n",
    "# -> 남자는 0 여자는 1 : write = (1.7)ses -> 남자는 1올라갈 때 1.7 쓰기 능력이 오름\n",
    "# -> 여자 1 : write = (4.0)ses -> 여자는 1올라갈 때 4.0 쓰기 능력이 오름 "
   ]
  },
  {
   "cell_type": "code",
   "execution_count": 97,
   "metadata": {},
   "outputs": [
    {
     "data": {
      "text/html": [
       "<table class=\"simpletable\">\n",
       "<caption>OLS Regression Results</caption>\n",
       "<tr>\n",
       "  <th>Dep. Variable:</th>          <td>write</td>      <th>  R-squared:         </th> <td>   0.124</td>\n",
       "</tr>\n",
       "<tr>\n",
       "  <th>Model:</th>                   <td>OLS</td>       <th>  Adj. R-squared:    </th> <td>   0.111</td>\n",
       "</tr>\n",
       "<tr>\n",
       "  <th>Method:</th>             <td>Least Squares</td>  <th>  F-statistic:       </th> <td>   9.256</td>\n",
       "</tr>\n",
       "<tr>\n",
       "  <th>Date:</th>             <td>Tue, 17 Sep 2019</td> <th>  Prob (F-statistic):</th> <td>9.38e-06</td>\n",
       "</tr>\n",
       "<tr>\n",
       "  <th>Time:</th>                 <td>16:17:21</td>     <th>  Log-Likelihood:    </th> <td> -719.84</td>\n",
       "</tr>\n",
       "<tr>\n",
       "  <th>No. Observations:</th>      <td>   200</td>      <th>  AIC:               </th> <td>   1448.</td>\n",
       "</tr>\n",
       "<tr>\n",
       "  <th>Df Residuals:</th>          <td>   196</td>      <th>  BIC:               </th> <td>   1461.</td>\n",
       "</tr>\n",
       "<tr>\n",
       "  <th>Df Model:</th>              <td>     3</td>      <th>                     </th>     <td> </td>   \n",
       "</tr>\n",
       "<tr>\n",
       "  <th>Covariance Type:</th>      <td>nonrobust</td>    <th>                     </th>     <td> </td>   \n",
       "</tr>\n",
       "</table>\n",
       "<table class=\"simpletable\">\n",
       "<tr>\n",
       "       <td></td>         <th>coef</th>     <th>std err</th>      <th>t</th>      <th>P>|t|</th>  <th>[0.025</th>    <th>0.975]</th>  \n",
       "</tr>\n",
       "<tr>\n",
       "  <th>Intercept</th>  <td>   43.3109</td> <td>    3.120</td> <td>   13.881</td> <td> 0.000</td> <td>   37.157</td> <td>   49.464</td>\n",
       "</tr>\n",
       "<tr>\n",
       "  <th>ses</th>        <td>    3.1618</td> <td>    1.382</td> <td>    2.288</td> <td> 0.023</td> <td>    0.437</td> <td>    5.887</td>\n",
       "</tr>\n",
       "<tr>\n",
       "  <th>female:ses</th> <td>    0.0388</td> <td>    1.795</td> <td>    0.022</td> <td> 0.983</td> <td>   -3.501</td> <td>    3.578</td>\n",
       "</tr>\n",
       "<tr>\n",
       "  <th>female</th>     <td>    5.3668</td> <td>    3.946</td> <td>    1.360</td> <td> 0.175</td> <td>   -2.415</td> <td>   13.149</td>\n",
       "</tr>\n",
       "</table>\n",
       "<table class=\"simpletable\">\n",
       "<tr>\n",
       "  <th>Omnibus:</th>       <td>11.529</td> <th>  Durbin-Watson:     </th> <td>   1.789</td>\n",
       "</tr>\n",
       "<tr>\n",
       "  <th>Prob(Omnibus):</th> <td> 0.003</td> <th>  Jarque-Bera (JB):  </th> <td>   7.780</td>\n",
       "</tr>\n",
       "<tr>\n",
       "  <th>Skew:</th>          <td>-0.349</td> <th>  Prob(JB):          </th> <td>  0.0205</td>\n",
       "</tr>\n",
       "<tr>\n",
       "  <th>Kurtosis:</th>      <td> 2.332</td> <th>  Cond. No.          </th> <td>    22.5</td>\n",
       "</tr>\n",
       "</table><br/><br/>Warnings:<br/>[1] Standard Errors assume that the covariance matrix of the errors is correctly specified."
      ],
      "text/plain": [
       "<class 'statsmodels.iolib.summary.Summary'>\n",
       "\"\"\"\n",
       "                            OLS Regression Results                            \n",
       "==============================================================================\n",
       "Dep. Variable:                  write   R-squared:                       0.124\n",
       "Model:                            OLS   Adj. R-squared:                  0.111\n",
       "Method:                 Least Squares   F-statistic:                     9.256\n",
       "Date:                Tue, 17 Sep 2019   Prob (F-statistic):           9.38e-06\n",
       "Time:                        16:17:21   Log-Likelihood:                -719.84\n",
       "No. Observations:                 200   AIC:                             1448.\n",
       "Df Residuals:                     196   BIC:                             1461.\n",
       "Df Model:                           3                                         \n",
       "Covariance Type:            nonrobust                                         \n",
       "==============================================================================\n",
       "                 coef    std err          t      P>|t|      [0.025      0.975]\n",
       "------------------------------------------------------------------------------\n",
       "Intercept     43.3109      3.120     13.881      0.000      37.157      49.464\n",
       "ses            3.1618      1.382      2.288      0.023       0.437       5.887\n",
       "female:ses     0.0388      1.795      0.022      0.983      -3.501       3.578\n",
       "female         5.3668      3.946      1.360      0.175      -2.415      13.149\n",
       "==============================================================================\n",
       "Omnibus:                       11.529   Durbin-Watson:                   1.789\n",
       "Prob(Omnibus):                  0.003   Jarque-Bera (JB):                7.780\n",
       "Skew:                          -0.349   Prob(JB):                       0.0205\n",
       "Kurtosis:                       2.332   Cond. No.                         22.5\n",
       "==============================================================================\n",
       "\n",
       "Warnings:\n",
       "[1] Standard Errors assume that the covariance matrix of the errors is correctly specified.\n",
       "\"\"\""
      ]
     },
     "execution_count": 97,
     "metadata": {},
     "output_type": "execute_result"
    }
   ],
   "source": [
    "ols('write ~ ses + female:ses + female', hsb).fit().summary()"
   ]
  },
  {
   "cell_type": "code",
   "execution_count": 98,
   "metadata": {},
   "outputs": [],
   "source": [
    "# 상호관계뿐만 아니라 상관관계까지 넣어서 본다면? \n",
    "# write = ses + ses:female + female\n",
    "# write = 3.16ses +0.03ses:female + 5.36female\n",
    "# -> 남자는 0 여자는 1 : -> 남자는 1올라갈 때 3.16 쓰기 능력이 오름\n",
    "# -> 여자 1 :  -> 여자는 1올라갈 때 3.19 쓰기 능력이 오름 \n",
    "# 그러나!\n",
    "# 신뢰구간이 +- 기 때문에 의미가 없다. "
   ]
  },
  {
   "cell_type": "code",
   "execution_count": 100,
   "metadata": {},
   "outputs": [
    {
     "data": {
      "text/html": [
       "<table class=\"simpletable\">\n",
       "<caption>OLS Regression Results</caption>\n",
       "<tr>\n",
       "  <th>Dep. Variable:</th>          <td>write</td>      <th>  R-squared:         </th> <td>   0.429</td>\n",
       "</tr>\n",
       "<tr>\n",
       "  <th>Model:</th>                   <td>OLS</td>       <th>  Adj. R-squared:    </th> <td>   0.423</td>\n",
       "</tr>\n",
       "<tr>\n",
       "  <th>Method:</th>             <td>Least Squares</td>  <th>  F-statistic:       </th> <td>   73.90</td>\n",
       "</tr>\n",
       "<tr>\n",
       "  <th>Date:</th>             <td>Tue, 17 Sep 2019</td> <th>  Prob (F-statistic):</th> <td>1.13e-24</td>\n",
       "</tr>\n",
       "<tr>\n",
       "  <th>Time:</th>                 <td>16:24:30</td>     <th>  Log-Likelihood:    </th> <td> -677.12</td>\n",
       "</tr>\n",
       "<tr>\n",
       "  <th>No. Observations:</th>      <td>   200</td>      <th>  AIC:               </th> <td>   1360.</td>\n",
       "</tr>\n",
       "<tr>\n",
       "  <th>Df Residuals:</th>          <td>   197</td>      <th>  BIC:               </th> <td>   1370.</td>\n",
       "</tr>\n",
       "<tr>\n",
       "  <th>Df Model:</th>              <td>     2</td>      <th>                     </th>     <td> </td>   \n",
       "</tr>\n",
       "<tr>\n",
       "  <th>Covariance Type:</th>      <td>nonrobust</td>    <th>                     </th>     <td> </td>   \n",
       "</tr>\n",
       "</table>\n",
       "<table class=\"simpletable\">\n",
       "<tr>\n",
       "       <td></td>          <th>coef</th>     <th>std err</th>      <th>t</th>      <th>P>|t|</th>  <th>[0.025</th>    <th>0.975]</th>  \n",
       "</tr>\n",
       "<tr>\n",
       "  <th>Intercept</th>   <td>   23.2004</td> <td>    2.654</td> <td>    8.741</td> <td> 0.000</td> <td>   17.966</td> <td>   28.434</td>\n",
       "</tr>\n",
       "<tr>\n",
       "  <th>read</th>        <td>    0.5144</td> <td>    0.050</td> <td>   10.218</td> <td> 0.000</td> <td>    0.415</td> <td>    0.614</td>\n",
       "</tr>\n",
       "<tr>\n",
       "  <th>female:read</th> <td>    0.0961</td> <td>    0.019</td> <td>    5.000</td> <td> 0.000</td> <td>    0.058</td> <td>    0.134</td>\n",
       "</tr>\n",
       "</table>\n",
       "<table class=\"simpletable\">\n",
       "<tr>\n",
       "  <th>Omnibus:</th>       <td> 7.827</td> <th>  Durbin-Watson:     </th> <td>   1.974</td>\n",
       "</tr>\n",
       "<tr>\n",
       "  <th>Prob(Omnibus):</th> <td> 0.020</td> <th>  Jarque-Bera (JB):  </th> <td>   4.749</td>\n",
       "</tr>\n",
       "<tr>\n",
       "  <th>Skew:</th>          <td>-0.201</td> <th>  Prob(JB):          </th> <td>  0.0931</td>\n",
       "</tr>\n",
       "<tr>\n",
       "  <th>Kurtosis:</th>      <td> 2.361</td> <th>  Cond. No.          </th> <td>    322.</td>\n",
       "</tr>\n",
       "</table><br/><br/>Warnings:<br/>[1] Standard Errors assume that the covariance matrix of the errors is correctly specified."
      ],
      "text/plain": [
       "<class 'statsmodels.iolib.summary.Summary'>\n",
       "\"\"\"\n",
       "                            OLS Regression Results                            \n",
       "==============================================================================\n",
       "Dep. Variable:                  write   R-squared:                       0.429\n",
       "Model:                            OLS   Adj. R-squared:                  0.423\n",
       "Method:                 Least Squares   F-statistic:                     73.90\n",
       "Date:                Tue, 17 Sep 2019   Prob (F-statistic):           1.13e-24\n",
       "Time:                        16:24:30   Log-Likelihood:                -677.12\n",
       "No. Observations:                 200   AIC:                             1360.\n",
       "Df Residuals:                     197   BIC:                             1370.\n",
       "Df Model:                           2                                         \n",
       "Covariance Type:            nonrobust                                         \n",
       "===============================================================================\n",
       "                  coef    std err          t      P>|t|      [0.025      0.975]\n",
       "-------------------------------------------------------------------------------\n",
       "Intercept      23.2004      2.654      8.741      0.000      17.966      28.434\n",
       "read            0.5144      0.050     10.218      0.000       0.415       0.614\n",
       "female:read     0.0961      0.019      5.000      0.000       0.058       0.134\n",
       "==============================================================================\n",
       "Omnibus:                        7.827   Durbin-Watson:                   1.974\n",
       "Prob(Omnibus):                  0.020   Jarque-Bera (JB):                4.749\n",
       "Skew:                          -0.201   Prob(JB):                       0.0931\n",
       "Kurtosis:                       2.361   Cond. No.                         322.\n",
       "==============================================================================\n",
       "\n",
       "Warnings:\n",
       "[1] Standard Errors assume that the covariance matrix of the errors is correctly specified.\n",
       "\"\"\""
      ]
     },
     "execution_count": 100,
     "metadata": {},
     "output_type": "execute_result"
    }
   ],
   "source": [
    "# 또다른 예 : 읽기를 잘하면 쓰기도 잘할까, 성별하고 상호작용이 있을 까\n",
    "ols('write ~ read+female:read', hsb).fit().summary() #female:read 상호작용"
   ]
  },
  {
   "cell_type": "markdown",
   "metadata": {},
   "source": [
    "### read -> write에 영향을 미치는 데 \n",
    "### read에서 성별이 영향을 미치고 결국 write까지 영향을 미침 \n",
    "- -> 남자 0 : w = 0.5r\n",
    "- -> 여자 1 : w = 0.6r"
   ]
  },
  {
   "cell_type": "code",
   "execution_count": 103,
   "metadata": {},
   "outputs": [
    {
     "data": {
      "text/html": [
       "<table class=\"simpletable\">\n",
       "<caption>OLS Regression Results</caption>\n",
       "<tr>\n",
       "  <th>Dep. Variable:</th>          <td>write</td>      <th>  R-squared:         </th> <td>   0.445</td>\n",
       "</tr>\n",
       "<tr>\n",
       "  <th>Model:</th>                   <td>OLS</td>       <th>  Adj. R-squared:    </th> <td>   0.436</td>\n",
       "</tr>\n",
       "<tr>\n",
       "  <th>Method:</th>             <td>Least Squares</td>  <th>  F-statistic:       </th> <td>   52.31</td>\n",
       "</tr>\n",
       "<tr>\n",
       "  <th>Date:</th>             <td>Tue, 17 Sep 2019</td> <th>  Prob (F-statistic):</th> <td>7.00e-25</td>\n",
       "</tr>\n",
       "<tr>\n",
       "  <th>Time:</th>                 <td>16:34:54</td>     <th>  Log-Likelihood:    </th> <td> -674.28</td>\n",
       "</tr>\n",
       "<tr>\n",
       "  <th>No. Observations:</th>      <td>   200</td>      <th>  AIC:               </th> <td>   1357.</td>\n",
       "</tr>\n",
       "<tr>\n",
       "  <th>Df Residuals:</th>          <td>   196</td>      <th>  BIC:               </th> <td>   1370.</td>\n",
       "</tr>\n",
       "<tr>\n",
       "  <th>Df Model:</th>              <td>     3</td>      <th>                     </th>     <td> </td>   \n",
       "</tr>\n",
       "<tr>\n",
       "  <th>Covariance Type:</th>      <td>nonrobust</td>    <th>                     </th>     <td> </td>   \n",
       "</tr>\n",
       "</table>\n",
       "<table class=\"simpletable\">\n",
       "<tr>\n",
       "       <td></td>          <th>coef</th>     <th>std err</th>      <th>t</th>      <th>P>|t|</th>  <th>[0.025</th>    <th>0.975]</th>  \n",
       "</tr>\n",
       "<tr>\n",
       "  <th>Intercept</th>   <td>   16.5239</td> <td>    3.845</td> <td>    4.297</td> <td> 0.000</td> <td>    8.941</td> <td>   24.107</td>\n",
       "</tr>\n",
       "<tr>\n",
       "  <th>female</th>      <td>   12.4906</td> <td>    5.259</td> <td>    2.375</td> <td> 0.019</td> <td>    2.119</td> <td>   22.863</td>\n",
       "</tr>\n",
       "<tr>\n",
       "  <th>read</th>        <td>    0.6360</td> <td>    0.071</td> <td>    8.907</td> <td> 0.000</td> <td>    0.495</td> <td>    0.777</td>\n",
       "</tr>\n",
       "<tr>\n",
       "  <th>female:read</th> <td>   -0.1339</td> <td>    0.099</td> <td>   -1.357</td> <td> 0.176</td> <td>   -0.328</td> <td>    0.061</td>\n",
       "</tr>\n",
       "</table>\n",
       "<table class=\"simpletable\">\n",
       "<tr>\n",
       "  <th>Omnibus:</th>       <td> 5.511</td> <th>  Durbin-Watson:     </th> <td>   1.972</td>\n",
       "</tr>\n",
       "<tr>\n",
       "  <th>Prob(Omnibus):</th> <td> 0.064</td> <th>  Jarque-Bera (JB):  </th> <td>   4.075</td>\n",
       "</tr>\n",
       "<tr>\n",
       "  <th>Skew:</th>          <td>-0.222</td> <th>  Prob(JB):          </th> <td>   0.130</td>\n",
       "</tr>\n",
       "<tr>\n",
       "  <th>Kurtosis:</th>      <td> 2.459</td> <th>  Cond. No.          </th> <td>    751.</td>\n",
       "</tr>\n",
       "</table><br/><br/>Warnings:<br/>[1] Standard Errors assume that the covariance matrix of the errors is correctly specified."
      ],
      "text/plain": [
       "<class 'statsmodels.iolib.summary.Summary'>\n",
       "\"\"\"\n",
       "                            OLS Regression Results                            \n",
       "==============================================================================\n",
       "Dep. Variable:                  write   R-squared:                       0.445\n",
       "Model:                            OLS   Adj. R-squared:                  0.436\n",
       "Method:                 Least Squares   F-statistic:                     52.31\n",
       "Date:                Tue, 17 Sep 2019   Prob (F-statistic):           7.00e-25\n",
       "Time:                        16:34:54   Log-Likelihood:                -674.28\n",
       "No. Observations:                 200   AIC:                             1357.\n",
       "Df Residuals:                     196   BIC:                             1370.\n",
       "Df Model:                           3                                         \n",
       "Covariance Type:            nonrobust                                         \n",
       "===============================================================================\n",
       "                  coef    std err          t      P>|t|      [0.025      0.975]\n",
       "-------------------------------------------------------------------------------\n",
       "Intercept      16.5239      3.845      4.297      0.000       8.941      24.107\n",
       "female         12.4906      5.259      2.375      0.019       2.119      22.863\n",
       "read            0.6360      0.071      8.907      0.000       0.495       0.777\n",
       "female:read    -0.1339      0.099     -1.357      0.176      -0.328       0.061\n",
       "==============================================================================\n",
       "Omnibus:                        5.511   Durbin-Watson:                   1.972\n",
       "Prob(Omnibus):                  0.064   Jarque-Bera (JB):                4.075\n",
       "Skew:                          -0.222   Prob(JB):                        0.130\n",
       "Kurtosis:                       2.459   Cond. No.                         751.\n",
       "==============================================================================\n",
       "\n",
       "Warnings:\n",
       "[1] Standard Errors assume that the covariance matrix of the errors is correctly specified.\n",
       "\"\"\""
      ]
     },
     "execution_count": 103,
     "metadata": {},
     "output_type": "execute_result"
    }
   ],
   "source": [
    "# 상호작용이 있는 경우 (2)\n",
    "ols('write ~ female*read', hsb).fit().summary() \n",
    "# 'write ~ read + female + read:female' 이 뜻과 같다. (female + female:read와 상호작용 하라는 뜻 *:은 곱하기라서 순서 상관없음!!* ) "
   ]
  },
  {
   "cell_type": "code",
   "execution_count": null,
   "metadata": {},
   "outputs": [],
   "source": []
  }
 ],
 "metadata": {
  "kernelspec": {
   "display_name": "Python 3",
   "language": "python",
   "name": "python3"
  },
  "language_info": {
   "codemirror_mode": {
    "name": "ipython",
    "version": 3
   },
   "file_extension": ".py",
   "mimetype": "text/x-python",
   "name": "python",
   "nbconvert_exporter": "python",
   "pygments_lexer": "ipython3",
   "version": "3.7.4"
  }
 },
 "nbformat": 4,
 "nbformat_minor": 2
}
