{
 "cells": [
  {
   "cell_type": "markdown",
   "metadata": {},
   "source": [
    "# 아나콘다(하이마트) \n",
    "- python을 설치하는 방법 \n",
    "- jupyter 도 기본 탑제 \n",
    "\n",
    "# python3 install (에어콘)\n",
    "- python을 사용하는 방법 "
   ]
  },
  {
   "cell_type": "code",
   "execution_count": 1,
   "metadata": {},
   "outputs": [],
   "source": [
    "import numpy as np"
   ]
  },
  {
   "cell_type": "code",
   "execution_count": 3,
   "metadata": {},
   "outputs": [],
   "source": [
    "x = [100, 100,100, 200, 300,300, 500,500,600,700,800,900]"
   ]
  },
  {
   "cell_type": "code",
   "execution_count": 4,
   "metadata": {},
   "outputs": [
    {
     "data": {
      "text/plain": [
       "425.0"
      ]
     },
     "execution_count": 4,
     "metadata": {},
     "output_type": "execute_result"
    }
   ],
   "source": [
    "np.mean(x)  #  평균"
   ]
  },
  {
   "cell_type": "code",
   "execution_count": 29,
   "metadata": {},
   "outputs": [
    {
     "data": {
      "text/plain": [
       "400.0"
      ]
     },
     "execution_count": 29,
     "metadata": {},
     "output_type": "execute_result"
    }
   ],
   "source": [
    "np.median(x) # 중간값"
   ]
  },
  {
   "cell_type": "code",
   "execution_count": null,
   "metadata": {},
   "outputs": [],
   "source": [
    "from scipy.stats import mode"
   ]
  },
  {
   "cell_type": "code",
   "execution_count": 31,
   "metadata": {},
   "outputs": [
    {
     "data": {
      "text/plain": [
       "ModeResult(mode=array([100]), count=array([3]))"
      ]
     },
     "execution_count": 31,
     "metadata": {},
     "output_type": "execute_result"
    }
   ],
   "source": [
    "mode(x) #최빈값 : 가장 흔한값 (100이 제일 흔하게 나왔고, 2번 나왔다는 뜻)"
   ]
  },
  {
   "cell_type": "code",
   "execution_count": 32,
   "metadata": {},
   "outputs": [],
   "source": [
    "x1 = [100, 100, 200, 200, 300, 500]"
   ]
  },
  {
   "cell_type": "code",
   "execution_count": 33,
   "metadata": {},
   "outputs": [
    {
     "data": {
      "text/plain": [
       "ModeResult(mode=array([100]), count=array([2]))"
      ]
     },
     "execution_count": 33,
     "metadata": {},
     "output_type": "execute_result"
    }
   ],
   "source": [
    "mode(x1) # 왜 100만 나오지..? 내부 기준이 있음 작은 숫자를 먼저 보여준다! "
   ]
  },
  {
   "cell_type": "code",
   "execution_count": 20,
   "metadata": {
    "collapsed": true
   },
   "outputs": [
    {
     "name": "stdout",
     "output_type": "stream",
     "text": [
      "Help on function mode in module scipy.stats.stats:\n",
      "\n",
      "mode(a, axis=0, nan_policy='propagate')\n",
      "    Return an array of the modal (most common) value in the passed array.\n",
      "    \n",
      "    If there is more than one such value, only the smallest is returned.\n",
      "    The bin-count for the modal bins is also returned.\n",
      "    \n",
      "    Parameters\n",
      "    ----------\n",
      "    a : array_like\n",
      "        n-dimensional array of which to find mode(s).\n",
      "    axis : int or None, optional\n",
      "        Axis along which to operate. Default is 0. If None, compute over\n",
      "        the whole array `a`.\n",
      "    nan_policy : {'propagate', 'raise', 'omit'}, optional\n",
      "        Defines how to handle when input contains nan. 'propagate' returns nan,\n",
      "        'raise' throws an error, 'omit' performs the calculations ignoring nan\n",
      "        values. Default is 'propagate'.\n",
      "    \n",
      "    Returns\n",
      "    -------\n",
      "    mode : ndarray\n",
      "        Array of modal values.\n",
      "    count : ndarray\n",
      "        Array of counts for each mode.\n",
      "    \n",
      "    Examples\n",
      "    --------\n",
      "    >>> a = np.array([[6, 8, 3, 0],\n",
      "    ...               [3, 2, 1, 7],\n",
      "    ...               [8, 1, 8, 4],\n",
      "    ...               [5, 3, 0, 5],\n",
      "    ...               [4, 7, 5, 9]])\n",
      "    >>> from scipy import stats\n",
      "    >>> stats.mode(a)\n",
      "    (array([[3, 1, 0, 0]]), array([[1, 1, 1, 1]]))\n",
      "    \n",
      "    To get mode of whole array, specify ``axis=None``:\n",
      "    \n",
      "    >>> stats.mode(a, axis=None)\n",
      "    (array([3]), array([3]))\n",
      "\n"
     ]
    }
   ],
   "source": [
    "help(mode) #함수 규칙 알고 싶을 때 이렇게 쓰면 됨 "
   ]
  },
  {
   "cell_type": "code",
   "execution_count": 34,
   "metadata": {},
   "outputs": [
    {
     "data": {
      "text/plain": [
       "100"
      ]
     },
     "execution_count": 34,
     "metadata": {},
     "output_type": "execute_result"
    }
   ],
   "source": [
    "np.min(x)"
   ]
  },
  {
   "cell_type": "code",
   "execution_count": 35,
   "metadata": {},
   "outputs": [
    {
     "data": {
      "text/plain": [
       "900"
      ]
     },
     "execution_count": 35,
     "metadata": {},
     "output_type": "execute_result"
    }
   ],
   "source": [
    "np.max(x)"
   ]
  },
  {
   "cell_type": "code",
   "execution_count": 37,
   "metadata": {},
   "outputs": [
    {
     "data": {
      "text/plain": [
       "73541.66666666667"
      ]
     },
     "execution_count": 37,
     "metadata": {},
     "output_type": "execute_result"
    }
   ],
   "source": [
    "np.var(x) #분산"
   ]
  },
  {
   "cell_type": "code",
   "execution_count": 36,
   "metadata": {},
   "outputs": [
    {
     "data": {
      "text/plain": [
       "271.1856682545497"
      ]
     },
     "execution_count": 36,
     "metadata": {},
     "output_type": "execute_result"
    }
   ],
   "source": [
    "np.std(x) #표준편차"
   ]
  },
  {
   "cell_type": "code",
   "execution_count": 41,
   "metadata": {},
   "outputs": [
    {
     "data": {
      "text/plain": [
       "175.0"
      ]
     },
     "execution_count": 41,
     "metadata": {},
     "output_type": "execute_result"
    }
   ],
   "source": [
    "np.quantile(x,.25) #1사분위 (25% 지점) # 한줄로 쭉 세웠을 때 25등이면 딱 그 수가 나오는데, 25등이 없으면 앞뒤 요소들의 평균값을 내줌 "
   ]
  },
  {
   "cell_type": "code",
   "execution_count": 43,
   "metadata": {},
   "outputs": [
    {
     "data": {
      "text/plain": [
       "400.0"
      ]
     },
     "execution_count": 43,
     "metadata": {},
     "output_type": "execute_result"
    }
   ],
   "source": [
    "np.quantile(x,.5) #2사분위 (50% 지점)"
   ]
  },
  {
   "cell_type": "code",
   "execution_count": 46,
   "metadata": {},
   "outputs": [
    {
     "data": {
      "text/plain": [
       "400.0"
      ]
     },
     "execution_count": 46,
     "metadata": {},
     "output_type": "execute_result"
    }
   ],
   "source": [
    "np.median(x) \n",
    "#중간값의 장점 : 값이 바뀌지 않음. 그래서 비교할 수 있음. (30명중 중간값을 가진 사람이 있으면 그 사람을 기준으로 위인지 아래인지 비교 가능))\n",
    "# 지금 400값이 없지만 딱 중간 요소가 없기 때문에 300과 500의 평균인 400이 나와줌 ( 아마 홀수면 가운데가 존재하니까 딱 그 요소값이 나올 듯)"
   ]
  },
  {
   "cell_type": "code",
   "execution_count": 44,
   "metadata": {},
   "outputs": [
    {
     "data": {
      "text/plain": [
       "625.0"
      ]
     },
     "execution_count": 44,
     "metadata": {},
     "output_type": "execute_result"
    }
   ],
   "source": [
    "np.quantile(x,.75) #3사분위 (75%지점)"
   ]
  },
  {
   "cell_type": "code",
   "execution_count": 45,
   "metadata": {},
   "outputs": [
    {
     "data": {
      "text/plain": [
       "900"
      ]
     },
     "execution_count": 45,
     "metadata": {},
     "output_type": "execute_result"
    }
   ],
   "source": [
    "np.quantile(x,1) #4사분위 -> 4분위수 (보통 4분위수가 값을 구하기 편해서 4로 함)"
   ]
  },
  {
   "cell_type": "code",
   "execution_count": 47,
   "metadata": {},
   "outputs": [],
   "source": [
    "# 최대 최소 값은 극단적일수 있는데, 분위수 (quantile)는 그런 면에서 더 안정적임 "
   ]
  },
  {
   "cell_type": "code",
   "execution_count": 48,
   "metadata": {},
   "outputs": [],
   "source": [
    "#만약 데이터 값이 [0,0,0,0,0,0,0,0,0,100] 이러면 최빈값이나 뭐 구한 값이 다 소용없다 "
   ]
  },
  {
   "cell_type": "code",
   "execution_count": 15,
   "metadata": {},
   "outputs": [],
   "source": [
    "from numpy.random import binomial \n",
    " "
   ]
  },
  {
   "cell_type": "markdown",
   "metadata": {},
   "source": [
    "# 이항분포"
   ]
  },
  {
   "cell_type": "code",
   "execution_count": 52,
   "metadata": {
    "collapsed": true
   },
   "outputs": [
    {
     "name": "stdout",
     "output_type": "stream",
     "text": [
      "Help on built-in function binomial:\n",
      "\n",
      "binomial(...) method of numpy.random.mtrand.RandomState instance\n",
      "    binomial(n, p, size=None)\n",
      "    \n",
      "    Draw samples from a binomial distribution.\n",
      "    \n",
      "    Samples are drawn from a binomial distribution with specified\n",
      "    parameters, n trials and p probability of success where\n",
      "    n an integer >= 0 and p is in the interval [0,1]. (n may be\n",
      "    input as a float, but it is truncated to an integer in use)\n",
      "    \n",
      "    Parameters\n",
      "    ----------\n",
      "    n : int or array_like of ints\n",
      "        Parameter of the distribution, >= 0. Floats are also accepted,\n",
      "        but they will be truncated to integers.\n",
      "    p : float or array_like of floats\n",
      "        Parameter of the distribution, >= 0 and <=1.\n",
      "    size : int or tuple of ints, optional\n",
      "        Output shape.  If the given shape is, e.g., ``(m, n, k)``, then\n",
      "        ``m * n * k`` samples are drawn.  If size is ``None`` (default),\n",
      "        a single value is returned if ``n`` and ``p`` are both scalars.\n",
      "        Otherwise, ``np.broadcast(n, p).size`` samples are drawn.\n",
      "    \n",
      "    Returns\n",
      "    -------\n",
      "    out : ndarray or scalar\n",
      "        Drawn samples from the parameterized binomial distribution, where\n",
      "        each sample is equal to the number of successes over the n trials.\n",
      "    \n",
      "    See Also\n",
      "    --------\n",
      "    scipy.stats.binom : probability density function, distribution or\n",
      "        cumulative density function, etc.\n",
      "    \n",
      "    Notes\n",
      "    -----\n",
      "    The probability density for the binomial distribution is\n",
      "    \n",
      "    .. math:: P(N) = \\binom{n}{N}p^N(1-p)^{n-N},\n",
      "    \n",
      "    where :math:`n` is the number of trials, :math:`p` is the probability\n",
      "    of success, and :math:`N` is the number of successes.\n",
      "    \n",
      "    When estimating the standard error of a proportion in a population by\n",
      "    using a random sample, the normal distribution works well unless the\n",
      "    product p*n <=5, where p = population proportion estimate, and n =\n",
      "    number of samples, in which case the binomial distribution is used\n",
      "    instead. For example, a sample of 15 people shows 4 who are left\n",
      "    handed, and 11 who are right handed. Then p = 4/15 = 27%. 0.27*15 = 4,\n",
      "    so the binomial distribution should be used in this case.\n",
      "    \n",
      "    References\n",
      "    ----------\n",
      "    .. [1] Dalgaard, Peter, \"Introductory Statistics with R\",\n",
      "           Springer-Verlag, 2002.\n",
      "    .. [2] Glantz, Stanton A. \"Primer of Biostatistics.\", McGraw-Hill,\n",
      "           Fifth Edition, 2002.\n",
      "    .. [3] Lentner, Marvin, \"Elementary Applied Statistics\", Bogden\n",
      "           and Quigley, 1972.\n",
      "    .. [4] Weisstein, Eric W. \"Binomial Distribution.\" From MathWorld--A\n",
      "           Wolfram Web Resource.\n",
      "           http://mathworld.wolfram.com/BinomialDistribution.html\n",
      "    .. [5] Wikipedia, \"Binomial distribution\",\n",
      "           https://en.wikipedia.org/wiki/Binomial_distribution\n",
      "    \n",
      "    Examples\n",
      "    --------\n",
      "    Draw samples from the distribution:\n",
      "    \n",
      "    >>> n, p = 10, .5  # number of trials, probability of each trial\n",
      "    >>> s = np.random.binomial(n, p, 1000)\n",
      "    # result of flipping a coin 10 times, tested 1000 times.\n",
      "    \n",
      "    A real world example. A company drills 9 wild-cat oil exploration\n",
      "    wells, each with an estimated probability of success of 0.1. All nine\n",
      "    wells fail. What is the probability of that happening?\n",
      "    \n",
      "    Let's do 20,000 trials of the model, and count the number that\n",
      "    generate zero positive results.\n",
      "    \n",
      "    >>> sum(np.random.binomial(9, 0.1, 20000) == 0)/20000.\n",
      "    # answer = 0.38885, or 38%.\n",
      "\n"
     ]
    }
   ],
   "source": [
    "help(binomial) # n: 개수"
   ]
  },
  {
   "cell_type": "code",
   "execution_count": 56,
   "metadata": {},
   "outputs": [
    {
     "data": {
      "text/plain": [
       "39"
      ]
     },
     "execution_count": 56,
     "metadata": {},
     "output_type": "execute_result"
    }
   ],
   "source": [
    "binomial(100,.3) #고객의 구매율이 30%일 때 100명의 고객이 방문. 몇 명이 구매?  \n",
    "# 값은 계속 달라짐. randome이니까. 확률이 30% 라고 해도 결과는 항상 들쭉날쭉 하기 때문에..!\n",
    "# 맨날 100명은 와도 사는 사람의 수는 다를 수 있으니까 "
   ]
  },
  {
   "cell_type": "code",
   "execution_count": 57,
   "metadata": {},
   "outputs": [
    {
     "data": {
      "text/plain": [
       "29"
      ]
     },
     "execution_count": 57,
     "metadata": {},
     "output_type": "execute_result"
    }
   ],
   "source": [
    "binomial(100,.3)"
   ]
  },
  {
   "cell_type": "code",
   "execution_count": 64,
   "metadata": {},
   "outputs": [
    {
     "data": {
      "text/plain": [
       "array([30, 21, 23, 31, 30, 27, 28, 27, 32, 29, 31, 27, 23, 33, 37, 18, 28,\n",
       "       29, 34, 30, 34, 31, 31, 26, 25, 25, 29, 29, 36, 29])"
      ]
     },
     "execution_count": 64,
     "metadata": {},
     "output_type": "execute_result"
    }
   ],
   "source": [
    "x = binomial(100,.3,30) #100명 고객, 30% 구매율, 30일간) 랜덤 한달 시뮬레이션\n",
    "# 맽끝 횟수(나올 수 있는 개수)가 커질수록 확률은 대세를 따라가니까 비슷해짐 \n",
    "x"
   ]
  },
  {
   "cell_type": "code",
   "execution_count": null,
   "metadata": {},
   "outputs": [],
   "source": [
    "min(x)"
   ]
  },
  {
   "cell_type": "code",
   "execution_count": null,
   "metadata": {},
   "outputs": [],
   "source": [
    "max(x)"
   ]
  },
  {
   "cell_type": "code",
   "execution_count": 69,
   "metadata": {
    "collapsed": true
   },
   "outputs": [
    {
     "name": "stdout",
     "output_type": "stream",
     "text": [
      "[30 21 23 31 30 27 28 27 32 29 31 27 23 33 37 18 28 29 34 30 34 31 31 26\n",
      " 25 25 29 29 36 29]\n",
      "[30 21 23 31 30 27 28 27 32 29 31 27 23 33 37 18 28 29 34 30 34 31 31 26\n",
      " 25 25 29 29 36 29]\n",
      "[30 21 23 31 30 27 28 27 32 29 31 27 23 33 37 18 28 29 34 30 34 31 31 26\n",
      " 25 25 29 29 36 29]\n",
      "[30 21 23 31 30 27 28 27 32 29 31 27 23 33 37 18 28 29 34 30 34 31 31 26\n",
      " 25 25 29 29 36 29]\n",
      "[30 21 23 31 30 27 28 27 32 29 31 27 23 33 37 18 28 29 34 30 34 31 31 26\n",
      " 25 25 29 29 36 29]\n",
      "[30 21 23 31 30 27 28 27 32 29 31 27 23 33 37 18 28 29 34 30 34 31 31 26\n",
      " 25 25 29 29 36 29]\n",
      "[30 21 23 31 30 27 28 27 32 29 31 27 23 33 37 18 28 29 34 30 34 31 31 26\n",
      " 25 25 29 29 36 29]\n",
      "[30 21 23 31 30 27 28 27 32 29 31 27 23 33 37 18 28 29 34 30 34 31 31 26\n",
      " 25 25 29 29 36 29]\n",
      "[30 21 23 31 30 27 28 27 32 29 31 27 23 33 37 18 28 29 34 30 34 31 31 26\n",
      " 25 25 29 29 36 29]\n",
      "[30 21 23 31 30 27 28 27 32 29 31 27 23 33 37 18 28 29 34 30 34 31 31 26\n",
      " 25 25 29 29 36 29]\n",
      "[30 21 23 31 30 27 28 27 32 29 31 27 23 33 37 18 28 29 34 30 34 31 31 26\n",
      " 25 25 29 29 36 29]\n",
      "[30 21 23 31 30 27 28 27 32 29 31 27 23 33 37 18 28 29 34 30 34 31 31 26\n",
      " 25 25 29 29 36 29]\n",
      "[30 21 23 31 30 27 28 27 32 29 31 27 23 33 37 18 28 29 34 30 34 31 31 26\n",
      " 25 25 29 29 36 29]\n",
      "[30 21 23 31 30 27 28 27 32 29 31 27 23 33 37 18 28 29 34 30 34 31 31 26\n",
      " 25 25 29 29 36 29]\n",
      "[30 21 23 31 30 27 28 27 32 29 31 27 23 33 37 18 28 29 34 30 34 31 31 26\n",
      " 25 25 29 29 36 29]\n",
      "[30 21 23 31 30 27 28 27 32 29 31 27 23 33 37 18 28 29 34 30 34 31 31 26\n",
      " 25 25 29 29 36 29]\n",
      "[30 21 23 31 30 27 28 27 32 29 31 27 23 33 37 18 28 29 34 30 34 31 31 26\n",
      " 25 25 29 29 36 29]\n",
      "[30 21 23 31 30 27 28 27 32 29 31 27 23 33 37 18 28 29 34 30 34 31 31 26\n",
      " 25 25 29 29 36 29]\n",
      "[30 21 23 31 30 27 28 27 32 29 31 27 23 33 37 18 28 29 34 30 34 31 31 26\n",
      " 25 25 29 29 36 29]\n",
      "[30 21 23 31 30 27 28 27 32 29 31 27 23 33 37 18 28 29 34 30 34 31 31 26\n",
      " 25 25 29 29 36 29]\n",
      "[30 21 23 31 30 27 28 27 32 29 31 27 23 33 37 18 28 29 34 30 34 31 31 26\n",
      " 25 25 29 29 36 29]\n",
      "[30 21 23 31 30 27 28 27 32 29 31 27 23 33 37 18 28 29 34 30 34 31 31 26\n",
      " 25 25 29 29 36 29]\n",
      "[30 21 23 31 30 27 28 27 32 29 31 27 23 33 37 18 28 29 34 30 34 31 31 26\n",
      " 25 25 29 29 36 29]\n",
      "[30 21 23 31 30 27 28 27 32 29 31 27 23 33 37 18 28 29 34 30 34 31 31 26\n",
      " 25 25 29 29 36 29]\n",
      "[30 21 23 31 30 27 28 27 32 29 31 27 23 33 37 18 28 29 34 30 34 31 31 26\n",
      " 25 25 29 29 36 29]\n",
      "[30 21 23 31 30 27 28 27 32 29 31 27 23 33 37 18 28 29 34 30 34 31 31 26\n",
      " 25 25 29 29 36 29]\n",
      "[30 21 23 31 30 27 28 27 32 29 31 27 23 33 37 18 28 29 34 30 34 31 31 26\n",
      " 25 25 29 29 36 29]\n",
      "[30 21 23 31 30 27 28 27 32 29 31 27 23 33 37 18 28 29 34 30 34 31 31 26\n",
      " 25 25 29 29 36 29]\n",
      "[30 21 23 31 30 27 28 27 32 29 31 27 23 33 37 18 28 29 34 30 34 31 31 26\n",
      " 25 25 29 29 36 29]\n",
      "[30 21 23 31 30 27 28 27 32 29 31 27 23 33 37 18 28 29 34 30 34 31 31 26\n",
      " 25 25 29 29 36 29]\n"
     ]
    }
   ],
   "source": [
    "for i in x:\n",
    "    print(x)"
   ]
  },
  {
   "cell_type": "code",
   "execution_count": 74,
   "metadata": {},
   "outputs": [
    {
     "data": {
      "text/plain": [
       "163000"
      ]
     },
     "execution_count": 74,
     "metadata": {},
     "output_type": "execute_result"
    }
   ],
   "source": [
    "# 한달 장사 시뮬레이션\n",
    "수익 = 0\n",
    "준비 = 30 #인분\n",
    "# i = 고객 수 \n",
    "for i in x:\n",
    "    if i <= 준비:\n",
    "        수익 += (준비 - i) * -10000 \n",
    "        수익 += i * 1000\n",
    "    else:\n",
    "        수익 = 수익 + 준비* 1000\n",
    "수익"
   ]
  },
  {
   "cell_type": "code",
   "execution_count": 75,
   "metadata": {},
   "outputs": [
    {
     "data": {
      "text/plain": [
       "578000"
      ]
     },
     "execution_count": 75,
     "metadata": {},
     "output_type": "execute_result"
    }
   ],
   "source": [
    "수익 = 0\n",
    "준비 = 20\n",
    "# i = 고객 수 \n",
    "for i in x:\n",
    "    if i <= 준비:\n",
    "        수익 += (준비 - i) * -10000 \n",
    "        수익 += i * 1000\n",
    "    else:\n",
    "        수익 = 수익 + 준비* 1000\n",
    "수익\n",
    "# 준비 20인분만 할 때 돈을 더 잘번다는 시뮬레이션이 나옴 (하지만 구매율은 생각하지 않은 결과..! 그냥 단순한 상황을 가정하고 한 거임)"
   ]
  },
  {
   "cell_type": "code",
   "execution_count": null,
   "metadata": {},
   "outputs": [],
   "source": [
    "# 사냐 마냐 매출문제 말고 또 다른 이항분포? \n",
    "# 죽느냐 사느냐 -> 보험금 "
   ]
  },
  {
   "cell_type": "code",
   "execution_count": 81,
   "metadata": {},
   "outputs": [
    {
     "data": {
      "text/plain": [
       "-260000.0"
      ]
     },
     "execution_count": 81,
     "metadata": {},
     "output_type": "execute_result"
    }
   ],
   "source": [
    "#1\n",
    "보험료 = 100\n",
    "고객 = 100\n",
    "매출 = 보험료 * 고객\n",
    "사망자 = binomial(고객,.1)\n",
    "지급액 = 30000\n",
    "지급 = 지급액 * 사망자\n",
    "매출 - 지급\n",
    "np.mean(매출 - 지급)\n",
    "# 너무 적자...! "
   ]
  },
  {
   "cell_type": "code",
   "execution_count": 80,
   "metadata": {},
   "outputs": [
    {
     "data": {
      "text/plain": [
       "31"
      ]
     },
     "execution_count": 80,
     "metadata": {},
     "output_type": "execute_result"
    }
   ],
   "source": [
    "binomial(100, .3)"
   ]
  },
  {
   "cell_type": "code",
   "execution_count": 82,
   "metadata": {},
   "outputs": [
    {
     "data": {
      "text/plain": [
       "18000.0"
      ]
     },
     "execution_count": 82,
     "metadata": {},
     "output_type": "execute_result"
    }
   ],
   "source": [
    "#2\n",
    "보험료 = 300\n",
    "고객 = 100\n",
    "지급액 = 1000\n",
    "매출 = 보험료 * 고객\n",
    "사망자 = binomial(고객,.1)\n",
    "지급 = 지급액 * 사망자\n",
    "매출 - 지급\n",
    "np.mean(매출 - 지급)\n",
    "# 돈은 벌지만 현실에서 이렇게 한다면 고객들이 떨어지겠지..? "
   ]
  },
  {
   "cell_type": "code",
   "execution_count": 83,
   "metadata": {},
   "outputs": [
    {
     "data": {
      "text/plain": [
       "19920.0"
      ]
     },
     "execution_count": 83,
     "metadata": {},
     "output_type": "execute_result"
    }
   ],
   "source": [
    "#3\n",
    "보험료 = 300\n",
    "고객 = 지급액/10\n",
    "지급액 = 1000\n",
    "장사 = 100\n",
    "매출 = 보험료 * 고객\n",
    "사망자 = binomial(고객,.1, 장사)\n",
    "지급 = 지급액 * 사망자\n",
    "매출 - 지급\n",
    "np.mean(매출 - 지급)"
   ]
  },
  {
   "cell_type": "markdown",
   "metadata": {},
   "source": [
    "# 기하분표 "
   ]
  },
  {
   "cell_type": "code",
   "execution_count": 7,
   "metadata": {},
   "outputs": [
    {
     "data": {
      "text/plain": [
       "0"
      ]
     },
     "execution_count": 7,
     "metadata": {},
     "output_type": "execute_result"
    }
   ],
   "source": [
    "binomial(1,.05) #이탈률이 0.05라면 1 아니면 0 이 나옴. \n"
   ]
  },
  {
   "cell_type": "code",
   "execution_count": 8,
   "metadata": {},
   "outputs": [
    {
     "data": {
      "text/plain": [
       "7"
      ]
     },
     "execution_count": 8,
     "metadata": {},
     "output_type": "execute_result"
    }
   ],
   "source": [
    "이탈성공 = 0\n",
    "기간 = 0 \n",
    "while 이탈성공 == 0: #조건이 참인동안 계속 반복 \n",
    "        이탈성공 = binomial(1,.05)\n",
    "        기간 = 기간 + 1\n",
    "기간\n",
    "# while 함수를 잘못쓰면 무한루프에 들어가서 ㅋㅋㅋㅋ 나도 다시 주피터 껐다가 다시 킴 ㅎ..."
   ]
  },
  {
   "cell_type": "code",
   "execution_count": 9,
   "metadata": {},
   "outputs": [],
   "source": [
    "from numpy.random import geometric"
   ]
  },
  {
   "cell_type": "code",
   "execution_count": 10,
   "metadata": {},
   "outputs": [],
   "source": [
    "기간 = geometric(.05, 100)  #이탈률 5%일 때, 100명의 고객이 며칠 후 이탈하는 지?"
   ]
  },
  {
   "cell_type": "code",
   "execution_count": 11,
   "metadata": {},
   "outputs": [
    {
     "data": {
      "text/plain": [
       "array([-9979, -9917, -9997, -9985, -9979, -9999, -9993, -9944, -9982,\n",
       "       -9993, -9986, -9971, -9993, -9990, -9968, -9992, -9961, -9949,\n",
       "       -9969, -9981, -9975, -9997, -9991, -9977, -9978, -9996, -9975,\n",
       "       -9993, -9976, -9970, -9978, -9999, -9966, -9991, -9975, -9990,\n",
       "       -9980, -9946, -9995, -9996, -9969, -9990, -9994, -9966, -9974,\n",
       "       -9962, -9955, -9990, -9993, -9989, -9996, -9983, -9966, -9992,\n",
       "       -9993, -9945, -9940, -9978, -9982, -9989, -9990, -9981, -9985,\n",
       "       -9996, -9991, -9954, -9985, -9991, -9930, -9975, -9980, -9986,\n",
       "       -9999, -9982, -9985, -9993, -9982, -9989, -9990, -9869, -9988,\n",
       "       -9967, -9995, -9984, -9999, -9985, -9999, -9998, -9979, -9998,\n",
       "       -9996, -9943, -9979, -9989, -9950, -9982, -9990, -9963, -9990,\n",
       "       -9995])"
      ]
     },
     "execution_count": 11,
     "metadata": {},
     "output_type": "execute_result"
    }
   ],
   "source": [
    "기간 * 1 - 100 * 100 "
   ]
  },
  {
   "cell_type": "code",
   "execution_count": 12,
   "metadata": {},
   "outputs": [
    {
     "data": {
      "text/plain": [
       "array([ 21,  83,   3,  15,  21,   1,   7,  56,  18,   7,  14,  29,   7,\n",
       "        10,  32,   8,  39,  51,  31,  19,  25,   3,   9,  23,  22,   4,\n",
       "        25,   7,  24,  30,  22,   1,  34,   9,  25,  10,  20,  54,   5,\n",
       "         4,  31,  10,   6,  34,  26,  38,  45,  10,   7,  11,   4,  17,\n",
       "        34,   8,   7,  55,  60,  22,  18,  11,  10,  19,  15,   4,   9,\n",
       "        46,  15,   9,  70,  25,  20,  14,   1,  18,  15,   7,  18,  11,\n",
       "        10, 131,  12,  33,   5,  16,   1,  15,   1,   2,  21,   2,   4,\n",
       "        57,  21,  11,  50,  18,  10,  37,  10,   5])"
      ]
     },
     "execution_count": 12,
     "metadata": {},
     "output_type": "execute_result"
    }
   ],
   "source": [
    "기간"
   ]
  },
  {
   "cell_type": "code",
   "execution_count": 13,
   "metadata": {},
   "outputs": [
    {
     "data": {
      "text/plain": [
       "-7920"
      ]
     },
     "execution_count": 13,
     "metadata": {},
     "output_type": "execute_result"
    }
   ],
   "source": [
    "np.sum(기간 * 1 - 100) #100은 우리가 고객 한명한테 쓴 돈)"
   ]
  },
  {
   "cell_type": "code",
   "execution_count": 15,
   "metadata": {},
   "outputs": [
    {
     "data": {
      "text/plain": [
       "40.0"
      ]
     },
     "execution_count": 15,
     "metadata": {},
     "output_type": "execute_result"
    }
   ],
   "source": [
    "np.sum(기간 * 0.5 - 10) # 고객당 0.5만원을 벌어주기 때문에 기간에 곱해주고, 투자한 10만원은 빼준다"
   ]
  },
  {
   "cell_type": "markdown",
   "metadata": {},
   "source": [
    "# 음이항 분포"
   ]
  },
  {
   "cell_type": "code",
   "execution_count": 16,
   "metadata": {},
   "outputs": [
    {
     "data": {
      "text/plain": [
       "44"
      ]
     },
     "execution_count": 16,
     "metadata": {},
     "output_type": "execute_result"
    }
   ],
   "source": [
    "# 골든리트리버 시뮬레이션 (골든리트리버들은 잘 참긔)\n",
    "\n",
    "짜증 = 0\n",
    "기간 = 0\n",
    "while 짜증 < 3: #2번까지는 참는다, 3번째는 못 참는다\n",
    "    사건 = binomial(1,.05) # 5%의 확률로 사건발생 (앞의 숫자는 동전 몇개를 던지느냐)\n",
    "    if 사건 == 1: # 사건이 나면 \n",
    "        짜증 = 짜증 + 1 #짜증이 증가 \n",
    "    기간 = 기간 + 1 #짜증이 안나는 기간도 있으니까 무조건 1씩 증가 \n",
    "기간 # 이 기간일 때, 3번째로 짜증나서 못참는다는 뜻\n",
    "# 음이항 분포로 가면 더 오랫동안 머무름 "
   ]
  },
  {
   "cell_type": "code",
   "execution_count": 19,
   "metadata": {
    "collapsed": true
   },
   "outputs": [
    {
     "data": {
      "text/plain": [
       "[68,\n",
       " 60,\n",
       " 95,\n",
       " 49,\n",
       " 50,\n",
       " 76,\n",
       " 63,\n",
       " 32,\n",
       " 92,\n",
       " 27,\n",
       " 81,\n",
       " 109,\n",
       " 122,\n",
       " 72,\n",
       " 115,\n",
       " 14,\n",
       " 117,\n",
       " 15,\n",
       " 57,\n",
       " 130,\n",
       " 104,\n",
       " 23,\n",
       " 27,\n",
       " 32,\n",
       " 46,\n",
       " 86,\n",
       " 87,\n",
       " 31,\n",
       " 67,\n",
       " 273,\n",
       " 67,\n",
       " 45,\n",
       " 74,\n",
       " 26,\n",
       " 69,\n",
       " 82,\n",
       " 45,\n",
       " 38,\n",
       " 65,\n",
       " 24,\n",
       " 38,\n",
       " 62,\n",
       " 27,\n",
       " 29,\n",
       " 134,\n",
       " 25,\n",
       " 107,\n",
       " 78,\n",
       " 29,\n",
       " 29,\n",
       " 27,\n",
       " 87,\n",
       " 37,\n",
       " 65,\n",
       " 55,\n",
       " 147,\n",
       " 53,\n",
       " 50,\n",
       " 57,\n",
       " 134,\n",
       " 88,\n",
       " 121,\n",
       " 52,\n",
       " 87,\n",
       " 35,\n",
       " 81,\n",
       " 49,\n",
       " 58,\n",
       " 14,\n",
       " 92,\n",
       " 88,\n",
       " 80,\n",
       " 34,\n",
       " 33,\n",
       " 67,\n",
       " 74,\n",
       " 11,\n",
       " 44,\n",
       " 105,\n",
       " 22,\n",
       " 59,\n",
       " 47,\n",
       " 38,\n",
       " 58,\n",
       " 22,\n",
       " 51,\n",
       " 20,\n",
       " 100,\n",
       " 85,\n",
       " 97,\n",
       " 75,\n",
       " 71,\n",
       " 53,\n",
       " 50,\n",
       " 41,\n",
       " 65,\n",
       " 65,\n",
       " 31,\n",
       " 97,\n",
       " 43]"
      ]
     },
     "execution_count": 19,
     "metadata": {},
     "output_type": "execute_result"
    }
   ],
   "source": [
    "폭발 = [] #빈 리스트를 하나 만듬\n",
    "for i in range(100): # 100번반복\n",
    "    짜증 = 0\n",
    "    기간 = 0\n",
    "    while 짜증 < 3: #2번까지는 참는다, 3번째는 못 참는다\n",
    "        사건 = binomial(1,.05) # 5%의 확률로 사건발생\n",
    "        if 사건 == 1: # 사건이 나면 \n",
    "            짜증 = 짜증 + 1 #짜증이 증가 \n",
    "        기간 = 기간 + 1 #짜증이 안나는 기간도 있으니까 무조건 1씩 증가 \n",
    "    폭발.append(기간)\n",
    "폭발"
   ]
  },
  {
   "cell_type": "code",
   "execution_count": 20,
   "metadata": {},
   "outputs": [
    {
     "data": {
      "text/plain": [
       "273"
      ]
     },
     "execution_count": 20,
     "metadata": {},
     "output_type": "execute_result"
    }
   ],
   "source": [
    "max(폭발) "
   ]
  },
  {
   "cell_type": "code",
   "execution_count": 21,
   "metadata": {},
   "outputs": [
    {
     "data": {
      "text/plain": [
       "11"
      ]
     },
     "execution_count": 21,
     "metadata": {},
     "output_type": "execute_result"
    }
   ],
   "source": [
    "min(폭발)"
   ]
  },
  {
   "cell_type": "markdown",
   "metadata": {},
   "source": [
    "# 문제 \n",
    "- 우리 리트리버는 10%의 확률로 짜증이 납니다. 이틀 연속으로 짜증이 나면 화를 냅니다. 리트리버가 화를 낼 때까지 기간을 사뮬레이션 해보세요. "
   ]
  },
  {
   "cell_type": "code",
   "execution_count": 23,
   "metadata": {},
   "outputs": [
    {
     "data": {
      "text/plain": [
       "306"
      ]
     },
     "execution_count": 23,
     "metadata": {},
     "output_type": "execute_result"
    }
   ],
   "source": [
    "짜증 = 0\n",
    "기간 = 0\n",
    "while 짜증 < 3: #2번까지는 참는다, 3번째는 못 참는다\n",
    "    사건 = binomial(2,.1) # 5%의 확률로 사건발생 \n",
    "    if 사건 == 2: # 사건이 나면 \n",
    "        짜증 = 짜증 + 1 #짜증이 증가 \n",
    "    기간 = 기간 + 1 #짜증이 안나는 기간도 있으니까 무조건 1씩 증가 \n",
    "기간\n"
   ]
  },
  {
   "cell_type": "code",
   "execution_count": 18,
   "metadata": {
    "collapsed": true
   },
   "outputs": [
    {
     "data": {
      "text/plain": [
       "[33,\n",
       " 331,\n",
       " 125,\n",
       " 378,\n",
       " 325,\n",
       " 52,\n",
       " 102,\n",
       " 337,\n",
       " 172,\n",
       " 159,\n",
       " 134,\n",
       " 50,\n",
       " 112,\n",
       " 217,\n",
       " 10,\n",
       " 42,\n",
       " 91,\n",
       " 31,\n",
       " 235,\n",
       " 11,\n",
       " 360,\n",
       " 168,\n",
       " 18,\n",
       " 172,\n",
       " 66,\n",
       " 25,\n",
       " 58,\n",
       " 118,\n",
       " 19,\n",
       " 256,\n",
       " 59,\n",
       " 99,\n",
       " 80,\n",
       " 82,\n",
       " 85,\n",
       " 24,\n",
       " 55,\n",
       " 93,\n",
       " 139,\n",
       " 310,\n",
       " 94,\n",
       " 320,\n",
       " 125,\n",
       " 262,\n",
       " 473,\n",
       " 78,\n",
       " 219,\n",
       " 73,\n",
       " 667,\n",
       " 97,\n",
       " 158,\n",
       " 247,\n",
       " 32,\n",
       " 7,\n",
       " 575,\n",
       " 69,\n",
       " 12,\n",
       " 29,\n",
       " 62,\n",
       " 51,\n",
       " 10,\n",
       " 311,\n",
       " 97,\n",
       " 80,\n",
       " 113,\n",
       " 10,\n",
       " 225,\n",
       " 30,\n",
       " 67,\n",
       " 178,\n",
       " 191,\n",
       " 20,\n",
       " 32,\n",
       " 49,\n",
       " 25,\n",
       " 72,\n",
       " 50,\n",
       " 244,\n",
       " 231,\n",
       " 176,\n",
       " 502,\n",
       " 44,\n",
       " 338,\n",
       " 40,\n",
       " 214,\n",
       " 79,\n",
       " 427,\n",
       " 310,\n",
       " 108,\n",
       " 243,\n",
       " 478,\n",
       " 124,\n",
       " 39,\n",
       " 39,\n",
       " 308,\n",
       " 34,\n",
       " 27,\n",
       " 26,\n",
       " 6,\n",
       " 211]"
      ]
     },
     "execution_count": 18,
     "metadata": {},
     "output_type": "execute_result"
    }
   ],
   "source": [
    "#답\n",
    "개판 = []\n",
    "for i in range(100):\n",
    "    한계 = 5 #한계가 커질수록 리트리버는 오래참음 parameter1\n",
    "    옐로카드 = 0 #parameter2\n",
    "    짜증확률 = .4\n",
    "    기간 = 0\n",
    "    while 옐로카드< 한계:\n",
    "        짜증 = binomial(1,짜증확률)\n",
    "        if 짜증 == 1:\n",
    "            옐로카드 += 1 #옐로카드 = 옐로카드 + 1\n",
    "        else:\n",
    "            옐로카드 = 0\n",
    "        기간 += 1\n",
    "    개판.append(기간)\n",
    "\n",
    "개판\n",
    "\n",
    "#지금 기간이 +1 일씩이여서 하루마다 리트리버를 건드렸음. 근데 만약 기간 +2 면? 한번 건들이고 이틀있다가 건들이는 거. \n",
    "# 근데 그렇게 할 필요없이 개판 x2 하면 됨. 왜냐면 매일 건들인다 5일, 이틀동안 건들였을 때는 10일 일거니까..! "
   ]
  },
  {
   "cell_type": "code",
   "execution_count": 19,
   "metadata": {},
   "outputs": [],
   "source": [
    "import seaborn as sb"
   ]
  },
  {
   "cell_type": "code",
   "execution_count": 21,
   "metadata": {},
   "outputs": [
    {
     "data": {
      "text/plain": [
       "<matplotlib.axes._subplots.AxesSubplot at 0x11395fe50>"
      ]
     },
     "execution_count": 21,
     "metadata": {},
     "output_type": "execute_result"
    },
    {
     "data": {
      "image/png": "[encoded data removed]",
      "text/plain": [
       "<Figure size 432x288 with 1 Axes>"
      ]
     },
     "metadata": {
      "needs_background": "light"
     },
     "output_type": "display_data"
    }
   ],
   "source": [
    "sb.distplot(개판)"
   ]
  },
  {
   "cell_type": "code",
   "execution_count": 8,
   "metadata": {},
   "outputs": [],
   "source": [
    "from numpy.random import negative_binomial"
   ]
  },
  {
   "cell_type": "code",
   "execution_count": 18,
   "metadata": {
    "collapsed": true
   },
   "outputs": [
    {
     "name": "stdout",
     "output_type": "stream",
     "text": [
      "Help on built-in function negative_binomial:\n",
      "\n",
      "negative_binomial(...) method of numpy.random.mtrand.RandomState instance\n",
      "    negative_binomial(n, p, size=None)\n",
      "    \n",
      "    Draw samples from a negative binomial distribution.\n",
      "    \n",
      "    Samples are drawn from a negative binomial distribution with specified\n",
      "    parameters, `n` successes and `p` probability of success where `n`\n",
      "    is > 0 and `p` is in the interval [0, 1].\n",
      "    \n",
      "    Parameters\n",
      "    ----------\n",
      "    n : float or array_like of floats\n",
      "        Parameter of the distribution, > 0.\n",
      "    p : float or array_like of floats\n",
      "        Parameter of the distribution, >= 0 and <=1.\n",
      "    size : int or tuple of ints, optional\n",
      "        Output shape.  If the given shape is, e.g., ``(m, n, k)``, then\n",
      "        ``m * n * k`` samples are drawn.  If size is ``None`` (default),\n",
      "        a single value is returned if ``n`` and ``p`` are both scalars.\n",
      "        Otherwise, ``np.broadcast(n, p).size`` samples are drawn.\n",
      "    \n",
      "    Returns\n",
      "    -------\n",
      "    out : ndarray or scalar\n",
      "        Drawn samples from the parameterized negative binomial distribution,\n",
      "        where each sample is equal to N, the number of failures that\n",
      "        occurred before a total of n successes was reached.\n",
      "    \n",
      "    Notes\n",
      "    -----\n",
      "    The probability mass function of the negative binomial distribution is\n",
      "    \n",
      "    .. math:: P(N;n,p) = \\frac{\\Gamma(N+n)}{N!\\Gamma(n)}p^{n}(1-p)^{N},\n",
      "    \n",
      "    where :math:`n` is the number of successes, :math:`p` is the\n",
      "    probability of success, :math:`N+n` is the number of trials, and\n",
      "    :math:`\\Gamma` is the gamma function. When :math:`n` is an integer,\n",
      "    :math:`\\frac{\\Gamma(N+n)}{N!\\Gamma(n)} = \\binom{N+n-1}{N}`, which is\n",
      "    the more common form of this term in the the pmf. The negative\n",
      "    binomial distribution gives the probability of N failures given n\n",
      "    successes, with a success on the last trial.\n",
      "    \n",
      "    If one throws a die repeatedly until the third time a \"1\" appears,\n",
      "    then the probability distribution of the number of non-\"1\"s that\n",
      "    appear before the third \"1\" is a negative binomial distribution.\n",
      "    \n",
      "    References\n",
      "    ----------\n",
      "    .. [1] Weisstein, Eric W. \"Negative Binomial Distribution.\" From\n",
      "           MathWorld--A Wolfram Web Resource.\n",
      "           http://mathworld.wolfram.com/NegativeBinomialDistribution.html\n",
      "    .. [2] Wikipedia, \"Negative binomial distribution\",\n",
      "           https://en.wikipedia.org/wiki/Negative_binomial_distribution\n",
      "    \n",
      "    Examples\n",
      "    --------\n",
      "    Draw samples from the distribution:\n",
      "    \n",
      "    A real world example. A company drills wild-cat oil\n",
      "    exploration wells, each with an estimated probability of\n",
      "    success of 0.1.  What is the probability of having one success\n",
      "    for each successive well, that is what is the probability of a\n",
      "    single success after drilling 5 wells, after 6 wells, etc.?\n",
      "    \n",
      "    >>> s = np.random.negative_binomial(1, 0.1, 100000)\n",
      "    >>> for i in range(1, 11): # doctest: +SKIP\n",
      "    ...    probability = sum(s<i) / 100000.\n",
      "    ...    print(i, \"wells drilled, probability of one success =\", probability)\n",
      "\n"
     ]
    }
   ],
   "source": [
    "help(negative_binomial)"
   ]
  },
  {
   "cell_type": "code",
   "execution_count": 28,
   "metadata": {},
   "outputs": [
    {
     "data": {
      "text/plain": [
       "24"
      ]
     },
     "execution_count": 28,
     "metadata": {},
     "output_type": "execute_result"
    }
   ],
   "source": [
    "negative_binomial(3,.05) #5%의 확률로 짜증이 나고 3번 나면 폭발 \n",
    "                        # 할 때 까지 기간 \n",
    "# negative_binomial(1,.05) # 기하분포랑 똑같아짐 1이니까.. 짜증날때마다 폭발\n",
    "    \n",
    "# negative_binomial(3,.05, 100) # 100마리의 리트리버 "
   ]
  },
  {
   "cell_type": "markdown",
   "metadata": {},
   "source": [
    "# 포아송 분포"
   ]
  },
  {
   "cell_type": "code",
   "execution_count": 25,
   "metadata": {},
   "outputs": [],
   "source": [
    "from numpy.random import poisson"
   ]
  },
  {
   "cell_type": "code",
   "execution_count": 26,
   "metadata": {},
   "outputs": [
    {
     "data": {
      "text/plain": [
       "array([31, 27, 31, 26, 34, 37, 23, 34, 34, 38, 36, 40, 27, 20, 27, 28, 25,\n",
       "       26, 22, 31, 26, 32, 26, 32, 28, 22, 30, 26, 38, 35, 40, 34, 27, 35,\n",
       "       35, 32, 31, 38, 29, 33, 33, 41, 32, 29, 20, 28, 25, 36, 38, 41, 22,\n",
       "       33, 32, 23, 26, 23, 25, 30, 21, 30, 32, 31, 36, 33, 33, 38, 34, 30,\n",
       "       30, 23, 28, 21, 39, 25, 33, 32, 27, 20, 40, 35, 27, 34, 23, 29, 33,\n",
       "       44, 33, 31, 32, 19, 23, 36, 27, 31, 40, 26, 32, 25, 31, 27])"
      ]
     },
     "execution_count": 26,
     "metadata": {},
     "output_type": "execute_result"
    }
   ],
   "source": [
    "poisson(30,50) #하루 평균 30명 방문할 때 50일간 방문인원 수 -> 총 인원수가 없음.(상한이 없음) 그냥 평균적인 방문. "
   ]
  },
  {
   "cell_type": "code",
   "execution_count": 27,
   "metadata": {},
   "outputs": [
    {
     "data": {
      "text/plain": [
       "array([32, 33, 35, 28, 21, 33, 24, 28, 37, 32, 32, 22, 32, 32, 29, 29, 25,\n",
       "       26, 28, 37, 29, 31, 34, 30, 31, 29, 25, 30, 34, 39, 29, 29, 36, 30,\n",
       "       26, 35, 31, 34, 36, 37, 39, 33, 24, 27, 35, 25, 29, 38, 30, 41])"
      ]
     },
     "execution_count": 27,
     "metadata": {},
     "output_type": "execute_result"
    }
   ],
   "source": [
    "binomial(100,.3,50) # (max:상한)100명의 고객이 있고 하루에 30%로 방문한다고 할 때 50일간, 총 인원 수,확률, 기간 -> 그래서 상한(총인원수)가 커지면 포아송이랑 비슷해짐 "
   ]
  },
  {
   "cell_type": "markdown",
   "metadata": {},
   "source": [
    "## 균등분포"
   ]
  },
  {
   "cell_type": "code",
   "execution_count": 29,
   "metadata": {},
   "outputs": [],
   "source": [
    "from numpy.random import uniform"
   ]
  },
  {
   "cell_type": "code",
   "execution_count": 30,
   "metadata": {
    "collapsed": true
   },
   "outputs": [
    {
     "name": "stdout",
     "output_type": "stream",
     "text": [
      "Help on built-in function uniform:\n",
      "\n",
      "uniform(...) method of numpy.random.mtrand.RandomState instance\n",
      "    uniform(low=0.0, high=1.0, size=None)\n",
      "    \n",
      "    Draw samples from a uniform distribution.\n",
      "    \n",
      "    Samples are uniformly distributed over the half-open interval\n",
      "    ``[low, high)`` (includes low, but excludes high).  In other words,\n",
      "    any value within the given interval is equally likely to be drawn\n",
      "    by `uniform`.\n",
      "    \n",
      "    Parameters\n",
      "    ----------\n",
      "    low : float or array_like of floats, optional\n",
      "        Lower boundary of the output interval.  All values generated will be\n",
      "        greater than or equal to low.  The default value is 0.\n",
      "    high : float or array_like of floats\n",
      "        Upper boundary of the output interval.  All values generated will be\n",
      "        less than high.  The default value is 1.0.\n",
      "    size : int or tuple of ints, optional\n",
      "        Output shape.  If the given shape is, e.g., ``(m, n, k)``, then\n",
      "        ``m * n * k`` samples are drawn.  If size is ``None`` (default),\n",
      "        a single value is returned if ``low`` and ``high`` are both scalars.\n",
      "        Otherwise, ``np.broadcast(low, high).size`` samples are drawn.\n",
      "    \n",
      "    Returns\n",
      "    -------\n",
      "    out : ndarray or scalar\n",
      "        Drawn samples from the parameterized uniform distribution.\n",
      "    \n",
      "    See Also\n",
      "    --------\n",
      "    randint : Discrete uniform distribution, yielding integers.\n",
      "    random_integers : Discrete uniform distribution over the closed\n",
      "                      interval ``[low, high]``.\n",
      "    random_sample : Floats uniformly distributed over ``[0, 1)``.\n",
      "    random : Alias for `random_sample`.\n",
      "    rand : Convenience function that accepts dimensions as input, e.g.,\n",
      "           ``rand(2,2)`` would generate a 2-by-2 array of floats,\n",
      "           uniformly distributed over ``[0, 1)``.\n",
      "    \n",
      "    Notes\n",
      "    -----\n",
      "    The probability density function of the uniform distribution is\n",
      "    \n",
      "    .. math:: p(x) = \\frac{1}{b - a}\n",
      "    \n",
      "    anywhere within the interval ``[a, b)``, and zero elsewhere.\n",
      "    \n",
      "    When ``high`` == ``low``, values of ``low`` will be returned.\n",
      "    If ``high`` < ``low``, the results are officially undefined\n",
      "    and may eventually raise an error, i.e. do not rely on this\n",
      "    function to behave when passed arguments satisfying that\n",
      "    inequality condition.\n",
      "    \n",
      "    Examples\n",
      "    --------\n",
      "    Draw samples from the distribution:\n",
      "    \n",
      "    >>> s = np.random.uniform(-1,0,1000)\n",
      "    \n",
      "    All values are within the given interval:\n",
      "    \n",
      "    >>> np.all(s >= -1)\n",
      "    True\n",
      "    >>> np.all(s < 0)\n",
      "    True\n",
      "    \n",
      "    Display the histogram of the samples, along with the\n",
      "    probability density function:\n",
      "    \n",
      "    >>> import matplotlib.pyplot as plt\n",
      "    >>> count, bins, ignored = plt.hist(s, 15, density=True)\n",
      "    >>> plt.plot(bins, np.ones_like(bins), linewidth=2, color='r')\n",
      "    >>> plt.show()\n",
      "\n"
     ]
    }
   ],
   "source": [
    "help(uniform)"
   ]
  },
  {
   "cell_type": "code",
   "execution_count": 32,
   "metadata": {},
   "outputs": [
    {
     "data": {
      "text/plain": [
       "16.416780685585557"
      ]
     },
     "execution_count": 32,
     "metadata": {},
     "output_type": "execute_result"
    }
   ],
   "source": [
    "uniform(10,20) #최소값 10에서 최대값 20까지 사이에서 균등하게"
   ]
  },
  {
   "cell_type": "code",
   "execution_count": 35,
   "metadata": {},
   "outputs": [
    {
     "data": {
      "text/plain": [
       "2"
      ]
     },
     "execution_count": 35,
     "metadata": {},
     "output_type": "execute_result"
    }
   ],
   "source": [
    "int(uniform(1,10)) #위의 내용을 정수로 바꾼다 "
   ]
  },
  {
   "cell_type": "code",
   "execution_count": 45,
   "metadata": {},
   "outputs": [],
   "source": [
    "# 사각형 안에 마름모 꼴을 그려서(사각형) 콩을 균등하게 던지면 절반씩 들어가짐 \n",
    "x = uniform(-1,1, 1000)\n",
    "y = uniform(-1,1, 1000) #좌표를 1000개씩 찍음\n"
   ]
  },
  {
   "cell_type": "code",
   "execution_count": 47,
   "metadata": {},
   "outputs": [
    {
     "data": {
      "text/plain": [
       "0.497"
      ]
     },
     "execution_count": 47,
     "metadata": {},
     "output_type": "execute_result"
    }
   ],
   "source": [
    "np.abs(x+y) < 1 #abs: 절대값 함수\n",
    "np.mean(np.abs(x)+ (np.abs(y)) < 1) # x의 절대값과 y의 절대값을 더한 후 평균 0.5에 가까운 수가 나옴 "
   ]
  },
  {
   "cell_type": "code",
   "execution_count": 50,
   "metadata": {},
   "outputs": [
    {
     "data": {
      "text/plain": [
       "3.14272"
      ]
     },
     "execution_count": 50,
     "metadata": {},
     "output_type": "execute_result"
    }
   ],
   "source": [
    "# 사각형 안의 원, 원주율 구하기 (점을 균등하게 찍을 때, 원의 넓이만큼 들어가야함)\n",
    "x = uniform(-1,1, 100000)\n",
    "y = uniform(-1,1, 100000)\n",
    "np.mean(x**2+y**2 <1)*4 # 4를 안 곱하면 0.78정도 나오는데, 점이 원의 78%정도 들어감. 근데 원의 넓이는 4여서 4를 곱해서 원주율을 구해줌.\n",
    "# 원의 넓이를 구할 수 있을 때, 점을 랜덤하게 균등하게 찍으면 원주율을 구할 수 있다. \n",
    "# 적분 문제임 사실 이건 이해 안해도 된다~~~~"
   ]
  },
  {
   "cell_type": "markdown",
   "metadata": {},
   "source": [
    "#  정규분포"
   ]
  },
  {
   "cell_type": "code",
   "execution_count": 51,
   "metadata": {},
   "outputs": [],
   "source": [
    "from numpy.random import normal"
   ]
  },
  {
   "cell_type": "code",
   "execution_count": 56,
   "metadata": {},
   "outputs": [
    {
     "data": {
      "text/plain": [
       "10.421438394943543"
      ]
     },
     "execution_count": 56,
     "metadata": {},
     "output_type": "execute_result"
    }
   ],
   "source": [
    "normal(10,1) # 10 주변에서 많이 나오는 데, 뒤의 숫자를 작게해주면 좁은 범위, 넓게해주면 넓은 범위로 나온다. "
   ]
  },
  {
   "cell_type": "code",
   "execution_count": 57,
   "metadata": {},
   "outputs": [
    {
     "data": {
      "text/plain": [
       "13.019730825234928"
      ]
     },
     "execution_count": 57,
     "metadata": {},
     "output_type": "execute_result"
    }
   ],
   "source": [
    "normal(10,5) #뒤의 숫자는 표준편차"
   ]
  },
  {
   "cell_type": "code",
   "execution_count": 66,
   "metadata": {},
   "outputs": [],
   "source": [
    "하루매출 = normal(50,20,100) #고객 100명이 평균 50만원(표준편차20만원) #정규분포는 양쪽 방향이 무한대이기 때문에 -값이 나올 수도 있음 "
   ]
  },
  {
   "cell_type": "code",
   "execution_count": 67,
   "metadata": {},
   "outputs": [],
   "source": [
    "기간 = geometric(.05,100) "
   ]
  },
  {
   "cell_type": "code",
   "execution_count": 68,
   "metadata": {
    "collapsed": true
   },
   "outputs": [
    {
     "data": {
      "text/plain": [
       "array([ 230.39768586,  711.29031355, 1039.44378382,  203.60539601,\n",
       "         50.15668768,   27.88928374,  555.89607837,  504.18871299,\n",
       "        764.43594954, 4767.45643053, 1388.33818184,  250.79336993,\n",
       "         49.39340516,  302.64586639,  715.53556093, 4650.45301517,\n",
       "       1010.58914036,  382.19768887,  -52.2928199 ,  334.05791053,\n",
       "       3095.73348122,  298.66706571,  107.57667199,  494.6719726 ,\n",
       "       2358.85733125,  767.18504081, 1018.77985758, 5348.89122807,\n",
       "        370.22270012,   53.31178619, 3260.48542335,  354.60499905,\n",
       "        244.17717074,  452.71210642, 1098.02963345,  879.83506773,\n",
       "         65.15009471,  104.54808938,  133.25289039,  270.33616991,\n",
       "        180.61224199, 1942.2493021 ,  398.90617036, 1276.46836195,\n",
       "        207.27468384, 1133.27219811, 5033.38696594,  238.00709968,\n",
       "        455.02452915,  497.66251563,  109.2360037 ,  215.11394291,\n",
       "       7968.26732416,  203.8451313 ,  157.41270225,  108.64030903,\n",
       "        541.44386646,  226.25862676, 1821.83314399,  667.72245643,\n",
       "        661.74882894, 1173.55256444, 1656.096883  ,  493.39848234,\n",
       "        342.5573767 ,  628.10597476, 1743.35554325, 1734.09323435,\n",
       "        438.7536463 ,  273.6751475 , 1873.31802714,  257.30584284,\n",
       "         27.17206652,  443.2555678 , 1021.72638551,  364.33054368,\n",
       "       1948.21671563,  242.74495102,  597.51698447, 4112.37920225,\n",
       "       1304.73245523, 2062.90450971,  308.59770226, 2936.76208986,\n",
       "       2475.52709465,  974.02056682,   79.50706109,  554.34132834,\n",
       "        220.4238702 ,  273.80517252,  992.27425693,  741.84136332,\n",
       "        557.56985645,  262.60003244, 2068.06390195,  316.99841022,\n",
       "       1006.93664441,  783.80822752,  683.16259808,  403.25647876])"
      ]
     },
     "execution_count": 68,
     "metadata": {},
     "output_type": "execute_result"
    }
   ],
   "source": [
    "기간 * 하루매출"
   ]
  },
  {
   "cell_type": "code",
   "execution_count": 70,
   "metadata": {},
   "outputs": [
    {
     "data": {
      "text/plain": [
       "array([0, 1, 0, 1, 1, 1, 1, 0, 1, 0, 1, 0, 0, 0, 0, 1, 1, 1, 1, 1, 1, 1,\n",
       "       1, 1, 1, 1, 1, 0, 1, 1, 1, 0, 1, 1, 1, 0, 0, 0, 0, 1, 1, 1, 1, 0,\n",
       "       1, 0, 0, 1, 0, 1, 0, 1, 0, 0, 1, 0, 0, 0, 1, 0, 1, 1, 1, 0, 1, 0,\n",
       "       0, 1, 0, 1, 0, 0, 1, 1, 1, 1, 0, 1, 1, 1, 1, 0, 0, 0, 0, 0, 0, 0,\n",
       "       1, 0, 1, 1, 1, 0, 0, 0, 1, 1, 1, 0])"
      ]
     },
     "execution_count": 70,
     "metadata": {},
     "output_type": "execute_result"
    }
   ],
   "source": [
    "유저집단 = binomial(1,0.5,100)\n",
    "# 유저집단 = binomial(1,0.1,100) 이면 헤비유저가 나올 확률이 0.1이라는 뜻!\n",
    "유저집단 #0이면 라이트유저, 1이면 헤비유저 "
   ]
  },
  {
   "cell_type": "code",
   "execution_count": 71,
   "metadata": {
    "collapsed": true
   },
   "outputs": [
    {
     "data": {
      "text/plain": [
       "[21.279313116792466,\n",
       " 95.7528922057704,\n",
       " 25.731866039950724,\n",
       " 98.10726417870823,\n",
       " 101.14459787081805,\n",
       " 95.88783469838815,\n",
       " 110.02691482436825,\n",
       " 37.84647705161106,\n",
       " 95.63511086057181,\n",
       " 48.51646611569558,\n",
       " 124.92929070178285,\n",
       " 31.861881141597987,\n",
       " 24.82203025780616,\n",
       " 31.471914097043456,\n",
       " 21.505706040085393,\n",
       " 99.24114875299878,\n",
       " 103.58234236138978,\n",
       " 103.51476746072551,\n",
       " 104.09409146882045,\n",
       " 88.38008617551841,\n",
       " 116.72015451653259,\n",
       " 89.70328100704005,\n",
       " 106.40161753872826,\n",
       " 106.22595568798678,\n",
       " 89.43714349428195,\n",
       " 103.90521074786392,\n",
       " 95.07101934831218,\n",
       " 23.42791570045133,\n",
       " 91.57667162619927,\n",
       " 104.28179841189335,\n",
       " 92.30732865378995,\n",
       " 18.098251544248544,\n",
       " 113.36515403842684,\n",
       " 101.24163357968243,\n",
       " 111.06692329949911,\n",
       " 30.082495477733794,\n",
       " 10.16539148159303,\n",
       " 49.41256000579502,\n",
       " 16.9900453578864,\n",
       " 108.25616342439783,\n",
       " 88.50181400018882,\n",
       " 105.17824014567951,\n",
       " 111.73026314420622,\n",
       " 36.45628767282573,\n",
       " 87.53244136319138,\n",
       " 36.88027954274699,\n",
       " 47.27586501542879,\n",
       " 83.61852055227274,\n",
       " 42.27686761279648,\n",
       " 106.68816307450788,\n",
       " 36.29095710430738,\n",
       " 88.80708877627893,\n",
       " 30.027164314521016,\n",
       " 16.626693424315846,\n",
       " 94.56247288299987,\n",
       " 28.131344192188717,\n",
       " 39.89798523481977,\n",
       " 46.506890264477434,\n",
       " 107.43683223471608,\n",
       " 37.95623172568757,\n",
       " 105.32249447407078,\n",
       " 97.71553270444376,\n",
       " 99.87720642306584,\n",
       " 18.184005419552147,\n",
       " 80.18386317400238,\n",
       " 19.153098405222927,\n",
       " 29.539549751975198,\n",
       " 60.77148762712314,\n",
       " 25.02141860956111,\n",
       " 84.94466839072146,\n",
       " 53.479969643510024,\n",
       " 44.70624872291632,\n",
       " 103.53600294399358,\n",
       " 108.14041383701884,\n",
       " 91.02919078357642,\n",
       " 94.88412674296136,\n",
       " 30.624232289611236,\n",
       " 104.86395160343494,\n",
       " 81.28757206218512,\n",
       " 90.49622235299913,\n",
       " 97.28570174357621,\n",
       " 35.19335183699554,\n",
       " 29.765349108034194,\n",
       " 48.900386651978806,\n",
       " 32.44667304418163,\n",
       " 35.53446894629877,\n",
       " 34.69159192361673,\n",
       " 31.44908426634478,\n",
       " 90.90534365892975,\n",
       " 37.936724383408105,\n",
       " 103.40270572386198,\n",
       " 87.35968899137058,\n",
       " 92.80343113265499,\n",
       " 32.55614570749594,\n",
       " 34.03115833938759,\n",
       " 34.53224336979712,\n",
       " 103.95477057356278,\n",
       " 97.98377867374849,\n",
       " 105.24313164453392,\n",
       " 23.771014579014032]"
      ]
     },
     "execution_count": 71,
     "metadata": {},
     "output_type": "execute_result"
    }
   ],
   "source": [
    "총매출 = []\n",
    "for 유저 in 유저집단:\n",
    "    if 유저 == 0:\n",
    "        매출 = normal(30,10) #평균 30만원, 10은 표준편차 \n",
    "    else: #헤비유저\n",
    "        매출 = normal(100,10) #평균 100만원 \n",
    "    총매출.append(매출)\n",
    "총매출"
   ]
  },
  {
   "cell_type": "markdown",
   "metadata": {},
   "source": [
    "# 다항분포"
   ]
  },
  {
   "cell_type": "code",
   "execution_count": 72,
   "metadata": {},
   "outputs": [],
   "source": [
    "from numpy.random import multinomial #멀티노미얼 (바이노미얼이라고 비슷한데 주사위 던지기라고 생각하면 됨. 경우의 수가 더 많아짐)"
   ]
  },
  {
   "cell_type": "code",
   "execution_count": 77,
   "metadata": {},
   "outputs": [
    {
     "data": {
      "text/plain": [
       "array([0, 1, 0, 0])"
      ]
     },
     "execution_count": 77,
     "metadata": {},
     "output_type": "execute_result"
    }
   ],
   "source": [
    "multinomial(1,[.5,.2,.2,.1]) #주사위 하나, 4면체(다 더해서 1이 되어야함)"
   ]
  },
  {
   "cell_type": "code",
   "execution_count": 78,
   "metadata": {},
   "outputs": [
    {
     "data": {
      "text/plain": [
       "array([5, 2, 1, 2])"
      ]
     },
     "execution_count": 78,
     "metadata": {},
     "output_type": "execute_result"
    }
   ],
   "source": [
    "multinomial(10,[.5,.2,.2,.1])"
   ]
  },
  {
   "cell_type": "code",
   "execution_count": 80,
   "metadata": {},
   "outputs": [
    {
     "data": {
      "text/plain": [
       "array([3, 7])"
      ]
     },
     "execution_count": 80,
     "metadata": {},
     "output_type": "execute_result"
    }
   ],
   "source": [
    "multinomial(10,[.3,.7]) #여러가지 경우의 수에서 각각 몇 %가 나오느냐를 정의하면 시뮬레이션 해줌 "
   ]
  },
  {
   "cell_type": "code",
   "execution_count": 81,
   "metadata": {},
   "outputs": [
    {
     "data": {
      "text/plain": [
       "3"
      ]
     },
     "execution_count": 81,
     "metadata": {},
     "output_type": "execute_result"
    }
   ],
   "source": [
    "binomial(10,.3) "
   ]
  },
  {
   "cell_type": "code",
   "execution_count": 82,
   "metadata": {},
   "outputs": [
    {
     "data": {
      "text/plain": [
       "array([44, 40, 16])"
      ]
     },
     "execution_count": 82,
     "metadata": {},
     "output_type": "execute_result"
    }
   ],
   "source": [
    "multinomial(100,[.5,.3,.2]) #명동의 한 식당에 100명이 방문한다. 한국,중국,일본 고객들이 각각 50%, 30%,20% 이 올 확률."
   ]
  },
  {
   "cell_type": "code",
   "execution_count": 84,
   "metadata": {
    "collapsed": true
   },
   "outputs": [
    {
     "data": {
      "text/plain": [
       "array([[52, 32, 16],\n",
       "       [49, 34, 17],\n",
       "       [50, 20, 30],\n",
       "       [56, 27, 17],\n",
       "       [50, 28, 22],\n",
       "       [51, 35, 14],\n",
       "       [44, 36, 20],\n",
       "       [52, 27, 21],\n",
       "       [59, 27, 14],\n",
       "       [47, 30, 23],\n",
       "       [49, 26, 25],\n",
       "       [53, 27, 20],\n",
       "       [52, 27, 21],\n",
       "       [57, 29, 14],\n",
       "       [46, 38, 16],\n",
       "       [52, 32, 16],\n",
       "       [44, 38, 18],\n",
       "       [58, 25, 17],\n",
       "       [48, 29, 23],\n",
       "       [57, 31, 12],\n",
       "       [53, 26, 21],\n",
       "       [53, 28, 19],\n",
       "       [51, 27, 22],\n",
       "       [54, 30, 16],\n",
       "       [59, 29, 12],\n",
       "       [53, 29, 18],\n",
       "       [43, 31, 26],\n",
       "       [49, 33, 18],\n",
       "       [46, 34, 20],\n",
       "       [46, 33, 21]])"
      ]
     },
     "execution_count": 84,
     "metadata": {},
     "output_type": "execute_result"
    }
   ],
   "source": [
    "multinomial(100,[.5,.3,.2], 30) #뒤의 30번은 횟수 -> 30일동안 방문했다고 생각. "
   ]
  },
  {
   "cell_type": "markdown",
   "metadata": {},
   "source": [
    "# 지수분포"
   ]
  },
  {
   "cell_type": "code",
   "execution_count": 2,
   "metadata": {},
   "outputs": [],
   "source": [
    "from numpy.random import exponential"
   ]
  },
  {
   "cell_type": "code",
   "execution_count": 3,
   "metadata": {
    "collapsed": true
   },
   "outputs": [
    {
     "name": "stdout",
     "output_type": "stream",
     "text": [
      "Help on built-in function exponential:\n",
      "\n",
      "exponential(...) method of numpy.random.mtrand.RandomState instance\n",
      "    exponential(scale=1.0, size=None)\n",
      "    \n",
      "    Draw samples from an exponential distribution.\n",
      "    \n",
      "    Its probability density function is\n",
      "    \n",
      "    .. math:: f(x; \\frac{1}{\\beta}) = \\frac{1}{\\beta} \\exp(-\\frac{x}{\\beta}),\n",
      "    \n",
      "    for ``x > 0`` and 0 elsewhere. :math:`\\beta` is the scale parameter,\n",
      "    which is the inverse of the rate parameter :math:`\\lambda = 1/\\beta`.\n",
      "    The rate parameter is an alternative, widely used parameterization\n",
      "    of the exponential distribution [3]_.\n",
      "    \n",
      "    The exponential distribution is a continuous analogue of the\n",
      "    geometric distribution.  It describes many common situations, such as\n",
      "    the size of raindrops measured over many rainstorms [1]_, or the time\n",
      "    between page requests to Wikipedia [2]_.\n",
      "    \n",
      "    Parameters\n",
      "    ----------\n",
      "    scale : float or array_like of floats\n",
      "        The scale parameter, :math:`\\beta = 1/\\lambda`. Must be\n",
      "        non-negative.\n",
      "    size : int or tuple of ints, optional\n",
      "        Output shape.  If the given shape is, e.g., ``(m, n, k)``, then\n",
      "        ``m * n * k`` samples are drawn.  If size is ``None`` (default),\n",
      "        a single value is returned if ``scale`` is a scalar.  Otherwise,\n",
      "        ``np.array(scale).size`` samples are drawn.\n",
      "    \n",
      "    Returns\n",
      "    -------\n",
      "    out : ndarray or scalar\n",
      "        Drawn samples from the parameterized exponential distribution.\n",
      "    \n",
      "    References\n",
      "    ----------\n",
      "    .. [1] Peyton Z. Peebles Jr., \"Probability, Random Variables and\n",
      "           Random Signal Principles\", 4th ed, 2001, p. 57.\n",
      "    .. [2] Wikipedia, \"Poisson process\",\n",
      "           https://en.wikipedia.org/wiki/Poisson_process\n",
      "    .. [3] Wikipedia, \"Exponential distribution\",\n",
      "           https://en.wikipedia.org/wiki/Exponential_distribution\n",
      "\n"
     ]
    }
   ],
   "source": [
    "help(exponential)"
   ]
  },
  {
   "cell_type": "code",
   "execution_count": 4,
   "metadata": {},
   "outputs": [
    {
     "data": {
      "text/plain": [
       "13.955281698557966"
      ]
     },
     "execution_count": 4,
     "metadata": {},
     "output_type": "execute_result"
    }
   ],
   "source": [
    "exponential(30) #평균적으로 30분마다 어떤 일이 일어난다)"
   ]
  },
  {
   "cell_type": "code",
   "execution_count": 93,
   "metadata": {},
   "outputs": [
    {
     "data": {
      "text/plain": [
       "array([False,  True, False,  True, False, False, False,  True, False,\n",
       "       False, False, False, False,  True, False, False,  True, False,\n",
       "        True, False, False, False, False,  True, False, False, False,\n",
       "       False, False, False,  True, False, False,  True, False, False,\n",
       "       False, False, False, False,  True,  True, False, False, False,\n",
       "       False, False,  True, False,  True, False, False, False, False,\n",
       "       False,  True,  True, False, False,  True, False,  True,  True,\n",
       "       False, False, False,  True, False,  True, False,  True, False,\n",
       "        True, False,  True, False, False, False, False, False, False,\n",
       "        True,  True,  True, False,  True, False, False, False, False,\n",
       "       False, False,  True, False, False, False, False,  True, False,\n",
       "       False])"
      ]
     },
     "execution_count": 93,
     "metadata": {},
     "output_type": "execute_result"
    }
   ],
   "source": [
    "리드타임 = 10 # 고객응대시간\n",
    "exponential(30,100) < 리드타임 #30분마다 어떤일이 일어난다, 100명의 고객\n",
    "# true = 응대, faluse = 놓침 "
   ]
  },
  {
   "cell_type": "code",
   "execution_count": 94,
   "metadata": {},
   "outputs": [
    {
     "data": {
      "text/plain": [
       "0.29"
      ]
     },
     "execution_count": 94,
     "metadata": {},
     "output_type": "execute_result"
    }
   ],
   "source": [
    "np.mean(exponential(30,100) < 리드타임 )# 리드타임 이내 도착 고객 비율 "
   ]
  },
  {
   "cell_type": "code",
   "execution_count": 97,
   "metadata": {},
   "outputs": [
    {
     "data": {
      "text/plain": [
       "0.032"
      ]
     },
     "execution_count": 97,
     "metadata": {},
     "output_type": "execute_result"
    }
   ],
   "source": [
    "알바 = 10\n",
    "리드타임 = 10/ 알바\n",
    "np.mean(exponential(30,1000) < 리드타임 )"
   ]
  },
  {
   "cell_type": "code",
   "execution_count": null,
   "metadata": {},
   "outputs": [],
   "source": []
  }
 ],
 "metadata": {
  "kernelspec": {
   "display_name": "Python 3",
   "language": "python",
   "name": "python3"
  },
  "language_info": {
   "codemirror_mode": {
    "name": "ipython",
    "version": 3
   },
   "file_extension": ".py",
   "mimetype": "text/x-python",
   "name": "python",
   "nbconvert_exporter": "python",
   "pygments_lexer": "ipython3",
   "version": "3.7.4"
  }
 },
 "nbformat": 4,
 "nbformat_minor": 2
}
