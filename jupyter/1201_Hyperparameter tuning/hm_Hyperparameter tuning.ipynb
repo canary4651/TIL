{
 "cells": [
  {
   "cell_type": "code",
   "execution_count": 6,
   "metadata": {},
   "outputs": [],
   "source": [
    "import pandas as pd\n",
    "import numpy as np\n",
    "from sklearn.model_selection import GridSearchCV\n",
    "from sklearn.model_selection import RandomizedSearchCV"
   ]
  },
  {
   "cell_type": "code",
   "execution_count": 7,
   "metadata": {},
   "outputs": [],
   "source": [
    "import seaborn as sns\n",
    "import matplotlib.pyplot as plt \n",
    "\n",
    "from sklearn.ensemble import RandomForestClassifier\n"
   ]
  },
  {
   "cell_type": "code",
   "execution_count": 5,
   "metadata": {},
   "outputs": [
    {
     "data": {
      "text/html": [
       "<div>\n",
       "<style scoped>\n",
       "    .dataframe tbody tr th:only-of-type {\n",
       "        vertical-align: middle;\n",
       "    }\n",
       "\n",
       "    .dataframe tbody tr th {\n",
       "        vertical-align: top;\n",
       "    }\n",
       "\n",
       "    .dataframe thead th {\n",
       "        text-align: right;\n",
       "    }\n",
       "</style>\n",
       "<table border=\"1\" class=\"dataframe\">\n",
       "  <thead>\n",
       "    <tr style=\"text-align: right;\">\n",
       "      <th></th>\n",
       "      <th>label</th>\n",
       "      <th>pixel0</th>\n",
       "      <th>pixel1</th>\n",
       "      <th>pixel2</th>\n",
       "      <th>pixel3</th>\n",
       "      <th>pixel4</th>\n",
       "      <th>pixel5</th>\n",
       "      <th>pixel6</th>\n",
       "      <th>pixel7</th>\n",
       "      <th>pixel8</th>\n",
       "      <th>...</th>\n",
       "      <th>pixel774</th>\n",
       "      <th>pixel775</th>\n",
       "      <th>pixel776</th>\n",
       "      <th>pixel777</th>\n",
       "      <th>pixel778</th>\n",
       "      <th>pixel779</th>\n",
       "      <th>pixel780</th>\n",
       "      <th>pixel781</th>\n",
       "      <th>pixel782</th>\n",
       "      <th>pixel783</th>\n",
       "    </tr>\n",
       "  </thead>\n",
       "  <tbody>\n",
       "    <tr>\n",
       "      <td>31727</td>\n",
       "      <td>3</td>\n",
       "      <td>0</td>\n",
       "      <td>0</td>\n",
       "      <td>0</td>\n",
       "      <td>0</td>\n",
       "      <td>0</td>\n",
       "      <td>0</td>\n",
       "      <td>0</td>\n",
       "      <td>0</td>\n",
       "      <td>0</td>\n",
       "      <td>...</td>\n",
       "      <td>0</td>\n",
       "      <td>0</td>\n",
       "      <td>0</td>\n",
       "      <td>0</td>\n",
       "      <td>0</td>\n",
       "      <td>0</td>\n",
       "      <td>0</td>\n",
       "      <td>0</td>\n",
       "      <td>0</td>\n",
       "      <td>0</td>\n",
       "    </tr>\n",
       "  </tbody>\n",
       "</table>\n",
       "<p>1 rows × 785 columns</p>\n",
       "</div>"
      ],
      "text/plain": [
       "       label  pixel0  pixel1  pixel2  pixel3  pixel4  pixel5  pixel6  pixel7  \\\n",
       "31727      3       0       0       0       0       0       0       0       0   \n",
       "\n",
       "       pixel8  ...  pixel774  pixel775  pixel776  pixel777  pixel778  \\\n",
       "31727       0  ...         0         0         0         0         0   \n",
       "\n",
       "       pixel779  pixel780  pixel781  pixel782  pixel783  \n",
       "31727         0         0         0         0         0  \n",
       "\n",
       "[1 rows x 785 columns]"
      ]
     },
     "execution_count": 5,
     "metadata": {},
     "output_type": "execute_result"
    }
   ],
   "source": [
    "train = pd.read_csv('./data/train.csv')\n",
    "train.sample()"
   ]
  },
  {
   "cell_type": "markdown",
   "metadata": {},
   "source": [
    "## Preprocession"
   ]
  },
  {
   "cell_type": "code",
   "execution_count": 8,
   "metadata": {},
   "outputs": [],
   "source": [
    "y=train['label']\n",
    "x=train.drop('label', axis=1)"
   ]
  },
  {
   "cell_type": "markdown",
   "metadata": {},
   "source": [
    "## Grid Search"
   ]
  },
  {
   "cell_type": "code",
   "execution_count": 9,
   "metadata": {},
   "outputs": [],
   "source": [
    "forest = RandomForestClassifier(random_state=42)"
   ]
  },
  {
   "cell_type": "code",
   "execution_count": 10,
   "metadata": {},
   "outputs": [],
   "source": [
    "\n",
    "\n",
    "param_grid = [\n",
    "    {'n_estimators' : [5],\n",
    "    'max_features' : [0.3, 0.4],  # 작으면 작을수록 랜덤한 성격이 들어간다\n",
    "    'bootstrap' : [True,False]} \n",
    "]"
   ]
  },
  {
   "cell_type": "code",
   "execution_count": 11,
   "metadata": {},
   "outputs": [],
   "source": [
    "grid_search = GridSearchCV(forest,\n",
    "                          param_grid,\n",
    "                          cv=2,\n",
    "                          scoring='accuracy',\n",
    "                          return_train_score=True,\n",
    "                           # train data에 대해서도 score를 쓸꺼냐?는 문제라서 크게 중요하지는 않다\n",
    "                           #-> train data는 어차피 score가 높으니깐\n",
    "                           #-> but, train과 test의 score가 너무 많이 다를 경우에는 중요할 수 있다\n",
    "                           #(train만 점수가 높으면 train에만 맞춰서 fitting이 된 경우니깐)\n",
    "                          n_jobs=-1, # -1은 내가 쓰고있는 코어를 다 쓰겠다\n",
    "                          verbose=1)"
   ]
  },
  {
   "cell_type": "code",
   "execution_count": 13,
   "metadata": {},
   "outputs": [
    {
     "name": "stdout",
     "output_type": "stream",
     "text": [
      "Fitting 2 folds for each of 8 candidates, totalling 16 fits\n"
     ]
    },
    {
     "name": "stderr",
     "output_type": "stream",
     "text": [
      "[Parallel(n_jobs=-1)]: Using backend LokyBackend with 4 concurrent workers.\n",
      "[Parallel(n_jobs=-1)]: Done  16 out of  16 | elapsed:  7.4min finished\n"
     ]
    },
    {
     "data": {
      "text/plain": [
       "GridSearchCV(cv=2, error_score='raise-deprecating',\n",
       "             estimator=RandomForestClassifier(bootstrap=True, class_weight=None,\n",
       "                                              criterion='gini', max_depth=None,\n",
       "                                              max_features='auto',\n",
       "                                              max_leaf_nodes=None,\n",
       "                                              min_impurity_decrease=0.0,\n",
       "                                              min_impurity_split=None,\n",
       "                                              min_samples_leaf=1,\n",
       "                                              min_samples_split=2,\n",
       "                                              min_weight_fraction_leaf=0.0,\n",
       "                                              n_estimators='warn', n_jobs=None,\n",
       "                                              oob_score=False, random_state=42,\n",
       "                                              verbose=0, warm_start=False),\n",
       "             iid='warn', n_jobs=-1,\n",
       "             param_grid=[{'bootstrap': [True, False],\n",
       "                          'max_features': [0.5, 0.7, 0.9, None],\n",
       "                          'n_estimators': [10]}],\n",
       "             pre_dispatch='2*n_jobs', refit=True, return_train_score=True,\n",
       "             scoring='accuracy', verbose=1)"
      ]
     },
     "execution_count": 13,
     "metadata": {},
     "output_type": "execute_result"
    }
   ],
   "source": [
    "grid_search.fit(x,y)"
   ]
  },
  {
   "cell_type": "code",
   "execution_count": 15,
   "metadata": {},
   "outputs": [
    {
     "data": {
      "text/plain": [
       "{'bootstrap': False, 'max_features': 0.5, 'n_estimators': 10}"
      ]
     },
     "execution_count": 15,
     "metadata": {},
     "output_type": "execute_result"
    }
   ],
   "source": [
    "grid_search.best_params_"
   ]
  },
  {
   "cell_type": "code",
   "execution_count": 17,
   "metadata": {},
   "outputs": [
    {
     "data": {
      "text/plain": [
       "{'mean_fit_time': array([ 54.59549248,  75.81872749,  90.19173241,  97.45577705,\n",
       "         78.03102732, 104.69799519, 139.43310249, 150.95578575]),\n",
       " 'std_fit_time': array([0.50913918, 1.02077341, 1.88044333, 0.94746959, 0.03021145,\n",
       "        0.54055405, 0.77891815, 0.21292758]),\n",
       " 'mean_score_time': array([0.44730294, 0.48869514, 0.37657213, 0.3744992 , 0.55351591,\n",
       "        0.35953748, 0.39394665, 0.33659887]),\n",
       " 'std_score_time': array([0.01246727, 0.02992082, 0.03647995, 0.0174526 , 0.14262223,\n",
       "        0.00548589, 0.07978678, 0.00348878]),\n",
       " 'param_bootstrap': masked_array(data=[True, True, True, True, False, False, False, False],\n",
       "              mask=[False, False, False, False, False, False, False, False],\n",
       "        fill_value='?',\n",
       "             dtype=object),\n",
       " 'param_max_features': masked_array(data=[0.5, 0.7, 0.9, None, 0.5, 0.7, 0.9, None],\n",
       "              mask=[False, False, False, False, False, False, False, False],\n",
       "        fill_value='?',\n",
       "             dtype=object),\n",
       " 'param_n_estimators': masked_array(data=[10, 10, 10, 10, 10, 10, 10, 10],\n",
       "              mask=[False, False, False, False, False, False, False, False],\n",
       "        fill_value='?',\n",
       "             dtype=object),\n",
       " 'params': [{'bootstrap': True, 'max_features': 0.5, 'n_estimators': 10},\n",
       "  {'bootstrap': True, 'max_features': 0.7, 'n_estimators': 10},\n",
       "  {'bootstrap': True, 'max_features': 0.9, 'n_estimators': 10},\n",
       "  {'bootstrap': True, 'max_features': None, 'n_estimators': 10},\n",
       "  {'bootstrap': False, 'max_features': 0.5, 'n_estimators': 10},\n",
       "  {'bootstrap': False, 'max_features': 0.7, 'n_estimators': 10},\n",
       "  {'bootstrap': False, 'max_features': 0.9, 'n_estimators': 10},\n",
       "  {'bootstrap': False, 'max_features': None, 'n_estimators': 10}],\n",
       " 'split0_test_score': array([0.93296196, 0.93148598, 0.92796267, 0.92753416, 0.93905633,\n",
       "        0.93091463, 0.89215826, 0.8526401 ]),\n",
       " 'split1_test_score': array([0.92803734, 0.92670381, 0.9257513 , 0.92370339, 0.9386579 ,\n",
       "        0.92951374, 0.87912559, 0.84497785]),\n",
       " 'mean_test_score': array([0.9305    , 0.92909524, 0.92685714, 0.92561905, 0.93885714,\n",
       "        0.93021429, 0.88564286, 0.84880952]),\n",
       " 'std_test_score': array([0.00246231, 0.00239108, 0.00110569, 0.00191539, 0.00019921,\n",
       "        0.00070045, 0.00651634, 0.00383112]),\n",
       " 'rank_test_score': array([2, 4, 5, 6, 1, 3, 7, 8]),\n",
       " 'split0_train_score': array([0.99866648, 0.99904748, 0.99828547, 0.99847597, 1.        ,\n",
       "        1.        , 1.        , 1.        ]),\n",
       " 'split1_train_score': array([0.99890492, 0.99847641, 0.9980479 , 0.99857163, 1.        ,\n",
       "        1.        , 1.        , 1.        ]),\n",
       " 'mean_train_score': array([0.9987857 , 0.99876195, 0.99816668, 0.9985238 , 1.        ,\n",
       "        1.        , 1.        , 1.        ]),\n",
       " 'std_train_score': array([1.19221091e-04, 2.85537421e-04, 1.18785717e-04, 4.78299329e-05,\n",
       "        0.00000000e+00, 0.00000000e+00, 0.00000000e+00, 0.00000000e+00])}"
      ]
     },
     "execution_count": 17,
     "metadata": {},
     "output_type": "execute_result"
    }
   ],
   "source": [
    "grid_search.cv_results_"
   ]
  },
  {
   "cell_type": "code",
   "execution_count": 19,
   "metadata": {},
   "outputs": [
    {
     "name": "stdout",
     "output_type": "stream",
     "text": [
      "0.9305 {'bootstrap': True, 'max_features': 0.5, 'n_estimators': 10}\n",
      "0.9290952380952381 {'bootstrap': True, 'max_features': 0.7, 'n_estimators': 10}\n",
      "0.9268571428571428 {'bootstrap': True, 'max_features': 0.9, 'n_estimators': 10}\n",
      "0.9256190476190476 {'bootstrap': True, 'max_features': None, 'n_estimators': 10}\n",
      "0.9388571428571428 {'bootstrap': False, 'max_features': 0.5, 'n_estimators': 10}\n",
      "0.9302142857142857 {'bootstrap': False, 'max_features': 0.7, 'n_estimators': 10}\n",
      "0.8856428571428572 {'bootstrap': False, 'max_features': 0.9, 'n_estimators': 10}\n",
      "0.8488095238095238 {'bootstrap': False, 'max_features': None, 'n_estimators': 10}\n"
     ]
    }
   ],
   "source": [
    "cvres = grid_search.cv_results_\n",
    "\n",
    "for mean_score, params in zip(cvres[\"mean_test_score\"], cvres[\"params\"]):\n",
    "    print(mean_score,params)"
   ]
  },
  {
   "cell_type": "markdown",
   "metadata": {},
   "source": [
    "## Random Search"
   ]
  },
  {
   "cell_type": "code",
   "execution_count": 18,
   "metadata": {},
   "outputs": [],
   "source": [
    "from scipy.stats import uniform as sp_uniform # float uniform dist\n",
    "from scipy.stats import randint as sp_randint # int uniform dist"
   ]
  },
  {
   "cell_type": "code",
   "execution_count": 26,
   "metadata": {},
   "outputs": [],
   "source": [
    "param_dist = {'max_features' : sp_uniform(0.3, 0.5),\n",
    "             'bootstrap' : [True, False], \n",
    "             'criterion' : ['gini','entropy'],\n",
    "             'n_estimators' : [5],\n",
    "             'max_depth' : sp_randint(5,25) }"
   ]
  },
  {
   "cell_type": "code",
   "execution_count": 27,
   "metadata": {},
   "outputs": [],
   "source": [
    "random_search = RandomizedSearchCV(forest, param_dist, n_iter=5, cv=2, verbose=1, n_jobs=-1)"
   ]
  },
  {
   "cell_type": "code",
   "execution_count": 28,
   "metadata": {},
   "outputs": [
    {
     "name": "stdout",
     "output_type": "stream",
     "text": [
      "Fitting 2 folds for each of 5 candidates, totalling 10 fits\n"
     ]
    },
    {
     "name": "stderr",
     "output_type": "stream",
     "text": [
      "[Parallel(n_jobs=-1)]: Using backend LokyBackend with 4 concurrent workers.\n",
      "[Parallel(n_jobs=-1)]: Done  10 out of  10 | elapsed:  1.2min finished\n"
     ]
    },
    {
     "data": {
      "text/plain": [
       "RandomizedSearchCV(cv=2, error_score='raise-deprecating',\n",
       "                   estimator=RandomForestClassifier(bootstrap=True,\n",
       "                                                    class_weight=None,\n",
       "                                                    criterion='gini',\n",
       "                                                    max_depth=None,\n",
       "                                                    max_features='auto',\n",
       "                                                    max_leaf_nodes=None,\n",
       "                                                    min_impurity_decrease=0.0,\n",
       "                                                    min_impurity_split=None,\n",
       "                                                    min_samples_leaf=1,\n",
       "                                                    min_samples_split=2,\n",
       "                                                    min_weight_fraction_leaf=0.0,\n",
       "                                                    n_estimators='warn',\n",
       "                                                    n_jobs=None,\n",
       "                                                    oob_sc...\n",
       "                   param_distributions={'bootstrap': [True, False],\n",
       "                                        'criterion': ['gini', 'entropy'],\n",
       "                                        'max_depth': <scipy.stats._distn_infrastructure.rv_frozen object at 0x000002218007E788>,\n",
       "                                        'max_features': <scipy.stats._distn_infrastructure.rv_frozen object at 0x000002218007E348>,\n",
       "                                        'n_estimators': [5]},\n",
       "                   pre_dispatch='2*n_jobs', random_state=None, refit=True,\n",
       "                   return_train_score=False, scoring=None, verbose=1)"
      ]
     },
     "execution_count": 28,
     "metadata": {},
     "output_type": "execute_result"
    }
   ],
   "source": [
    "random_search.fit(x,y)"
   ]
  },
  {
   "cell_type": "code",
   "execution_count": 29,
   "metadata": {},
   "outputs": [
    {
     "name": "stdout",
     "output_type": "stream",
     "text": [
      "20\n",
      "20\n",
      "19\n",
      "20\n",
      "20\n"
     ]
    }
   ],
   "source": [
    "for i in random_search.best_estimator_.estimators_:\n",
    "    print(i.get_depth())"
   ]
  }
 ],
 "metadata": {
  "kernelspec": {
   "display_name": "Python 3",
   "language": "python",
   "name": "python3"
  },
  "language_info": {
   "codemirror_mode": {
    "name": "ipython",
    "version": 3
   },
   "file_extension": ".py",
   "mimetype": "text/x-python",
   "name": "python",
   "nbconvert_exporter": "python",
   "pygments_lexer": "ipython3",
   "version": "3.7.4"
  }
 },
 "nbformat": 4,
 "nbformat_minor": 2
}
