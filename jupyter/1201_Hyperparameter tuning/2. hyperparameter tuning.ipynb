{
 "cells": [
  {
   "cell_type": "markdown",
   "metadata": {},
   "source": [
    "Reference: \n",
    "    * 핸즈온 머신러닝\n",
    "    * http://research.sualab.com/introduction/practice/2019/02/19/bayesian-optimization-overview-1.html\n",
    "    * https://scikit-optimize.github.io/"
   ]
  },
  {
   "cell_type": "code",
   "execution_count": 48,
   "metadata": {},
   "outputs": [],
   "source": [
    "%matplotlib inline\n",
    "\n",
    "# 자료형\n",
    "import pandas as pd\n",
    "import numpy as np\n",
    "\n",
    "# 시각화\n",
    "import seaborn as sns\n",
    "import matplotlib.pyplot as plt\n",
    "\n",
    "# hyperparameter tuning\n",
    "import sklearn.metrics\n",
    "from sklearn.model_selection import GridSearchCV\n",
    "from sklearn.model_selection import RandomizedSearchCV\n",
    "\n",
    "# model\n",
    "from sklearn.ensemble import RandomForestClassifier"
   ]
  },
  {
   "cell_type": "markdown",
   "metadata": {},
   "source": [
    "## Read data"
   ]
  },
  {
   "cell_type": "code",
   "execution_count": 8,
   "metadata": {},
   "outputs": [
    {
     "name": "stdout",
     "output_type": "stream",
     "text": [
      "(42000, 785)\n"
     ]
    },
    {
     "data": {
      "text/html": [
       "<div>\n",
       "<style scoped>\n",
       "    .dataframe tbody tr th:only-of-type {\n",
       "        vertical-align: middle;\n",
       "    }\n",
       "\n",
       "    .dataframe tbody tr th {\n",
       "        vertical-align: top;\n",
       "    }\n",
       "\n",
       "    .dataframe thead th {\n",
       "        text-align: right;\n",
       "    }\n",
       "</style>\n",
       "<table border=\"1\" class=\"dataframe\">\n",
       "  <thead>\n",
       "    <tr style=\"text-align: right;\">\n",
       "      <th></th>\n",
       "      <th>label</th>\n",
       "      <th>pixel0</th>\n",
       "      <th>pixel1</th>\n",
       "      <th>pixel2</th>\n",
       "      <th>pixel3</th>\n",
       "      <th>pixel4</th>\n",
       "      <th>pixel5</th>\n",
       "      <th>pixel6</th>\n",
       "      <th>pixel7</th>\n",
       "      <th>pixel8</th>\n",
       "      <th>...</th>\n",
       "      <th>pixel774</th>\n",
       "      <th>pixel775</th>\n",
       "      <th>pixel776</th>\n",
       "      <th>pixel777</th>\n",
       "      <th>pixel778</th>\n",
       "      <th>pixel779</th>\n",
       "      <th>pixel780</th>\n",
       "      <th>pixel781</th>\n",
       "      <th>pixel782</th>\n",
       "      <th>pixel783</th>\n",
       "    </tr>\n",
       "  </thead>\n",
       "  <tbody>\n",
       "    <tr>\n",
       "      <th>41395</th>\n",
       "      <td>4</td>\n",
       "      <td>0</td>\n",
       "      <td>0</td>\n",
       "      <td>0</td>\n",
       "      <td>0</td>\n",
       "      <td>0</td>\n",
       "      <td>0</td>\n",
       "      <td>0</td>\n",
       "      <td>0</td>\n",
       "      <td>0</td>\n",
       "      <td>...</td>\n",
       "      <td>0</td>\n",
       "      <td>0</td>\n",
       "      <td>0</td>\n",
       "      <td>0</td>\n",
       "      <td>0</td>\n",
       "      <td>0</td>\n",
       "      <td>0</td>\n",
       "      <td>0</td>\n",
       "      <td>0</td>\n",
       "      <td>0</td>\n",
       "    </tr>\n",
       "  </tbody>\n",
       "</table>\n",
       "<p>1 rows × 785 columns</p>\n",
       "</div>"
      ],
      "text/plain": [
       "       label  pixel0  pixel1  pixel2  pixel3  pixel4  pixel5  pixel6  pixel7  \\\n",
       "41395      4       0       0       0       0       0       0       0       0   \n",
       "\n",
       "       pixel8  ...  pixel774  pixel775  pixel776  pixel777  pixel778  \\\n",
       "41395       0  ...         0         0         0         0         0   \n",
       "\n",
       "       pixel779  pixel780  pixel781  pixel782  pixel783  \n",
       "41395         0         0         0         0         0  \n",
       "\n",
       "[1 rows x 785 columns]"
      ]
     },
     "execution_count": 8,
     "metadata": {},
     "output_type": "execute_result"
    }
   ],
   "source": [
    "train = pd.read_csv('../Data/kaggle/digit/train.csv')\n",
    "print(train.shape)\n",
    "train.sample()"
   ]
  },
  {
   "cell_type": "code",
   "execution_count": 9,
   "metadata": {},
   "outputs": [
    {
     "data": {
      "text/plain": [
       "Text(0.5, 1.0, 'label: 1')"
      ]
     },
     "execution_count": 9,
     "metadata": {},
     "output_type": "execute_result"
    },
    {
     "data": {
      "image/png": "[encoded data removed]",
      "text/plain": [
       "<Figure size 432x288 with 1 Axes>"
      ]
     },
     "metadata": {
      "needs_background": "light"
     },
     "output_type": "display_data"
    }
   ],
   "source": [
    "# 숫자 뽑아보기\n",
    "idx = 1000\n",
    "plt.imshow(train.iloc[idx, 1:].values.reshape(28, 28), cmap='gray')\n",
    "plt.title('label: {}'.format(train.iloc[idx, 0]))"
   ]
  },
  {
   "cell_type": "markdown",
   "metadata": {},
   "source": [
    "## EDA"
   ]
  },
  {
   "cell_type": "code",
   "execution_count": 12,
   "metadata": {},
   "outputs": [],
   "source": [
    "# pass"
   ]
  },
  {
   "cell_type": "markdown",
   "metadata": {},
   "source": [
    "## Preprocessing"
   ]
  },
  {
   "cell_type": "code",
   "execution_count": 13,
   "metadata": {},
   "outputs": [],
   "source": [
    "# pass"
   ]
  },
  {
   "cell_type": "code",
   "execution_count": 21,
   "metadata": {},
   "outputs": [],
   "source": [
    "y = train['label']\n",
    "X = train.drop('label', axis=1)"
   ]
  },
  {
   "cell_type": "markdown",
   "metadata": {},
   "source": [
    "## 본격적인 파라미터 튜닝에 앞서,\n",
    "* 머신러닝 기초 교육 마지막입니다! 짝짝짝! 여기까지 수업 들으시느라 고생하셨어요.\n",
    "* 파라미터 튜닝은 맨 마지막에 모델의 정확도를 극대화하기 위한 작업입니다. 이전에 EDA, feature engineering, 모델 선정 등의 작업이 잘 되었을 때에 의미가 있습니다.\n",
    "* 하이퍼 파라미터에 대한 이해가 있을 때에 작업해야 합니다. 파라미터가 모델에서 어떤 역할을 하는지 모르면서 튜닝을 할 수는 없습니다."
   ]
  },
  {
   "cell_type": "markdown",
   "metadata": {},
   "source": [
    "## Grid Search"
   ]
  },
  {
   "cell_type": "code",
   "execution_count": 15,
   "metadata": {},
   "outputs": [],
   "source": [
    "forest = RandomForestClassifier(random_state=42)"
   ]
  },
  {
   "cell_type": "markdown",
   "metadata": {},
   "source": [
    "* n_estimators: 나무 갯수 (컴퓨터가 견디는 한 많이 하면 좋으나, 계산량이 비례해서 늘어납니다.)\n",
    "* max_features: The number of features to consider when looking for the best split:  \n",
    "  (feature 갯수가 많을 때 연산량을 줄일 수 있습니다. / 나무를 더 random하게 만들 수 있습니다..)\n",
    "    - If `int`, then consider max_features features at each split.\n",
    "    - If `float`, then max_features is a fraction and int(max_features * n_features) features are considered at each split.\n",
    "* bootstrap: 복원 추출, 비복원 추출  \n",
    "  (배깅 bagging과 페이스팅 pasting이라고도 합니다.)"
   ]
  },
  {
   "cell_type": "code",
   "execution_count": 34,
   "metadata": {},
   "outputs": [],
   "source": [
    "param_grid = [\n",
    "    {'n_estimators': [100],\n",
    "     'max_features': [0.5, 0.7, 0.9, None],\n",
    "     'bootstrap': [True, False]} \n",
    "]"
   ]
  },
  {
   "cell_type": "code",
   "execution_count": 136,
   "metadata": {},
   "outputs": [
    {
     "name": "stdout",
     "output_type": "stream",
     "text": [
      "['accuracy', 'adjusted_mutual_info_score', 'adjusted_rand_score', 'average_precision', 'balanced_accuracy', 'brier_score_loss', 'completeness_score', 'explained_variance', 'f1', 'f1_macro', 'f1_micro', 'f1_samples', 'f1_weighted', 'fowlkes_mallows_score', 'homogeneity_score', 'jaccard', 'jaccard_macro', 'jaccard_micro', 'jaccard_samples', 'jaccard_weighted', 'max_error', 'mutual_info_score', 'neg_log_loss', 'neg_mean_absolute_error', 'neg_mean_squared_error', 'neg_mean_squared_log_error', 'neg_median_absolute_error', 'normalized_mutual_info_score', 'precision', 'precision_macro', 'precision_micro', 'precision_samples', 'precision_weighted', 'r2', 'recall', 'recall_macro', 'recall_micro', 'recall_samples', 'recall_weighted', 'roc_auc', 'v_measure_score']\n"
     ]
    }
   ],
   "source": [
    "# scoring options\n",
    "print(sorted(sklearn.metrics.SCORERS.keys()))"
   ]
  },
  {
   "cell_type": "code",
   "execution_count": 42,
   "metadata": {},
   "outputs": [],
   "source": [
    "grid_search = GridSearchCV(forest,\n",
    "                           param_grid,\n",
    "                           cv=5,\n",
    "                           random_state=42,\n",
    "                           scoring='accuracy',\n",
    "                           return_train_score=True,\n",
    "                           n_jobs=2,\n",
    "                           verbose=1)"
   ]
  },
  {
   "cell_type": "code",
   "execution_count": 43,
   "metadata": {},
   "outputs": [
    {
     "name": "stdout",
     "output_type": "stream",
     "text": [
      "Fitting 5 folds for each of 8 candidates, totalling 40 fits\n"
     ]
    },
    {
     "name": "stderr",
     "output_type": "stream",
     "text": [
      "[Parallel(n_jobs=2)]: Using backend LokyBackend with 2 concurrent workers.\n",
      "[Parallel(n_jobs=2)]: Done  40 out of  40 | elapsed: 27.7min finished\n"
     ]
    },
    {
     "data": {
      "text/plain": [
       "GridSearchCV(cv=5, error_score='raise-deprecating',\n",
       "             estimator=RandomForestClassifier(bootstrap=True, class_weight=None,\n",
       "                                              criterion='gini', max_depth=None,\n",
       "                                              max_features='auto',\n",
       "                                              max_leaf_nodes=None,\n",
       "                                              min_impurity_decrease=0.0,\n",
       "                                              min_impurity_split=None,\n",
       "                                              min_samples_leaf=1,\n",
       "                                              min_samples_split=2,\n",
       "                                              min_weight_fraction_leaf=0.0,\n",
       "                                              n_estimators='warn', n_jobs=None,\n",
       "                                              oob_score=False, random_state=42,\n",
       "                                              verbose=0, warm_start=False),\n",
       "             iid='warn', n_jobs=2,\n",
       "             param_grid=[{'bootstrap': [True, False],\n",
       "                          'max_features': [0.5, 0.7, 0.9, None],\n",
       "                          'n_estimators': [10]}],\n",
       "             pre_dispatch='2*n_jobs', refit=True, return_train_score=True,\n",
       "             scoring='accuracy', verbose=1)"
      ]
     },
     "execution_count": 43,
     "metadata": {},
     "output_type": "execute_result"
    }
   ],
   "source": [
    "grid_search.fit(X, y)"
   ]
  },
  {
   "cell_type": "markdown",
   "metadata": {},
   "source": [
    "best random forest 모델에 바로 접근할 수 있습니다.  \n",
    "`.predict()`, `.predict_proba()` 처럼 sklearn 모델에 사용할 수 있는 모든 method를 사용할 수 있습니다."
   ]
  },
  {
   "cell_type": "code",
   "execution_count": 137,
   "metadata": {},
   "outputs": [
    {
     "data": {
      "text/plain": [
       "RandomForestClassifier(bootstrap=False, class_weight=None, criterion='gini',\n",
       "                       max_depth=None, max_features=0.5, max_leaf_nodes=None,\n",
       "                       min_impurity_decrease=0.0, min_impurity_split=None,\n",
       "                       min_samples_leaf=1, min_samples_split=2,\n",
       "                       min_weight_fraction_leaf=0.0, n_estimators=10,\n",
       "                       n_jobs=None, oob_score=False, random_state=42, verbose=0,\n",
       "                       warm_start=False)"
      ]
     },
     "execution_count": 137,
     "metadata": {},
     "output_type": "execute_result"
    }
   ],
   "source": [
    "grid_search.best_estimator_\n",
    "# grid_search.best_estimator_.predict()"
   ]
  },
  {
   "cell_type": "markdown",
   "metadata": {},
   "source": [
    "만들어 준 모든 grid combination에 대해서 만들어진 random forest에 대해 mean_test_score를 출력합니다.  \n",
    "* 왜 mean_test_score인가?: 각 다른 하이퍼 파라미터를 가진 모델들의 성능을 평가하기 위해 각 모델에 Cross-validation 방식으로 평가를 진행하기 때문입니다. 각 폴드마다 score가 나오므로 그것을 평균하며 모델의 대표 평가 지표로 활용합니다.\n",
    "* best parameter는 정말 best인가?: 아닐 수 있다. 우리가 정해준 grid 안에서 하이퍼 파라미터를 넣고 평가하기 때문에 grid 밖의 parameter는 서칭하지 않았다. 또한, grid를 충분히 촘촘하게 주지 않았다면 grid 사이에도 global best parameter가 존재할 수 있다.\n",
    "* 아래 결과를 이용해 다시 parameter search를 하고싶어요: 처음에는 퍼포먼스가 잘 나오는 parameter 근처에서 찾아보세요. best parameter가 grid의 가장자리에 있다면 그 가장자리 너머에 best가 있을 수 있어요. 다음 grid를 설정할 때에 참고하세요."
   ]
  },
  {
   "cell_type": "code",
   "execution_count": 96,
   "metadata": {},
   "outputs": [
    {
     "name": "stdout",
     "output_type": "stream",
     "text": [
      "0.9416666666666667 {'bootstrap': True, 'max_features': 0.5, 'n_estimators': 10}\n",
      "0.9392619047619047 {'bootstrap': True, 'max_features': 0.7, 'n_estimators': 10}\n",
      "0.9307142857142857 {'bootstrap': True, 'max_features': 0.9, 'n_estimators': 10}\n",
      "0.9291904761904762 {'bootstrap': True, 'max_features': None, 'n_estimators': 10}\n",
      "0.9474523809523809 {'bootstrap': False, 'max_features': 0.5, 'n_estimators': 10}\n",
      "0.9367380952380953 {'bootstrap': False, 'max_features': 0.7, 'n_estimators': 10}\n",
      "0.9049285714285714 {'bootstrap': False, 'max_features': 0.9, 'n_estimators': 10}\n",
      "0.8668095238095238 {'bootstrap': False, 'max_features': None, 'n_estimators': 10}\n"
     ]
    }
   ],
   "source": [
    "cvres = grid_search.cv_results_\n",
    "\n",
    "for mean_score, params in zip(cvres[\"mean_test_score\"], cvres[\"params\"]):\n",
    "    print(mean_score, params)"
   ]
  },
  {
   "cell_type": "markdown",
   "metadata": {},
   "source": [
    "* GridSearch의 옵션 중 refit이 True로 되어있다면 교차 검증으로 최적의 추정기를 찾은 다음 전체 훈련 세트로 다시 훈련 시킵니다. 일반적으로 데이터가 많을 수록 성능이 향상되기 때문입니다."
   ]
  },
  {
   "cell_type": "markdown",
   "metadata": {},
   "source": [
    "## Random Search\n",
    "* https://scikit-learn.org/stable/modules/generated/sklearn.model_selection.RandomizedSearchCV.html"
   ]
  },
  {
   "cell_type": "code",
   "execution_count": 97,
   "metadata": {},
   "outputs": [],
   "source": [
    "from scipy.stats import uniform as sp_uniform # float uniform dist\n",
    "from scipy.stats import randint as sp_randint # int uniform dist"
   ]
  },
  {
   "cell_type": "markdown",
   "metadata": {},
   "source": [
    "시도해 볼 grid를 직접 설정하는 grid search와 다르게, 서치 할 영역과 distribution만 주고 random하게 하이퍼파라미터를 서칭하도록 하는 방법입니다. 아래 예시에서 max_features와 max_depth의 경우에 각각 실수로, 정수로 서치할 영역을 정해주었습니다."
   ]
  },
  {
   "cell_type": "code",
   "execution_count": 98,
   "metadata": {},
   "outputs": [],
   "source": [
    "param_dist = {'max_features': sp_uniform(0.3, 0.5),\n",
    "              'bootstrap': [True, False],\n",
    "              'criterion': ['gini', 'entropy'],\n",
    "              'n_estimators': [100],\n",
    "              'max_depth': sp_randint(5, 25)}"
   ]
  },
  {
   "cell_type": "code",
   "execution_count": 99,
   "metadata": {},
   "outputs": [],
   "source": [
    "random_search = RandomizedSearchCV(forest, param_dist, \n",
    "                                   n_iter=100, cv=5, \n",
    "                                   verbose=1, n_jobs=-1)"
   ]
  },
  {
   "cell_type": "code",
   "execution_count": 100,
   "metadata": {},
   "outputs": [
    {
     "name": "stdout",
     "output_type": "stream",
     "text": [
      "Fitting 2 folds for each of 5 candidates, totalling 10 fits\n"
     ]
    },
    {
     "name": "stderr",
     "output_type": "stream",
     "text": [
      "[Parallel(n_jobs=-1)]: Using backend LokyBackend with 4 concurrent workers.\n",
      "[Parallel(n_jobs=-1)]: Done  10 out of  10 | elapsed:   37.6s finished\n"
     ]
    },
    {
     "data": {
      "text/plain": [
       "RandomizedSearchCV(cv=2, error_score='raise-deprecating',\n",
       "                   estimator=RandomForestClassifier(bootstrap=True,\n",
       "                                                    class_weight=None,\n",
       "                                                    criterion='gini',\n",
       "                                                    max_depth=None,\n",
       "                                                    max_features='auto',\n",
       "                                                    max_leaf_nodes=None,\n",
       "                                                    min_impurity_decrease=0.0,\n",
       "                                                    min_impurity_split=None,\n",
       "                                                    min_samples_leaf=1,\n",
       "                                                    min_samples_split=2,\n",
       "                                                    min_weight_fraction_leaf=0.0,\n",
       "                                                    n_estimators='warn',\n",
       "                                                    n_jobs=None,\n",
       "                                                    oob_sc...\n",
       "                   param_distributions={'bootstrap': [True, False],\n",
       "                                        'criterion': ['gini', 'entropy'],\n",
       "                                        'max_depth': <scipy.stats._distn_infrastructure.rv_frozen object at 0x1258f7710>,\n",
       "                                        'max_features': <scipy.stats._distn_infrastructure.rv_frozen object at 0x1258f7a50>,\n",
       "                                        'n_estimators': [5]},\n",
       "                   pre_dispatch='2*n_jobs', random_state=None, refit=True,\n",
       "                   return_train_score=False, scoring=None, verbose=1)"
      ]
     },
     "execution_count": 100,
     "metadata": {},
     "output_type": "execute_result"
    }
   ],
   "source": [
    "random_search.fit(X, y)"
   ]
  },
  {
   "cell_type": "code",
   "execution_count": 87,
   "metadata": {},
   "outputs": [
    {
     "data": {
      "text/plain": [
       "{'bootstrap': False,\n",
       " 'criterion': 'gini',\n",
       " 'max_depth': 16,\n",
       " 'max_features': 0.31153121252070787,\n",
       " 'n_estimators': 100}"
      ]
     },
     "execution_count": 87,
     "metadata": {},
     "output_type": "execute_result"
    }
   ],
   "source": [
    "random_search.best_params_"
   ]
  },
  {
   "cell_type": "code",
   "execution_count": 89,
   "metadata": {},
   "outputs": [
    {
     "name": "stdout",
     "output_type": "stream",
     "text": [
      "0.9571904761904761 {'bootstrap': True, 'criterion': 'entropy', 'max_depth': 19, 'max_features': 0.6659969709057025, 'n_estimators': 100}\n",
      "0.9484761904761905 {'bootstrap': True, 'criterion': 'gini', 'max_depth': 11, 'max_features': 0.5229163764267956, 'n_estimators': 100}\n",
      "0.9535238095238096 {'bootstrap': True, 'criterion': 'gini', 'max_depth': 15, 'max_features': 0.7330880728874676, 'n_estimators': 100}\n",
      "0.9012142857142857 {'bootstrap': False, 'criterion': 'entropy', 'max_depth': 7, 'max_features': 0.3102922471479012, 'n_estimators': 100}\n",
      "0.9504761904761905 {'bootstrap': False, 'criterion': 'entropy', 'max_depth': 16, 'max_features': 0.7692763545078751, 'n_estimators': 100}\n",
      "0.8085238095238095 {'bootstrap': False, 'criterion': 'entropy', 'max_depth': 5, 'max_features': 0.45212112147976885, 'n_estimators': 100}\n",
      "0.964 {'bootstrap': False, 'criterion': 'gini', 'max_depth': 16, 'max_features': 0.31153121252070787, 'n_estimators': 100}\n",
      "0.958 {'bootstrap': True, 'criterion': 'gini', 'max_depth': 14, 'max_features': 0.3233328316068077, 'n_estimators': 100}\n",
      "0.9629761904761904 {'bootstrap': False, 'criterion': 'entropy', 'max_depth': 19, 'max_features': 0.5280349921085179, 'n_estimators': 100}\n",
      "0.9591190476190476 {'bootstrap': True, 'criterion': 'entropy', 'max_depth': 23, 'max_features': 0.49123099563358136, 'n_estimators': 100}\n",
      "0.8726666666666667 {'bootstrap': False, 'criterion': 'entropy', 'max_depth': 7, 'max_features': 0.7299702033681603, 'n_estimators': 100}\n",
      "0.9565 {'bootstrap': True, 'criterion': 'gini', 'max_depth': 13, 'max_features': 0.33252579649263975, 'n_estimators': 100}\n",
      "0.9542857142857143 {'bootstrap': False, 'criterion': 'gini', 'max_depth': 18, 'max_features': 0.7041986740582306, 'n_estimators': 100}\n",
      "0.8582142857142857 {'bootstrap': True, 'criterion': 'entropy', 'max_depth': 6, 'max_features': 0.6421165132560784, 'n_estimators': 100}\n",
      "0.9522619047619048 {'bootstrap': True, 'criterion': 'entropy', 'max_depth': 11, 'max_features': 0.6049983288913104, 'n_estimators': 100}\n",
      "0.8516428571428571 {'bootstrap': False, 'criterion': 'gini', 'max_depth': 7, 'max_features': 0.754660201039391, 'n_estimators': 100}\n",
      "0.9525476190476191 {'bootstrap': False, 'criterion': 'entropy', 'max_depth': 12, 'max_features': 0.6776807051588263, 'n_estimators': 100}\n",
      "0.960452380952381 {'bootstrap': False, 'criterion': 'entropy', 'max_depth': 14, 'max_features': 0.5838501639099958, 'n_estimators': 100}\n",
      "0.956047619047619 {'bootstrap': True, 'criterion': 'gini', 'max_depth': 22, 'max_features': 0.6875664116805573, 'n_estimators': 100}\n",
      "0.9123571428571429 {'bootstrap': False, 'criterion': 'entropy', 'max_depth': 8, 'max_features': 0.5989499894055426, 'n_estimators': 100}\n"
     ]
    }
   ],
   "source": [
    "cvres = random_search.cv_results_\n",
    "\n",
    "for mean_score, params in zip(cvres[\"mean_test_score\"], cvres[\"params\"]):\n",
    "    print(mean_score, params)"
   ]
  },
  {
   "cell_type": "markdown",
   "metadata": {},
   "source": [
    "## 나만의 Best 모델을 찾아 test 데이터를 예측하고, kaggle에 제출해보세요."
   ]
  },
  {
   "cell_type": "code",
   "execution_count": 138,
   "metadata": {},
   "outputs": [],
   "source": [
    "# Answer"
   ]
  }
 ],
 "metadata": {
  "kernelspec": {
   "display_name": "Python 3",
   "language": "python",
   "name": "python3"
  },
  "language_info": {
   "codemirror_mode": {
    "name": "ipython",
    "version": 3
   },
   "file_extension": ".py",
   "mimetype": "text/x-python",
   "name": "python",
   "nbconvert_exporter": "python",
   "pygments_lexer": "ipython3",
   "version": "3.7.4"
  }
 },
 "nbformat": 4,
 "nbformat_minor": 2
}
