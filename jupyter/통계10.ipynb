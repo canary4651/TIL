{
 "cells": [
  {
   "cell_type": "markdown",
   "metadata": {},
   "source": [
    "## 데이터"
   ]
  },
  {
   "cell_type": "code",
   "execution_count": 26,
   "metadata": {},
   "outputs": [],
   "source": [
    "import pandas"
   ]
  },
  {
   "cell_type": "code",
   "execution_count": 68,
   "metadata": {},
   "outputs": [],
   "source": [
    "from sklearn.decomposition import PCA"
   ]
  },
  {
   "cell_type": "code",
   "execution_count": 28,
   "metadata": {},
   "outputs": [],
   "source": [
    "import seaborn"
   ]
  },
  {
   "cell_type": "code",
   "execution_count": 38,
   "metadata": {},
   "outputs": [],
   "source": [
    "wine = pandas.read_csv('wine.csv')"
   ]
  },
  {
   "cell_type": "markdown",
   "metadata": {},
   "source": [
    "## PCA"
   ]
  },
  {
   "cell_type": "code",
   "execution_count": 69,
   "metadata": {},
   "outputs": [],
   "source": [
    "p = PCA()"
   ]
  },
  {
   "cell_type": "code",
   "execution_count": 70,
   "metadata": {},
   "outputs": [
    {
     "data": {
      "text/plain": [
       "PCA(copy=True, iterated_power='auto', n_components=None, random_state=None,\n",
       "    svd_solver='auto', tol=0.0, whiten=False)"
      ]
     },
     "execution_count": 70,
     "metadata": {},
     "output_type": "execute_result"
    }
   ],
   "source": [
    "p.fit(x)"
   ]
  },
  {
   "cell_type": "markdown",
   "metadata": {},
   "source": [
    "- 설명된 분산이 1이상인 축만 남긴다. 아래의 경우에는 3개만 남기면 됨 "
   ]
  },
  {
   "cell_type": "code",
   "execution_count": 71,
   "metadata": {},
   "outputs": [
    {
     "data": {
      "text/plain": [
       "array([4.73243698, 2.51108093, 1.45424187, 0.92416587, 0.85804868,\n",
       "       0.64528221, 0.55414147, 0.35046627, 0.29051203, 0.25232001,\n",
       "       0.22706428, 0.16972374, 0.10396199])"
      ]
     },
     "execution_count": 71,
     "metadata": {},
     "output_type": "execute_result"
    }
   ],
   "source": [
    "p.explained_variance_ # 13차원 "
   ]
  },
  {
   "cell_type": "code",
   "execution_count": 39,
   "metadata": {},
   "outputs": [],
   "source": [
    "pca = PCA(n_components=2) #2차원 데이터로 만들기 위해 컴포턴트 2 (원래 와인은 13 차원 -> 2차원)"
   ]
  },
  {
   "cell_type": "code",
   "execution_count": 40,
   "metadata": {},
   "outputs": [],
   "source": [
    "score = pca.fit_transform(wine.iloc[:, 1:])"
   ]
  },
  {
   "cell_type": "code",
   "execution_count": 41,
   "metadata": {},
   "outputs": [
    {
     "data": {
      "text/plain": [
       "array([0.99809123, 0.00173592])"
      ]
     },
     "execution_count": 41,
     "metadata": {},
     "output_type": "execute_result"
    }
   ],
   "source": [
    "pca.explained_variance_ratio_ #설명된 분산의 비율 = r 제곱 (전체 분산 중에 몇%가 이 걸로 설명되느냐 )\n",
    "# 첫번째 차원 99.8% , 두번째 차원 0.17% -> 거의 첫번째 차원만 보고 한 줄로 세울 수 있음 (첫번째 데이터만 있으면 나머지 99.8% 설명 가능 )\n",
    "# ratio는 이것을 전체 분산으로 나눈 것 "
   ]
  },
  {
   "cell_type": "markdown",
   "metadata": {},
   "source": [
    "### 시각화\n",
    "- 표 형태로 변환하고 컬럼 이름을 comp1, comp2라고 붙인다\n",
    "- wine의 종류(class) 정보를 가져와서 붙인다 \n",
    "- wine 종류별로 색깔을 달리해서 2차원에 그려본다"
   ]
  },
  {
   "cell_type": "code",
   "execution_count": 42,
   "metadata": {},
   "outputs": [],
   "source": [
    "score_df = pandas.DataFrame(score, columns=['Comp1', 'Comp2'])"
   ]
  },
  {
   "cell_type": "code",
   "execution_count": 43,
   "metadata": {},
   "outputs": [],
   "source": [
    "score_df['Class'] = wine['Class']"
   ]
  },
  {
   "cell_type": "code",
   "execution_count": 44,
   "metadata": {},
   "outputs": [
    {
     "data": {
      "text/plain": [
       "<matplotlib.axes._subplots.AxesSubplot at 0x11c9d4ad0>"
      ]
     },
     "execution_count": 44,
     "metadata": {},
     "output_type": "execute_result"
    },
    {
     "data": {
      "image/png": "[encoded data removed]",
      "text/plain": [
       "<Figure size 432x288 with 1 Axes>"
      ]
     },
     "metadata": {
      "needs_background": "light"
     },
     "output_type": "display_data"
    }
   ],
   "source": [
    "seaborn.scatterplot('Comp1', 'Comp2', hue='Class', data=score_df, palette=['r', 'g', 'b'])"
   ]
  },
  {
   "cell_type": "markdown",
   "metadata": {},
   "source": [
    "# 정규화 후 pca"
   ]
  },
  {
   "cell_type": "code",
   "execution_count": 53,
   "metadata": {},
   "outputs": [],
   "source": [
    "from sklearn.preprocessing import StandardScaler"
   ]
  },
  {
   "cell_type": "code",
   "execution_count": 54,
   "metadata": {},
   "outputs": [],
   "source": [
    "scale = StandardScaler()"
   ]
  },
  {
   "cell_type": "code",
   "execution_count": 59,
   "metadata": {},
   "outputs": [],
   "source": [
    "x=scale.fit_transform(wine.iloc[:,1:]) # fit : 파라미터 추정, transfrom: 변환 -> 축소된 차원 점수 "
   ]
  },
  {
   "cell_type": "markdown",
   "metadata": {},
   "source": [
    "# PCA"
   ]
  },
  {
   "cell_type": "code",
   "execution_count": 60,
   "metadata": {},
   "outputs": [],
   "source": [
    "sp = PCA(n_components=2)"
   ]
  },
  {
   "cell_type": "code",
   "execution_count": null,
   "metadata": {},
   "outputs": [],
   "source": [
    "score2 = sp.fit_transform(x) # fit : 파라미터 추정(컴포넌트 찾기), transfrom: 변환 -> 축소된 차원 점수 "
   ]
  },
  {
   "cell_type": "markdown",
   "metadata": {},
   "source": [
    "### 위의 과정은 다음과 같이 나눠서 할 수도 있다. 만약 새로운 와인 데이터를 구했다면 transform만 실시 "
   ]
  },
  {
   "cell_type": "code",
   "execution_count": 61,
   "metadata": {},
   "outputs": [],
   "source": [
    "sp.fit(x)\n",
    "score2 = sp.transform(x)"
   ]
  },
  {
   "cell_type": "code",
   "execution_count": 62,
   "metadata": {},
   "outputs": [
    {
     "data": {
      "text/plain": [
       "array([0.36198848, 0.1920749 ])"
      ]
     },
     "execution_count": 62,
     "metadata": {},
     "output_type": "execute_result"
    }
   ],
   "source": [
    "sp.explained_variance_ratio_ "
   ]
  },
  {
   "cell_type": "code",
   "execution_count": 63,
   "metadata": {},
   "outputs": [],
   "source": [
    "score_df1 = pandas.DataFrame(score2, columns=['Comp1', 'Comp2'])"
   ]
  },
  {
   "cell_type": "code",
   "execution_count": 64,
   "metadata": {},
   "outputs": [],
   "source": [
    "score_df1['Class'] = wine['Class']"
   ]
  },
  {
   "cell_type": "code",
   "execution_count": 66,
   "metadata": {},
   "outputs": [
    {
     "data": {
      "text/plain": [
       "<matplotlib.axes._subplots.AxesSubplot at 0x11dea5ed0>"
      ]
     },
     "execution_count": 66,
     "metadata": {},
     "output_type": "execute_result"
    },
    {
     "data": {
      "image/png": "[encoded data removed]",
      "text/plain": [
       "<Figure size 432x288 with 1 Axes>"
      ]
     },
     "metadata": {
      "needs_background": "light"
     },
     "output_type": "display_data"
    }
   ],
   "source": [
    "seaborn.scatterplot('Comp1', 'Comp2', hue='Class', data=score_df1, palette=['r', 'g', 'b'])\n",
    "# 정규화 전보다 그림이 더 구분 잘 되게 나타남 "
   ]
  },
  {
   "cell_type": "markdown",
   "metadata": {},
   "source": [
    "# 일차원 그래프로 만들기 "
   ]
  },
  {
   "cell_type": "code",
   "execution_count": 77,
   "metadata": {},
   "outputs": [
    {
     "data": {
      "image/png": "[encoded data removed]",
      "text/plain": [
       "<Figure size 432x288 with 1 Axes>"
      ]
     },
     "metadata": {
      "needs_background": "light"
     },
     "output_type": "display_data"
    }
   ],
   "source": [
    "import numpy\n",
    "# c는 1부터 3까지 \n",
    "for c in range(1,4):\n",
    "    # wine의 class 컬럼에 따라 score를 뽑아낸다\n",
    "    d = numpy.extract(wine['Class'] == c , score[:,0])\n",
    "    # 해당 socre의 밀도를 시각화한다 \n",
    "    seaborn.distplot(d, rug=True, hist=False)"
   ]
  },
  {
   "cell_type": "code",
   "execution_count": 79,
   "metadata": {},
   "outputs": [
    {
     "ename": "SyntaxError",
     "evalue": "invalid syntax (<ipython-input-79-9e2820c27e6b>, line 2)",
     "output_type": "error",
     "traceback": [
      "\u001b[0;36m  File \u001b[0;32m\"<ipython-input-79-9e2820c27e6b>\"\u001b[0;36m, line \u001b[0;32m2\u001b[0m\n\u001b[0;31m    d = score_df.query{f'Class == {c}'}['Comp1']\u001b[0m\n\u001b[0m                      ^\u001b[0m\n\u001b[0;31mSyntaxError\u001b[0m\u001b[0;31m:\u001b[0m invalid syntax\n"
     ]
    }
   ],
   "source": [
    "for c in range(1,4):\n",
    "    d = score_df.query{f'Class == {c}'}['Comp1']\n",
    "    seaborn.distplot(d, rug=True, hist=False)"
   ]
  },
  {
   "cell_type": "markdown",
   "metadata": {},
   "source": [
    "### 실습: hsb2.csv\n",
    "- 다섯 과목을 pca해서 2차원에 시각화하고, 성별(female)에 따라 시각화 해보세요"
   ]
  },
  {
   "cell_type": "code",
   "execution_count": 102,
   "metadata": {},
   "outputs": [],
   "source": [
    "hsb = pandas.read_csv('hsb2.csv')"
   ]
  },
  {
   "cell_type": "code",
   "execution_count": 103,
   "metadata": {},
   "outputs": [
    {
     "data": {
      "text/html": [
       "<div>\n",
       "<style scoped>\n",
       "    .dataframe tbody tr th:only-of-type {\n",
       "        vertical-align: middle;\n",
       "    }\n",
       "\n",
       "    .dataframe tbody tr th {\n",
       "        vertical-align: top;\n",
       "    }\n",
       "\n",
       "    .dataframe thead th {\n",
       "        text-align: right;\n",
       "    }\n",
       "</style>\n",
       "<table border=\"1\" class=\"dataframe\">\n",
       "  <thead>\n",
       "    <tr style=\"text-align: right;\">\n",
       "      <th></th>\n",
       "      <th>id</th>\n",
       "      <th>female</th>\n",
       "      <th>race</th>\n",
       "      <th>ses</th>\n",
       "      <th>schtyp</th>\n",
       "      <th>prog</th>\n",
       "      <th>read</th>\n",
       "      <th>write</th>\n",
       "      <th>math</th>\n",
       "      <th>science</th>\n",
       "      <th>socst</th>\n",
       "    </tr>\n",
       "  </thead>\n",
       "  <tbody>\n",
       "    <tr>\n",
       "      <th>0</th>\n",
       "      <td>70</td>\n",
       "      <td>0</td>\n",
       "      <td>4</td>\n",
       "      <td>1</td>\n",
       "      <td>1</td>\n",
       "      <td>1</td>\n",
       "      <td>57</td>\n",
       "      <td>52</td>\n",
       "      <td>41</td>\n",
       "      <td>47</td>\n",
       "      <td>57</td>\n",
       "    </tr>\n",
       "    <tr>\n",
       "      <th>1</th>\n",
       "      <td>121</td>\n",
       "      <td>1</td>\n",
       "      <td>4</td>\n",
       "      <td>2</td>\n",
       "      <td>1</td>\n",
       "      <td>3</td>\n",
       "      <td>68</td>\n",
       "      <td>59</td>\n",
       "      <td>53</td>\n",
       "      <td>63</td>\n",
       "      <td>61</td>\n",
       "    </tr>\n",
       "    <tr>\n",
       "      <th>2</th>\n",
       "      <td>86</td>\n",
       "      <td>0</td>\n",
       "      <td>4</td>\n",
       "      <td>3</td>\n",
       "      <td>1</td>\n",
       "      <td>1</td>\n",
       "      <td>44</td>\n",
       "      <td>33</td>\n",
       "      <td>54</td>\n",
       "      <td>58</td>\n",
       "      <td>31</td>\n",
       "    </tr>\n",
       "    <tr>\n",
       "      <th>3</th>\n",
       "      <td>141</td>\n",
       "      <td>0</td>\n",
       "      <td>4</td>\n",
       "      <td>3</td>\n",
       "      <td>1</td>\n",
       "      <td>3</td>\n",
       "      <td>63</td>\n",
       "      <td>44</td>\n",
       "      <td>47</td>\n",
       "      <td>53</td>\n",
       "      <td>56</td>\n",
       "    </tr>\n",
       "    <tr>\n",
       "      <th>4</th>\n",
       "      <td>172</td>\n",
       "      <td>0</td>\n",
       "      <td>4</td>\n",
       "      <td>2</td>\n",
       "      <td>1</td>\n",
       "      <td>2</td>\n",
       "      <td>47</td>\n",
       "      <td>52</td>\n",
       "      <td>57</td>\n",
       "      <td>53</td>\n",
       "      <td>61</td>\n",
       "    </tr>\n",
       "  </tbody>\n",
       "</table>\n",
       "</div>"
      ],
      "text/plain": [
       "    id  female  race  ses  schtyp  prog  read  write  math  science  socst\n",
       "0   70       0     4    1       1     1    57     52    41       47     57\n",
       "1  121       1     4    2       1     3    68     59    53       63     61\n",
       "2   86       0     4    3       1     1    44     33    54       58     31\n",
       "3  141       0     4    3       1     3    63     44    47       53     56\n",
       "4  172       0     4    2       1     2    47     52    57       53     61"
      ]
     },
     "execution_count": 103,
     "metadata": {},
     "output_type": "execute_result"
    }
   ],
   "source": [
    "hsb.head()"
   ]
  },
  {
   "cell_type": "code",
   "execution_count": null,
   "metadata": {},
   "outputs": [],
   "source": [
    "# 선생님 풀이 "
   ]
  },
  {
   "cell_type": "code",
   "execution_count": 127,
   "metadata": {},
   "outputs": [],
   "source": [
    "pca = PCA(n_components=2)"
   ]
  },
  {
   "cell_type": "code",
   "execution_count": 129,
   "metadata": {
    "collapsed": true
   },
   "outputs": [
    {
     "data": {
      "text/html": [
       "<div>\n",
       "<style scoped>\n",
       "    .dataframe tbody tr th:only-of-type {\n",
       "        vertical-align: middle;\n",
       "    }\n",
       "\n",
       "    .dataframe tbody tr th {\n",
       "        vertical-align: top;\n",
       "    }\n",
       "\n",
       "    .dataframe thead th {\n",
       "        text-align: right;\n",
       "    }\n",
       "</style>\n",
       "<table border=\"1\" class=\"dataframe\">\n",
       "  <thead>\n",
       "    <tr style=\"text-align: right;\">\n",
       "      <th></th>\n",
       "      <th>read</th>\n",
       "      <th>write</th>\n",
       "      <th>math</th>\n",
       "      <th>science</th>\n",
       "      <th>socst</th>\n",
       "    </tr>\n",
       "  </thead>\n",
       "  <tbody>\n",
       "    <tr>\n",
       "      <th>0</th>\n",
       "      <td>57</td>\n",
       "      <td>52</td>\n",
       "      <td>41</td>\n",
       "      <td>47</td>\n",
       "      <td>57</td>\n",
       "    </tr>\n",
       "    <tr>\n",
       "      <th>1</th>\n",
       "      <td>68</td>\n",
       "      <td>59</td>\n",
       "      <td>53</td>\n",
       "      <td>63</td>\n",
       "      <td>61</td>\n",
       "    </tr>\n",
       "    <tr>\n",
       "      <th>2</th>\n",
       "      <td>44</td>\n",
       "      <td>33</td>\n",
       "      <td>54</td>\n",
       "      <td>58</td>\n",
       "      <td>31</td>\n",
       "    </tr>\n",
       "    <tr>\n",
       "      <th>3</th>\n",
       "      <td>63</td>\n",
       "      <td>44</td>\n",
       "      <td>47</td>\n",
       "      <td>53</td>\n",
       "      <td>56</td>\n",
       "    </tr>\n",
       "    <tr>\n",
       "      <th>4</th>\n",
       "      <td>47</td>\n",
       "      <td>52</td>\n",
       "      <td>57</td>\n",
       "      <td>53</td>\n",
       "      <td>61</td>\n",
       "    </tr>\n",
       "    <tr>\n",
       "      <th>5</th>\n",
       "      <td>44</td>\n",
       "      <td>52</td>\n",
       "      <td>51</td>\n",
       "      <td>63</td>\n",
       "      <td>61</td>\n",
       "    </tr>\n",
       "    <tr>\n",
       "      <th>6</th>\n",
       "      <td>50</td>\n",
       "      <td>59</td>\n",
       "      <td>42</td>\n",
       "      <td>53</td>\n",
       "      <td>61</td>\n",
       "    </tr>\n",
       "    <tr>\n",
       "      <th>7</th>\n",
       "      <td>34</td>\n",
       "      <td>46</td>\n",
       "      <td>45</td>\n",
       "      <td>39</td>\n",
       "      <td>36</td>\n",
       "    </tr>\n",
       "    <tr>\n",
       "      <th>8</th>\n",
       "      <td>63</td>\n",
       "      <td>57</td>\n",
       "      <td>54</td>\n",
       "      <td>58</td>\n",
       "      <td>51</td>\n",
       "    </tr>\n",
       "    <tr>\n",
       "      <th>9</th>\n",
       "      <td>57</td>\n",
       "      <td>55</td>\n",
       "      <td>52</td>\n",
       "      <td>50</td>\n",
       "      <td>51</td>\n",
       "    </tr>\n",
       "    <tr>\n",
       "      <th>10</th>\n",
       "      <td>60</td>\n",
       "      <td>46</td>\n",
       "      <td>51</td>\n",
       "      <td>53</td>\n",
       "      <td>61</td>\n",
       "    </tr>\n",
       "    <tr>\n",
       "      <th>11</th>\n",
       "      <td>57</td>\n",
       "      <td>65</td>\n",
       "      <td>51</td>\n",
       "      <td>63</td>\n",
       "      <td>61</td>\n",
       "    </tr>\n",
       "    <tr>\n",
       "      <th>12</th>\n",
       "      <td>73</td>\n",
       "      <td>60</td>\n",
       "      <td>71</td>\n",
       "      <td>61</td>\n",
       "      <td>71</td>\n",
       "    </tr>\n",
       "    <tr>\n",
       "      <th>13</th>\n",
       "      <td>54</td>\n",
       "      <td>63</td>\n",
       "      <td>57</td>\n",
       "      <td>55</td>\n",
       "      <td>46</td>\n",
       "    </tr>\n",
       "    <tr>\n",
       "      <th>14</th>\n",
       "      <td>45</td>\n",
       "      <td>57</td>\n",
       "      <td>50</td>\n",
       "      <td>31</td>\n",
       "      <td>56</td>\n",
       "    </tr>\n",
       "    <tr>\n",
       "      <th>15</th>\n",
       "      <td>42</td>\n",
       "      <td>49</td>\n",
       "      <td>43</td>\n",
       "      <td>50</td>\n",
       "      <td>56</td>\n",
       "    </tr>\n",
       "    <tr>\n",
       "      <th>16</th>\n",
       "      <td>47</td>\n",
       "      <td>52</td>\n",
       "      <td>51</td>\n",
       "      <td>50</td>\n",
       "      <td>56</td>\n",
       "    </tr>\n",
       "    <tr>\n",
       "      <th>17</th>\n",
       "      <td>57</td>\n",
       "      <td>57</td>\n",
       "      <td>60</td>\n",
       "      <td>58</td>\n",
       "      <td>56</td>\n",
       "    </tr>\n",
       "    <tr>\n",
       "      <th>18</th>\n",
       "      <td>68</td>\n",
       "      <td>65</td>\n",
       "      <td>62</td>\n",
       "      <td>55</td>\n",
       "      <td>61</td>\n",
       "    </tr>\n",
       "    <tr>\n",
       "      <th>19</th>\n",
       "      <td>55</td>\n",
       "      <td>39</td>\n",
       "      <td>57</td>\n",
       "      <td>53</td>\n",
       "      <td>46</td>\n",
       "    </tr>\n",
       "    <tr>\n",
       "      <th>20</th>\n",
       "      <td>63</td>\n",
       "      <td>49</td>\n",
       "      <td>35</td>\n",
       "      <td>66</td>\n",
       "      <td>41</td>\n",
       "    </tr>\n",
       "    <tr>\n",
       "      <th>21</th>\n",
       "      <td>63</td>\n",
       "      <td>63</td>\n",
       "      <td>75</td>\n",
       "      <td>72</td>\n",
       "      <td>66</td>\n",
       "    </tr>\n",
       "    <tr>\n",
       "      <th>22</th>\n",
       "      <td>50</td>\n",
       "      <td>40</td>\n",
       "      <td>45</td>\n",
       "      <td>55</td>\n",
       "      <td>56</td>\n",
       "    </tr>\n",
       "    <tr>\n",
       "      <th>23</th>\n",
       "      <td>60</td>\n",
       "      <td>52</td>\n",
       "      <td>57</td>\n",
       "      <td>61</td>\n",
       "      <td>61</td>\n",
       "    </tr>\n",
       "    <tr>\n",
       "      <th>24</th>\n",
       "      <td>37</td>\n",
       "      <td>44</td>\n",
       "      <td>45</td>\n",
       "      <td>39</td>\n",
       "      <td>46</td>\n",
       "    </tr>\n",
       "    <tr>\n",
       "      <th>25</th>\n",
       "      <td>34</td>\n",
       "      <td>37</td>\n",
       "      <td>46</td>\n",
       "      <td>39</td>\n",
       "      <td>31</td>\n",
       "    </tr>\n",
       "    <tr>\n",
       "      <th>26</th>\n",
       "      <td>65</td>\n",
       "      <td>65</td>\n",
       "      <td>66</td>\n",
       "      <td>61</td>\n",
       "      <td>66</td>\n",
       "    </tr>\n",
       "    <tr>\n",
       "      <th>27</th>\n",
       "      <td>47</td>\n",
       "      <td>57</td>\n",
       "      <td>57</td>\n",
       "      <td>58</td>\n",
       "      <td>46</td>\n",
       "    </tr>\n",
       "    <tr>\n",
       "      <th>28</th>\n",
       "      <td>44</td>\n",
       "      <td>38</td>\n",
       "      <td>49</td>\n",
       "      <td>39</td>\n",
       "      <td>46</td>\n",
       "    </tr>\n",
       "    <tr>\n",
       "      <th>29</th>\n",
       "      <td>52</td>\n",
       "      <td>44</td>\n",
       "      <td>49</td>\n",
       "      <td>55</td>\n",
       "      <td>41</td>\n",
       "    </tr>\n",
       "    <tr>\n",
       "      <th>...</th>\n",
       "      <td>...</td>\n",
       "      <td>...</td>\n",
       "      <td>...</td>\n",
       "      <td>...</td>\n",
       "      <td>...</td>\n",
       "    </tr>\n",
       "    <tr>\n",
       "      <th>170</th>\n",
       "      <td>42</td>\n",
       "      <td>57</td>\n",
       "      <td>45</td>\n",
       "      <td>50</td>\n",
       "      <td>43</td>\n",
       "    </tr>\n",
       "    <tr>\n",
       "      <th>171</th>\n",
       "      <td>47</td>\n",
       "      <td>46</td>\n",
       "      <td>39</td>\n",
       "      <td>47</td>\n",
       "      <td>61</td>\n",
       "    </tr>\n",
       "    <tr>\n",
       "      <th>172</th>\n",
       "      <td>42</td>\n",
       "      <td>36</td>\n",
       "      <td>42</td>\n",
       "      <td>31</td>\n",
       "      <td>39</td>\n",
       "    </tr>\n",
       "    <tr>\n",
       "      <th>173</th>\n",
       "      <td>60</td>\n",
       "      <td>59</td>\n",
       "      <td>62</td>\n",
       "      <td>61</td>\n",
       "      <td>51</td>\n",
       "    </tr>\n",
       "    <tr>\n",
       "      <th>174</th>\n",
       "      <td>44</td>\n",
       "      <td>49</td>\n",
       "      <td>44</td>\n",
       "      <td>35</td>\n",
       "      <td>51</td>\n",
       "    </tr>\n",
       "    <tr>\n",
       "      <th>175</th>\n",
       "      <td>63</td>\n",
       "      <td>60</td>\n",
       "      <td>65</td>\n",
       "      <td>54</td>\n",
       "      <td>66</td>\n",
       "    </tr>\n",
       "    <tr>\n",
       "      <th>176</th>\n",
       "      <td>65</td>\n",
       "      <td>67</td>\n",
       "      <td>63</td>\n",
       "      <td>55</td>\n",
       "      <td>71</td>\n",
       "    </tr>\n",
       "    <tr>\n",
       "      <th>177</th>\n",
       "      <td>39</td>\n",
       "      <td>54</td>\n",
       "      <td>54</td>\n",
       "      <td>53</td>\n",
       "      <td>41</td>\n",
       "    </tr>\n",
       "    <tr>\n",
       "      <th>178</th>\n",
       "      <td>50</td>\n",
       "      <td>52</td>\n",
       "      <td>45</td>\n",
       "      <td>58</td>\n",
       "      <td>36</td>\n",
       "    </tr>\n",
       "    <tr>\n",
       "      <th>179</th>\n",
       "      <td>52</td>\n",
       "      <td>65</td>\n",
       "      <td>60</td>\n",
       "      <td>56</td>\n",
       "      <td>51</td>\n",
       "    </tr>\n",
       "    <tr>\n",
       "      <th>180</th>\n",
       "      <td>60</td>\n",
       "      <td>62</td>\n",
       "      <td>49</td>\n",
       "      <td>50</td>\n",
       "      <td>51</td>\n",
       "    </tr>\n",
       "    <tr>\n",
       "      <th>181</th>\n",
       "      <td>44</td>\n",
       "      <td>49</td>\n",
       "      <td>48</td>\n",
       "      <td>39</td>\n",
       "      <td>51</td>\n",
       "    </tr>\n",
       "    <tr>\n",
       "      <th>182</th>\n",
       "      <td>52</td>\n",
       "      <td>67</td>\n",
       "      <td>57</td>\n",
       "      <td>63</td>\n",
       "      <td>61</td>\n",
       "    </tr>\n",
       "    <tr>\n",
       "      <th>183</th>\n",
       "      <td>55</td>\n",
       "      <td>65</td>\n",
       "      <td>55</td>\n",
       "      <td>50</td>\n",
       "      <td>61</td>\n",
       "    </tr>\n",
       "    <tr>\n",
       "      <th>184</th>\n",
       "      <td>50</td>\n",
       "      <td>67</td>\n",
       "      <td>66</td>\n",
       "      <td>66</td>\n",
       "      <td>56</td>\n",
       "    </tr>\n",
       "    <tr>\n",
       "      <th>185</th>\n",
       "      <td>65</td>\n",
       "      <td>65</td>\n",
       "      <td>64</td>\n",
       "      <td>58</td>\n",
       "      <td>71</td>\n",
       "    </tr>\n",
       "    <tr>\n",
       "      <th>186</th>\n",
       "      <td>52</td>\n",
       "      <td>54</td>\n",
       "      <td>55</td>\n",
       "      <td>53</td>\n",
       "      <td>51</td>\n",
       "    </tr>\n",
       "    <tr>\n",
       "      <th>187</th>\n",
       "      <td>47</td>\n",
       "      <td>44</td>\n",
       "      <td>42</td>\n",
       "      <td>42</td>\n",
       "      <td>36</td>\n",
       "    </tr>\n",
       "    <tr>\n",
       "      <th>188</th>\n",
       "      <td>63</td>\n",
       "      <td>62</td>\n",
       "      <td>56</td>\n",
       "      <td>55</td>\n",
       "      <td>61</td>\n",
       "    </tr>\n",
       "    <tr>\n",
       "      <th>189</th>\n",
       "      <td>50</td>\n",
       "      <td>46</td>\n",
       "      <td>53</td>\n",
       "      <td>53</td>\n",
       "      <td>66</td>\n",
       "    </tr>\n",
       "    <tr>\n",
       "      <th>190</th>\n",
       "      <td>42</td>\n",
       "      <td>54</td>\n",
       "      <td>41</td>\n",
       "      <td>42</td>\n",
       "      <td>41</td>\n",
       "    </tr>\n",
       "    <tr>\n",
       "      <th>191</th>\n",
       "      <td>36</td>\n",
       "      <td>57</td>\n",
       "      <td>42</td>\n",
       "      <td>50</td>\n",
       "      <td>41</td>\n",
       "    </tr>\n",
       "    <tr>\n",
       "      <th>192</th>\n",
       "      <td>50</td>\n",
       "      <td>52</td>\n",
       "      <td>53</td>\n",
       "      <td>55</td>\n",
       "      <td>56</td>\n",
       "    </tr>\n",
       "    <tr>\n",
       "      <th>193</th>\n",
       "      <td>41</td>\n",
       "      <td>59</td>\n",
       "      <td>42</td>\n",
       "      <td>34</td>\n",
       "      <td>51</td>\n",
       "    </tr>\n",
       "    <tr>\n",
       "      <th>194</th>\n",
       "      <td>47</td>\n",
       "      <td>65</td>\n",
       "      <td>60</td>\n",
       "      <td>50</td>\n",
       "      <td>56</td>\n",
       "    </tr>\n",
       "    <tr>\n",
       "      <th>195</th>\n",
       "      <td>55</td>\n",
       "      <td>59</td>\n",
       "      <td>52</td>\n",
       "      <td>42</td>\n",
       "      <td>56</td>\n",
       "    </tr>\n",
       "    <tr>\n",
       "      <th>196</th>\n",
       "      <td>42</td>\n",
       "      <td>46</td>\n",
       "      <td>38</td>\n",
       "      <td>36</td>\n",
       "      <td>46</td>\n",
       "    </tr>\n",
       "    <tr>\n",
       "      <th>197</th>\n",
       "      <td>57</td>\n",
       "      <td>41</td>\n",
       "      <td>57</td>\n",
       "      <td>55</td>\n",
       "      <td>52</td>\n",
       "    </tr>\n",
       "    <tr>\n",
       "      <th>198</th>\n",
       "      <td>55</td>\n",
       "      <td>62</td>\n",
       "      <td>58</td>\n",
       "      <td>58</td>\n",
       "      <td>61</td>\n",
       "    </tr>\n",
       "    <tr>\n",
       "      <th>199</th>\n",
       "      <td>63</td>\n",
       "      <td>65</td>\n",
       "      <td>65</td>\n",
       "      <td>53</td>\n",
       "      <td>61</td>\n",
       "    </tr>\n",
       "  </tbody>\n",
       "</table>\n",
       "<p>200 rows × 5 columns</p>\n",
       "</div>"
      ],
      "text/plain": [
       "     read  write  math  science  socst\n",
       "0      57     52    41       47     57\n",
       "1      68     59    53       63     61\n",
       "2      44     33    54       58     31\n",
       "3      63     44    47       53     56\n",
       "4      47     52    57       53     61\n",
       "..    ...    ...   ...      ...    ...\n",
       "195    55     59    52       42     56\n",
       "196    42     46    38       36     46\n",
       "197    57     41    57       55     52\n",
       "198    55     62    58       58     61\n",
       "199    63     65    65       53     61\n",
       "\n",
       "[200 rows x 5 columns]"
      ]
     },
     "execution_count": 129,
     "metadata": {},
     "output_type": "execute_result"
    }
   ],
   "source": [
    "hsb.iloc[:,6:]\n",
    "# 다른 방법 : hsb[['read','wirte','math','science','socst']]"
   ]
  },
  {
   "cell_type": "code",
   "execution_count": 130,
   "metadata": {},
   "outputs": [],
   "source": [
    "score = pca.fit_transform(hsb.iloc[:,6:])"
   ]
  },
  {
   "cell_type": "code",
   "execution_count": 131,
   "metadata": {},
   "outputs": [
    {
     "data": {
      "text/plain": [
       "array([0.67506211, 0.11941715])"
      ]
     },
     "execution_count": 131,
     "metadata": {},
     "output_type": "execute_result"
    }
   ],
   "source": [
    "pca.explained_variance_ratio_"
   ]
  },
  {
   "cell_type": "code",
   "execution_count": 134,
   "metadata": {},
   "outputs": [],
   "source": [
    "score_df= pandas.DataFrame(score, columns=['Comp1','Comp2'])"
   ]
  },
  {
   "cell_type": "code",
   "execution_count": 135,
   "metadata": {},
   "outputs": [],
   "source": [
    "score_df['female']=hsb['female']"
   ]
  },
  {
   "cell_type": "code",
   "execution_count": 139,
   "metadata": {},
   "outputs": [
    {
     "data": {
      "text/plain": [
       "<matplotlib.axes._subplots.AxesSubplot at 0x11eb15150>"
      ]
     },
     "execution_count": 139,
     "metadata": {},
     "output_type": "execute_result"
    },
    {
     "data": {
      "image/png": "[encoded data removed]",
      "text/plain": [
       "<Figure size 432x288 with 1 Axes>"
      ]
     },
     "metadata": {
      "needs_background": "light"
     },
     "output_type": "display_data"
    }
   ],
   "source": [
    "seaborn.scatterplot('Comp1','Comp2', hue='female', data=score_df,  palette=['r', 'g' ])"
   ]
  },
  {
   "cell_type": "code",
   "execution_count": null,
   "metadata": {},
   "outputs": [],
   "source": [
    "# 내 풀이 "
   ]
  },
  {
   "cell_type": "code",
   "execution_count": 87,
   "metadata": {},
   "outputs": [],
   "source": [
    "hsb1 = hsb.fit_transform(x)"
   ]
  },
  {
   "cell_type": "code",
   "execution_count": 90,
   "metadata": {},
   "outputs": [
    {
     "data": {
      "text/plain": [
       "array([0.36198848, 0.1920749 ])"
      ]
     },
     "execution_count": 90,
     "metadata": {},
     "output_type": "execute_result"
    }
   ],
   "source": [
    "hsb.explained_variance_ratio_"
   ]
  },
  {
   "cell_type": "code",
   "execution_count": 92,
   "metadata": {},
   "outputs": [],
   "source": [
    "hsb2 = pandas.DataFrame(hsb1, columns=['Comp1', 'Comp2'])"
   ]
  },
  {
   "cell_type": "code",
   "execution_count": 106,
   "metadata": {},
   "outputs": [
    {
     "data": {
      "text/html": [
       "<div>\n",
       "<style scoped>\n",
       "    .dataframe tbody tr th:only-of-type {\n",
       "        vertical-align: middle;\n",
       "    }\n",
       "\n",
       "    .dataframe tbody tr th {\n",
       "        vertical-align: top;\n",
       "    }\n",
       "\n",
       "    .dataframe thead th {\n",
       "        text-align: right;\n",
       "    }\n",
       "</style>\n",
       "<table border=\"1\" class=\"dataframe\">\n",
       "  <thead>\n",
       "    <tr style=\"text-align: right;\">\n",
       "      <th></th>\n",
       "      <th>Comp1</th>\n",
       "      <th>Comp2</th>\n",
       "      <th>Class</th>\n",
       "    </tr>\n",
       "  </thead>\n",
       "  <tbody>\n",
       "    <tr>\n",
       "      <th>0</th>\n",
       "      <td>3.316751</td>\n",
       "      <td>-1.443463</td>\n",
       "      <td>1</td>\n",
       "    </tr>\n",
       "    <tr>\n",
       "      <th>1</th>\n",
       "      <td>2.209465</td>\n",
       "      <td>0.333393</td>\n",
       "      <td>1</td>\n",
       "    </tr>\n",
       "    <tr>\n",
       "      <th>2</th>\n",
       "      <td>2.516740</td>\n",
       "      <td>-1.031151</td>\n",
       "      <td>1</td>\n",
       "    </tr>\n",
       "    <tr>\n",
       "      <th>3</th>\n",
       "      <td>3.757066</td>\n",
       "      <td>-2.756372</td>\n",
       "      <td>1</td>\n",
       "    </tr>\n",
       "    <tr>\n",
       "      <th>4</th>\n",
       "      <td>1.008908</td>\n",
       "      <td>-0.869831</td>\n",
       "      <td>1</td>\n",
       "    </tr>\n",
       "  </tbody>\n",
       "</table>\n",
       "</div>"
      ],
      "text/plain": [
       "      Comp1     Comp2  Class\n",
       "0  3.316751 -1.443463      1\n",
       "1  2.209465  0.333393      1\n",
       "2  2.516740 -1.031151      1\n",
       "3  3.757066 -2.756372      1\n",
       "4  1.008908 -0.869831      1"
      ]
     },
     "execution_count": 106,
     "metadata": {},
     "output_type": "execute_result"
    }
   ],
   "source": [
    "hsb2.head()"
   ]
  },
  {
   "cell_type": "code",
   "execution_count": 109,
   "metadata": {},
   "outputs": [],
   "source": [
    "hsb2['Class'] = hsb['female']"
   ]
  },
  {
   "cell_type": "code",
   "execution_count": 113,
   "metadata": {},
   "outputs": [
    {
     "data": {
      "text/plain": [
       "<matplotlib.axes._subplots.AxesSubplot at 0x11e46b4d0>"
      ]
     },
     "execution_count": 113,
     "metadata": {},
     "output_type": "execute_result"
    },
    {
     "data": {
      "image/png": "[encoded data removed]",
      "text/plain": [
       "<Figure size 432x288 with 1 Axes>"
      ]
     },
     "metadata": {
      "needs_background": "light"
     },
     "output_type": "display_data"
    }
   ],
   "source": [
    "seaborn.scatterplot('Comp1', 'Comp2', hue='Class', data=hsb2, palette=['r', 'b'])"
   ]
  },
  {
   "cell_type": "markdown",
   "metadata": {},
   "source": [
    "## NMF"
   ]
  },
  {
   "cell_type": "code",
   "execution_count": 140,
   "metadata": {},
   "outputs": [],
   "source": [
    "from sklearn.decomposition import NMF"
   ]
  },
  {
   "cell_type": "code",
   "execution_count": 141,
   "metadata": {},
   "outputs": [],
   "source": [
    "nmf = NMF(n_components=2)"
   ]
  },
  {
   "cell_type": "code",
   "execution_count": 188,
   "metadata": {},
   "outputs": [],
   "source": [
    "score = nmf.fit_transform(hsb[['read', 'write', 'math', 'science', 'socst']])"
   ]
  },
  {
   "cell_type": "code",
   "execution_count": 147,
   "metadata": {
    "collapsed": true
   },
   "outputs": [
    {
     "data": {
      "text/plain": [
       "array([[2.15599754, 1.48927056],\n",
       "       [2.85954204, 1.31813185],\n",
       "       [2.63526129, 0.01331062],\n",
       "       [2.41169948, 1.24293257],\n",
       "       [2.40152527, 1.40153284],\n",
       "       [2.51101483, 1.2374375 ],\n",
       "       [2.24673453, 1.55802667],\n",
       "       [1.96985854, 0.72274037],\n",
       "       [2.79968423, 0.99955841],\n",
       "       [2.49548846, 1.14636001],\n",
       "       [2.40165354, 1.41976959],\n",
       "       [2.75272354, 1.35644502],\n",
       "       [3.0500228 , 1.64236896],\n",
       "       [2.78026751, 0.87398699],\n",
       "       [1.83667782, 1.72449973],\n",
       "       [2.08390692, 1.3291156 ],\n",
       "       [2.2901941 , 1.30705772],\n",
       "       [2.77364764, 1.1430705 ],\n",
       "       [2.85900503, 1.46173061],\n",
       "       [2.56013813, 0.73793068],\n",
       "       [2.73771325, 0.51979583],\n",
       "       [3.34713456, 1.20817863],\n",
       "       [2.25434773, 1.16403895],\n",
       "       [2.73497581, 1.265496  ],\n",
       "       [1.8739271 , 1.10088126],\n",
       "       [1.97394618, 0.45570394],\n",
       "       [2.97696363, 1.50461291],\n",
       "       [2.72939589, 0.75772313],\n",
       "       [1.9690774 , 1.04228044],\n",
       "       [2.54138726, 0.58912882],\n",
       "       [2.1565813 , 0.96890146],\n",
       "       [3.09441294, 1.18762486],\n",
       "       [3.00665811, 1.63382738],\n",
       "       [2.94825683, 0.        ],\n",
       "       [2.58828477, 1.34962519],\n",
       "       [2.79359188, 1.54886248],\n",
       "       [3.1898793 , 1.26954974],\n",
       "       [3.10559926, 1.36986212],\n",
       "       [1.90997432, 0.70083494],\n",
       "       [1.65940242, 1.23521072],\n",
       "       [1.95696969, 1.30141441],\n",
       "       [2.85592439, 0.94725981],\n",
       "       [2.63285324, 0.9977294 ],\n",
       "       [2.19307613, 0.68844206],\n",
       "       [2.73537585, 1.58422277],\n",
       "       [3.19144104, 0.52833802],\n",
       "       [2.11678301, 0.97407844],\n",
       "       [3.2134699 , 0.81249599],\n",
       "       [2.72172102, 0.83204115],\n",
       "       [2.52873357, 1.15213681],\n",
       "       [2.75257818, 1.17886126],\n",
       "       [1.94708956, 0.71671995],\n",
       "       [2.47048984, 0.78865009],\n",
       "       [2.4359099 , 1.88240777],\n",
       "       [3.34525056, 1.29119232],\n",
       "       [1.57653279, 1.17715395],\n",
       "       [1.78787678, 0.64541991],\n",
       "       [2.20002206, 0.77483701],\n",
       "       [2.92927714, 0.60526519],\n",
       "       [2.20778559, 1.20532213],\n",
       "       [2.31506033, 1.34267411],\n",
       "       [2.86753462, 1.32505863],\n",
       "       [1.73475795, 1.25225846],\n",
       "       [1.73461801, 0.71267423],\n",
       "       [1.83951546, 1.71685888],\n",
       "       [2.33703743, 0.1303491 ],\n",
       "       [2.59843697, 1.57339428],\n",
       "       [2.27610633, 0.23330045],\n",
       "       [3.01974446, 0.45246501],\n",
       "       [2.22953129, 0.52887344],\n",
       "       [1.90992453, 1.30038405],\n",
       "       [2.69468691, 1.33324115],\n",
       "       [3.20801162, 1.46059762],\n",
       "       [3.1458403 , 1.26035608],\n",
       "       [2.49178728, 0.94976961],\n",
       "       [2.23432693, 0.40146721],\n",
       "       [2.41416185, 1.58149396],\n",
       "       [2.85100775, 1.49207542],\n",
       "       [1.76316719, 1.02453081],\n",
       "       [2.06335359, 1.36468017],\n",
       "       [2.73478614, 1.24787657],\n",
       "       [2.6847226 , 0.25186057],\n",
       "       [3.27729006, 0.94538989],\n",
       "       [2.82698485, 1.19304461],\n",
       "       [2.14397846, 0.85033413],\n",
       "       [2.86011386, 1.43838809],\n",
       "       [2.33258414, 1.174894  ],\n",
       "       [1.74092928, 1.50045616],\n",
       "       [1.88753671, 0.57851247],\n",
       "       [2.77834649, 1.01416869],\n",
       "       [2.70435218, 0.96229073],\n",
       "       [2.90600291, 0.62081553],\n",
       "       [3.21863781, 1.14161001],\n",
       "       [2.10505809, 1.0362221 ],\n",
       "       [2.10096652, 1.14150372],\n",
       "       [2.92739364, 0.86799478],\n",
       "       [3.37205932, 0.98841542],\n",
       "       [3.16971214, 1.50290288],\n",
       "       [1.81744807, 0.934925  ],\n",
       "       [3.04476139, 1.27258384],\n",
       "       [3.13052695, 1.32727687],\n",
       "       [2.74936293, 1.20176238],\n",
       "       [1.97652621, 1.03205824],\n",
       "       [2.57044986, 1.12145258],\n",
       "       [2.75002749, 0.94207308],\n",
       "       [2.44318864, 1.39534843],\n",
       "       [2.76618585, 1.29780248],\n",
       "       [2.1370337 , 0.32165558],\n",
       "       [2.22509652, 1.3549994 ],\n",
       "       [2.96251561, 1.74867975],\n",
       "       [2.48559792, 1.17909304],\n",
       "       [1.87538085, 1.37791466],\n",
       "       [2.4282549 , 1.8177951 ],\n",
       "       [2.94698541, 1.21497632],\n",
       "       [2.74609012, 1.66790673],\n",
       "       [1.86277311, 0.89874759],\n",
       "       [2.5588719 , 0.80134167],\n",
       "       [2.94393624, 1.6195628 ],\n",
       "       [2.78317474, 1.10776678],\n",
       "       [1.80352701, 1.35708083],\n",
       "       [2.48856369, 1.15749323],\n",
       "       [2.24268308, 1.3454765 ],\n",
       "       [2.09252467, 1.51753087],\n",
       "       [2.32619566, 0.90810118],\n",
       "       [2.00156343, 1.35090358],\n",
       "       [2.63068001, 1.35990577],\n",
       "       [1.99930346, 1.38989663],\n",
       "       [2.42869826, 0.69901342],\n",
       "       [2.42239396, 0.92890673],\n",
       "       [1.69625122, 0.47882521],\n",
       "       [2.50143316, 1.35652195],\n",
       "       [2.93213329, 1.20213523],\n",
       "       [2.73375693, 1.19095198],\n",
       "       [2.22827617, 1.01150034],\n",
       "       [2.20807715, 1.90352195],\n",
       "       [3.12901829, 1.42976395],\n",
       "       [2.69644813, 0.79240592],\n",
       "       [2.20025771, 1.39794301],\n",
       "       [1.80842158, 0.90834523],\n",
       "       [2.08986088, 1.619903  ],\n",
       "       [1.82110596, 1.20765157],\n",
       "       [2.28003083, 1.16463016],\n",
       "       [2.02396051, 1.25108451],\n",
       "       [2.30715726, 0.90159679],\n",
       "       [2.46908301, 1.64930188],\n",
       "       [2.05707536, 1.59364523],\n",
       "       [2.64188956, 0.38413638],\n",
       "       [2.04220886, 1.28015004],\n",
       "       [2.05727087, 0.87594011],\n",
       "       [1.9668692 , 1.10840611],\n",
       "       [1.96949375, 1.02035131],\n",
       "       [2.85444314, 1.1283069 ],\n",
       "       [2.16450351, 1.21610708],\n",
       "       [2.28820298, 1.46936284],\n",
       "       [2.63402239, 1.59423821],\n",
       "       [2.68358127, 1.81164043],\n",
       "       [2.39056913, 1.45905655],\n",
       "       [2.1452142 , 1.58866994],\n",
       "       [1.97068228, 0.83915737],\n",
       "       [3.01926998, 1.51453512],\n",
       "       [2.4136104 , 1.50202293],\n",
       "       [2.36956392, 1.37413733],\n",
       "       [2.95317862, 0.14629283],\n",
       "       [3.01962061, 1.23475513],\n",
       "       [2.41285347, 1.48204432],\n",
       "       [2.06439136, 0.5449731 ],\n",
       "       [2.61460048, 1.32622248],\n",
       "       [2.18033143, 0.67160051],\n",
       "       [2.95870098, 0.63825279],\n",
       "       [2.74817188, 0.58766619],\n",
       "       [2.32473793, 0.87107166],\n",
       "       [1.92306465, 1.59563964],\n",
       "       [1.70778772, 0.95789337],\n",
       "       [2.98233765, 0.89646564],\n",
       "       [1.82044609, 1.43006927],\n",
       "       [2.7336256 , 1.60976209],\n",
       "       [2.74397536, 1.85228784],\n",
       "       [2.50797749, 0.64683053],\n",
       "       [2.64468618, 0.41789805],\n",
       "       [2.78898142, 1.0393506 ],\n",
       "       [2.53359658, 1.22330054],\n",
       "       [1.98026671, 1.32411133],\n",
       "       [2.8096774 , 1.32267688],\n",
       "       [2.48467091, 1.58459341],\n",
       "       [3.06084228, 1.00608551],\n",
       "       [2.81641407, 1.7712838 ],\n",
       "       [2.55294293, 1.05070837],\n",
       "       [2.12040617, 0.6910976 ],\n",
       "       [2.68486766, 1.4705296 ],\n",
       "       [2.26749931, 1.58277067],\n",
       "       [2.0691845 , 0.9567453 ],\n",
       "       [2.2334898 , 0.80288408],\n",
       "       [2.47460866, 1.19977021],\n",
       "       [1.80793727, 1.53188894],\n",
       "       [2.5341684 , 1.34355678],\n",
       "       [2.25633235, 1.52514677],\n",
       "       [1.75981149, 1.2304479 ],\n",
       "       [2.57697378, 0.94911771],\n",
       "       [2.70102219, 1.38363306],\n",
       "       [2.80469672, 1.4727764 ]])"
      ]
     },
     "execution_count": 147,
     "metadata": {},
     "output_type": "execute_result"
    }
   ],
   "source": [
    "score #무조건 양수로 나옴 "
   ]
  },
  {
   "cell_type": "code",
   "execution_count": 143,
   "metadata": {},
   "outputs": [
    {
     "data": {
      "text/plain": [
       "143.12732842523724"
      ]
     },
     "execution_count": 143,
     "metadata": {},
     "output_type": "execute_result"
    }
   ],
   "source": [
    "nmf.reconstruction_err_\n",
    "# 재구성할때의 오류 (원 데이터를 재구성할 때 오차가 이 만큼 난다.) \n",
    "# (score @ nmf.components_ 값 에서 - hsb[['read', 'write', 'math', 'science', 'socst']**2).sum() 식으로 구성 가능 "
   ]
  },
  {
   "cell_type": "code",
   "execution_count": 144,
   "metadata": {},
   "outputs": [
    {
     "data": {
      "text/plain": [
       "array([[17.10271518, 16.15759752, 18.78260808, 21.04648333, 10.11797503],\n",
       "       [ 8.97102696, 11.34934325,  5.56484605,  0.        , 24.19692873]])"
      ]
     },
     "execution_count": 144,
     "metadata": {},
     "output_type": "execute_result"
    }
   ],
   "source": [
    "nmf.components_\n",
    "# 첫번째 행 : 컴포넌트 1 - 순서대로 read, write, math, science, socst 인데 컴프1은 공동적으로 영향을 미친다\n",
    "# 두번째 행 : 컴포넌트 2 - science는 compo2에 전혀 영향을 미치지 않는다, 사회에 굉장히 영향을 미침 (+이기 때문에 큰 숫자일수록 영향을 많이 미친다)\n",
    "# 1행 과목 값*comp1 값 + 1행 과목 값*comp2의 값 => 원 점수 복원값 "
   ]
  },
  {
   "cell_type": "code",
   "execution_count": 149,
   "metadata": {},
   "outputs": [
    {
     "data": {
      "text/html": [
       "<div>\n",
       "<style scoped>\n",
       "    .dataframe tbody tr th:only-of-type {\n",
       "        vertical-align: middle;\n",
       "    }\n",
       "\n",
       "    .dataframe tbody tr th {\n",
       "        vertical-align: top;\n",
       "    }\n",
       "\n",
       "    .dataframe thead th {\n",
       "        text-align: right;\n",
       "    }\n",
       "</style>\n",
       "<table border=\"1\" class=\"dataframe\">\n",
       "  <thead>\n",
       "    <tr style=\"text-align: right;\">\n",
       "      <th></th>\n",
       "      <th>id</th>\n",
       "      <th>female</th>\n",
       "      <th>race</th>\n",
       "      <th>ses</th>\n",
       "      <th>schtyp</th>\n",
       "      <th>prog</th>\n",
       "      <th>read</th>\n",
       "      <th>write</th>\n",
       "      <th>math</th>\n",
       "      <th>science</th>\n",
       "      <th>socst</th>\n",
       "    </tr>\n",
       "  </thead>\n",
       "  <tbody>\n",
       "    <tr>\n",
       "      <th>0</th>\n",
       "      <td>70</td>\n",
       "      <td>0</td>\n",
       "      <td>4</td>\n",
       "      <td>1</td>\n",
       "      <td>1</td>\n",
       "      <td>1</td>\n",
       "      <td>57</td>\n",
       "      <td>52</td>\n",
       "      <td>41</td>\n",
       "      <td>47</td>\n",
       "      <td>57</td>\n",
       "    </tr>\n",
       "    <tr>\n",
       "      <th>1</th>\n",
       "      <td>121</td>\n",
       "      <td>1</td>\n",
       "      <td>4</td>\n",
       "      <td>2</td>\n",
       "      <td>1</td>\n",
       "      <td>3</td>\n",
       "      <td>68</td>\n",
       "      <td>59</td>\n",
       "      <td>53</td>\n",
       "      <td>63</td>\n",
       "      <td>61</td>\n",
       "    </tr>\n",
       "    <tr>\n",
       "      <th>2</th>\n",
       "      <td>86</td>\n",
       "      <td>0</td>\n",
       "      <td>4</td>\n",
       "      <td>3</td>\n",
       "      <td>1</td>\n",
       "      <td>1</td>\n",
       "      <td>44</td>\n",
       "      <td>33</td>\n",
       "      <td>54</td>\n",
       "      <td>58</td>\n",
       "      <td>31</td>\n",
       "    </tr>\n",
       "    <tr>\n",
       "      <th>3</th>\n",
       "      <td>141</td>\n",
       "      <td>0</td>\n",
       "      <td>4</td>\n",
       "      <td>3</td>\n",
       "      <td>1</td>\n",
       "      <td>3</td>\n",
       "      <td>63</td>\n",
       "      <td>44</td>\n",
       "      <td>47</td>\n",
       "      <td>53</td>\n",
       "      <td>56</td>\n",
       "    </tr>\n",
       "    <tr>\n",
       "      <th>4</th>\n",
       "      <td>172</td>\n",
       "      <td>0</td>\n",
       "      <td>4</td>\n",
       "      <td>2</td>\n",
       "      <td>1</td>\n",
       "      <td>2</td>\n",
       "      <td>47</td>\n",
       "      <td>52</td>\n",
       "      <td>57</td>\n",
       "      <td>53</td>\n",
       "      <td>61</td>\n",
       "    </tr>\n",
       "  </tbody>\n",
       "</table>\n",
       "</div>"
      ],
      "text/plain": [
       "    id  female  race  ses  schtyp  prog  read  write  math  science  socst\n",
       "0   70       0     4    1       1     1    57     52    41       47     57\n",
       "1  121       1     4    2       1     3    68     59    53       63     61\n",
       "2   86       0     4    3       1     1    44     33    54       58     31\n",
       "3  141       0     4    3       1     3    63     44    47       53     56\n",
       "4  172       0     4    2       1     2    47     52    57       53     61"
      ]
     },
     "execution_count": 149,
     "metadata": {},
     "output_type": "execute_result"
    }
   ],
   "source": [
    "hsb.head()"
   ]
  },
  {
   "cell_type": "code",
   "execution_count": 148,
   "metadata": {
    "collapsed": true
   },
   "outputs": [
    {
     "data": {
      "text/plain": [
       "array([[50.23369812, 51.73798321, 48.78281813, 45.37616621, 57.85010278],\n",
       "       [60.73092935, 61.16326015, 61.04485817, 60.18330377, 60.82751741],\n",
       "       [45.18953311, 42.730558  , 49.57115147, 55.46298272, 26.98558397],\n",
       "       [52.39699097, 53.07373799, 52.21473462, 50.75779297, 54.476666  ],\n",
       "       [53.64579155, 54.70935601, 52.9062224 , 50.54366152, 58.21136294],\n",
       "       [54.04625658, 54.6160699 , 54.04955657, 52.84803169, 55.34857235],\n",
       "       [52.40236007, 53.9844118 , 50.86971277, 47.28586091, 60.43186417],\n",
       "       [40.17365298, 40.03081009, 41.02101992, 41.45859502, 37.41907682],\n",
       "       [56.84926744, 56.5805025 , 58.14776034, 58.92350749, 52.51337877],\n",
       "       [52.96365486, 53.33153134, 53.25109864, 52.52125623, 52.9876813 ],\n",
       "       [53.81158765, 54.91840363, 53.01011633, 50.54636115, 58.65393401],\n",
       "       [59.24775149, 59.87215917, 59.25173508, 57.93515003, 60.67379155],\n",
       "       [66.89740748, 67.92084994, 66.42691334, 64.19225403, 70.60033924],\n",
       "       [55.39068427, 54.84162186, 57.08427814, 58.5148539 , 49.2784782 ],\n",
       "       [46.88271115, 49.24824031, 44.09417512, 38.65560907, 60.3110573 ],\n",
       "       [47.56399839, 48.75551844, 46.53753066, 43.85891228, 53.24543356],\n",
       "       [50.89418739, 51.83828119, 50.28939314, 48.20053186, 54.79890923],\n",
       "       [57.6914218 , 57.78858164, 58.45734786, 58.37552871, 55.72249298],\n",
       "       [62.00997331, 62.7843349 , 61.83387668, 60.1720016 , 64.29673275],\n",
       "       [50.40530928, 49.74071008, 52.19254178, 53.88190452, 43.75906967],\n",
       "       [51.48543236, 50.13421011, 54.31397881, 57.61923632, 40.27757688],\n",
       "       [68.08369203, 67.79368699, 69.59124462, 70.4454116 , 63.10043608],\n",
       "       [48.99809197, 49.63592092, 48.82022749, 47.44609199, 50.9756015 ],\n",
       "       [58.12831101, 58.55318685, 58.41226912, 57.56162271, 58.29353354],\n",
       "       [41.92527697, 42.77243922, 41.32347307, 39.4395755 , 45.59829306],\n",
       "       [37.84797167, 37.0661684 , 39.61177978, 41.54462539, 30.998974  ],\n",
       "       [64.41208398, 65.17694848, 64.28808028, 62.65461535, 66.52785494],\n",
       "       [53.47763517, 52.70014018, 55.48178591, 57.44418517, 45.95053199],\n",
       "       [43.0268958 , 43.64475854, 42.7845392 , 41.44215457, 45.14306148],\n",
       "       [48.74971304, 47.74893775, 51.01229211, 53.48726462, 39.96880101],\n",
       "       [45.57543675, 45.84156781, 45.89800872, 45.38845229, 45.2646752 ],\n",
       "       [63.57707774, 63.47704099, 64.73009495, 65.12651029, 60.04606692],\n",
       "       [66.07912677, 67.12323939, 65.56487874, 63.27957975, 69.9548964 ],\n",
       "       [50.42319687, 47.63674729, 55.3759526 , 62.05043826, 29.83038902],\n",
       "       [56.3742212 , 57.13782315, 56.12519486, 54.47429228, 58.84498522],\n",
       "       [61.67289326, 62.71630512, 61.09012261, 58.79528485, 65.74320791],\n",
       "       [65.94476216, 65.94934175, 66.97910167, 67.1357416 , 62.99432378],\n",
       "       [65.40324961, 65.72605832, 65.95432557, 65.36194305, 64.56883185],\n",
       "       [38.95295587, 38.81461257, 39.77433759, 40.19824264, 36.28312548],\n",
       "       [39.46139555, 40.83078679, 38.04166272, 34.9245853 , 46.6780979 ],\n",
       "       [45.14451894, 46.39012744, 43.99916551, 41.18732988, 51.29080221],\n",
       "       [57.34195468, 56.89565355, 58.91306351, 60.10716502, 51.81694976],\n",
       "       [53.97959636, 53.86415638, 55.00406099, 55.41230174, 50.78113052],\n",
       "       [43.68358874, 43.24820674, 45.02276356, 46.15654024, 38.84767304],\n",
       "       [60.99445924, 62.17699006, 60.19344835, 57.57004219, 66.00979005],\n",
       "       [59.32204175, 57.56230941, 62.88370601, 67.16861061, 45.07507826],\n",
       "       [44.94122093, 45.25727856, 45.17930231, 44.55083842, 44.98726427],\n",
       "       [62.24798391, 61.14324922, 64.87876087, 67.63224073, 52.1737158 ],\n",
       "       [54.013083  , 53.41959343, 55.75120015, 57.2826561 , 47.67114572],\n",
       "       [53.5840603 , 53.9342553 , 53.90767547, 53.22094883, 53.46383529],\n",
       "       [57.65215672, 57.85435145, 58.26077853, 57.93209067, 56.37533926],\n",
       "       [39.73023215, 39.59459017, 40.55985625, 40.97938789, 37.04302518],\n",
       "       [49.32708524, 48.86784103, 50.79095872, 51.99512318, 44.07926445],\n",
       "       [58.54780412, 60.72254373, 56.22805046, 51.26733714, 70.19496223],\n",
       "       [68.79618861, 68.70539698, 70.01781663, 70.40576006, 65.09005022],\n",
       "       [37.52327108, 38.83290651, 36.16207802, 33.18047109, 44.43482955],\n",
       "       [36.3676267 , 36.21288548, 37.17265123, 37.62851877, 33.70687215],\n",
       "       [44.57743435, 44.34096213, 45.63400078, 46.30272761, 41.00844407],\n",
       "       [55.52844291, 54.19944343, 58.38767206, 61.65098247, 44.28391157],\n",
       "       [48.57210537, 49.3521255 , 48.17540348, 46.46612252, 51.50341312],\n",
       "       [51.63898303, 52.64428235, 50.95464552, 48.72387857, 55.91231234],\n",
       "       [60.92976458, 61.37101552, 61.23352622, 60.35151955, 61.075993  ],\n",
       "       [40.90311556, 42.24183188, 39.55190426, 36.5105543 , 47.85304635],\n",
       "       [36.06009755, 36.11564419, 36.54657267, 36.50760905, 34.79534936],\n",
       "       [46.86269631, 49.20737121, 44.10495335, 38.71533152, 60.15488344],\n",
       "       [41.13905082, 39.24028686, 44.6210308 , 49.18641933, 26.80013421],\n",
       "       [58.55528994, 59.84149054, 57.56112019, 54.68796036, 64.36222972],\n",
       "       [41.02054282, 39.4242168 , 44.04949416, 47.90403386, 28.67474127],\n",
       "       [55.70490518, 53.92699628, 59.23657479, 63.55500141, 41.50196259],\n",
       "       [42.8755766 , 42.02623553, 44.81951178, 46.9237932 , 35.35545492],\n",
       "       [44.33067561, 45.6182968 , 43.10980092, 40.19719471, 50.78986895],\n",
       "       [58.04700506, 58.67107803, 58.03252991, 56.71368315, 59.52511602],\n",
       "       [67.96876969, 68.41058437, 68.38282592, 67.51736314, 67.80055797],\n",
       "       [65.10909902, 65.13343521, 66.10077298, 66.2088754 , 62.32627989],\n",
       "       [51.13673689, 51.04055729, 52.08758553, 52.44335937, 48.19334911],\n",
       "       [41.8146303 , 40.65774448, 44.20059029, 47.02472449, 32.32113763],\n",
       "       [55.47634753, 56.95597339, 54.14502636, 50.8096172 , 62.69372599],\n",
       "       [62.14542226, 62.99951178, 61.85253113, 60.003687  , 64.95006775],\n",
       "       [39.34603977, 40.11629763, 38.81823454, 37.10846889, 42.63018052],\n",
       "       [47.5315314 , 48.82706056, 46.34939693, 43.42633703, 53.89802886],\n",
       "       [57.96700279, 58.35015329, 58.31065728, 57.55763095, 57.86527825],\n",
       "       [48.17549397, 46.23711934, 51.82765774, 56.50396947, 33.25820858],\n",
       "       [64.53167671, 63.68268819, 66.81700403, 68.97543068, 56.03507085],\n",
       "       [59.05195197, 59.21755611, 59.73725798, 59.49808942, 57.47137742],\n",
       "       [44.29622341, 44.29227502, 45.00148575, 45.12320701, 42.26819485],\n",
       "       [61.8195311 , 62.53732882, 61.72480602, 60.1953387 , 63.74313477],\n",
       "       [50.43352792, 51.023231  , 50.35011796, 49.09269325, 52.0298544 ],\n",
       "       [43.23525031, 45.15842663, 41.04899993, 36.64043912, 53.92110972],\n",
       "       [37.47185377, 37.06379513, 38.67219516, 39.72600997, 33.09627436],\n",
       "       [56.61540327, 56.40155287, 57.82828579, 58.47442299, 52.65100788],\n",
       "       [54.88450111, 54.61720184, 56.14978683, 56.91710301, 50.64704801],\n",
       "       [55.269893  , 53.99987404, 58.03705664, 61.16114182, 44.42469416],\n",
       "       [65.28885981, 64.96197807, 66.80729642, 67.74100694, 60.18955291],\n",
       "       [45.29818531, 45.77312166, 45.30489749, 44.30406989, 46.37231757],\n",
       "       [46.17269272, 46.90188907, 45.81392328, 44.21795689, 48.87841108],\n",
       "       [57.85318422, 57.15081895, 59.81434475, 61.6113414 , 50.62210368],\n",
       "       [66.53847158, 65.70224328, 68.83644837, 70.96999035, 58.03502957],\n",
       "       [67.69326609, 68.27189359, 67.89888392, 66.71129363, 68.43670206],\n",
       "       [39.47053414, 39.97637925, 39.33912856, 38.25089055, 41.01120789],\n",
       "       [63.49007075, 63.6390199 , 64.27029301, 64.08151977, 61.59944024],\n",
       "       [65.44754742, 65.64551534, 66.18555228, 65.8865833 , 63.79061741],\n",
       "       [57.80261375, 58.06231334, 58.32782896, 57.86442102, 56.89694401],\n",
       "       [43.06258701, 43.64909812, 42.86756229, 41.59892584, 44.9710824 ],\n",
       "       [54.02225319, 54.26004457, 54.52046331, 54.09893019, 53.1434556 ],\n",
       "       [55.48429989, 55.12574813, 56.8951802 , 57.87840767, 50.61998474],\n",
       "       [54.30286783, 55.31234701, 53.6543539 , 51.42052899, 58.48326816],\n",
       "       [58.9519098 , 59.4241235 , 59.17825575, 58.21848442, 59.39103351],\n",
       "       [39.43465961, 38.17991003, 41.92903026, 44.97704418, 29.40553078],\n",
       "       [50.21092819, 51.33056732, 49.33347897, 46.83045688, 55.30029486],\n",
       "       [66.35451386, 67.71350158, 65.37490323, 62.35053539, 72.28733821],\n",
       "       [53.08814884, 53.54322255, 53.24748294, 52.31309528, 53.67964809],\n",
       "       [44.43541412, 45.94007544, 42.89242649, 39.47017183, 52.31635943],\n",
       "       [57.83724081, 59.86554594, 55.72471001, 51.10622627, 68.55408099],\n",
       "       [61.30103735, 61.40538738, 62.11322809, 62.02367925, 59.21622011],\n",
       "       [61.92843344, 63.29986494, 60.86037867, 57.79553993, 68.14309159],\n",
       "       [39.92116685, 40.29813313, 39.98912931, 39.20482329, 40.59442319],\n",
       "       [50.95251498, 50.43992392, 52.52163104, 53.85525478, 45.2806092 ],\n",
       "       [64.87844449, 65.94791096, 64.30741819, 61.95950493, 68.97511893],\n",
       "       [57.53765042, 57.54184261, 58.43983186, 58.57604069, 54.96464622],\n",
       "       [43.01961753, 44.54263974, 41.42688695, 37.95790124, 51.08522933],\n",
       "       [52.9450989 , 53.34599844, 53.18298802, 52.3755141 , 53.18700648],\n",
       "       [50.42627603, 51.50664534, 49.61080703, 47.20059214, 55.24781055],\n",
       "       [49.40166378, 51.03315015, 47.74789645, 44.04028559, 57.89169863],\n",
       "       [47.93086201, 47.89208526, 48.74546467, 48.95823814, 45.50964923],\n",
       "       [46.35116163, 47.67232468, 45.11215185, 42.1258713 , 52.93948638],\n",
       "       [57.1915223 , 57.93950623, 56.97869788, 55.36656296, 59.52269776],\n",
       "       [46.66231787, 48.07835467, 45.28669419, 42.07830703, 53.86013229],\n",
       "       [47.80820292, 47.17527232, 49.50718971, 51.1155575 , 41.48748638],\n",
       "       [49.76276129, 49.68254801, 50.66809933, 50.98287408, 46.98641164],\n",
       "       [33.30605529, 32.8416961 , 34.52461039, 35.70012298, 28.74872687],\n",
       "       [54.95069387, 55.81278347, 54.53227453, 52.64637135, 58.13310313],\n",
       "       [60.93182801, 61.01967488, 61.76280783, 61.7110943 , 58.75523188],\n",
       "       [57.43872852, 57.68746707, 57.97454948, 57.5359697 , 56.47746459],\n",
       "       [47.18376941, 47.483454  , 47.48168159, 46.89737719, 47.02084418],\n",
       "       [54.84066138, 57.28094594, 52.06625439, 46.472259  , 68.40065446],\n",
       "       [66.3411595 , 66.78429998, 66.72754042, 65.85483117, 66.25522537],\n",
       "       [53.22527919, 52.56141036, 55.05594536, 56.7507506 , 46.45638434],\n",
       "       [50.17136544, 51.41661366, 49.10591595, 46.30768728, 56.08808002],\n",
       "       [39.07770882, 39.52886991, 39.02167521, 38.0609147 , 40.27672924],\n",
       "       [50.27448894, 52.15196623, 48.26754872, 43.9842222 , 60.34183775],\n",
       "       [41.97973129, 43.1307493 , 40.92551454, 38.32787618, 47.64736355],\n",
       "       [49.44264635, 50.05760784, 49.30591295, 47.98663076, 51.24976789],\n",
       "       [45.83873311, 46.90132698, 44.97734983, 42.59725121, 50.75078478],\n",
       "       [47.54690264, 47.5106499 , 48.35167799, 48.5575469 , 45.15963278],\n",
       "       [57.02395506, 58.61294264, 55.55392951, 51.96551436, 64.89016023],\n",
       "       [49.47820829, 51.32422246, 47.50563064, 43.29420228, 59.37475712],\n",
       "       [48.62958258, 47.04628393, 51.7592361 , 55.60248466, 36.0254933 ],\n",
       "       [46.41157689, 47.52605093, 45.48184645, 42.98131465, 51.63871739],\n",
       "       [43.04300001, 43.18189962, 43.51538426, 43.298317  , 42.01047564],\n",
       "       [43.58234482, 44.35956233, 43.11104267, 41.39567977, 46.7207572 ],\n",
       "       [42.83728981, 43.40260464, 42.67032724, 41.45091743, 44.61665654],\n",
       "       [58.94079964, 58.92648571, 59.89274101, 60.07599001, 56.18274599],\n",
       "       [47.92861647, 48.77519328, 47.42246982, 45.55518702, 51.32644893],\n",
       "       [52.31617751, 53.64816605, 51.15519782, 48.15862592, 58.70604851],\n",
       "       [59.35088864, 60.65303029, 58.34550038, 55.43690824, 65.22664116],\n",
       "       [62.14880128, 63.92115519, 60.48615536, 56.47994846, 70.98854269],\n",
       "       [53.97445852, 55.18518738, 53.02054807, 50.31307328, 59.49240602],\n",
       "       [50.94098836, 52.69186815, 49.13342125, 45.14921493, 60.14615708],\n",
       "       [41.23212116, 41.36537618, 41.68433454, 41.47593182, 40.24434514],\n",
       "       [65.22465001, 65.9731282 , 65.1379196 , 63.54501538, 67.19599676],\n",
       "       [54.75397939, 56.0451192 , 53.69242451, 50.79801095, 60.76519162],\n",
       "       [52.85339994, 53.88201644, 52.15345321, 49.87098762, 57.22509169],\n",
       "       [51.81976969, 49.37659906, 56.28249365, 62.15402455, 33.42002468],\n",
       "       [62.72073277, 62.80347428, 63.58757263, 63.55239474, 60.42972788],\n",
       "       [54.56180515, 55.80614489, 53.56702949, 50.78208023, 60.27411192],\n",
       "       [40.19566578, 39.54069146, 41.80734521, 43.4481783 , 34.07413546],\n",
       "       [56.61434491, 57.29741637, 56.48924   , 55.02814535, 58.54497322],\n",
       "       [43.31453368, 42.85114239, 44.68966412, 45.88830901, 38.31120866],\n",
       "       [56.32760314, 55.04924962, 59.12389944, 62.27025081, 45.37981996],\n",
       "       [52.2731702 , 51.07348053, 54.88810727, 57.83935365, 42.02565151],\n",
       "       [47.57373805, 47.44827111, 48.51202114, 48.9275581 , 44.59889923],\n",
       "       [47.20415314, 49.18156653, 44.99965851, 40.47374803, 58.06709867],\n",
       "       [37.80109411, 38.46520719, 37.40723648, 35.94292571, 40.45743098],\n",
       "       [59.04828892, 58.3617078 , 61.00477261, 62.76771969, 51.86693324],\n",
       "       [43.96376097, 45.64438226, 42.1508408 , 38.31398834, 53.02251223],\n",
       "       [61.19363912, 62.43856471, 60.30269646, 57.53320558, 66.6100541 ],\n",
       "       [63.54635324, 65.35830001, 61.84671051, 57.75103177, 72.58315098],\n",
       "       [48.69595876, 47.86399256, 50.70587053, 52.78410634, 41.02696589],\n",
       "       [48.98028924, 47.47464338, 51.99964241, 55.66134366, 36.87071821],\n",
       "       [57.02319705, 56.85918593, 58.16817098, 58.69825091, 53.36793666],\n",
       "       [54.30564272, 54.82049146, 54.39503069, 53.3232981 , 55.23498281],\n",
       "       [45.74657597, 47.0241465 , 44.56304921, 41.67765025, 52.07571672],\n",
       "       [59.91888219, 60.40915045, 60.13356257, 59.13382846, 60.43296393],\n",
       "       [56.710049  , 58.13040697, 55.4866182 , 52.29358478, 63.48213195],\n",
       "       [61.37433391, 60.87426739, 63.08931188, 64.41996598, 55.31370509],\n",
       "       [64.05856241, 65.60939288, 62.75652333, 59.27561174, 71.35603521],\n",
       "       [53.08818886, 53.17427425, 53.79795679, 53.73047079, 51.25452827],\n",
       "       [42.46455805, 42.10417342, 43.67260988, 44.62709318, 38.1766561 ],\n",
       "       [59.11068754, 60.07055621, 58.61208782, 56.50702243, 62.7477238 ],\n",
       "       [52.9794733 , 54.60074895, 51.39742604, 47.72288647, 61.24069064],\n",
       "       [43.97166097, 44.29148111, 44.18882174, 43.54905698, 44.08625494],\n",
       "       [45.40143459, 45.20003624, 46.41868984, 47.00710582, 42.02572283],\n",
       "       [53.085698  , 53.6003347 , 53.15614115, 52.08180994, 54.06878288],\n",
       "       [44.66325319, 46.59785619, 42.4825033 , 38.0507216 , 55.35967174],\n",
       "       [55.39424446, 56.19456013, 55.07497854, 53.33533304, 58.15060017],\n",
       "       [52.2715424 , 53.76632428, 50.86701328, 47.48786123, 59.73338222],\n",
       "       [41.13593595, 42.39910133, 39.90110263, 37.03784315, 47.57878887],\n",
       "       [52.58780923, 52.40956793, 53.68398258, 54.23623579, 49.03949003],\n",
       "       [58.60742266, 59.34535594, 58.43194617, 56.8470185 , 60.80854552],\n",
       "       [61.18024605, 62.03220577, 60.87529329, 59.02900282, 64.01451711]])"
      ]
     },
     "execution_count": 148,
     "metadata": {},
     "output_type": "execute_result"
    }
   ],
   "source": [
    "score @ nmf.components_ # @ : 행렬의 곱셈\n",
    "# score값과 계수 값을 곱하면 나오는 거 -> hab.head 에서 보듯이 비슷하게 복원되어서 나옴 "
   ]
  },
  {
   "cell_type": "markdown",
   "metadata": {},
   "source": [
    "### 실습: med.csv"
   ]
  },
  {
   "cell_type": "code",
   "execution_count": 229,
   "metadata": {
    "scrolled": false
   },
   "outputs": [
    {
     "data": {
      "text/html": [
       "<div>\n",
       "<style scoped>\n",
       "    .dataframe tbody tr th:only-of-type {\n",
       "        vertical-align: middle;\n",
       "    }\n",
       "\n",
       "    .dataframe tbody tr th {\n",
       "        vertical-align: top;\n",
       "    }\n",
       "\n",
       "    .dataframe thead th {\n",
       "        text-align: right;\n",
       "    }\n",
       "</style>\n",
       "<table border=\"1\" class=\"dataframe\">\n",
       "  <thead>\n",
       "    <tr style=\"text-align: right;\">\n",
       "      <th></th>\n",
       "      <th>Unnamed: 0</th>\n",
       "      <th>Accept</th>\n",
       "      <th>Acceptance</th>\n",
       "      <th>Sex</th>\n",
       "      <th>BCPM</th>\n",
       "      <th>GPA</th>\n",
       "      <th>VR</th>\n",
       "      <th>PS</th>\n",
       "      <th>WS</th>\n",
       "      <th>BS</th>\n",
       "      <th>MCAT</th>\n",
       "      <th>Apps</th>\n",
       "    </tr>\n",
       "  </thead>\n",
       "  <tbody>\n",
       "    <tr>\n",
       "      <th>0</th>\n",
       "      <td>0</td>\n",
       "      <td>D</td>\n",
       "      <td>0</td>\n",
       "      <td>F</td>\n",
       "      <td>3.59</td>\n",
       "      <td>3.62</td>\n",
       "      <td>11</td>\n",
       "      <td>9</td>\n",
       "      <td>9.0</td>\n",
       "      <td>9</td>\n",
       "      <td>38</td>\n",
       "      <td>5</td>\n",
       "    </tr>\n",
       "    <tr>\n",
       "      <th>1</th>\n",
       "      <td>1</td>\n",
       "      <td>A</td>\n",
       "      <td>1</td>\n",
       "      <td>M</td>\n",
       "      <td>3.75</td>\n",
       "      <td>3.84</td>\n",
       "      <td>12</td>\n",
       "      <td>13</td>\n",
       "      <td>8.0</td>\n",
       "      <td>12</td>\n",
       "      <td>45</td>\n",
       "      <td>3</td>\n",
       "    </tr>\n",
       "    <tr>\n",
       "      <th>2</th>\n",
       "      <td>2</td>\n",
       "      <td>A</td>\n",
       "      <td>1</td>\n",
       "      <td>F</td>\n",
       "      <td>3.24</td>\n",
       "      <td>3.23</td>\n",
       "      <td>9</td>\n",
       "      <td>10</td>\n",
       "      <td>5.0</td>\n",
       "      <td>9</td>\n",
       "      <td>33</td>\n",
       "      <td>19</td>\n",
       "    </tr>\n",
       "    <tr>\n",
       "      <th>3</th>\n",
       "      <td>3</td>\n",
       "      <td>A</td>\n",
       "      <td>1</td>\n",
       "      <td>F</td>\n",
       "      <td>3.74</td>\n",
       "      <td>3.69</td>\n",
       "      <td>12</td>\n",
       "      <td>11</td>\n",
       "      <td>7.0</td>\n",
       "      <td>10</td>\n",
       "      <td>40</td>\n",
       "      <td>5</td>\n",
       "    </tr>\n",
       "    <tr>\n",
       "      <th>4</th>\n",
       "      <td>4</td>\n",
       "      <td>A</td>\n",
       "      <td>1</td>\n",
       "      <td>F</td>\n",
       "      <td>3.53</td>\n",
       "      <td>3.38</td>\n",
       "      <td>9</td>\n",
       "      <td>11</td>\n",
       "      <td>4.0</td>\n",
       "      <td>11</td>\n",
       "      <td>35</td>\n",
       "      <td>11</td>\n",
       "    </tr>\n",
       "  </tbody>\n",
       "</table>\n",
       "</div>"
      ],
      "text/plain": [
       "   Unnamed: 0 Accept  Acceptance Sex  BCPM   GPA  VR  PS   WS  BS  MCAT  Apps\n",
       "0           0      D           0   F  3.59  3.62  11   9  9.0   9    38     5\n",
       "1           1      A           1   M  3.75  3.84  12  13  8.0  12    45     3\n",
       "2           2      A           1   F  3.24  3.23   9  10  5.0   9    33    19\n",
       "3           3      A           1   F  3.74  3.69  12  11  7.0  10    40     5\n",
       "4           4      A           1   F  3.53  3.38   9  11  4.0  11    35    11"
      ]
     },
     "execution_count": 229,
     "metadata": {},
     "output_type": "execute_result"
    }
   ],
   "source": [
    "med = pandas.read_csv('med.csv')\n",
    "med.head()"
   ]
  },
  {
   "cell_type": "code",
   "execution_count": 159,
   "metadata": {
    "collapsed": true
   },
   "outputs": [
    {
     "data": {
      "text/plain": [
       "Unnamed: 0    0\n",
       "Accept        0\n",
       "Acceptance    0\n",
       "Sex           0\n",
       "BCPM          0\n",
       "GPA           0\n",
       "VR            0\n",
       "PS            0\n",
       "WS            1\n",
       "BS            0\n",
       "MCAT          0\n",
       "Apps          0\n",
       "dtype: int64"
      ]
     },
     "execution_count": 159,
     "metadata": {},
     "output_type": "execute_result"
    }
   ],
   "source": [
    "med.isnull().sum()"
   ]
  },
  {
   "cell_type": "markdown",
   "metadata": {},
   "source": [
    "### imputation : 경측된 값 예측 + 채워넣는\n",
    "### listwise deletion : 통째로 ( 행 단위로) 지우기 \n",
    "- 장점 : 쉽다 (그냥 지우면 되니까) \n",
    "- 단점 : 이유 있시 결측된 값들은..? "
   ]
  },
  {
   "cell_type": "code",
   "execution_count": 214,
   "metadata": {},
   "outputs": [
    {
     "data": {
      "text/plain": [
       "Unnamed: 0    0\n",
       "Accept        0\n",
       "Acceptance    0\n",
       "Sex           0\n",
       "BCPM          0\n",
       "GPA           0\n",
       "VR            0\n",
       "PS            0\n",
       "WS            0\n",
       "BS            0\n",
       "MCAT          0\n",
       "Apps          0\n",
       "dtype: int64"
      ]
     },
     "execution_count": 214,
     "metadata": {},
     "output_type": "execute_result"
    }
   ],
   "source": [
    "# med.dropna(axis = 0) #nan 값 삭제하기 \n",
    "# med.isnull().sum()"
   ]
  },
  {
   "cell_type": "code",
   "execution_count": 215,
   "metadata": {},
   "outputs": [],
   "source": [
    "nmf = NMF(n_components=2)\n",
    "score = nmf.fit_transform(med.iloc[:,4:11])"
   ]
  },
  {
   "cell_type": "code",
   "execution_count": 217,
   "metadata": {},
   "outputs": [
    {
     "data": {
      "text/plain": [
       "14.471446039174573"
      ]
     },
     "execution_count": 217,
     "metadata": {},
     "output_type": "execute_result"
    }
   ],
   "source": [
    "nmf.reconstruction_err_"
   ]
  },
  {
   "cell_type": "code",
   "execution_count": 218,
   "metadata": {},
   "outputs": [
    {
     "data": {
      "text/plain": [
       "array([[ 1.55771563,  1.57804256,  4.5511405 ,  4.53718552,  0.81266216,\n",
       "         4.55627979, 14.56524813],\n",
       "       [ 0.19592876,  0.20354392,  0.        ,  0.        ,  8.05259427,\n",
       "         0.        ,  7.69862663]])"
      ]
     },
     "execution_count": 218,
     "metadata": {},
     "output_type": "execute_result"
    }
   ],
   "source": [
    "nmf.components_"
   ]
  },
  {
   "cell_type": "code",
   "execution_count": 230,
   "metadata": {},
   "outputs": [
    {
     "data": {
      "text/plain": [
       "array([[ 1.47150289,  1.45637616,  3.00656129,  4.36957985,  2.56738169,\n",
       "         4.53278833, 14.49959593],\n",
       "       [ 0.37098128,  0.47184245,  4.13092151,  0.40023626,  1.99304915,\n",
       "         0.        ,  6.45815307]])"
      ]
     },
     "execution_count": 230,
     "metadata": {},
     "output_type": "execute_result"
    }
   ],
   "source": [
    "# 선생님 방식 \n",
    "med.dropna(inplace=True) #med에서 빈 값이 있는 행을 없애고 다시 med에 덮어쓴다 \n",
    "nmf = NMF(n_components=2)\n",
    "score = nmf.fit_transform(med.iloc[:,4:11])\n",
    "nmf.components_"
   ]
  },
  {
   "cell_type": "code",
   "execution_count": 183,
   "metadata": {},
   "outputs": [
    {
     "data": {
      "text/html": [
       "<div>\n",
       "<style scoped>\n",
       "    .dataframe tbody tr th:only-of-type {\n",
       "        vertical-align: middle;\n",
       "    }\n",
       "\n",
       "    .dataframe tbody tr th {\n",
       "        vertical-align: top;\n",
       "    }\n",
       "\n",
       "    .dataframe thead th {\n",
       "        text-align: right;\n",
       "    }\n",
       "</style>\n",
       "<table border=\"1\" class=\"dataframe\">\n",
       "  <thead>\n",
       "    <tr style=\"text-align: right;\">\n",
       "      <th></th>\n",
       "      <th>Visual</th>\n",
       "      <th>Cubes</th>\n",
       "      <th>Lozenges</th>\n",
       "      <th>Comprehension</th>\n",
       "      <th>Completion</th>\n",
       "      <th>Word</th>\n",
       "      <th>Addition</th>\n",
       "      <th>Counting</th>\n",
       "      <th>Curve</th>\n",
       "    </tr>\n",
       "  </thead>\n",
       "  <tbody>\n",
       "    <tr>\n",
       "      <th>0</th>\n",
       "      <td>23</td>\n",
       "      <td>19</td>\n",
       "      <td>4</td>\n",
       "      <td>10</td>\n",
       "      <td>17</td>\n",
       "      <td>10</td>\n",
       "      <td>69</td>\n",
       "      <td>82</td>\n",
       "      <td>156</td>\n",
       "    </tr>\n",
       "    <tr>\n",
       "      <th>1</th>\n",
       "      <td>33</td>\n",
       "      <td>22</td>\n",
       "      <td>17</td>\n",
       "      <td>8</td>\n",
       "      <td>17</td>\n",
       "      <td>10</td>\n",
       "      <td>65</td>\n",
       "      <td>98</td>\n",
       "      <td>195</td>\n",
       "    </tr>\n",
       "    <tr>\n",
       "      <th>2</th>\n",
       "      <td>34</td>\n",
       "      <td>24</td>\n",
       "      <td>22</td>\n",
       "      <td>11</td>\n",
       "      <td>19</td>\n",
       "      <td>19</td>\n",
       "      <td>50</td>\n",
       "      <td>86</td>\n",
       "      <td>228</td>\n",
       "    </tr>\n",
       "    <tr>\n",
       "      <th>3</th>\n",
       "      <td>29</td>\n",
       "      <td>23</td>\n",
       "      <td>9</td>\n",
       "      <td>9</td>\n",
       "      <td>19</td>\n",
       "      <td>11</td>\n",
       "      <td>114</td>\n",
       "      <td>103</td>\n",
       "      <td>144</td>\n",
       "    </tr>\n",
       "    <tr>\n",
       "      <th>4</th>\n",
       "      <td>16</td>\n",
       "      <td>25</td>\n",
       "      <td>10</td>\n",
       "      <td>8</td>\n",
       "      <td>25</td>\n",
       "      <td>24</td>\n",
       "      <td>112</td>\n",
       "      <td>122</td>\n",
       "      <td>160</td>\n",
       "    </tr>\n",
       "  </tbody>\n",
       "</table>\n",
       "</div>"
      ],
      "text/plain": [
       "   Visual  Cubes  Lozenges  Comprehension  Completion  Word  Addition  \\\n",
       "0      23     19         4             10          17    10        69   \n",
       "1      33     22        17              8          17    10        65   \n",
       "2      34     24        22             11          19    19        50   \n",
       "3      29     23         9              9          19    11       114   \n",
       "4      16     25        10              8          25    24       112   \n",
       "\n",
       "   Counting  Curve  \n",
       "0        82    156  \n",
       "1        98    195  \n",
       "2        86    228  \n",
       "3       103    144  \n",
       "4       122    160  "
      ]
     },
     "execution_count": 183,
     "metadata": {},
     "output_type": "execute_result"
    }
   ],
   "source": [
    "# 지능검사 데이터 \n",
    "test1 = pandas.read_csv('test1.csv')\n",
    "test1.head()"
   ]
  },
  {
   "cell_type": "code",
   "execution_count": 226,
   "metadata": {
    "collapsed": true
   },
   "outputs": [
    {
     "data": {
      "text/plain": [
       "array([[3.23260495, 1.06156129, 0.70660449],\n",
       "       [4.1413897 , 0.5758963 , 0.95310696],\n",
       "       [4.92011565, 0.        , 0.12336506],\n",
       "       [2.82217819, 2.6047723 , 1.31087826],\n",
       "       [3.16814365, 2.43546809, 1.84716953],\n",
       "       [4.17529747, 1.50552678, 1.17861018],\n",
       "       [6.98995022, 1.73302571, 0.13218555],\n",
       "       [3.5465243 , 1.80693047, 0.76405885],\n",
       "       [4.02179453, 1.84188426, 1.18311094],\n",
       "       [3.64356533, 1.56108902, 0.99318306],\n",
       "       [2.76675858, 1.76117844, 1.84446803],\n",
       "       [3.05546887, 2.07248056, 2.67958456],\n",
       "       [4.2169519 , 1.11021005, 1.13765658],\n",
       "       [2.89449453, 2.14001084, 0.71300519],\n",
       "       [3.74573225, 0.21931773, 0.8681089 ],\n",
       "       [2.61615143, 1.09099764, 1.15719154],\n",
       "       [3.99542988, 0.61900778, 1.72307382],\n",
       "       [4.76851001, 0.62044109, 0.75551269],\n",
       "       [3.29301492, 1.81408768, 1.57423795],\n",
       "       [4.36601308, 1.08335634, 0.84024463],\n",
       "       [2.27347607, 2.5684673 , 0.75459068],\n",
       "       [4.76956403, 1.09117441, 1.28499347],\n",
       "       [3.76885907, 2.23472574, 1.27027312],\n",
       "       [4.79636984, 2.10602218, 4.07908022],\n",
       "       [4.65626036, 0.47584089, 1.35913584],\n",
       "       [4.02264518, 0.88024524, 1.72758979],\n",
       "       [3.68040396, 1.72057778, 1.74308552],\n",
       "       [3.76030385, 0.33336117, 2.09375388],\n",
       "       [3.9307264 , 1.11216347, 2.09944245],\n",
       "       [3.92104709, 0.21670367, 1.03563841],\n",
       "       [3.03448726, 0.53369795, 1.58881362],\n",
       "       [3.64452961, 2.14066207, 1.28511772],\n",
       "       [3.27094792, 1.3617539 , 1.9662272 ],\n",
       "       [3.42210267, 0.38542269, 0.42507137],\n",
       "       [4.18087375, 1.62194623, 2.33856491],\n",
       "       [4.2613019 , 0.174509  , 2.35693151],\n",
       "       [4.18789703, 1.11194456, 0.64658711],\n",
       "       [2.39625925, 0.0595764 , 0.85617884],\n",
       "       [3.75094098, 1.6378234 , 1.24957285],\n",
       "       [3.03598193, 1.85305106, 1.64928628],\n",
       "       [3.66919844, 1.76119726, 0.56929598],\n",
       "       [3.7105134 , 0.52545977, 1.00058077],\n",
       "       [2.83150832, 1.0381875 , 1.10349158],\n",
       "       [4.54884057, 0.32985973, 0.79121402],\n",
       "       [5.17405016, 0.78767881, 0.39160146],\n",
       "       [3.05028761, 0.87865281, 1.04365006],\n",
       "       [3.34625332, 0.74557653, 0.5892549 ],\n",
       "       [3.2265433 , 1.09454683, 1.22866818],\n",
       "       [2.5372109 , 1.02718887, 0.81001486],\n",
       "       [4.23452452, 1.15205264, 1.89189516],\n",
       "       [3.50032967, 0.80003978, 0.38041066],\n",
       "       [2.70052372, 1.99258209, 2.59424353],\n",
       "       [2.59337828, 0.47275064, 1.07831786],\n",
       "       [4.45494671, 1.18439488, 0.49864925],\n",
       "       [4.71050261, 1.13637829, 1.02140666],\n",
       "       [4.637857  , 1.17073053, 1.29191197],\n",
       "       [4.23264026, 1.6756377 , 1.36407328],\n",
       "       [4.88752996, 0.82694603, 0.94038755],\n",
       "       [3.33354418, 1.1410765 , 0.70985176],\n",
       "       [3.86609544, 1.16744684, 1.05168552],\n",
       "       [4.20093086, 2.37703907, 0.66760109],\n",
       "       [3.79351422, 0.77430065, 0.70667582],\n",
       "       [3.55014891, 2.05139777, 1.98673665],\n",
       "       [3.46052632, 1.9419723 , 1.22673736],\n",
       "       [3.10114981, 0.17690547, 1.91268566],\n",
       "       [2.64100842, 1.42290806, 0.59662667],\n",
       "       [4.73574848, 0.60907177, 0.75895354],\n",
       "       [2.23759665, 2.37978383, 2.11642356],\n",
       "       [4.45986937, 2.36775383, 0.87733792],\n",
       "       [5.09912977, 1.01461917, 1.27251598],\n",
       "       [4.93235268, 1.07627725, 0.90327147],\n",
       "       [5.1283379 , 2.01918393, 0.29921605],\n",
       "       [3.57515528, 0.91377994, 0.5467189 ],\n",
       "       [4.50196768, 1.00075087, 0.83174096],\n",
       "       [3.08519526, 1.04780036, 1.42965627],\n",
       "       [3.94752367, 1.40905542, 1.16477405],\n",
       "       [3.81477896, 0.86816577, 0.68438521],\n",
       "       [3.79993288, 0.43428702, 0.32568823],\n",
       "       [3.20553503, 1.20610013, 1.99796179],\n",
       "       [4.84260072, 2.49116972, 0.        ],\n",
       "       [4.85057262, 0.9524204 , 1.45236952],\n",
       "       [4.09967552, 2.02575986, 0.96669881],\n",
       "       [5.12348667, 1.62653081, 1.67954962],\n",
       "       [4.96656243, 2.96897086, 1.79114681],\n",
       "       [4.71643066, 1.8675474 , 1.23952965],\n",
       "       [3.45873398, 2.0606231 , 0.90487795],\n",
       "       [4.52890141, 2.73174989, 0.00901752],\n",
       "       [3.96907365, 1.28952457, 0.87888278],\n",
       "       [4.44833858, 1.40310293, 0.2389477 ],\n",
       "       [4.1125823 , 1.96506522, 2.03709469],\n",
       "       [3.05095968, 1.47091302, 2.84008116],\n",
       "       [4.86134568, 1.20048598, 1.27982834],\n",
       "       [3.74463303, 2.8663877 , 1.1968968 ],\n",
       "       [4.69424876, 2.65821542, 0.17026398],\n",
       "       [3.96716886, 3.04717471, 0.62821026],\n",
       "       [5.16931233, 2.3505651 , 2.1771017 ],\n",
       "       [4.43466437, 1.48311665, 1.38077921],\n",
       "       [2.57040231, 2.82660495, 1.76208005],\n",
       "       [3.62752658, 1.2674322 , 0.99742764],\n",
       "       [3.77149097, 1.11407103, 1.155831  ],\n",
       "       [4.36757611, 1.68022312, 1.01464788],\n",
       "       [5.55535318, 1.71944036, 1.05092773],\n",
       "       [5.06735011, 1.20456418, 0.9760105 ],\n",
       "       [2.56451859, 1.26751275, 1.00985643],\n",
       "       [3.54164646, 1.52814562, 0.83252263],\n",
       "       [4.65914081, 1.39810225, 3.63157151],\n",
       "       [4.17241702, 2.05786809, 1.38362307],\n",
       "       [4.18574515, 1.01506384, 0.97201393],\n",
       "       [4.87262599, 2.07658576, 0.20553011],\n",
       "       [4.28699629, 1.55287128, 1.06034353],\n",
       "       [4.56436841, 3.07361341, 0.46458254],\n",
       "       [4.46758441, 1.61130366, 0.71075531],\n",
       "       [5.33635241, 1.21286871, 0.79130078],\n",
       "       [3.64814712, 2.32930799, 1.84610439],\n",
       "       [3.8205361 , 2.02122988, 0.96526411],\n",
       "       [4.21559433, 0.61631801, 2.2094679 ],\n",
       "       [4.49562227, 2.69387386, 1.60824794],\n",
       "       [4.58975489, 1.09321434, 0.84745951],\n",
       "       [3.60646109, 2.08133396, 2.50718808],\n",
       "       [3.02182704, 1.88125064, 0.51439772],\n",
       "       [4.00052609, 1.08523756, 0.47998049],\n",
       "       [3.79220204, 1.23949928, 1.34624903],\n",
       "       [4.07637582, 1.8423174 , 2.32969497],\n",
       "       [4.51224301, 1.01662305, 1.6633468 ],\n",
       "       [4.89880124, 0.82431008, 0.98804126],\n",
       "       [3.34363593, 0.5558333 , 0.8517127 ],\n",
       "       [2.7748191 , 1.42341337, 1.44238696],\n",
       "       [4.06052125, 0.57871497, 0.89883358],\n",
       "       [4.95941894, 1.34459316, 1.39273971],\n",
       "       [4.2979493 , 1.00449399, 0.94785893],\n",
       "       [4.14520601, 0.95628162, 1.6844032 ],\n",
       "       [4.02348838, 2.87392382, 1.22248218],\n",
       "       [4.13865688, 2.35937226, 1.54084675],\n",
       "       [3.86581968, 0.32022817, 1.98435238],\n",
       "       [4.86938754, 2.63219768, 0.        ],\n",
       "       [3.52716806, 1.75701838, 1.60069816],\n",
       "       [3.18155267, 2.83928055, 1.66330551],\n",
       "       [4.8175465 , 0.7884829 , 0.57087625],\n",
       "       [4.30153041, 1.54547424, 0.42681494],\n",
       "       [4.36386562, 0.69657562, 0.25841674],\n",
       "       [3.77300283, 2.38649487, 1.05384609],\n",
       "       [4.44389219, 1.80850841, 1.10489381],\n",
       "       [5.76516288, 0.96041088, 0.45789005],\n",
       "       [3.10356357, 2.58121331, 1.95626499],\n",
       "       [3.84878429, 1.55506853, 2.44883601]])"
      ]
     },
     "execution_count": 226,
     "metadata": {},
     "output_type": "execute_result"
    }
   ],
   "source": [
    "nmf = NMF(n_components=3) # 시각, 언어, 수치 적인거 3가지쯤 되겠다\n",
    "score = nmf.fit_transform(test1)\n",
    "score"
   ]
  },
  {
   "cell_type": "code",
   "execution_count": 227,
   "metadata": {},
   "outputs": [
    {
     "data": {
      "text/plain": [
       "174.58436328573916"
      ]
     },
     "execution_count": 227,
     "metadata": {},
     "output_type": "execute_result"
    }
   ],
   "source": [
    "nmf.reconstruction_err_"
   ]
  },
  {
   "cell_type": "code",
   "execution_count": 228,
   "metadata": {},
   "outputs": [
    {
     "data": {
      "text/plain": [
       "array([[ 6.59158238,  4.99410224,  3.73114927,  2.14075511,  3.86137344,\n",
       "         3.75694414, 10.84329293, 16.85458233, 46.26254416],\n",
       "       [ 0.        ,  0.9539786 ,  0.        ,  0.91956851,  1.6898408 ,\n",
       "         1.53789028, 30.92109207,  9.63197845,  5.47514016],\n",
       "       [ 2.59829099,  2.5748733 ,  1.03573959,  0.        ,  0.67266017,\n",
       "         0.        ,  1.89958291, 23.9769001 ,  0.        ]])"
      ]
     },
     "execution_count": 228,
     "metadata": {},
     "output_type": "execute_result"
    }
   ],
   "source": [
    "nmf.components_"
   ]
  },
  {
   "cell_type": "markdown",
   "metadata": {},
   "source": [
    "### 컴포넌트 개수는 어떻게 정해야하는 가? \n",
    "- 일단 pca 할 때 표준화를 한번 하기 \n",
    "- 1보다 큰 값들을 세기 (통상적인 기준) -> 설명되는 분산이 1보다 큰 게 몇개냐, 그래서 그 개수로 정하기 "
   ]
  },
  {
   "cell_type": "code",
   "execution_count": 236,
   "metadata": {},
   "outputs": [],
   "source": [
    "pca = PCA()"
   ]
  },
  {
   "cell_type": "code",
   "execution_count": 237,
   "metadata": {},
   "outputs": [],
   "source": [
    "scale=StandardScaler()\n",
    "x = scale.fit_transform(test1)"
   ]
  },
  {
   "cell_type": "code",
   "execution_count": 239,
   "metadata": {},
   "outputs": [
    {
     "data": {
      "text/plain": [
       "PCA(copy=True, iterated_power='auto', n_components=None, random_state=None,\n",
       "    svd_solver='auto', tol=0.0, whiten=False)"
      ]
     },
     "execution_count": 239,
     "metadata": {},
     "output_type": "execute_result"
    }
   ],
   "source": [
    "pca.fit(x)"
   ]
  },
  {
   "cell_type": "code",
   "execution_count": 242,
   "metadata": {},
   "outputs": [
    {
     "data": {
      "text/plain": [
       "array([3.6397564 , 1.5731283 , 1.25920295, 0.71169667, 0.53641336,\n",
       "       0.42424778, 0.36053782, 0.30005605, 0.25746066])"
      ]
     },
     "execution_count": 242,
     "metadata": {},
     "output_type": "execute_result"
    }
   ],
   "source": [
    "pca.explained_variance_ \n",
    "# 1보다 큰 애들 3개  -> 그래서 컴포넌트 3 (n_components=3)"
   ]
  },
  {
   "cell_type": "markdown",
   "metadata": {},
   "source": [
    "## 요인 분석"
   ]
  },
  {
   "cell_type": "markdown",
   "metadata": {},
   "source": [
    "### 설치"
   ]
  },
  {
   "cell_type": "code",
   "execution_count": 17,
   "metadata": {
    "collapsed": true
   },
   "outputs": [
    {
     "name": "stdout",
     "output_type": "stream",
     "text": [
      "\u001b[33mDEPRECATION: Python 2.7 will reach the end of its life on January 1st, 2020. Please upgrade your Python as Python 2.7 won't be maintained after that date. A future version of pip will drop support for Python 2.7. More details about Python 2 support in pip, can be found at https://pip.pypa.io/en/latest/development/release-process/#python-2-support\u001b[0m\n",
      "Collecting factor_analyzer\n",
      "  Downloading https://files.pythonhosted.org/packages/c6/5a/6058a8ed81de2d9ecaac8a9e09369676dafb23b0f2c3b0bca7ff035cbf89/factor_analyzer-0.3.1.tar.gz\n",
      "Collecting pandas (from factor_analyzer)\n",
      "  Using cached https://files.pythonhosted.org/packages/52/ff/912fe03a623a70bcf297d466013a0b4f4c68c3b60f86bf226682d061fc09/pandas-0.24.2-cp27-cp27m-macosx_10_6_intel.macosx_10_9_intel.macosx_10_9_x86_64.macosx_10_10_intel.macosx_10_10_x86_64.whl\n",
      "Requirement already satisfied: scipy in /System/Library/Frameworks/Python.framework/Versions/2.7/Extras/lib/python (from factor_analyzer) (0.13.0b1)\n",
      "Requirement already satisfied: numpy in /System/Library/Frameworks/Python.framework/Versions/2.7/Extras/lib/python (from factor_analyzer) (1.8.0rc1)\n",
      "Collecting scikit-learn (from factor_analyzer)\n",
      "\u001b[?25l  Downloading https://files.pythonhosted.org/packages/19/af/1e116d24d6d74da12d90c42f408f16dae8f1a59ab4d95a48acbd2c277183/scikit_learn-0.20.4-cp27-cp27m-macosx_10_6_intel.macosx_10_9_intel.macosx_10_9_x86_64.macosx_10_10_intel.macosx_10_10_x86_64.whl (8.3MB)\n",
      "\u001b[K     |████████████████████████████████| 8.3MB 357kB/s eta 0:00:01\n",
      "\u001b[?25hCollecting python-dateutil>=2.5.0 (from pandas->factor_analyzer)\n",
      "  Using cached https://files.pythonhosted.org/packages/41/17/c62faccbfbd163c7f57f3844689e3a78bae1f403648a6afb1d0866d87fbb/python_dateutil-2.8.0-py2.py3-none-any.whl\n",
      "Requirement already satisfied: pytz>=2011k in /System/Library/Frameworks/Python.framework/Versions/2.7/Extras/lib/python (from pandas->factor_analyzer) (2013.7)\n",
      "Collecting six>=1.5 (from python-dateutil>=2.5.0->pandas->factor_analyzer)\n",
      "  Using cached https://files.pythonhosted.org/packages/73/fb/00a976f728d0d1fecfe898238ce23f502a721c0ac0ecfedb80e0d88c64e9/six-1.12.0-py2.py3-none-any.whl\n",
      "\u001b[31mERROR: matplotlib 1.3.1 requires nose, which is not installed.\u001b[0m\n",
      "\u001b[31mERROR: matplotlib 1.3.1 requires tornado, which is not installed.\u001b[0m\n",
      "\u001b[31mERROR: scikit-learn 0.20.4 has requirement numpy>=1.8.2, but you'll have numpy 1.8.0rc1 which is incompatible.\u001b[0m\n",
      "\u001b[31mERROR: scikit-learn 0.20.4 has requirement scipy>=0.13.3, but you'll have scipy 0.13.0b1 which is incompatible.\u001b[0m\n",
      "\u001b[31mERROR: pandas 0.24.2 has requirement numpy>=1.12.0, but you'll have numpy 1.8.0rc1 which is incompatible.\u001b[0m\n",
      "Installing collected packages: six, python-dateutil, pandas, scikit-learn, factor-analyzer\n",
      "  Found existing installation: six 1.4.1\n",
      "\u001b[31mERROR: Cannot uninstall 'six'. It is a distutils installed project and thus we cannot accurately determine which files belong to it which would lead to only a partial uninstall.\u001b[0m\n"
     ]
    }
   ],
   "source": [
    "# !pip install factor_analyzer"
   ]
  },
  {
   "cell_type": "markdown",
   "metadata": {},
   "source": [
    "### 탐색적 요인 분석"
   ]
  },
  {
   "cell_type": "code",
   "execution_count": 175,
   "metadata": {},
   "outputs": [],
   "source": [
    "# test1 = 지능검사 데이터\n",
    "test1 = pandas.read_csv('test1.csv')"
   ]
  },
  {
   "cell_type": "code",
   "execution_count": 176,
   "metadata": {},
   "outputs": [
    {
     "data": {
      "text/html": [
       "<div>\n",
       "<style scoped>\n",
       "    .dataframe tbody tr th:only-of-type {\n",
       "        vertical-align: middle;\n",
       "    }\n",
       "\n",
       "    .dataframe tbody tr th {\n",
       "        vertical-align: top;\n",
       "    }\n",
       "\n",
       "    .dataframe thead th {\n",
       "        text-align: right;\n",
       "    }\n",
       "</style>\n",
       "<table border=\"1\" class=\"dataframe\">\n",
       "  <thead>\n",
       "    <tr style=\"text-align: right;\">\n",
       "      <th></th>\n",
       "      <th>Visual</th>\n",
       "      <th>Cubes</th>\n",
       "      <th>Lozenges</th>\n",
       "      <th>Comprehension</th>\n",
       "      <th>Completion</th>\n",
       "      <th>Word</th>\n",
       "      <th>Addition</th>\n",
       "      <th>Counting</th>\n",
       "      <th>Curve</th>\n",
       "    </tr>\n",
       "  </thead>\n",
       "  <tbody>\n",
       "    <tr>\n",
       "      <th>0</th>\n",
       "      <td>23</td>\n",
       "      <td>19</td>\n",
       "      <td>4</td>\n",
       "      <td>10</td>\n",
       "      <td>17</td>\n",
       "      <td>10</td>\n",
       "      <td>69</td>\n",
       "      <td>82</td>\n",
       "      <td>156</td>\n",
       "    </tr>\n",
       "    <tr>\n",
       "      <th>1</th>\n",
       "      <td>33</td>\n",
       "      <td>22</td>\n",
       "      <td>17</td>\n",
       "      <td>8</td>\n",
       "      <td>17</td>\n",
       "      <td>10</td>\n",
       "      <td>65</td>\n",
       "      <td>98</td>\n",
       "      <td>195</td>\n",
       "    </tr>\n",
       "    <tr>\n",
       "      <th>2</th>\n",
       "      <td>34</td>\n",
       "      <td>24</td>\n",
       "      <td>22</td>\n",
       "      <td>11</td>\n",
       "      <td>19</td>\n",
       "      <td>19</td>\n",
       "      <td>50</td>\n",
       "      <td>86</td>\n",
       "      <td>228</td>\n",
       "    </tr>\n",
       "    <tr>\n",
       "      <th>3</th>\n",
       "      <td>29</td>\n",
       "      <td>23</td>\n",
       "      <td>9</td>\n",
       "      <td>9</td>\n",
       "      <td>19</td>\n",
       "      <td>11</td>\n",
       "      <td>114</td>\n",
       "      <td>103</td>\n",
       "      <td>144</td>\n",
       "    </tr>\n",
       "    <tr>\n",
       "      <th>4</th>\n",
       "      <td>16</td>\n",
       "      <td>25</td>\n",
       "      <td>10</td>\n",
       "      <td>8</td>\n",
       "      <td>25</td>\n",
       "      <td>24</td>\n",
       "      <td>112</td>\n",
       "      <td>122</td>\n",
       "      <td>160</td>\n",
       "    </tr>\n",
       "  </tbody>\n",
       "</table>\n",
       "</div>"
      ],
      "text/plain": [
       "   Visual  Cubes  Lozenges  Comprehension  Completion  Word  Addition  \\\n",
       "0      23     19         4             10          17    10        69   \n",
       "1      33     22        17              8          17    10        65   \n",
       "2      34     24        22             11          19    19        50   \n",
       "3      29     23         9              9          19    11       114   \n",
       "4      16     25        10              8          25    24       112   \n",
       "\n",
       "   Counting  Curve  \n",
       "0        82    156  \n",
       "1        98    195  \n",
       "2        86    228  \n",
       "3       103    144  \n",
       "4       122    160  "
      ]
     },
     "execution_count": 176,
     "metadata": {},
     "output_type": "execute_result"
    }
   ],
   "source": [
    "test1.head()"
   ]
  },
  {
   "cell_type": "code",
   "execution_count": null,
   "metadata": {},
   "outputs": [],
   "source": []
  },
  {
   "cell_type": "markdown",
   "metadata": {},
   "source": [
    "### 요인 수"
   ]
  },
  {
   "cell_type": "code",
   "execution_count": 177,
   "metadata": {},
   "outputs": [],
   "source": [
    "from sklearn.preprocessing import StandardScaler"
   ]
  },
  {
   "cell_type": "code",
   "execution_count": 178,
   "metadata": {},
   "outputs": [],
   "source": [
    "# 요인 = comp(컴포넌트) 다 같은 말 \n",
    "pc = PCA()"
   ]
  },
  {
   "cell_type": "code",
   "execution_count": 180,
   "metadata": {},
   "outputs": [],
   "source": [
    "std = StandardScaler()\n",
    "x = std.fit_transform(test1)"
   ]
  },
  {
   "cell_type": "code",
   "execution_count": 181,
   "metadata": {},
   "outputs": [
    {
     "data": {
      "text/plain": [
       "PCA(copy=True, iterated_power='auto', n_components=None, random_state=None,\n",
       "    svd_solver='auto', tol=0.0, whiten=False)"
      ]
     },
     "execution_count": 181,
     "metadata": {},
     "output_type": "execute_result"
    }
   ],
   "source": [
    "pc.fit(x)"
   ]
  },
  {
   "cell_type": "code",
   "execution_count": 182,
   "metadata": {},
   "outputs": [
    {
     "data": {
      "text/plain": [
       "array([3.6397564 , 1.5731283 , 1.25920295, 0.71169667, 0.53641336,\n",
       "       0.42424778, 0.36053782, 0.30005605, 0.25746066])"
      ]
     },
     "execution_count": 182,
     "metadata": {},
     "output_type": "execute_result"
    }
   ],
   "source": [
    "pc.explained_variance_"
   ]
  },
  {
   "cell_type": "markdown",
   "metadata": {},
   "source": [
    "### 요인분석"
   ]
  },
  {
   "cell_type": "code",
   "execution_count": 244,
   "metadata": {},
   "outputs": [],
   "source": [
    "from factor_analyzer import FactorAnalyzer"
   ]
  },
  {
   "cell_type": "code",
   "execution_count": 245,
   "metadata": {},
   "outputs": [],
   "source": [
    "fa = FactorAnalyzer(n_factors=3, method='ml', rotation=None) \n",
    "# n_facotrs = n_components\n",
    "# method ='ml' 기본값 (그냥 해주세요,,,)\n",
    "# rotation(회전) = 지금은 안하고 돌림 (none)"
   ]
  },
  {
   "cell_type": "code",
   "execution_count": 251,
   "metadata": {},
   "outputs": [
    {
     "data": {
      "text/html": [
       "<div>\n",
       "<style scoped>\n",
       "    .dataframe tbody tr th:only-of-type {\n",
       "        vertical-align: middle;\n",
       "    }\n",
       "\n",
       "    .dataframe tbody tr th {\n",
       "        vertical-align: top;\n",
       "    }\n",
       "\n",
       "    .dataframe thead th {\n",
       "        text-align: right;\n",
       "    }\n",
       "</style>\n",
       "<table border=\"1\" class=\"dataframe\">\n",
       "  <thead>\n",
       "    <tr style=\"text-align: right;\">\n",
       "      <th></th>\n",
       "      <th>Visual</th>\n",
       "      <th>Cubes</th>\n",
       "      <th>Lozenges</th>\n",
       "      <th>Comprehension</th>\n",
       "      <th>Completion</th>\n",
       "      <th>Word</th>\n",
       "      <th>Addition</th>\n",
       "      <th>Counting</th>\n",
       "      <th>Curve</th>\n",
       "    </tr>\n",
       "  </thead>\n",
       "  <tbody>\n",
       "    <tr>\n",
       "      <th>0</th>\n",
       "      <td>23</td>\n",
       "      <td>19</td>\n",
       "      <td>4</td>\n",
       "      <td>10</td>\n",
       "      <td>17</td>\n",
       "      <td>10</td>\n",
       "      <td>69</td>\n",
       "      <td>82</td>\n",
       "      <td>156</td>\n",
       "    </tr>\n",
       "    <tr>\n",
       "      <th>1</th>\n",
       "      <td>33</td>\n",
       "      <td>22</td>\n",
       "      <td>17</td>\n",
       "      <td>8</td>\n",
       "      <td>17</td>\n",
       "      <td>10</td>\n",
       "      <td>65</td>\n",
       "      <td>98</td>\n",
       "      <td>195</td>\n",
       "    </tr>\n",
       "    <tr>\n",
       "      <th>2</th>\n",
       "      <td>34</td>\n",
       "      <td>24</td>\n",
       "      <td>22</td>\n",
       "      <td>11</td>\n",
       "      <td>19</td>\n",
       "      <td>19</td>\n",
       "      <td>50</td>\n",
       "      <td>86</td>\n",
       "      <td>228</td>\n",
       "    </tr>\n",
       "    <tr>\n",
       "      <th>3</th>\n",
       "      <td>29</td>\n",
       "      <td>23</td>\n",
       "      <td>9</td>\n",
       "      <td>9</td>\n",
       "      <td>19</td>\n",
       "      <td>11</td>\n",
       "      <td>114</td>\n",
       "      <td>103</td>\n",
       "      <td>144</td>\n",
       "    </tr>\n",
       "    <tr>\n",
       "      <th>4</th>\n",
       "      <td>16</td>\n",
       "      <td>25</td>\n",
       "      <td>10</td>\n",
       "      <td>8</td>\n",
       "      <td>25</td>\n",
       "      <td>24</td>\n",
       "      <td>112</td>\n",
       "      <td>122</td>\n",
       "      <td>160</td>\n",
       "    </tr>\n",
       "  </tbody>\n",
       "</table>\n",
       "</div>"
      ],
      "text/plain": [
       "   Visual  Cubes  Lozenges  Comprehension  Completion  Word  Addition  \\\n",
       "0      23     19         4             10          17    10        69   \n",
       "1      33     22        17              8          17    10        65   \n",
       "2      34     24        22             11          19    19        50   \n",
       "3      29     23         9              9          19    11       114   \n",
       "4      16     25        10              8          25    24       112   \n",
       "\n",
       "   Counting  Curve  \n",
       "0        82    156  \n",
       "1        98    195  \n",
       "2        86    228  \n",
       "3       103    144  \n",
       "4       122    160  "
      ]
     },
     "execution_count": 251,
     "metadata": {},
     "output_type": "execute_result"
    }
   ],
   "source": [
    "test1.head()"
   ]
  },
  {
   "cell_type": "code",
   "execution_count": 246,
   "metadata": {},
   "outputs": [
    {
     "data": {
      "text/plain": [
       "FactorAnalyzer(bounds=(0.005, 1), impute='median', is_corr_matrix=False,\n",
       "               method='ml', n_factors=3, rotation=None, rotation_kwargs={},\n",
       "               use_smc=True)"
      ]
     },
     "execution_count": 246,
     "metadata": {},
     "output_type": "execute_result"
    }
   ],
   "source": [
    "fa.fit(test1)"
   ]
  },
  {
   "cell_type": "code",
   "execution_count": 250,
   "metadata": {
    "collapsed": true
   },
   "outputs": [
    {
     "data": {
      "text/plain": [
       "array([[ 0.5195586 ,  0.16175193,  0.45309719],\n",
       "       [ 0.32602019,  0.08272212,  0.38326485],\n",
       "       [ 0.48792282,  0.07938354,  0.46943603],\n",
       "       [ 0.80764204, -0.31831824, -0.07341938],\n",
       "       [ 0.79325455, -0.21424007, -0.15082868],\n",
       "       [ 0.76449516, -0.30110151, -0.05750829],\n",
       "       [ 0.41831061,  0.54127836, -0.37907985],\n",
       "       [ 0.41926555,  0.70942402, -0.06367509],\n",
       "       [ 0.5730377 ,  0.43495822,  0.16127767]])"
      ]
     },
     "execution_count": 250,
     "metadata": {},
     "output_type": "execute_result"
    }
   ],
   "source": [
    "fa.loadings_ #.components_ 같은 말 == 계수 - rotation을 안 해서 지금 +- 섞여있고 해석하기 어려움 "
   ]
  },
  {
   "cell_type": "code",
   "execution_count": 247,
   "metadata": {},
   "outputs": [
    {
     "data": {
      "text/plain": [
       "array([0.50140189, 0.26002406, 0.46474061, 0.75900258, 0.69790088,\n",
       "       0.67842217, 0.61166757, 0.68312056, 0.54357134])"
      ]
     },
     "execution_count": 247,
     "metadata": {},
     "output_type": "execute_result"
    }
   ],
   "source": [
    "fa.get_communalities() # 우리가 봐야하는 중요한 값! communalities \n",
    "# 비쥬얼, 큐브, 로직, 컴프리헨션 ...컬럼명들의 데이터에서 이 요인들이 분산의 몇 %를 설명하느냐가 중요 "
   ]
  },
  {
   "cell_type": "code",
   "execution_count": 258,
   "metadata": {},
   "outputs": [
    {
     "data": {
      "text/plain": [
       "array([0.49859811, 0.73997594, 0.53525939, 0.24099742, 0.30209912,\n",
       "       0.32157783, 0.38833243, 0.31687944, 0.45642866])"
      ]
     },
     "execution_count": 258,
     "metadata": {},
     "output_type": "execute_result"
    }
   ],
   "source": [
    "fa.get_uniquenesses() #요인들의 유니크한 부분 "
   ]
  },
  {
   "cell_type": "code",
   "execution_count": 257,
   "metadata": {},
   "outputs": [
    {
     "data": {
      "text/plain": [
       "(array([3.61465463, 1.56227914, 1.2505188 , 0.70678842, 0.53271396,\n",
       "        0.42132193, 0.35805136, 0.2979867 , 0.25568507]),\n",
       " array([ 3.22652465,  1.2267954 ,  0.74846837,  0.13449199,  0.04094136,\n",
       "        -0.00569107, -0.01807991, -0.06076226, -0.09283687]))"
      ]
     },
     "execution_count": 257,
     "metadata": {},
     "output_type": "execute_result"
    }
   ],
   "source": [
    "fa.get_eigenvalues()"
   ]
  },
  {
   "cell_type": "markdown",
   "metadata": {},
   "source": [
    "### 회전"
   ]
  },
  {
   "cell_type": "code",
   "execution_count": 261,
   "metadata": {},
   "outputs": [],
   "source": [
    "fa = FactorAnalyzer(n_factors=3, method='ml', rotation='promax')"
   ]
  },
  {
   "cell_type": "code",
   "execution_count": 262,
   "metadata": {},
   "outputs": [
    {
     "data": {
      "text/plain": [
       "FactorAnalyzer(bounds=(0.005, 1), impute='median', is_corr_matrix=False,\n",
       "               method='ml', n_factors=3, rotation='promax', rotation_kwargs={},\n",
       "               use_smc=True)"
      ]
     },
     "execution_count": 262,
     "metadata": {},
     "output_type": "execute_result"
    }
   ],
   "source": [
    "fa.fit(test1)"
   ]
  },
  {
   "cell_type": "code",
   "execution_count": 263,
   "metadata": {},
   "outputs": [
    {
     "data": {
      "text/plain": [
       "array([[1.        , 0.30959565, 0.47944114],\n",
       "       [0.30959565, 1.        , 0.42381188],\n",
       "       [0.47944114, 0.42381188, 1.        ]])"
      ]
     },
     "execution_count": 263,
     "metadata": {},
     "output_type": "execute_result"
    }
   ],
   "source": [
    "fa.phi_ #요인간 상관 행렬"
   ]
  },
  {
   "cell_type": "markdown",
   "metadata": {},
   "source": [
    "### 확인적 요인분석"
   ]
  },
  {
   "cell_type": "code",
   "execution_count": 264,
   "metadata": {},
   "outputs": [],
   "source": [
    "from factor_analyzer import ConfirmatoryFactorAnalyzer, ModelSpecificationParser"
   ]
  },
  {
   "cell_type": "markdown",
   "metadata": {},
   "source": [
    "#### 모형"
   ]
  },
  {
   "cell_type": "code",
   "execution_count": 265,
   "metadata": {},
   "outputs": [],
   "source": [
    "from sklearn.preprocessing import StandardScaler"
   ]
  },
  {
   "cell_type": "code",
   "execution_count": 266,
   "metadata": {},
   "outputs": [],
   "source": [
    "std_test = pandas.DataFrame(x, columns=test1.columns)"
   ]
  },
  {
   "cell_type": "code",
   "execution_count": 288,
   "metadata": {},
   "outputs": [],
   "source": [
    "model_dict = {\n",
    "    '시각': ['Visual', 'Cubes', 'Lozenges'], # 미리 이름 붙이기 : 시각\n",
    "    '언어': ['Comprehension', 'Completion', 'Word'], # 언어\n",
    "    '수리': ['Addition', 'Counting', 'Curve'] # 수리\n",
    "}"
   ]
  },
  {
   "cell_type": "code",
   "execution_count": 289,
   "metadata": {},
   "outputs": [],
   "source": [
    "model_spec = ModelSpecificationParser.parse_model_specification_from_dict(\n",
    "    std_test,\n",
    "    model_dict)"
   ]
  },
  {
   "cell_type": "markdown",
   "metadata": {},
   "source": [
    "#### 분석"
   ]
  },
  {
   "cell_type": "code",
   "execution_count": 290,
   "metadata": {},
   "outputs": [],
   "source": [
    "cfa = ConfirmatoryFactorAnalyzer(model_spec)"
   ]
  },
  {
   "cell_type": "code",
   "execution_count": 291,
   "metadata": {},
   "outputs": [
    {
     "data": {
      "text/plain": [
       "ConfirmatoryFactorAnalyzer(bounds=None, disp=True, impute='median',\n",
       "                           is_cov_matrix=False, max_iter=200, n_obs=145,\n",
       "                           specification=<factor_analyzer.confirmatory_factor_analyzer.ModelSpecification object at 0x11e844d90>,\n",
       "                           tol=None)"
      ]
     },
     "execution_count": 291,
     "metadata": {},
     "output_type": "execute_result"
    }
   ],
   "source": [
    "cfa.fit(std_test)"
   ]
  },
  {
   "cell_type": "code",
   "execution_count": 271,
   "metadata": {},
   "outputs": [
    {
     "data": {
      "text/plain": [
       "array([[0.67664931, 0.        , 0.        ],\n",
       "       [0.51650872, 0.        , 0.        ],\n",
       "       [0.69358181, 0.        , 0.        ],\n",
       "       [0.        , 0.86556653, 0.        ],\n",
       "       [0.        , 0.82932928, 0.        ],\n",
       "       [0.        , 0.82633551, 0.        ],\n",
       "       [0.        , 0.        , 0.65912667],\n",
       "       [0.        , 0.        , 0.79587079],\n",
       "       [0.        , 0.        , 0.70084294]])"
      ]
     },
     "execution_count": 271,
     "metadata": {},
     "output_type": "execute_result"
    }
   ],
   "source": [
    "cfa.loadings_\n",
    "# 요인 1, 요인 2, 요인 3이 각각 영향을 미친다는 가정에 맞게 계수를 추정해줌 "
   ]
  },
  {
   "cell_type": "code",
   "execution_count": 292,
   "metadata": {},
   "outputs": [
    {
     "data": {
      "text/plain": [
       "array([[1.        , 0.54066446, 0.52334592],\n",
       "       [0.54066446, 1.        , 0.33613297],\n",
       "       [0.52334592, 0.33613297, 1.        ]])"
      ]
     },
     "execution_count": 292,
     "metadata": {},
     "output_type": "execute_result"
    }
   ],
   "source": [
    "cfa.factor_varcovs_"
   ]
  },
  {
   "cell_type": "markdown",
   "metadata": {},
   "source": [
    "#### 적합도"
   ]
  },
  {
   "cell_type": "code",
   "execution_count": 273,
   "metadata": {},
   "outputs": [
    {
     "data": {
      "text/plain": [
       "3351.2051178337597"
      ]
     },
     "execution_count": 273,
     "metadata": {},
     "output_type": "execute_result"
    }
   ],
   "source": [
    "cfa.aic_"
   ]
  },
  {
   "cell_type": "code",
   "execution_count": 274,
   "metadata": {},
   "outputs": [
    {
     "data": {
      "text/plain": [
       "3503.018538697209"
      ]
     },
     "execution_count": 274,
     "metadata": {},
     "output_type": "execute_result"
    }
   ],
   "source": [
    "cfa.bic_"
   ]
  },
  {
   "cell_type": "markdown",
   "metadata": {},
   "source": [
    "## 다차원척도법"
   ]
  },
  {
   "cell_type": "markdown",
   "metadata": {},
   "source": [
    "### 데이터 준비"
   ]
  },
  {
   "cell_type": "code",
   "execution_count": 275,
   "metadata": {},
   "outputs": [],
   "source": [
    "import numpy"
   ]
  },
  {
   "cell_type": "code",
   "execution_count": 276,
   "metadata": {},
   "outputs": [],
   "source": [
    "df = pandas.DataFrame(\n",
    "    [\n",
    "        ['A', 'B', 3],\n",
    "        ['A', 'C', 4],\n",
    "        ['B', 'C', 5],\n",
    "    ])"
   ]
  },
  {
   "cell_type": "code",
   "execution_count": 277,
   "metadata": {},
   "outputs": [],
   "source": [
    "distance = numpy.zeros((3, 3))\n",
    "product_id = {'A': 0, 'B': 1, 'C': 2}"
   ]
  },
  {
   "cell_type": "code",
   "execution_count": 278,
   "metadata": {},
   "outputs": [],
   "source": [
    "for i, row in df.iterrows():\n",
    "    p1 = row[0]\n",
    "    i1 = product_id[p1]\n",
    "    \n",
    "    p2 = row[1]\n",
    "    i2 = product_id[p2]\n",
    "    \n",
    "    distance[i1, i2] = row[2]    "
   ]
  },
  {
   "cell_type": "code",
   "execution_count": 279,
   "metadata": {},
   "outputs": [
    {
     "data": {
      "text/plain": [
       "array([[0., 3., 4.],\n",
       "       [0., 0., 5.],\n",
       "       [0., 0., 0.]])"
      ]
     },
     "execution_count": 279,
     "metadata": {},
     "output_type": "execute_result"
    }
   ],
   "source": [
    "distance"
   ]
  },
  {
   "cell_type": "code",
   "execution_count": 280,
   "metadata": {},
   "outputs": [],
   "source": [
    "distance = distance + distance.T"
   ]
  },
  {
   "cell_type": "code",
   "execution_count": 281,
   "metadata": {},
   "outputs": [
    {
     "data": {
      "text/plain": [
       "array([[0., 3., 4.],\n",
       "       [3., 0., 5.],\n",
       "       [4., 5., 0.]])"
      ]
     },
     "execution_count": 281,
     "metadata": {},
     "output_type": "execute_result"
    }
   ],
   "source": [
    "distance"
   ]
  },
  {
   "cell_type": "markdown",
   "metadata": {},
   "source": [
    "### 분석"
   ]
  },
  {
   "cell_type": "code",
   "execution_count": 282,
   "metadata": {},
   "outputs": [],
   "source": [
    "from sklearn.manifold import MDS"
   ]
  },
  {
   "cell_type": "code",
   "execution_count": 283,
   "metadata": {},
   "outputs": [],
   "source": [
    "mds = MDS(metric=False, dissimilarity='precomputed')"
   ]
  },
  {
   "cell_type": "code",
   "execution_count": 284,
   "metadata": {},
   "outputs": [],
   "source": [
    "pos = mds.fit_transform(distance)"
   ]
  },
  {
   "cell_type": "code",
   "execution_count": 285,
   "metadata": {},
   "outputs": [
    {
     "data": {
      "text/plain": [
       "array([[-0.00476629, -0.35994948],\n",
       "       [-0.33942238, -0.00922386],\n",
       "       [ 0.34087861,  0.37225938]])"
      ]
     },
     "execution_count": 285,
     "metadata": {},
     "output_type": "execute_result"
    }
   ],
   "source": [
    "pos"
   ]
  },
  {
   "cell_type": "markdown",
   "metadata": {},
   "source": [
    "### 시각화"
   ]
  },
  {
   "cell_type": "code",
   "execution_count": 287,
   "metadata": {},
   "outputs": [
    {
     "data": {
      "image/png": "[encoded data removed]",
      "text/plain": [
       "<Figure size 432x288 with 1 Axes>"
      ]
     },
     "metadata": {
      "needs_background": "light"
     },
     "output_type": "display_data"
    }
   ],
   "source": [
    "plt = seaborn.scatterplot(pos[:, 0], pos[:, 1], color='white')\n",
    "for i, label in enumerate(['A', 'B', 'C']):\n",
    "    plt.text(pos[i, 0], pos[i, 1], label)"
   ]
  },
  {
   "cell_type": "code",
   "execution_count": null,
   "metadata": {},
   "outputs": [],
   "source": []
  }
 ],
 "metadata": {
  "kernelspec": {
   "display_name": "Python 3",
   "language": "python",
   "name": "python3"
  },
  "language_info": {
   "codemirror_mode": {
    "name": "ipython",
    "version": 3
   },
   "file_extension": ".py",
   "mimetype": "text/x-python",
   "name": "python",
   "nbconvert_exporter": "python",
   "pygments_lexer": "ipython3",
   "version": "3.7.4"
  }
 },
 "nbformat": 4,
 "nbformat_minor": 2
}
