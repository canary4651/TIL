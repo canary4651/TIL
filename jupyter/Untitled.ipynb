{
 "cells": [
  {
   "cell_type": "code",
   "execution_count": 7,
   "metadata": {},
   "outputs": [],
   "source": [
    "import pandas as pd\n",
    "import numpy as np\n",
    "import seaborn as sns\n",
    "import folium\n",
    "%matplotlib inline"
   ]
  },
  {
   "cell_type": "code",
   "execution_count": 15,
   "metadata": {},
   "outputs": [],
   "source": [
    "# 거주인구 =pd.read_csv('TB_T_RSPOP_ADMI.txt',\n",
    "                 names=['STD_YM','ADMI_CD','ADMI_NM','SEXDSTN_CD','AGRDE_CD','RSPOP_CNT','CTY_NM'])\n"
   ]
  },
  {
   "cell_type": "code",
   "execution_count": 20,
   "metadata": {},
   "outputs": [],
   "source": [
    "거주인구 =pd.read_csv('TB_T_RSPOP_ADMI.txt')\n"
   ]
  },
  {
   "cell_type": "code",
   "execution_count": 21,
   "metadata": {},
   "outputs": [
    {
     "data": {
      "text/html": [
       "<div>\n",
       "<style scoped>\n",
       "    .dataframe tbody tr th:only-of-type {\n",
       "        vertical-align: middle;\n",
       "    }\n",
       "\n",
       "    .dataframe tbody tr th {\n",
       "        vertical-align: top;\n",
       "    }\n",
       "\n",
       "    .dataframe thead th {\n",
       "        text-align: right;\n",
       "    }\n",
       "</style>\n",
       "<table border=\"1\" class=\"dataframe\">\n",
       "  <thead>\n",
       "    <tr style=\"text-align: right;\">\n",
       "      <th></th>\n",
       "      <th>`STD_YM`|`ADMI_CD`|`ADMI_NM`|`SEXDSTN_CD`|`AGRDE_CD`|`RSPOP_CNT`|`CTY_NM`</th>\n",
       "    </tr>\n",
       "  </thead>\n",
       "  <tbody>\n",
       "    <tr>\n",
       "      <th>0</th>\n",
       "      <td>`201807`|`11230660`|`장안2동`|`1`|`0004`|`667`|`동...</td>\n",
       "    </tr>\n",
       "    <tr>\n",
       "      <th>1</th>\n",
       "      <td>`201807`|`11590660`|`대방동`|`1`|`0004`|`599`|`동작구`</td>\n",
       "    </tr>\n",
       "    <tr>\n",
       "      <th>2</th>\n",
       "      <td>`201807`|`11170700`|`보광동`|`1`|`0004`|`156`|`용산구`</td>\n",
       "    </tr>\n",
       "    <tr>\n",
       "      <th>3</th>\n",
       "      <td>`201807`|`11290525`|`성북동`|`1`|`0004`|`210`|`성북구`</td>\n",
       "    </tr>\n",
       "    <tr>\n",
       "      <th>4</th>\n",
       "      <td>`201807`|`11620585`|`낙성대동`|`1`|`0004`|`228`|`관악구`</td>\n",
       "    </tr>\n",
       "  </tbody>\n",
       "</table>\n",
       "</div>"
      ],
      "text/plain": [
       "  `STD_YM`|`ADMI_CD`|`ADMI_NM`|`SEXDSTN_CD`|`AGRDE_CD`|`RSPOP_CNT`|`CTY_NM`\n",
       "0  `201807`|`11230660`|`장안2동`|`1`|`0004`|`667`|`동...                       \n",
       "1   `201807`|`11590660`|`대방동`|`1`|`0004`|`599`|`동작구`                       \n",
       "2   `201807`|`11170700`|`보광동`|`1`|`0004`|`156`|`용산구`                       \n",
       "3   `201807`|`11290525`|`성북동`|`1`|`0004`|`210`|`성북구`                       \n",
       "4  `201807`|`11620585`|`낙성대동`|`1`|`0004`|`228`|`관악구`                       "
      ]
     },
     "execution_count": 21,
     "metadata": {},
     "output_type": "execute_result"
    }
   ],
   "source": [
    "거주인구.head()"
   ]
  },
  {
   "cell_type": "code",
   "execution_count": null,
   "metadata": {},
   "outputs": [],
   "source": []
  }
 ],
 "metadata": {
  "kernelspec": {
   "display_name": "Python 3",
   "language": "python",
   "name": "python3"
  },
  "language_info": {
   "codemirror_mode": {
    "name": "ipython",
    "version": 3
   },
   "file_extension": ".py",
   "mimetype": "text/x-python",
   "name": "python",
   "nbconvert_exporter": "python",
   "pygments_lexer": "ipython3",
   "version": "3.7.4"
  }
 },
 "nbformat": 4,
 "nbformat_minor": 2
}
