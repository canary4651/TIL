{
 "cells": [
  {
   "cell_type": "code",
   "execution_count": 63,
   "metadata": {},
   "outputs": [],
   "source": [
    "def solution(s):\n",
    "    if len(s)%2==1:\n",
    "        index = (len(s) - 1) // 2\n",
    "        return s[index]\n",
    "    else:\n",
    "        return s[(len(s)//2-1):(len(s)//2+1)]"
   ]
  },
  {
   "cell_type": "code",
   "execution_count": 64,
   "metadata": {},
   "outputs": [],
   "source": [
    "assert solution(\"abcde\") == \"c\"\n",
    "assert solution(\"aaaaa\") == \"a\"\n",
    "assert solution(\"bbb\") == \"b\""
   ]
  },
  {
   "cell_type": "code",
   "execution_count": 65,
   "metadata": {},
   "outputs": [],
   "source": [
    "assert solution(\"qwer\") == \"we\"\n",
    "assert solution(\"aaaaaa\") == \"aa\"\n",
    "assert solution(\"bbbb\") == \"bb\""
   ]
  },
  {
   "cell_type": "code",
   "execution_count": 88,
   "metadata": {},
   "outputs": [],
   "source": [
    "# 서울에서 김서방 찾기 \n",
    "# index 함수 쓰면 바로 찾아지는 대박...\n",
    "seoul = ['Jane', 'Kim']\n",
    "def solution(seoul):\n",
    "    KimIdx= seoul.index('Kim')\n",
    "    return \"김서방은 {}에 있다\".format(KimIdx)"
   ]
  },
  {
   "cell_type": "code",
   "execution_count": 89,
   "metadata": {
    "scrolled": true
   },
   "outputs": [],
   "source": [
    "seoul = ['Jane', 'Kim']\n",
    "assert solution(seoul) =='김서방은 1에 있다'"
   ]
  },
  {
   "cell_type": "code",
   "execution_count": 96,
   "metadata": {},
   "outputs": [],
   "source": [
    "# 수박수박수박수박수??? \n",
    "def solution(n):\n",
    "    answer = ''\n",
    "    for i in range(1,n+1):\n",
    "        if i%2 == 0:\n",
    "            answer +='박'\n",
    "        else:\n",
    "            answer +='수'\n",
    "    return answer"
   ]
  },
  {
   "cell_type": "code",
   "execution_count": 97,
   "metadata": {},
   "outputs": [],
   "source": [
    "assert solution(3) == '수박수'\n",
    "assert solution(4) == '수박수박'"
   ]
  },
  {
   "cell_type": "code",
   "execution_count": 104,
   "metadata": {},
   "outputs": [],
   "source": [
    "# 문자열을 정수로 바꾸기 \n",
    "# 문자열 s를 숫자로 변환한 결과를 반환하는 함수 soulution 완성 \n",
    "def solution(s):\n",
    "    answer = 0\n",
    "    return int(s)"
   ]
  },
  {
   "cell_type": "code",
   "execution_count": 99,
   "metadata": {},
   "outputs": [
    {
     "ename": "SyntaxError",
     "evalue": "invalid syntax (<ipython-input-99-25cda30762f0>, line 1)",
     "output_type": "error",
     "traceback": [
      "\u001b[0;36m  File \u001b[0;32m\"<ipython-input-99-25cda30762f0>\"\u001b[0;36m, line \u001b[0;32m1\u001b[0m\n\u001b[0;31m    s의 길이는 1 이상 5이하입니다.\u001b[0m\n\u001b[0m         ^\u001b[0m\n\u001b[0;31mSyntaxError\u001b[0m\u001b[0;31m:\u001b[0m invalid syntax\n"
     ]
    }
   ],
   "source": [
    "s의 길이는 1 이상 5이하입니다.\n",
    "s의 맨앞에는 부호(+, -)가 올 수 있습니다.\n",
    "s는 부호와 숫자로만 이루어져있습니다.\n",
    "s는 0으로 시작하지 않습니다."
   ]
  },
  {
   "cell_type": "code",
   "execution_count": 105,
   "metadata": {},
   "outputs": [],
   "source": [
    "s = '1234'\n",
    "assert solution(s) == 1234"
   ]
  },
  {
   "cell_type": "code",
   "execution_count": 106,
   "metadata": {},
   "outputs": [],
   "source": [
    "# k번째 수 \n",
    "def solution(numbers, command):\n",
    "    begin, end, k = command\n",
    "    return sorted(numbers[begin - 1:end])[k - 1]\n"
   ]
  },
  {
   "cell_type": "code",
   "execution_count": 109,
   "metadata": {},
   "outputs": [
    {
     "ename": "NameError",
     "evalue": "name 'numbers' is not defined",
     "output_type": "error",
     "traceback": [
      "\u001b[0;31m---------------------------------------------------------------------------\u001b[0m",
      "\u001b[0;31mNameError\u001b[0m                                 Traceback (most recent call last)",
      "\u001b[0;32m<ipython-input-109-816f29acc985>\u001b[0m in \u001b[0;36m<module>\u001b[0;34m\u001b[0m\n\u001b[0;32m----> 1\u001b[0;31m \u001b[0;32massert\u001b[0m \u001b[0msolution\u001b[0m\u001b[0;34m(\u001b[0m\u001b[0mnumbers\u001b[0m\u001b[0;34m,\u001b[0m \u001b[0mcommand\u001b[0m\u001b[0;34m)\u001b[0m \u001b[0;34m==\u001b[0m \u001b[0;34m[\u001b[0m\u001b[0;36m5\u001b[0m\u001b[0;34m,\u001b[0m\u001b[0;36m6\u001b[0m\u001b[0;34m,\u001b[0m\u001b[0;36m3\u001b[0m\u001b[0;34m]\u001b[0m\u001b[0;34m\u001b[0m\u001b[0;34m\u001b[0m\u001b[0m\n\u001b[0m",
      "\u001b[0;31mNameError\u001b[0m: name 'numbers' is not defined"
     ]
    }
   ],
   "source": [
    "assert solution(numbers, command) == [5,6,3]"
   ]
  },
  {
   "cell_type": "code",
   "execution_count": 119,
   "metadata": {},
   "outputs": [],
   "source": [
    "# 두 정수 사이의 합 \n",
    "def solution(a,b):\n",
    "    answer = 0\n",
    "    for i in range(min(a,b), max(a,b)+1):\n",
    "        answer += i\n",
    "    return answer"
   ]
  },
  {
   "cell_type": "code",
   "execution_count": 120,
   "metadata": {},
   "outputs": [],
   "source": [
    "assert solution(3,5) == 12\n",
    "assert solution(3,3) == 3\n",
    "assert solution(5,3) == 12"
   ]
  },
  {
   "cell_type": "code",
   "execution_count": 128,
   "metadata": {},
   "outputs": [],
   "source": [
    "# 완주하기 못한 선수 \n",
    "def solution(participant, completion):\n",
    "    answer = ''\n",
    "    for i in participant:\n",
    "        if i not in completion:\n",
    "            answer = i\n",
    "    # 완주하지 못한 선수가 동명이인인 경우엔 참가자 명단에 남은 이름이 없음\n",
    "    if anwer == '':\n",
    "        if ()\n",
    "    return 'vinko'"
   ]
  },
  {
   "cell_type": "code",
   "execution_count": 129,
   "metadata": {},
   "outputs": [
    {
     "ename": "SyntaxError",
     "evalue": "invalid syntax (<ipython-input-129-a8e7a2bcf969>, line 2)",
     "output_type": "error",
     "traceback": [
      "\u001b[0;36m  File \u001b[0;32m\"<ipython-input-129-a8e7a2bcf969>\"\u001b[0;36m, line \u001b[0;32m2\u001b[0m\n\u001b[0;31m    assert solution([\"leo\", \"kiki\", \"eden\"], [\"eden\", \"kiki\"]) == 'leo')\u001b[0m\n\u001b[0m                                                                       ^\u001b[0m\n\u001b[0;31mSyntaxError\u001b[0m\u001b[0;31m:\u001b[0m invalid syntax\n"
     ]
    }
   ],
   "source": [
    "assert solution([\"marina\", \"josipa\", \"nikola\", \"vinko\", 'leo', \"filipa\"], [\"josipa\", \"filipa\", \"marina\", \"nikola\"]) == 'vinko'\n",
    "assert solution([\"leo\", \"kiki\", \"eden\"], [\"eden\", \"kiki\"]) == 'leo')\n"
   ]
  },
  {
   "cell_type": "code",
   "execution_count": 135,
   "metadata": {},
   "outputs": [],
   "source": [
    "import collections\n",
    "\n",
    "def solution(participant, completion):\n",
    "    answer = collections.Counter(participant) - collections.Counter(completion)\n",
    "    return list(answer.keys())[0]"
   ]
  },
  {
   "cell_type": "code",
   "execution_count": 136,
   "metadata": {},
   "outputs": [],
   "source": [
    "assert solution([\"marina\", \"josipa\", \"nikola\", \"vinko\", 'leo', \"filipa\"], [\"josipa\", \"filipa\", \"marina\", \"nikola\"]) == 'vinko'\n"
   ]
  },
  {
   "cell_type": "code",
   "execution_count": null,
   "metadata": {},
   "outputs": [],
   "source": []
  }
 ],
 "metadata": {
  "kernelspec": {
   "display_name": "Python 3",
   "language": "python",
   "name": "python3"
  },
  "language_info": {
   "codemirror_mode": {
    "name": "ipython",
    "version": 3
   },
   "file_extension": ".py",
   "mimetype": "text/x-python",
   "name": "python",
   "nbconvert_exporter": "python",
   "pygments_lexer": "ipython3",
   "version": "3.7.4"
  }
 },
 "nbformat": 4,
 "nbformat_minor": 2
}
