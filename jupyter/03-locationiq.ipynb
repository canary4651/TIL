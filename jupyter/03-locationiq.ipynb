{
 "cells": [
  {
   "cell_type": "markdown",
   "metadata": {},
   "source": [
    "# LocationIQ로 위도, 경도 얻기\n",
    "\n",
    "> LocationIQ - Free & Fast Geocoding and Reverse Geocoding service\n",
    "\n",
    "<https://locationiq.com/>\n",
    "\n",
    "회원가입할 때 패스워드를 따로 입력하지고, 이름과 E-mail 주소만 받습니다.\n",
    "\n",
    "Token이 패스워드처럼 쓰이니 잊지 말고 챙겨두세요."
   ]
  },
  {
   "cell_type": "markdown",
   "metadata": {},
   "source": [
    "환경변수를 설정하고 Jupyter Notebook을 실행해 API 키를 사용합니다.\n",
    "\n",
    "반드시 Token을 바꿔서 입력해 주세요.\n",
    "\n",
    "```bash\n",
    "# 환경변수 설정\n",
    "# Mac, Linux 또는 Windows Git Bash 등에선 다음과 같이 export를 사용하시면 됩니다.\n",
    "export LOCATIONIQ_TOKEN=b023f593f83638\n",
    "# Windows 기본 환경에선 다음과 같이 set을 사용하세요.\n",
    "set LOCATIONIQ_TOKEN=b023f593f83638\n",
    "\n",
    "# Jupyter Notebook 실행\n",
    "jupyter notebook\n",
    "```"
   ]
  },
  {
   "cell_type": "code",
   "execution_count": 6,
   "metadata": {},
   "outputs": [],
   "source": [
    "# 환경 변수에서 API 키 가져오기\n",
    "\n",
    "import os\n",
    "\n",
    "LOCATIONIQ_TOKEN = os.environ['LOCATIONIQ_TOKEN']"
   ]
  },
  {
   "cell_type": "code",
   "execution_count": 7,
   "metadata": {},
   "outputs": [
    {
     "data": {
      "text/plain": [
       "'2.22.0'"
      ]
     },
     "execution_count": 7,
     "metadata": {},
     "output_type": "execute_result"
    }
   ],
   "source": [
    "# requests 사용\n",
    "\n",
    "import requests\n",
    "\n",
    "requests.__version__"
   ]
  },
  {
   "cell_type": "code",
   "execution_count": 8,
   "metadata": {},
   "outputs": [
    {
     "name": "stdout",
     "output_type": "stream",
     "text": [
      "<Response [200]>\n"
     ]
    }
   ],
   "source": [
    "# LocationIQ로 “서울창업허브” 검색\n",
    "\n",
    "# 원래 URL: https://us1.locationiq.com/v1/search.php?key=블라블라&q=서울창업허브&format=json\n",
    "# URL을 물음표(?)를 중심으로 두 부분으로 나눕니다.\n",
    "\n",
    "#url https://us1.locationiq.com/v1/search.php\n",
    "#    ?key=YOUR_PRIVATE_TOKEN&\n",
    "#    q=Empire%20State%20Building&\n",
    "#    format=json\n",
    "\n",
    "# 1. 물음표 앞부분\n",
    "url = 'https://us1.locationiq.com/v1/search.php'\n",
    "\n",
    "# 2. 물음표 뒷부분\n",
    "payload = {\n",
    "    'key': LOCATIONIQ_TOKEN,\n",
    "    'q': '서울창업허브',\n",
    "    'format': 'json'\n",
    "} #payload: 원래 parms인데 헷갈리니까 payload로 작성함(개발자들이 자주 쓰는 항목)\n",
    "\n",
    "# API 호출\n",
    "response = requests.get(url, params=payload)\n",
    "\n",
    "print(response) #파이썬에서 실행했더니 <>로 다뤄지는 내용 - 문자, 숫자가 아니라 개념상 api에서 제공하는 location id에 응답한거임 \n",
    "# 개념상 블라블라~~ -> 실체를 가질 때 '객체'라고 함 \n",
    "# 200 : 성공\n",
    "# 201 : 만드는 데 성공했다 \n",
    "# 204 : 원래 내용이 없는 거니까, 에러가 아니라 원래 흰 화면이다. \n",
    "# 200 번대면 그냥 다 잘 되고 있는 거임 \n",
    "# 500 Internal Server Error : 무책임..! 뭔가 잘못해서 에러야. (뭔지 모름)"
   ]
  },
  {
   "cell_type": "markdown",
   "metadata": {},
   "source": [
    "Response(응답)는 여러 내용을 담고 있습니다.\n",
    "\n",
    "가장 기본적인 게 바로 HTTP Status Code 입니다.\n",
    "\n",
    "<https://en.wikipedia.org/wiki/List_of_HTTP_status_codes>"
   ]
  },
  {
   "cell_type": "code",
   "execution_count": 4,
   "metadata": {},
   "outputs": [
    {
     "name": "stdout",
     "output_type": "stream",
     "text": [
      "200\n"
     ]
    }
   ],
   "source": [
    "# Response의 HTTP Status Code 확인\n",
    "\n",
    "print(response.status_code)"
   ]
  },
  {
   "cell_type": "markdown",
   "metadata": {},
   "source": [
    "가장 많이 쓰이는 건 역시 우리가 원하는 내용(텍스트)이죠."
   ]
  },
  {
   "cell_type": "code",
   "execution_count": 5,
   "metadata": {},
   "outputs": [
    {
     "name": "stdout",
     "output_type": "stream",
     "text": [
      "[{\"place_id\":\"206185511\",\"licence\":\"https:\\/\\/locationiq.com\\/attribution\",\"osm_type\":\"way\",\"osm_id\":\"608088218\",\"boundingbox\":[\"37.5463183\",\"37.5468967\",\"126.9492191\",\"126.9501552\"],\"lat\":\"37.54662875\",\"lon\":\"126.949684293519\",\"display_name\":\"Seoul Startup Hub, Baekbeom-ro 31-gil, Ahyeon-dong, Mapo-gu, Seoul, 04140, South Korea\",\"class\":\"office\",\"type\":\"government\",\"importance\":0.001}]\n"
     ]
    }
   ],
   "source": [
    "# Response의 Text 확인\n",
    "\n",
    "print(response.text) # .은 response 안의 status code(마이크의 볼륨 조절기같이)를 가지고 있는데 .text로 불러낼 수 있음 "
   ]
  },
  {
   "cell_type": "markdown",
   "metadata": {},
   "source": [
    "좀더 보기 좋게 JSON Beautifier로 바꿔봅니다.\n",
    "\n",
    "<https://www.jsonformatter.io/>"
   ]
  },
  {
   "cell_type": "markdown",
   "metadata": {},
   "source": [
    "```json\n",
    "[\n",
    "   {\n",
    "      \"place_id\": \"206185511\",\n",
    "      \"licence\": \"https://locationiq.com/attribution\",\n",
    "      \"osm_type\": \"way\",\n",
    "      \"osm_id\": \"608088218\",\n",
    "      \"boundingbox\": [\n",
    "         \"37.5463183\",\n",
    "         \"37.5468967\",\n",
    "         \"126.9492191\",\n",
    "         \"126.9501552\"\n",
    "      ],\n",
    "      \"lat\": \"37.54662875\",\n",
    "      \"lon\": \"126.949684293519\",\n",
    "      \"display_name\": \"Seoul Startup Hub, Baekbeom-ro 31-gil, Ahyeon-dong, Mapo-gu, Seoul, 04140, South Korea\",\n",
    "      \"class\": \"office\",\n",
    "      \"type\": \"government\",\n",
    "      \"importance\": 0.001\n",
    "   }\n",
    "]\n",
    "```"
   ]
  },
  {
   "cell_type": "markdown",
   "metadata": {},
   "source": [
    "JSON 데이터는 특별히 다룰 수 있습니다."
   ]
  },
  {
   "cell_type": "code",
   "execution_count": 9,
   "metadata": {},
   "outputs": [
    {
     "data": {
      "text/plain": [
       "[{'place_id': '206185511',\n",
       "  'licence': 'https://locationiq.com/attribution',\n",
       "  'osm_type': 'way',\n",
       "  'osm_id': '608088218',\n",
       "  'boundingbox': ['37.5463183', '37.5468967', '126.9492191', '126.9501552'],\n",
       "  'lat': '37.54662875',\n",
       "  'lon': '126.949684293519',\n",
       "  'display_name': 'Seoul Startup Hub, Baekbeom-ro 31-gil, Ahyeon-dong, Mapo-gu, Seoul, 04140, South Korea',\n",
       "  'class': 'office',\n",
       "  'type': 'government',\n",
       "  'importance': 0.001}]"
      ]
     },
     "execution_count": 9,
     "metadata": {},
     "output_type": "execute_result"
    }
   ],
   "source": [
    "# Response의 Text를 JSON으로 다룸.\n",
    "\n",
    "response.json()"
   ]
  },
  {
   "cell_type": "markdown",
   "metadata": {},
   "source": [
    "여기에 “결과(복수형)”란 이름을 붙여봅시다."
   ]
  },
  {
   "cell_type": "code",
   "execution_count": 10,
   "metadata": {},
   "outputs": [],
   "source": [
    "# 변수 할당\n",
    "\n",
    "results = response.json()"
   ]
  },
  {
   "cell_type": "code",
   "execution_count": 11,
   "metadata": {},
   "outputs": [
    {
     "data": {
      "text/plain": [
       "1"
      ]
     },
     "execution_count": 11,
     "metadata": {},
     "output_type": "execute_result"
    }
   ],
   "source": [
    "# 리스트에 있는 항목 갯수\n",
    "\n",
    "len(results)"
   ]
  },
  {
   "cell_type": "code",
   "execution_count": 12,
   "metadata": {},
   "outputs": [
    {
     "data": {
      "text/plain": [
       "{'place_id': '206185511',\n",
       " 'licence': 'https://locationiq.com/attribution',\n",
       " 'osm_type': 'way',\n",
       " 'osm_id': '608088218',\n",
       " 'boundingbox': ['37.5463183', '37.5468967', '126.9492191', '126.9501552'],\n",
       " 'lat': '37.54662875',\n",
       " 'lon': '126.949684293519',\n",
       " 'display_name': 'Seoul Startup Hub, Baekbeom-ro 31-gil, Ahyeon-dong, Mapo-gu, Seoul, 04140, South Korea',\n",
       " 'class': 'office',\n",
       " 'type': 'government',\n",
       " 'importance': 0.001}"
      ]
     },
     "execution_count": 12,
     "metadata": {},
     "output_type": "execute_result"
    }
   ],
   "source": [
    "# 첫번째 내용\n",
    "\n",
    "results[0] # 리스트 안의 딕셔너리 였기 때문에 0 하면 딕셔너리만 나오게 됨 "
   ]
  },
  {
   "cell_type": "code",
   "execution_count": 13,
   "metadata": {},
   "outputs": [
    {
     "data": {
      "text/plain": [
       "'37.54662875'"
      ]
     },
     "execution_count": 13,
     "metadata": {},
     "output_type": "execute_result"
    }
   ],
   "source": [
    "# 위도\n",
    "\n",
    "results[0]['lat']"
   ]
  },
  {
   "cell_type": "code",
   "execution_count": 14,
   "metadata": {},
   "outputs": [
    {
     "data": {
      "text/plain": [
       "'126.949684293519'"
      ]
     },
     "execution_count": 14,
     "metadata": {},
     "output_type": "execute_result"
    }
   ],
   "source": [
    "# 경도\n",
    "\n",
    "results[0]['lon']"
   ]
  },
  {
   "cell_type": "code",
   "execution_count": 17,
   "metadata": {},
   "outputs": [],
   "source": [
    "import pandas as pd"
   ]
  },
  {
   "cell_type": "code",
   "execution_count": 19,
   "metadata": {},
   "outputs": [
    {
     "data": {
      "text/plain": [
       "dict_keys(['place_id', 'licence', 'osm_type', 'osm_id', 'boundingbox', 'lat', 'lon', 'display_name', 'class', 'type', 'importance'])"
      ]
     },
     "execution_count": 19,
     "metadata": {},
     "output_type": "execute_result"
    }
   ],
   "source": [
    "columns = results[0].keys()\n",
    "columns"
   ]
  },
  {
   "cell_type": "code",
   "execution_count": 21,
   "metadata": {},
   "outputs": [
    {
     "data": {
      "text/html": [
       "<div>\n",
       "<style scoped>\n",
       "    .dataframe tbody tr th:only-of-type {\n",
       "        vertical-align: middle;\n",
       "    }\n",
       "\n",
       "    .dataframe tbody tr th {\n",
       "        vertical-align: top;\n",
       "    }\n",
       "\n",
       "    .dataframe thead th {\n",
       "        text-align: right;\n",
       "    }\n",
       "</style>\n",
       "<table border=\"1\" class=\"dataframe\">\n",
       "  <thead>\n",
       "    <tr style=\"text-align: right;\">\n",
       "      <th></th>\n",
       "      <th>place_id</th>\n",
       "      <th>licence</th>\n",
       "      <th>osm_type</th>\n",
       "      <th>osm_id</th>\n",
       "      <th>boundingbox</th>\n",
       "      <th>lat</th>\n",
       "      <th>lon</th>\n",
       "      <th>display_name</th>\n",
       "      <th>class</th>\n",
       "      <th>type</th>\n",
       "      <th>importance</th>\n",
       "    </tr>\n",
       "  </thead>\n",
       "  <tbody>\n",
       "    <tr>\n",
       "      <th>0</th>\n",
       "      <td>206185511</td>\n",
       "      <td>https://locationiq.com/attribution</td>\n",
       "      <td>way</td>\n",
       "      <td>608088218</td>\n",
       "      <td>[37.5463183, 37.5468967, 126.9492191, 126.9501...</td>\n",
       "      <td>37.54662875</td>\n",
       "      <td>126.949684293519</td>\n",
       "      <td>Seoul Startup Hub, Baekbeom-ro 31-gil, Ahyeon-...</td>\n",
       "      <td>office</td>\n",
       "      <td>government</td>\n",
       "      <td>0.001</td>\n",
       "    </tr>\n",
       "  </tbody>\n",
       "</table>\n",
       "</div>"
      ],
      "text/plain": [
       "    place_id                             licence osm_type     osm_id  \\\n",
       "0  206185511  https://locationiq.com/attribution      way  608088218   \n",
       "\n",
       "                                         boundingbox          lat  \\\n",
       "0  [37.5463183, 37.5468967, 126.9492191, 126.9501...  37.54662875   \n",
       "\n",
       "                lon                                       display_name  \\\n",
       "0  126.949684293519  Seoul Startup Hub, Baekbeom-ro 31-gil, Ahyeon-...   \n",
       "\n",
       "    class        type  importance  \n",
       "0  office  government       0.001  "
      ]
     },
     "execution_count": 21,
     "metadata": {},
     "output_type": "execute_result"
    }
   ],
   "source": [
    "pd.DataFrame(results, columns=columns)\n",
    "# xml은 힘들었는 데 jason하면 훨씬 편하게 잘 나옴 "
   ]
  },
  {
   "cell_type": "markdown",
   "metadata": {},
   "source": [
    "완전 틀린 주소를 찾으려고 하면 `404 Not Found` 에러를 얻게 됩니다."
   ]
  },
  {
   "cell_type": "code",
   "execution_count": 15,
   "metadata": {},
   "outputs": [
    {
     "name": "stdout",
     "output_type": "stream",
     "text": [
      "<Response [404]>\n"
     ]
    }
   ],
   "source": [
    "# 완전 틀린 주소를 찾을 때\n",
    "\n",
    "url = 'https://us1.locationiq.com/v1/search.php'\n",
    "payload = {\n",
    "    'key': LOCATIONIQ_TOKEN,\n",
    "    'q': '이 세계 어느 곳에도 없는 주소',\n",
    "    'format': 'json'\n",
    "}\n",
    "\n",
    "response = requests.get(url, params=payload)\n",
    "\n",
    "print(response)"
   ]
  },
  {
   "cell_type": "code",
   "execution_count": 16,
   "metadata": {},
   "outputs": [
    {
     "name": "stdout",
     "output_type": "stream",
     "text": [
      "{\"error\":\"Unable to geocode\"}\n"
     ]
    }
   ],
   "source": [
    "print(response.text)"
   ]
  },
  {
   "cell_type": "code",
   "execution_count": null,
   "metadata": {},
   "outputs": [],
   "source": []
  }
 ],
 "metadata": {
  "kernelspec": {
   "display_name": "Python 3",
   "language": "python",
   "name": "python3"
  },
  "language_info": {
   "codemirror_mode": {
    "name": "ipython",
    "version": 3
   },
   "file_extension": ".py",
   "mimetype": "text/x-python",
   "name": "python",
   "nbconvert_exporter": "python",
   "pygments_lexer": "ipython3",
   "version": "3.7.4"
  }
 },
 "nbformat": 4,
 "nbformat_minor": 2
}
