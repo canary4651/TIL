{
 "cells": [
  {
   "cell_type": "code",
   "execution_count": 25,
   "metadata": {},
   "outputs": [],
   "source": [
    "%matplotlib inline\n",
    "import pandas as pd"
   ]
  },
  {
   "cell_type": "code",
   "execution_count": 26,
   "metadata": {},
   "outputs": [],
   "source": [
    "# 메타 데이터와 학습용 평점 정보 불러오기\n",
    "metadata = pd.read_csv('metadata.csv')\n",
    "ratings = pd.read_csv('ratings-train.csv')"
   ]
  },
  {
   "cell_type": "code",
   "execution_count": 27,
   "metadata": {},
   "outputs": [],
   "source": [
    "# validation용 평점 정보 불러오기\n",
    "# 데이터가 너무 크기 때문에 20%(frac = 0.2) 크기만 샘플링\n",
    "# 학습하는 모두가 같은 샘플 데이터를 갖도록 random_state를 같은 값(17)으로 고정\n",
    "ratings_valid = pd.read_csv('ratings-valid.csv').sample(random_state=17, frac=0.2)"
   ]
  },
  {
   "cell_type": "code",
   "execution_count": 28,
   "metadata": {},
   "outputs": [
    {
     "data": {
      "text/plain": [
       "<matplotlib.axes._subplots.AxesSubplot at 0x119b1ef10>"
      ]
     },
     "execution_count": 28,
     "metadata": {},
     "output_type": "execute_result"
    },
    {
     "data": {
      "image/png": "[encoded data removed]",
      "text/plain": [
       "<Figure size 432x288 with 1 Axes>"
      ]
     },
     "metadata": {
      "needs_background": "light"
     },
     "output_type": "display_data"
    }
   ],
   "source": [
    "# 평점 정보의 분포 그려보기 (p. 20)\n",
    "ratings['rating'].hist()"
   ]
  },
  {
   "cell_type": "code",
   "execution_count": 29,
   "metadata": {},
   "outputs": [],
   "source": [
    "expected = ratings_valid[1:10]\n",
    "answer = ratings_valid[:10]"
   ]
  },
  {
   "cell_type": "code",
   "execution_count": 30,
   "metadata": {},
   "outputs": [],
   "source": [
    "# RMSE 계산하는 함수 만들기 (p. 23)\n",
    "import numpy as np\n",
    "def rmse(expected, answer):\n",
    "    joined = pd.merge(answer, expected, on=['userid', 'itemid'], how='left')\n",
    "    joined['rating_y'] = joined['rating_y'].fillna(0)\n",
    "    joined['square_error'] = (joined['rating_x'] - joined['rating_y']) ** 2\n",
    "    return np.sqrt(joined['square_error'].mean())"
   ]
  },
  {
   "cell_type": "code",
   "execution_count": 6,
   "metadata": {},
   "outputs": [
    {
     "data": {
      "text/plain": [
       "2.8460498941515415"
      ]
     },
     "execution_count": 6,
     "metadata": {},
     "output_type": "execute_result"
    }
   ],
   "source": [
    "rmse(expected, answer)"
   ]
  },
  {
   "cell_type": "code",
   "execution_count": 7,
   "metadata": {},
   "outputs": [
    {
     "data": {
      "text/plain": [
       "2.7423239390279464"
      ]
     },
     "execution_count": 7,
     "metadata": {},
     "output_type": "execute_result"
    }
   ],
   "source": [
    "# 모든 예측을 8점으로 하는 추천 로직\n",
    "def predict(u, i):\n",
    "    return 8.0\n",
    "\n",
    "expected = ratings_valid.copy() #valid set 복사 (원본 데이터 훼손 안하려고)\n",
    "expected['rating'] = expected.apply( \n",
    "    lambda row: predict(row['userid'], row['itemid']), axis=1) \n",
    "#예측한 데이터를 넣어주기 \n",
    "# .apply 함수로 lambda 써서 expected에 rating 칼럼을 만들어서 예측 데이터를 넣어줌 \n",
    "\n",
    "rmse(expected, ratings_valid)"
   ]
  },
  {
   "cell_type": "code",
   "execution_count": 8,
   "metadata": {},
   "outputs": [
    {
     "data": {
      "text/plain": [
       "2.418031954051125"
      ]
     },
     "execution_count": 8,
     "metadata": {},
     "output_type": "execute_result"
    }
   ],
   "source": [
    "# 모든 예측을 전체 평점의 평균으로 계산하는 추천 로직 (p. 24)\n",
    "r_mean = ratings['rating'].mean()\n",
    "def predict(u, i):\n",
    "    return r_mean\n",
    "\n",
    "expected = ratings_valid.copy()\n",
    "expected['rating'] = expected.apply(\n",
    "    lambda row: predict(row['userid'], row['itemid']), axis=1)\n",
    "\n",
    "rmse(expected, ratings_valid)"
   ]
  },
  {
   "cell_type": "code",
   "execution_count": 9,
   "metadata": {},
   "outputs": [
    {
     "data": {
      "text/plain": [
       "2.1909154513519242"
      ]
     },
     "execution_count": 9,
     "metadata": {},
     "output_type": "execute_result"
    }
   ],
   "source": [
    "# 모든 예측을 주어진 사용자의 평균 평점으로 계산하는 추천 로직 (p. 25)\n",
    "def predict(u, i):\n",
    "    return ratings[ratings['userid'] == u]['rating'].mean()\n",
    "\n",
    "expected = ratings_valid.copy()\n",
    "expected['rating'] = expected.apply(\n",
    "    lambda row: predict(row['userid'], row['itemid']), axis=1)\n",
    "\n",
    "rmse(expected, ratings_valid)"
   ]
  },
  {
   "cell_type": "code",
   "execution_count": 10,
   "metadata": {},
   "outputs": [
    {
     "data": {
      "text/plain": [
       "2.237838086446809"
      ]
     },
     "execution_count": 10,
     "metadata": {},
     "output_type": "execute_result"
    }
   ],
   "source": [
    "# 모든 예측을 주어진 영화의 평균 평점으로 계산하는 추천 로직 (p. 25)\n",
    "def predict(u, i):\n",
    "    return ratings[ratings['itemid'] == i]['rating'].mean()\n",
    "\n",
    "expected = ratings_valid.copy()\n",
    "expected['rating'] = expected.apply(\n",
    "    lambda row: predict(row['userid'], row['itemid']), axis=1)\n",
    "\n",
    "rmse(expected, ratings_valid)"
   ]
  },
  {
   "cell_type": "code",
   "execution_count": 38,
   "metadata": {},
   "outputs": [],
   "source": [
    "# 서로 다른 사용자 u, v에 대해 jaccard similarity 계산하는 함수 (p. 28)\n",
    "all_users = ratings['userid'].unique()\n",
    "i_dict = {u: set(ratings[ratings['userid'] == u]['itemid']) for u in all_users}\n",
    "def sim(u, v):\n",
    "    # i_u = set(ratings[ratings['userid'] == u]['itemid'])\n",
    "    # i_v = set(ratings[ratings['userid'] == v]['itemid'])\n",
    "    i_u = i_dict[u]\n",
    "    i_v = i_dict[v]\n",
    "    \n",
    "    cup = i_u | i_v\n",
    "    if len(cup) == 0:\n",
    "        return 0.0\n",
    "    cap = i_u & i_v\n",
    "    return len(cap) / len(cup)"
   ]
  },
  {
   "cell_type": "code",
   "execution_count": 39,
   "metadata": {},
   "outputs": [
    {
     "data": {
      "text/plain": [
       "0.08333333333333333"
      ]
     },
     "execution_count": 39,
     "metadata": {},
     "output_type": "execute_result"
    }
   ],
   "source": [
    "sim('TERhUA==', 'Q1ladXM=')"
   ]
  },
  {
   "cell_type": "code",
   "execution_count": 82,
   "metadata": {},
   "outputs": [],
   "source": [
    "# 비슷한 영화를 소비한 k명의 사용자 집합 U_u를 계산하는 similar_users(u, k) 함수 (p. 29)\n",
    "def similar_users(u, k):\n",
    "    sims = sorted([(sim(u, v), v) for v in all_users if u != v], reverse=True)\n",
    "    topk_users = [v for s, v in sims][:k]\n",
    "    return pd.DataFrame(topk_users, columns=['userid'])"
   ]
  },
  {
   "cell_type": "code",
   "execution_count": 54,
   "metadata": {},
   "outputs": [],
   "source": [
    "# 위에 내용 잘라서 코드 넣기 \n",
    "def similar_users(u, k):\n",
    "    # (자카드 sim 계산, 어떤 유저인지)  u 중 u는 중복이니까 빼야함 그래서 u != v랑 다음 \n",
    "    sims = [(sim(u, v), v) for v in all_users if u != v]\n",
    "    # 어떤 유저인지 유사도 정렬, 내림차순\n",
    "    sorted_sims = sorted(sims,  reverse=True)\n",
    "    topk_sims = sorted_sims[:k] # 상위 k개만 뽑기 (앞에서부터 가장 큰 sim 유저가 나옴)\n",
    "    topk_users = [v for s, v in topk_sims] # user만 따로 빼기 (s-u랑 짝인데 유저만 가지고)\n",
    "    return pd.DataFrame(topk_users, columns=['userid'])"
   ]
  },
  {
   "cell_type": "code",
   "execution_count": 55,
   "metadata": {},
   "outputs": [
    {
     "data": {
      "text/html": [
       "<div>\n",
       "<style scoped>\n",
       "    .dataframe tbody tr th:only-of-type {\n",
       "        vertical-align: middle;\n",
       "    }\n",
       "\n",
       "    .dataframe tbody tr th {\n",
       "        vertical-align: top;\n",
       "    }\n",
       "\n",
       "    .dataframe thead th {\n",
       "        text-align: right;\n",
       "    }\n",
       "</style>\n",
       "<table border=\"1\" class=\"dataframe\">\n",
       "  <thead>\n",
       "    <tr style=\"text-align: right;\">\n",
       "      <th></th>\n",
       "      <th>userid</th>\n",
       "    </tr>\n",
       "  </thead>\n",
       "  <tbody>\n",
       "    <tr>\n",
       "      <th>0</th>\n",
       "      <td>YzkyQQ==</td>\n",
       "    </tr>\n",
       "    <tr>\n",
       "      <th>1</th>\n",
       "      <td>NGdmcVQ=</td>\n",
       "    </tr>\n",
       "    <tr>\n",
       "      <th>2</th>\n",
       "      <td>M2hETGQ=</td>\n",
       "    </tr>\n",
       "    <tr>\n",
       "      <th>3</th>\n",
       "      <td>V0NyaQ==</td>\n",
       "    </tr>\n",
       "    <tr>\n",
       "      <th>4</th>\n",
       "      <td>QTB5d0E=</td>\n",
       "    </tr>\n",
       "  </tbody>\n",
       "</table>\n",
       "</div>"
      ],
      "text/plain": [
       "     userid\n",
       "0  YzkyQQ==\n",
       "1  NGdmcVQ=\n",
       "2  M2hETGQ=\n",
       "3  V0NyaQ==\n",
       "4  QTB5d0E="
      ]
     },
     "execution_count": 55,
     "metadata": {},
     "output_type": "execute_result"
    }
   ],
   "source": [
    "similar_users('TERhUA==', 5)"
   ]
  },
  {
   "cell_type": "code",
   "execution_count": 80,
   "metadata": {},
   "outputs": [],
   "source": [
    "def predict(u, i):\n",
    "    topk_users = similar_users(u, 5)\n",
    "    topk_users['sim'] = topk_users.apply(lambda row: sim(u, row['userid']), axis=1)\n",
    "    i_ratings = ratings[ratings['itemid'] == i]\n",
    "    joined = pd.merge(topk_users, i_ratings, on='userid')\n",
    "    joined['weighted_rating'] = joined['sim'] * joined['rating']\n",
    "    return joined['weighted_rating'].sum() / joined['sim'].sum()"
   ]
  },
  {
   "cell_type": "code",
   "execution_count": 16,
   "metadata": {},
   "outputs": [
    {
     "name": "stderr",
     "output_type": "stream",
     "text": [
      "/usr/local/lib/python3.7/site-packages/ipykernel_launcher.py:7: RuntimeWarning: invalid value encountered in double_scalars\n",
      "  import sys\n"
     ]
    },
    {
     "data": {
      "text/plain": [
       "4.4360709881776135"
      ]
     },
     "execution_count": 16,
     "metadata": {},
     "output_type": "execute_result"
    }
   ],
   "source": [
    "expected = ratings_valid.copy()\n",
    "expected['rating'] = expected.apply(\n",
    "    lambda row: predict(row['userid'], row['itemid']), axis=1)\n",
    "\n",
    "rmse(expected, ratings_valid)\n",
    "# rmse가 4.4까지 떨어짐 (더 안 좋은 로직)"
   ]
  },
  {
   "cell_type": "code",
   "execution_count": 66,
   "metadata": {},
   "outputs": [],
   "source": [
    "#5 \n",
    "# top_k 유저를 i 영화를 본 적이 있는 사람 중에 고른다. \n",
    "# sum{(u와 v의 sim)(v의 i평점 - v의 전체 평점 평균)}\n",
    "# 유저별 평균 평균 평점 구하기 \n",
    "def predict_mean(u,i):\n",
    "    return ratings[ratings['userid'] == u]['rating'].mean()\n",
    "\n",
    "def similar_users(u, k, a):\n",
    "    sims = sorted([(sim(u, v), v) for v in a if u != v], reverse=True)\n",
    "    topk_users = [v for s, v in sims][:k]\n",
    "    return pd.DataFrame(topk_users, columns=['userid'])\n",
    "\n",
    "def preditc(u,i):\n",
    "    a = ratings[ratings['itemid']==i]['userid'].unique()\n",
    "    topk_users = similar_users(u,5,a)\n",
    "    topk_users['sim'] = topk_users.apply(lambda row:sim(u,row['userid']),axis=1)\n",
    "    topk_users['mean'] = topk_users.apply(lambda reow:predict_mean(row['userid'],0), axis=1)\n",
    "    i_ratings = ratings[ratings['itemid']==i]\n",
    "    joined = pd.merge(topk_users, i_ratings, on ='userid')\n",
    "    joined['weighted_rating'] = joined['sim']*(joined['rating']-joined['mean'])\n",
    "    sum_j = joined['weighted_rating'].sum()/joined['sim'].sum()\n",
    "    r_u_mean = predict_mean(u,2)\n",
    "    return r_u_mean + sum_j"
   ]
  },
  {
   "cell_type": "code",
   "execution_count": 67,
   "metadata": {
    "collapsed": true
   },
   "outputs": [
    {
     "ename": "TypeError",
     "evalue": "(\"similar_users() missing 1 required positional argument: 'a'\", 'occurred at index 1000')",
     "output_type": "error",
     "traceback": [
      "\u001b[0;31m---------------------------------------------------------------------------\u001b[0m",
      "\u001b[0;31mTypeError\u001b[0m                                 Traceback (most recent call last)",
      "\u001b[0;32m<ipython-input-67-669214e0f0b6>\u001b[0m in \u001b[0;36m<module>\u001b[0;34m\u001b[0m\n\u001b[1;32m      1\u001b[0m \u001b[0mexpected\u001b[0m \u001b[0;34m=\u001b[0m \u001b[0mratings_valid\u001b[0m\u001b[0;34m.\u001b[0m\u001b[0mcopy\u001b[0m\u001b[0;34m(\u001b[0m\u001b[0;34m)\u001b[0m\u001b[0;34m\u001b[0m\u001b[0;34m\u001b[0m\u001b[0m\n\u001b[1;32m      2\u001b[0m expected['rating'] = expected.apply(\n\u001b[0;32m----> 3\u001b[0;31m     lambda row: predict(row['userid'], row['itemid']), axis=1)\n\u001b[0m\u001b[1;32m      4\u001b[0m \u001b[0;34m\u001b[0m\u001b[0m\n\u001b[1;32m      5\u001b[0m \u001b[0mrmse\u001b[0m\u001b[0;34m(\u001b[0m\u001b[0mexpected\u001b[0m\u001b[0;34m,\u001b[0m \u001b[0mratings_valid\u001b[0m\u001b[0;34m)\u001b[0m\u001b[0;34m\u001b[0m\u001b[0;34m\u001b[0m\u001b[0m\n",
      "\u001b[0;32m/usr/local/lib/python3.7/site-packages/pandas/core/frame.py\u001b[0m in \u001b[0;36mapply\u001b[0;34m(self, func, axis, broadcast, raw, reduce, result_type, args, **kwds)\u001b[0m\n\u001b[1;32m   6904\u001b[0m             \u001b[0mkwds\u001b[0m\u001b[0;34m=\u001b[0m\u001b[0mkwds\u001b[0m\u001b[0;34m,\u001b[0m\u001b[0;34m\u001b[0m\u001b[0;34m\u001b[0m\u001b[0m\n\u001b[1;32m   6905\u001b[0m         )\n\u001b[0;32m-> 6906\u001b[0;31m         \u001b[0;32mreturn\u001b[0m \u001b[0mop\u001b[0m\u001b[0;34m.\u001b[0m\u001b[0mget_result\u001b[0m\u001b[0;34m(\u001b[0m\u001b[0;34m)\u001b[0m\u001b[0;34m\u001b[0m\u001b[0;34m\u001b[0m\u001b[0m\n\u001b[0m\u001b[1;32m   6907\u001b[0m \u001b[0;34m\u001b[0m\u001b[0m\n\u001b[1;32m   6908\u001b[0m     \u001b[0;32mdef\u001b[0m \u001b[0mapplymap\u001b[0m\u001b[0;34m(\u001b[0m\u001b[0mself\u001b[0m\u001b[0;34m,\u001b[0m \u001b[0mfunc\u001b[0m\u001b[0;34m)\u001b[0m\u001b[0;34m:\u001b[0m\u001b[0;34m\u001b[0m\u001b[0;34m\u001b[0m\u001b[0m\n",
      "\u001b[0;32m/usr/local/lib/python3.7/site-packages/pandas/core/apply.py\u001b[0m in \u001b[0;36mget_result\u001b[0;34m(self)\u001b[0m\n\u001b[1;32m    184\u001b[0m             \u001b[0;32mreturn\u001b[0m \u001b[0mself\u001b[0m\u001b[0;34m.\u001b[0m\u001b[0mapply_raw\u001b[0m\u001b[0;34m(\u001b[0m\u001b[0;34m)\u001b[0m\u001b[0;34m\u001b[0m\u001b[0;34m\u001b[0m\u001b[0m\n\u001b[1;32m    185\u001b[0m \u001b[0;34m\u001b[0m\u001b[0m\n\u001b[0;32m--> 186\u001b[0;31m         \u001b[0;32mreturn\u001b[0m \u001b[0mself\u001b[0m\u001b[0;34m.\u001b[0m\u001b[0mapply_standard\u001b[0m\u001b[0;34m(\u001b[0m\u001b[0;34m)\u001b[0m\u001b[0;34m\u001b[0m\u001b[0;34m\u001b[0m\u001b[0m\n\u001b[0m\u001b[1;32m    187\u001b[0m \u001b[0;34m\u001b[0m\u001b[0m\n\u001b[1;32m    188\u001b[0m     \u001b[0;32mdef\u001b[0m \u001b[0mapply_empty_result\u001b[0m\u001b[0;34m(\u001b[0m\u001b[0mself\u001b[0m\u001b[0;34m)\u001b[0m\u001b[0;34m:\u001b[0m\u001b[0;34m\u001b[0m\u001b[0;34m\u001b[0m\u001b[0m\n",
      "\u001b[0;32m/usr/local/lib/python3.7/site-packages/pandas/core/apply.py\u001b[0m in \u001b[0;36mapply_standard\u001b[0;34m(self)\u001b[0m\n\u001b[1;32m    290\u001b[0m \u001b[0;34m\u001b[0m\u001b[0m\n\u001b[1;32m    291\u001b[0m         \u001b[0;31m# compute the result using the series generator\u001b[0m\u001b[0;34m\u001b[0m\u001b[0;34m\u001b[0m\u001b[0;34m\u001b[0m\u001b[0m\n\u001b[0;32m--> 292\u001b[0;31m         \u001b[0mself\u001b[0m\u001b[0;34m.\u001b[0m\u001b[0mapply_series_generator\u001b[0m\u001b[0;34m(\u001b[0m\u001b[0;34m)\u001b[0m\u001b[0;34m\u001b[0m\u001b[0;34m\u001b[0m\u001b[0m\n\u001b[0m\u001b[1;32m    293\u001b[0m \u001b[0;34m\u001b[0m\u001b[0m\n\u001b[1;32m    294\u001b[0m         \u001b[0;31m# wrap results\u001b[0m\u001b[0;34m\u001b[0m\u001b[0;34m\u001b[0m\u001b[0;34m\u001b[0m\u001b[0m\n",
      "\u001b[0;32m/usr/local/lib/python3.7/site-packages/pandas/core/apply.py\u001b[0m in \u001b[0;36mapply_series_generator\u001b[0;34m(self)\u001b[0m\n\u001b[1;32m    319\u001b[0m             \u001b[0;32mtry\u001b[0m\u001b[0;34m:\u001b[0m\u001b[0;34m\u001b[0m\u001b[0;34m\u001b[0m\u001b[0m\n\u001b[1;32m    320\u001b[0m                 \u001b[0;32mfor\u001b[0m \u001b[0mi\u001b[0m\u001b[0;34m,\u001b[0m \u001b[0mv\u001b[0m \u001b[0;32min\u001b[0m \u001b[0menumerate\u001b[0m\u001b[0;34m(\u001b[0m\u001b[0mseries_gen\u001b[0m\u001b[0;34m)\u001b[0m\u001b[0;34m:\u001b[0m\u001b[0;34m\u001b[0m\u001b[0;34m\u001b[0m\u001b[0m\n\u001b[0;32m--> 321\u001b[0;31m                     \u001b[0mresults\u001b[0m\u001b[0;34m[\u001b[0m\u001b[0mi\u001b[0m\u001b[0;34m]\u001b[0m \u001b[0;34m=\u001b[0m \u001b[0mself\u001b[0m\u001b[0;34m.\u001b[0m\u001b[0mf\u001b[0m\u001b[0;34m(\u001b[0m\u001b[0mv\u001b[0m\u001b[0;34m)\u001b[0m\u001b[0;34m\u001b[0m\u001b[0;34m\u001b[0m\u001b[0m\n\u001b[0m\u001b[1;32m    322\u001b[0m                     \u001b[0mkeys\u001b[0m\u001b[0;34m.\u001b[0m\u001b[0mappend\u001b[0m\u001b[0;34m(\u001b[0m\u001b[0mv\u001b[0m\u001b[0;34m.\u001b[0m\u001b[0mname\u001b[0m\u001b[0;34m)\u001b[0m\u001b[0;34m\u001b[0m\u001b[0;34m\u001b[0m\u001b[0m\n\u001b[1;32m    323\u001b[0m             \u001b[0;32mexcept\u001b[0m \u001b[0mException\u001b[0m \u001b[0;32mas\u001b[0m \u001b[0me\u001b[0m\u001b[0;34m:\u001b[0m\u001b[0;34m\u001b[0m\u001b[0;34m\u001b[0m\u001b[0m\n",
      "\u001b[0;32m<ipython-input-67-669214e0f0b6>\u001b[0m in \u001b[0;36m<lambda>\u001b[0;34m(row)\u001b[0m\n\u001b[1;32m      1\u001b[0m \u001b[0mexpected\u001b[0m \u001b[0;34m=\u001b[0m \u001b[0mratings_valid\u001b[0m\u001b[0;34m.\u001b[0m\u001b[0mcopy\u001b[0m\u001b[0;34m(\u001b[0m\u001b[0;34m)\u001b[0m\u001b[0;34m\u001b[0m\u001b[0;34m\u001b[0m\u001b[0m\n\u001b[1;32m      2\u001b[0m expected['rating'] = expected.apply(\n\u001b[0;32m----> 3\u001b[0;31m     lambda row: predict(row['userid'], row['itemid']), axis=1)\n\u001b[0m\u001b[1;32m      4\u001b[0m \u001b[0;34m\u001b[0m\u001b[0m\n\u001b[1;32m      5\u001b[0m \u001b[0mrmse\u001b[0m\u001b[0;34m(\u001b[0m\u001b[0mexpected\u001b[0m\u001b[0;34m,\u001b[0m \u001b[0mratings_valid\u001b[0m\u001b[0;34m)\u001b[0m\u001b[0;34m\u001b[0m\u001b[0;34m\u001b[0m\u001b[0m\n",
      "\u001b[0;32m<ipython-input-17-df9876a51fff>\u001b[0m in \u001b[0;36mpredict\u001b[0;34m(u, i)\u001b[0m\n\u001b[1;32m      1\u001b[0m \u001b[0;32mdef\u001b[0m \u001b[0mpredict\u001b[0m\u001b[0;34m(\u001b[0m\u001b[0mu\u001b[0m\u001b[0;34m,\u001b[0m \u001b[0mi\u001b[0m\u001b[0;34m)\u001b[0m\u001b[0;34m:\u001b[0m\u001b[0;34m\u001b[0m\u001b[0;34m\u001b[0m\u001b[0m\n\u001b[0;32m----> 2\u001b[0;31m     \u001b[0mtopk_users\u001b[0m \u001b[0;34m=\u001b[0m \u001b[0msimilar_users\u001b[0m\u001b[0;34m(\u001b[0m\u001b[0mu\u001b[0m\u001b[0;34m,\u001b[0m \u001b[0;36m5\u001b[0m\u001b[0;34m)\u001b[0m\u001b[0;34m\u001b[0m\u001b[0;34m\u001b[0m\u001b[0m\n\u001b[0m\u001b[1;32m      3\u001b[0m     \u001b[0mtopk_users\u001b[0m\u001b[0;34m[\u001b[0m\u001b[0;34m'sim'\u001b[0m\u001b[0;34m]\u001b[0m \u001b[0;34m=\u001b[0m \u001b[0mtopk_users\u001b[0m\u001b[0;34m.\u001b[0m\u001b[0mapply\u001b[0m\u001b[0;34m(\u001b[0m\u001b[0;32mlambda\u001b[0m \u001b[0mrow\u001b[0m\u001b[0;34m:\u001b[0m \u001b[0msim\u001b[0m\u001b[0;34m(\u001b[0m\u001b[0mu\u001b[0m\u001b[0;34m,\u001b[0m \u001b[0mrow\u001b[0m\u001b[0;34m[\u001b[0m\u001b[0;34m'userid'\u001b[0m\u001b[0;34m]\u001b[0m\u001b[0;34m)\u001b[0m\u001b[0;34m,\u001b[0m \u001b[0maxis\u001b[0m\u001b[0;34m=\u001b[0m\u001b[0;36m1\u001b[0m\u001b[0;34m)\u001b[0m\u001b[0;34m\u001b[0m\u001b[0;34m\u001b[0m\u001b[0m\n\u001b[1;32m      4\u001b[0m     \u001b[0mi_ratings\u001b[0m \u001b[0;34m=\u001b[0m \u001b[0mratings\u001b[0m\u001b[0;34m[\u001b[0m\u001b[0mratings\u001b[0m\u001b[0;34m[\u001b[0m\u001b[0;34m'itemid'\u001b[0m\u001b[0;34m]\u001b[0m \u001b[0;34m==\u001b[0m \u001b[0mi\u001b[0m\u001b[0;34m]\u001b[0m\u001b[0;34m\u001b[0m\u001b[0;34m\u001b[0m\u001b[0m\n\u001b[1;32m      5\u001b[0m     \u001b[0mjoined\u001b[0m \u001b[0;34m=\u001b[0m \u001b[0mpd\u001b[0m\u001b[0;34m.\u001b[0m\u001b[0mmerge\u001b[0m\u001b[0;34m(\u001b[0m\u001b[0mtopk_users\u001b[0m\u001b[0;34m,\u001b[0m \u001b[0mi_ratings\u001b[0m\u001b[0;34m,\u001b[0m \u001b[0mon\u001b[0m\u001b[0;34m=\u001b[0m\u001b[0;34m'userid'\u001b[0m\u001b[0;34m)\u001b[0m\u001b[0;34m\u001b[0m\u001b[0;34m\u001b[0m\u001b[0m\n",
      "\u001b[0;31mTypeError\u001b[0m: (\"similar_users() missing 1 required positional argument: 'a'\", 'occurred at index 1000')"
     ]
    }
   ],
   "source": [
    "\n",
    "expected = ratings_valid.copy()\n",
    "expected['rating'] = expected.apply(\n",
    "    lambda row: predict(row['userid'], row['itemid']), axis=1)\n",
    "\n",
    "rmse(expected, ratings_valid)"
   ]
  },
  {
   "cell_type": "code",
   "execution_count": 70,
   "metadata": {},
   "outputs": [],
   "source": [
    "#    top_k 유저를 i 영화를 본 적이 있는 사람 중에 고른다.\n",
    "#    sum{(u와 v의 sim)(v의 i평점 - v의 전체 평점 평균)}\n",
    "#         ----------  -------      ---------------\n",
    "#    ----      1        2               3\n",
    "#      4\n",
    "#    u의 전체 영화 평균 => 5\n",
    "\n",
    "# 비슷한 영화를 소비한 k명의 사용자 집합 U_u를 계산하는 similar_users(u, k) 함수 (p. 29)\n",
    "\n",
    "# 모든 예측을 주어진 사용자의 평균 평점으로 계산하는 추천 로직\n",
    "\n",
    "def predict_umean(u, i):\n",
    "    return ratings[ratings['userid'] == u]['rating'].mean()\n",
    "\n",
    "def similar_users(u, k, a):\n",
    "    sims = sorted([(sim(u, v), v) for v in a if u != v], reverse=True)\n",
    "    topk_users = [v for s, v in sims][:k]\n",
    "    return pd.DataFrame(topk_users, columns=['userid'])\n",
    "\n",
    "def predict(u, i):  \n",
    "    a = ratings[ratings['itemid'] == i]['userid'].unique()\n",
    "    topk_users = similar_users(u, 5, a)\n",
    "        # 1 (u와 v의 sim)\n",
    "    topk_users['sim'] = topk_users.apply(lambda row: sim(u, row['userid']), axis=1)\n",
    "    \n",
    "    # 3 (v의 전체 평점 평균)\n",
    "    \n",
    "    topk_users['mean_rate'] = topk_users.apply(lambda row: predict_umean(row['userid'], 0), axis=1)\n",
    "    \n",
    "    # 2 (i영화의 유저마다 평점)\n",
    "    i_ratings = ratings[ratings['itemid'] == i]\n",
    "    \n",
    "    joined = pd.merge(topk_users, i_ratings, on='userid')\n",
    "    \n",
    "    joined['weighted_rating'] = joined['sim'] * (joined['rating'] - joined['mean_rate'])\n",
    "   \n",
    "    # 4 \n",
    "    sum_j = joined['weighted_rating'].sum() / joined['sim'].sum()\n",
    "    \n",
    "    # 5\n",
    "    r_u_mean = predict_umean(u, 2)\n",
    "    \n",
    "    return r_u_mean + sum_j"
   ]
  },
  {
   "cell_type": "code",
   "execution_count": 71,
   "metadata": {},
   "outputs": [
    {
     "data": {
      "text/plain": [
       "2.131802386637612"
      ]
     },
     "execution_count": 71,
     "metadata": {},
     "output_type": "execute_result"
    }
   ],
   "source": [
    "\n",
    "expected = ratings_valid.copy()\n",
    "expected['rating'] = expected.apply(\n",
    "    lambda row: predict(row['userid'], row['itemid']), axis=1)\n",
    "\n",
    "rmse(expected, ratings_valid)"
   ]
  },
  {
   "cell_type": "code",
   "execution_count": null,
   "metadata": {},
   "outputs": [],
   "source": [
    "# u의 평균평점 + 1/sum(sim(u, v)) * sum(sim(u,v)*(i에 대한 v의 평점 - v의 평균 평점))\n",
    "\n",
    "def predict_bonus(u, i):\n",
    "    # u 유저의 평균\n",
    "    r_bar = predict_u_mean(u)\n",
    "    \n",
    "    # top k명 유저 찾기\n",
    "    topk_users = similar_users(u, 5)\n",
    "    # sim 컬럼에 top k 유저들과 u의 similarity 값 저장\n",
    "    topk_users['sim'] = topk_users.apply(lambda row: sim(u, row['userid']), axis=1)\n",
    "    # top k 유저들이 본 모든 영화의 rating 가져오기\n",
    "    topk_users_with_rating = topk_users.merge(ratings_valid, how='left', on='userid')\n",
    "    # mean 컬럼에 top k 유저들의 평균 평점 저장\n",
    "    topk_users_with_rating['mean'] = topk_users_with_rating.apply(lambda row: predict_u_mean(row['userid']), axis=1)\n",
    "    # top k 유저들이 본 영화들 중 영화 i의 값만 가져옴\n",
    "    topk_users_with_i_rating = topk_users_with_rating[topk_users_with_rating['itemid'] == i]\n",
    "    \n",
    "    # 가중평균 계산해서 weighted 컬럼에 저장\n",
    "    topk_users_with_i_rating['weighted'] = topk_users_with_i_rating['sim']*(topk_users_with_i_rating['rating']-topk_users_with_i_rating['mean'])\n",
    "    \n",
    "    # 분모가 0일 경우 u 유저의 평균만 반환\n",
    "    return r_bar if topk_users_with_i_rating['sim'].sum() == 0 else r_bar + topk_users_with_i_rating['weighted'].sum() / topk_users_with_i_rating['sim'].sum()"
   ]
  },
  {
   "cell_type": "code",
   "execution_count": 109,
   "metadata": {},
   "outputs": [
    {
     "data": {
      "text/plain": [
       "2.24504610396613"
      ]
     },
     "execution_count": 109,
     "metadata": {},
     "output_type": "execute_result"
    }
   ],
   "source": [
    "# 선생님 코드 \n",
    "r_mean = ratings.groupby('userid')['rating'].mean().reset_index()\n",
    "def predict(u,i):\n",
    "    topk = similar_users(u,5) #k 값을 10으로 늘리면 2.19로 더 괜찮아짐 \n",
    "    topk['sim'] = topk.apply(lambda x: sim(u,x['userid']), axis=1)\n",
    "    joined =pd.merge(topk, ratings[ratings['itemid']==i], on = 'userid')\n",
    "    joined = pd.merge(joined, r_mean, on='userid')\n",
    "    joined['score'] = joined['sim']*(joined['rating_x']-joined['rating_y'])\n",
    "    # x 값이 항사 클까? 노노 만약 더 작다면 유저가 평균보다 더 낮은 값을 준 영화 -> 아! 싫어하구나 라고 판단할 수 있음 \n",
    "    mean_u =r_mean[r_mean['userid']==u]['rating'].iloc[0]\n",
    "    sim_sum = joined['sim'].sum()\n",
    "    r_ui = mean_u\n",
    "    if sim_sum != 0.0:\n",
    "        r_ui += joined['score'].sum()/sim_sum  #심섬이 0일 때, 유저의 평균을 반환한다\n",
    "        \n",
    "    return r_ui\n",
    "\n",
    "expected = ratings_valid.copy()\n",
    "expected['rating'] = expected.apply(lambda row: predict(row['userid'], row['itemid']), axis=1)\n",
    "\n",
    "rmse(expected, ratings_valid)"
   ]
  },
  {
   "cell_type": "markdown",
   "metadata": {},
   "source": [
    "### 하나씩 따로 봐보자 "
   ]
  },
  {
   "cell_type": "code",
   "execution_count": 93,
   "metadata": {},
   "outputs": [
    {
     "data": {
      "text/html": [
       "<div>\n",
       "<style scoped>\n",
       "    .dataframe tbody tr th:only-of-type {\n",
       "        vertical-align: middle;\n",
       "    }\n",
       "\n",
       "    .dataframe tbody tr th {\n",
       "        vertical-align: top;\n",
       "    }\n",
       "\n",
       "    .dataframe thead th {\n",
       "        text-align: right;\n",
       "    }\n",
       "</style>\n",
       "<table border=\"1\" class=\"dataframe\">\n",
       "  <thead>\n",
       "    <tr style=\"text-align: right;\">\n",
       "      <th></th>\n",
       "      <th>userid</th>\n",
       "    </tr>\n",
       "  </thead>\n",
       "  <tbody>\n",
       "    <tr>\n",
       "      <th>0</th>\n",
       "      <td>YzkyQQ==</td>\n",
       "    </tr>\n",
       "    <tr>\n",
       "      <th>1</th>\n",
       "      <td>NGdmcVQ=</td>\n",
       "    </tr>\n",
       "    <tr>\n",
       "      <th>2</th>\n",
       "      <td>M2hETGQ=</td>\n",
       "    </tr>\n",
       "    <tr>\n",
       "      <th>3</th>\n",
       "      <td>V0NyaQ==</td>\n",
       "    </tr>\n",
       "    <tr>\n",
       "      <th>4</th>\n",
       "      <td>QTB5d0E=</td>\n",
       "    </tr>\n",
       "  </tbody>\n",
       "</table>\n",
       "</div>"
      ],
      "text/plain": [
       "     userid\n",
       "0  YzkyQQ==\n",
       "1  NGdmcVQ=\n",
       "2  M2hETGQ=\n",
       "3  V0NyaQ==\n",
       "4  QTB5d0E="
      ]
     },
     "execution_count": 93,
     "metadata": {},
     "output_type": "execute_result"
    }
   ],
   "source": [
    "u = 'TERhUA=='\n",
    "i = 96644\n",
    "topk = similar_users(u,5)\n",
    "topk"
   ]
  },
  {
   "cell_type": "code",
   "execution_count": 94,
   "metadata": {},
   "outputs": [],
   "source": [
    "topk['sim'] = topk.apply(lambda x: sim(u,x['userid']), axis=1)"
   ]
  },
  {
   "cell_type": "code",
   "execution_count": 96,
   "metadata": {},
   "outputs": [
    {
     "data": {
      "text/html": [
       "<div>\n",
       "<style scoped>\n",
       "    .dataframe tbody tr th:only-of-type {\n",
       "        vertical-align: middle;\n",
       "    }\n",
       "\n",
       "    .dataframe tbody tr th {\n",
       "        vertical-align: top;\n",
       "    }\n",
       "\n",
       "    .dataframe thead th {\n",
       "        text-align: right;\n",
       "    }\n",
       "</style>\n",
       "<table border=\"1\" class=\"dataframe\">\n",
       "  <thead>\n",
       "    <tr style=\"text-align: right;\">\n",
       "      <th></th>\n",
       "      <th>userid</th>\n",
       "      <th>sim</th>\n",
       "      <th>itemid</th>\n",
       "      <th>rating</th>\n",
       "    </tr>\n",
       "  </thead>\n",
       "  <tbody>\n",
       "    <tr>\n",
       "      <th>0</th>\n",
       "      <td>YzkyQQ==</td>\n",
       "      <td>0.142857</td>\n",
       "      <td>96644</td>\n",
       "      <td>10</td>\n",
       "    </tr>\n",
       "    <tr>\n",
       "      <th>1</th>\n",
       "      <td>NGdmcVQ=</td>\n",
       "      <td>0.125000</td>\n",
       "      <td>96644</td>\n",
       "      <td>10</td>\n",
       "    </tr>\n",
       "  </tbody>\n",
       "</table>\n",
       "</div>"
      ],
      "text/plain": [
       "     userid       sim  itemid  rating\n",
       "0  YzkyQQ==  0.142857   96644      10\n",
       "1  NGdmcVQ=  0.125000   96644      10"
      ]
     },
     "execution_count": 96,
     "metadata": {},
     "output_type": "execute_result"
    }
   ],
   "source": [
    "# i 아이템만 뽑아와야 함 \n",
    "joined =pd.merge(topk, ratings[ratings['itemid']==i], on = 'userid')\n",
    "joined"
   ]
  },
  {
   "cell_type": "code",
   "execution_count": 98,
   "metadata": {},
   "outputs": [
    {
     "data": {
      "text/html": [
       "<div>\n",
       "<style scoped>\n",
       "    .dataframe tbody tr th:only-of-type {\n",
       "        vertical-align: middle;\n",
       "    }\n",
       "\n",
       "    .dataframe tbody tr th {\n",
       "        vertical-align: top;\n",
       "    }\n",
       "\n",
       "    .dataframe thead th {\n",
       "        text-align: right;\n",
       "    }\n",
       "</style>\n",
       "<table border=\"1\" class=\"dataframe\">\n",
       "  <thead>\n",
       "    <tr style=\"text-align: right;\">\n",
       "      <th></th>\n",
       "      <th>userid</th>\n",
       "      <th>sim</th>\n",
       "      <th>itemid</th>\n",
       "      <th>rating_x</th>\n",
       "      <th>rating_y</th>\n",
       "      <th>rating</th>\n",
       "    </tr>\n",
       "  </thead>\n",
       "  <tbody>\n",
       "    <tr>\n",
       "      <th>0</th>\n",
       "      <td>YzkyQQ==</td>\n",
       "      <td>0.142857</td>\n",
       "      <td>96644</td>\n",
       "      <td>10</td>\n",
       "      <td>7.5</td>\n",
       "      <td>7.5</td>\n",
       "    </tr>\n",
       "    <tr>\n",
       "      <th>1</th>\n",
       "      <td>NGdmcVQ=</td>\n",
       "      <td>0.125000</td>\n",
       "      <td>96644</td>\n",
       "      <td>10</td>\n",
       "      <td>9.0</td>\n",
       "      <td>9.0</td>\n",
       "    </tr>\n",
       "  </tbody>\n",
       "</table>\n",
       "</div>"
      ],
      "text/plain": [
       "     userid       sim  itemid  rating_x  rating_y  rating\n",
       "0  YzkyQQ==  0.142857   96644        10       7.5     7.5\n",
       "1  NGdmcVQ=  0.125000   96644        10       9.0     9.0"
      ]
     },
     "execution_count": 98,
     "metadata": {},
     "output_type": "execute_result"
    }
   ],
   "source": [
    "joined = pd.merge(joined, r_mean, on='userid')\n",
    "joined"
   ]
  },
  {
   "cell_type": "code",
   "execution_count": 102,
   "metadata": {},
   "outputs": [
    {
     "data": {
      "text/html": [
       "<div>\n",
       "<style scoped>\n",
       "    .dataframe tbody tr th:only-of-type {\n",
       "        vertical-align: middle;\n",
       "    }\n",
       "\n",
       "    .dataframe tbody tr th {\n",
       "        vertical-align: top;\n",
       "    }\n",
       "\n",
       "    .dataframe thead th {\n",
       "        text-align: right;\n",
       "    }\n",
       "</style>\n",
       "<table border=\"1\" class=\"dataframe\">\n",
       "  <thead>\n",
       "    <tr style=\"text-align: right;\">\n",
       "      <th></th>\n",
       "      <th>userid</th>\n",
       "      <th>sim</th>\n",
       "      <th>itemid</th>\n",
       "      <th>rating_x</th>\n",
       "      <th>rating_y</th>\n",
       "      <th>rating</th>\n",
       "      <th>score</th>\n",
       "    </tr>\n",
       "  </thead>\n",
       "  <tbody>\n",
       "    <tr>\n",
       "      <th>0</th>\n",
       "      <td>YzkyQQ==</td>\n",
       "      <td>0.142857</td>\n",
       "      <td>96644</td>\n",
       "      <td>10</td>\n",
       "      <td>7.5</td>\n",
       "      <td>7.5</td>\n",
       "      <td>0.357143</td>\n",
       "    </tr>\n",
       "    <tr>\n",
       "      <th>1</th>\n",
       "      <td>NGdmcVQ=</td>\n",
       "      <td>0.125000</td>\n",
       "      <td>96644</td>\n",
       "      <td>10</td>\n",
       "      <td>9.0</td>\n",
       "      <td>9.0</td>\n",
       "      <td>0.125000</td>\n",
       "    </tr>\n",
       "  </tbody>\n",
       "</table>\n",
       "</div>"
      ],
      "text/plain": [
       "     userid       sim  itemid  rating_x  rating_y  rating     score\n",
       "0  YzkyQQ==  0.142857   96644        10       7.5     7.5  0.357143\n",
       "1  NGdmcVQ=  0.125000   96644        10       9.0     9.0  0.125000"
      ]
     },
     "execution_count": 102,
     "metadata": {},
     "output_type": "execute_result"
    }
   ],
   "source": [
    "# 수식의 시그마 안에 들어있는 것을 score라고 호칭해줌 \n",
    "joined['score'] = joined['sim']*(joined['rating_x']-joined['rating_y'])\n",
    "joined"
   ]
  },
  {
   "cell_type": "code",
   "execution_count": 104,
   "metadata": {},
   "outputs": [
    {
     "data": {
      "text/plain": [
       "9.375"
      ]
     },
     "execution_count": 104,
     "metadata": {},
     "output_type": "execute_result"
    }
   ],
   "source": [
    "r_mean[r_mean['userid']==u]['rating'].iloc[0]"
   ]
  },
  {
   "cell_type": "code",
   "execution_count": 105,
   "metadata": {},
   "outputs": [],
   "source": [
    "mean_u =r_mean[r_mean['userid']==u]['rating'].iloc[0]\n",
    "r_ui =joined['score'].sum()/joined['sim'].sum() + mean_u"
   ]
  },
  {
   "cell_type": "code",
   "execution_count": 106,
   "metadata": {},
   "outputs": [
    {
     "data": {
      "text/plain": [
       "11.175"
      ]
     },
     "execution_count": 106,
     "metadata": {},
     "output_type": "execute_result"
    }
   ],
   "source": [
    "r_ui\n",
    "# 이제 이 코드들을 위에 옮기자 "
   ]
  },
  {
   "cell_type": "code",
   "execution_count": null,
   "metadata": {},
   "outputs": [],
   "source": []
  },
  {
   "cell_type": "code",
   "execution_count": null,
   "metadata": {},
   "outputs": [],
   "source": [
    "# 선미님 코드 \n",
    "\n",
    "# 2. 비슷한 영화를 소비한 k명의 소비자 U_u를 찾는 함수\n",
    "def similar_users(u, k):\n",
    "    sims = [(sim(u, v), v) for v in users if u != v]\n",
    "    top_k_sims = sorted(sims, reverse=True)[:k]\n",
    "    top_k_users = [i for s, i in top_k_sims]\n",
    "    return pd.DataFrame(top_k_sims, columns=['sim', 'userid'])\n",
    "\n",
    "# u, i 페어에 대해서 rating_{u,i} - rating_mean_{u} 연산을 해준다\n",
    "train['rating_mean'] = train.groupby(['userid'])['rating'].transform(lambda x: x.mean())\n",
    "train['rating_diff'] = train['rating'] - train['rating_mean']\n",
    "\n",
    "# 5. 사람 각각의 평균을 반영하는 모델\n",
    "def predict(u, i, k):\n",
    "    # top k 유저를 뽑음 (similar_users는 userid, similarity를 같이 내놓는 함수)\n",
    "    k_users = similar_users(u, k)\n",
    "    \n",
    "    # top k 유저들의 item i에 대한 rating을 뽑음\n",
    "    items = train[train['userid'].isin(list(k_users['userid'].values)) & (train['itemid'] == i)]\n",
    "    \n",
    "    # k_users, items 테이블을 머지해서 top k유저들의 item rating 정보를 한 곳에 모음\n",
    "    k_users_rating = k_users.merge(items, on=['userid'], how='inner')\n",
    "    \n",
    "    # user_u 의 rating 평균 r_{u}를 계산\n",
    "    my_mean_rating = train[train['userid'] == u]['rating'].mean()\n",
    "    \n",
    "    # top k 유저 중에 item i를 소비한 사람이 한 명도 없을 때에는 r_{u}를 리턴\n",
    "    if len(k_users_rating) == 0:\n",
    "        return my_mean_rating\n",
    "    \n",
    "    # top k 유저 중에 item i를 소비한 사람이 한 명 이상일 때에 rating_diff의 가중평균과 r_{u}를 합한다.\n",
    "    # user u의 rating 평균에, user u와 가까운 k명의 평균에서의 변동을 가중평균한 값을 합한다.\n",
    "    return my_mean_rating + (sum(k_users_rating['rating_diff'] * k_users_rating['sim']) / sum(k_users_rating['sim']))"
   ]
  },
  {
   "cell_type": "markdown",
   "metadata": {},
   "source": [
    "# Latent Factor Model \n",
    "- Matrix Factorization (MF)"
   ]
  },
  {
   "cell_type": "code",
   "execution_count": 113,
   "metadata": {},
   "outputs": [],
   "source": [
    "# Surprise 라이브러리의 User_User CF 실습해보기 \n",
    "from surprise import Reader, Dataset\n",
    "reader = Reader(rating_scale=(0,10)) \n",
    "# 리더 = 데이터에 대한 정의를 해주는 거, 우리가 가진 데이터가 최소 몇점부터 몇점까지 인지 \n",
    "train_ds = Dataset.load_from_df(ratings,reader).build_full_trainset() \n",
    "#load_from_df 함수 (원래 데이터가 들어있는 프레임 넣어주기, 이 데이터로 해석하겠다 - 스케일 체크)\n",
    "# build_full_trainset -> 데이터를 다 suprise의 trainset 으로 바꿔줌 "
   ]
  },
  {
   "cell_type": "code",
   "execution_count": 114,
   "metadata": {},
   "outputs": [
    {
     "data": {
      "text/plain": [
       "<surprise.trainset.Trainset at 0x119918850>"
      ]
     },
     "execution_count": 114,
     "metadata": {},
     "output_type": "execute_result"
    }
   ],
   "source": [
    "train_ds"
   ]
  },
  {
   "cell_type": "code",
   "execution_count": 115,
   "metadata": {},
   "outputs": [
    {
     "name": "stdout",
     "output_type": "stream",
     "text": [
      "Computing the msd similarity matrix...\n",
      "Done computing similarity matrix.\n"
     ]
    },
    {
     "data": {
      "text/plain": [
       "<surprise.prediction_algorithms.knns.KNNBasic at 0x119dd3950>"
      ]
     },
     "execution_count": 115,
     "metadata": {},
     "output_type": "execute_result"
    }
   ],
   "source": [
    "from surprise import KNNBasic \n",
    "# K개의 가장 가까운 이웃  (KNN)\n",
    "model = KNNBasic(k=5) #k개수 정해주기 (우린 그냥 앞에서부터 5 했으니까 5로 넣었음 )\n",
    "model.fit(train_ds)  \n",
    "# 하고나면 시밀러리니 매트릭스 만드는 과정들이 끝났다고 알려줌 \n",
    "# ---> 우리가 이 모델 위에서 ㅋㅋㅋ 생고생 하면서 만든 함수들 이걸로 끝난거임\n",
    "# 근데 왜 값이 다를까? -> similarity 구하는 방식이 다름 "
   ]
  },
  {
   "cell_type": "code",
   "execution_count": 116,
   "metadata": {},
   "outputs": [
    {
     "data": {
      "text/plain": [
       "2.275156622021938"
      ]
     },
     "execution_count": 116,
     "metadata": {},
     "output_type": "execute_result"
    }
   ],
   "source": [
    "# 채점 \n",
    "def predict(u,i):\n",
    "    return model.predict(u,i).est #est (estimate의 줄임말 )\n",
    "expected = ratings_valid.copy()\n",
    "expected['rating'] = expected.apply(lambda x: predict(x['userid'], x['itemid']), axis=1)\n",
    "\n",
    "rmse(expected, ratings_valid)\n",
    "# 근데 왜 값이 다를까? -> similarity 구하는 방식이 다름 : 우리는 자카드 시밀러리티로 했는데, 여기는 msd(mean_squar_difference)를 기본값"
   ]
  },
  {
   "cell_type": "code",
   "execution_count": 118,
   "metadata": {},
   "outputs": [
    {
     "data": {
      "text/plain": [
       "('TERhUA==', 96644)"
      ]
     },
     "execution_count": 118,
     "metadata": {},
     "output_type": "execute_result"
    }
   ],
   "source": [
    "# est가 뭘까? \n",
    "u,i"
   ]
  },
  {
   "cell_type": "code",
   "execution_count": 119,
   "metadata": {},
   "outputs": [
    {
     "data": {
      "text/plain": [
       "Prediction(uid='TERhUA==', iid=96644, r_ui=None, est=9.027589545014523, details={'actual_k': 5, 'was_impossible': False})"
      ]
     },
     "execution_count": 119,
     "metadata": {},
     "output_type": "execute_result"
    }
   ],
   "source": [
    "model.predict(u,i)\n",
    "# 객체가 나오는 게 아니라 유저에 대한 스코어가 나옴. 내가 가진 traing 데이터에는 실제 값이 없기 때문\n",
    "# 그래서 est(추정)을 붙여줘서 추정값을 나오게 한다 \n",
    "# actural k (실제 비슷한 사람의 수)\n",
    "# 'was_impossible'= True -> 실제 나와 유사도가 비슷한 사람들이 내가 본 영화를 봤나 안봤나 판단 : \n",
    "# 안 본 없는 값은 모든 데이터에 평균을 주기로 함(true) / false 는 한명이라도 본 거\n",
    "# 근데 우리가 필요한건 est니까 그것만 보게 한거임 "
   ]
  },
  {
   "cell_type": "markdown",
   "metadata": {},
   "source": [
    "### model만 바꿔서 쓰면 supreise 라이브러리를 다르게 구현할 수 있음 "
   ]
  },
  {
   "cell_type": "code",
   "execution_count": 120,
   "metadata": {},
   "outputs": [
    {
     "name": "stdout",
     "output_type": "stream",
     "text": [
      "Computing the msd similarity matrix...\n",
      "Done computing similarity matrix.\n"
     ]
    },
    {
     "data": {
      "text/plain": [
       "<surprise.prediction_algorithms.knns.KNNWithMeans at 0x11cfd51d0>"
      ]
     },
     "execution_count": 120,
     "metadata": {},
     "output_type": "execute_result"
    }
   ],
   "source": [
    "from surprise import KNNBasic, KNNWithMeans #새로운 함수 가지고 오기 \n",
    "\n",
    "model = KNNWithMeans(k=5) # 새로운 함수 적용 \n",
    "model.fit(train_ds)  \n"
   ]
  },
  {
   "cell_type": "code",
   "execution_count": 121,
   "metadata": {},
   "outputs": [
    {
     "data": {
      "text/plain": [
       "2.1668738952586426"
      ]
     },
     "execution_count": 121,
     "metadata": {},
     "output_type": "execute_result"
    }
   ],
   "source": [
    "# 채점 \n",
    "def predict(u,i):\n",
    "    return model.predict(u,i).est #est (estimate의 줄임말 )\n",
    "expected = ratings_valid.copy()\n",
    "expected['rating'] = expected.apply(lambda x: predict(x['userid'], x['itemid']), axis=1)\n",
    "\n",
    "rmse(expected, ratings_valid) \n",
    "# 더 좋은 값이 나왔음 "
   ]
  },
  {
   "cell_type": "code",
   "execution_count": 122,
   "metadata": {},
   "outputs": [
    {
     "data": {
      "text/plain": [
       "1.9772031519533286"
      ]
     },
     "execution_count": 122,
     "metadata": {},
     "output_type": "execute_result"
    }
   ],
   "source": [
    "# svd\n",
    "from surprise import KNNBasic, KNNWithMeans, SVD#새로운 함수 가지고 오기 \n",
    "\n",
    "model = SVD(random_state=17) # 새로운 함수 적용 \n",
    "model.fit(train_ds)  \n",
    "\n",
    "def predict(u,i):\n",
    "    return model.predict(u,i).est #est (estimate의 줄임말 )\n",
    "expected = ratings_valid.copy()\n",
    "expected['rating'] = expected.apply(lambda x: predict(x['userid'], x['itemid']), axis=1)\n",
    "\n",
    "rmse(expected, ratings_valid)"
   ]
  },
  {
   "cell_type": "code",
   "execution_count": 127,
   "metadata": {},
   "outputs": [
    {
     "data": {
      "text/plain": [
       "1.9359638225728149"
      ]
     },
     "execution_count": 127,
     "metadata": {},
     "output_type": "execute_result"
    }
   ],
   "source": [
    "# svd 파라미터\n",
    "from surprise import KNNBasic, KNNWithMeans, SVD \n",
    "\n",
    "model = SVD(n_factors=200 ,random_state=17, n_epochs=200, reg_all =0.04, lr_all = 0.0052) # 새로운 함수 적용 \n",
    "model.fit(train_ds)  \n",
    "\n",
    "def predict(u,i):\n",
    "    return model.predict(u,i).est #est (estimate의 줄임말 )\n",
    "expected = ratings_valid.copy()\n",
    "expected['rating'] = expected.apply(lambda x: predict(x['userid'], x['itemid']), axis=1)\n",
    "\n",
    "rmse(expected, ratings_valid)"
   ]
  },
  {
   "cell_type": "markdown",
   "metadata": {},
   "source": [
    "# 데이터 시각화 (텐서플로 사이트에서)"
   ]
  },
  {
   "cell_type": "code",
   "execution_count": 128,
   "metadata": {},
   "outputs": [
    {
     "data": {
      "text/plain": [
       "array([[ 1.44837050e-01, -2.55451665e-02, -2.01670205e-01, ...,\n",
       "         1.71873022e-01,  1.65002421e-01,  1.45850791e-02],\n",
       "       [ 1.61684472e-01, -5.10936017e-02,  1.92031477e-01, ...,\n",
       "         1.18389431e-01, -2.38582058e-01, -1.77525505e-01],\n",
       "       [-1.17074276e-01, -1.35071946e-02,  5.66174835e-02, ...,\n",
       "        -1.62998738e-01, -7.43856557e-02, -7.94234990e-02],\n",
       "       ...,\n",
       "       [-1.61320302e-02,  2.52673816e-01, -1.54145506e-02, ...,\n",
       "         5.47048959e-03, -4.76360656e-02,  1.91440633e-01],\n",
       "       [ 9.47488186e-02,  1.08427295e-01,  3.24825638e-02, ...,\n",
       "         1.49580112e-02,  1.31498951e-02, -2.11811148e-01],\n",
       "       [ 3.60463001e-03, -1.61583175e-05,  1.12064140e-02, ...,\n",
       "        -3.94563743e-02, -4.92656556e-02, -1.75898973e-02]])"
      ]
     },
     "execution_count": 128,
     "metadata": {},
     "output_type": "execute_result"
    }
   ],
   "source": [
    "model.qi\n",
    "# svd 모델로 학습한 파라미터"
   ]
  },
  {
   "cell_type": "code",
   "execution_count": 129,
   "metadata": {},
   "outputs": [
    {
     "data": {
      "text/plain": [
       "(5834, 200)"
      ]
     },
     "execution_count": 129,
     "metadata": {},
     "output_type": "execute_result"
    }
   ],
   "source": [
    "model.qi.shape\n",
    "# 세로 : 영화 개수, n_factor:200개 우리가 영화 하나를 200개의 숫자로 표시하겠다(행렬 한 열의 숫자가 200개) -> 매트릭스로 존재 "
   ]
  },
  {
   "cell_type": "code",
   "execution_count": 130,
   "metadata": {},
   "outputs": [],
   "source": [
    "df_qi = pd.DataFrame(model.qi) \n"
   ]
  },
  {
   "cell_type": "code",
   "execution_count": 135,
   "metadata": {},
   "outputs": [],
   "source": [
    "df_qi.to_csv('qi.tsv', sep='\\t' , header=False, index=False) #comma로 구분된 값들이 다 들어감 그래서 그 인자를 알려줘얌(sep) = t 기준으로 저장하라는 말\n",
    "# tsv 파일 만들 때 인덱스를 만드는 데, 그건 데이터 값이 아니니까 뺴줘야함 "
   ]
  },
  {
   "cell_type": "code",
   "execution_count": null,
   "metadata": {},
   "outputs": [],
   "source": [
    "# 이 파일을 가지고 https://projector.tensorflow.org/ 가서 load 눌러서 파일 업로드 하기 "
   ]
  },
  {
   "cell_type": "markdown",
   "metadata": {},
   "source": [
    "### 메타 데이터 파일 생성해서 올리기 (이게 있어서 영화 정보 알 수 있음 )"
   ]
  },
  {
   "cell_type": "code",
   "execution_count": 132,
   "metadata": {},
   "outputs": [
    {
     "data": {
      "text/plain": [
       "0        55396\n",
       "1        42858\n",
       "2       121058\n",
       "3         4285\n",
       "4        36948\n",
       "         ...  \n",
       "5829    130993\n",
       "5830    134894\n",
       "5831     87253\n",
       "5832    127153\n",
       "5833     41708\n",
       "Name: itemid, Length: 5834, dtype: int64"
      ]
     },
     "execution_count": 132,
     "metadata": {},
     "output_type": "execute_result"
    }
   ],
   "source": [
    "metadata['itemid']"
   ]
  },
  {
   "cell_type": "code",
   "execution_count": 134,
   "metadata": {},
   "outputs": [],
   "source": [
    "df_iids = pd.DataFrame([train_ds.to_raw_iid(i) for i in train_ds.all_items()],\n",
    "                       columns=['itemid'])\n",
    "# 만든 train 데이터 셋에다 to raw_iid(itemid) = 매트릭스 인덱스를 원래 아이템 아이디로 바꿔주세요(매트릭스 인덱스 넣기) \n",
    "# 0번부터 시작해서 하나씩 꺼내서 원래 itemid를 데이터 프레임으로 만든 거임 (실제 매트릭스의 첫번째 아이디부터 넣어짐)\n",
    "df_titles = pd.merge(df_iids, metadata[['itemid', 'title']], on='itemid', how='inner')\n",
    "# 위에서 만든 데이터 셋을 머지해서 itemid 와 title을 붙여줌 : 영화 제목을 알게 됨 \n",
    "df_titles['title'].to_csv('titles.tsv', sep='\\t', header=False, index=False)\n",
    "# 만든 데이터 셋을 또 tsv로 저장하기. (헤더랑 인덱스는 빼고) \n",
    "# 헤더가 필요한 이유는 컬럼이 한개 초과일 때만 달아달라고 적혀있음. 근데 우리는 하나만 있음 그래서 안 넣어도 됨 (홈페이지에서)\n"
   ]
  },
  {
   "cell_type": "markdown",
   "metadata": {},
   "source": [
    "# 데잇걸즈 안에서 영화 취향 친구를 찾아보자 "
   ]
  },
  {
   "cell_type": "code",
   "execution_count": 157,
   "metadata": {},
   "outputs": [
    {
     "data": {
      "text/html": [
       "<div>\n",
       "<style scoped>\n",
       "    .dataframe tbody tr th:only-of-type {\n",
       "        vertical-align: middle;\n",
       "    }\n",
       "\n",
       "    .dataframe tbody tr th {\n",
       "        vertical-align: top;\n",
       "    }\n",
       "\n",
       "    .dataframe thead th {\n",
       "        text-align: right;\n",
       "    }\n",
       "</style>\n",
       "<table border=\"1\" class=\"dataframe\">\n",
       "  <thead>\n",
       "    <tr style=\"text-align: right;\">\n",
       "      <th></th>\n",
       "      <th>itemid</th>\n",
       "      <th>title</th>\n",
       "      <th>genres</th>\n",
       "      <th>country</th>\n",
       "      <th>running_min</th>\n",
       "    </tr>\n",
       "  </thead>\n",
       "  <tbody>\n",
       "    <tr>\n",
       "      <th>3743</th>\n",
       "      <td>91</td>\n",
       "      <td>고스트 맘마 (1996)</td>\n",
       "      <td>판타지</td>\n",
       "      <td>한국</td>\n",
       "      <td>100</td>\n",
       "    </tr>\n",
       "    <tr>\n",
       "      <th>3618</th>\n",
       "      <td>83610</td>\n",
       "      <td>드래프트 데이 (2014)</td>\n",
       "      <td>드라마</td>\n",
       "      <td>미국</td>\n",
       "      <td>109</td>\n",
       "    </tr>\n",
       "    <tr>\n",
       "      <th>1242</th>\n",
       "      <td>108037</td>\n",
       "      <td>마약왕 (2017)</td>\n",
       "      <td>범죄/드라마</td>\n",
       "      <td>한국</td>\n",
       "      <td>139</td>\n",
       "    </tr>\n",
       "    <tr>\n",
       "      <th>100</th>\n",
       "      <td>106123</td>\n",
       "      <td>레이디 맥베스 (2016)</td>\n",
       "      <td>드라마</td>\n",
       "      <td>영국</td>\n",
       "      <td>89</td>\n",
       "    </tr>\n",
       "    <tr>\n",
       "      <th>1766</th>\n",
       "      <td>91103</td>\n",
       "      <td>대니쉬 걸 (2016)</td>\n",
       "      <td>드라마</td>\n",
       "      <td>미국</td>\n",
       "      <td>119</td>\n",
       "    </tr>\n",
       "    <tr>\n",
       "      <th>1011</th>\n",
       "      <td>67153</td>\n",
       "      <td>두 개의 문 (2011)</td>\n",
       "      <td>다큐멘터리</td>\n",
       "      <td>한국</td>\n",
       "      <td>101</td>\n",
       "    </tr>\n",
       "    <tr>\n",
       "      <th>4538</th>\n",
       "      <td>130019</td>\n",
       "      <td>스노우 화이트 (2019)</td>\n",
       "      <td>드라마</td>\n",
       "      <td>프랑스</td>\n",
       "      <td>112</td>\n",
       "    </tr>\n",
       "    <tr>\n",
       "      <th>1895</th>\n",
       "      <td>87455</td>\n",
       "      <td>기생수 파트2 (2014)</td>\n",
       "      <td>SF/스릴러</td>\n",
       "      <td>일본</td>\n",
       "      <td>117</td>\n",
       "    </tr>\n",
       "    <tr>\n",
       "      <th>3262</th>\n",
       "      <td>2672</td>\n",
       "      <td>도망자 (1993)</td>\n",
       "      <td>범죄/액션</td>\n",
       "      <td>미국</td>\n",
       "      <td>126</td>\n",
       "    </tr>\n",
       "    <tr>\n",
       "      <th>2925</th>\n",
       "      <td>124605</td>\n",
       "      <td>틴 스피릿 (2018)</td>\n",
       "      <td>드라마</td>\n",
       "      <td>미국</td>\n",
       "      <td>93</td>\n",
       "    </tr>\n",
       "    <tr>\n",
       "      <th>5135</th>\n",
       "      <td>1970</td>\n",
       "      <td>넬 (1994)</td>\n",
       "      <td>드라마</td>\n",
       "      <td>미국</td>\n",
       "      <td>113</td>\n",
       "    </tr>\n",
       "    <tr>\n",
       "      <th>2765</th>\n",
       "      <td>40835</td>\n",
       "      <td>레이 (2004)</td>\n",
       "      <td>드라마</td>\n",
       "      <td>미국</td>\n",
       "      <td>152</td>\n",
       "    </tr>\n",
       "    <tr>\n",
       "      <th>1348</th>\n",
       "      <td>36697</td>\n",
       "      <td>아라한 장풍 대작전 (2004)</td>\n",
       "      <td>코미디/액션</td>\n",
       "      <td>한국</td>\n",
       "      <td>114</td>\n",
       "    </tr>\n",
       "    <tr>\n",
       "      <th>2371</th>\n",
       "      <td>94408</td>\n",
       "      <td>순정 (2015)</td>\n",
       "      <td>드라마</td>\n",
       "      <td>한국</td>\n",
       "      <td>113</td>\n",
       "    </tr>\n",
       "    <tr>\n",
       "      <th>5620</th>\n",
       "      <td>51712</td>\n",
       "      <td>벨아미 (2012)</td>\n",
       "      <td>드라마</td>\n",
       "      <td>영국,이탈리아</td>\n",
       "      <td>102</td>\n",
       "    </tr>\n",
       "    <tr>\n",
       "      <th>2897</th>\n",
       "      <td>118364</td>\n",
       "      <td>툴리 (2018)</td>\n",
       "      <td>드라마</td>\n",
       "      <td>미국</td>\n",
       "      <td>95</td>\n",
       "    </tr>\n",
       "    <tr>\n",
       "      <th>1915</th>\n",
       "      <td>1653</td>\n",
       "      <td>바톤 핑크 (1991)</td>\n",
       "      <td>코미디/드라마</td>\n",
       "      <td>영국,미국</td>\n",
       "      <td>117</td>\n",
       "    </tr>\n",
       "    <tr>\n",
       "      <th>3164</th>\n",
       "      <td>80905</td>\n",
       "      <td>오큘러스 (2013)</td>\n",
       "      <td>미스터리/공포/스릴러</td>\n",
       "      <td>미국</td>\n",
       "      <td>103</td>\n",
       "    </tr>\n",
       "    <tr>\n",
       "      <th>3099</th>\n",
       "      <td>2183</td>\n",
       "      <td>빅 마마 하우스 (2000)</td>\n",
       "      <td>코미디/액션</td>\n",
       "      <td>독일,미국</td>\n",
       "      <td>98</td>\n",
       "    </tr>\n",
       "    <tr>\n",
       "      <th>2456</th>\n",
       "      <td>47306</td>\n",
       "      <td>화피 (2008)</td>\n",
       "      <td>액션/판타지</td>\n",
       "      <td>중국,홍콩,싱가폴</td>\n",
       "      <td>103</td>\n",
       "    </tr>\n",
       "    <tr>\n",
       "      <th>4909</th>\n",
       "      <td>123505</td>\n",
       "      <td>나의 히어로 아카데미아 더 무비: 두 명의 히어로 (2018)</td>\n",
       "      <td>애니메이션</td>\n",
       "      <td>일본</td>\n",
       "      <td>96</td>\n",
       "    </tr>\n",
       "    <tr>\n",
       "      <th>3713</th>\n",
       "      <td>109516</td>\n",
       "      <td>블리딩 스틸 (2017)</td>\n",
       "      <td>액션/스릴러</td>\n",
       "      <td>중국</td>\n",
       "      <td>101</td>\n",
       "    </tr>\n",
       "    <tr>\n",
       "      <th>4659</th>\n",
       "      <td>74898</td>\n",
       "      <td>사랑해! 진영아 (2013)</td>\n",
       "      <td>드라마</td>\n",
       "      <td>한국</td>\n",
       "      <td>102</td>\n",
       "    </tr>\n",
       "    <tr>\n",
       "      <th>1477</th>\n",
       "      <td>119835</td>\n",
       "      <td>나랏말싸미 (2018)</td>\n",
       "      <td>드라마</td>\n",
       "      <td>한국</td>\n",
       "      <td>110</td>\n",
       "    </tr>\n",
       "    <tr>\n",
       "      <th>3005</th>\n",
       "      <td>121008</td>\n",
       "      <td>키싱 부스 (2018)</td>\n",
       "      <td>코미디/로맨스/멜로</td>\n",
       "      <td>영국</td>\n",
       "      <td>-1</td>\n",
       "    </tr>\n",
       "    <tr>\n",
       "      <th>3023</th>\n",
       "      <td>89202</td>\n",
       "      <td>빌리 린의 롱 하프타임 워크 (2016)</td>\n",
       "      <td>전쟁/드라마</td>\n",
       "      <td>영국,중국,미국</td>\n",
       "      <td>-1</td>\n",
       "    </tr>\n",
       "    <tr>\n",
       "      <th>963</th>\n",
       "      <td>57979</td>\n",
       "      <td>퀵 (2011)</td>\n",
       "      <td>액션</td>\n",
       "      <td>한국</td>\n",
       "      <td>115</td>\n",
       "    </tr>\n",
       "    <tr>\n",
       "      <th>5410</th>\n",
       "      <td>59492</td>\n",
       "      <td>몬테 카를로 (2011)</td>\n",
       "      <td>어드벤처/코미디/로맨스/멜로</td>\n",
       "      <td>미국</td>\n",
       "      <td>-1</td>\n",
       "    </tr>\n",
       "    <tr>\n",
       "      <th>4154</th>\n",
       "      <td>13453</td>\n",
       "      <td>톰 행크스의 볼케이노 (1990)</td>\n",
       "      <td>코미디/로맨스/멜로</td>\n",
       "      <td>미국</td>\n",
       "      <td>-1</td>\n",
       "    </tr>\n",
       "    <tr>\n",
       "      <th>3407</th>\n",
       "      <td>66637</td>\n",
       "      <td>페이퍼보이 : 사형수의 편지 (2012)</td>\n",
       "      <td>스릴러</td>\n",
       "      <td>미국</td>\n",
       "      <td>107</td>\n",
       "    </tr>\n",
       "    <tr>\n",
       "      <th>...</th>\n",
       "      <td>...</td>\n",
       "      <td>...</td>\n",
       "      <td>...</td>\n",
       "      <td>...</td>\n",
       "      <td>...</td>\n",
       "    </tr>\n",
       "    <tr>\n",
       "      <th>3069</th>\n",
       "      <td>63254</td>\n",
       "      <td>해피 피트 2 (2011)</td>\n",
       "      <td>애니메이션/코미디/가족</td>\n",
       "      <td>오스트레일리아</td>\n",
       "      <td>99</td>\n",
       "    </tr>\n",
       "    <tr>\n",
       "      <th>5501</th>\n",
       "      <td>80470</td>\n",
       "      <td>리코일 (2011)</td>\n",
       "      <td>액션</td>\n",
       "      <td>캐나다</td>\n",
       "      <td>-1</td>\n",
       "    </tr>\n",
       "    <tr>\n",
       "      <th>321</th>\n",
       "      <td>41442</td>\n",
       "      <td>타짜 (2006)</td>\n",
       "      <td>드라마</td>\n",
       "      <td>한국</td>\n",
       "      <td>139</td>\n",
       "    </tr>\n",
       "    <tr>\n",
       "      <th>4489</th>\n",
       "      <td>60630</td>\n",
       "      <td>나이트 오브 데몬스 (2009)</td>\n",
       "      <td>공포</td>\n",
       "      <td>미국</td>\n",
       "      <td>-1</td>\n",
       "    </tr>\n",
       "    <tr>\n",
       "      <th>317</th>\n",
       "      <td>50364</td>\n",
       "      <td>인셉션 (2010)</td>\n",
       "      <td>SF/액션</td>\n",
       "      <td>미국,영국</td>\n",
       "      <td>147</td>\n",
       "    </tr>\n",
       "    <tr>\n",
       "      <th>5113</th>\n",
       "      <td>12563</td>\n",
       "      <td>광란의 시간 (1990)</td>\n",
       "      <td>범죄/스릴러</td>\n",
       "      <td>미국</td>\n",
       "      <td>-1</td>\n",
       "    </tr>\n",
       "    <tr>\n",
       "      <th>4564</th>\n",
       "      <td>109589</td>\n",
       "      <td>더 디너 (2017)</td>\n",
       "      <td>드라마</td>\n",
       "      <td>미국</td>\n",
       "      <td>120</td>\n",
       "    </tr>\n",
       "    <tr>\n",
       "      <th>4804</th>\n",
       "      <td>69435</td>\n",
       "      <td>화이팅 패밀리 (2012)</td>\n",
       "      <td>드라마</td>\n",
       "      <td>한국</td>\n",
       "      <td>85</td>\n",
       "    </tr>\n",
       "    <tr>\n",
       "      <th>1526</th>\n",
       "      <td>41727</td>\n",
       "      <td>그 해 여름 (2006)</td>\n",
       "      <td>로맨스/멜로</td>\n",
       "      <td>한국</td>\n",
       "      <td>121</td>\n",
       "    </tr>\n",
       "    <tr>\n",
       "      <th>981</th>\n",
       "      <td>69127</td>\n",
       "      <td>나는 왕이로소이다 (2012)</td>\n",
       "      <td>시대극/코미디</td>\n",
       "      <td>한국</td>\n",
       "      <td>120</td>\n",
       "    </tr>\n",
       "    <tr>\n",
       "      <th>1647</th>\n",
       "      <td>113147</td>\n",
       "      <td>레슬러 (2018)</td>\n",
       "      <td>드라마/코미디</td>\n",
       "      <td>한국</td>\n",
       "      <td>110</td>\n",
       "    </tr>\n",
       "    <tr>\n",
       "      <th>3434</th>\n",
       "      <td>3739</td>\n",
       "      <td>패밀리 (2002)</td>\n",
       "      <td>코미디</td>\n",
       "      <td>한국</td>\n",
       "      <td>94</td>\n",
       "    </tr>\n",
       "    <tr>\n",
       "      <th>206</th>\n",
       "      <td>85306</td>\n",
       "      <td>사도 (2014)</td>\n",
       "      <td>시대극</td>\n",
       "      <td>한국</td>\n",
       "      <td>125</td>\n",
       "    </tr>\n",
       "    <tr>\n",
       "      <th>739</th>\n",
       "      <td>16478</td>\n",
       "      <td>스피드 (1994)</td>\n",
       "      <td>액션/스릴러</td>\n",
       "      <td>미국</td>\n",
       "      <td>115</td>\n",
       "    </tr>\n",
       "    <tr>\n",
       "      <th>2195</th>\n",
       "      <td>92682</td>\n",
       "      <td>50가지 그림자: 해방 (2018)</td>\n",
       "      <td>로맨스/멜로/드라마/스릴러</td>\n",
       "      <td>미국</td>\n",
       "      <td>105</td>\n",
       "    </tr>\n",
       "    <tr>\n",
       "      <th>447</th>\n",
       "      <td>102535</td>\n",
       "      <td>언니 (2018)</td>\n",
       "      <td>액션</td>\n",
       "      <td>한국</td>\n",
       "      <td>94</td>\n",
       "    </tr>\n",
       "    <tr>\n",
       "      <th>2446</th>\n",
       "      <td>48236</td>\n",
       "      <td>구세주 2 (2009)</td>\n",
       "      <td>코미디</td>\n",
       "      <td>한국</td>\n",
       "      <td>100</td>\n",
       "    </tr>\n",
       "    <tr>\n",
       "      <th>5472</th>\n",
       "      <td>109432</td>\n",
       "      <td>서핑업 2: 웨이브 마니아 (2017)</td>\n",
       "      <td>애니메이션/코미디/가족</td>\n",
       "      <td>미국</td>\n",
       "      <td>-1</td>\n",
       "    </tr>\n",
       "    <tr>\n",
       "      <th>5204</th>\n",
       "      <td>100967</td>\n",
       "      <td>집행자 - 목자이자 도살자 (2016)</td>\n",
       "      <td>드라마</td>\n",
       "      <td>남아프리카공화국,미국,독일</td>\n",
       "      <td>-1</td>\n",
       "    </tr>\n",
       "    <tr>\n",
       "      <th>4459</th>\n",
       "      <td>10736</td>\n",
       "      <td>나이트메어 3 - 꿈의 전사 (1987)</td>\n",
       "      <td>공포</td>\n",
       "      <td>미국</td>\n",
       "      <td>-1</td>\n",
       "    </tr>\n",
       "    <tr>\n",
       "      <th>4828</th>\n",
       "      <td>50394</td>\n",
       "      <td>비상 (2009)</td>\n",
       "      <td>액션/로맨스/멜로</td>\n",
       "      <td>한국</td>\n",
       "      <td>100</td>\n",
       "    </tr>\n",
       "    <tr>\n",
       "      <th>3009</th>\n",
       "      <td>125228</td>\n",
       "      <td>룩 어웨이 (2018)</td>\n",
       "      <td>공포/스릴러</td>\n",
       "      <td>미국</td>\n",
       "      <td>102</td>\n",
       "    </tr>\n",
       "    <tr>\n",
       "      <th>4922</th>\n",
       "      <td>91401</td>\n",
       "      <td>아스테릭스: 신들의 전당 (2014)</td>\n",
       "      <td>애니메이션/어드벤처/코미디</td>\n",
       "      <td>프랑스,벨기에</td>\n",
       "      <td>85</td>\n",
       "    </tr>\n",
       "    <tr>\n",
       "      <th>2274</th>\n",
       "      <td>101394</td>\n",
       "      <td>아우토반 (2016)</td>\n",
       "      <td>액션</td>\n",
       "      <td>영국,독일</td>\n",
       "      <td>99</td>\n",
       "    </tr>\n",
       "    <tr>\n",
       "      <th>2529</th>\n",
       "      <td>44630</td>\n",
       "      <td>티스 (2007)</td>\n",
       "      <td>로맨스/멜로/공포</td>\n",
       "      <td>미국</td>\n",
       "      <td>93</td>\n",
       "    </tr>\n",
       "    <tr>\n",
       "      <th>3084</th>\n",
       "      <td>26865</td>\n",
       "      <td>빌 머레이의 맥스군 사랑에 빠지다 (1998)</td>\n",
       "      <td>코미디/드라마</td>\n",
       "      <td>미국</td>\n",
       "      <td>-1</td>\n",
       "    </tr>\n",
       "    <tr>\n",
       "      <th>5471</th>\n",
       "      <td>100205</td>\n",
       "      <td>원스텝 (2016)</td>\n",
       "      <td>드라마</td>\n",
       "      <td>한국</td>\n",
       "      <td>88</td>\n",
       "    </tr>\n",
       "    <tr>\n",
       "      <th>3648</th>\n",
       "      <td>63420</td>\n",
       "      <td>뮤직 네버 스탑 (2011)</td>\n",
       "      <td>드라마</td>\n",
       "      <td>미국</td>\n",
       "      <td>105</td>\n",
       "    </tr>\n",
       "    <tr>\n",
       "      <th>4930</th>\n",
       "      <td>78291</td>\n",
       "      <td>그루지 매치 (2013)</td>\n",
       "      <td>코미디</td>\n",
       "      <td>미국</td>\n",
       "      <td>-1</td>\n",
       "    </tr>\n",
       "    <tr>\n",
       "      <th>2986</th>\n",
       "      <td>57641</td>\n",
       "      <td>돈키호테를 죽인 사나이 (2018)</td>\n",
       "      <td>드라마</td>\n",
       "      <td>스페인,벨기에,포르투갈,영국</td>\n",
       "      <td>133</td>\n",
       "    </tr>\n",
       "  </tbody>\n",
       "</table>\n",
       "<p>292 rows × 5 columns</p>\n",
       "</div>"
      ],
      "text/plain": [
       "      itemid                      title   genres          country  running_min\n",
       "3743      91              고스트 맘마 (1996)      판타지               한국          100\n",
       "3618   83610             드래프트 데이 (2014)      드라마               미국          109\n",
       "1242  108037                 마약왕 (2017)   범죄/드라마               한국          139\n",
       "100   106123             레이디 맥베스 (2016)      드라마               영국           89\n",
       "1766   91103               대니쉬 걸 (2016)      드라마               미국          119\n",
       "...      ...                        ...      ...              ...          ...\n",
       "3084   26865  빌 머레이의 맥스군 사랑에 빠지다 (1998)  코미디/드라마               미국           -1\n",
       "5471  100205                 원스텝 (2016)      드라마               한국           88\n",
       "3648   63420            뮤직 네버 스탑 (2011)      드라마               미국          105\n",
       "4930   78291              그루지 매치 (2013)      코미디               미국           -1\n",
       "2986   57641        돈키호테를 죽인 사나이 (2018)      드라마  스페인,벨기에,포르투갈,영국          133\n",
       "\n",
       "[292 rows x 5 columns]"
      ]
     },
     "execution_count": 157,
     "metadata": {},
     "output_type": "execute_result"
    }
   ],
   "source": [
    "metadata.sample(frac=0.05)"
   ]
  },
  {
   "cell_type": "code",
   "execution_count": 156,
   "metadata": {},
   "outputs": [
    {
     "data": {
      "text/html": [
       "<div>\n",
       "<style scoped>\n",
       "    .dataframe tbody tr th:only-of-type {\n",
       "        vertical-align: middle;\n",
       "    }\n",
       "\n",
       "    .dataframe tbody tr th {\n",
       "        vertical-align: top;\n",
       "    }\n",
       "\n",
       "    .dataframe thead th {\n",
       "        text-align: right;\n",
       "    }\n",
       "</style>\n",
       "<table border=\"1\" class=\"dataframe\">\n",
       "  <thead>\n",
       "    <tr style=\"text-align: right;\">\n",
       "      <th></th>\n",
       "      <th>itemid</th>\n",
       "      <th>title</th>\n",
       "      <th>genres</th>\n",
       "      <th>country</th>\n",
       "      <th>running_min</th>\n",
       "    </tr>\n",
       "  </thead>\n",
       "  <tbody>\n",
       "    <tr>\n",
       "      <th>511</th>\n",
       "      <td>101393</td>\n",
       "      <td>캡틴 마블 (2019)</td>\n",
       "      <td>액션/어드벤처/SF</td>\n",
       "      <td>미국</td>\n",
       "      <td>123</td>\n",
       "    </tr>\n",
       "  </tbody>\n",
       "</table>\n",
       "</div>"
      ],
      "text/plain": [
       "     itemid         title      genres country  running_min\n",
       "511  101393  캡틴 마블 (2019)  액션/어드벤처/SF      미국          123"
      ]
     },
     "execution_count": 156,
     "metadata": {},
     "output_type": "execute_result"
    }
   ],
   "source": [
    "metadata[metadata['title'] == '캡틴 마블 (2019)']"
   ]
  },
  {
   "cell_type": "code",
   "execution_count": 166,
   "metadata": {},
   "outputs": [],
   "source": [
    "ratings_custom= pd.read_csv('movie.csv')\n",
    "ratings_custom['dataitgirls'] = 1 # 데잇걸즈 인 사람들만 만들기 \n",
    "ratings['dataitgirls'] = 0 # 데잇걸즈 아닌 사람들 "
   ]
  },
  {
   "cell_type": "code",
   "execution_count": 167,
   "metadata": {},
   "outputs": [
    {
     "data": {
      "text/html": [
       "<div>\n",
       "<style scoped>\n",
       "    .dataframe tbody tr th:only-of-type {\n",
       "        vertical-align: middle;\n",
       "    }\n",
       "\n",
       "    .dataframe tbody tr th {\n",
       "        vertical-align: top;\n",
       "    }\n",
       "\n",
       "    .dataframe thead th {\n",
       "        text-align: right;\n",
       "    }\n",
       "</style>\n",
       "<table border=\"1\" class=\"dataframe\">\n",
       "  <thead>\n",
       "    <tr style=\"text-align: right;\">\n",
       "      <th></th>\n",
       "      <th>userid</th>\n",
       "      <th>itemid</th>\n",
       "      <th>rating</th>\n",
       "      <th>dataitgirls</th>\n",
       "    </tr>\n",
       "  </thead>\n",
       "  <tbody>\n",
       "    <tr>\n",
       "      <th>0</th>\n",
       "      <td>adela</td>\n",
       "      <td>79544</td>\n",
       "      <td>10</td>\n",
       "      <td>1</td>\n",
       "    </tr>\n",
       "    <tr>\n",
       "      <th>1</th>\n",
       "      <td>adela</td>\n",
       "      <td>63478</td>\n",
       "      <td>2</td>\n",
       "      <td>1</td>\n",
       "    </tr>\n",
       "    <tr>\n",
       "      <th>2</th>\n",
       "      <td>adela</td>\n",
       "      <td>82344</td>\n",
       "      <td>7</td>\n",
       "      <td>1</td>\n",
       "    </tr>\n",
       "    <tr>\n",
       "      <th>3</th>\n",
       "      <td>adela</td>\n",
       "      <td>4167</td>\n",
       "      <td>10</td>\n",
       "      <td>1</td>\n",
       "    </tr>\n",
       "    <tr>\n",
       "      <th>4</th>\n",
       "      <td>adela</td>\n",
       "      <td>76467</td>\n",
       "      <td>9</td>\n",
       "      <td>1</td>\n",
       "    </tr>\n",
       "  </tbody>\n",
       "</table>\n",
       "</div>"
      ],
      "text/plain": [
       "  userid  itemid  rating  dataitgirls\n",
       "0  adela   79544      10            1\n",
       "1  adela   63478       2            1\n",
       "2  adela   82344       7            1\n",
       "3  adela    4167      10            1\n",
       "4  adela   76467       9            1"
      ]
     },
     "execution_count": 167,
     "metadata": {},
     "output_type": "execute_result"
    }
   ],
   "source": [
    "ratings_custom.head()"
   ]
  },
  {
   "cell_type": "code",
   "execution_count": 168,
   "metadata": {},
   "outputs": [],
   "source": [
    "ratings_concat = pd.concat((ratings_custom, ratings))"
   ]
  },
  {
   "cell_type": "code",
   "execution_count": 169,
   "metadata": {},
   "outputs": [
    {
     "data": {
      "text/html": [
       "<div>\n",
       "<style scoped>\n",
       "    .dataframe tbody tr th:only-of-type {\n",
       "        vertical-align: middle;\n",
       "    }\n",
       "\n",
       "    .dataframe tbody tr th {\n",
       "        vertical-align: top;\n",
       "    }\n",
       "\n",
       "    .dataframe thead th {\n",
       "        text-align: right;\n",
       "    }\n",
       "</style>\n",
       "<table border=\"1\" class=\"dataframe\">\n",
       "  <thead>\n",
       "    <tr style=\"text-align: right;\">\n",
       "      <th></th>\n",
       "      <th>userid</th>\n",
       "      <th>itemid</th>\n",
       "      <th>rating</th>\n",
       "      <th>dataitgirls</th>\n",
       "    </tr>\n",
       "  </thead>\n",
       "  <tbody>\n",
       "    <tr>\n",
       "      <th>0</th>\n",
       "      <td>adela</td>\n",
       "      <td>79544</td>\n",
       "      <td>10</td>\n",
       "      <td>1</td>\n",
       "    </tr>\n",
       "    <tr>\n",
       "      <th>1</th>\n",
       "      <td>adela</td>\n",
       "      <td>63478</td>\n",
       "      <td>2</td>\n",
       "      <td>1</td>\n",
       "    </tr>\n",
       "    <tr>\n",
       "      <th>2</th>\n",
       "      <td>adela</td>\n",
       "      <td>82344</td>\n",
       "      <td>7</td>\n",
       "      <td>1</td>\n",
       "    </tr>\n",
       "    <tr>\n",
       "      <th>3</th>\n",
       "      <td>adela</td>\n",
       "      <td>4167</td>\n",
       "      <td>10</td>\n",
       "      <td>1</td>\n",
       "    </tr>\n",
       "    <tr>\n",
       "      <th>4</th>\n",
       "      <td>adela</td>\n",
       "      <td>76467</td>\n",
       "      <td>9</td>\n",
       "      <td>1</td>\n",
       "    </tr>\n",
       "    <tr>\n",
       "      <th>5</th>\n",
       "      <td>adela</td>\n",
       "      <td>44357</td>\n",
       "      <td>7</td>\n",
       "      <td>1</td>\n",
       "    </tr>\n",
       "    <tr>\n",
       "      <th>6</th>\n",
       "      <td>adela</td>\n",
       "      <td>57645</td>\n",
       "      <td>3</td>\n",
       "      <td>1</td>\n",
       "    </tr>\n",
       "    <tr>\n",
       "      <th>7</th>\n",
       "      <td>adela</td>\n",
       "      <td>117952</td>\n",
       "      <td>10</td>\n",
       "      <td>1</td>\n",
       "    </tr>\n",
       "    <tr>\n",
       "      <th>8</th>\n",
       "      <td>bomin</td>\n",
       "      <td>127238</td>\n",
       "      <td>5</td>\n",
       "      <td>1</td>\n",
       "    </tr>\n",
       "    <tr>\n",
       "      <th>9</th>\n",
       "      <td>bomin</td>\n",
       "      <td>1660</td>\n",
       "      <td>6</td>\n",
       "      <td>1</td>\n",
       "    </tr>\n",
       "    <tr>\n",
       "      <th>10</th>\n",
       "      <td>bomin</td>\n",
       "      <td>54013</td>\n",
       "      <td>9</td>\n",
       "      <td>1</td>\n",
       "    </tr>\n",
       "    <tr>\n",
       "      <th>11</th>\n",
       "      <td>bomin</td>\n",
       "      <td>3615</td>\n",
       "      <td>8</td>\n",
       "      <td>1</td>\n",
       "    </tr>\n",
       "    <tr>\n",
       "      <th>12</th>\n",
       "      <td>bomin</td>\n",
       "      <td>70103</td>\n",
       "      <td>9</td>\n",
       "      <td>1</td>\n",
       "    </tr>\n",
       "    <tr>\n",
       "      <th>13</th>\n",
       "      <td>bomin</td>\n",
       "      <td>43985</td>\n",
       "      <td>7</td>\n",
       "      <td>1</td>\n",
       "    </tr>\n",
       "    <tr>\n",
       "      <th>14</th>\n",
       "      <td>bomin</td>\n",
       "      <td>44254</td>\n",
       "      <td>8</td>\n",
       "      <td>1</td>\n",
       "    </tr>\n",
       "    <tr>\n",
       "      <th>15</th>\n",
       "      <td>bomin</td>\n",
       "      <td>38689</td>\n",
       "      <td>4</td>\n",
       "      <td>1</td>\n",
       "    </tr>\n",
       "    <tr>\n",
       "      <th>16</th>\n",
       "      <td>bomin</td>\n",
       "      <td>83611</td>\n",
       "      <td>6</td>\n",
       "      <td>1</td>\n",
       "    </tr>\n",
       "    <tr>\n",
       "      <th>17</th>\n",
       "      <td>bomin</td>\n",
       "      <td>89720</td>\n",
       "      <td>10</td>\n",
       "      <td>1</td>\n",
       "    </tr>\n",
       "    <tr>\n",
       "      <th>18</th>\n",
       "      <td>bomin</td>\n",
       "      <td>65580</td>\n",
       "      <td>2</td>\n",
       "      <td>1</td>\n",
       "    </tr>\n",
       "    <tr>\n",
       "      <th>19</th>\n",
       "      <td>bomin</td>\n",
       "      <td>34452</td>\n",
       "      <td>0</td>\n",
       "      <td>1</td>\n",
       "    </tr>\n",
       "    <tr>\n",
       "      <th>20</th>\n",
       "      <td>bomin</td>\n",
       "      <td>100359</td>\n",
       "      <td>1</td>\n",
       "      <td>1</td>\n",
       "    </tr>\n",
       "    <tr>\n",
       "      <th>21</th>\n",
       "      <td>bomin</td>\n",
       "      <td>89204</td>\n",
       "      <td>7</td>\n",
       "      <td>1</td>\n",
       "    </tr>\n",
       "    <tr>\n",
       "      <th>22</th>\n",
       "      <td>bomin</td>\n",
       "      <td>110929</td>\n",
       "      <td>9</td>\n",
       "      <td>1</td>\n",
       "    </tr>\n",
       "    <tr>\n",
       "      <th>23</th>\n",
       "      <td>bomin</td>\n",
       "      <td>3134</td>\n",
       "      <td>7</td>\n",
       "      <td>1</td>\n",
       "    </tr>\n",
       "    <tr>\n",
       "      <th>24</th>\n",
       "      <td>chiwan</td>\n",
       "      <td>126760</td>\n",
       "      <td>8</td>\n",
       "      <td>1</td>\n",
       "    </tr>\n",
       "    <tr>\n",
       "      <th>25</th>\n",
       "      <td>chiwan</td>\n",
       "      <td>117952</td>\n",
       "      <td>8</td>\n",
       "      <td>1</td>\n",
       "    </tr>\n",
       "    <tr>\n",
       "      <th>26</th>\n",
       "      <td>chiwan</td>\n",
       "      <td>101393</td>\n",
       "      <td>8</td>\n",
       "      <td>1</td>\n",
       "    </tr>\n",
       "    <tr>\n",
       "      <th>27</th>\n",
       "      <td>chiwan</td>\n",
       "      <td>85208</td>\n",
       "      <td>9</td>\n",
       "      <td>1</td>\n",
       "    </tr>\n",
       "    <tr>\n",
       "      <th>28</th>\n",
       "      <td>chiwan</td>\n",
       "      <td>114779</td>\n",
       "      <td>9</td>\n",
       "      <td>1</td>\n",
       "    </tr>\n",
       "    <tr>\n",
       "      <th>29</th>\n",
       "      <td>chiwan</td>\n",
       "      <td>85589</td>\n",
       "      <td>9</td>\n",
       "      <td>1</td>\n",
       "    </tr>\n",
       "    <tr>\n",
       "      <th>...</th>\n",
       "      <td>...</td>\n",
       "      <td>...</td>\n",
       "      <td>...</td>\n",
       "      <td>...</td>\n",
       "    </tr>\n",
       "    <tr>\n",
       "      <th>44056</th>\n",
       "      <td>TERhUA==</td>\n",
       "      <td>52922</td>\n",
       "      <td>9</td>\n",
       "      <td>0</td>\n",
       "    </tr>\n",
       "    <tr>\n",
       "      <th>44057</th>\n",
       "      <td>Q1E0MnA=</td>\n",
       "      <td>93626</td>\n",
       "      <td>10</td>\n",
       "      <td>0</td>\n",
       "    </tr>\n",
       "    <tr>\n",
       "      <th>44058</th>\n",
       "      <td>RVBkUA==</td>\n",
       "      <td>104179</td>\n",
       "      <td>1</td>\n",
       "      <td>0</td>\n",
       "    </tr>\n",
       "    <tr>\n",
       "      <th>44059</th>\n",
       "      <td>OHYyZWc=</td>\n",
       "      <td>84102</td>\n",
       "      <td>8</td>\n",
       "      <td>0</td>\n",
       "    </tr>\n",
       "    <tr>\n",
       "      <th>44060</th>\n",
       "      <td>QTlNZA==</td>\n",
       "      <td>79223</td>\n",
       "      <td>0</td>\n",
       "      <td>0</td>\n",
       "    </tr>\n",
       "    <tr>\n",
       "      <th>44061</th>\n",
       "      <td>Q0FnMzA=</td>\n",
       "      <td>126030</td>\n",
       "      <td>9</td>\n",
       "      <td>0</td>\n",
       "    </tr>\n",
       "    <tr>\n",
       "      <th>44062</th>\n",
       "      <td>OWM5Q1U=</td>\n",
       "      <td>12546</td>\n",
       "      <td>8</td>\n",
       "      <td>0</td>\n",
       "    </tr>\n",
       "    <tr>\n",
       "      <th>44063</th>\n",
       "      <td>NVBXbUk=</td>\n",
       "      <td>119915</td>\n",
       "      <td>10</td>\n",
       "      <td>0</td>\n",
       "    </tr>\n",
       "    <tr>\n",
       "      <th>44064</th>\n",
       "      <td>NVBXbUk=</td>\n",
       "      <td>103356</td>\n",
       "      <td>10</td>\n",
       "      <td>0</td>\n",
       "    </tr>\n",
       "    <tr>\n",
       "      <th>44065</th>\n",
       "      <td>OUdDaA==</td>\n",
       "      <td>90368</td>\n",
       "      <td>10</td>\n",
       "      <td>0</td>\n",
       "    </tr>\n",
       "    <tr>\n",
       "      <th>44066</th>\n",
       "      <td>OUdDaA==</td>\n",
       "      <td>111316</td>\n",
       "      <td>9</td>\n",
       "      <td>0</td>\n",
       "    </tr>\n",
       "    <tr>\n",
       "      <th>44067</th>\n",
       "      <td>OUdDaA==</td>\n",
       "      <td>68491</td>\n",
       "      <td>8</td>\n",
       "      <td>0</td>\n",
       "    </tr>\n",
       "    <tr>\n",
       "      <th>44068</th>\n",
       "      <td>bERvVA==</td>\n",
       "      <td>103725</td>\n",
       "      <td>7</td>\n",
       "      <td>0</td>\n",
       "    </tr>\n",
       "    <tr>\n",
       "      <th>44069</th>\n",
       "      <td>MVpQeTU=</td>\n",
       "      <td>83317</td>\n",
       "      <td>8</td>\n",
       "      <td>0</td>\n",
       "    </tr>\n",
       "    <tr>\n",
       "      <th>44070</th>\n",
       "      <td>Q3ZuUkE=</td>\n",
       "      <td>96914</td>\n",
       "      <td>1</td>\n",
       "      <td>0</td>\n",
       "    </tr>\n",
       "    <tr>\n",
       "      <th>44071</th>\n",
       "      <td>RGRGSEE=</td>\n",
       "      <td>129134</td>\n",
       "      <td>9</td>\n",
       "      <td>0</td>\n",
       "    </tr>\n",
       "    <tr>\n",
       "      <th>44072</th>\n",
       "      <td>QkxiUWs=</td>\n",
       "      <td>130993</td>\n",
       "      <td>10</td>\n",
       "      <td>0</td>\n",
       "    </tr>\n",
       "    <tr>\n",
       "      <th>44073</th>\n",
       "      <td>cXp2Rw==</td>\n",
       "      <td>130993</td>\n",
       "      <td>10</td>\n",
       "      <td>0</td>\n",
       "    </tr>\n",
       "    <tr>\n",
       "      <th>44074</th>\n",
       "      <td>Q25LdTE=</td>\n",
       "      <td>134894</td>\n",
       "      <td>10</td>\n",
       "      <td>0</td>\n",
       "    </tr>\n",
       "    <tr>\n",
       "      <th>44075</th>\n",
       "      <td>QnRPd3M=</td>\n",
       "      <td>134894</td>\n",
       "      <td>10</td>\n",
       "      <td>0</td>\n",
       "    </tr>\n",
       "    <tr>\n",
       "      <th>44076</th>\n",
       "      <td>Q3VCVGQ=</td>\n",
       "      <td>134894</td>\n",
       "      <td>10</td>\n",
       "      <td>0</td>\n",
       "    </tr>\n",
       "    <tr>\n",
       "      <th>44077</th>\n",
       "      <td>RDBiZTc=</td>\n",
       "      <td>134894</td>\n",
       "      <td>10</td>\n",
       "      <td>0</td>\n",
       "    </tr>\n",
       "    <tr>\n",
       "      <th>44078</th>\n",
       "      <td>RDFRTjU=</td>\n",
       "      <td>134894</td>\n",
       "      <td>0</td>\n",
       "      <td>0</td>\n",
       "    </tr>\n",
       "    <tr>\n",
       "      <th>44079</th>\n",
       "      <td>Q2toMFo=</td>\n",
       "      <td>134894</td>\n",
       "      <td>10</td>\n",
       "      <td>0</td>\n",
       "    </tr>\n",
       "    <tr>\n",
       "      <th>44080</th>\n",
       "      <td>MkdFb2g=</td>\n",
       "      <td>87253</td>\n",
       "      <td>10</td>\n",
       "      <td>0</td>\n",
       "    </tr>\n",
       "    <tr>\n",
       "      <th>44081</th>\n",
       "      <td>Q1pramk=</td>\n",
       "      <td>87253</td>\n",
       "      <td>6</td>\n",
       "      <td>0</td>\n",
       "    </tr>\n",
       "    <tr>\n",
       "      <th>44082</th>\n",
       "      <td>Qlo0WHM=</td>\n",
       "      <td>87253</td>\n",
       "      <td>6</td>\n",
       "      <td>0</td>\n",
       "    </tr>\n",
       "    <tr>\n",
       "      <th>44083</th>\n",
       "      <td>OVdjbzY=</td>\n",
       "      <td>87253</td>\n",
       "      <td>10</td>\n",
       "      <td>0</td>\n",
       "    </tr>\n",
       "    <tr>\n",
       "      <th>44084</th>\n",
       "      <td>Q09CM1E=</td>\n",
       "      <td>127153</td>\n",
       "      <td>10</td>\n",
       "      <td>0</td>\n",
       "    </tr>\n",
       "    <tr>\n",
       "      <th>44085</th>\n",
       "      <td>N2JxUDQ=</td>\n",
       "      <td>41708</td>\n",
       "      <td>5</td>\n",
       "      <td>0</td>\n",
       "    </tr>\n",
       "  </tbody>\n",
       "</table>\n",
       "<p>44329 rows × 4 columns</p>\n",
       "</div>"
      ],
      "text/plain": [
       "         userid  itemid  rating  dataitgirls\n",
       "0         adela   79544      10            1\n",
       "1         adela   63478       2            1\n",
       "2         adela   82344       7            1\n",
       "3         adela    4167      10            1\n",
       "4         adela   76467       9            1\n",
       "...         ...     ...     ...          ...\n",
       "44081  Q1pramk=   87253       6            0\n",
       "44082  Qlo0WHM=   87253       6            0\n",
       "44083  OVdjbzY=   87253      10            0\n",
       "44084  Q09CM1E=  127153      10            0\n",
       "44085  N2JxUDQ=   41708       5            0\n",
       "\n",
       "[44329 rows x 4 columns]"
      ]
     },
     "execution_count": 169,
     "metadata": {},
     "output_type": "execute_result"
    }
   ],
   "source": [
    "ratings_concat"
   ]
  },
  {
   "cell_type": "code",
   "execution_count": 170,
   "metadata": {},
   "outputs": [],
   "source": [
    "train_ds1 = Dataset.load_from_df(\n",
    "    ratings_concat[['userid','itemid','rating']], reader).build_full_trainset()"
   ]
  },
  {
   "cell_type": "code",
   "execution_count": 171,
   "metadata": {},
   "outputs": [
    {
     "data": {
      "text/plain": [
       "<surprise.prediction_algorithms.matrix_factorization.SVD at 0x11e910950>"
      ]
     },
     "execution_count": 171,
     "metadata": {},
     "output_type": "execute_result"
    }
   ],
   "source": [
    "model = SVD(n_factors=200, n_epochs=200, random_state=17, biased=False)\n",
    "model.fit(train_ds1)"
   ]
  },
  {
   "cell_type": "code",
   "execution_count": 172,
   "metadata": {},
   "outputs": [
    {
     "data": {
      "text/plain": [
       "array([[-4.46052446e-01, -3.31851352e-01, -1.09686865e-01, ...,\n",
       "         2.72583253e-01, -1.02867815e-01, -2.68437530e-01],\n",
       "       [ 2.46932883e-03,  1.60314050e-01, -2.23159847e-01, ...,\n",
       "        -1.47223514e-01,  1.95886380e-01, -1.41909781e-01],\n",
       "       [-4.76584024e-01,  2.23122231e-01, -1.89555314e-01, ...,\n",
       "         1.53860343e-01, -5.97488884e-02, -5.97887615e-02],\n",
       "       ...,\n",
       "       [ 6.85859516e-02,  8.00609101e-02,  2.06211944e-01, ...,\n",
       "         1.63750273e-01,  3.91638640e-01,  7.92052959e-02],\n",
       "       [ 1.06733500e-01,  4.60990738e-02, -1.37311630e-01, ...,\n",
       "        -2.27669850e-04,  3.01531490e-01, -4.25526443e-01],\n",
       "       [ 1.08714979e-01, -2.51829327e-02,  4.26122573e-02, ...,\n",
       "         1.52852612e-01,  3.78494609e-01, -3.41597423e-01]])"
      ]
     },
     "execution_count": 172,
     "metadata": {},
     "output_type": "execute_result"
    }
   ],
   "source": [
    "model.pu"
   ]
  },
  {
   "cell_type": "code",
   "execution_count": 174,
   "metadata": {},
   "outputs": [
    {
     "data": {
      "text/plain": [
       "(array(['adela', 'bomin', 'chiwan', 'dahye', 'danbi', 'gilim', 'hansol',\n",
       "        'Heeyawl', 'kwang', 'mihyeon', 'minju', 'Song', 'sunmi', 'wooju',\n",
       "        'yeeun', 'yeseul'], dtype=object), 16)"
      ]
     },
     "execution_count": 174,
     "metadata": {},
     "output_type": "execute_result"
    }
   ],
   "source": [
    "people = ratings_custom['userid'].unique()\n",
    "people, len(people)"
   ]
  },
  {
   "cell_type": "code",
   "execution_count": 176,
   "metadata": {},
   "outputs": [
    {
     "data": {
      "text/plain": [
       "14"
      ]
     },
     "execution_count": 176,
     "metadata": {},
     "output_type": "execute_result"
    }
   ],
   "source": [
    "# 유저 정보를 매트릭스 상의 인덱스로 바꾸기\n",
    "train_ds1.to_inner_uid('yeeun') #이렇게 하면 아이디를 변환해줌 "
   ]
  },
  {
   "cell_type": "code",
   "execution_count": 179,
   "metadata": {},
   "outputs": [],
   "source": [
    "# 데잇걸즈 사람들 이름을 아이디로 변환해주는 함수 \n",
    "pu = []\n",
    "names = []\n",
    "for name in people:\n",
    "    names.append(name)\n",
    "    inner_uid = train_ds1.to_inner_uid(name)\n",
    "    pu.append(model.pu[inner_uid])\n"
   ]
  },
  {
   "cell_type": "code",
   "execution_count": 180,
   "metadata": {},
   "outputs": [],
   "source": [
    "df_pu = pd.DataFrame(pu)"
   ]
  },
  {
   "cell_type": "code",
   "execution_count": 181,
   "metadata": {},
   "outputs": [],
   "source": [
    "df_names = pd.DataFrame(names)"
   ]
  },
  {
   "cell_type": "code",
   "execution_count": 182,
   "metadata": {
    "collapsed": true
   },
   "outputs": [
    {
     "data": {
      "text/html": [
       "<div>\n",
       "<style scoped>\n",
       "    .dataframe tbody tr th:only-of-type {\n",
       "        vertical-align: middle;\n",
       "    }\n",
       "\n",
       "    .dataframe tbody tr th {\n",
       "        vertical-align: top;\n",
       "    }\n",
       "\n",
       "    .dataframe thead th {\n",
       "        text-align: right;\n",
       "    }\n",
       "</style>\n",
       "<table border=\"1\" class=\"dataframe\">\n",
       "  <thead>\n",
       "    <tr style=\"text-align: right;\">\n",
       "      <th></th>\n",
       "      <th>0</th>\n",
       "    </tr>\n",
       "  </thead>\n",
       "  <tbody>\n",
       "    <tr>\n",
       "      <th>0</th>\n",
       "      <td>adela</td>\n",
       "    </tr>\n",
       "    <tr>\n",
       "      <th>1</th>\n",
       "      <td>bomin</td>\n",
       "    </tr>\n",
       "    <tr>\n",
       "      <th>2</th>\n",
       "      <td>chiwan</td>\n",
       "    </tr>\n",
       "    <tr>\n",
       "      <th>3</th>\n",
       "      <td>dahye</td>\n",
       "    </tr>\n",
       "    <tr>\n",
       "      <th>4</th>\n",
       "      <td>danbi</td>\n",
       "    </tr>\n",
       "    <tr>\n",
       "      <th>5</th>\n",
       "      <td>gilim</td>\n",
       "    </tr>\n",
       "    <tr>\n",
       "      <th>6</th>\n",
       "      <td>hansol</td>\n",
       "    </tr>\n",
       "    <tr>\n",
       "      <th>7</th>\n",
       "      <td>Heeyawl</td>\n",
       "    </tr>\n",
       "    <tr>\n",
       "      <th>8</th>\n",
       "      <td>kwang</td>\n",
       "    </tr>\n",
       "    <tr>\n",
       "      <th>9</th>\n",
       "      <td>mihyeon</td>\n",
       "    </tr>\n",
       "    <tr>\n",
       "      <th>10</th>\n",
       "      <td>minju</td>\n",
       "    </tr>\n",
       "    <tr>\n",
       "      <th>11</th>\n",
       "      <td>Song</td>\n",
       "    </tr>\n",
       "    <tr>\n",
       "      <th>12</th>\n",
       "      <td>sunmi</td>\n",
       "    </tr>\n",
       "    <tr>\n",
       "      <th>13</th>\n",
       "      <td>wooju</td>\n",
       "    </tr>\n",
       "    <tr>\n",
       "      <th>14</th>\n",
       "      <td>yeeun</td>\n",
       "    </tr>\n",
       "    <tr>\n",
       "      <th>15</th>\n",
       "      <td>yeseul</td>\n",
       "    </tr>\n",
       "  </tbody>\n",
       "</table>\n",
       "</div>"
      ],
      "text/plain": [
       "          0\n",
       "0     adela\n",
       "1     bomin\n",
       "2    chiwan\n",
       "3     dahye\n",
       "4     danbi\n",
       "5     gilim\n",
       "6    hansol\n",
       "7   Heeyawl\n",
       "8     kwang\n",
       "9   mihyeon\n",
       "10    minju\n",
       "11     Song\n",
       "12    sunmi\n",
       "13    wooju\n",
       "14    yeeun\n",
       "15   yeseul"
      ]
     },
     "execution_count": 182,
     "metadata": {},
     "output_type": "execute_result"
    }
   ],
   "source": [
    "df_names"
   ]
  },
  {
   "cell_type": "code",
   "execution_count": 184,
   "metadata": {},
   "outputs": [],
   "source": [
    "df_pu.to_csv('pu.tsv', sep='\\t', index=False, header=False)\n",
    "df_names.to_csv('names.tsv', sep='\\t', index=False, header=False)"
   ]
  },
  {
   "cell_type": "code",
   "execution_count": null,
   "metadata": {},
   "outputs": [],
   "source": [
    "# https://projector.tensorflow.org/ 여기서 다시 해보자~~ \n",
    "# 값이 적을 수록 친밀한 거임! (코사인 디스턴스)"
   ]
  }
 ],
 "metadata": {
  "kernelspec": {
   "display_name": "Python 3",
   "language": "python",
   "name": "python3"
  },
  "language_info": {
   "codemirror_mode": {
    "name": "ipython",
    "version": 3
   },
   "file_extension": ".py",
   "mimetype": "text/x-python",
   "name": "python",
   "nbconvert_exporter": "python",
   "pygments_lexer": "ipython3",
   "version": "3.7.4"
  }
 },
 "nbformat": 4,
 "nbformat_minor": 4
}
