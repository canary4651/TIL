{
 "cells": [
  {
   "cell_type": "code",
   "execution_count": 2,
   "metadata": {},
   "outputs": [],
   "source": [
    "%matplotlib inline\n",
    "import pandas as pd"
   ]
  },
  {
   "cell_type": "code",
   "execution_count": 3,
   "metadata": {},
   "outputs": [],
   "source": [
    "# 메타 데이터와 학습용 평점 정보 불러오기\n",
    "metadata = pd.read_csv('metadata.csv')\n",
    "ratings = pd.read_csv('ratings-train.csv')"
   ]
  },
  {
   "cell_type": "code",
   "execution_count": 23,
   "metadata": {},
   "outputs": [
    {
     "data": {
      "text/html": [
       "<div>\n",
       "<style scoped>\n",
       "    .dataframe tbody tr th:only-of-type {\n",
       "        vertical-align: middle;\n",
       "    }\n",
       "\n",
       "    .dataframe tbody tr th {\n",
       "        vertical-align: top;\n",
       "    }\n",
       "\n",
       "    .dataframe thead th {\n",
       "        text-align: right;\n",
       "    }\n",
       "</style>\n",
       "<table border=\"1\" class=\"dataframe\">\n",
       "  <thead>\n",
       "    <tr style=\"text-align: right;\">\n",
       "      <th></th>\n",
       "      <th>itemid</th>\n",
       "      <th>title</th>\n",
       "      <th>genres</th>\n",
       "      <th>country</th>\n",
       "      <th>running_min</th>\n",
       "    </tr>\n",
       "  </thead>\n",
       "  <tbody>\n",
       "    <tr>\n",
       "      <th>0</th>\n",
       "      <td>55396</td>\n",
       "      <td>시라노;연애조작단 (2010)</td>\n",
       "      <td>로맨스/멜로/코미디</td>\n",
       "      <td>한국</td>\n",
       "      <td>121</td>\n",
       "    </tr>\n",
       "  </tbody>\n",
       "</table>\n",
       "</div>"
      ],
      "text/plain": [
       "   itemid             title      genres country  running_min\n",
       "0   55396  시라노;연애조작단 (2010)  로맨스/멜로/코미디      한국          121"
      ]
     },
     "execution_count": 23,
     "metadata": {},
     "output_type": "execute_result"
    }
   ],
   "source": [
    "metadata.head(1)"
   ]
  },
  {
   "cell_type": "code",
   "execution_count": 25,
   "metadata": {},
   "outputs": [
    {
     "data": {
      "text/html": [
       "<div>\n",
       "<style scoped>\n",
       "    .dataframe tbody tr th:only-of-type {\n",
       "        vertical-align: middle;\n",
       "    }\n",
       "\n",
       "    .dataframe tbody tr th {\n",
       "        vertical-align: top;\n",
       "    }\n",
       "\n",
       "    .dataframe thead th {\n",
       "        text-align: right;\n",
       "    }\n",
       "</style>\n",
       "<table border=\"1\" class=\"dataframe\">\n",
       "  <thead>\n",
       "    <tr style=\"text-align: right;\">\n",
       "      <th></th>\n",
       "      <th>userid</th>\n",
       "      <th>itemid</th>\n",
       "      <th>rating</th>\n",
       "    </tr>\n",
       "  </thead>\n",
       "  <tbody>\n",
       "    <tr>\n",
       "      <th>0</th>\n",
       "      <td>MVdyRkY=</td>\n",
       "      <td>55396</td>\n",
       "      <td>9</td>\n",
       "    </tr>\n",
       "  </tbody>\n",
       "</table>\n",
       "</div>"
      ],
      "text/plain": [
       "     userid  itemid  rating\n",
       "0  MVdyRkY=   55396       9"
      ]
     },
     "execution_count": 25,
     "metadata": {},
     "output_type": "execute_result"
    }
   ],
   "source": [
    "ratings.head(1)"
   ]
  },
  {
   "cell_type": "code",
   "execution_count": 4,
   "metadata": {},
   "outputs": [],
   "source": [
    "# validation용 평점 정보 불러오기\n",
    "# 데이터가 너무 크기 때문에 20%(frac = 0.2) 크기만 샘플링\n",
    "# 학습하는 모두가 같은 샘플 데이터를 갖도록 random_state를 같은 값(17)으로 고정\n",
    "ratings_valid = pd.read_csv('ratings-valid.csv').sample(random_state=17, frac=0.2)"
   ]
  },
  {
   "cell_type": "code",
   "execution_count": 5,
   "metadata": {},
   "outputs": [
    {
     "data": {
      "text/plain": [
       "<matplotlib.axes._subplots.AxesSubplot at 0x11d8d36d8>"
      ]
     },
     "execution_count": 5,
     "metadata": {},
     "output_type": "execute_result"
    },
    {
     "data": {
      "image/png": "[encoded data removed]",
      "text/plain": [
       "<Figure size 432x288 with 1 Axes>"
      ]
     },
     "metadata": {
      "needs_background": "light"
     },
     "output_type": "display_data"
    }
   ],
   "source": [
    "# 평점 정보의 분포 그려보기 (p. 20)\n",
    "ratings['rating'].hist()"
   ]
  },
  {
   "cell_type": "code",
   "execution_count": 6,
   "metadata": {},
   "outputs": [],
   "source": [
    "expected = ratings_valid[1:10]\n",
    "answer = ratings_valid[:10]"
   ]
  },
  {
   "cell_type": "code",
   "execution_count": 7,
   "metadata": {},
   "outputs": [],
   "source": [
    "# RMSE 계산하는 함수 만들기 (p. 23)\n",
    "import numpy as np\n",
    "def rmse(expected, answer):\n",
    "    joined = pd.merge(answer, expected, on=['userid', 'itemid'], how='left')\n",
    "    joined['rating_y'] = joined['rating_y'].fillna(0)\n",
    "    joined['square_error'] = (joined['rating_x'] - joined['rating_y']) ** 2\n",
    "    return np.sqrt(joined['square_error'].mean())"
   ]
  },
  {
   "cell_type": "code",
   "execution_count": 8,
   "metadata": {},
   "outputs": [
    {
     "data": {
      "text/plain": [
       "2.8460498941515415"
      ]
     },
     "execution_count": 8,
     "metadata": {},
     "output_type": "execute_result"
    }
   ],
   "source": [
    "rmse(expected, answer)"
   ]
  },
  {
   "cell_type": "code",
   "execution_count": 9,
   "metadata": {},
   "outputs": [
    {
     "data": {
      "text/plain": [
       "2.7423239390279464"
      ]
     },
     "execution_count": 9,
     "metadata": {},
     "output_type": "execute_result"
    }
   ],
   "source": [
    "# 모든 예측을 8점으로 하는 추천 로직\n",
    "def predict(u, i):\n",
    "    return 8.0\n",
    "\n",
    "expected = ratings_valid.copy()\n",
    "expected['rating'] = expected.apply(\n",
    "    lambda row: predict(row['userid'], row['itemid']), axis=1)\n",
    "\n",
    "rmse(expected, ratings_valid)"
   ]
  },
  {
   "cell_type": "code",
   "execution_count": 10,
   "metadata": {},
   "outputs": [
    {
     "data": {
      "text/plain": [
       "2.418031954051125"
      ]
     },
     "execution_count": 10,
     "metadata": {},
     "output_type": "execute_result"
    }
   ],
   "source": [
    "# 모든 예측을 전체 평점의 평균으로 계산하는 추천 로직 (p. 24)\n",
    "r_mean = ratings['rating'].mean()\n",
    "def predict(u, i):\n",
    "    return r_mean\n",
    "\n",
    "expected = ratings_valid.copy()\n",
    "expected['rating'] = expected.apply(\n",
    "    lambda row: predict(row['userid'], row['itemid']), axis=1)\n",
    "\n",
    "rmse(expected, ratings_valid)"
   ]
  },
  {
   "cell_type": "code",
   "execution_count": 11,
   "metadata": {},
   "outputs": [
    {
     "data": {
      "text/plain": [
       "2.1909154513519242"
      ]
     },
     "execution_count": 11,
     "metadata": {},
     "output_type": "execute_result"
    }
   ],
   "source": [
    "# 모든 예측을 주어진 사용자의 평균 평점으로 계산하는 추천 로직 (p. 25)\n",
    "def predict_umean(u, i):\n",
    "    return ratings[ratings['userid'] == u]['rating'].mean()\n",
    "\n",
    "expected = ratings_valid.copy()\n",
    "expected['rating'] = expected.apply(\n",
    "    lambda row: predict_umean(row['userid'], row['itemid']), axis=1)\n",
    "\n",
    "rmse(expected, ratings_valid)"
   ]
  },
  {
   "cell_type": "code",
   "execution_count": 12,
   "metadata": {},
   "outputs": [
    {
     "data": {
      "text/plain": [
       "2.237838086446809"
      ]
     },
     "execution_count": 12,
     "metadata": {},
     "output_type": "execute_result"
    }
   ],
   "source": [
    "# 모든 예측을 주어진 영화의 평균 평점으로 계산하는 추천 로직 (p. 25)\n",
    "def predict(u, i):\n",
    "    return ratings[ratings['itemid'] == i]['rating'].mean()\n",
    "\n",
    "expected = ratings_valid.copy()\n",
    "expected['rating'] = expected.apply(\n",
    "    lambda row: predict(row['userid'], row['itemid']), axis=1)\n",
    "\n",
    "rmse(expected, ratings_valid)"
   ]
  },
  {
   "cell_type": "code",
   "execution_count": 13,
   "metadata": {},
   "outputs": [],
   "source": [
    "# 서로 다른 사용자 u, v에 대해 jaccard similarity 계산하는 함수 (p. 28)\n",
    "all_users = ratings['userid'].unique()\n",
    "i_dict = {u: set(ratings[ratings['userid'] == u]['itemid']) for u in all_users}\n",
    "def sim(u, v):\n",
    "    # i_u = set(ratings[ratings['userid'] == u]['itemid'])\n",
    "    # i_v = set(ratings[ratings['userid'] == v]['itemid'])\n",
    "    i_u = i_dict[u]\n",
    "    i_v = i_dict[v]\n",
    "    \n",
    "    cup = i_u | i_v\n",
    "    if len(cup) == 0:\n",
    "        return 0.0\n",
    "    cap = i_u & i_v\n",
    "    return len(cap) / len(cup)"
   ]
  },
  {
   "cell_type": "code",
   "execution_count": 14,
   "metadata": {},
   "outputs": [
    {
     "data": {
      "text/plain": [
       "0.08333333333333333"
      ]
     },
     "execution_count": 14,
     "metadata": {},
     "output_type": "execute_result"
    }
   ],
   "source": [
    "sim('TERhUA==', 'Q1ladXM=')"
   ]
  },
  {
   "cell_type": "code",
   "execution_count": 15,
   "metadata": {},
   "outputs": [],
   "source": [
    "# 비슷한 영화를 소비한 k명의 사용자 집합 U_u를 계산하는 similar_users(u, k) 함수 (p. 29)\n",
    "def similar_users(u, k):\n",
    "    sims = sorted([(sim(u, v), v) for v in all_users if u != v], reverse=True)\n",
    "    topk_users = [v for s, v in sims][:k]\n",
    "    return pd.DataFrame(topk_users, columns=['userid'])"
   ]
  },
  {
   "cell_type": "code",
   "execution_count": 16,
   "metadata": {},
   "outputs": [
    {
     "data": {
      "text/html": [
       "<div>\n",
       "<style scoped>\n",
       "    .dataframe tbody tr th:only-of-type {\n",
       "        vertical-align: middle;\n",
       "    }\n",
       "\n",
       "    .dataframe tbody tr th {\n",
       "        vertical-align: top;\n",
       "    }\n",
       "\n",
       "    .dataframe thead th {\n",
       "        text-align: right;\n",
       "    }\n",
       "</style>\n",
       "<table border=\"1\" class=\"dataframe\">\n",
       "  <thead>\n",
       "    <tr style=\"text-align: right;\">\n",
       "      <th></th>\n",
       "      <th>userid</th>\n",
       "    </tr>\n",
       "  </thead>\n",
       "  <tbody>\n",
       "    <tr>\n",
       "      <th>0</th>\n",
       "      <td>YzkyQQ==</td>\n",
       "    </tr>\n",
       "    <tr>\n",
       "      <th>1</th>\n",
       "      <td>NGdmcVQ=</td>\n",
       "    </tr>\n",
       "    <tr>\n",
       "      <th>2</th>\n",
       "      <td>M2hETGQ=</td>\n",
       "    </tr>\n",
       "    <tr>\n",
       "      <th>3</th>\n",
       "      <td>V0NyaQ==</td>\n",
       "    </tr>\n",
       "    <tr>\n",
       "      <th>4</th>\n",
       "      <td>QTB5d0E=</td>\n",
       "    </tr>\n",
       "  </tbody>\n",
       "</table>\n",
       "</div>"
      ],
      "text/plain": [
       "     userid\n",
       "0  YzkyQQ==\n",
       "1  NGdmcVQ=\n",
       "2  M2hETGQ=\n",
       "3  V0NyaQ==\n",
       "4  QTB5d0E="
      ]
     },
     "execution_count": 16,
     "metadata": {},
     "output_type": "execute_result"
    }
   ],
   "source": [
    "similar_users('TERhUA==', 5)"
   ]
  },
  {
   "cell_type": "code",
   "execution_count": 17,
   "metadata": {},
   "outputs": [],
   "source": [
    "def predict(u, i):\n",
    "    topk_users = similar_users(u, 5)\n",
    "    topk_users['sim'] = topk_users.apply(lambda row: sim(u, row['userid']), axis=1)\n",
    "    i_ratings = ratings[ratings['itemid'] == i]\n",
    "    joined = pd.merge(topk_users, i_ratings, on='userid')\n",
    "    joined['weighted_rating'] = joined['sim'] * joined['rating']\n",
    "    return joined['weighted_rating'].sum() / joined['sim'].sum()"
   ]
  },
  {
   "cell_type": "code",
   "execution_count": 18,
   "metadata": {},
   "outputs": [
    {
     "name": "stderr",
     "output_type": "stream",
     "text": [
      "/usr/local/lib/python3.7/site-packages/ipykernel_launcher.py:7: RuntimeWarning: invalid value encountered in double_scalars\n",
      "  import sys\n"
     ]
    },
    {
     "data": {
      "text/plain": [
       "4.4360709881776135"
      ]
     },
     "execution_count": 18,
     "metadata": {},
     "output_type": "execute_result"
    }
   ],
   "source": [
    "expected = ratings_valid.copy()\n",
    "expected['rating'] = expected.apply(lambda row: predict(row['userid'], row['itemid']), axis=1)\n",
    "\n",
    "rmse(expected, ratings_valid)"
   ]
  },
  {
   "cell_type": "code",
   "execution_count": 19,
   "metadata": {},
   "outputs": [
    {
     "data": {
      "text/html": [
       "<div>\n",
       "<style scoped>\n",
       "    .dataframe tbody tr th:only-of-type {\n",
       "        vertical-align: middle;\n",
       "    }\n",
       "\n",
       "    .dataframe tbody tr th {\n",
       "        vertical-align: top;\n",
       "    }\n",
       "\n",
       "    .dataframe thead th {\n",
       "        text-align: right;\n",
       "    }\n",
       "</style>\n",
       "<table border=\"1\" class=\"dataframe\">\n",
       "  <thead>\n",
       "    <tr style=\"text-align: right;\">\n",
       "      <th></th>\n",
       "      <th>userid</th>\n",
       "      <th>itemid</th>\n",
       "      <th>rating</th>\n",
       "    </tr>\n",
       "  </thead>\n",
       "  <tbody>\n",
       "    <tr>\n",
       "      <th>38062</th>\n",
       "      <td>QnJBZXY=</td>\n",
       "      <td>53513</td>\n",
       "      <td>6</td>\n",
       "    </tr>\n",
       "  </tbody>\n",
       "</table>\n",
       "</div>"
      ],
      "text/plain": [
       "         userid  itemid  rating\n",
       "38062  QnJBZXY=   53513       6"
      ]
     },
     "execution_count": 19,
     "metadata": {},
     "output_type": "execute_result"
    }
   ],
   "source": [
    "ratings.sample()"
   ]
  },
  {
   "cell_type": "code",
   "execution_count": 38,
   "metadata": {},
   "outputs": [],
   "source": [
    "#    top_k 유저를 i 영화를 본 적이 있는 사람 중에 고른다.\n",
    "#    sum{(u와 v의 sim)(v의 i평점 - v의 전체 평점 평균)}\n",
    "#         ----------  -------      ---------------\n",
    "#    ----      1        2               3\n",
    "#      4\n",
    "#    u의 전체 영화 평균 => 5\n",
    "\n",
    "# 비슷한 영화를 소비한 k명의 사용자 집합 U_u를 계산하는 similar_users(u, k) 함수 (p. 29)\n",
    "\n",
    "\n",
    "# ----- 보민님 코드 ---\n",
    "\n",
    "# def predict_bonus(u, i):\n",
    "#     r_bar = predict_u_mean(u)\n",
    "#     topk_users = similar_users(u, 5)\n",
    "#     topk_users['sim'] = topk_users.apply(lambda row: sim(u, row['userid']), axis=1)\n",
    "#     topk_users_with_rating = topk_users.merge(ratings_valid, how='left', on='userid')\n",
    "#     topk_users_with_rating['mean'] = topk_users_with_rating.apply(lambda row: predict_u_mean(row['userid']), axis=1)\n",
    "#     topk_users_with_i_rating = topk_users_with_rating[topk_users_with_rating['itemid'] == i]\n",
    "    \n",
    "#     topk_users_with_i_rating['weighted'] = topk_users_with_i_rating['sim']*(topk_users_with_i_rating['rating']-topk_users_with_i_rating['mean'])\n",
    "    \n",
    "#     return r_bar if topk_users_with_i_rating['sim'].sum() == 0 else r_bar + topk_users_with_i_rating['weighted'].sum() / topk_users_with_i_rating['sim'].sum()\n",
    "# Collapse\n",
    "\n",
    "#---\n",
    "\n",
    "def predict_umean(u, i):\n",
    "    return ratings[ratings['userid'] == u]['rating'].mean()\n",
    "\n",
    "def similar_users(u, k, a):\n",
    "    sims = sorted([(sim(u, v), v) for v in a if u != v], reverse=True)\n",
    "    topk_users = [v for s, v in sims][:k]\n",
    "    return pd.DataFrame(topk_users, columns=['userid'])\n",
    "\n",
    "def predict(u, i):  \n",
    "    a = ratings[ratings['itemid'] == i]['userid'].unique()\n",
    "    topk_users = similar_users(u, 5, a)\n",
    "        # 1 (u와 v의 sim)\n",
    "    topk_users['sim'] = topk_users.apply(lambda row: sim(u, row['userid']), axis=1)\n",
    "    \n",
    "    # 3 (v의 전체 평점 평균)\n",
    "    \n",
    "    topk_users['mean_rate'] = topk_users.apply(lambda row: predict_umean(row['userid'], 0), axis=1)\n",
    "    \n",
    "    # 2 (i영화의 유저마다 평점)\n",
    "    i_ratings = ratings[ratings['itemid'] == i]\n",
    "    \n",
    "    joined = pd.merge(topk_users, i_ratings, on='userid')\n",
    "    \n",
    "    joined['weighted_rating'] = joined['sim'] * (joined['rating'] - joined['mean_rate'])\n",
    "   \n",
    "    # 4 \n",
    "    sum_j = joined['weighted_rating'].sum() / joined['sim'].sum()\n",
    "    \n",
    "    # 5\n",
    "    r_u_mean = predict_umean(u, 2)\n",
    "    \n",
    "    return r_u_mean + sum_j"
   ]
  },
  {
   "cell_type": "code",
   "execution_count": 39,
   "metadata": {},
   "outputs": [
    {
     "data": {
      "text/plain": [
       "2.131802386637612"
      ]
     },
     "execution_count": 39,
     "metadata": {},
     "output_type": "execute_result"
    }
   ],
   "source": [
    "expected = ratings_valid.copy()\n",
    "expected['rating'] = expected.apply(\n",
    "    lambda row: predict(row['userid'], row['itemid']), axis=1)\n",
    "\n",
    "rmse(expected, ratings_valid)"
   ]
  },
  {
   "cell_type": "code",
   "execution_count": null,
   "metadata": {},
   "outputs": [],
   "source": []
  }
 ],
 "metadata": {
  "kernelspec": {
   "display_name": "Python 3",
   "language": "python",
   "name": "python3"
  },
  "language_info": {
   "codemirror_mode": {
    "name": "ipython",
    "version": 3
   },
   "file_extension": ".py",
   "mimetype": "text/x-python",
   "name": "python",
   "nbconvert_exporter": "python",
   "pygments_lexer": "ipython3",
   "version": "3.7.4"
  }
 },
 "nbformat": 4,
 "nbformat_minor": 4
}
